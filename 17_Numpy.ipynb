{
 "cells": [
  {
   "cell_type": "markdown",
   "id": "6dc69334",
   "metadata": {},
   "source": [
    "# Introduction of Numpy."
   ]
  },
  {
   "cell_type": "markdown",
   "id": "f3a3751b",
   "metadata": {},
   "source": [
    "`Data ToolKit` : libraries which are used as data tool kit for our convenient are:\n",
    "1. `Numpy`\n",
    "2. `Pandas`\n",
    "3. `Matplotlib`\n",
    "4. `Seaborn`\n",
    "5. `Plotty`\n",
    "6. `Bokeh`"
   ]
  },
  {
   "cell_type": "markdown",
   "id": "e9d36b74",
   "metadata": {},
   "source": [
    "**CRISP-DM Framework** : Cross Industry Standard Process for data mining."
   ]
  },
  {
   "cell_type": "markdown",
   "id": "a66cfe8b",
   "metadata": {},
   "source": [
    "- Describe common approach for data mining.\n",
    "- `Data mining` : getting inside to the data.\n",
    "- A process that is used to get insights from the data.\n",
    "- Not compulsory to use... just a suggestion for our easibilty."
   ]
  },
  {
   "attachments": {
    "image.png": {
     "image/png": "[encoded data removed]"
    }
   },
   "cell_type": "markdown",
   "id": "03aa8665",
   "metadata": {},
   "source": [
    "![image.png](attachment:image.png)"
   ]
  },
  {
   "cell_type": "markdown",
   "id": "3d35ceab",
   "metadata": {},
   "source": [
    "1. `Business Understanding` : To understand the problems, growth, pattern, loss, factors, etc of any business.\n",
    "\n",
    "2. `Data Understanding` : The data you collect from business understanding and now to figure it out by statistically, plotting, graphing to make the data better understandable.\n",
    "- aka **EDA** Exploratory Data Analysis\n",
    "\n",
    "3. `Data Preparation` : Treating missing value, extreme value, duplicate value, to make the data systematic.\n",
    "\n",
    "4. `Modelling` : To model the prepared data by machine learning.\n",
    "\n",
    "5. `Evaluation` : To evaluate whether the model is hassle free not. If not , jump back to business understanding again.\n",
    "\n",
    "6. `Deployment` : After deploying the model, it will become ready to use for business."
   ]
  },
  {
   "cell_type": "markdown",
   "id": "70cb1b4c",
   "metadata": {},
   "source": [
    "### Libraries"
   ]
  },
  {
   "cell_type": "markdown",
   "id": "c3dd0459",
   "metadata": {},
   "source": [
    "`Library` : A collection of pre-written code that is used to perform commo tasks.\n",
    "- When the function are written in single script is called **Module**.\n",
    "- When all the modules are kept together is called as **Packages**.\n",
    "- Multiple package together is called a **Library**.\n",
    "\n",
    "\n",
    "_Library_ Contains python modules and packages."
   ]
  },
  {
   "cell_type": "markdown",
   "id": "8e3e189d",
   "metadata": {},
   "source": [
    "Library = Multiple Books----> Modules = Chapter/ lessons -----> Packages = Same types of books collection"
   ]
  },
  {
   "cell_type": "markdown",
   "id": "21d223f2",
   "metadata": {},
   "source": [
    "## What is numpy?"
   ]
  },
  {
   "cell_type": "markdown",
   "id": "7fa93295",
   "metadata": {},
   "source": [
    "- `NumPy` (Numerical Python) is a core library for numerical computing in Python.\n",
    "- It makes Python crazy fast and powerful for math, stats, and data science stuff.\n",
    "\n"
   ]
  },
  {
   "cell_type": "markdown",
   "id": "def63be6",
   "metadata": {},
   "source": [
    "## Why NumPy?"
   ]
  },
  {
   "cell_type": "markdown",
   "id": "c11fcb10",
   "metadata": {},
   "source": [
    "1. Speed Demon\n",
    "- `NumPy` is written in C under the hood → super fast,it means built using C, and C is one of the fastest pro. lan. so it makes NumPy computation super fast.\n",
    "- Since it stores only homogenous data i.e., array, it makes numpy array faster.\n",
    "- Way faster than native Python lists.\n",
    "- Can handle millions of rows without breaking a sweat.\n",
    "- Example: A loop taking 10 seconds in Python might take 0.01 seconds in NumPy.\n",
    "\n",
    "2. Memory Efficient\n",
    "- Uses less RAM compared to Python lists.\n",
    "- Perfect for large datasets, especially in ML / AI / Big Data.\n",
    "\n",
    "3. Powerful Math Tools\n",
    "- Matrix multiplication, dot products, eigenvalues, etc.\n",
    "- Built-in support for:\n",
    "    - Linear algebra\n",
    "    - Fourier transforms\n",
    "    - Statistics\n",
    "    - Random number generation\n",
    "\n",
    "5. Foundation of Data Science Libraries\n",
    "- Pandas, Scikit-Learn, TensorFlow, PyTorch — they all use NumPy internally.\n",
    "- No NumPy → No Data Science"
   ]
  },
  {
   "cell_type": "code",
   "execution_count": 4,
   "id": "ea9d57bd",
   "metadata": {},
   "outputs": [
    {
     "name": "stdout",
     "output_type": "stream",
     "text": [
      "Defaulting to user installation because normal site-packages is not writeable\n",
      "Requirement already satisfied: numpy in c:\\users\\dav baba\\appdata\\local\\packages\\pythonsoftwarefoundation.python.3.13_qbz5n2kfra8p0\\localcache\\local-packages\\python313\\site-packages (2.3.2)\n",
      "Note: you may need to restart the kernel to use updated packages.\n"
     ]
    },
    {
     "name": "stderr",
     "output_type": "stream",
     "text": [
      "\n",
      "[notice] A new release of pip is available: 25.1.1 -> 25.2\n",
      "[notice] To update, run: C:\\Users\\DAV BABA\\AppData\\Local\\Microsoft\\WindowsApps\\PythonSoftwareFoundation.Python.3.13_qbz5n2kfra8p0\\python.exe -m pip install --upgrade pip\n"
     ]
    }
   ],
   "source": [
    "%pip install numpy"
   ]
  },
  {
   "cell_type": "code",
   "execution_count": 5,
   "id": "fb9b2229",
   "metadata": {},
   "outputs": [],
   "source": [
    "import numpy as np"
   ]
  },
  {
   "cell_type": "code",
   "execution_count": 6,
   "id": "06247efa",
   "metadata": {},
   "outputs": [
    {
     "data": {
      "text/plain": [
       "'2.3.2'"
      ]
     },
     "execution_count": 6,
     "metadata": {},
     "output_type": "execute_result"
    }
   ],
   "source": [
    "np.__version__"
   ]
  },
  {
   "cell_type": "code",
   "execution_count": 7,
   "id": "f7f16c74",
   "metadata": {},
   "outputs": [],
   "source": [
    "lis = [1,2,3,4, \"PW\",3+5j, True, 5.6]"
   ]
  },
  {
   "cell_type": "code",
   "execution_count": 8,
   "id": "ddec5fac",
   "metadata": {},
   "outputs": [
    {
     "data": {
      "text/plain": [
       "list"
      ]
     },
     "execution_count": 8,
     "metadata": {},
     "output_type": "execute_result"
    }
   ],
   "source": [
    "type(lis)"
   ]
  },
  {
   "cell_type": "markdown",
   "id": "b2a9580c",
   "metadata": {},
   "source": [
    "- But fundamental structure of numpy is `Array`.\n",
    "- It stores the data in a numpy array."
   ]
  },
  {
   "cell_type": "markdown",
   "id": "314a741d",
   "metadata": {},
   "source": [
    "### Array"
   ]
  },
  {
   "cell_type": "markdown",
   "id": "856fbd5a",
   "metadata": {},
   "source": [
    "- Data structure or container is used to store data of same data types .\n",
    "- It stores only homogenous data. unlike list which store all kind of data heterogenous."
   ]
  },
  {
   "cell_type": "code",
   "execution_count": 9,
   "id": "87715918",
   "metadata": {},
   "outputs": [],
   "source": [
    "l = [1,2,3,4,5]"
   ]
  },
  {
   "cell_type": "code",
   "execution_count": 10,
   "id": "00e25294",
   "metadata": {},
   "outputs": [],
   "source": [
    "arr = np.array(l)"
   ]
  },
  {
   "cell_type": "code",
   "execution_count": 11,
   "id": "5ede5b75",
   "metadata": {},
   "outputs": [
    {
     "data": {
      "text/plain": [
       "array([1, 2, 3, 4, 5])"
      ]
     },
     "execution_count": 11,
     "metadata": {},
     "output_type": "execute_result"
    }
   ],
   "source": [
    "arr # here we have elements as int"
   ]
  },
  {
   "cell_type": "code",
   "execution_count": 12,
   "id": "25fe8989",
   "metadata": {},
   "outputs": [
    {
     "data": {
      "text/plain": [
       "numpy.ndarray"
      ]
     },
     "execution_count": 12,
     "metadata": {},
     "output_type": "execute_result"
    }
   ],
   "source": [
    "type(arr) #ndarray = n-dimensional array."
   ]
  },
  {
   "cell_type": "code",
   "execution_count": 13,
   "id": "f7a7725e",
   "metadata": {},
   "outputs": [],
   "source": [
    "lis = [1,2,3,4, \"PW\",3+5j, True, 5.6]"
   ]
  },
  {
   "cell_type": "code",
   "execution_count": 14,
   "id": "3dbbf4d8",
   "metadata": {},
   "outputs": [],
   "source": [
    "arry = np.array(lis) # here we got the element in str"
   ]
  },
  {
   "cell_type": "code",
   "execution_count": 15,
   "id": "3d6719c4",
   "metadata": {},
   "outputs": [
    {
     "data": {
      "text/plain": [
       "array(['1', '2', '3', '4', 'PW', '(3+5j)', 'True', '5.6'], dtype='<U64')"
      ]
     },
     "execution_count": 15,
     "metadata": {},
     "output_type": "execute_result"
    }
   ],
   "source": [
    "arry"
   ]
  },
  {
   "cell_type": "code",
   "execution_count": 16,
   "id": "65a14373",
   "metadata": {},
   "outputs": [],
   "source": [
    "l1= [1,2,3,4,5,6.7]"
   ]
  },
  {
   "cell_type": "code",
   "execution_count": 17,
   "id": "4671a82f",
   "metadata": {},
   "outputs": [],
   "source": [
    "arr2 = np.array(l1) # here we got the element as float."
   ]
  },
  {
   "cell_type": "code",
   "execution_count": 18,
   "id": "7cd8643d",
   "metadata": {},
   "outputs": [
    {
     "data": {
      "text/plain": [
       "array([1. , 2. , 3. , 4. , 5. , 6.7])"
      ]
     },
     "execution_count": 18,
     "metadata": {},
     "output_type": "execute_result"
    }
   ],
   "source": [
    "arr2"
   ]
  },
  {
   "cell_type": "markdown",
   "id": "3d1d7412",
   "metadata": {},
   "source": [
    "### n-dimensional array."
   ]
  },
  {
   "cell_type": "markdown",
   "id": "b0d01f24",
   "metadata": {},
   "source": [
    "```python\n",
    "syntax:\n",
    "arr.ndim"
   ]
  },
  {
   "cell_type": "code",
   "execution_count": 19,
   "id": "09ac3e9a",
   "metadata": {},
   "outputs": [
    {
     "data": {
      "text/plain": [
       "1"
      ]
     },
     "execution_count": 19,
     "metadata": {},
     "output_type": "execute_result"
    }
   ],
   "source": [
    "# It gives the dimension of the array\n",
    "arr.ndim # =1 because of only rows is here.\n"
   ]
  },
  {
   "cell_type": "code",
   "execution_count": 20,
   "id": "ebbc05f8",
   "metadata": {},
   "outputs": [
    {
     "data": {
      "text/plain": [
       "1"
      ]
     },
     "execution_count": 20,
     "metadata": {},
     "output_type": "execute_result"
    }
   ],
   "source": [
    "arr2.ndim\n"
   ]
  },
  {
   "cell_type": "code",
   "execution_count": 21,
   "id": "ed4435b9",
   "metadata": {},
   "outputs": [],
   "source": [
    "arr1 = np.array([[1 ,2, 3, 4], [5, 6, 7, 8]])"
   ]
  },
  {
   "cell_type": "code",
   "execution_count": 22,
   "id": "7892a60c",
   "metadata": {},
   "outputs": [
    {
     "data": {
      "text/plain": [
       "array([[1, 2, 3, 4],\n",
       "       [5, 6, 7, 8]])"
      ]
     },
     "execution_count": 22,
     "metadata": {},
     "output_type": "execute_result"
    }
   ],
   "source": [
    "arr1"
   ]
  },
  {
   "cell_type": "code",
   "execution_count": 23,
   "id": "4757f70b",
   "metadata": {},
   "outputs": [
    {
     "data": {
      "text/plain": [
       "2"
      ]
     },
     "execution_count": 23,
     "metadata": {},
     "output_type": "execute_result"
    }
   ],
   "source": [
    "arr1.ndim # = 2 >> two dimension >> rows and coloumn"
   ]
  },
  {
   "cell_type": "code",
   "execution_count": 24,
   "id": "78eb2f87",
   "metadata": {},
   "outputs": [],
   "source": [
    "mat = np.matrix([1,2,3,4]) # matrix is a specialised array of 2 dimansion"
   ]
  },
  {
   "cell_type": "code",
   "execution_count": 25,
   "id": "51b79821",
   "metadata": {},
   "outputs": [
    {
     "data": {
      "text/plain": [
       "numpy.matrix"
      ]
     },
     "execution_count": 25,
     "metadata": {},
     "output_type": "execute_result"
    }
   ],
   "source": [
    "type(mat)"
   ]
  },
  {
   "cell_type": "code",
   "execution_count": 26,
   "id": "6022d532",
   "metadata": {},
   "outputs": [
    {
     "data": {
      "text/plain": [
       "2"
      ]
     },
     "execution_count": 26,
     "metadata": {},
     "output_type": "execute_result"
    }
   ],
   "source": [
    "mat.ndim"
   ]
  },
  {
   "cell_type": "code",
   "execution_count": 27,
   "id": "8f5a3e6b",
   "metadata": {},
   "outputs": [
    {
     "data": {
      "text/plain": [
       "matrix([[1, 2, 3, 4]])"
      ]
     },
     "execution_count": 27,
     "metadata": {},
     "output_type": "execute_result"
    }
   ],
   "source": [
    "mat"
   ]
  },
  {
   "cell_type": "code",
   "execution_count": 28,
   "id": "28dbe081",
   "metadata": {},
   "outputs": [],
   "source": [
    "m = [1,2,3]"
   ]
  },
  {
   "cell_type": "code",
   "execution_count": 29,
   "id": "ed8b156c",
   "metadata": {},
   "outputs": [
    {
     "data": {
      "text/plain": [
       "array([1, 2, 3])"
      ]
     },
     "execution_count": 29,
     "metadata": {},
     "output_type": "execute_result"
    }
   ],
   "source": [
    "m1 = np.array(m)\n",
    "m1"
   ]
  },
  {
   "cell_type": "code",
   "execution_count": 30,
   "id": "debaca1b",
   "metadata": {},
   "outputs": [
    {
     "data": {
      "text/plain": [
       "1"
      ]
     },
     "execution_count": 30,
     "metadata": {},
     "output_type": "execute_result"
    }
   ],
   "source": [
    "m1.ndim # [ ] --> One dimension"
   ]
  },
  {
   "cell_type": "code",
   "execution_count": 31,
   "id": "5487a2d5",
   "metadata": {},
   "outputs": [],
   "source": [
    "m2 = [[1,2,3]]"
   ]
  },
  {
   "cell_type": "code",
   "execution_count": 32,
   "id": "76563b16",
   "metadata": {},
   "outputs": [
    {
     "data": {
      "text/plain": [
       "array([[1, 2, 3]])"
      ]
     },
     "execution_count": 32,
     "metadata": {},
     "output_type": "execute_result"
    }
   ],
   "source": [
    "m3 = np.array(m2)\n",
    "m3"
   ]
  },
  {
   "cell_type": "code",
   "execution_count": 33,
   "id": "081eea69",
   "metadata": {},
   "outputs": [
    {
     "data": {
      "text/plain": [
       "2"
      ]
     },
     "execution_count": 33,
     "metadata": {},
     "output_type": "execute_result"
    }
   ],
   "source": [
    "m3.ndim  # [[ ]] ---> Two dimension"
   ]
  },
  {
   "cell_type": "code",
   "execution_count": 34,
   "id": "8efa5c7c",
   "metadata": {},
   "outputs": [],
   "source": [
    "m4 = [[[1,2,3]]]"
   ]
  },
  {
   "cell_type": "code",
   "execution_count": 35,
   "id": "7b10a259",
   "metadata": {},
   "outputs": [
    {
     "data": {
      "text/plain": [
       "array([[[1, 2, 3]]])"
      ]
     },
     "execution_count": 35,
     "metadata": {},
     "output_type": "execute_result"
    }
   ],
   "source": [
    "m5 = np.array(m4)\n",
    "m5"
   ]
  },
  {
   "cell_type": "code",
   "execution_count": 36,
   "id": "6fa93581",
   "metadata": {},
   "outputs": [
    {
     "data": {
      "text/plain": [
       "3"
      ]
     },
     "execution_count": 36,
     "metadata": {},
     "output_type": "execute_result"
    }
   ],
   "source": [
    "m5.ndim  # [[[  ]]] ---> Three dimension"
   ]
  },
  {
   "cell_type": "code",
   "execution_count": 37,
   "id": "53869a8c",
   "metadata": {},
   "outputs": [],
   "source": [
    "# np.matrix([[[1,2], [3,4], [5,6]]])  # error matrix must be only 2-d"
   ]
  },
  {
   "cell_type": "code",
   "execution_count": 38,
   "id": "0f56c54b",
   "metadata": {},
   "outputs": [],
   "source": [
    "a = np.array([[[1,2], [3,4], [5,6]]])"
   ]
  },
  {
   "cell_type": "code",
   "execution_count": 39,
   "id": "e3c1c32c",
   "metadata": {},
   "outputs": [
    {
     "data": {
      "text/plain": [
       "array([[[1, 2],\n",
       "        [3, 4],\n",
       "        [5, 6]]])"
      ]
     },
     "execution_count": 39,
     "metadata": {},
     "output_type": "execute_result"
    }
   ],
   "source": [
    "a"
   ]
  },
  {
   "cell_type": "code",
   "execution_count": 40,
   "id": "a4397a20",
   "metadata": {},
   "outputs": [
    {
     "data": {
      "text/plain": [
       "3"
      ]
     },
     "execution_count": 40,
     "metadata": {},
     "output_type": "execute_result"
    }
   ],
   "source": [
    "a.ndim"
   ]
  },
  {
   "cell_type": "markdown",
   "id": "b2f59478",
   "metadata": {},
   "source": [
    "_More ways to convert array_\n",
    "- np.asarray()\n",
    "- np.asanyarray()\n",
    "- np.array()"
   ]
  },
  {
   "cell_type": "code",
   "execution_count": 41,
   "id": "375083f6",
   "metadata": {},
   "outputs": [
    {
     "data": {
      "text/plain": [
       "array([1, 2, 3])"
      ]
     },
     "execution_count": 41,
     "metadata": {},
     "output_type": "execute_result"
    }
   ],
   "source": [
    "l = [1 ,2, 3]\n",
    "np.asarray(l)"
   ]
  },
  {
   "cell_type": "code",
   "execution_count": 42,
   "id": "67315978",
   "metadata": {},
   "outputs": [
    {
     "data": {
      "text/plain": [
       "array([1, 2, 3])"
      ]
     },
     "execution_count": 42,
     "metadata": {},
     "output_type": "execute_result"
    }
   ],
   "source": [
    "np.asanyarray(l)"
   ]
  },
  {
   "cell_type": "markdown",
   "id": "a173fb7c",
   "metadata": {},
   "source": [
    "- If something is already in array it will not converted it , just pass it."
   ]
  },
  {
   "cell_type": "code",
   "execution_count": 43,
   "id": "dd3a3ea7",
   "metadata": {},
   "outputs": [
    {
     "data": {
      "text/plain": [
       "array([1, 2, 3])"
      ]
     },
     "execution_count": 43,
     "metadata": {},
     "output_type": "execute_result"
    }
   ],
   "source": [
    "np.asanyarray([1, 2, 3])"
   ]
  },
  {
   "cell_type": "code",
   "execution_count": 44,
   "id": "27307f01",
   "metadata": {},
   "outputs": [
    {
     "data": {
      "text/plain": [
       "matrix([[1, 2, 3, 4]])"
      ]
     },
     "execution_count": 44,
     "metadata": {},
     "output_type": "execute_result"
    }
   ],
   "source": [
    "mat"
   ]
  },
  {
   "cell_type": "code",
   "execution_count": 46,
   "id": "e58c32c1",
   "metadata": {},
   "outputs": [
    {
     "data": {
      "text/plain": [
       "matrix([[1, 2, 3, 4]])"
      ]
     },
     "execution_count": 46,
     "metadata": {},
     "output_type": "execute_result"
    }
   ],
   "source": [
    "np.asanyarray(mat)  # output in matrix, not in array"
   ]
  },
  {
   "cell_type": "code",
   "execution_count": 47,
   "id": "ee0033ba",
   "metadata": {},
   "outputs": [
    {
     "data": {
      "text/plain": [
       "tuple"
      ]
     },
     "execution_count": 47,
     "metadata": {},
     "output_type": "execute_result"
    }
   ],
   "source": [
    "t = ([1, 2, 3], [4, 5, 6])\n",
    "type(t)"
   ]
  },
  {
   "cell_type": "code",
   "execution_count": 48,
   "id": "c0ca1b81",
   "metadata": {},
   "outputs": [
    {
     "data": {
      "text/plain": [
       "array([[1, 2, 3],\n",
       "       [4, 5, 6]])"
      ]
     },
     "execution_count": 48,
     "metadata": {},
     "output_type": "execute_result"
    }
   ],
   "source": [
    "np.array(t)"
   ]
  },
  {
   "cell_type": "markdown",
   "id": "548a731a",
   "metadata": {},
   "source": [
    "### Accessing the element of array"
   ]
  },
  {
   "cell_type": "code",
   "execution_count": 49,
   "id": "a3a5249b",
   "metadata": {},
   "outputs": [
    {
     "data": {
      "text/plain": [
       "array([1, 2, 3, 4, 5])"
      ]
     },
     "execution_count": 49,
     "metadata": {},
     "output_type": "execute_result"
    }
   ],
   "source": [
    "arr"
   ]
  },
  {
   "cell_type": "code",
   "execution_count": 50,
   "id": "18f28c68",
   "metadata": {},
   "outputs": [
    {
     "data": {
      "text/plain": [
       "(np.int64(1), np.int64(3), np.int64(4))"
      ]
     },
     "execution_count": 50,
     "metadata": {},
     "output_type": "execute_result"
    }
   ],
   "source": [
    "arr[0], arr[2], arr[3]"
   ]
  },
  {
   "cell_type": "code",
   "execution_count": 51,
   "id": "43f52a26",
   "metadata": {},
   "outputs": [
    {
     "data": {
      "text/plain": [
       "np.int64(1)"
      ]
     },
     "execution_count": 51,
     "metadata": {},
     "output_type": "execute_result"
    }
   ],
   "source": [
    "arr[0]"
   ]
  },
  {
   "cell_type": "markdown",
   "id": "f7216e8b",
   "metadata": {},
   "source": [
    "### Mutability in array"
   ]
  },
  {
   "cell_type": "code",
   "execution_count": 52,
   "id": "644b1ab7",
   "metadata": {},
   "outputs": [],
   "source": [
    "arr[0] = 1000"
   ]
  },
  {
   "cell_type": "code",
   "execution_count": 53,
   "id": "6ba39180",
   "metadata": {},
   "outputs": [
    {
     "data": {
      "text/plain": [
       "array([1000,    2,    3,    4,    5])"
      ]
     },
     "execution_count": 53,
     "metadata": {},
     "output_type": "execute_result"
    }
   ],
   "source": [
    "arr"
   ]
  },
  {
   "cell_type": "markdown",
   "id": "7b006b05",
   "metadata": {},
   "source": [
    "### Shallow copy \n",
    "change in one will lead to change in other"
   ]
  },
  {
   "cell_type": "code",
   "execution_count": 54,
   "id": "adc86212",
   "metadata": {},
   "outputs": [],
   "source": [
    "a = arr # a and arr will point to same memory location. change in one will reflect in both."
   ]
  },
  {
   "cell_type": "code",
   "execution_count": 55,
   "id": "4e60ac63",
   "metadata": {},
   "outputs": [
    {
     "data": {
      "text/plain": [
       "array([1000,    2,    3,    4,    5])"
      ]
     },
     "execution_count": 55,
     "metadata": {},
     "output_type": "execute_result"
    }
   ],
   "source": [
    "a"
   ]
  },
  {
   "cell_type": "code",
   "execution_count": 56,
   "id": "eca5b95f",
   "metadata": {},
   "outputs": [
    {
     "data": {
      "text/plain": [
       "array([1000,    2,    3,    4,    5])"
      ]
     },
     "execution_count": 56,
     "metadata": {},
     "output_type": "execute_result"
    }
   ],
   "source": [
    "arr"
   ]
  },
  {
   "cell_type": "code",
   "execution_count": 57,
   "id": "bfe37c44",
   "metadata": {},
   "outputs": [],
   "source": [
    "a[1] = 2000"
   ]
  },
  {
   "cell_type": "code",
   "execution_count": 58,
   "id": "76110d98",
   "metadata": {},
   "outputs": [
    {
     "data": {
      "text/plain": [
       "array([1000, 2000,    3,    4,    5])"
      ]
     },
     "execution_count": 58,
     "metadata": {},
     "output_type": "execute_result"
    }
   ],
   "source": [
    "a"
   ]
  },
  {
   "cell_type": "code",
   "execution_count": 59,
   "id": "f1c1c18c",
   "metadata": {},
   "outputs": [
    {
     "data": {
      "text/plain": [
       "array([1000, 2000,    3,    4,    5])"
      ]
     },
     "execution_count": 59,
     "metadata": {},
     "output_type": "execute_result"
    }
   ],
   "source": [
    "arr"
   ]
  },
  {
   "cell_type": "markdown",
   "id": "990f2479",
   "metadata": {},
   "source": [
    "### Deep Copy\n",
    "Change in one will not lead to change in other.\n"
   ]
  },
  {
   "cell_type": "code",
   "execution_count": 61,
   "id": "d9693247",
   "metadata": {},
   "outputs": [
    {
     "data": {
      "text/plain": [
       "array([1000, 2000,    3,    4,    5])"
      ]
     },
     "execution_count": 61,
     "metadata": {},
     "output_type": "execute_result"
    }
   ],
   "source": [
    "arr"
   ]
  },
  {
   "cell_type": "code",
   "execution_count": 62,
   "id": "23679bd5",
   "metadata": {},
   "outputs": [],
   "source": [
    "b = arr.copy()"
   ]
  },
  {
   "cell_type": "code",
   "execution_count": 63,
   "id": "6bc0c90e",
   "metadata": {},
   "outputs": [
    {
     "data": {
      "text/plain": [
       "array([1000, 2000,    3,    4,    5])"
      ]
     },
     "execution_count": 63,
     "metadata": {},
     "output_type": "execute_result"
    }
   ],
   "source": [
    "b"
   ]
  },
  {
   "cell_type": "code",
   "execution_count": 64,
   "id": "fa08a7d8",
   "metadata": {},
   "outputs": [],
   "source": [
    "arr[2] = 3000"
   ]
  },
  {
   "cell_type": "code",
   "execution_count": 65,
   "id": "a6cd9ec4",
   "metadata": {},
   "outputs": [
    {
     "data": {
      "text/plain": [
       "array([1000, 2000, 3000,    4,    5])"
      ]
     },
     "execution_count": 65,
     "metadata": {},
     "output_type": "execute_result"
    }
   ],
   "source": [
    "arr"
   ]
  },
  {
   "cell_type": "code",
   "execution_count": 66,
   "id": "081be2c4",
   "metadata": {},
   "outputs": [
    {
     "data": {
      "text/plain": [
       "array([1000, 2000,    3,    4,    5])"
      ]
     },
     "execution_count": 66,
     "metadata": {},
     "output_type": "execute_result"
    }
   ],
   "source": [
    "b"
   ]
  },
  {
   "cell_type": "code",
   "execution_count": 67,
   "id": "dc1e8d5d",
   "metadata": {},
   "outputs": [
    {
     "data": {
      "text/plain": [
       "(np.int64(3000), np.int64(3))"
      ]
     },
     "execution_count": 67,
     "metadata": {},
     "output_type": "execute_result"
    }
   ],
   "source": [
    "arr[2] , b[2]"
   ]
  },
  {
   "cell_type": "markdown",
   "id": "b74a14bd",
   "metadata": {},
   "source": [
    "_Multiple Approaches to generate an Array_"
   ]
  },
  {
   "cell_type": "markdown",
   "id": "a27080b0",
   "metadata": {},
   "source": [
    "1. `fromfunction()` : construct an array by executing a function over each coordinates."
   ]
  },
  {
   "cell_type": "code",
   "execution_count": 70,
   "id": "6580b0d9",
   "metadata": {},
   "outputs": [
    {
     "data": {
      "text/plain": [
       "array([[ True, False, False],\n",
       "       [False,  True, False],\n",
       "       [False, False,  True]])"
      ]
     },
     "execution_count": 70,
     "metadata": {},
     "output_type": "execute_result"
    }
   ],
   "source": [
    "arr1 = np.fromfunction(lambda i, j: i==j, (3, 3))\n",
    "arr1"
   ]
  },
  {
   "cell_type": "markdown",
   "id": "b039ef0b",
   "metadata": {},
   "source": [
    "```python\n",
    "[0][0]  [0][1]  [0][2]\n",
    "[1][0]  [1][1]  [1][2]\n",
    "[2][0]  [2][1]  [2][2]\n"
   ]
  },
  {
   "cell_type": "code",
   "execution_count": 71,
   "id": "33f7edf5",
   "metadata": {},
   "outputs": [
    {
     "data": {
      "text/plain": [
       "2"
      ]
     },
     "execution_count": 71,
     "metadata": {},
     "output_type": "execute_result"
    }
   ],
   "source": [
    "arr1.ndim"
   ]
  },
  {
   "cell_type": "code",
   "execution_count": 72,
   "id": "5235143d",
   "metadata": {},
   "outputs": [
    {
     "data": {
      "text/plain": [
       "(3, 3)"
      ]
     },
     "execution_count": 72,
     "metadata": {},
     "output_type": "execute_result"
    }
   ],
   "source": [
    "arr1.shape"
   ]
  },
  {
   "cell_type": "code",
   "execution_count": 74,
   "id": "df6b0d06",
   "metadata": {},
   "outputs": [
    {
     "data": {
      "text/plain": [
       "9"
      ]
     },
     "execution_count": 74,
     "metadata": {},
     "output_type": "execute_result"
    }
   ],
   "source": [
    "arr1.size # no. of elements"
   ]
  },
  {
   "cell_type": "code",
   "execution_count": 79,
   "id": "a076f4ed",
   "metadata": {},
   "outputs": [
    {
     "data": {
      "text/plain": [
       "array([[0., 0., 0., 0.],\n",
       "       [0., 1., 2., 3.],\n",
       "       [0., 2., 4., 6.],\n",
       "       [0., 3., 6., 9.]])"
      ]
     },
     "execution_count": 79,
     "metadata": {},
     "output_type": "execute_result"
    }
   ],
   "source": [
    "arr2 = np.fromfunction(lambda i, j: i*j, (4, 4))\n",
    "arr2"
   ]
  },
  {
   "cell_type": "code",
   "execution_count": 80,
   "id": "f8b6e26d",
   "metadata": {},
   "outputs": [
    {
     "data": {
      "text/plain": [
       "2"
      ]
     },
     "execution_count": 80,
     "metadata": {},
     "output_type": "execute_result"
    }
   ],
   "source": [
    "arr2.ndim"
   ]
  },
  {
   "cell_type": "code",
   "execution_count": 81,
   "id": "be64e98e",
   "metadata": {},
   "outputs": [
    {
     "data": {
      "text/plain": [
       "(4, 4)"
      ]
     },
     "execution_count": 81,
     "metadata": {},
     "output_type": "execute_result"
    }
   ],
   "source": [
    "arr2.shape"
   ]
  },
  {
   "cell_type": "code",
   "execution_count": 82,
   "id": "9a69db48",
   "metadata": {},
   "outputs": [
    {
     "data": {
      "text/plain": [
       "16"
      ]
     },
     "execution_count": 82,
     "metadata": {},
     "output_type": "execute_result"
    }
   ],
   "source": [
    "arr2.size"
   ]
  },
  {
   "cell_type": "markdown",
   "id": "16d83583",
   "metadata": {},
   "source": [
    "2. `fromiter()` : create a new 1-D array from an iterable object.\n",
    "```python\n",
    "Syntax\n",
    "np.fromiter(iterable list, data type)"
   ]
  },
  {
   "cell_type": "code",
   "execution_count": 83,
   "id": "9e1c5677",
   "metadata": {},
   "outputs": [
    {
     "name": "stdout",
     "output_type": "stream",
     "text": [
      "0\n",
      "1\n",
      "2\n",
      "3\n",
      "4\n"
     ]
    }
   ],
   "source": [
    "for i in range(5):\n",
    "    print(i)"
   ]
  },
  {
   "cell_type": "code",
   "execution_count": 84,
   "id": "98e2c51f",
   "metadata": {},
   "outputs": [
    {
     "data": {
      "text/plain": [
       "[0, 1, 2, 3, 4]"
      ]
     },
     "execution_count": 84,
     "metadata": {},
     "output_type": "execute_result"
    }
   ],
   "source": [
    "[i for i in range(5)]"
   ]
  },
  {
   "cell_type": "code",
   "execution_count": 86,
   "id": "efaefb86",
   "metadata": {},
   "outputs": [
    {
     "data": {
      "text/plain": [
       "<generator object <genexpr> at 0x0000021C3B3A1F00>"
      ]
     },
     "execution_count": 86,
     "metadata": {},
     "output_type": "execute_result"
    }
   ],
   "source": [
    "(i for i in range(5))"
   ]
  },
  {
   "cell_type": "code",
   "execution_count": 96,
   "id": "f0876a59",
   "metadata": {},
   "outputs": [
    {
     "data": {
      "text/plain": [
       "[0, 1, 2, 3, 4]"
      ]
     },
     "execution_count": 96,
     "metadata": {},
     "output_type": "execute_result"
    }
   ],
   "source": [
    "list((i for i in range(5)))"
   ]
  },
  {
   "cell_type": "code",
   "execution_count": 97,
   "id": "6481526e",
   "metadata": {},
   "outputs": [
    {
     "data": {
      "text/plain": [
       "<generator object <genexpr> at 0x0000021C3B3A25C0>"
      ]
     },
     "execution_count": 97,
     "metadata": {},
     "output_type": "execute_result"
    }
   ],
   "source": [
    "iterator = (i for i in range(5))\n",
    "iterator"
   ]
  },
  {
   "cell_type": "code",
   "execution_count": 98,
   "id": "c1c353ab",
   "metadata": {},
   "outputs": [
    {
     "data": {
      "text/plain": [
       "array([0, 1, 2, 3, 4])"
      ]
     },
     "execution_count": 98,
     "metadata": {},
     "output_type": "execute_result"
    }
   ],
   "source": [
    "np.fromiter(iterator, int) # by default float"
   ]
  },
  {
   "cell_type": "markdown",
   "id": "c1f5ba54",
   "metadata": {},
   "source": [
    "3. `fromstring` : "
   ]
  },
  {
   "cell_type": "code",
   "execution_count": 94,
   "id": "26a59238",
   "metadata": {},
   "outputs": [
    {
     "data": {
      "text/plain": [
       "array([22., 23., 24.])"
      ]
     },
     "execution_count": 94,
     "metadata": {},
     "output_type": "execute_result"
    }
   ],
   "source": [
    "np.fromstring('22 23 24', sep = \" \") # by default in float"
   ]
  },
  {
   "cell_type": "code",
   "execution_count": 99,
   "id": "bd1ec4c0",
   "metadata": {},
   "outputs": [
    {
     "data": {
      "text/plain": [
       "array([22, 23, 24])"
      ]
     },
     "execution_count": 99,
     "metadata": {},
     "output_type": "execute_result"
    }
   ],
   "source": [
    "np.fromstring('22 23 24', sep = \" \", dtype= int)"
   ]
  },
  {
   "cell_type": "markdown",
   "id": "00ccfb68",
   "metadata": {},
   "source": [
    "_For string character, we use split_"
   ]
  },
  {
   "cell_type": "code",
   "execution_count": 100,
   "id": "6b3299e9",
   "metadata": {},
   "outputs": [
    {
     "data": {
      "text/plain": [
       "['Liza', ' Charlie', ' Zinni']"
      ]
     },
     "execution_count": 100,
     "metadata": {},
     "output_type": "execute_result"
    }
   ],
   "source": [
    "string = \"Liza, Charlie, Zinni\"\n",
    "string.split(\",\")"
   ]
  },
  {
   "cell_type": "code",
   "execution_count": 101,
   "id": "306b1bd2",
   "metadata": {},
   "outputs": [
    {
     "data": {
      "text/plain": [
       "array(['Liza', 'Charlie', 'Zinni'], dtype='<U7')"
      ]
     },
     "execution_count": 101,
     "metadata": {},
     "output_type": "execute_result"
    }
   ],
   "source": [
    "np.array(string.split(\", \"))"
   ]
  },
  {
   "cell_type": "code",
   "execution_count": 102,
   "id": "017afb69",
   "metadata": {},
   "outputs": [
    {
     "data": {
      "text/plain": [
       "[0, 1, 2, 3, 4, 5, 6, 7, 8, 9]"
      ]
     },
     "execution_count": 102,
     "metadata": {},
     "output_type": "execute_result"
    }
   ],
   "source": [
    "list(range(10))"
   ]
  },
  {
   "cell_type": "markdown",
   "id": "cecd8a30",
   "metadata": {},
   "source": [
    "- Other method to generate a sequenc of numer"
   ]
  },
  {
   "cell_type": "markdown",
   "id": "99a36e78",
   "metadata": {},
   "source": [
    "`np.arange()`"
   ]
  },
  {
   "cell_type": "code",
   "execution_count": 103,
   "id": "7f1884ba",
   "metadata": {},
   "outputs": [
    {
     "data": {
      "text/plain": [
       "array([1, 2, 3, 4, 5, 6, 7, 8, 9])"
      ]
     },
     "execution_count": 103,
     "metadata": {},
     "output_type": "execute_result"
    }
   ],
   "source": [
    "np.arange(1, 10)"
   ]
  },
  {
   "cell_type": "code",
   "execution_count": 104,
   "id": "c1d8097d",
   "metadata": {},
   "outputs": [
    {
     "data": {
      "text/plain": [
       "array([1. , 1.1, 1.2, 1.3, 1.4, 1.5, 1.6, 1.7, 1.8, 1.9, 2. , 2.1, 2.2,\n",
       "       2.3, 2.4, 2.5, 2.6, 2.7, 2.8, 2.9, 3. , 3.1, 3.2, 3.3, 3.4, 3.5,\n",
       "       3.6, 3.7, 3.8, 3.9, 4. , 4.1, 4.2, 4.3, 4.4, 4.5, 4.6, 4.7, 4.8,\n",
       "       4.9, 5. , 5.1, 5.2, 5.3, 5.4, 5.5, 5.6, 5.7, 5.8, 5.9, 6. , 6.1,\n",
       "       6.2, 6.3, 6.4, 6.5, 6.6, 6.7, 6.8, 6.9, 7. , 7.1, 7.2, 7.3, 7.4,\n",
       "       7.5, 7.6, 7.7, 7.8, 7.9, 8. , 8.1, 8.2, 8.3, 8.4, 8.5, 8.6, 8.7,\n",
       "       8.8, 8.9, 9. , 9.1, 9.2, 9.3, 9.4, 9.5, 9.6, 9.7, 9.8, 9.9])"
      ]
     },
     "execution_count": 104,
     "metadata": {},
     "output_type": "execute_result"
    }
   ],
   "source": [
    "np.arange(1, 10, 0.1)"
   ]
  },
  {
   "cell_type": "markdown",
   "id": "f27e70d3",
   "metadata": {},
   "source": [
    "`np.linspace()` : gives numbers between start and stop"
   ]
  },
  {
   "cell_type": "code",
   "execution_count": 105,
   "id": "aa97914e",
   "metadata": {},
   "outputs": [
    {
     "data": {
      "text/plain": [
       "array([1.        , 1.44444444, 1.88888889, 2.33333333, 2.77777778,\n",
       "       3.22222222, 3.66666667, 4.11111111, 4.55555556, 5.        ])"
      ]
     },
     "execution_count": 105,
     "metadata": {},
     "output_type": "execute_result"
    }
   ],
   "source": [
    "np.linspace(1,5, 10)"
   ]
  },
  {
   "cell_type": "code",
   "execution_count": null,
   "id": "f1992b9b",
   "metadata": {},
   "outputs": [],
   "source": []
  }
 ],
 "metadata": {
  "kernelspec": {
   "display_name": "Python 3",
   "language": "python",
   "name": "python3"
  },
  "language_info": {
   "codemirror_mode": {
    "name": "ipython",
    "version": 3
   },
   "file_extension": ".py",
   "mimetype": "text/x-python",
   "name": "python",
   "nbconvert_exporter": "python",
   "pygments_lexer": "ipython3",
   "version": "3.13.5"
  }
 },
 "nbformat": 4,
 "nbformat_minor": 5
}
