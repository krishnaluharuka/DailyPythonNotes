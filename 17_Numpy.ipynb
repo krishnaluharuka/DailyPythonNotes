{
 "cells": [
  {
   "cell_type": "markdown",
   "id": "6dc69334",
   "metadata": {},
   "source": [
    "# Introduction of Numpy."
   ]
  },
  {
   "cell_type": "markdown",
   "id": "21d223f2",
   "metadata": {},
   "source": [
    "## What is numpy?"
   ]
  },
  {
   "cell_type": "markdown",
   "id": "7fa93295",
   "metadata": {},
   "source": [
    "- `NumPy` (Numerical Python) is a core library for numerical computing in Python.\n",
    "- It makes Python crazy fast and powerful for math, stats, and data science stuff.\n",
    "\n"
   ]
  },
  {
   "cell_type": "markdown",
   "id": "def63be6",
   "metadata": {},
   "source": [
    "## Why NumPy?"
   ]
  },
  {
   "cell_type": "markdown",
   "id": "c11fcb10",
   "metadata": {},
   "source": [
    "1. Speed Demon\n",
    "- `NumPy` is written in C under the hood → super fast.\n",
    "- Way faster than native Python lists.\n",
    "- Can handle millions of rows without breaking a sweat.\n",
    "- Example: A loop taking 10 seconds in Python might take 0.01 seconds in NumPy.\n",
    "\n",
    "2. Memory Efficient\n",
    "- Uses less RAM compared to Python lists.\n",
    "- Perfect for large datasets, especially in ML / AI / Big Data.\n",
    "\n",
    "3. Powerful Math Tools\n",
    "- Matrix multiplication, dot products, eigenvalues, etc.\n",
    "- Built-in support for:\n",
    "    - Linear algebra\n",
    "    - Fourier transforms\n",
    "    - Statistics\n",
    "    - Random number generation\n",
    "\n",
    "5. Foundation of Data Science Libraries\n",
    "- Pandas, Scikit-Learn, TensorFlow, PyTorch — they all use NumPy internally.\n",
    "- No NumPy → No Data Science"
   ]
  },
  {
   "cell_type": "code",
   "execution_count": null,
   "id": "9f8d44ea",
   "metadata": {},
   "outputs": [],
   "source": []
  },
  {
   "cell_type": "code",
   "execution_count": null,
   "id": "685ba817",
   "metadata": {},
   "outputs": [],
   "source": []
  }
 ],
 "metadata": {
  "language_info": {
   "name": "python"
  }
 },
 "nbformat": 4,
 "nbformat_minor": 5
}
