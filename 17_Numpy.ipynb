{
 "cells": [
  {
   "cell_type": "markdown",
   "id": "6dc69334",
   "metadata": {},
   "source": [
    "# Introduction of Numpy."
   ]
  },
  {
   "cell_type": "markdown",
   "id": "f3a3751b",
   "metadata": {},
   "source": [
    "`Data ToolKit` : libraries which are used as data tool kit for our convenient are:\n",
    "1. `Numpy`\n",
    "2. `Pandas`\n",
    "3. `Matplotlib`\n",
    "4. `Seaborn`\n",
    "5. `Plotty`\n",
    "6. `Bokeh`"
   ]
  },
  {
   "cell_type": "markdown",
   "id": "e9d36b74",
   "metadata": {},
   "source": [
    "**CRISP-DM Framework** : Cross Industry Standard Process for data mining."
   ]
  },
  {
   "cell_type": "markdown",
   "id": "a66cfe8b",
   "metadata": {},
   "source": [
    "- Describe common approach for data mining.\n",
    "- `Data mining` : getting inside to the data.\n",
    "- A process that is used to get insights from the data.\n",
    "- Not compulsory to use... just a suggestion for our easibilty."
   ]
  },
  {
   "attachments": {
    "image.png": {
     "image/png": "[encoded data removed]"
    }
   },
   "cell_type": "markdown",
   "id": "03aa8665",
   "metadata": {},
   "source": [
    "![image.png](attachment:image.png)"
   ]
  },
  {
   "cell_type": "markdown",
   "id": "3d35ceab",
   "metadata": {},
   "source": [
    "1. `Business Understanding` : To understand the problems, growth, pattern, loss, factors, etc of any business.\n",
    "\n",
    "2. `Data Understanding` : The data you collect from business understanding and now to figure it out by statistically, plotting, graphing to make the data better understandable.\n",
    "- aka **EDA** Exploratory Data Analysis\n",
    "\n",
    "3. `Data Preparation` : Treating missing value, extreme value, duplicate value, to make the data systematic.\n",
    "\n",
    "4. `Modelling` : To model the prepared data by machine learning.\n",
    "\n",
    "5. `Evaluation` : To evaluate whether the model is hassle free not. If not , jump back to business understanding again.\n",
    "\n",
    "6. `Deployment` : After deploying the model, it will become ready to use for business."
   ]
  },
  {
   "cell_type": "markdown",
   "id": "70cb1b4c",
   "metadata": {},
   "source": [
    "### Libraries"
   ]
  },
  {
   "cell_type": "markdown",
   "id": "c3dd0459",
   "metadata": {},
   "source": [
    "`Library` : A collection of pre-written code that is used to perform commo tasks.\n",
    "- When the function are written in single script is called **Module**.\n",
    "- When all the modules are kept together is called as **Packages**.\n",
    "- Multiple package together is called a **Library**.\n",
    "\n",
    "\n",
    "_Library_ Contains python modules and packages."
   ]
  },
  {
   "cell_type": "markdown",
   "id": "8e3e189d",
   "metadata": {},
   "source": [
    "Library = Multiple Books----> Modules = Chapter/ lessons -----> Packages = Same types of books collection"
   ]
  },
  {
   "cell_type": "markdown",
   "id": "21d223f2",
   "metadata": {},
   "source": [
    "## What is numpy?"
   ]
  },
  {
   "cell_type": "markdown",
   "id": "7fa93295",
   "metadata": {},
   "source": [
    "- `NumPy` (Numerical Python) is a core library for numerical computing in Python.\n",
    "- It makes Python crazy fast and powerful for math, stats, and data science stuff.\n",
    "\n"
   ]
  },
  {
   "cell_type": "markdown",
   "id": "def63be6",
   "metadata": {},
   "source": [
    "## Why NumPy?"
   ]
  },
  {
   "cell_type": "markdown",
   "id": "c11fcb10",
   "metadata": {},
   "source": [
    "1. Speed Demon\n",
    "- `NumPy` is written in C under the hood → super fast,it means built using C, and C is one of the fastest pro. lan. so it makes NumPy computation super fast.\n",
    "- Since it stores only homogenous data i.e., array, it makes numpy array faster.\n",
    "- Way faster than native Python lists.\n",
    "- Can handle millions of rows without breaking a sweat.\n",
    "- Example: A loop taking 10 seconds in Python might take 0.01 seconds in NumPy.\n",
    "\n",
    "2. Memory Efficient\n",
    "- Uses less RAM compared to Python lists.\n",
    "- Perfect for large datasets, especially in ML / AI / Big Data.\n",
    "\n",
    "3. Powerful Math Tools\n",
    "- Matrix multiplication, dot products, eigenvalues, etc.\n",
    "- Built-in support for:\n",
    "    - Linear algebra\n",
    "    - Fourier transforms\n",
    "    - Statistics\n",
    "    - Random number generation\n",
    "\n",
    "5. Foundation of Data Science Libraries\n",
    "- Pandas, Scikit-Learn, TensorFlow, PyTorch — they all use NumPy internally.\n",
    "- No NumPy → No Data Science"
   ]
  },
  {
   "cell_type": "code",
   "execution_count": 1,
   "id": "ea9d57bd",
   "metadata": {},
   "outputs": [
    {
     "name": "stdout",
     "output_type": "stream",
     "text": [
      "Defaulting to user installation because normal site-packages is not writeable\n",
      "Requirement already satisfied: numpy in c:\\users\\dav baba\\appdata\\local\\packages\\pythonsoftwarefoundation.python.3.13_qbz5n2kfra8p0\\localcache\\local-packages\\python313\\site-packages (2.3.2)\n",
      "Note: you may need to restart the kernel to use updated packages.\n"
     ]
    },
    {
     "name": "stderr",
     "output_type": "stream",
     "text": [
      "\n",
      "[notice] A new release of pip is available: 25.1.1 -> 25.2\n",
      "[notice] To update, run: C:\\Users\\DAV BABA\\AppData\\Local\\Microsoft\\WindowsApps\\PythonSoftwareFoundation.Python.3.13_qbz5n2kfra8p0\\python.exe -m pip install --upgrade pip\n"
     ]
    }
   ],
   "source": [
    "%pip install numpy"
   ]
  },
  {
   "cell_type": "code",
   "execution_count": 2,
   "id": "fb9b2229",
   "metadata": {},
   "outputs": [],
   "source": [
    "import numpy as np"
   ]
  },
  {
   "cell_type": "code",
   "execution_count": 3,
   "id": "06247efa",
   "metadata": {},
   "outputs": [
    {
     "data": {
      "text/plain": [
       "'2.3.2'"
      ]
     },
     "execution_count": 3,
     "metadata": {},
     "output_type": "execute_result"
    }
   ],
   "source": [
    "np.__version__"
   ]
  },
  {
   "cell_type": "code",
   "execution_count": 4,
   "id": "f7f16c74",
   "metadata": {},
   "outputs": [],
   "source": [
    "lis = [1,2,3,4, \"PW\",3+5j, True, 5.6]"
   ]
  },
  {
   "cell_type": "code",
   "execution_count": 5,
   "id": "ddec5fac",
   "metadata": {},
   "outputs": [
    {
     "data": {
      "text/plain": [
       "list"
      ]
     },
     "execution_count": 5,
     "metadata": {},
     "output_type": "execute_result"
    }
   ],
   "source": [
    "type(lis)"
   ]
  },
  {
   "cell_type": "markdown",
   "id": "b2a9580c",
   "metadata": {},
   "source": [
    "- But fundamental structure of numpy is `Array`.\n",
    "- It stores the data in a numpy array."
   ]
  },
  {
   "cell_type": "markdown",
   "id": "314a741d",
   "metadata": {},
   "source": [
    "### Array"
   ]
  },
  {
   "cell_type": "markdown",
   "id": "856fbd5a",
   "metadata": {},
   "source": [
    "- Data structure or container is used to store data of same data types .\n",
    "- It stores only homogenous data. unlike list which store all kind of data heterogenous."
   ]
  },
  {
   "cell_type": "code",
   "execution_count": 6,
   "id": "87715918",
   "metadata": {},
   "outputs": [],
   "source": [
    "l = [1,2,3,4,5]"
   ]
  },
  {
   "cell_type": "code",
   "execution_count": 7,
   "id": "00e25294",
   "metadata": {},
   "outputs": [],
   "source": [
    "arr = np.array(l)"
   ]
  },
  {
   "cell_type": "code",
   "execution_count": 8,
   "id": "5ede5b75",
   "metadata": {},
   "outputs": [
    {
     "data": {
      "text/plain": [
       "array([1, 2, 3, 4, 5])"
      ]
     },
     "execution_count": 8,
     "metadata": {},
     "output_type": "execute_result"
    }
   ],
   "source": [
    "arr # here we have elements as int"
   ]
  },
  {
   "cell_type": "code",
   "execution_count": 9,
   "id": "25fe8989",
   "metadata": {},
   "outputs": [
    {
     "data": {
      "text/plain": [
       "numpy.ndarray"
      ]
     },
     "execution_count": 9,
     "metadata": {},
     "output_type": "execute_result"
    }
   ],
   "source": [
    "type(arr) #ndarray = n-dimensional array."
   ]
  },
  {
   "cell_type": "code",
   "execution_count": 10,
   "id": "f7a7725e",
   "metadata": {},
   "outputs": [],
   "source": [
    "lis = [1,2,3,4, \"PW\",3+5j, True, 5.6]"
   ]
  },
  {
   "cell_type": "code",
   "execution_count": 11,
   "id": "3dbbf4d8",
   "metadata": {},
   "outputs": [],
   "source": [
    "arry = np.array(lis) # here we got the element in str"
   ]
  },
  {
   "cell_type": "code",
   "execution_count": 12,
   "id": "3d6719c4",
   "metadata": {},
   "outputs": [
    {
     "data": {
      "text/plain": [
       "array(['1', '2', '3', '4', 'PW', '(3+5j)', 'True', '5.6'], dtype='<U64')"
      ]
     },
     "execution_count": 12,
     "metadata": {},
     "output_type": "execute_result"
    }
   ],
   "source": [
    "arry"
   ]
  },
  {
   "cell_type": "code",
   "execution_count": 13,
   "id": "65a14373",
   "metadata": {},
   "outputs": [],
   "source": [
    "l1= [1,2,3,4,5,6.7]"
   ]
  },
  {
   "cell_type": "code",
   "execution_count": 14,
   "id": "4671a82f",
   "metadata": {},
   "outputs": [],
   "source": [
    "arr2 = np.array(l1) # here we got the element as float."
   ]
  },
  {
   "cell_type": "code",
   "execution_count": 15,
   "id": "7cd8643d",
   "metadata": {},
   "outputs": [
    {
     "data": {
      "text/plain": [
       "array([1. , 2. , 3. , 4. , 5. , 6.7])"
      ]
     },
     "execution_count": 15,
     "metadata": {},
     "output_type": "execute_result"
    }
   ],
   "source": [
    "arr2"
   ]
  },
  {
   "cell_type": "markdown",
   "id": "3d1d7412",
   "metadata": {},
   "source": [
    "### n-dimensional array."
   ]
  },
  {
   "cell_type": "markdown",
   "id": "b0d01f24",
   "metadata": {},
   "source": [
    "```python\n",
    "syntax:\n",
    "arr.ndim"
   ]
  },
  {
   "cell_type": "code",
   "execution_count": 16,
   "id": "09ac3e9a",
   "metadata": {},
   "outputs": [
    {
     "data": {
      "text/plain": [
       "1"
      ]
     },
     "execution_count": 16,
     "metadata": {},
     "output_type": "execute_result"
    }
   ],
   "source": [
    "# It gives the dimension of the array\n",
    "arr.ndim # =1 because of only rows is here.\n"
   ]
  },
  {
   "cell_type": "code",
   "execution_count": 17,
   "id": "ebbc05f8",
   "metadata": {},
   "outputs": [
    {
     "data": {
      "text/plain": [
       "1"
      ]
     },
     "execution_count": 17,
     "metadata": {},
     "output_type": "execute_result"
    }
   ],
   "source": [
    "arr2.ndim\n"
   ]
  },
  {
   "cell_type": "code",
   "execution_count": 18,
   "id": "ed4435b9",
   "metadata": {},
   "outputs": [],
   "source": [
    "arr1 = np.array([[1 ,2, 3, 4], [5, 6, 7, 8]])"
   ]
  },
  {
   "cell_type": "code",
   "execution_count": 19,
   "id": "7892a60c",
   "metadata": {},
   "outputs": [
    {
     "data": {
      "text/plain": [
       "array([[1, 2, 3, 4],\n",
       "       [5, 6, 7, 8]])"
      ]
     },
     "execution_count": 19,
     "metadata": {},
     "output_type": "execute_result"
    }
   ],
   "source": [
    "arr1"
   ]
  },
  {
   "cell_type": "code",
   "execution_count": 20,
   "id": "4757f70b",
   "metadata": {},
   "outputs": [
    {
     "data": {
      "text/plain": [
       "2"
      ]
     },
     "execution_count": 20,
     "metadata": {},
     "output_type": "execute_result"
    }
   ],
   "source": [
    "arr1.ndim # = 2 >> two dimension >> rows and coloumn"
   ]
  },
  {
   "cell_type": "code",
   "execution_count": 21,
   "id": "78eb2f87",
   "metadata": {},
   "outputs": [],
   "source": [
    "mat = np.matrix([1,2,3,4]) # matrix is a specialised array of 2 dimansion"
   ]
  },
  {
   "cell_type": "code",
   "execution_count": 22,
   "id": "51b79821",
   "metadata": {},
   "outputs": [
    {
     "data": {
      "text/plain": [
       "numpy.matrix"
      ]
     },
     "execution_count": 22,
     "metadata": {},
     "output_type": "execute_result"
    }
   ],
   "source": [
    "type(mat)"
   ]
  },
  {
   "cell_type": "code",
   "execution_count": 23,
   "id": "6022d532",
   "metadata": {},
   "outputs": [
    {
     "data": {
      "text/plain": [
       "2"
      ]
     },
     "execution_count": 23,
     "metadata": {},
     "output_type": "execute_result"
    }
   ],
   "source": [
    "mat.ndim"
   ]
  },
  {
   "cell_type": "code",
   "execution_count": 24,
   "id": "8f5a3e6b",
   "metadata": {},
   "outputs": [
    {
     "data": {
      "text/plain": [
       "matrix([[1, 2, 3, 4]])"
      ]
     },
     "execution_count": 24,
     "metadata": {},
     "output_type": "execute_result"
    }
   ],
   "source": [
    "mat"
   ]
  },
  {
   "cell_type": "code",
   "execution_count": 25,
   "id": "28dbe081",
   "metadata": {},
   "outputs": [],
   "source": [
    "m = [1,2,3]"
   ]
  },
  {
   "cell_type": "code",
   "execution_count": 26,
   "id": "ed8b156c",
   "metadata": {},
   "outputs": [
    {
     "data": {
      "text/plain": [
       "array([1, 2, 3])"
      ]
     },
     "execution_count": 26,
     "metadata": {},
     "output_type": "execute_result"
    }
   ],
   "source": [
    "m1 = np.array(m)\n",
    "m1"
   ]
  },
  {
   "cell_type": "code",
   "execution_count": 27,
   "id": "debaca1b",
   "metadata": {},
   "outputs": [
    {
     "data": {
      "text/plain": [
       "1"
      ]
     },
     "execution_count": 27,
     "metadata": {},
     "output_type": "execute_result"
    }
   ],
   "source": [
    "m1.ndim # [ ] --> One dimension"
   ]
  },
  {
   "cell_type": "code",
   "execution_count": 28,
   "id": "5487a2d5",
   "metadata": {},
   "outputs": [],
   "source": [
    "m2 = [[1,2,3]]"
   ]
  },
  {
   "cell_type": "code",
   "execution_count": 29,
   "id": "76563b16",
   "metadata": {},
   "outputs": [
    {
     "data": {
      "text/plain": [
       "array([[1, 2, 3]])"
      ]
     },
     "execution_count": 29,
     "metadata": {},
     "output_type": "execute_result"
    }
   ],
   "source": [
    "m3 = np.array(m2)\n",
    "m3"
   ]
  },
  {
   "cell_type": "code",
   "execution_count": 30,
   "id": "081eea69",
   "metadata": {},
   "outputs": [
    {
     "data": {
      "text/plain": [
       "2"
      ]
     },
     "execution_count": 30,
     "metadata": {},
     "output_type": "execute_result"
    }
   ],
   "source": [
    "m3.ndim  # [[ ]] ---> Two dimension"
   ]
  },
  {
   "cell_type": "code",
   "execution_count": 31,
   "id": "8efa5c7c",
   "metadata": {},
   "outputs": [],
   "source": [
    "m4 = [[[1,2,3]]]"
   ]
  },
  {
   "cell_type": "code",
   "execution_count": 32,
   "id": "7b10a259",
   "metadata": {},
   "outputs": [
    {
     "data": {
      "text/plain": [
       "array([[[1, 2, 3]]])"
      ]
     },
     "execution_count": 32,
     "metadata": {},
     "output_type": "execute_result"
    }
   ],
   "source": [
    "m5 = np.array(m4)\n",
    "m5"
   ]
  },
  {
   "cell_type": "code",
   "execution_count": 33,
   "id": "6fa93581",
   "metadata": {},
   "outputs": [
    {
     "data": {
      "text/plain": [
       "3"
      ]
     },
     "execution_count": 33,
     "metadata": {},
     "output_type": "execute_result"
    }
   ],
   "source": [
    "m5.ndim  # [[[  ]]] ---> Three dimension"
   ]
  },
  {
   "cell_type": "code",
   "execution_count": 34,
   "id": "53869a8c",
   "metadata": {},
   "outputs": [],
   "source": [
    "# np.matrix([[[1,2], [3,4], [5,6]]])  # error matrix must be only 2-d"
   ]
  },
  {
   "cell_type": "code",
   "execution_count": 35,
   "id": "0f56c54b",
   "metadata": {},
   "outputs": [],
   "source": [
    "a = np.array([[[1,2], [3,4], [5,6]]])"
   ]
  },
  {
   "cell_type": "code",
   "execution_count": 36,
   "id": "e3c1c32c",
   "metadata": {},
   "outputs": [
    {
     "data": {
      "text/plain": [
       "array([[[1, 2],\n",
       "        [3, 4],\n",
       "        [5, 6]]])"
      ]
     },
     "execution_count": 36,
     "metadata": {},
     "output_type": "execute_result"
    }
   ],
   "source": [
    "a"
   ]
  },
  {
   "cell_type": "code",
   "execution_count": 37,
   "id": "a4397a20",
   "metadata": {},
   "outputs": [
    {
     "data": {
      "text/plain": [
       "3"
      ]
     },
     "execution_count": 37,
     "metadata": {},
     "output_type": "execute_result"
    }
   ],
   "source": [
    "a.ndim"
   ]
  },
  {
   "cell_type": "markdown",
   "id": "b2f59478",
   "metadata": {},
   "source": [
    "_More ways to convert array_\n",
    "- np.asarray()\n",
    "- np.asanyarray()\n",
    "- np.array()"
   ]
  },
  {
   "cell_type": "code",
   "execution_count": 38,
   "id": "375083f6",
   "metadata": {},
   "outputs": [
    {
     "data": {
      "text/plain": [
       "array([1, 2, 3])"
      ]
     },
     "execution_count": 38,
     "metadata": {},
     "output_type": "execute_result"
    }
   ],
   "source": [
    "l = [1 ,2, 3]\n",
    "np.asarray(l)"
   ]
  },
  {
   "cell_type": "code",
   "execution_count": 39,
   "id": "67315978",
   "metadata": {},
   "outputs": [
    {
     "data": {
      "text/plain": [
       "array([1, 2, 3])"
      ]
     },
     "execution_count": 39,
     "metadata": {},
     "output_type": "execute_result"
    }
   ],
   "source": [
    "np.asanyarray(l)"
   ]
  },
  {
   "cell_type": "markdown",
   "id": "a173fb7c",
   "metadata": {},
   "source": [
    "- If something is already in array it will not converted it , just pass it."
   ]
  },
  {
   "cell_type": "code",
   "execution_count": 40,
   "id": "dd3a3ea7",
   "metadata": {},
   "outputs": [
    {
     "data": {
      "text/plain": [
       "array([1, 2, 3])"
      ]
     },
     "execution_count": 40,
     "metadata": {},
     "output_type": "execute_result"
    }
   ],
   "source": [
    "np.asanyarray([1, 2, 3])"
   ]
  },
  {
   "cell_type": "code",
   "execution_count": 41,
   "id": "27307f01",
   "metadata": {},
   "outputs": [
    {
     "data": {
      "text/plain": [
       "matrix([[1, 2, 3, 4]])"
      ]
     },
     "execution_count": 41,
     "metadata": {},
     "output_type": "execute_result"
    }
   ],
   "source": [
    "mat"
   ]
  },
  {
   "cell_type": "code",
   "execution_count": 42,
   "id": "e58c32c1",
   "metadata": {},
   "outputs": [
    {
     "data": {
      "text/plain": [
       "matrix([[1, 2, 3, 4]])"
      ]
     },
     "execution_count": 42,
     "metadata": {},
     "output_type": "execute_result"
    }
   ],
   "source": [
    "np.asanyarray(mat)  # output in matrix, not in array"
   ]
  },
  {
   "cell_type": "code",
   "execution_count": 43,
   "id": "ee0033ba",
   "metadata": {},
   "outputs": [
    {
     "data": {
      "text/plain": [
       "tuple"
      ]
     },
     "execution_count": 43,
     "metadata": {},
     "output_type": "execute_result"
    }
   ],
   "source": [
    "t = ([1, 2, 3], [4, 5, 6])\n",
    "type(t)"
   ]
  },
  {
   "cell_type": "code",
   "execution_count": 44,
   "id": "c0ca1b81",
   "metadata": {},
   "outputs": [
    {
     "data": {
      "text/plain": [
       "array([[1, 2, 3],\n",
       "       [4, 5, 6]])"
      ]
     },
     "execution_count": 44,
     "metadata": {},
     "output_type": "execute_result"
    }
   ],
   "source": [
    "np.array(t)"
   ]
  },
  {
   "cell_type": "markdown",
   "id": "548a731a",
   "metadata": {},
   "source": [
    "### Accessing the element of array"
   ]
  },
  {
   "cell_type": "code",
   "execution_count": 45,
   "id": "a3a5249b",
   "metadata": {},
   "outputs": [
    {
     "data": {
      "text/plain": [
       "array([1, 2, 3, 4, 5])"
      ]
     },
     "execution_count": 45,
     "metadata": {},
     "output_type": "execute_result"
    }
   ],
   "source": [
    "arr"
   ]
  },
  {
   "cell_type": "code",
   "execution_count": 46,
   "id": "18f28c68",
   "metadata": {},
   "outputs": [
    {
     "data": {
      "text/plain": [
       "(np.int64(1), np.int64(3), np.int64(4))"
      ]
     },
     "execution_count": 46,
     "metadata": {},
     "output_type": "execute_result"
    }
   ],
   "source": [
    "arr[0], arr[2], arr[3]"
   ]
  },
  {
   "cell_type": "code",
   "execution_count": 47,
   "id": "43f52a26",
   "metadata": {},
   "outputs": [
    {
     "data": {
      "text/plain": [
       "np.int64(1)"
      ]
     },
     "execution_count": 47,
     "metadata": {},
     "output_type": "execute_result"
    }
   ],
   "source": [
    "arr[0]"
   ]
  },
  {
   "cell_type": "markdown",
   "id": "f7216e8b",
   "metadata": {},
   "source": [
    "### Mutability in array"
   ]
  },
  {
   "cell_type": "code",
   "execution_count": 48,
   "id": "644b1ab7",
   "metadata": {},
   "outputs": [],
   "source": [
    "arr[0] = 1000"
   ]
  },
  {
   "cell_type": "code",
   "execution_count": 49,
   "id": "6ba39180",
   "metadata": {},
   "outputs": [
    {
     "data": {
      "text/plain": [
       "array([1000,    2,    3,    4,    5])"
      ]
     },
     "execution_count": 49,
     "metadata": {},
     "output_type": "execute_result"
    }
   ],
   "source": [
    "arr"
   ]
  },
  {
   "cell_type": "markdown",
   "id": "7b006b05",
   "metadata": {},
   "source": [
    "### Shallow copy \n",
    "change in one will lead to change in other"
   ]
  },
  {
   "cell_type": "code",
   "execution_count": 50,
   "id": "adc86212",
   "metadata": {},
   "outputs": [],
   "source": [
    "a = arr # a and arr will point to same memory location. change in one will reflect in both."
   ]
  },
  {
   "cell_type": "code",
   "execution_count": 51,
   "id": "4e60ac63",
   "metadata": {},
   "outputs": [
    {
     "data": {
      "text/plain": [
       "array([1000,    2,    3,    4,    5])"
      ]
     },
     "execution_count": 51,
     "metadata": {},
     "output_type": "execute_result"
    }
   ],
   "source": [
    "a"
   ]
  },
  {
   "cell_type": "code",
   "execution_count": 52,
   "id": "eca5b95f",
   "metadata": {},
   "outputs": [
    {
     "data": {
      "text/plain": [
       "array([1000,    2,    3,    4,    5])"
      ]
     },
     "execution_count": 52,
     "metadata": {},
     "output_type": "execute_result"
    }
   ],
   "source": [
    "arr"
   ]
  },
  {
   "cell_type": "code",
   "execution_count": 53,
   "id": "bfe37c44",
   "metadata": {},
   "outputs": [],
   "source": [
    "a[1] = 2000"
   ]
  },
  {
   "cell_type": "code",
   "execution_count": 54,
   "id": "76110d98",
   "metadata": {},
   "outputs": [
    {
     "data": {
      "text/plain": [
       "array([1000, 2000,    3,    4,    5])"
      ]
     },
     "execution_count": 54,
     "metadata": {},
     "output_type": "execute_result"
    }
   ],
   "source": [
    "a"
   ]
  },
  {
   "cell_type": "code",
   "execution_count": 55,
   "id": "f1c1c18c",
   "metadata": {},
   "outputs": [
    {
     "data": {
      "text/plain": [
       "array([1000, 2000,    3,    4,    5])"
      ]
     },
     "execution_count": 55,
     "metadata": {},
     "output_type": "execute_result"
    }
   ],
   "source": [
    "arr"
   ]
  },
  {
   "cell_type": "markdown",
   "id": "990f2479",
   "metadata": {},
   "source": [
    "### Deep Copy\n",
    "Change in one will not lead to change in other.\n"
   ]
  },
  {
   "cell_type": "code",
   "execution_count": 56,
   "id": "d9693247",
   "metadata": {},
   "outputs": [
    {
     "data": {
      "text/plain": [
       "array([1000, 2000,    3,    4,    5])"
      ]
     },
     "execution_count": 56,
     "metadata": {},
     "output_type": "execute_result"
    }
   ],
   "source": [
    "arr"
   ]
  },
  {
   "cell_type": "code",
   "execution_count": 57,
   "id": "23679bd5",
   "metadata": {},
   "outputs": [],
   "source": [
    "b = arr.copy()"
   ]
  },
  {
   "cell_type": "code",
   "execution_count": 58,
   "id": "6bc0c90e",
   "metadata": {},
   "outputs": [
    {
     "data": {
      "text/plain": [
       "array([1000, 2000,    3,    4,    5])"
      ]
     },
     "execution_count": 58,
     "metadata": {},
     "output_type": "execute_result"
    }
   ],
   "source": [
    "b"
   ]
  },
  {
   "cell_type": "code",
   "execution_count": 59,
   "id": "fa08a7d8",
   "metadata": {},
   "outputs": [],
   "source": [
    "arr[2] = 3000"
   ]
  },
  {
   "cell_type": "code",
   "execution_count": 60,
   "id": "a6cd9ec4",
   "metadata": {},
   "outputs": [
    {
     "data": {
      "text/plain": [
       "array([1000, 2000, 3000,    4,    5])"
      ]
     },
     "execution_count": 60,
     "metadata": {},
     "output_type": "execute_result"
    }
   ],
   "source": [
    "arr"
   ]
  },
  {
   "cell_type": "code",
   "execution_count": 61,
   "id": "081be2c4",
   "metadata": {},
   "outputs": [
    {
     "data": {
      "text/plain": [
       "array([1000, 2000,    3,    4,    5])"
      ]
     },
     "execution_count": 61,
     "metadata": {},
     "output_type": "execute_result"
    }
   ],
   "source": [
    "b"
   ]
  },
  {
   "cell_type": "code",
   "execution_count": 62,
   "id": "dc1e8d5d",
   "metadata": {},
   "outputs": [
    {
     "data": {
      "text/plain": [
       "(np.int64(3000), np.int64(3))"
      ]
     },
     "execution_count": 62,
     "metadata": {},
     "output_type": "execute_result"
    }
   ],
   "source": [
    "arr[2] , b[2]"
   ]
  },
  {
   "cell_type": "markdown",
   "id": "b74a14bd",
   "metadata": {},
   "source": [
    "_Multiple Approaches to generate an Array_"
   ]
  },
  {
   "cell_type": "markdown",
   "id": "a27080b0",
   "metadata": {},
   "source": [
    "1. `fromfunction()` : construct an array by executing a function over each coordinates."
   ]
  },
  {
   "cell_type": "code",
   "execution_count": 63,
   "id": "6580b0d9",
   "metadata": {},
   "outputs": [
    {
     "data": {
      "text/plain": [
       "array([[ True, False, False],\n",
       "       [False,  True, False],\n",
       "       [False, False,  True]])"
      ]
     },
     "execution_count": 63,
     "metadata": {},
     "output_type": "execute_result"
    }
   ],
   "source": [
    "arr1 = np.fromfunction(lambda i, j: i==j, (3, 3))\n",
    "arr1"
   ]
  },
  {
   "cell_type": "markdown",
   "id": "b039ef0b",
   "metadata": {},
   "source": [
    "```python\n",
    "[0][0]  [0][1]  [0][2]\n",
    "[1][0]  [1][1]  [1][2]\n",
    "[2][0]  [2][1]  [2][2]\n"
   ]
  },
  {
   "cell_type": "code",
   "execution_count": 64,
   "id": "33f7edf5",
   "metadata": {},
   "outputs": [
    {
     "data": {
      "text/plain": [
       "2"
      ]
     },
     "execution_count": 64,
     "metadata": {},
     "output_type": "execute_result"
    }
   ],
   "source": [
    "arr1.ndim"
   ]
  },
  {
   "cell_type": "code",
   "execution_count": 65,
   "id": "5235143d",
   "metadata": {},
   "outputs": [
    {
     "data": {
      "text/plain": [
       "(3, 3)"
      ]
     },
     "execution_count": 65,
     "metadata": {},
     "output_type": "execute_result"
    }
   ],
   "source": [
    "arr1.shape"
   ]
  },
  {
   "cell_type": "code",
   "execution_count": 66,
   "id": "df6b0d06",
   "metadata": {},
   "outputs": [
    {
     "data": {
      "text/plain": [
       "9"
      ]
     },
     "execution_count": 66,
     "metadata": {},
     "output_type": "execute_result"
    }
   ],
   "source": [
    "arr1.size # no. of elements"
   ]
  },
  {
   "cell_type": "code",
   "execution_count": 67,
   "id": "a076f4ed",
   "metadata": {},
   "outputs": [
    {
     "data": {
      "text/plain": [
       "array([[0., 0., 0., 0.],\n",
       "       [0., 1., 2., 3.],\n",
       "       [0., 2., 4., 6.],\n",
       "       [0., 3., 6., 9.]])"
      ]
     },
     "execution_count": 67,
     "metadata": {},
     "output_type": "execute_result"
    }
   ],
   "source": [
    "arr2 = np.fromfunction(lambda i, j: i*j, (4, 4))\n",
    "arr2"
   ]
  },
  {
   "cell_type": "code",
   "execution_count": 68,
   "id": "f8b6e26d",
   "metadata": {},
   "outputs": [
    {
     "data": {
      "text/plain": [
       "2"
      ]
     },
     "execution_count": 68,
     "metadata": {},
     "output_type": "execute_result"
    }
   ],
   "source": [
    "arr2.ndim"
   ]
  },
  {
   "cell_type": "code",
   "execution_count": 69,
   "id": "be64e98e",
   "metadata": {},
   "outputs": [
    {
     "data": {
      "text/plain": [
       "(4, 4)"
      ]
     },
     "execution_count": 69,
     "metadata": {},
     "output_type": "execute_result"
    }
   ],
   "source": [
    "arr2.shape"
   ]
  },
  {
   "cell_type": "code",
   "execution_count": 70,
   "id": "9a69db48",
   "metadata": {},
   "outputs": [
    {
     "data": {
      "text/plain": [
       "16"
      ]
     },
     "execution_count": 70,
     "metadata": {},
     "output_type": "execute_result"
    }
   ],
   "source": [
    "arr2.size"
   ]
  },
  {
   "cell_type": "markdown",
   "id": "16d83583",
   "metadata": {},
   "source": [
    "2. `fromiter()` : create a new 1-D array from an iterable object.\n",
    "```python\n",
    "Syntax\n",
    "np.fromiter(iterable list, data type)"
   ]
  },
  {
   "cell_type": "code",
   "execution_count": 71,
   "id": "9e1c5677",
   "metadata": {},
   "outputs": [
    {
     "name": "stdout",
     "output_type": "stream",
     "text": [
      "0\n",
      "1\n",
      "2\n",
      "3\n",
      "4\n"
     ]
    }
   ],
   "source": [
    "for i in range(5):\n",
    "    print(i)"
   ]
  },
  {
   "cell_type": "code",
   "execution_count": 72,
   "id": "98e2c51f",
   "metadata": {},
   "outputs": [
    {
     "data": {
      "text/plain": [
       "[0, 1, 2, 3, 4]"
      ]
     },
     "execution_count": 72,
     "metadata": {},
     "output_type": "execute_result"
    }
   ],
   "source": [
    "[i for i in range(5)]"
   ]
  },
  {
   "cell_type": "code",
   "execution_count": 73,
   "id": "efaefb86",
   "metadata": {},
   "outputs": [
    {
     "data": {
      "text/plain": [
       "<generator object <genexpr> at 0x00000220D725A680>"
      ]
     },
     "execution_count": 73,
     "metadata": {},
     "output_type": "execute_result"
    }
   ],
   "source": [
    "(i for i in range(5))"
   ]
  },
  {
   "cell_type": "code",
   "execution_count": 74,
   "id": "f0876a59",
   "metadata": {},
   "outputs": [
    {
     "data": {
      "text/plain": [
       "[0, 1, 2, 3, 4]"
      ]
     },
     "execution_count": 74,
     "metadata": {},
     "output_type": "execute_result"
    }
   ],
   "source": [
    "list((i for i in range(5)))"
   ]
  },
  {
   "cell_type": "code",
   "execution_count": 75,
   "id": "6481526e",
   "metadata": {},
   "outputs": [
    {
     "data": {
      "text/plain": [
       "<generator object <genexpr> at 0x00000220D725ABC0>"
      ]
     },
     "execution_count": 75,
     "metadata": {},
     "output_type": "execute_result"
    }
   ],
   "source": [
    "iterator = (i for i in range(5))\n",
    "iterator"
   ]
  },
  {
   "cell_type": "code",
   "execution_count": 76,
   "id": "c1c353ab",
   "metadata": {},
   "outputs": [
    {
     "data": {
      "text/plain": [
       "array([0, 1, 2, 3, 4])"
      ]
     },
     "execution_count": 76,
     "metadata": {},
     "output_type": "execute_result"
    }
   ],
   "source": [
    "np.fromiter(iterator, int) # by default float"
   ]
  },
  {
   "cell_type": "markdown",
   "id": "c1f5ba54",
   "metadata": {},
   "source": [
    "3. `fromstring` : "
   ]
  },
  {
   "cell_type": "code",
   "execution_count": 77,
   "id": "26a59238",
   "metadata": {},
   "outputs": [
    {
     "data": {
      "text/plain": [
       "array([22., 23., 24.])"
      ]
     },
     "execution_count": 77,
     "metadata": {},
     "output_type": "execute_result"
    }
   ],
   "source": [
    "np.fromstring('22 23 24', sep = \" \") # by default in float"
   ]
  },
  {
   "cell_type": "code",
   "execution_count": 78,
   "id": "bd1ec4c0",
   "metadata": {},
   "outputs": [
    {
     "data": {
      "text/plain": [
       "array([22, 23, 24])"
      ]
     },
     "execution_count": 78,
     "metadata": {},
     "output_type": "execute_result"
    }
   ],
   "source": [
    "np.fromstring('22 23 24', sep = \" \", dtype= int)"
   ]
  },
  {
   "cell_type": "markdown",
   "id": "00ccfb68",
   "metadata": {},
   "source": [
    "_For string character, we use split_"
   ]
  },
  {
   "cell_type": "code",
   "execution_count": 79,
   "id": "6b3299e9",
   "metadata": {},
   "outputs": [
    {
     "data": {
      "text/plain": [
       "['Liza', ' Charlie', ' Zinni']"
      ]
     },
     "execution_count": 79,
     "metadata": {},
     "output_type": "execute_result"
    }
   ],
   "source": [
    "string = \"Liza, Charlie, Zinni\"\n",
    "string.split(\",\")"
   ]
  },
  {
   "cell_type": "code",
   "execution_count": 80,
   "id": "306b1bd2",
   "metadata": {},
   "outputs": [
    {
     "data": {
      "text/plain": [
       "array(['Liza', 'Charlie', 'Zinni'], dtype='<U7')"
      ]
     },
     "execution_count": 80,
     "metadata": {},
     "output_type": "execute_result"
    }
   ],
   "source": [
    "np.array(string.split(\", \"))"
   ]
  },
  {
   "cell_type": "code",
   "execution_count": 81,
   "id": "017afb69",
   "metadata": {},
   "outputs": [
    {
     "data": {
      "text/plain": [
       "[0, 1, 2, 3, 4, 5, 6, 7, 8, 9]"
      ]
     },
     "execution_count": 81,
     "metadata": {},
     "output_type": "execute_result"
    }
   ],
   "source": [
    "list(range(10))"
   ]
  },
  {
   "cell_type": "markdown",
   "id": "cecd8a30",
   "metadata": {},
   "source": [
    "- Other method to generate a sequenc of numer"
   ]
  },
  {
   "cell_type": "markdown",
   "id": "99a36e78",
   "metadata": {},
   "source": [
    "`np.arange()`"
   ]
  },
  {
   "cell_type": "code",
   "execution_count": 82,
   "id": "7f1884ba",
   "metadata": {},
   "outputs": [
    {
     "data": {
      "text/plain": [
       "array([1, 2, 3, 4, 5, 6, 7, 8, 9])"
      ]
     },
     "execution_count": 82,
     "metadata": {},
     "output_type": "execute_result"
    }
   ],
   "source": [
    "np.arange(1, 10)"
   ]
  },
  {
   "cell_type": "code",
   "execution_count": 83,
   "id": "c1d8097d",
   "metadata": {},
   "outputs": [
    {
     "data": {
      "text/plain": [
       "array([1. , 1.1, 1.2, 1.3, 1.4, 1.5, 1.6, 1.7, 1.8, 1.9, 2. , 2.1, 2.2,\n",
       "       2.3, 2.4, 2.5, 2.6, 2.7, 2.8, 2.9, 3. , 3.1, 3.2, 3.3, 3.4, 3.5,\n",
       "       3.6, 3.7, 3.8, 3.9, 4. , 4.1, 4.2, 4.3, 4.4, 4.5, 4.6, 4.7, 4.8,\n",
       "       4.9, 5. , 5.1, 5.2, 5.3, 5.4, 5.5, 5.6, 5.7, 5.8, 5.9, 6. , 6.1,\n",
       "       6.2, 6.3, 6.4, 6.5, 6.6, 6.7, 6.8, 6.9, 7. , 7.1, 7.2, 7.3, 7.4,\n",
       "       7.5, 7.6, 7.7, 7.8, 7.9, 8. , 8.1, 8.2, 8.3, 8.4, 8.5, 8.6, 8.7,\n",
       "       8.8, 8.9, 9. , 9.1, 9.2, 9.3, 9.4, 9.5, 9.6, 9.7, 9.8, 9.9])"
      ]
     },
     "execution_count": 83,
     "metadata": {},
     "output_type": "execute_result"
    }
   ],
   "source": [
    "np.arange(1, 10, 0.1)"
   ]
  },
  {
   "cell_type": "markdown",
   "id": "f27e70d3",
   "metadata": {},
   "source": [
    "`np.linspace()` : gives numbers between start and stop"
   ]
  },
  {
   "cell_type": "code",
   "execution_count": 84,
   "id": "aa97914e",
   "metadata": {},
   "outputs": [
    {
     "data": {
      "text/plain": [
       "array([1.        , 1.44444444, 1.88888889, 2.33333333, 2.77777778,\n",
       "       3.22222222, 3.66666667, 4.11111111, 4.55555556, 5.        ])"
      ]
     },
     "execution_count": 84,
     "metadata": {},
     "output_type": "execute_result"
    }
   ],
   "source": [
    "np.linspace(1,5, 10)"
   ]
  },
  {
   "cell_type": "markdown",
   "id": "b5a523f3",
   "metadata": {},
   "source": [
    "### Zeros array"
   ]
  },
  {
   "cell_type": "code",
   "execution_count": 85,
   "id": "f1992b9b",
   "metadata": {},
   "outputs": [],
   "source": [
    "import numpy as np"
   ]
  },
  {
   "cell_type": "code",
   "execution_count": 86,
   "id": "0a12c683",
   "metadata": {},
   "outputs": [],
   "source": [
    "a = np.zeros(5)  # return a new array of given shape and type, filled with zeros"
   ]
  },
  {
   "cell_type": "code",
   "execution_count": 87,
   "id": "399ae20c",
   "metadata": {},
   "outputs": [
    {
     "data": {
      "text/plain": [
       "array([0., 0., 0., 0., 0.])"
      ]
     },
     "execution_count": 87,
     "metadata": {},
     "output_type": "execute_result"
    }
   ],
   "source": [
    "a"
   ]
  },
  {
   "cell_type": "code",
   "execution_count": 88,
   "id": "aeac8a94",
   "metadata": {},
   "outputs": [
    {
     "data": {
      "text/plain": [
       "1"
      ]
     },
     "execution_count": 88,
     "metadata": {},
     "output_type": "execute_result"
    }
   ],
   "source": [
    "a.ndim"
   ]
  },
  {
   "cell_type": "code",
   "execution_count": 89,
   "id": "2a017d3c",
   "metadata": {},
   "outputs": [
    {
     "data": {
      "text/plain": [
       "array([0, 0, 0, 0, 0, 0, 0, 0, 0, 0])"
      ]
     },
     "execution_count": 89,
     "metadata": {},
     "output_type": "execute_result"
    }
   ],
   "source": [
    "# above in float ,, now we change it in int\n",
    "np.zeros(10, dtype=int)"
   ]
  },
  {
   "cell_type": "code",
   "execution_count": 90,
   "id": "c30503fa",
   "metadata": {},
   "outputs": [],
   "source": [
    "b= np.zeros((3,4))  # here two paranthesis means two dimension in 3 row and 4 col"
   ]
  },
  {
   "cell_type": "code",
   "execution_count": 91,
   "id": "4dcbc47e",
   "metadata": {},
   "outputs": [
    {
     "data": {
      "text/plain": [
       "array([[0., 0., 0., 0.],\n",
       "       [0., 0., 0., 0.],\n",
       "       [0., 0., 0., 0.]])"
      ]
     },
     "execution_count": 91,
     "metadata": {},
     "output_type": "execute_result"
    }
   ],
   "source": [
    "b"
   ]
  },
  {
   "cell_type": "code",
   "execution_count": 92,
   "id": "041fa4b8",
   "metadata": {},
   "outputs": [
    {
     "data": {
      "text/plain": [
       "2"
      ]
     },
     "execution_count": 92,
     "metadata": {},
     "output_type": "execute_result"
    }
   ],
   "source": [
    "b.ndim"
   ]
  },
  {
   "cell_type": "markdown",
   "id": "c9441a3b",
   "metadata": {},
   "source": [
    "### Ones array"
   ]
  },
  {
   "cell_type": "code",
   "execution_count": 93,
   "id": "3ca6f095",
   "metadata": {},
   "outputs": [],
   "source": [
    "a = np.ones(5)"
   ]
  },
  {
   "cell_type": "code",
   "execution_count": 94,
   "id": "fa32fd17",
   "metadata": {},
   "outputs": [
    {
     "data": {
      "text/plain": [
       "array([1., 1., 1., 1., 1.])"
      ]
     },
     "execution_count": 94,
     "metadata": {},
     "output_type": "execute_result"
    }
   ],
   "source": [
    "a"
   ]
  },
  {
   "cell_type": "code",
   "execution_count": 95,
   "id": "9f0cf487",
   "metadata": {},
   "outputs": [
    {
     "data": {
      "text/plain": [
       "array([1, 1, 1, 1, 1])"
      ]
     },
     "execution_count": 95,
     "metadata": {},
     "output_type": "execute_result"
    }
   ],
   "source": [
    "a = np.ones(5, dtype=int)\n",
    "a"
   ]
  },
  {
   "cell_type": "code",
   "execution_count": 96,
   "id": "b5216571",
   "metadata": {},
   "outputs": [],
   "source": [
    "b = np.ones((4,5))"
   ]
  },
  {
   "cell_type": "code",
   "execution_count": 97,
   "id": "21999538",
   "metadata": {},
   "outputs": [
    {
     "data": {
      "text/plain": [
       "array([[1., 1., 1., 1., 1.],\n",
       "       [1., 1., 1., 1., 1.],\n",
       "       [1., 1., 1., 1., 1.],\n",
       "       [1., 1., 1., 1., 1.]])"
      ]
     },
     "execution_count": 97,
     "metadata": {},
     "output_type": "execute_result"
    }
   ],
   "source": [
    "b"
   ]
  },
  {
   "cell_type": "code",
   "execution_count": 98,
   "id": "94383fe2",
   "metadata": {},
   "outputs": [
    {
     "data": {
      "text/plain": [
       "2"
      ]
     },
     "execution_count": 98,
     "metadata": {},
     "output_type": "execute_result"
    }
   ],
   "source": [
    "b.ndim"
   ]
  },
  {
   "cell_type": "markdown",
   "id": "5f0ec352",
   "metadata": {},
   "source": [
    "### 3D Arrays"
   ]
  },
  {
   "cell_type": "code",
   "execution_count": 99,
   "id": "1d4d9691",
   "metadata": {},
   "outputs": [
    {
     "data": {
      "text/plain": [
       "array([0., 0., 0.])"
      ]
     },
     "execution_count": 99,
     "metadata": {},
     "output_type": "execute_result"
    }
   ],
   "source": [
    "# one dimension array\n",
    "np.zeros(3)"
   ]
  },
  {
   "cell_type": "code",
   "execution_count": 100,
   "id": "f6336c1c",
   "metadata": {},
   "outputs": [
    {
     "data": {
      "text/plain": [
       "array([[0., 0., 0., 0.],\n",
       "       [0., 0., 0., 0.],\n",
       "       [0., 0., 0., 0.]])"
      ]
     },
     "execution_count": 100,
     "metadata": {},
     "output_type": "execute_result"
    }
   ],
   "source": [
    "# Two dimension array\n",
    "np.zeros((3,4))"
   ]
  },
  {
   "cell_type": "code",
   "execution_count": 101,
   "id": "d6dac038",
   "metadata": {},
   "outputs": [
    {
     "data": {
      "text/plain": [
       "array([[[0., 0., 0., 0.],\n",
       "        [0., 0., 0., 0.],\n",
       "        [0., 0., 0., 0.]]])"
      ]
     },
     "execution_count": 101,
     "metadata": {},
     "output_type": "execute_result"
    }
   ],
   "source": [
    "# Three diemsions\n",
    "arr = np.zeros((1, 3, 4))\n",
    "arr"
   ]
  },
  {
   "cell_type": "code",
   "execution_count": 102,
   "id": "d29e353f",
   "metadata": {},
   "outputs": [
    {
     "data": {
      "text/plain": [
       "3"
      ]
     },
     "execution_count": 102,
     "metadata": {},
     "output_type": "execute_result"
    }
   ],
   "source": [
    "arr.ndim"
   ]
  },
  {
   "cell_type": "code",
   "execution_count": 103,
   "id": "3b0bf1a3",
   "metadata": {},
   "outputs": [
    {
     "data": {
      "text/plain": [
       "array([[[1., 1., 1., 1.],\n",
       "        [1., 1., 1., 1.],\n",
       "        [1., 1., 1., 1.]],\n",
       "\n",
       "       [[1., 1., 1., 1.],\n",
       "        [1., 1., 1., 1.],\n",
       "        [1., 1., 1., 1.]],\n",
       "\n",
       "       [[1., 1., 1., 1.],\n",
       "        [1., 1., 1., 1.],\n",
       "        [1., 1., 1., 1.]]])"
      ]
     },
     "execution_count": 103,
     "metadata": {},
     "output_type": "execute_result"
    }
   ],
   "source": [
    "arr1 = np.ones((3, 3, 4))\n",
    "arr1"
   ]
  },
  {
   "cell_type": "markdown",
   "id": "c460b3d3",
   "metadata": {},
   "source": [
    "### Four dimension array"
   ]
  },
  {
   "cell_type": "code",
   "execution_count": 104,
   "id": "86f0ce78",
   "metadata": {},
   "outputs": [
    {
     "data": {
      "text/plain": [
       "array([[[[0., 0., 0.],\n",
       "         [0., 0., 0.]]]])"
      ]
     },
     "execution_count": 104,
     "metadata": {},
     "output_type": "execute_result"
    }
   ],
   "source": [
    "c = np.zeros((1, 1, 2, 3))\n",
    "c"
   ]
  },
  {
   "cell_type": "code",
   "execution_count": 105,
   "id": "fb1c05d3",
   "metadata": {},
   "outputs": [
    {
     "data": {
      "text/plain": [
       "4"
      ]
     },
     "execution_count": 105,
     "metadata": {},
     "output_type": "execute_result"
    }
   ],
   "source": [
    "c.ndim"
   ]
  },
  {
   "cell_type": "code",
   "execution_count": 106,
   "id": "28c0de3e",
   "metadata": {},
   "outputs": [
    {
     "data": {
      "text/plain": [
       "array([[[[[1., 1., 1.],\n",
       "          [1., 1., 1.],\n",
       "          [1., 1., 1.]]]]])"
      ]
     },
     "execution_count": 106,
     "metadata": {},
     "output_type": "execute_result"
    }
   ],
   "source": [
    "c = np.ones((1, 1, 1, 3, 3))\n",
    "c"
   ]
  },
  {
   "cell_type": "code",
   "execution_count": 107,
   "id": "37d72529",
   "metadata": {},
   "outputs": [
    {
     "data": {
      "text/plain": [
       "5"
      ]
     },
     "execution_count": 107,
     "metadata": {},
     "output_type": "execute_result"
    }
   ],
   "source": [
    "c.ndim"
   ]
  },
  {
   "cell_type": "markdown",
   "id": "7b82dcb3",
   "metadata": {},
   "source": [
    "### Arithematic operations in Array"
   ]
  },
  {
   "cell_type": "code",
   "execution_count": 108,
   "id": "76cd7aed",
   "metadata": {},
   "outputs": [
    {
     "data": {
      "text/plain": [
       "array([[0., 0., 0., 0.],\n",
       "       [0., 0., 0., 0.],\n",
       "       [0., 0., 0., 0.]])"
      ]
     },
     "execution_count": 108,
     "metadata": {},
     "output_type": "execute_result"
    }
   ],
   "source": [
    "arr = np.zeros((3,4))\n",
    "arr"
   ]
  },
  {
   "cell_type": "code",
   "execution_count": 109,
   "id": "c4855c3e",
   "metadata": {},
   "outputs": [
    {
     "data": {
      "text/plain": [
       "array([[5., 5., 5., 5.],\n",
       "       [5., 5., 5., 5.],\n",
       "       [5., 5., 5., 5.]])"
      ]
     },
     "execution_count": 109,
     "metadata": {},
     "output_type": "execute_result"
    }
   ],
   "source": [
    "a = arr+5\n",
    "a"
   ]
  },
  {
   "cell_type": "code",
   "execution_count": 110,
   "id": "ef7b87cf",
   "metadata": {},
   "outputs": [
    {
     "data": {
      "text/plain": [
       "array([[10., 10., 10., 10.],\n",
       "       [10., 10., 10., 10.],\n",
       "       [10., 10., 10., 10.]])"
      ]
     },
     "execution_count": 110,
     "metadata": {},
     "output_type": "execute_result"
    }
   ],
   "source": [
    "a * 2"
   ]
  },
  {
   "cell_type": "code",
   "execution_count": 111,
   "id": "aa052829",
   "metadata": {},
   "outputs": [
    {
     "data": {
      "text/plain": [
       "array([[5., 5., 5., 5.],\n",
       "       [5., 5., 5., 5.],\n",
       "       [5., 5., 5., 5.]])"
      ]
     },
     "execution_count": 111,
     "metadata": {},
     "output_type": "execute_result"
    }
   ],
   "source": [
    "a"
   ]
  },
  {
   "cell_type": "code",
   "execution_count": 112,
   "id": "38fede47",
   "metadata": {},
   "outputs": [
    {
     "data": {
      "text/plain": [
       "array([[4., 4., 4., 4.],\n",
       "       [4., 4., 4., 4.],\n",
       "       [4., 4., 4., 4.]])"
      ]
     },
     "execution_count": 112,
     "metadata": {},
     "output_type": "execute_result"
    }
   ],
   "source": [
    "a-1"
   ]
  },
  {
   "cell_type": "code",
   "execution_count": 113,
   "id": "13ad0206",
   "metadata": {},
   "outputs": [
    {
     "data": {
      "text/plain": [
       "array([[2.5, 2.5, 2.5, 2.5],\n",
       "       [2.5, 2.5, 2.5, 2.5],\n",
       "       [2.5, 2.5, 2.5, 2.5]])"
      ]
     },
     "execution_count": 113,
     "metadata": {},
     "output_type": "execute_result"
    }
   ],
   "source": [
    "a/2"
   ]
  },
  {
   "cell_type": "code",
   "execution_count": 114,
   "id": "6e4d0563",
   "metadata": {},
   "outputs": [
    {
     "data": {
      "text/plain": [
       "array([[25., 25., 25., 25.],\n",
       "       [25., 25., 25., 25.],\n",
       "       [25., 25., 25., 25.]])"
      ]
     },
     "execution_count": 114,
     "metadata": {},
     "output_type": "execute_result"
    }
   ],
   "source": [
    "a**2"
   ]
  },
  {
   "cell_type": "markdown",
   "id": "63f34116",
   "metadata": {},
   "source": [
    "### Identity Array"
   ]
  },
  {
   "cell_type": "code",
   "execution_count": 115,
   "id": "9baec2c9",
   "metadata": {},
   "outputs": [
    {
     "data": {
      "text/plain": [
       "array([[1., 0., 0.],\n",
       "       [0., 1., 0.],\n",
       "       [0., 0., 1.]])"
      ]
     },
     "execution_count": 115,
     "metadata": {},
     "output_type": "execute_result"
    }
   ],
   "source": [
    "np.eye(3) # Return a 2-D array with ones on the diagonal and zeroes elsewhere"
   ]
  },
  {
   "cell_type": "code",
   "execution_count": 116,
   "id": "857be4c0",
   "metadata": {},
   "outputs": [
    {
     "data": {
      "text/plain": [
       "array([[1, 0, 0],\n",
       "       [0, 1, 0],\n",
       "       [0, 0, 1]])"
      ]
     },
     "execution_count": 116,
     "metadata": {},
     "output_type": "execute_result"
    }
   ],
   "source": [
    "np.eye(3, dtype=int)"
   ]
  },
  {
   "cell_type": "code",
   "execution_count": 117,
   "id": "39d5f3d2",
   "metadata": {},
   "outputs": [
    {
     "data": {
      "text/plain": [
       "array([[1., 0., 0., 0.],\n",
       "       [0., 1., 0., 0.],\n",
       "       [0., 0., 1., 0.],\n",
       "       [0., 0., 0., 1.]])"
      ]
     },
     "execution_count": 117,
     "metadata": {},
     "output_type": "execute_result"
    }
   ],
   "source": [
    "np.eye(4)"
   ]
  },
  {
   "cell_type": "code",
   "execution_count": 118,
   "id": "9e87f264",
   "metadata": {},
   "outputs": [
    {
     "data": {
      "text/plain": [
       "array([[25., 25., 25., 25.],\n",
       "       [25., 25., 25., 25.],\n",
       "       [25., 25., 25., 25.]])"
      ]
     },
     "execution_count": 118,
     "metadata": {},
     "output_type": "execute_result"
    }
   ],
   "source": [
    "np.empty((3,4))  # Return a new array of given shape annd size without initializing entries.\n",
    "# any random value stores in memory"
   ]
  },
  {
   "cell_type": "code",
   "execution_count": 119,
   "id": "76266c71",
   "metadata": {},
   "outputs": [
    {
     "data": {
      "text/plain": [
       "4"
      ]
     },
     "execution_count": 119,
     "metadata": {},
     "output_type": "execute_result"
    }
   ],
   "source": [
    "import random\n",
    "random.choice((1, 2, 3, 4, 5))"
   ]
  },
  {
   "cell_type": "code",
   "execution_count": 120,
   "id": "2faaeec1",
   "metadata": {},
   "outputs": [
    {
     "data": {
      "text/plain": [
       "'I'"
      ]
     },
     "execution_count": 120,
     "metadata": {},
     "output_type": "execute_result"
    }
   ],
   "source": [
    "random.choice(\"PRAGATI\")"
   ]
  },
  {
   "cell_type": "code",
   "execution_count": 121,
   "id": "22f40f46",
   "metadata": {},
   "outputs": [
    {
     "data": {
      "text/plain": [
       "6"
      ]
     },
     "execution_count": 121,
     "metadata": {},
     "output_type": "execute_result"
    }
   ],
   "source": [
    "random.randrange(1,10)"
   ]
  },
  {
   "cell_type": "code",
   "execution_count": 122,
   "id": "35734317",
   "metadata": {},
   "outputs": [
    {
     "data": {
      "text/plain": [
       "0.16072493070035943"
      ]
     },
     "execution_count": 122,
     "metadata": {},
     "output_type": "execute_result"
    }
   ],
   "source": [
    "random.random()  # A random no. between 0(included) and 1(excluded)"
   ]
  },
  {
   "cell_type": "code",
   "execution_count": 123,
   "id": "335ec78c",
   "metadata": {},
   "outputs": [
    {
     "data": {
      "text/plain": [
       "[1, 2, 3, 4, 5]"
      ]
     },
     "execution_count": 123,
     "metadata": {},
     "output_type": "execute_result"
    }
   ],
   "source": [
    "lis = [1, 2, 3, 4, 5]\n",
    "lis"
   ]
  },
  {
   "cell_type": "code",
   "execution_count": 124,
   "id": "553672b8",
   "metadata": {},
   "outputs": [],
   "source": [
    "random.shuffle(lis)"
   ]
  },
  {
   "cell_type": "code",
   "execution_count": 125,
   "id": "66a155d2",
   "metadata": {},
   "outputs": [
    {
     "data": {
      "text/plain": [
       "[4, 5, 2, 3, 1]"
      ]
     },
     "execution_count": 125,
     "metadata": {},
     "output_type": "execute_result"
    }
   ],
   "source": [
    "lis"
   ]
  },
  {
   "cell_type": "code",
   "execution_count": 126,
   "id": "8e880490",
   "metadata": {},
   "outputs": [
    {
     "data": {
      "text/plain": [
       "9.47232423006851"
      ]
     },
     "execution_count": 126,
     "metadata": {},
     "output_type": "execute_result"
    }
   ],
   "source": [
    "random.uniform(7,14)"
   ]
  },
  {
   "cell_type": "code",
   "execution_count": 127,
   "id": "dcc61e81",
   "metadata": {},
   "outputs": [],
   "source": [
    "# random numbers concepts related to numpy"
   ]
  },
  {
   "cell_type": "code",
   "execution_count": 128,
   "id": "74497184",
   "metadata": {},
   "outputs": [
    {
     "data": {
      "text/plain": [
       "array([], dtype=float64)"
      ]
     },
     "execution_count": 128,
     "metadata": {},
     "output_type": "execute_result"
    }
   ],
   "source": [
    "np.array([])"
   ]
  },
  {
   "cell_type": "code",
   "execution_count": 129,
   "id": "5233da19",
   "metadata": {},
   "outputs": [
    {
     "data": {
      "text/plain": [
       "0.11881204287238378"
      ]
     },
     "execution_count": 129,
     "metadata": {},
     "output_type": "execute_result"
    }
   ],
   "source": [
    "np.random.random_sample()"
   ]
  },
  {
   "cell_type": "code",
   "execution_count": 130,
   "id": "b97c6764",
   "metadata": {},
   "outputs": [
    {
     "data": {
      "text/plain": [
       "array([[0.99071577],\n",
       "       [0.26029016],\n",
       "       [0.80443374],\n",
       "       [0.1335948 ],\n",
       "       [0.30757243]])"
      ]
     },
     "execution_count": 130,
     "metadata": {},
     "output_type": "execute_result"
    }
   ],
   "source": [
    "np.random.random_sample((5,1)) # 1-D of 5 random numbers between 0 to 1"
   ]
  },
  {
   "cell_type": "code",
   "execution_count": 131,
   "id": "9c2a83d7",
   "metadata": {},
   "outputs": [
    {
     "data": {
      "text/plain": [
       "array([0.71300666])"
      ]
     },
     "execution_count": 131,
     "metadata": {},
     "output_type": "execute_result"
    }
   ],
   "source": [
    "np.random.rand((1))"
   ]
  },
  {
   "cell_type": "code",
   "execution_count": 132,
   "id": "8d46a424",
   "metadata": {},
   "outputs": [
    {
     "data": {
      "text/plain": [
       "array([[0.11939358, 0.33773477, 0.53119126],\n",
       "       [0.84080825, 0.24039984, 0.25836751]])"
      ]
     },
     "execution_count": 132,
     "metadata": {},
     "output_type": "execute_result"
    }
   ],
   "source": [
    "np.random.rand(2,3)"
   ]
  },
  {
   "cell_type": "code",
   "execution_count": 133,
   "id": "16437e5a",
   "metadata": {},
   "outputs": [
    {
     "data": {
      "text/plain": [
       "array([[ 1.85336031, -0.11447862,  0.33932514],\n",
       "       [ 0.66189506, -0.83624392, -0.7223167 ]])"
      ]
     },
     "execution_count": 133,
     "metadata": {},
     "output_type": "execute_result"
    }
   ],
   "source": [
    "np.random.randn(2,3)  # return a sample from the standard normal distributions\n"
   ]
  },
  {
   "cell_type": "code",
   "execution_count": 134,
   "id": "11bd1d37",
   "metadata": {},
   "outputs": [
    {
     "data": {
      "text/plain": [
       "4"
      ]
     },
     "execution_count": 134,
     "metadata": {},
     "output_type": "execute_result"
    }
   ],
   "source": [
    "np.random.randint(1,5)"
   ]
  },
  {
   "cell_type": "code",
   "execution_count": 136,
   "id": "6d5ad674",
   "metadata": {},
   "outputs": [],
   "source": [
    "arr = np.random.randint(1,5, size= (3,4))  # start from 1 end at 5-1 and array of 3 row 4 col"
   ]
  },
  {
   "cell_type": "code",
   "execution_count": 137,
   "id": "ca1a6bec",
   "metadata": {},
   "outputs": [
    {
     "data": {
      "text/plain": [
       "2"
      ]
     },
     "execution_count": 137,
     "metadata": {},
     "output_type": "execute_result"
    }
   ],
   "source": [
    "arr.ndim"
   ]
  },
  {
   "cell_type": "code",
   "execution_count": 138,
   "id": "dce504ab",
   "metadata": {},
   "outputs": [
    {
     "data": {
      "text/plain": [
       "(3, 4)"
      ]
     },
     "execution_count": 138,
     "metadata": {},
     "output_type": "execute_result"
    }
   ],
   "source": [
    "\n",
    "arr.shape"
   ]
  },
  {
   "cell_type": "code",
   "execution_count": 140,
   "id": "1aa1eedb",
   "metadata": {},
   "outputs": [
    {
     "data": {
      "text/plain": [
       "12"
      ]
     },
     "execution_count": 140,
     "metadata": {},
     "output_type": "execute_result"
    }
   ],
   "source": [
    "arr.size  # no. of elements"
   ]
  },
  {
   "cell_type": "markdown",
   "id": "481fb3f2",
   "metadata": {},
   "source": [
    "### Reshaping of array\n",
    "- Array size should not change.\n",
    "- Always rehsaped parameter size should be same to org size\n"
   ]
  },
  {
   "cell_type": "code",
   "execution_count": 143,
   "id": "a38f59c4",
   "metadata": {},
   "outputs": [
    {
     "data": {
      "text/plain": [
       "array([[4, 2, 3, 2, 4, 2],\n",
       "       [3, 3, 3, 2, 2, 3]], dtype=int32)"
      ]
     },
     "execution_count": 143,
     "metadata": {},
     "output_type": "execute_result"
    }
   ],
   "source": [
    "arr.reshape(2,6)  # size of the array must be same."
   ]
  },
  {
   "cell_type": "code",
   "execution_count": 142,
   "id": "80452518",
   "metadata": {},
   "outputs": [
    {
     "data": {
      "text/plain": [
       "array([[4, 2],\n",
       "       [3, 2],\n",
       "       [4, 2],\n",
       "       [3, 3],\n",
       "       [3, 2],\n",
       "       [2, 3]], dtype=int32)"
      ]
     },
     "execution_count": 142,
     "metadata": {},
     "output_type": "execute_result"
    }
   ],
   "source": [
    "arr.reshape(6,2)"
   ]
  },
  {
   "cell_type": "code",
   "execution_count": 145,
   "id": "0fbc3338",
   "metadata": {},
   "outputs": [
    {
     "data": {
      "text/plain": [
       "array([[4, 2, 3, 2, 4, 2, 3, 3, 3, 2, 2, 3]], dtype=int32)"
      ]
     },
     "execution_count": 145,
     "metadata": {},
     "output_type": "execute_result"
    }
   ],
   "source": [
    "arr.reshape(1, 12)"
   ]
  },
  {
   "cell_type": "code",
   "execution_count": 146,
   "id": "2c053e5a",
   "metadata": {},
   "outputs": [
    {
     "data": {
      "text/plain": [
       "array([[4, 2, 3, 2],\n",
       "       [4, 2, 3, 3],\n",
       "       [3, 2, 2, 3]], dtype=int32)"
      ]
     },
     "execution_count": 146,
     "metadata": {},
     "output_type": "execute_result"
    }
   ],
   "source": [
    "arr"
   ]
  },
  {
   "cell_type": "markdown",
   "id": "8a3a48b9",
   "metadata": {},
   "source": [
    "- When you dont know in reshape what should be the row or col count.\n",
    "- `arr.reshape(row, negative int)`\n",
    "- `arr.reshape(negative int, col)`"
   ]
  },
  {
   "cell_type": "code",
   "execution_count": 147,
   "id": "9f4716c8",
   "metadata": {},
   "outputs": [
    {
     "data": {
      "text/plain": [
       "array([[4, 2, 3],\n",
       "       [2, 4, 2],\n",
       "       [3, 3, 3],\n",
       "       [2, 2, 3]], dtype=int32)"
      ]
     },
     "execution_count": 147,
     "metadata": {},
     "output_type": "execute_result"
    }
   ],
   "source": [
    "arr.reshape(4,-1)"
   ]
  },
  {
   "cell_type": "code",
   "execution_count": 149,
   "id": "e8337b44",
   "metadata": {},
   "outputs": [
    {
     "data": {
      "text/plain": [
       "array([[4, 2],\n",
       "       [3, 2],\n",
       "       [4, 2],\n",
       "       [3, 3],\n",
       "       [3, 2],\n",
       "       [2, 3]], dtype=int32)"
      ]
     },
     "execution_count": 149,
     "metadata": {},
     "output_type": "execute_result"
    }
   ],
   "source": [
    "arr.reshape(-2, 2)"
   ]
  },
  {
   "cell_type": "code",
   "execution_count": 150,
   "id": "db089b53",
   "metadata": {},
   "outputs": [
    {
     "data": {
      "text/plain": [
       "array([[4],\n",
       "       [2],\n",
       "       [3],\n",
       "       [2],\n",
       "       [4],\n",
       "       [2],\n",
       "       [3],\n",
       "       [3],\n",
       "       [3],\n",
       "       [2],\n",
       "       [2],\n",
       "       [3]], dtype=int32)"
      ]
     },
     "execution_count": 150,
     "metadata": {},
     "output_type": "execute_result"
    }
   ],
   "source": [
    "arr.reshape(12,1)"
   ]
  },
  {
   "cell_type": "code",
   "execution_count": 152,
   "id": "c1a44879",
   "metadata": {},
   "outputs": [
    {
     "data": {
      "text/plain": [
       "array([[4, 2, 3, 2],\n",
       "       [4, 2, 3, 3],\n",
       "       [3, 2, 2, 3]], dtype=int32)"
      ]
     },
     "execution_count": 152,
     "metadata": {},
     "output_type": "execute_result"
    }
   ],
   "source": [
    "arr.reshape(12,1).base # to see the original array"
   ]
  },
  {
   "cell_type": "code",
   "execution_count": 153,
   "id": "bebc7d8c",
   "metadata": {},
   "outputs": [
    {
     "data": {
      "text/plain": [
       "array([[4, 2, 3, 2],\n",
       "       [4, 2, 3, 3],\n",
       "       [3, 2, 2, 3]], dtype=int32)"
      ]
     },
     "execution_count": 153,
     "metadata": {},
     "output_type": "execute_result"
    }
   ],
   "source": [
    "arr"
   ]
  },
  {
   "cell_type": "code",
   "execution_count": 155,
   "id": "98edb279",
   "metadata": {},
   "outputs": [
    {
     "data": {
      "text/plain": [
       "array([[[4, 2, 3],\n",
       "        [2, 4, 2]],\n",
       "\n",
       "       [[3, 3, 3],\n",
       "        [2, 2, 3]]], dtype=int32)"
      ]
     },
     "execution_count": 155,
     "metadata": {},
     "output_type": "execute_result"
    }
   ],
   "source": [
    "arr.reshape(2, 2,3)  # size should be same"
   ]
  },
  {
   "cell_type": "code",
   "execution_count": 156,
   "id": "1596bf47",
   "metadata": {},
   "outputs": [
    {
     "data": {
      "text/plain": [
       "array([[[[4, 2, 3],\n",
       "         [2, 4, 2]],\n",
       "\n",
       "        [[3, 3, 3],\n",
       "         [2, 2, 3]]]], dtype=int32)"
      ]
     },
     "execution_count": 156,
     "metadata": {},
     "output_type": "execute_result"
    }
   ],
   "source": [
    "arr.reshape(1,2,2,3)"
   ]
  },
  {
   "cell_type": "code",
   "execution_count": 157,
   "id": "d6669fe5",
   "metadata": {},
   "outputs": [
    {
     "data": {
      "text/plain": [
       "4"
      ]
     },
     "execution_count": 157,
     "metadata": {},
     "output_type": "execute_result"
    }
   ],
   "source": [
    "arr.reshape(1,2,2,3).ndim"
   ]
  },
  {
   "cell_type": "code",
   "execution_count": 159,
   "id": "894bb1b3",
   "metadata": {},
   "outputs": [
    {
     "data": {
      "text/plain": [
       "array([[[4],\n",
       "        [2],\n",
       "        [3]],\n",
       "\n",
       "       [[2],\n",
       "        [4],\n",
       "        [2]],\n",
       "\n",
       "       [[3],\n",
       "        [3],\n",
       "        [3]],\n",
       "\n",
       "       [[2],\n",
       "        [2],\n",
       "        [3]]], dtype=int32)"
      ]
     },
     "execution_count": 159,
     "metadata": {},
     "output_type": "execute_result"
    }
   ],
   "source": [
    "arr.reshape(4,3,1)  # 3 rows 1 col 4 times repeated in 3-D"
   ]
  },
  {
   "cell_type": "markdown",
   "id": "f5889f0b",
   "metadata": {},
   "source": [
    "### Conditions on Array"
   ]
  },
  {
   "cell_type": "code",
   "execution_count": 160,
   "id": "6000230d",
   "metadata": {},
   "outputs": [],
   "source": [
    "arr1 = np.random.randint(1, 10, size=(5,6))"
   ]
  },
  {
   "cell_type": "code",
   "execution_count": 161,
   "id": "a6bf6758",
   "metadata": {},
   "outputs": [
    {
     "data": {
      "text/plain": [
       "array([[2, 8, 2, 5, 3, 2],\n",
       "       [2, 3, 9, 7, 6, 1],\n",
       "       [7, 3, 5, 9, 2, 6],\n",
       "       [6, 5, 5, 6, 4, 7],\n",
       "       [4, 7, 3, 1, 2, 7]], dtype=int32)"
      ]
     },
     "execution_count": 161,
     "metadata": {},
     "output_type": "execute_result"
    }
   ],
   "source": [
    "arr1"
   ]
  },
  {
   "cell_type": "code",
   "execution_count": 162,
   "id": "46204b90",
   "metadata": {},
   "outputs": [
    {
     "data": {
      "text/plain": [
       "(5, 6)"
      ]
     },
     "execution_count": 162,
     "metadata": {},
     "output_type": "execute_result"
    }
   ],
   "source": [
    "arr1.shape"
   ]
  },
  {
   "cell_type": "code",
   "execution_count": 163,
   "id": "13f69521",
   "metadata": {},
   "outputs": [
    {
     "data": {
      "text/plain": [
       "30"
      ]
     },
     "execution_count": 163,
     "metadata": {},
     "output_type": "execute_result"
    }
   ],
   "source": [
    "arr1.size"
   ]
  },
  {
   "cell_type": "code",
   "execution_count": 164,
   "id": "782cee93",
   "metadata": {},
   "outputs": [
    {
     "data": {
      "text/plain": [
       "array([[False,  True, False,  True, False, False],\n",
       "       [False, False,  True,  True,  True, False],\n",
       "       [ True, False,  True,  True, False,  True],\n",
       "       [ True,  True,  True,  True,  True,  True],\n",
       "       [ True,  True, False, False, False,  True]])"
      ]
     },
     "execution_count": 164,
     "metadata": {},
     "output_type": "execute_result"
    }
   ],
   "source": [
    "arr1 > 3"
   ]
  },
  {
   "cell_type": "code",
   "execution_count": 165,
   "id": "20ffc855",
   "metadata": {},
   "outputs": [
    {
     "data": {
      "text/plain": [
       "array([[False, False, False, False, False, False],\n",
       "       [False, False,  True, False, False, False],\n",
       "       [False, False, False,  True, False, False],\n",
       "       [False, False, False, False, False, False],\n",
       "       [False, False, False, False, False, False]])"
      ]
     },
     "execution_count": 165,
     "metadata": {},
     "output_type": "execute_result"
    }
   ],
   "source": [
    "arr1 > 8"
   ]
  },
  {
   "cell_type": "code",
   "execution_count": 166,
   "id": "da6f877e",
   "metadata": {},
   "outputs": [
    {
     "data": {
      "text/plain": [
       "array([8, 5, 9, 7, 6, 7, 5, 9, 6, 6, 5, 5, 6, 4, 7, 4, 7, 7], dtype=int32)"
      ]
     },
     "execution_count": 166,
     "metadata": {},
     "output_type": "execute_result"
    }
   ],
   "source": [
    "arr1[arr1 > 3]"
   ]
  },
  {
   "cell_type": "code",
   "execution_count": 167,
   "id": "5a1f92e3",
   "metadata": {},
   "outputs": [
    {
     "data": {
      "text/plain": [
       "array([9, 9], dtype=int32)"
      ]
     },
     "execution_count": 167,
     "metadata": {},
     "output_type": "execute_result"
    }
   ],
   "source": [
    "arr1[arr1 >8]"
   ]
  },
  {
   "cell_type": "code",
   "execution_count": 168,
   "id": "abbfe07e",
   "metadata": {},
   "outputs": [
    {
     "data": {
      "text/plain": [
       "array([2, 2, 2, 2, 1, 2, 1, 2], dtype=int32)"
      ]
     },
     "execution_count": 168,
     "metadata": {},
     "output_type": "execute_result"
    }
   ],
   "source": [
    "arr1[arr1 < 3]"
   ]
  },
  {
   "cell_type": "markdown",
   "id": "90b2b490",
   "metadata": {},
   "source": [
    "_To access elements in array_"
   ]
  },
  {
   "cell_type": "code",
   "execution_count": 171,
   "id": "c261bb64",
   "metadata": {},
   "outputs": [
    {
     "data": {
      "text/plain": [
       "array([2, 8, 2, 5, 3, 2], dtype=int32)"
      ]
     },
     "execution_count": 171,
     "metadata": {},
     "output_type": "execute_result"
    }
   ],
   "source": [
    "arr1[0] # 0th index row"
   ]
  },
  {
   "cell_type": "code",
   "execution_count": 172,
   "id": "e814f04a",
   "metadata": {},
   "outputs": [
    {
     "data": {
      "text/plain": [
       "array([7, 3, 5, 9, 2, 6], dtype=int32)"
      ]
     },
     "execution_count": 172,
     "metadata": {},
     "output_type": "execute_result"
    }
   ],
   "source": [
    "arr1[2]  # 2nd index row"
   ]
  },
  {
   "cell_type": "code",
   "execution_count": 173,
   "id": "67063cc3",
   "metadata": {},
   "outputs": [
    {
     "data": {
      "text/plain": [
       "np.int32(5)"
      ]
     },
     "execution_count": 173,
     "metadata": {},
     "output_type": "execute_result"
    }
   ],
   "source": [
    "arr1[2][2]"
   ]
  },
  {
   "cell_type": "code",
   "execution_count": 174,
   "id": "1f09705a",
   "metadata": {},
   "outputs": [
    {
     "data": {
      "text/plain": [
       "np.int32(6)"
      ]
     },
     "execution_count": 174,
     "metadata": {},
     "output_type": "execute_result"
    }
   ],
   "source": [
    "arr1[3][0]"
   ]
  },
  {
   "cell_type": "markdown",
   "id": "2d54cdf0",
   "metadata": {},
   "source": [
    "_from 1st row to n row_\n",
    "- arr[0:n]  >> 0 included, n excluded"
   ]
  },
  {
   "cell_type": "code",
   "execution_count": 175,
   "id": "2718660c",
   "metadata": {},
   "outputs": [
    {
     "data": {
      "text/plain": [
       "array([[2, 8, 2, 5, 3, 2],\n",
       "       [2, 3, 9, 7, 6, 1],\n",
       "       [7, 3, 5, 9, 2, 6]], dtype=int32)"
      ]
     },
     "execution_count": 175,
     "metadata": {},
     "output_type": "execute_result"
    }
   ],
   "source": [
    "arr1[0:3]"
   ]
  },
  {
   "cell_type": "markdown",
   "id": "8120b5d7",
   "metadata": {},
   "source": [
    "- Accessing 0 to 2nd row and 0th and 2nd col"
   ]
  },
  {
   "cell_type": "code",
   "execution_count": 176,
   "id": "fb50a702",
   "metadata": {},
   "outputs": [
    {
     "data": {
      "text/plain": [
       "array([[2, 5],\n",
       "       [2, 7],\n",
       "       [7, 9]], dtype=int32)"
      ]
     },
     "execution_count": 176,
     "metadata": {},
     "output_type": "execute_result"
    }
   ],
   "source": [
    "arr1[0:3, [0,3]]"
   ]
  },
  {
   "cell_type": "code",
   "execution_count": 177,
   "id": "50fe02b4",
   "metadata": {},
   "outputs": [
    {
     "data": {
      "text/plain": [
       "array([[2, 8, 2, 5, 3, 2],\n",
       "       [2, 3, 9, 7, 6, 1],\n",
       "       [7, 3, 5, 9, 2, 6],\n",
       "       [6, 5, 5, 6, 4, 7],\n",
       "       [4, 7, 3, 1, 2, 7]], dtype=int32)"
      ]
     },
     "execution_count": 177,
     "metadata": {},
     "output_type": "execute_result"
    }
   ],
   "source": [
    "arr1"
   ]
  },
  {
   "cell_type": "markdown",
   "id": "491c9d01",
   "metadata": {},
   "source": [
    "_Accessing 0th to 4th row and 2nd and 4th col_"
   ]
  },
  {
   "cell_type": "code",
   "execution_count": 178,
   "id": "9be08700",
   "metadata": {},
   "outputs": [
    {
     "data": {
      "text/plain": [
       "array([[8, 3],\n",
       "       [3, 6],\n",
       "       [3, 2],\n",
       "       [5, 4]], dtype=int32)"
      ]
     },
     "execution_count": 178,
     "metadata": {},
     "output_type": "execute_result"
    }
   ],
   "source": [
    "arr1[0:4, [1 ,4]]"
   ]
  },
  {
   "cell_type": "markdown",
   "id": "5b668aa0",
   "metadata": {},
   "source": [
    "### Slicing on both rows and col together"
   ]
  },
  {
   "cell_type": "code",
   "execution_count": 179,
   "id": "2f29b87d",
   "metadata": {},
   "outputs": [
    {
     "data": {
      "text/plain": [
       "array([[2, 8, 2, 5, 3, 2],\n",
       "       [2, 3, 9, 7, 6, 1],\n",
       "       [7, 3, 5, 9, 2, 6],\n",
       "       [6, 5, 5, 6, 4, 7],\n",
       "       [4, 7, 3, 1, 2, 7]], dtype=int32)"
      ]
     },
     "execution_count": 179,
     "metadata": {},
     "output_type": "execute_result"
    }
   ],
   "source": [
    "arr1"
   ]
  },
  {
   "cell_type": "code",
   "execution_count": 180,
   "id": "6ccf43a8",
   "metadata": {},
   "outputs": [
    {
     "data": {
      "text/plain": [
       "array([[8, 2],\n",
       "       [3, 9],\n",
       "       [3, 5]], dtype=int32)"
      ]
     },
     "execution_count": 180,
     "metadata": {},
     "output_type": "execute_result"
    }
   ],
   "source": [
    "arr1[0:3, 1:3]"
   ]
  },
  {
   "cell_type": "code",
   "execution_count": 181,
   "id": "0866fe7c",
   "metadata": {},
   "outputs": [
    {
     "data": {
      "text/plain": [
       "array([2, 8, 2, 5, 3, 2], dtype=int32)"
      ]
     },
     "execution_count": 181,
     "metadata": {},
     "output_type": "execute_result"
    }
   ],
   "source": [
    "arr1[0]"
   ]
  },
  {
   "cell_type": "code",
   "execution_count": 183,
   "id": "061fdeb8",
   "metadata": {},
   "outputs": [
    {
     "data": {
      "text/plain": [
       "array([8, 5], dtype=int32)"
      ]
     },
     "execution_count": 183,
     "metadata": {},
     "output_type": "execute_result"
    }
   ],
   "source": [
    "arr1[0, [1,3]]"
   ]
  },
  {
   "cell_type": "code",
   "execution_count": 186,
   "id": "3e74c4eb",
   "metadata": {},
   "outputs": [
    {
     "data": {
      "text/plain": [
       "array([[2, 8, 2, 5, 3, 2],\n",
       "       [2, 3, 9, 7, 6, 1],\n",
       "       [7, 3, 5, 9, 2, 6],\n",
       "       [6, 5, 5, 6, 4, 7],\n",
       "       [4, 7, 3, 1, 2, 7]], dtype=int32)"
      ]
     },
     "execution_count": 186,
     "metadata": {},
     "output_type": "execute_result"
    }
   ],
   "source": [
    "arr1"
   ]
  },
  {
   "cell_type": "code",
   "execution_count": 185,
   "id": "ca43e972",
   "metadata": {},
   "outputs": [
    {
     "data": {
      "text/plain": [
       "array([[7, 3],\n",
       "       [6, 5],\n",
       "       [4, 7]], dtype=int32)"
      ]
     },
     "execution_count": 185,
     "metadata": {},
     "output_type": "execute_result"
    }
   ],
   "source": [
    "arr1[2:5, 0:2]"
   ]
  },
  {
   "cell_type": "markdown",
   "id": "193f59e9",
   "metadata": {},
   "source": [
    "## Mathematical Operations on two array"
   ]
  },
  {
   "cell_type": "code",
   "execution_count": 187,
   "id": "3c7b7a2e",
   "metadata": {},
   "outputs": [],
   "source": [
    "arr1 = np.random.randint(1, 3, (3,3))\n",
    "arr2 = np.random.randint(1, 3, (3,3))"
   ]
  },
  {
   "cell_type": "code",
   "execution_count": 188,
   "id": "02996b04",
   "metadata": {},
   "outputs": [
    {
     "data": {
      "text/plain": [
       "array([[1, 2, 2],\n",
       "       [2, 2, 2],\n",
       "       [1, 2, 2]], dtype=int32)"
      ]
     },
     "execution_count": 188,
     "metadata": {},
     "output_type": "execute_result"
    }
   ],
   "source": [
    "arr1"
   ]
  },
  {
   "cell_type": "code",
   "execution_count": 189,
   "id": "d21f54cb",
   "metadata": {},
   "outputs": [
    {
     "data": {
      "text/plain": [
       "array([[1, 2, 1],\n",
       "       [1, 2, 1],\n",
       "       [2, 2, 1]], dtype=int32)"
      ]
     },
     "execution_count": 189,
     "metadata": {},
     "output_type": "execute_result"
    }
   ],
   "source": [
    "arr2"
   ]
  },
  {
   "cell_type": "markdown",
   "id": "6f0428b1",
   "metadata": {},
   "source": [
    "### Add"
   ]
  },
  {
   "cell_type": "code",
   "execution_count": 190,
   "id": "ca5302c0",
   "metadata": {},
   "outputs": [
    {
     "data": {
      "text/plain": [
       "array([[2, 4, 3],\n",
       "       [3, 4, 3],\n",
       "       [3, 4, 3]], dtype=int32)"
      ]
     },
     "execution_count": 190,
     "metadata": {},
     "output_type": "execute_result"
    }
   ],
   "source": [
    "arr1+arr2"
   ]
  },
  {
   "cell_type": "markdown",
   "id": "cf88d064",
   "metadata": {},
   "source": [
    "### Subtract"
   ]
  },
  {
   "cell_type": "code",
   "execution_count": 191,
   "id": "725245dc",
   "metadata": {},
   "outputs": [
    {
     "data": {
      "text/plain": [
       "array([[ 0,  0, -1],\n",
       "       [-1,  0, -1],\n",
       "       [ 1,  0, -1]], dtype=int32)"
      ]
     },
     "execution_count": 191,
     "metadata": {},
     "output_type": "execute_result"
    }
   ],
   "source": [
    "arr2-arr1"
   ]
  },
  {
   "cell_type": "code",
   "execution_count": 192,
   "id": "71f391f6",
   "metadata": {},
   "outputs": [
    {
     "data": {
      "text/plain": [
       "array([[ 0,  0,  1],\n",
       "       [ 1,  0,  1],\n",
       "       [-1,  0,  1]], dtype=int32)"
      ]
     },
     "execution_count": 192,
     "metadata": {},
     "output_type": "execute_result"
    }
   ],
   "source": [
    "arr1-arr2"
   ]
  },
  {
   "cell_type": "markdown",
   "id": "1a75e1cb",
   "metadata": {},
   "source": [
    "### Multiplication"
   ]
  },
  {
   "cell_type": "code",
   "execution_count": 195,
   "id": "3dd1504c",
   "metadata": {},
   "outputs": [
    {
     "data": {
      "text/plain": [
       "array([[1, 4, 2],\n",
       "       [2, 4, 2],\n",
       "       [2, 4, 2]], dtype=int32)"
      ]
     },
     "execution_count": 195,
     "metadata": {},
     "output_type": "execute_result"
    }
   ],
   "source": [
    "arr1*arr2  # index wise multiplication >>> not like matix multiplication"
   ]
  },
  {
   "cell_type": "markdown",
   "id": "e8ce62b8",
   "metadata": {},
   "source": [
    "### Division"
   ]
  },
  {
   "cell_type": "code",
   "execution_count": 196,
   "id": "77843ab3",
   "metadata": {},
   "outputs": [
    {
     "data": {
      "text/plain": [
       "array([[1. , 1. , 2. ],\n",
       "       [2. , 1. , 2. ],\n",
       "       [0.5, 1. , 2. ]])"
      ]
     },
     "execution_count": 196,
     "metadata": {},
     "output_type": "execute_result"
    }
   ],
   "source": [
    "arr1/arr2"
   ]
  },
  {
   "cell_type": "markdown",
   "id": "8baf653d",
   "metadata": {},
   "source": [
    "- `NOTE` : Without numpy, in python if we divide any number by zero it will throw ZeroByDivision Error. But in numpy it will result to infinity"
   ]
  },
  {
   "cell_type": "code",
   "execution_count": 197,
   "id": "6fd0c39f",
   "metadata": {},
   "outputs": [
    {
     "name": "stderr",
     "output_type": "stream",
     "text": [
      "C:\\Users\\DAV BABA\\AppData\\Local\\Temp\\ipykernel_28100\\1510032488.py:1: RuntimeWarning: divide by zero encountered in divide\n",
      "  arr1/0\n"
     ]
    },
    {
     "data": {
      "text/plain": [
       "array([[inf, inf, inf],\n",
       "       [inf, inf, inf],\n",
       "       [inf, inf, inf]])"
      ]
     },
     "execution_count": 197,
     "metadata": {},
     "output_type": "execute_result"
    }
   ],
   "source": [
    "arr1/0"
   ]
  },
  {
   "cell_type": "code",
   "execution_count": 198,
   "id": "af110301",
   "metadata": {},
   "outputs": [
    {
     "data": {
      "text/plain": [
       "array([[0.5, 1. , 1. ],\n",
       "       [1. , 1. , 1. ],\n",
       "       [0.5, 1. , 1. ]])"
      ]
     },
     "execution_count": 198,
     "metadata": {},
     "output_type": "execute_result"
    }
   ],
   "source": [
    "arr1/2"
   ]
  },
  {
   "cell_type": "markdown",
   "id": "d60d6858",
   "metadata": {},
   "source": [
    "## Matrix Multiplication"
   ]
  },
  {
   "cell_type": "markdown",
   "id": "f8e0d55e",
   "metadata": {},
   "source": [
    "`Matrix` : specialised 2-D array"
   ]
  },
  {
   "cell_type": "markdown",
   "id": "548fe341",
   "metadata": {},
   "source": [
    "- Its multiplication is different from index wise multiplication."
   ]
  },
  {
   "attachments": {
    "image.png": {
     "image/png": "[encoded data removed]"
    }
   },
   "cell_type": "markdown",
   "id": "828729ea",
   "metadata": {},
   "source": [
    "![image.png](attachment:image.png)"
   ]
  },
  {
   "cell_type": "markdown",
   "id": "906b83ea",
   "metadata": {},
   "source": [
    "- No of col of matrix A = No. of rows of matrix B\n",
    "- array1 @ array2\n",
    "- np.dot(array1, array2)"
   ]
  },
  {
   "cell_type": "code",
   "execution_count": 202,
   "id": "cc75635f",
   "metadata": {},
   "outputs": [
    {
     "data": {
      "text/plain": [
       "(array([[1, 2, 2],\n",
       "        [2, 2, 2],\n",
       "        [1, 2, 2]], dtype=int32),\n",
       " array([[1, 2, 1],\n",
       "        [1, 2, 1],\n",
       "        [2, 2, 1]], dtype=int32))"
      ]
     },
     "execution_count": 202,
     "metadata": {},
     "output_type": "execute_result"
    }
   ],
   "source": [
    "arr1 , arr2"
   ]
  },
  {
   "cell_type": "code",
   "execution_count": 200,
   "id": "7201c652",
   "metadata": {},
   "outputs": [
    {
     "data": {
      "text/plain": [
       "(array([[ 7, 10,  5],\n",
       "        [ 8, 12,  6],\n",
       "        [ 7, 10,  5]], dtype=int32),\n",
       " array([[1, 4, 2],\n",
       "        [2, 4, 2],\n",
       "        [2, 4, 2]], dtype=int32))"
      ]
     },
     "execution_count": 200,
     "metadata": {},
     "output_type": "execute_result"
    }
   ],
   "source": [
    "arr1 @ arr2 , arr1 * arr2"
   ]
  },
  {
   "cell_type": "code",
   "execution_count": null,
   "id": "66acd1cd",
   "metadata": {},
   "outputs": [
    {
     "data": {
      "text/plain": [
       "array([[ 7, 10,  5],\n",
       "       [ 8, 12,  6],\n",
       "       [ 7, 10,  5]], dtype=int32)"
      ]
     },
     "execution_count": 201,
     "metadata": {},
     "output_type": "execute_result"
    }
   ],
   "source": [
    "np.dot(arr1, arr2) # other way of matrix multiplication."
   ]
  },
  {
   "cell_type": "markdown",
   "id": "fd5a207c",
   "metadata": {},
   "source": [
    "### Broadcastings"
   ]
  },
  {
   "cell_type": "code",
   "execution_count": 203,
   "id": "ae8c5a2d",
   "metadata": {},
   "outputs": [],
   "source": [
    "arr = np.zeros((3,4))"
   ]
  },
  {
   "cell_type": "code",
   "execution_count": 204,
   "id": "bff9e15e",
   "metadata": {},
   "outputs": [
    {
     "data": {
      "text/plain": [
       "array([[0., 0., 0., 0.],\n",
       "       [0., 0., 0., 0.],\n",
       "       [0., 0., 0., 0.]])"
      ]
     },
     "execution_count": 204,
     "metadata": {},
     "output_type": "execute_result"
    }
   ],
   "source": [
    "arr"
   ]
  },
  {
   "cell_type": "code",
   "execution_count": 205,
   "id": "f5555b4c",
   "metadata": {},
   "outputs": [
    {
     "data": {
      "text/plain": [
       "array([[5., 5., 5., 5.],\n",
       "       [5., 5., 5., 5.],\n",
       "       [5., 5., 5., 5.]])"
      ]
     },
     "execution_count": 205,
     "metadata": {},
     "output_type": "execute_result"
    }
   ],
   "source": [
    "arr +5"
   ]
  },
  {
   "cell_type": "code",
   "execution_count": 206,
   "id": "de7f20b9",
   "metadata": {},
   "outputs": [
    {
     "data": {
      "text/plain": [
       "array([[-5., -5., -5., -5.],\n",
       "       [-5., -5., -5., -5.],\n",
       "       [-5., -5., -5., -5.]])"
      ]
     },
     "execution_count": 206,
     "metadata": {},
     "output_type": "execute_result"
    }
   ],
   "source": [
    "arr -5"
   ]
  },
  {
   "cell_type": "code",
   "execution_count": 207,
   "id": "772753df",
   "metadata": {},
   "outputs": [],
   "source": [
    "a = np.array([1,2,3,4])"
   ]
  },
  {
   "cell_type": "code",
   "execution_count": 208,
   "id": "88b95649",
   "metadata": {},
   "outputs": [
    {
     "data": {
      "text/plain": [
       "array([1, 2, 3, 4])"
      ]
     },
     "execution_count": 208,
     "metadata": {},
     "output_type": "execute_result"
    }
   ],
   "source": [
    "a"
   ]
  },
  {
   "cell_type": "code",
   "execution_count": 209,
   "id": "68ab4253",
   "metadata": {},
   "outputs": [
    {
     "data": {
      "text/plain": [
       "array([[0., 0., 0., 0.],\n",
       "       [0., 0., 0., 0.],\n",
       "       [0., 0., 0., 0.]])"
      ]
     },
     "execution_count": 209,
     "metadata": {},
     "output_type": "execute_result"
    }
   ],
   "source": [
    "arr"
   ]
  },
  {
   "cell_type": "code",
   "execution_count": 210,
   "id": "16b146f2",
   "metadata": {},
   "outputs": [
    {
     "data": {
      "text/plain": [
       "array([[1., 2., 3., 4.],\n",
       "       [1., 2., 3., 4.],\n",
       "       [1., 2., 3., 4.]])"
      ]
     },
     "execution_count": 210,
     "metadata": {},
     "output_type": "execute_result"
    }
   ],
   "source": [
    "arr + a"
   ]
  },
  {
   "cell_type": "markdown",
   "id": "8d09d7e6",
   "metadata": {},
   "source": [
    "### Transpose"
   ]
  },
  {
   "cell_type": "markdown",
   "id": "9b76ec7d",
   "metadata": {},
   "source": [
    "- Converting rows to col and col to rows"
   ]
  },
  {
   "cell_type": "code",
   "execution_count": 215,
   "id": "b0f8de85",
   "metadata": {},
   "outputs": [],
   "source": [
    "a = np.array([[1,2,3,4]])"
   ]
  },
  {
   "cell_type": "code",
   "execution_count": 216,
   "id": "ec72124e",
   "metadata": {},
   "outputs": [
    {
     "data": {
      "text/plain": [
       "array([[1, 2, 3, 4]])"
      ]
     },
     "execution_count": 216,
     "metadata": {},
     "output_type": "execute_result"
    }
   ],
   "source": [
    "a"
   ]
  },
  {
   "cell_type": "code",
   "execution_count": 217,
   "id": "79acb930",
   "metadata": {},
   "outputs": [
    {
     "data": {
      "text/plain": [
       "array([[1],\n",
       "       [2],\n",
       "       [3],\n",
       "       [4]])"
      ]
     },
     "execution_count": 217,
     "metadata": {},
     "output_type": "execute_result"
    }
   ],
   "source": [
    "a.T"
   ]
  },
  {
   "cell_type": "code",
   "execution_count": 218,
   "id": "ac85a000",
   "metadata": {},
   "outputs": [
    {
     "data": {
      "text/plain": [
       "array([[1, 2, 2],\n",
       "       [2, 2, 2],\n",
       "       [1, 2, 2]], dtype=int32)"
      ]
     },
     "execution_count": 218,
     "metadata": {},
     "output_type": "execute_result"
    }
   ],
   "source": [
    "arr1"
   ]
  },
  {
   "cell_type": "code",
   "execution_count": 219,
   "id": "79f428a2",
   "metadata": {},
   "outputs": [
    {
     "data": {
      "text/plain": [
       "array([[1, 2, 1],\n",
       "       [2, 2, 2],\n",
       "       [2, 2, 2]], dtype=int32)"
      ]
     },
     "execution_count": 219,
     "metadata": {},
     "output_type": "execute_result"
    }
   ],
   "source": [
    "arr1.T"
   ]
  },
  {
   "cell_type": "code",
   "execution_count": null,
   "id": "fe6cddac",
   "metadata": {},
   "outputs": [],
   "source": []
  }
 ],
 "metadata": {
  "kernelspec": {
   "display_name": "Python 3",
   "language": "python",
   "name": "python3"
  },
  "language_info": {
   "codemirror_mode": {
    "name": "ipython",
    "version": 3
   },
   "file_extension": ".py",
   "mimetype": "text/x-python",
   "name": "python",
   "nbconvert_exporter": "python",
   "pygments_lexer": "ipython3",
   "version": "3.13.5"
  }
 },
 "nbformat": 4,
 "nbformat_minor": 5
}
