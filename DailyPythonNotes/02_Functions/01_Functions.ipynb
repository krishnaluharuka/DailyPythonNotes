{
 "cells": [
  {
   "cell_type": "markdown",
   "id": "8f00bcd6",
   "metadata": {},
   "source": [
    "# Function"
   ]
  },
  {
   "cell_type": "markdown",
   "id": "e3b14c72",
   "metadata": {},
   "source": [
    "A block of reusable code which is used to perform some specific tasks."
   ]
  },
  {
   "cell_type": "markdown",
   "id": "068610be",
   "metadata": {},
   "source": [
    "There are two types of functions:\n",
    "1. in-built function\n",
    "2. user-defined function"
   ]
  },
  {
   "cell_type": "markdown",
   "id": "4f05f4af",
   "metadata": {},
   "source": [
    "## In-built function"
   ]
  },
  {
   "cell_type": "code",
   "execution_count": null,
   "id": "d3f4aeec",
   "metadata": {},
   "outputs": [
    {
     "data": {
      "text/plain": [
       "15"
      ]
     },
     "metadata": {},
     "output_type": "display_data"
    }
   ],
   "source": [
    "l=[1,2,3,4,5]\n",
    "sum(l)  # sum is built in"
   ]
  },
  {
   "cell_type": "code",
   "execution_count": null,
   "id": "d71a4a6c",
   "metadata": {},
   "outputs": [],
   "source": [
    "# Ceiling function << roof << Nearest highest value\n",
    "# Floor function << ground << Nearest lowest value"
   ]
  },
  {
   "cell_type": "markdown",
   "id": "95a744a0",
   "metadata": {},
   "source": [
    "- To call some in-built function we import python library.\n",
    "- For ceiling and floor function we import math library"
   ]
  },
  {
   "cell_type": "code",
   "execution_count": null,
   "id": "ddbedbe7",
   "metadata": {},
   "outputs": [],
   "source": [
    "import math as p"
   ]
  },
  {
   "cell_type": "code",
   "execution_count": null,
   "id": "aa49ccdb",
   "metadata": {},
   "outputs": [
    {
     "data": {
      "text/plain": [
       "7"
      ]
     },
     "metadata": {},
     "output_type": "display_data"
    }
   ],
   "source": [
    "p.ceil(6.5)"
   ]
  },
  {
   "cell_type": "code",
   "execution_count": null,
   "id": "98cee29d",
   "metadata": {},
   "outputs": [
    {
     "data": {
      "text/plain": [
       "6"
      ]
     },
     "metadata": {},
     "output_type": "display_data"
    }
   ],
   "source": [
    "p.floor(6.5)"
   ]
  },
  {
   "cell_type": "markdown",
   "id": "f77f1ec5",
   "metadata": {},
   "source": [
    "## User-defined function"
   ]
  },
  {
   "cell_type": "code",
   "execution_count": null,
   "id": "bc8cd337",
   "metadata": {},
   "outputs": [],
   "source": [
    "# syntax\n",
    "# def func():\n",
    "#      do something - body of function\n",
    "# return value"
   ]
  },
  {
   "cell_type": "markdown",
   "id": "6a29eb05",
   "metadata": {},
   "source": [
    "- Why function needed?\n",
    "1. reusable\n",
    "2. make the code cluster free\n",
    "3. neat, clean and organise code\n",
    "4. saves time"
   ]
  },
  {
   "cell_type": "markdown",
   "id": "e47d9dc0",
   "metadata": {},
   "source": [
    "- Examples"
   ]
  },
  {
   "cell_type": "code",
   "execution_count": null,
   "id": "a99cccd0",
   "metadata": {},
   "outputs": [
    {
     "name": "stdout",
     "output_type": "stream",
     "text": [
      "Welcome to prag's Universe! Anne\n",
      "Welcome to Prag's Universe! John\n",
      "Welcome to Prag's Universe! Marie\n"
     ]
    }
   ],
   "source": [
    "print(\"Welcome to prag's Universe! Anne\")\n",
    "print(\"Welcome to Prag's Universe! John\")\n",
    "print(\"Welcome to Prag's Universe! Marie\")"
   ]
  },
  {
   "cell_type": "code",
   "execution_count": null,
   "id": "43b9c0f8",
   "metadata": {},
   "outputs": [
    {
     "name": "stdout",
     "output_type": "stream",
     "text": [
      "Welcome to Prag's Universe ! \n"
     ]
    }
   ],
   "source": [
    "def welcome():\n",
    "    print(\"Welcome to Prag's Universe ! \")\n",
    "welcome()"
   ]
  },
  {
   "cell_type": "code",
   "execution_count": null,
   "id": "3e01ffe7",
   "metadata": {},
   "outputs": [
    {
     "name": "stdout",
     "output_type": "stream",
     "text": [
      "Welcome to Prag's Universe !  Anne\n"
     ]
    }
   ],
   "source": [
    "def welcome(name): # name << variable << positional arguements << fixed position\n",
    "    print(\"Welcome to Prag's Universe ! \",name)\n",
    "welcome(\"Anne\")"
   ]
  },
  {
   "cell_type": "code",
   "execution_count": null,
   "id": "ca057b98",
   "metadata": {},
   "outputs": [
    {
     "name": "stdout",
     "output_type": "stream",
     "text": [
      "Welcome to Prag's Universe !  John\n"
     ]
    }
   ],
   "source": [
    "welcome(\"John\")"
   ]
  },
  {
   "cell_type": "code",
   "execution_count": null,
   "id": "c86569ae",
   "metadata": {},
   "outputs": [],
   "source": [
    "def add():\n",
    "    x =1\n",
    "    y =4\n",
    "    result = x+y\n",
    "    return result"
   ]
  },
  {
   "cell_type": "code",
   "execution_count": null,
   "id": "517cb7b1",
   "metadata": {},
   "outputs": [
    {
     "data": {
      "text/plain": [
       "5"
      ]
     },
     "metadata": {},
     "output_type": "display_data"
    }
   ],
   "source": [
    "add()"
   ]
  },
  {
   "cell_type": "code",
   "execution_count": null,
   "id": "60b1fb2f",
   "metadata": {},
   "outputs": [],
   "source": [
    "x = \"hi\""
   ]
  },
  {
   "cell_type": "code",
   "execution_count": null,
   "id": "04a13bb4",
   "metadata": {},
   "outputs": [
    {
     "data": {
      "text/plain": [
       "['__add__',\n",
       " '__class__',\n",
       " '__contains__',\n",
       " '__delattr__',\n",
       " '__dir__',\n",
       " '__doc__',\n",
       " '__eq__',\n",
       " '__format__',\n",
       " '__ge__',\n",
       " '__getattribute__',\n",
       " '__getitem__',\n",
       " '__getnewargs__',\n",
       " '__getstate__',\n",
       " '__gt__',\n",
       " '__hash__',\n",
       " '__init__',\n",
       " '__init_subclass__',\n",
       " '__iter__',\n",
       " '__le__',\n",
       " '__len__',\n",
       " '__lt__',\n",
       " '__mod__',\n",
       " '__mul__',\n",
       " '__ne__',\n",
       " '__new__',\n",
       " '__reduce__',\n",
       " '__reduce_ex__',\n",
       " '__repr__',\n",
       " '__rmod__',\n",
       " '__rmul__',\n",
       " '__setattr__',\n",
       " '__sizeof__',\n",
       " '__str__',\n",
       " '__subclasshook__',\n",
       " 'capitalize',\n",
       " 'casefold',\n",
       " 'center',\n",
       " 'count',\n",
       " 'encode',\n",
       " 'endswith',\n",
       " 'expandtabs',\n",
       " 'find',\n",
       " 'format',\n",
       " 'format_map',\n",
       " 'index',\n",
       " 'isalnum',\n",
       " 'isalpha',\n",
       " 'isascii',\n",
       " 'isdecimal',\n",
       " 'isdigit',\n",
       " 'isidentifier',\n",
       " 'islower',\n",
       " 'isnumeric',\n",
       " 'isprintable',\n",
       " 'isspace',\n",
       " 'istitle',\n",
       " 'isupper',\n",
       " 'join',\n",
       " 'ljust',\n",
       " 'lower',\n",
       " 'lstrip',\n",
       " 'maketrans',\n",
       " 'partition',\n",
       " 'removeprefix',\n",
       " 'removesuffix',\n",
       " 'replace',\n",
       " 'rfind',\n",
       " 'rindex',\n",
       " 'rjust',\n",
       " 'rpartition',\n",
       " 'rsplit',\n",
       " 'rstrip',\n",
       " 'split',\n",
       " 'splitlines',\n",
       " 'startswith',\n",
       " 'strip',\n",
       " 'swapcase',\n",
       " 'title',\n",
       " 'translate',\n",
       " 'upper',\n",
       " 'zfill']"
      ]
     },
     "metadata": {},
     "output_type": "display_data"
    }
   ],
   "source": [
    "dir(x)"
   ]
  },
  {
   "cell_type": "code",
   "execution_count": null,
   "id": "db7dfb65",
   "metadata": {},
   "outputs": [],
   "source": [
    "def add():\n",
    "    x = int(input(\"enter 1st number : \"))\n",
    "    y = int(input(\"enter 2nd number : \"))\n",
    "    result=x+y\n",
    "    return result"
   ]
  },
  {
   "cell_type": "code",
   "execution_count": null,
   "id": "dfdc37d1",
   "metadata": {},
   "outputs": [
    {
     "name": "stdout",
     "output_type": "stream",
     "text": [
      "enter 1st number : 10\n",
      "enter 2nd number : 5\n"
     ]
    },
    {
     "data": {
      "text/plain": [
       "15"
      ]
     },
     "metadata": {},
     "output_type": "display_data"
    }
   ],
   "source": [
    "add()"
   ]
  },
  {
   "cell_type": "code",
   "execution_count": null,
   "id": "7c480316",
   "metadata": {},
   "outputs": [
    {
     "name": "stdout",
     "output_type": "stream",
     "text": [
      "This is my first function \n"
     ]
    }
   ],
   "source": [
    "def func():\n",
    "    print(\"This is my first function \")\n",
    "func()"
   ]
  },
  {
   "cell_type": "code",
   "execution_count": null,
   "id": "2fbbc344",
   "metadata": {},
   "outputs": [
    {
     "data": {
      "application/vnd.google.colaboratory.intrinsic+json": {
       "type": "string"
      },
      "text/plain": [
       "'This is my first function in Python'"
      ]
     },
     "metadata": {},
     "output_type": "display_data"
    }
   ],
   "source": [
    "\"This is my first function \" + \"in Python\""
   ]
  },
  {
   "cell_type": "code",
   "execution_count": null,
   "id": "49f6ca1a",
   "metadata": {},
   "outputs": [],
   "source": [
    "# func() + \"in python \" will throw error of unsupported operand"
   ]
  },
  {
   "cell_type": "code",
   "execution_count": null,
   "id": "5104aa31",
   "metadata": {},
   "outputs": [],
   "source": [
    "# return function"
   ]
  },
  {
   "cell_type": "code",
   "execution_count": null,
   "id": "34379bdd",
   "metadata": {},
   "outputs": [
    {
     "data": {
      "application/vnd.google.colaboratory.intrinsic+json": {
       "type": "string"
      },
      "text/plain": [
       "'This is my first function '"
      ]
     },
     "metadata": {},
     "output_type": "display_data"
    }
   ],
   "source": [
    "def func():\n",
    "    return \"This is my first function \" # return the vale as it is\n",
    "func()"
   ]
  },
  {
   "cell_type": "code",
   "execution_count": null,
   "id": "40d5afcf",
   "metadata": {},
   "outputs": [
    {
     "data": {
      "application/vnd.google.colaboratory.intrinsic+json": {
       "type": "string"
      },
      "text/plain": [
       "'This is my first function in Python'"
      ]
     },
     "metadata": {},
     "output_type": "display_data"
    }
   ],
   "source": [
    "func() + \"in Python\""
   ]
  },
  {
   "cell_type": "markdown",
   "id": "30a25b19",
   "metadata": {},
   "source": [
    "- Example"
   ]
  },
  {
   "cell_type": "code",
   "execution_count": null,
   "id": "d69756d2",
   "metadata": {},
   "outputs": [
    {
     "data": {
      "text/plain": [
       "('This is my first function', 23, True, (9+7j))"
      ]
     },
     "metadata": {},
     "output_type": "display_data"
    }
   ],
   "source": [
    "def func():\n",
    "    return \"This is my first function\",23,True,9+7j\n",
    "func()"
   ]
  },
  {
   "cell_type": "code",
   "execution_count": null,
   "id": "721f3691",
   "metadata": {},
   "outputs": [
    {
     "data": {
      "text/plain": [
       "tuple"
      ]
     },
     "metadata": {},
     "output_type": "display_data"
    }
   ],
   "source": [
    "a=func()\n",
    "type(a)"
   ]
  },
  {
   "cell_type": "code",
   "execution_count": null,
   "id": "852b6be4",
   "metadata": {},
   "outputs": [],
   "source": [
    "a, b, c, d=func()"
   ]
  },
  {
   "cell_type": "code",
   "execution_count": null,
   "id": "e387b182",
   "metadata": {},
   "outputs": [
    {
     "data": {
      "application/vnd.google.colaboratory.intrinsic+json": {
       "type": "string"
      },
      "text/plain": [
       "'This is my first function'"
      ]
     },
     "metadata": {},
     "output_type": "display_data"
    }
   ],
   "source": [
    "a"
   ]
  },
  {
   "cell_type": "code",
   "execution_count": null,
   "id": "12829069",
   "metadata": {},
   "outputs": [
    {
     "data": {
      "text/plain": [
       "(9+7j)"
      ]
     },
     "metadata": {},
     "output_type": "display_data"
    }
   ],
   "source": [
    "d"
   ]
  },
  {
   "cell_type": "code",
   "execution_count": null,
   "id": "cf838c12",
   "metadata": {},
   "outputs": [
    {
     "data": {
      "text/plain": [
       "23"
      ]
     },
     "metadata": {},
     "output_type": "display_data"
    }
   ],
   "source": [
    "b"
   ]
  },
  {
   "cell_type": "code",
   "execution_count": null,
   "id": "d32d1095",
   "metadata": {},
   "outputs": [],
   "source": [
    "def func():\n",
    "    return \"This is my first function\",23,True,9+7j\n",
    "func()\n"
   ]
  },
  {
   "cell_type": "code",
   "execution_count": null,
   "id": "e9e8d090",
   "metadata": {},
   "outputs": [],
   "source": []
  }
 ],
 "metadata": {
  "language_info": {
   "name": "python"
  }
 },
 "nbformat": 4,
 "nbformat_minor": 5
}
