{
 "cells": [
  {
   "cell_type": "markdown",
   "id": "48cd249d",
   "metadata": {
    "id": "GHUnIT5bf9wL"
   },
   "source": [
    "# Flow Control in Python"
   ]
  },
  {
   "cell_type": "markdown",
   "id": "8145d77f",
   "metadata": {
    "id": "0DuIYBg4gFxN"
   },
   "source": [
    "-Flow control in Python refers to the mechanisms that govern the order in which statements are instructions are executed. This is crucial for implementing logic in progress.\n",
    "There are three type sof flow control:\n",
    "- Conditional statement\n",
    "- Loop Statement\n",
    "- Control Statement\n"
   ]
  },
  {
   "cell_type": "markdown",
   "id": "97547caa",
   "metadata": {
    "id": "T4j8_NE8gdZy"
   },
   "source": [
    "![image.png](data:image/png;base64,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)"
   ]
  },
  {
   "cell_type": "markdown",
   "id": "01ced362",
   "metadata": {
    "id": "FalTm2S7gRW9"
   },
   "source": [
    "## Conditional Statement"
   ]
  },
  {
   "cell_type": "markdown",
   "id": "64f5535f",
   "metadata": {
    "id": "KNSdTE03gire"
   },
   "source": [
    "It helps you to code decisions based on some pre defined conditions / based on some conditions we will make some decisions.\n",
    "- based on whether a condition is True or false, code take different paths"
   ]
  },
  {
   "cell_type": "markdown",
   "id": "c31ce6a5",
   "metadata": {
    "id": "HybUfsw4g0LN"
   },
   "source": [
    "Conditional Statements are of four types:\n",
    "- if statement\n",
    "- if-else statement\n",
    "- if-elif-else ladder\n",
    "- nested-if-else"
   ]
  },
  {
   "cell_type": "markdown",
   "id": "bc0ef39b",
   "metadata": {
    "id": "DWpzrOpJhYgS"
   },
   "source": [
    "### if statements"
   ]
  },
  {
   "cell_type": "markdown",
   "id": "dd3c261b",
   "metadata": {
    "id": "tH5jyebFhbhk"
   },
   "source": [
    "It lets you run a block of code only when a certain condition is True. It means if the condition is false, the block will not execute any result.\n",
    "- Syntax:\n",
    "if condition True:\n",
    "    print(Block will execute this part)\n",
    "Indentation in print statement is must\n"
   ]
  },
  {
   "cell_type": "code",
   "execution_count": null,
   "id": "29cac302",
   "metadata": {
    "colab": {
     "base_uri": "https://localhost:8080/"
    },
    "id": "UcB3AK2ydba8",
    "outputId": "c1a57207-7126-4fa8-a2fb-c55ed54558de"
   },
   "outputs": [
    {
     "name": "stdout",
     "output_type": "stream",
     "text": [
      "100\n"
     ]
    }
   ],
   "source": [
    "a=100\n",
    "if a>=100:\n",
    "    print(a)"
   ]
  },
  {
   "cell_type": "code",
   "execution_count": null,
   "id": "f14478aa",
   "metadata": {
    "colab": {
     "base_uri": "https://localhost:8080/"
    },
    "id": "wVMmwHMDikTs",
    "outputId": "f3b457f1-dc2f-47f0-81f3-09a6db1516a2"
   },
   "outputs": [
    {
     "name": "stdout",
     "output_type": "stream",
     "text": [
      "Give me food\n"
     ]
    }
   ],
   "source": [
    "hungry=True\n",
    "if hungry:\n",
    "    print(\"Give me food\")"
   ]
  },
  {
   "cell_type": "code",
   "execution_count": null,
   "id": "97fac294",
   "metadata": {
    "id": "eOLHnDyWirca"
   },
   "outputs": [],
   "source": [
    "hungry= False\n",
    "if hungry:\n",
    "    print(\"Not hungry\") # no output because condition is not satisfied"
   ]
  },
  {
   "cell_type": "code",
   "execution_count": null,
   "id": "9c142552",
   "metadata": {
    "colab": {
     "base_uri": "https://localhost:8080/"
    },
    "id": "11AIXllsi6ZY",
    "outputId": "091dbf8b-59fe-46d1-af39-6f4efdb9160a"
   },
   "outputs": [
    {
     "name": "stdout",
     "output_type": "stream",
     "text": [
      "Happy soul\n"
     ]
    }
   ],
   "source": [
    "name=\"Prag\"\n",
    "if name==\"Prag\":\n",
    "    print(\"Happy soul\")"
   ]
  },
  {
   "cell_type": "code",
   "execution_count": null,
   "id": "29fc4021",
   "metadata": {
    "colab": {
     "base_uri": "https://localhost:8080/"
    },
    "id": "fMDIhm5-jFwb",
    "outputId": "e13d003f-e612-450a-ea45-4e581b5cb5ed"
   },
   "outputs": [
    {
     "name": "stdout",
     "output_type": "stream",
     "text": [
      "Use umbrella ☔\n"
     ]
    }
   ],
   "source": [
    "weather=\"Rainy\"\n",
    "if weather==\"Rainy\":\n",
    "    print(\"Use umbrella ☔\")"
   ]
  },
  {
   "cell_type": "markdown",
   "id": "bce0459e",
   "metadata": {
    "id": "MWyW3e4nkRz1"
   },
   "source": [
    "#### Projects on If"
   ]
  },
  {
   "cell_type": "code",
   "execution_count": null,
   "id": "4b3f682f",
   "metadata": {
    "colab": {
     "base_uri": "https://localhost:8080/"
    },
    "id": "m-tilAU4kFs7",
    "outputId": "9e475815-9cdf-4afa-d911-f0e8b700f014"
   },
   "outputs": [
    {
     "name": "stdout",
     "output_type": "stream",
     "text": [
      "Enter any number : 56\n",
      "this is even no. \n"
     ]
    }
   ],
   "source": [
    "#Check even number\n",
    "value=int(input(\"Enter any number : \"))\n",
    "if value%2==0:\n",
    "    print(\"this is even no. \")"
   ]
  },
  {
   "cell_type": "code",
   "execution_count": null,
   "id": "59e129b6",
   "metadata": {
    "colab": {
     "base_uri": "https://localhost:8080/"
    },
    "id": "VlEPmJaFkl4R",
    "outputId": "5f6e6841-f121-46dd-babc-0360938a2b33"
   },
   "outputs": [
    {
     "name": "stdout",
     "output_type": "stream",
     "text": [
      "30  is a room temperature.\n"
     ]
    }
   ],
   "source": [
    "# temperature\n",
    "temp=30\n",
    "if temp>25:\n",
    "    print(temp, \" is a room temperature.\")"
   ]
  },
  {
   "cell_type": "code",
   "execution_count": null,
   "id": "411206e9",
   "metadata": {
    "colab": {
     "base_uri": "https://localhost:8080/"
    },
    "id": "QdlOG6QOl63g",
    "outputId": "da590b9d-a383-4929-da5b-e07d39a96e2b"
   },
   "outputs": [
    {
     "name": "stdout",
     "output_type": "stream",
     "text": [
      "Perfect Name\n"
     ]
    }
   ],
   "source": [
    "# Multiple condition in single line\n",
    "name=\"Prag\"\n",
    "if (type(name)==str) & (len(name)==4):\n",
    "    print(\"Perfect Name\")"
   ]
  },
  {
   "cell_type": "code",
   "execution_count": null,
   "id": "29c5f820",
   "metadata": {
    "colab": {
     "base_uri": "https://localhost:8080/"
    },
    "id": "Ou6WiPJ7md49",
    "outputId": "a81faf8b-5355-4361-a1da-60e11f3cebe6"
   },
   "outputs": [
    {
     "name": "stdout",
     "output_type": "stream",
     "text": [
      "Enter 1st 4 letter of your name : Prag\n",
      "Perfect Name\n"
     ]
    }
   ],
   "source": [
    "# Multiple condition in single line\n",
    "name=input(\"Enter 1st 4 letter of your name : \")\n",
    "if (type(name)==str) & (len(name)==4):\n",
    "    print(\"Perfect Name\")"
   ]
  },
  {
   "cell_type": "markdown",
   "id": "e2a86d52",
   "metadata": {
    "id": "8-Rve-Q4w0fG"
   },
   "source": [
    "### if-else statements"
   ]
  },
  {
   "cell_type": "markdown",
   "id": "78919fc2",
   "metadata": {
    "id": "pbxPMhs-1QIs"
   },
   "source": [
    "In real life decisions are made based on two conditions which can be complex. to ease this we use if-else statements.\n",
    "- syntax\n",
    "if condition:\n",
    "    do something if condition is True\n",
    "else:\n",
    "    do something if condition is False"
   ]
  },
  {
   "cell_type": "markdown",
   "id": "9874d407",
   "metadata": {
    "id": "hzsbg2Sd1h6E"
   },
   "source": [
    "How it works?\n",
    "- Check the if condition\n",
    "- if its True, it will run If block\n",
    "- if its False, it will run Else block"
   ]
  },
  {
   "cell_type": "code",
   "execution_count": null,
   "id": "32d14b79",
   "metadata": {
    "colab": {
     "base_uri": "https://localhost:8080/"
    },
    "id": "wZBMT_o0nniz",
    "outputId": "0d67626e-b03b-4fd3-c1f2-037228a12c08"
   },
   "outputs": [
    {
     "name": "stdout",
     "output_type": "stream",
     "text": [
      "You are eligible to vote.\n"
     ]
    }
   ],
   "source": [
    "age=18\n",
    "if age>=18:\n",
    "    print(\"You are eligible to vote.\")\n",
    "else :\n",
    "    print(\"You are minor.\")"
   ]
  },
  {
   "cell_type": "code",
   "execution_count": null,
   "id": "41960b3b",
   "metadata": {
    "colab": {
     "base_uri": "https://localhost:8080/"
    },
    "id": "P9ul9LV02E4k",
    "outputId": "81ea9616-c814-428c-8a60-b2081fa35279"
   },
   "outputs": [
    {
     "name": "stdout",
     "output_type": "stream",
     "text": [
      "Payment is successful.\n"
     ]
    }
   ],
   "source": [
    "payment=True\n",
    "if payment:\n",
    "    print(\"Payment is successful.\")\n",
    "else:\n",
    "    print(\"Transaction failed\")"
   ]
  },
  {
   "cell_type": "code",
   "execution_count": null,
   "id": "6bf2bdfa",
   "metadata": {
    "colab": {
     "base_uri": "https://localhost:8080/"
    },
    "id": "rLpyVR_K2g4_",
    "outputId": "04cea085-c104-4f52-9b46-adfcd1a3e9ea"
   },
   "outputs": [
    {
     "name": "stdout",
     "output_type": "stream",
     "text": [
      "Transaction failed\n"
     ]
    }
   ],
   "source": [
    "payment=False\n",
    "if payment:\n",
    "    print(\"Payment is successful.\")\n",
    "else:\n",
    "    print(\"Transaction failed\")"
   ]
  },
  {
   "cell_type": "code",
   "execution_count": null,
   "id": "dd84c8a5",
   "metadata": {
    "colab": {
     "base_uri": "https://localhost:8080/"
    },
    "id": "4IHtcvL52lyX",
    "outputId": "f086dfdc-ebdb-417b-a025-54639f660b32"
   },
   "outputs": [
    {
     "name": "stdout",
     "output_type": "stream",
     "text": [
      "Enter your marks : 67\n",
      "PASS\n"
     ]
    }
   ],
   "source": [
    "marks=float(input(\"Enter your marks : \"))\n",
    "if 100>=marks>=45:\n",
    "    print(\"PASS\")\n",
    "else :\n",
    "    print(\"FAIL\")"
   ]
  },
  {
   "cell_type": "code",
   "execution_count": null,
   "id": "145e128f",
   "metadata": {
    "colab": {
     "base_uri": "https://localhost:8080/"
    },
    "id": "TEBFGFnY5_SG",
    "outputId": "6bf5e79c-27d4-4e9d-ac93-df8d6b94da68"
   },
   "outputs": [
    {
     "name": "stdout",
     "output_type": "stream",
     "text": [
      "Enter the number : 876\n",
      "876  is Even no.\n"
     ]
    }
   ],
   "source": [
    "# Even or Odd\n",
    "number=int(input(\"Enter the number : \"))\n",
    "if number%2==0:\n",
    "    print(number, \" is Even no.\")\n",
    "else :\n",
    "    print(number, \" is Odd no.\")"
   ]
  },
  {
   "cell_type": "markdown",
   "id": "acf8ce9c",
   "metadata": {
    "id": "Nqvw5QzS708n"
   },
   "source": [
    "### if-elif-else Statements"
   ]
  },
  {
   "cell_type": "markdown",
   "id": "3dd40c4f",
   "metadata": {
    "id": "nfnR0wxR76JG"
   },
   "source": [
    "Sometime we have multiple conditions to check.\n",
    "- Syntax\n",
    "- if condition:\n",
    "    if True run this block\n",
    "- elif condition:\n",
    "    if True run this block\n",
    "- elif conditon\n",
    "    if True run this block\n",
    "- else :\n",
    "    if NOTA True run this block"
   ]
  },
  {
   "cell_type": "code",
   "execution_count": null,
   "id": "196bf2b9",
   "metadata": {
    "colab": {
     "base_uri": "https://localhost:8080/"
    },
    "id": "9H-Kbuu-7wsn",
    "outputId": "dd2e32db-220e-4636-f64f-6276537abb27"
   },
   "outputs": [
    {
     "name": "stdout",
     "output_type": "stream",
     "text": [
      "D\n"
     ]
    }
   ],
   "source": [
    "marks=68\n",
    "if marks>90:\n",
    "    print(\"A\")\n",
    "elif marks>80:\n",
    "    print(\"B\")\n",
    "elif marks>70:\n",
    "    print(\"C\")\n",
    "elif marks>60:\n",
    "    print(\"D\")\n",
    "else:\n",
    "    print(\"Fail\")"
   ]
  },
  {
   "cell_type": "code",
   "execution_count": null,
   "id": "3358d9da",
   "metadata": {
    "colab": {
     "base_uri": "https://localhost:8080/"
    },
    "id": "k-EO52pd9lWu",
    "outputId": "d7c8ae86-bc2b-427b-ca3c-9072e70e1309"
   },
   "outputs": [
    {
     "name": "stdout",
     "output_type": "stream",
     "text": [
      "Enter the temperature in celcius : 23\n",
      "Pleasant whether\n"
     ]
    }
   ],
   "source": [
    "temp=int(input(\"Enter the temperature in celcius : \"))\n",
    "if temp >= 35:\n",
    "    print(\"It's HOT outside.\")\n",
    "elif temp >= 25:\n",
    "    print(\"Nice whether\")\n",
    "elif 20<temp<25:\n",
    "    print(\"Pleasant whether\")\n",
    "else:\n",
    "    print(\"Very cold\")"
   ]
  },
  {
   "cell_type": "markdown",
   "id": "4042e8da",
   "metadata": {
    "id": "kekN0rCWsOSH"
   },
   "source": [
    "### Nested if else Statements"
   ]
  },
  {
   "cell_type": "markdown",
   "id": "894eb803",
   "metadata": {
    "id": "6wgpygZI3Ajs"
   },
   "source": [
    "It is used to put one if-else statements block inside other"
   ]
  },
  {
   "cell_type": "code",
   "execution_count": null,
   "id": "ffe610a7",
   "metadata": {
    "id": "2gVDWnL73Og1"
   },
   "outputs": [],
   "source": [
    "#Syntax\n",
    "# if condition1:\n",
    "#    if condition2:\n",
    "#   else:\n",
    "#else:"
   ]
  },
  {
   "cell_type": "code",
   "execution_count": null,
   "id": "f56a7007",
   "metadata": {
    "colab": {
     "base_uri": "https://localhost:8080/"
    },
    "id": "Shl6fWEU-RBJ",
    "outputId": "5a16a45b-fd4c-41f8-af69-3a176119213f"
   },
   "outputs": [
    {
     "name": "stdout",
     "output_type": "stream",
     "text": [
      "Enter your marks out of 500 : 450\n",
      "Passed with Distinction.\n"
     ]
    }
   ],
   "source": [
    "Marks=int(input(\"Enter your marks out of 500 : \"))\n",
    "if Marks>=300:\n",
    "    if Marks>=450:\n",
    "        print(\"Passed with Distinction.\")\n",
    "    elif Marks>=400:\n",
    "        print(\"Passed with Grade A.\")\n",
    "    elif Marks>=350:\n",
    "        print(\"Passed with Grade B.\")\n",
    "    else :\n",
    "        print(\"Just Passed\")\n",
    "else :\n",
    "    print(\"FAIL\")"
   ]
  }
 ],
 "metadata": {},
 "nbformat": 4,
 "nbformat_minor": 5
}
