{
 "cells": [
  {
   "cell_type": "markdown",
   "id": "f4e9a69d",
   "metadata": {},
   "source": [
    "## Dunder Method / Magic Method / Special Method"
   ]
  },
  {
   "cell_type": "markdown",
   "id": "f59a761e",
   "metadata": {},
   "source": [
    "- These are the methods defined by built-in classes in python\n",
    "- Classes define these type of methods for creating custom objects\n",
    "- Implementing operator overloading in Python\n",
    "- dunder = d + under , d == double , under == underscore"
   ]
  },
  {
   "cell_type": "code",
   "execution_count": null,
   "id": "956f4532",
   "metadata": {},
   "outputs": [
    {
     "name": "stdout",
     "output_type": "stream",
     "text": [
      "hello Universe!\n"
     ]
    }
   ],
   "source": [
    "print(\"hello Universe!\") # print is a keyword / in-built function"
   ]
  },
  {
   "cell_type": "code",
   "execution_count": null,
   "id": "0e98e1f5",
   "metadata": {},
   "outputs": [
    {
     "data": {
      "text/plain": [
       "'PWSkills'"
      ]
     },
     "metadata": {},
     "output_type": "display_data"
    }
   ],
   "source": [
    "a = \"PW\"\n",
    "b = \"Skills\"\n",
    "a+b"
   ]
  },
  {
   "cell_type": "code",
   "execution_count": null,
   "id": "b6f195d8",
   "metadata": {},
   "outputs": [
    {
     "data": {
      "text/plain": [
       "'PWSkills'"
      ]
     },
     "metadata": {},
     "output_type": "display_data"
    }
   ],
   "source": [
    "a.__add__(b) # dunder method associated with string"
   ]
  },
  {
   "cell_type": "markdown",
   "id": "6de92265",
   "metadata": {},
   "source": [
    "- All dunder methods associated with strings"
   ]
  },
  {
   "cell_type": "code",
   "execution_count": null,
   "id": "fb4f4104",
   "metadata": {},
   "outputs": [
    {
     "data": {
      "text/plain": [
       "['__add__',\n",
       " '__class__',\n",
       " '__contains__',\n",
       " '__delattr__',\n",
       " '__dir__',\n",
       " '__doc__',\n",
       " '__eq__',\n",
       " '__format__',\n",
       " '__ge__',\n",
       " '__getattribute__',\n",
       " '__getitem__',\n",
       " '__getnewargs__',\n",
       " '__getstate__',\n",
       " '__gt__',\n",
       " '__hash__',\n",
       " '__init__',\n",
       " '__init_subclass__',\n",
       " '__iter__',\n",
       " '__le__',\n",
       " '__len__',\n",
       " '__lt__',\n",
       " '__mod__',\n",
       " '__mul__',\n",
       " '__ne__',\n",
       " '__new__',\n",
       " '__reduce__',\n",
       " '__reduce_ex__',\n",
       " '__repr__',\n",
       " '__rmod__',\n",
       " '__rmul__',\n",
       " '__setattr__',\n",
       " '__sizeof__',\n",
       " '__str__',\n",
       " '__subclasshook__',\n",
       " 'capitalize',\n",
       " 'casefold',\n",
       " 'center',\n",
       " 'count',\n",
       " 'encode',\n",
       " 'endswith',\n",
       " 'expandtabs',\n",
       " 'find',\n",
       " 'format',\n",
       " 'format_map',\n",
       " 'index',\n",
       " 'isalnum',\n",
       " 'isalpha',\n",
       " 'isascii',\n",
       " 'isdecimal',\n",
       " 'isdigit',\n",
       " 'isidentifier',\n",
       " 'islower',\n",
       " 'isnumeric',\n",
       " 'isprintable',\n",
       " 'isspace',\n",
       " 'istitle',\n",
       " 'isupper',\n",
       " 'join',\n",
       " 'ljust',\n",
       " 'lower',\n",
       " 'lstrip',\n",
       " 'maketrans',\n",
       " 'partition',\n",
       " 'removeprefix',\n",
       " 'removesuffix',\n",
       " 'replace',\n",
       " 'rfind',\n",
       " 'rindex',\n",
       " 'rjust',\n",
       " 'rpartition',\n",
       " 'rsplit',\n",
       " 'rstrip',\n",
       " 'split',\n",
       " 'splitlines',\n",
       " 'startswith',\n",
       " 'strip',\n",
       " 'swapcase',\n",
       " 'title',\n",
       " 'translate',\n",
       " 'upper',\n",
       " 'zfill']"
      ]
     },
     "metadata": {},
     "output_type": "display_data"
    }
   ],
   "source": [
    "dir(str)"
   ]
  },
  {
   "cell_type": "code",
   "execution_count": null,
   "id": "30373a21",
   "metadata": {},
   "outputs": [
    {
     "data": {
      "text/plain": [
       "8"
      ]
     },
     "metadata": {},
     "output_type": "display_data"
    }
   ],
   "source": [
    "3+5"
   ]
  },
  {
   "cell_type": "code",
   "execution_count": null,
   "id": "a96bc999",
   "metadata": {},
   "outputs": [
    {
     "data": {
      "text/plain": [
       "8"
      ]
     },
     "metadata": {},
     "output_type": "display_data"
    }
   ],
   "source": [
    "a = 3\n",
    "b = 5\n",
    "a.__add__(b)"
   ]
  },
  {
   "cell_type": "code",
   "execution_count": null,
   "id": "b5e4ce88",
   "metadata": {},
   "outputs": [
    {
     "data": {
      "text/plain": [
       "['__abs__',\n",
       " '__add__',\n",
       " '__and__',\n",
       " '__bool__',\n",
       " '__ceil__',\n",
       " '__class__',\n",
       " '__delattr__',\n",
       " '__dir__',\n",
       " '__divmod__',\n",
       " '__doc__',\n",
       " '__eq__',\n",
       " '__float__',\n",
       " '__floor__',\n",
       " '__floordiv__',\n",
       " '__format__',\n",
       " '__ge__',\n",
       " '__getattribute__',\n",
       " '__getnewargs__',\n",
       " '__getstate__',\n",
       " '__gt__',\n",
       " '__hash__',\n",
       " '__index__',\n",
       " '__init__',\n",
       " '__init_subclass__',\n",
       " '__int__',\n",
       " '__invert__',\n",
       " '__le__',\n",
       " '__lshift__',\n",
       " '__lt__',\n",
       " '__mod__',\n",
       " '__mul__',\n",
       " '__ne__',\n",
       " '__neg__',\n",
       " '__new__',\n",
       " '__or__',\n",
       " '__pos__',\n",
       " '__pow__',\n",
       " '__radd__',\n",
       " '__rand__',\n",
       " '__rdivmod__',\n",
       " '__reduce__',\n",
       " '__reduce_ex__',\n",
       " '__repr__',\n",
       " '__rfloordiv__',\n",
       " '__rlshift__',\n",
       " '__rmod__',\n",
       " '__rmul__',\n",
       " '__ror__',\n",
       " '__round__',\n",
       " '__rpow__',\n",
       " '__rrshift__',\n",
       " '__rshift__',\n",
       " '__rsub__',\n",
       " '__rtruediv__',\n",
       " '__rxor__',\n",
       " '__setattr__',\n",
       " '__sizeof__',\n",
       " '__str__',\n",
       " '__sub__',\n",
       " '__subclasshook__',\n",
       " '__truediv__',\n",
       " '__trunc__',\n",
       " '__xor__',\n",
       " 'as_integer_ratio',\n",
       " 'bit_count',\n",
       " 'bit_length',\n",
       " 'conjugate',\n",
       " 'denominator',\n",
       " 'from_bytes',\n",
       " 'imag',\n",
       " 'is_integer',\n",
       " 'numerator',\n",
       " 'real',\n",
       " 'to_bytes']"
      ]
     },
     "metadata": {},
     "output_type": "display_data"
    }
   ],
   "source": [
    "dir(int)"
   ]
  },
  {
   "cell_type": "markdown",
   "id": "6e01b68f",
   "metadata": {},
   "source": [
    "- Useful dunder methods"
   ]
  },
  {
   "cell_type": "code",
   "execution_count": null,
   "id": "d49ea9fb",
   "metadata": {},
   "outputs": [],
   "source": [
    "#__int__ >> to take data as object\n",
    "class Student:\n",
    "    def __init__(self, name):\n",
    "        print(f\"{name} This is the first thing that will be executeed when you make instance/object of class\")"
   ]
  },
  {
   "cell_type": "code",
   "execution_count": null,
   "id": "1c33bda3",
   "metadata": {},
   "outputs": [
    {
     "name": "stdout",
     "output_type": "stream",
     "text": [
      "Prag This is the first thing that will be executeed when you make instance/object of class\n"
     ]
    }
   ],
   "source": [
    "obj1 = Student(\"Prag\")"
   ]
  },
  {
   "cell_type": "code",
   "execution_count": null,
   "id": "946c621b",
   "metadata": {},
   "outputs": [
    {
     "name": "stdout",
     "output_type": "stream",
     "text": [
      "Dev This is the first thing that will be executeed when you make instance/object of class\n"
     ]
    }
   ],
   "source": [
    "obj2 = Student(\"Dev\")"
   ]
  },
  {
   "cell_type": "code",
   "execution_count": null,
   "id": "c2b80cd6",
   "metadata": {},
   "outputs": [],
   "source": [
    "# Another Magic Method >> __new__\n",
    "class Student:\n",
    "    # __new__ is responsible for creating a new instance of class\n",
    "    def __new__(cls): # since cls >> it will refer to class directly\n",
    "        print(f\"This will be executed even before init.\")\n",
    "    # to intialise the newly created instance / object >> it sets up any initial state/ properties of state\n",
    "    def __init__(self, name):\n",
    "        print(f\"{name} This is the first thing that will be executeed when you make instance/object of class\")\n"
   ]
  },
  {
   "cell_type": "code",
   "execution_count": null,
   "id": "09c06638",
   "metadata": {},
   "outputs": [
    {
     "name": "stdout",
     "output_type": "stream",
     "text": [
      "This will be executed even before init.\n"
     ]
    }
   ],
   "source": [
    "obj = Student()"
   ]
  },
  {
   "cell_type": "code",
   "execution_count": null,
   "id": "9899cce9",
   "metadata": {},
   "outputs": [],
   "source": [
    "# Another dunder methods >> __str__\n",
    "class Student:\n",
    "    def __init__(self):\n",
    "        self.phone = 12345\n",
    "        "
   ]
  },
  {
   "cell_type": "code",
   "execution_count": null,
   "id": "549fb3b1",
   "metadata": {},
   "outputs": [
    {
     "data": {
      "text/plain": [
       "<__main__.Student at 0x196399011d0>"
      ]
     },
     "metadata": {},
     "output_type": "display_data"
    }
   ],
   "source": [
    "Student()  # hexadscimal  representation of student object"
   ]
  },
  {
   "cell_type": "code",
   "execution_count": null,
   "id": "b5380761",
   "metadata": {},
   "outputs": [
    {
     "name": "stdout",
     "output_type": "stream",
     "text": [
      "<__main__.Student object at 0x00000196399007D0>\n"
     ]
    }
   ],
   "source": [
    "print(Student())"
   ]
  },
  {
   "cell_type": "code",
   "execution_count": null,
   "id": "fa55e4dd",
   "metadata": {},
   "outputs": [],
   "source": [
    "class Student:\n",
    "    def __init__(self):\n",
    "        self.phone = 12345\n",
    "    def __str__(self): #__str__ will return string representation of objects\n",
    "        return \"This method overloads the print statement of object method\""
   ]
  },
  {
   "cell_type": "code",
   "execution_count": null,
   "id": "5e08ff89",
   "metadata": {},
   "outputs": [
    {
     "data": {
      "text/plain": [
       "<__main__.Student at 0x196396ca660>"
      ]
     },
     "metadata": {},
     "output_type": "display_data"
    }
   ],
   "source": [
    "Student()"
   ]
  },
  {
   "cell_type": "code",
   "execution_count": null,
   "id": "7ddf0802",
   "metadata": {},
   "outputs": [
    {
     "name": "stdout",
     "output_type": "stream",
     "text": [
      "This method overloads the print statement of object method\n"
     ]
    }
   ],
   "source": [
    "print(Student())"
   ]
  },
  {
   "cell_type": "code",
   "execution_count": null,
   "id": "1eb34a2d",
   "metadata": {},
   "outputs": [],
   "source": [
    "# Another dunder method __repr__ >> means representation\n",
    "# It returns unambiguous string representation of the objects as it is that can be used to recreate the objects\n"
   ]
  },
  {
   "cell_type": "code",
   "execution_count": null,
   "id": "bfa9c146",
   "metadata": {},
   "outputs": [],
   "source": [
    "class MyClass:\n",
    "    def __init__(self, x):\n",
    "        self.x = x\n",
    "    def __repr__(self):\n",
    "        return f\"MyClass({self.x})\""
   ]
  },
  {
   "cell_type": "code",
   "execution_count": null,
   "id": "d61a171c",
   "metadata": {},
   "outputs": [],
   "source": [
    "Obj = MyClass(5)"
   ]
  },
  {
   "cell_type": "code",
   "execution_count": null,
   "id": "8456060c",
   "metadata": {},
   "outputs": [
    {
     "name": "stdout",
     "output_type": "stream",
     "text": [
      "MyClass(5)\n"
     ]
    }
   ],
   "source": [
    "print(repr(Obj)) # it give similar representation of objects"
   ]
  },
  {
   "cell_type": "code",
   "execution_count": null,
   "id": "4782c4ee",
   "metadata": {},
   "outputs": [
    {
     "data": {
      "text/plain": [
       "True"
      ]
     },
     "metadata": {},
     "output_type": "display_data"
    }
   ],
   "source": [
    "# __eq__\n",
    "True == True"
   ]
  },
  {
   "cell_type": "code",
   "execution_count": null,
   "id": "d7e07600",
   "metadata": {},
   "outputs": [
    {
     "data": {
      "text/plain": [
       "True"
      ]
     },
     "metadata": {},
     "output_type": "display_data"
    }
   ],
   "source": [
    "3 == 3"
   ]
  },
  {
   "cell_type": "code",
   "execution_count": null,
   "id": "d5c776e9",
   "metadata": {},
   "outputs": [
    {
     "data": {
      "text/plain": [
       "True"
      ]
     },
     "metadata": {},
     "output_type": "display_data"
    }
   ],
   "source": [
    "a = 3\n",
    "b = 3\n",
    "a.__eq__(b)"
   ]
  },
  {
   "cell_type": "code",
   "execution_count": null,
   "id": "7655cdb2",
   "metadata": {},
   "outputs": [
    {
     "data": {
      "text/plain": [
       "False"
      ]
     },
     "metadata": {},
     "output_type": "display_data"
    }
   ],
   "source": [
    "a = 3\n",
    "b = 4\n",
    "a.__eq__(b)"
   ]
  },
  {
   "cell_type": "markdown",
   "id": "414319f3",
   "metadata": {},
   "source": [
    "*Use Case*\n",
    "- To compare two coordinates"
   ]
  },
  {
   "cell_type": "code",
   "execution_count": null,
   "id": "b8d41854",
   "metadata": {},
   "outputs": [],
   "source": [
    "class Points:\n",
    "    def __init__(self, x, y):\n",
    "        self.x = x\n",
    "        self.y = y\n",
    "    def __eq__(self, other):\n",
    "        return self.x == other.x and self.y == other.y"
   ]
  },
  {
   "cell_type": "code",
   "execution_count": null,
   "id": "e171a332",
   "metadata": {},
   "outputs": [
    {
     "name": "stdout",
     "output_type": "stream",
     "text": [
      "True\n"
     ]
    }
   ],
   "source": [
    "p1 = Points(1,2)\n",
    "p2 = Points(1,2)\n",
    "print(p1 == p2)"
   ]
  },
  {
   "cell_type": "code",
   "execution_count": null,
   "id": "773b9105",
   "metadata": {},
   "outputs": [
    {
     "name": "stdout",
     "output_type": "stream",
     "text": [
      "False\n"
     ]
    }
   ],
   "source": [
    "p1 = Points(1,2)\n",
    "p2 = Points(-1, 2)\n",
    "print(p1 == p2)"
   ]
  },
  {
   "cell_type": "code",
   "execution_count": null,
   "id": "08a790d1",
   "metadata": {},
   "outputs": [
    {
     "data": {
      "text/plain": [
       "8"
      ]
     },
     "metadata": {},
     "output_type": "display_data"
    }
   ],
   "source": [
    "#__add__\n",
    "a = 3\n",
    "b = 5\n",
    "a+b"
   ]
  },
  {
   "cell_type": "code",
   "execution_count": null,
   "id": "4ec47ba1",
   "metadata": {},
   "outputs": [],
   "source": [
    "class Points:\n",
    "    def __init__(self, x, y):\n",
    "        self.x = x\n",
    "        self.y = y\n",
    "    def __add__(self, other):\n",
    "        return Points(self.x + other.x, self.y +other.y)"
   ]
  },
  {
   "cell_type": "code",
   "execution_count": null,
   "id": "e1e19310",
   "metadata": {},
   "outputs": [
    {
     "name": "stdout",
     "output_type": "stream",
     "text": [
      "2 4\n"
     ]
    }
   ],
   "source": [
    "p1 = Points(1,2)\n",
    "p2 = Points(1,2)\n",
    "p3 = p1+p2 # when we use + operator with points object, python internally call __add__ >> method overloading\n",
    "print(p3.x , p3.y)"
   ]
  },
  {
   "cell_type": "code",
   "execution_count": null,
   "id": "63d446c8",
   "metadata": {},
   "outputs": [
    {
     "name": "stdout",
     "output_type": "stream",
     "text": [
      "4 6\n"
     ]
    }
   ],
   "source": [
    "p1 = Points(3,2)\n",
    "p2 = Points(1,4)\n",
    "p3 = p1+p2\n",
    "print(p3.x , p3.y)"
   ]
  },
  {
   "cell_type": "markdown",
   "id": "d3bf2a3f",
   "metadata": {},
   "source": [
    "## Decorators"
   ]
  },
  {
   "cell_type": "markdown",
   "id": "dff2bca6",
   "metadata": {},
   "source": [
    "*Decorators*\n",
    "- It allows to modify or extend the behaviour of functions / class without directly modifying their code.\n",
    "- Similar to decorating your room (putting different lights, stickers, posters) \n",
    "- To enhance / extends / decorate the basic behaviour of room."
   ]
  },
  {
   "cell_type": "markdown",
   "id": "13f86e66",
   "metadata": {},
   "source": [
    "### Function decorators"
   ]
  },
  {
   "cell_type": "code",
   "execution_count": null,
   "id": "7c429663",
   "metadata": {},
   "outputs": [],
   "source": [
    "def my_decorator_func():\n",
    "    print(\"The line before computation.\")\n",
    "    print(11*12)\n",
    "    print(\"The line after computation.\")"
   ]
  },
  {
   "cell_type": "code",
   "execution_count": null,
   "id": "c470a3f4",
   "metadata": {},
   "outputs": [
    {
     "name": "stdout",
     "output_type": "stream",
     "text": [
      "The line before computation.\n",
      "132\n",
      "The line after computation.\n"
     ]
    }
   ],
   "source": [
    "my_decorator_func()"
   ]
  },
  {
   "cell_type": "markdown",
   "id": "34b2785c",
   "metadata": {},
   "source": [
    "- Suppose you want to use line before computation and after computation after each time you create a function/ call function.\n",
    "- So it will take a lots of time to type the lines repeatedly.\n",
    "- And that's why the concept of decorator comes to the pictures."
   ]
  },
  {
   "cell_type": "code",
   "execution_count": null,
   "id": "776f4fa9",
   "metadata": {},
   "outputs": [],
   "source": [
    "def my_decorator_func():\n",
    "    print(\"*_*_*_*_*_*\")\n",
    "    print(11*12)\n",
    "    print(\"*_*_*_*_*_*_*\")\n",
    "# In the above approach you have to write the lines as many times as you are creating the functions"
   ]
  },
  {
   "cell_type": "code",
   "execution_count": null,
   "id": "f4b188dc",
   "metadata": {},
   "outputs": [
    {
     "name": "stdout",
     "output_type": "stream",
     "text": [
      "*_*_*_*_*_*\n",
      "132\n",
      "*_*_*_*_*_*_*\n"
     ]
    }
   ],
   "source": [
    "my_decorator_func()"
   ]
  },
  {
   "cell_type": "code",
   "execution_count": null,
   "id": "35d25967",
   "metadata": {},
   "outputs": [],
   "source": [
    "# Decorator Approach\n",
    "# Use case\n",
    "def my_decorator(func): # func as paramater\n",
    "    def wrapper(): # add functionality before and after calling function\n",
    "        print(\"-------------\")\n",
    "        func() # say_hello which is the func here will be executed\n",
    "        print(\"*____________*\")\n",
    "    return wrapper"
   ]
  },
  {
   "cell_type": "code",
   "execution_count": null,
   "id": "a74c318f",
   "metadata": {},
   "outputs": [],
   "source": [
    "def say_hello():\n",
    "    print(\"HELLOOO\")"
   ]
  },
  {
   "cell_type": "code",
   "execution_count": null,
   "id": "29ee26f7",
   "metadata": {},
   "outputs": [
    {
     "name": "stdout",
     "output_type": "stream",
     "text": [
      "HELLOOO\n"
     ]
    }
   ],
   "source": [
    "say_hello()\n",
    "# when say_hello is called , it is actually first calling the decorator functions\n",
    "# which in return is calling wrapper function and then wrapper function is printing the line and calling say_hello func"
   ]
  },
  {
   "cell_type": "code",
   "execution_count": null,
   "id": "f7d3502b",
   "metadata": {},
   "outputs": [],
   "source": [
    "@my_decorator  #Syntax\n",
    "def say_hello():\n",
    "    print(\"HELLOOO\")\n"
   ]
  },
  {
   "cell_type": "code",
   "execution_count": null,
   "id": "efe61c98",
   "metadata": {},
   "outputs": [
    {
     "name": "stdout",
     "output_type": "stream",
     "text": [
      "-------------\n",
      "HELLOOO\n",
      "*____________*\n"
     ]
    }
   ],
   "source": [
    "say_hello()"
   ]
  },
  {
   "cell_type": "code",
   "execution_count": null,
   "id": "09ff9720",
   "metadata": {},
   "outputs": [],
   "source": [
    "# Another use case of function decorator\n",
    "# run time of a code\n",
    "\n",
    "import time\n",
    "def timer_decorator(func):\n",
    "    def timer():\n",
    "        start = time.time()\n",
    "        func()\n",
    "        end = time.time()\n",
    "        print(\"The time for executing the code is \", end-start)\n",
    "    return timer"
   ]
  },
  {
   "cell_type": "code",
   "execution_count": null,
   "id": "9b978031",
   "metadata": {},
   "outputs": [],
   "source": [
    "@timer_decorator\n",
    "def func_test():\n",
    "    print(11*1000)"
   ]
  },
  {
   "cell_type": "code",
   "execution_count": null,
   "id": "977a1978",
   "metadata": {},
   "outputs": [
    {
     "name": "stdout",
     "output_type": "stream",
     "text": [
      "11000\n",
      "The time for executing the code is  0.00043582916259765625\n"
     ]
    }
   ],
   "source": [
    "func_test()"
   ]
  },
  {
   "cell_type": "code",
   "execution_count": null,
   "id": "8b834249",
   "metadata": {},
   "outputs": [],
   "source": [
    "@timer_decorator\n",
    "def func_test():\n",
    "    print(11*924809278462)"
   ]
  },
  {
   "cell_type": "code",
   "execution_count": null,
   "id": "f924400f",
   "metadata": {},
   "outputs": [
    {
     "name": "stdout",
     "output_type": "stream",
     "text": [
      "10172902063082\n",
      "The time for executing the code is  0.000385284423828125\n"
     ]
    }
   ],
   "source": [
    "func_test()"
   ]
  },
  {
   "cell_type": "code",
   "execution_count": null,
   "id": "6918cfbd",
   "metadata": {},
   "outputs": [],
   "source": [
    "@timer_decorator\n",
    "def func_test1():\n",
    "    print(11*92480927+8462**2+767857)"
   ]
  },
  {
   "cell_type": "code",
   "execution_count": null,
   "id": "8acf6d0a",
   "metadata": {},
   "outputs": [
    {
     "name": "stdout",
     "output_type": "stream",
     "text": [
      "1089663498\n",
      "The time for executing the code is  0.0009768009185791016\n"
     ]
    }
   ],
   "source": [
    "func_test1()"
   ]
  },
  {
   "cell_type": "markdown",
   "id": "20a69282",
   "metadata": {},
   "source": [
    "*Why do we need decorator?*\n",
    "- Reusability of code\n",
    "- Enhancing the function without modifying the org func\n"
   ]
  },
  {
   "cell_type": "markdown",
   "id": "88463aa8",
   "metadata": {},
   "source": [
    "*Use Case*\n",
    "- Execution time of code\n",
    "- Logging\n",
    "- Caching\n",
    "- Validation"
   ]
  },
  {
   "cell_type": "markdown",
   "id": "cf3032a5",
   "metadata": {},
   "source": [
    "### Class decorators"
   ]
  },
  {
   "cell_type": "code",
   "execution_count": null,
   "id": "dbccc8df",
   "metadata": {},
   "outputs": [],
   "source": [
    "class MyDecorator():\n",
    "    def __init__(self, func):\n",
    "        self.func = func\n",
    "    def __call__(self):  #__call__ is a special method inside the class used to call object/instance of the class as a function\n",
    "        print(\"Before function.\")\n",
    "        self.func()\n",
    "        print(\"After function.\")"
   ]
  },
  {
   "cell_type": "code",
   "execution_count": null,
   "id": "b3ea7f2a",
   "metadata": {},
   "outputs": [],
   "source": [
    "def say_hello():\n",
    "    print(\"Helloo\")"
   ]
  },
  {
   "cell_type": "code",
   "execution_count": null,
   "id": "cdbdd036",
   "metadata": {},
   "outputs": [
    {
     "name": "stdout",
     "output_type": "stream",
     "text": [
      "Helloo\n"
     ]
    }
   ],
   "source": [
    "say_hello()"
   ]
  },
  {
   "cell_type": "code",
   "execution_count": null,
   "id": "fe7f774d",
   "metadata": {},
   "outputs": [],
   "source": [
    "@MyDecorator\n",
    "def say_hello():\n",
    "    print(\"Helloo\")"
   ]
  },
  {
   "cell_type": "code",
   "execution_count": null,
   "id": "595e97f5",
   "metadata": {},
   "outputs": [
    {
     "name": "stdout",
     "output_type": "stream",
     "text": [
      "Before function.\n",
      "Helloo\n",
      "After function.\n"
     ]
    }
   ],
   "source": [
    "say_hello()"
   ]
  },
  {
   "cell_type": "code",
   "execution_count": null,
   "id": "9426bcc4",
   "metadata": {},
   "outputs": [],
   "source": [
    "class MyDecorator():\n",
    "    def __init__(self, func):\n",
    "        self.func = func\n",
    "        print(\"Inside init function.\")\n",
    "    def __call__(self):  #__call__ is a special method inside the class used to call object/instance of the class as a function\n",
    "        print(\"Before function.\")\n",
    "        self.func()\n",
    "        print(\"After function.\")"
   ]
  },
  {
   "cell_type": "code",
   "execution_count": null,
   "id": "09b4e9ed",
   "metadata": {},
   "outputs": [
    {
     "name": "stdout",
     "output_type": "stream",
     "text": [
      "Inside init function.\n",
      "Before function.\n",
      "Helloo\n",
      "After function.\n"
     ]
    }
   ],
   "source": [
    "@MyDecorator  # class __call__ will be executed\n",
    "def say_hello():\n",
    "    print(\"Helloo\")\n",
    "say_hello()"
   ]
  },
  {
   "cell_type": "code",
   "execution_count": null,
   "id": "215dfcda",
   "metadata": {},
   "outputs": [
    {
     "name": "stdout",
     "output_type": "stream",
     "text": [
      "Before function.\n",
      "Helloo\n",
      "After function.\n"
     ]
    }
   ],
   "source": [
    "say_hello()"
   ]
  },
  {
   "cell_type": "code",
   "execution_count": null,
   "id": "3c8309c3",
   "metadata": {},
   "outputs": [],
   "source": [
    "class MyDecorator():\n",
    "    def __init__(self):\n",
    "        # self.func = func\n",
    "        print(\"Inside init function.\")\n",
    "    def __call__(self):  #__call__ is a special method inside the class used to call object/instance of the class as a function\n",
    "        print(\"Before function.\")\n",
    "        # self.func()\n",
    "        print(\"After function.\")"
   ]
  },
  {
   "cell_type": "markdown",
   "id": "73715fc8",
   "metadata": {},
   "source": [
    "- when you make an object of the class, init is executed first."
   ]
  },
  {
   "cell_type": "code",
   "execution_count": null,
   "id": "1bf0d007",
   "metadata": {},
   "outputs": [
    {
     "name": "stdout",
     "output_type": "stream",
     "text": [
      "Inside init function.\n"
     ]
    }
   ],
   "source": [
    "obj1 = MyDecorator() "
   ]
  },
  {
   "cell_type": "markdown",
   "id": "3fd5c19a",
   "metadata": {},
   "source": [
    "- when you call an object of the class as function __call__ method will be invoked"
   ]
  },
  {
   "cell_type": "code",
   "execution_count": null,
   "id": "73ac76fe",
   "metadata": {},
   "outputs": [
    {
     "name": "stdout",
     "output_type": "stream",
     "text": [
      "Before function.\n",
      "After function.\n"
     ]
    }
   ],
   "source": [
    "obj1()"
   ]
  },
  {
   "cell_type": "markdown",
   "id": "6e682c5c",
   "metadata": {},
   "source": [
    "- Some in-built decorators"
   ]
  },
  {
   "cell_type": "markdown",
   "id": "00991a90",
   "metadata": {},
   "source": [
    "#### Class Method : @classmethod"
   ]
  },
  {
   "cell_type": "markdown",
   "id": "8e10693c",
   "metadata": {},
   "source": [
    "- @classmethod : it takes the class itself as the first arguements"
   ]
  },
  {
   "cell_type": "code",
   "execution_count": null,
   "id": "de4b2775",
   "metadata": {},
   "outputs": [],
   "source": [
    "class Math:\n",
    "    @classmethod # takes reference to the class itself to modify and access class leveln attributes\n",
    "    def add(cls, x, y):\n",
    "        return cls.__name__, x, y  # refering to class math\n"
   ]
  },
  {
   "cell_type": "code",
   "execution_count": null,
   "id": "68f9b5a0",
   "metadata": {},
   "outputs": [
    {
     "data": {
      "text/plain": [
       "('Math', 3, 5)"
      ]
     },
     "metadata": {},
     "output_type": "display_data"
    }
   ],
   "source": [
    "# no need of __init__\n",
    "Math.add(3,5)"
   ]
  },
  {
   "cell_type": "code",
   "execution_count": null,
   "id": "ea031cc4",
   "metadata": {},
   "outputs": [],
   "source": [
    "class Math:\n",
    "    @classmethod \n",
    "    def add(cls, x, y):\n",
    "        return cls.__name__, x+y"
   ]
  },
  {
   "cell_type": "code",
   "execution_count": null,
   "id": "7d0f9ddd",
   "metadata": {},
   "outputs": [
    {
     "data": {
      "text/plain": [
       "('Math', 8)"
      ]
     },
     "metadata": {},
     "output_type": "display_data"
    }
   ],
   "source": [
    "Math.add(3,5)"
   ]
  },
  {
   "cell_type": "markdown",
   "id": "4f1badd0",
   "metadata": {},
   "source": [
    "- Class methods are the methods which are bound to class and not bound to instance of the class.\n",
    "- CLass itself is the first arguements\n",
    "- Conventionally cls"
   ]
  },
  {
   "cell_type": "markdown",
   "id": "97677b2b",
   "metadata": {},
   "source": [
    "#### Static Method : @staticmethod"
   ]
  },
  {
   "cell_type": "markdown",
   "id": "63b3d3e1",
   "metadata": {},
   "source": [
    "- The method which can be called without creating any instance of the class and without using any self or cls."
   ]
  },
  {
   "cell_type": "code",
   "execution_count": null,
   "id": "5daa6109",
   "metadata": {},
   "outputs": [],
   "source": [
    "class Math:\n",
    "    def add(self,x , y):\n",
    "        return x+y"
   ]
  },
  {
   "cell_type": "code",
   "execution_count": null,
   "id": "823e1537",
   "metadata": {},
   "outputs": [],
   "source": [
    "a = Math() # make object/ instance"
   ]
  },
  {
   "cell_type": "code",
   "execution_count": null,
   "id": "24f926e1",
   "metadata": {},
   "outputs": [
    {
     "data": {
      "text/plain": [
       "5"
      ]
     },
     "metadata": {},
     "output_type": "display_data"
    }
   ],
   "source": [
    "a.add(2,3) # in this way we call regular class method"
   ]
  },
  {
   "cell_type": "code",
   "execution_count": null,
   "id": "f25fe027",
   "metadata": {},
   "outputs": [],
   "source": [
    "# Use of static method\n",
    "class Math:\n",
    "    @staticmethod\n",
    "    def add(x, y): # no need of self or cls\n",
    "        return x+y"
   ]
  },
  {
   "cell_type": "code",
   "execution_count": null,
   "id": "666853cb",
   "metadata": {},
   "outputs": [
    {
     "data": {
      "text/plain": [
       "5"
      ]
     },
     "metadata": {},
     "output_type": "display_data"
    }
   ],
   "source": [
    "Math.add(2,3)"
   ]
  },
  {
   "cell_type": "markdown",
   "id": "7010a392",
   "metadata": {},
   "source": [
    "- *_ClassMethod_*\n",
    "- cls as first arguements\n",
    "- access and modify class level attributes\n",
    "\n",
    "\n",
    "- *_StaticMethod_*\n",
    "- No first arguements\n",
    "- Cannot access"
   ]
  },
  {
   "cell_type": "markdown",
   "id": "54dd4c6d",
   "metadata": {},
   "source": [
    "### Property Decorator"
   ]
  },
  {
   "cell_type": "markdown",
   "id": "df244d1f",
   "metadata": {},
   "source": [
    "- It allows method to be accessed as attributes\n",
    "- Allowed to use class method as attributes"
   ]
  },
  {
   "cell_type": "code",
   "execution_count": null,
   "id": "db7c0f20",
   "metadata": {},
   "outputs": [],
   "source": [
    "class Circle:\n",
    "    def __init__(self, radius):\n",
    "        self.radius = radius\n",
    "        "
   ]
  },
  {
   "cell_type": "code",
   "execution_count": null,
   "id": "a5eb2598",
   "metadata": {},
   "outputs": [],
   "source": [
    "obj = Circle(5)"
   ]
  },
  {
   "cell_type": "code",
   "execution_count": null,
   "id": "f1054fde",
   "metadata": {},
   "outputs": [
    {
     "data": {
      "text/plain": [
       "5"
      ]
     },
     "metadata": {},
     "output_type": "display_data"
    }
   ],
   "source": [
    "obj.radius # accessing data/ attributes"
   ]
  },
  {
   "cell_type": "code",
   "execution_count": null,
   "id": "9fe9ac4b",
   "metadata": {},
   "outputs": [],
   "source": [
    "class Circle:\n",
    "    def __init__(self, radius):\n",
    "        self.radius = radius\n",
    "    def area(self):\n",
    "        radius = self.radius\n",
    "        return 3.14*radius*radius"
   ]
  },
  {
   "cell_type": "code",
   "execution_count": null,
   "id": "ebb2ee74",
   "metadata": {},
   "outputs": [
    {
     "data": {
      "text/plain": [
       "5"
      ]
     },
     "metadata": {},
     "output_type": "display_data"
    }
   ],
   "source": [
    "obj = Circle(5)\n",
    "obj.radius"
   ]
  },
  {
   "cell_type": "code",
   "execution_count": null,
   "id": "78cdf16c",
   "metadata": {},
   "outputs": [
    {
     "data": {
      "text/plain": [
       "78.5"
      ]
     },
     "metadata": {},
     "output_type": "display_data"
    }
   ],
   "source": [
    "obj.area() #general method using paranthesis"
   ]
  },
  {
   "cell_type": "code",
   "execution_count": null,
   "id": "9018724d",
   "metadata": {},
   "outputs": [],
   "source": [
    "# Using property decorator\n",
    "class Circle:\n",
    "    def __init__(self, radius):\n",
    "        self.radius = radius\n",
    "    @property\n",
    "    def area(self):\n",
    "        radius = self.radius\n",
    "        return 3.14*radius*radius"
   ]
  },
  {
   "cell_type": "code",
   "execution_count": null,
   "id": "d1faafca",
   "metadata": {},
   "outputs": [
    {
     "data": {
      "text/plain": [
       "5"
      ]
     },
     "metadata": {},
     "output_type": "display_data"
    }
   ],
   "source": [
    "obj1 = Circle(5)\n",
    "obj1.radius"
   ]
  },
  {
   "cell_type": "code",
   "execution_count": null,
   "id": "35ae2ab0",
   "metadata": {},
   "outputs": [
    {
     "data": {
      "text/plain": [
       "78.5"
      ]
     },
     "metadata": {},
     "output_type": "display_data"
    }
   ],
   "source": [
    "obj1.area # no paranthesis"
   ]
  },
  {
   "cell_type": "markdown",
   "id": "1b9582cf",
   "metadata": {},
   "source": [
    "- Example"
   ]
  },
  {
   "cell_type": "code",
   "execution_count": null,
   "id": "59062318",
   "metadata": {},
   "outputs": [],
   "source": [
    "class Student:\n",
    "    def __init__(self, name, price):\n",
    "        self.__name = name\n",
    "        self.__price = price\n",
    "        "
   ]
  },
  {
   "cell_type": "code",
   "execution_count": null,
   "id": "a7296249",
   "metadata": {},
   "outputs": [],
   "source": [
    "stud = Student(\"Anu\",3000)"
   ]
  },
  {
   "cell_type": "code",
   "execution_count": null,
   "id": "513e25ef",
   "metadata": {},
   "outputs": [
    {
     "ename": "AttributeError",
     "evalue": "'Student' object has no attribute '__name'",
     "output_type": "error",
     "traceback": [
      "\u001b[31m---------------------------------------------------------------------------\u001b[39m\n",
      "\n",
      "\u001b[31mAttributeError\u001b[39m                            Traceback (most recent call last)\n",
      "\n",
      "\u001b[36mCell\u001b[39m\u001b[36m \u001b[39m\u001b[32mIn[38]\u001b[39m\u001b[32m, line 1\u001b[39m\n",
      "\n",
      "\u001b[32m----> \u001b[39m\u001b[32m1\u001b[39m \u001b[43mstud\u001b[49m\u001b[43m.\u001b[49m\u001b[43m__name\u001b[49m \u001b[38;5;66;03m# as __name is private variable\u001b[39;00m\n",
      "\n",
      "\n",
      "\n",
      "\u001b[31mAttributeError\u001b[39m: 'Student' object has no attribute '__name'"
     ]
    }
   ],
   "source": [
    "stud.__name # as __name is private variable"
   ]
  },
  {
   "cell_type": "code",
   "execution_count": null,
   "id": "abe603b8",
   "metadata": {},
   "outputs": [
    {
     "data": {
      "text/plain": [
       "'Anu'"
      ]
     },
     "metadata": {},
     "output_type": "display_data"
    }
   ],
   "source": [
    "# we can access the private variable if we know structure of class\n",
    "stud._Student__name"
   ]
  },
  {
   "cell_type": "code",
   "execution_count": null,
   "id": "092404cc",
   "metadata": {},
   "outputs": [
    {
     "data": {
      "text/plain": [
       "3000"
      ]
     },
     "metadata": {},
     "output_type": "display_data"
    }
   ],
   "source": [
    "stud._Student__price"
   ]
  },
  {
   "cell_type": "code",
   "execution_count": null,
   "id": "8eb984ee",
   "metadata": {},
   "outputs": [],
   "source": [
    "\n",
    "# Another way to expose private variables using property decorators\n",
    "class Student:\n",
    "    def __init__(self, name, price):\n",
    "        self.__name = name\n",
    "        self.__price = price\n",
    "    @property\n",
    "    def access_price(self):\n",
    "        return self.__price"
   ]
  },
  {
   "cell_type": "code",
   "execution_count": null,
   "id": "ea643dd8",
   "metadata": {},
   "outputs": [],
   "source": [
    "stud = Student(\"Anu\", 4500)"
   ]
  },
  {
   "cell_type": "code",
   "execution_count": null,
   "id": "ba622e69",
   "metadata": {},
   "outputs": [
    {
     "data": {
      "text/plain": [
       "4500"
      ]
     },
     "metadata": {},
     "output_type": "display_data"
    }
   ],
   "source": [
    "stud.access_price"
   ]
  },
  {
   "cell_type": "code",
   "execution_count": null,
   "id": "40549666",
   "metadata": {},
   "outputs": [],
   "source": [
    "# You want to modify the price\n",
    "class Student:\n",
    "    def __init__(self, name, price):\n",
    "        self.__name = name\n",
    "        self.__price = price\n",
    "    @property\n",
    "    def access_price(self):\n",
    "        return self.__price\n",
    "    \n",
    "    @access_price.setter\n",
    "    def price_set(self, price_new):\n",
    "        self.__price = price_new"
   ]
  },
  {
   "cell_type": "code",
   "execution_count": null,
   "id": "856d0439",
   "metadata": {},
   "outputs": [],
   "source": [
    "stud = Student(\"Anu\", 5000)"
   ]
  },
  {
   "cell_type": "code",
   "execution_count": null,
   "id": "6aa2f079",
   "metadata": {},
   "outputs": [
    {
     "data": {
      "text/plain": [
       "5000"
      ]
     },
     "metadata": {},
     "output_type": "display_data"
    }
   ],
   "source": [
    "stud.access_price"
   ]
  },
  {
   "cell_type": "code",
   "execution_count": null,
   "id": "4d6b6c04",
   "metadata": {},
   "outputs": [],
   "source": [
    "stud.price_set = 6000"
   ]
  },
  {
   "cell_type": "code",
   "execution_count": null,
   "id": "ce366d1c",
   "metadata": {},
   "outputs": [
    {
     "data": {
      "text/plain": [
       "6000"
      ]
     },
     "metadata": {},
     "output_type": "display_data"
    }
   ],
   "source": [
    "stud.access_price"
   ]
  },
  {
   "cell_type": "code",
   "execution_count": null,
   "id": "ca13749e",
   "metadata": {},
   "outputs": [],
   "source": [
    "# You want to delete the variable price\n",
    "class Student:\n",
    "    def __init__(self, name, price):\n",
    "        self.__name = name\n",
    "        self.__price = price\n",
    "    @property\n",
    "    def access_price(self):\n",
    "        return self.__price\n",
    "    \n",
    "    @access_price.setter\n",
    "    def access_set(self, price_new):\n",
    "        self.__price = price_new\n",
    "\n",
    "    @access_price.deleter\n",
    "    def access_price(self):\n",
    "        del self.__price"
   ]
  },
  {
   "cell_type": "code",
   "execution_count": null,
   "id": "d82b64b4",
   "metadata": {},
   "outputs": [],
   "source": [
    "stud = Student('Anu', 15000)"
   ]
  },
  {
   "cell_type": "code",
   "execution_count": null,
   "id": "3bda23d7",
   "metadata": {},
   "outputs": [
    {
     "data": {
      "text/plain": [
       "15000"
      ]
     },
     "metadata": {},
     "output_type": "display_data"
    }
   ],
   "source": [
    "stud.access_price"
   ]
  },
  {
   "cell_type": "code",
   "execution_count": null,
   "id": "d562b6c0",
   "metadata": {},
   "outputs": [],
   "source": [
    "stud.price_set = 20000"
   ]
  },
  {
   "cell_type": "code",
   "execution_count": null,
   "id": "ddfd05c4",
   "metadata": {},
   "outputs": [
    {
     "data": {
      "text/plain": [
       "15000"
      ]
     },
     "metadata": {},
     "output_type": "display_data"
    }
   ],
   "source": [
    "stud.access_price"
   ]
  },
  {
   "cell_type": "code",
   "execution_count": null,
   "id": "2afe2449",
   "metadata": {},
   "outputs": [],
   "source": [
    "del stud.access_price"
   ]
  },
  {
   "cell_type": "code",
   "execution_count": null,
   "id": "ffd9bb42",
   "metadata": {},
   "outputs": [
    {
     "ename": "AttributeError",
     "evalue": "'Student' object has no attribute '_Student__price'",
     "output_type": "error",
     "traceback": [
      "\u001b[31m---------------------------------------------------------------------------\u001b[39m\n",
      "\n",
      "\u001b[31mAttributeError\u001b[39m                            Traceback (most recent call last)\n",
      "\n",
      "\u001b[36mCell\u001b[39m\u001b[36m \u001b[39m\u001b[32mIn[67]\u001b[39m\u001b[32m, line 1\u001b[39m\n",
      "\n",
      "\u001b[32m----> \u001b[39m\u001b[32m1\u001b[39m \u001b[43mstud\u001b[49m\u001b[43m.\u001b[49m\u001b[43maccess_price\u001b[49m \u001b[38;5;66;03m# access price deleted\u001b[39;00m\n",
      "\n",
      "\n",
      "\n",
      "\u001b[36mCell\u001b[39m\u001b[36m \u001b[39m\u001b[32mIn[57]\u001b[39m\u001b[32m, line 8\u001b[39m, in \u001b[36mStudent.access_price\u001b[39m\u001b[34m(self)\u001b[39m\n",
      "\n",
      "\u001b[32m      6\u001b[39m \u001b[38;5;129m@property\u001b[39m\n",
      "\n",
      "\u001b[32m      7\u001b[39m \u001b[38;5;28;01mdef\u001b[39;00m\u001b[38;5;250m \u001b[39m\u001b[34maccess_price\u001b[39m(\u001b[38;5;28mself\u001b[39m):\n",
      "\n",
      "\u001b[32m----> \u001b[39m\u001b[32m8\u001b[39m     \u001b[38;5;28;01mreturn\u001b[39;00m \u001b[38;5;28;43mself\u001b[39;49m\u001b[43m.\u001b[49m\u001b[43m__price\u001b[49m\n",
      "\n",
      "\n",
      "\n",
      "\u001b[31mAttributeError\u001b[39m: 'Student' object has no attribute '_Student__price'"
     ]
    }
   ],
   "source": [
    "stud.access_price # access price deleted"
   ]
  },
  {
   "cell_type": "code",
   "execution_count": null,
   "id": "47d14cdc",
   "metadata": {},
   "outputs": [],
   "source": [
    "# Use Case\n",
    "class Circle:\n",
    "    def __init__(self, radius):\n",
    "        self.__radius = radius\n",
    "\n",
    "    @property\n",
    "    def radius(self):\n",
    "        return self.__radius"
   ]
  },
  {
   "cell_type": "code",
   "execution_count": null,
   "id": "38159f74",
   "metadata": {},
   "outputs": [],
   "source": [
    "c= Circle(5)"
   ]
  },
  {
   "cell_type": "code",
   "execution_count": null,
   "id": "e17afc64",
   "metadata": {},
   "outputs": [
    {
     "data": {
      "text/plain": [
       "5"
      ]
     },
     "metadata": {},
     "output_type": "display_data"
    }
   ],
   "source": [
    "c.radius"
   ]
  },
  {
   "cell_type": "code",
   "execution_count": null,
   "id": "122e9d71",
   "metadata": {},
   "outputs": [],
   "source": [
    "class Circle:\n",
    "    def __init__(self, radius):\n",
    "        self.__radius = radius\n",
    "\n",
    "    @property\n",
    "    def radius(self):\n",
    "        return self.__radius\n",
    "    @radius.setter\n",
    "    def radius(self, value):\n",
    "        if value <= 0:\n",
    "            raise ValueError(\"Radius must not negative\")\n",
    "        self.__radius = value\n",
    "    def area(self):\n",
    "        return 3.14*self.__radius**2"
   ]
  },
  {
   "cell_type": "code",
   "execution_count": null,
   "id": "72011a73",
   "metadata": {},
   "outputs": [],
   "source": [
    "c1 = Circle(5)"
   ]
  },
  {
   "cell_type": "code",
   "execution_count": null,
   "id": "0ab15faf",
   "metadata": {},
   "outputs": [
    {
     "data": {
      "text/plain": [
       "5"
      ]
     },
     "metadata": {},
     "output_type": "display_data"
    }
   ],
   "source": [
    "c1.radius"
   ]
  },
  {
   "cell_type": "code",
   "execution_count": null,
   "id": "1f4ccfca",
   "metadata": {},
   "outputs": [],
   "source": [
    "c1.radius = 10"
   ]
  },
  {
   "cell_type": "code",
   "execution_count": null,
   "id": "b618c0a5",
   "metadata": {},
   "outputs": [
    {
     "data": {
      "text/plain": [
       "10"
      ]
     },
     "metadata": {},
     "output_type": "display_data"
    }
   ],
   "source": [
    "c1.radius"
   ]
  },
  {
   "cell_type": "code",
   "execution_count": null,
   "id": "9ccc73e3",
   "metadata": {},
   "outputs": [
    {
     "ename": "ValueError",
     "evalue": "Radius must not negative",
     "output_type": "error",
     "traceback": [
      "\u001b[31m---------------------------------------------------------------------------\u001b[39m\n",
      "\n",
      "\u001b[31mValueError\u001b[39m                                Traceback (most recent call last)\n",
      "\n",
      "\u001b[36mCell\u001b[39m\u001b[36m \u001b[39m\u001b[32mIn[109]\u001b[39m\u001b[32m, line 1\u001b[39m\n",
      "\n",
      "\u001b[32m----> \u001b[39m\u001b[32m1\u001b[39m \u001b[43mc1\u001b[49m\u001b[43m.\u001b[49m\u001b[43mradius\u001b[49m = -\u001b[32m2\u001b[39m\n",
      "\n",
      "\n",
      "\n",
      "\u001b[36mCell\u001b[39m\u001b[36m \u001b[39m\u001b[32mIn[94]\u001b[39m\u001b[32m, line 11\u001b[39m, in \u001b[36mCircle.radius\u001b[39m\u001b[34m(self, value)\u001b[39m\n",
      "\n",
      "\u001b[32m      8\u001b[39m \u001b[38;5;129m@radius\u001b[39m.setter\n",
      "\n",
      "\u001b[32m      9\u001b[39m \u001b[38;5;28;01mdef\u001b[39;00m\u001b[38;5;250m \u001b[39m\u001b[34mradius\u001b[39m(\u001b[38;5;28mself\u001b[39m, value):\n",
      "\n",
      "\u001b[32m     10\u001b[39m     \u001b[38;5;28;01mif\u001b[39;00m value <= \u001b[32m0\u001b[39m:\n",
      "\n",
      "\u001b[32m---> \u001b[39m\u001b[32m11\u001b[39m         \u001b[38;5;28;01mraise\u001b[39;00m \u001b[38;5;167;01mValueError\u001b[39;00m(\u001b[33m\"\u001b[39m\u001b[33mRadius must not negative\u001b[39m\u001b[33m\"\u001b[39m)\n",
      "\n",
      "\u001b[32m     12\u001b[39m     \u001b[38;5;28mself\u001b[39m.__radius = value\n",
      "\n",
      "\n",
      "\n",
      "\u001b[31mValueError\u001b[39m: Radius must not negative"
     ]
    }
   ],
   "source": [
    "c1.radius = -2"
   ]
  },
  {
   "cell_type": "code",
   "execution_count": null,
   "id": "f6028b8b",
   "metadata": {},
   "outputs": [
    {
     "data": {
      "text/plain": [
       "314.0"
      ]
     },
     "metadata": {},
     "output_type": "display_data"
    }
   ],
   "source": [
    "c1.area()"
   ]
  },
  {
   "cell_type": "code",
   "execution_count": null,
   "id": "860aad5b",
   "metadata": {},
   "outputs": [],
   "source": [
    "class Circle:\n",
    "    def __init__(self, radius):\n",
    "        self.__radius = radius\n",
    "\n",
    "    @property\n",
    "    def radius(self):\n",
    "        return self.__radius\n",
    "    @radius.setter\n",
    "    def radius(self, value):\n",
    "        if value <= 0:\n",
    "            raise ValueError(\"Radius must not negative\")\n",
    "        self.__radius = value\n",
    "    @radius.deleter\n",
    "    def radius(self):\n",
    "        del self.__radius\n",
    "    def area(self):\n",
    "        return 3.14*self.__radius**2"
   ]
  },
  {
   "cell_type": "code",
   "execution_count": null,
   "id": "e69ab2f3",
   "metadata": {},
   "outputs": [],
   "source": [
    "c = Circle(10)"
   ]
  },
  {
   "cell_type": "code",
   "execution_count": null,
   "id": "feb0d7a7",
   "metadata": {},
   "outputs": [
    {
     "data": {
      "text/plain": [
       "314.0"
      ]
     },
     "metadata": {},
     "output_type": "display_data"
    }
   ],
   "source": [
    "c.area()"
   ]
  },
  {
   "cell_type": "code",
   "execution_count": null,
   "id": "38d536c6",
   "metadata": {},
   "outputs": [
    {
     "data": {
      "text/plain": [
       "10"
      ]
     },
     "metadata": {},
     "output_type": "display_data"
    }
   ],
   "source": [
    "c.radius"
   ]
  },
  {
   "cell_type": "code",
   "execution_count": null,
   "id": "7ea4108d",
   "metadata": {},
   "outputs": [],
   "source": [
    "del c.radius"
   ]
  },
  {
   "cell_type": "code",
   "execution_count": null,
   "id": "61b8b617",
   "metadata": {},
   "outputs": [
    {
     "ename": "AttributeError",
     "evalue": "'Circle' object has no attribute '_Circle__radius'",
     "output_type": "error",
     "traceback": [
      "\u001b[31m---------------------------------------------------------------------------\u001b[39m\n",
      "\n",
      "\u001b[31mAttributeError\u001b[39m                            Traceback (most recent call last)\n",
      "\n",
      "\u001b[36mCell\u001b[39m\u001b[36m \u001b[39m\u001b[32mIn[108]\u001b[39m\u001b[32m, line 1\u001b[39m\n",
      "\n",
      "\u001b[32m----> \u001b[39m\u001b[32m1\u001b[39m \u001b[43mc\u001b[49m\u001b[43m.\u001b[49m\u001b[43mradius\u001b[49m\n",
      "\n",
      "\n",
      "\n",
      "\u001b[36mCell\u001b[39m\u001b[36m \u001b[39m\u001b[32mIn[101]\u001b[39m\u001b[32m, line 7\u001b[39m, in \u001b[36mCircle.radius\u001b[39m\u001b[34m(self)\u001b[39m\n",
      "\n",
      "\u001b[32m      5\u001b[39m \u001b[38;5;129m@property\u001b[39m\n",
      "\n",
      "\u001b[32m      6\u001b[39m \u001b[38;5;28;01mdef\u001b[39;00m\u001b[38;5;250m \u001b[39m\u001b[34mradius\u001b[39m(\u001b[38;5;28mself\u001b[39m):\n",
      "\n",
      "\u001b[32m----> \u001b[39m\u001b[32m7\u001b[39m     \u001b[38;5;28;01mreturn\u001b[39;00m \u001b[38;5;28;43mself\u001b[39;49m\u001b[43m.\u001b[49m\u001b[43m__radius\u001b[49m\n",
      "\n",
      "\n",
      "\n",
      "\u001b[31mAttributeError\u001b[39m: 'Circle' object has no attribute '_Circle__radius'"
     ]
    }
   ],
   "source": [
    "c.radius"
   ]
  },
  {
   "cell_type": "code",
   "execution_count": null,
   "id": "99f1557f",
   "metadata": {},
   "outputs": [],
   "source": [
    "class A:\n",
    "    def __init__(self, x):\n",
    "        self.x = x\n",
    "class B(A):\n",
    "    def __init__(self, x, y):\n",
    "        super().__init__(x)\n",
    "        self.y = y\n",
    "        "
   ]
  },
  {
   "cell_type": "code",
   "execution_count": null,
   "id": "9fa21401",
   "metadata": {},
   "outputs": [],
   "source": [
    "obj = B(3,4)"
   ]
  },
  {
   "cell_type": "code",
   "execution_count": null,
   "id": "f8cecb3f",
   "metadata": {},
   "outputs": [
    {
     "name": "stdout",
     "output_type": "stream",
     "text": [
      "3 4\n"
     ]
    }
   ],
   "source": [
    "print(obj.x, obj.y)"
   ]
  },
  {
   "cell_type": "code",
   "execution_count": null,
   "id": "6f5a0d3d",
   "metadata": {},
   "outputs": [],
   "source": [
    "class MyClass:\n",
    "    def __init__(self, x):\n",
    "        self.x = x\n",
    "    def __str__(self):\n",
    "        return str(self.x)"
   ]
  },
  {
   "cell_type": "code",
   "execution_count": null,
   "id": "b74decbf",
   "metadata": {},
   "outputs": [],
   "source": [
    "obj = MyClass(10)"
   ]
  },
  {
   "cell_type": "code",
   "execution_count": null,
   "id": "a74a0152",
   "metadata": {},
   "outputs": [
    {
     "name": "stdout",
     "output_type": "stream",
     "text": [
      "10\n"
     ]
    }
   ],
   "source": [
    "print(obj)"
   ]
  },
  {
   "cell_type": "code",
   "execution_count": null,
   "id": "89786101",
   "metadata": {},
   "outputs": [],
   "source": [
    "class Counter:\n",
    "    count = 0\n",
    "    def __init__(self):\n",
    "        Counter.count +=1"
   ]
  },
  {
   "cell_type": "code",
   "execution_count": null,
   "id": "e212be11",
   "metadata": {},
   "outputs": [],
   "source": [
    "a = Counter()\n",
    "b = Counter()\n",
    "c = Counter()\n"
   ]
  },
  {
   "cell_type": "code",
   "execution_count": null,
   "id": "f7e5ca04",
   "metadata": {},
   "outputs": [
    {
     "name": "stdout",
     "output_type": "stream",
     "text": [
      "3\n"
     ]
    }
   ],
   "source": [
    "print(Counter.count)"
   ]
  },
  {
   "cell_type": "code",
   "execution_count": null,
   "id": "56a7f4c7",
   "metadata": {},
   "outputs": [],
   "source": [
    "class MyClass:\n",
    "    def __init__(self, value=0):\n",
    "        self.value = value\n"
   ]
  },
  {
   "cell_type": "code",
   "execution_count": null,
   "id": "7c1ac9eb",
   "metadata": {},
   "outputs": [],
   "source": [
    "obj1 = MyClass(5)\n",
    "obj2 = MyClass()"
   ]
  },
  {
   "cell_type": "code",
   "execution_count": null,
   "id": "9b8805c6",
   "metadata": {},
   "outputs": [
    {
     "name": "stdout",
     "output_type": "stream",
     "text": [
      "5 0\n"
     ]
    }
   ],
   "source": [
    "print(obj1.value, obj2.value)"
   ]
  },
  {
   "cell_type": "code",
   "execution_count": null,
   "id": "9f2ba912",
   "metadata": {},
   "outputs": [],
   "source": [
    "class A:\n",
    "    def __init__(self):\n",
    "        self.value = 5\n",
    "    def get_value(self):\n",
    "        return self.value\n",
    "    \n",
    "class B(A):\n",
    "    def get_value(self):\n",
    "        return self.value + 10"
   ]
  },
  {
   "cell_type": "code",
   "execution_count": null,
   "id": "68096be2",
   "metadata": {},
   "outputs": [],
   "source": [
    "obj = B()"
   ]
  },
  {
   "cell_type": "code",
   "execution_count": null,
   "id": "c5777414",
   "metadata": {},
   "outputs": [
    {
     "name": "stdout",
     "output_type": "stream",
     "text": [
      "15\n"
     ]
    }
   ],
   "source": [
    "print(obj.get_value())"
   ]
  },
  {
   "cell_type": "code",
   "execution_count": null,
   "id": "190fb317",
   "metadata": {},
   "outputs": [],
   "source": [
    "class MyClass:\n",
    "    def __init__(self, val):\n",
    "        self.val = val\n",
    "    def increment(self):\n",
    "        self.val +=1\n",
    "        return self"
   ]
  },
  {
   "cell_type": "code",
   "execution_count": null,
   "id": "9f7b7086",
   "metadata": {},
   "outputs": [],
   "source": [
    "obj = MyClass(5)"
   ]
  },
  {
   "cell_type": "code",
   "execution_count": null,
   "id": "8351c6bc",
   "metadata": {},
   "outputs": [
    {
     "data": {
      "text/plain": [
       "<__main__.MyClass at 0x1f0690e6900>"
      ]
     },
     "metadata": {},
     "output_type": "display_data"
    }
   ],
   "source": [
    "obj.increment().increment().increment()"
   ]
  },
  {
   "cell_type": "code",
   "execution_count": null,
   "id": "4c81543e",
   "metadata": {},
   "outputs": [
    {
     "name": "stdout",
     "output_type": "stream",
     "text": [
      "8\n"
     ]
    }
   ],
   "source": [
    "print(obj.val)"
   ]
  }
 ],
 "metadata": {
  "language_info": {
   "name": "python"
  }
 },
 "nbformat": 4,
 "nbformat_minor": 5
}
