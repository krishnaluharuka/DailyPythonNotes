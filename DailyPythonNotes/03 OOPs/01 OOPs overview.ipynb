{
 "cells": [
  {
   "cell_type": "markdown",
   "id": "5264d1a5",
   "metadata": {},
   "source": [
    "# OOPS"
   ]
  },
  {
   "cell_type": "markdown",
   "id": "20fde8a9",
   "metadata": {},
   "source": [
    "Object Oriented Programming System << A way to programming python"
   ]
  },
  {
   "cell_type": "code",
   "execution_count": null,
   "id": "80c925c9",
   "metadata": {},
   "outputs": [
    {
     "data": {
      "text/plain": [
       "5"
      ]
     },
     "metadata": {},
     "output_type": "display_data"
    }
   ],
   "source": [
    "a = 5\n",
    "a"
   ]
  },
  {
   "cell_type": "code",
   "execution_count": null,
   "id": "0f1ea73c",
   "metadata": {},
   "outputs": [
    {
     "data": {
      "text/plain": [
       "int"
      ]
     },
     "metadata": {},
     "output_type": "display_data"
    }
   ],
   "source": [
    "type(a)"
   ]
  },
  {
   "cell_type": "code",
   "execution_count": null,
   "id": "2c2fa3a7",
   "metadata": {},
   "outputs": [
    {
     "name": "stdout",
     "output_type": "stream",
     "text": [
      "<class 'int'>\n"
     ]
    }
   ],
   "source": [
    "print(type(a))"
   ]
  },
  {
   "cell_type": "code",
   "execution_count": null,
   "id": "58434e38",
   "metadata": {},
   "outputs": [],
   "source": []
  },
  {
   "cell_type": "code",
   "execution_count": null,
   "id": "bca96f64",
   "metadata": {},
   "outputs": [
    {
     "name": "stdout",
     "output_type": "stream",
     "text": [
      "<class 'str'>\n"
     ]
    }
   ],
   "source": [
    "s = \"abc\"\n",
    "print(type(s))"
   ]
  },
  {
   "cell_type": "markdown",
   "id": "c22304d6",
   "metadata": {},
   "source": [
    "## Class"
   ]
  },
  {
   "cell_type": "markdown",
   "id": "adcd4a7c",
   "metadata": {},
   "source": [
    "- Blueprint of template of creating objects"
   ]
  },
  {
   "cell_type": "markdown",
   "id": "7977e82d",
   "metadata": {},
   "source": [
    "Examples\n",
    "- We are different objects of class human being\n",
    "- Gujhiya maker / Thekua maker/ "
   ]
  },
  {
   "cell_type": "code",
   "execution_count": null,
   "id": "0397f842",
   "metadata": {},
   "outputs": [],
   "source": [
    "class Car:  # naming convention >> upperCamelCase\n",
    "    pass "
   ]
  },
  {
   "cell_type": "code",
   "execution_count": null,
   "id": "d33fccb0",
   "metadata": {},
   "outputs": [],
   "source": [
    "c1 = Car() # instance / object"
   ]
  },
  {
   "cell_type": "code",
   "execution_count": null,
   "id": "4c0bd1f4",
   "metadata": {},
   "outputs": [
    {
     "name": "stdout",
     "output_type": "stream",
     "text": [
      "<class '__main__.Car'>\n"
     ]
    }
   ],
   "source": [
    "print(type(c1))"
   ]
  }
 ],
 "metadata": {
  "language_info": {
   "name": "python"
  }
 },
 "nbformat": 4,
 "nbformat_minor": 5
}
