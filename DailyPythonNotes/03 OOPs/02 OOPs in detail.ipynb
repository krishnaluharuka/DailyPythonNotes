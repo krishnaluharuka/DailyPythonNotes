{
 "cells": [
  {
   "cell_type": "markdown",
   "id": "2ebefdbc",
   "metadata": {},
   "source": [
    "# Why OOPS ?\n",
    "- We already had functions but still need OOPS----\n",
    "- A project can have many components, say backend(f1, f2), frontend(f3, f4), data pipe-line(f5, f6)\n",
    "\n"
   ]
  },
  {
   "cell_type": "markdown",
   "id": "8d42b83a",
   "metadata": {},
   "source": [
    "```python\n",
    "def f1():\n",
    "    pass\n",
    "\n",
    "def f6():\n",
    "    pass\n",
    "\n",
    "def f4():\n",
    "    pass\n",
    "\n",
    "def f2():\n",
    "    pass\n",
    "\n",
    "def f5():\n",
    "    pass\n",
    "\n",
    "def f3():\n",
    "    pass\n",
    "```\n",
    "Here all the functions are mixed and not arranged\n",
    "- OOPS helps you to arrange the required in functions in respective classes"
   ]
  },
  {
   "cell_type": "code",
   "execution_count": null,
   "id": "a973aa9a",
   "metadata": {},
   "outputs": [],
   "source": [
    "class Car:\n",
    "    pass"
   ]
  },
  {
   "cell_type": "code",
   "execution_count": null,
   "id": "99668d23",
   "metadata": {},
   "outputs": [
    {
     "name": "stdout",
     "output_type": "stream",
     "text": [
      "<class '__main__.Car'>\n"
     ]
    }
   ],
   "source": [
    "c1 = Car()\n",
    "print(type(c1))"
   ]
  },
  {
   "cell_type": "code",
   "execution_count": null,
   "id": "084e0879",
   "metadata": {},
   "outputs": [],
   "source": [
    "class Car:  \n",
    "    def accelerate(self):   # function / method of a Car\n",
    "        print(\"Car is accelerating..\")\n",
    "\n",
    "    # in OOPS function are called method\n",
    "    "
   ]
  },
  {
   "cell_type": "markdown",
   "id": "41c324e2",
   "metadata": {},
   "source": [
    "- self variable that represent instance of the class using which you can access method/ function of class, also attribute property data of the class.\n",
    "- self makes sure that each objects knows that the method is associated with it.\n",
    "- In other words methods is refernced to that particular object"
   ]
  },
  {
   "cell_type": "code",
   "execution_count": null,
   "id": "08adcab1",
   "metadata": {},
   "outputs": [],
   "source": [
    "c1 = Car()"
   ]
  },
  {
   "cell_type": "code",
   "execution_count": null,
   "id": "df1566d6",
   "metadata": {},
   "outputs": [
    {
     "name": "stdout",
     "output_type": "stream",
     "text": [
      "Car is accelerating..\n"
     ]
    }
   ],
   "source": [
    "c1.accelerate()   #Throw an error"
   ]
  },
  {
   "cell_type": "code",
   "execution_count": null,
   "id": "1114f6a6",
   "metadata": {},
   "outputs": [
    {
     "data": {
      "text/plain": [
       "<bound method Car.accelerate of <__main__.Car object at 0x00000280AE282E40>>"
      ]
     },
     "metadata": {},
     "output_type": "display_data"
    }
   ],
   "source": [
    "c1.accelerate  # c1 is object / instance like c1 / c2 / c3 all will have common function accelerate"
   ]
  },
  {
   "cell_type": "code",
   "execution_count": null,
   "id": "48d48f2b",
   "metadata": {},
   "outputs": [
    {
     "name": "stdout",
     "output_type": "stream",
     "text": [
      "Car is accelerating..\n"
     ]
    }
   ],
   "source": [
    "c1 = Car()\n",
    "c1.accelerate()"
   ]
  },
  {
   "cell_type": "code",
   "execution_count": null,
   "id": "89305aef",
   "metadata": {},
   "outputs": [
    {
     "name": "stdout",
     "output_type": "stream",
     "text": [
      "Car is accelerating..\n"
     ]
    }
   ],
   "source": [
    "c2 = Car()\n",
    "c2.accelerate()"
   ]
  },
  {
   "cell_type": "code",
   "execution_count": null,
   "id": "62b79576",
   "metadata": {},
   "outputs": [
    {
     "name": "stdout",
     "output_type": "stream",
     "text": [
      "Car is accelerating..\n"
     ]
    }
   ],
   "source": [
    "momo = Car()\n",
    "momo.accelerate()"
   ]
  },
  {
   "cell_type": "code",
   "execution_count": null,
   "id": "7696255c",
   "metadata": {},
   "outputs": [],
   "source": [
    "class Car:\n",
    "    def accelerate(self):\n",
    "        print(\"car is accelerating...\")\n",
    "    def brake(self):\n",
    "        print(\"car is stopping...\")\n"
   ]
  },
  {
   "cell_type": "code",
   "execution_count": null,
   "id": "47202062",
   "metadata": {},
   "outputs": [
    {
     "name": "stdout",
     "output_type": "stream",
     "text": [
      "car is stopping...\n"
     ]
    }
   ],
   "source": [
    "c1 = Car()\n",
    "c1.brake()"
   ]
  },
  {
   "cell_type": "code",
   "execution_count": null,
   "id": "c99dcdd8",
   "metadata": {},
   "outputs": [
    {
     "name": "stdout",
     "output_type": "stream",
     "text": [
      "car is accelerating...\n",
      "car is stopping...\n"
     ]
    }
   ],
   "source": [
    "c = Car()\n",
    "c.accelerate()\n",
    "c.brake()"
   ]
  },
  {
   "cell_type": "code",
   "execution_count": null,
   "id": "e62effbd",
   "metadata": {},
   "outputs": [],
   "source": [
    "class Bank:\n",
    "    def deposit(momo): # self is a variablbe... self = anything.. best practice is using self\n",
    "        print(\"I am depositing the money...\")\n",
    "    def withdraw(momo):\n",
    "        print(\"I am withdrawing the money..\")"
   ]
  },
  {
   "cell_type": "code",
   "execution_count": null,
   "id": "2a013d1d",
   "metadata": {},
   "outputs": [
    {
     "name": "stdout",
     "output_type": "stream",
     "text": [
      "I am depositing the money...\n",
      "I am withdrawing the money..\n"
     ]
    }
   ],
   "source": [
    "c1 = Bank()\n",
    "c1.deposit()\n",
    "c1.withdraw()"
   ]
  },
  {
   "cell_type": "code",
   "execution_count": null,
   "id": "b6481085",
   "metadata": {},
   "outputs": [
    {
     "name": "stdout",
     "output_type": "stream",
     "text": [
      "I am depositing the money...\n"
     ]
    }
   ],
   "source": [
    "c2 = Bank()\n",
    "c2.deposit()"
   ]
  },
  {
   "cell_type": "code",
   "execution_count": null,
   "id": "8e7e5b7b",
   "metadata": {},
   "outputs": [],
   "source": [
    "# Passing data input in the class:\n",
    "class Bank:\n",
    "    def deposit(self, amount_deposit): # self is a variablbe... self = anything.. best practice is using self\n",
    "        print(\"I am depositing the money...\")\n",
    "    def withdraw(self, amount_withdraw):\n",
    "        print(\"I am withdrawing the money..\")"
   ]
  },
  {
   "cell_type": "code",
   "execution_count": null,
   "id": "4e85187a",
   "metadata": {},
   "outputs": [
    {
     "name": "stdout",
     "output_type": "stream",
     "text": [
      "I am depositing the money...\n"
     ]
    }
   ],
   "source": [
    "ajay = Bank()\n",
    "ajay.deposit(50)"
   ]
  },
  {
   "cell_type": "code",
   "execution_count": null,
   "id": "7e54dd83",
   "metadata": {},
   "outputs": [
    {
     "name": "stdout",
     "output_type": "stream",
     "text": [
      "I am withdrawing the money..\n"
     ]
    }
   ],
   "source": [
    "prag = Bank()\n",
    "prag.withdraw(1000)"
   ]
  },
  {
   "cell_type": "code",
   "execution_count": null,
   "id": "176f32ec",
   "metadata": {},
   "outputs": [],
   "source": [
    "# Default amount: Here amount is attribute, property, data of class bank\n",
    "class Bank:\n",
    "    amount = 1000\n",
    "    def deposit(self, amount_deposit): # self is a variablbe... self = anything.. best practice is using self\n",
    "        print(\"I am depositing the money...\")\n",
    "    def withdraw(self, amount_withdraw):\n",
    "        print(\"I am withdrawing the money..\")"
   ]
  },
  {
   "cell_type": "code",
   "execution_count": null,
   "id": "86f1710c",
   "metadata": {},
   "outputs": [
    {
     "name": "stdout",
     "output_type": "stream",
     "text": [
      "I am depositing the money...\n"
     ]
    }
   ],
   "source": [
    "prag = Bank()\n",
    "prag.deposit(1000)"
   ]
  },
  {
   "cell_type": "code",
   "execution_count": null,
   "id": "52ce928b",
   "metadata": {},
   "outputs": [
    {
     "data": {
      "text/plain": [
       "1000"
      ]
     },
     "metadata": {},
     "output_type": "display_data"
    }
   ],
   "source": [
    "# Attribute / Property can also accessed in the same way method and functions are accessed\n",
    "prag.amount"
   ]
  },
  {
   "cell_type": "code",
   "execution_count": null,
   "id": "c4087978",
   "metadata": {},
   "outputs": [],
   "source": [
    "# Extract odd and even numbers from the list\n",
    "class ListOperations:\n",
    "    l = [1, 2, 3, 4, 5, 6, 7, 8]\n",
    "    def extract_even(self, l):\n",
    "        l1 =[]\n",
    "        for i in l:\n",
    "            if i % 2 ==0:\n",
    "                l1.append(i)\n",
    "        return l1\n",
    "    def extract_odd(self, l):\n",
    "        l1 =[]\n",
    "        for i in l:\n",
    "            if i % 2 !=0:\n",
    "                l1.append(i)\n",
    "        return l1\n",
    "        "
   ]
  },
  {
   "cell_type": "code",
   "execution_count": null,
   "id": "9004b376",
   "metadata": {},
   "outputs": [],
   "source": [
    "ops = ListOperations()"
   ]
  },
  {
   "cell_type": "code",
   "execution_count": null,
   "id": "9211bf9c",
   "metadata": {},
   "outputs": [
    {
     "data": {
      "text/plain": [
       "[1, 2, 3, 4, 5, 6, 7, 8]"
      ]
     },
     "metadata": {},
     "output_type": "display_data"
    }
   ],
   "source": [
    "ops.l"
   ]
  },
  {
   "cell_type": "code",
   "execution_count": null,
   "id": "a4758d36",
   "metadata": {},
   "outputs": [
    {
     "data": {
      "text/plain": [
       "[2, 4, 6, 8]"
      ]
     },
     "metadata": {},
     "output_type": "display_data"
    }
   ],
   "source": [
    "ops.extract_even(ops.l)\n"
   ]
  },
  {
   "cell_type": "code",
   "execution_count": null,
   "id": "3fcd5f95",
   "metadata": {},
   "outputs": [
    {
     "data": {
      "text/plain": [
       "[1, 3, 5, 7]"
      ]
     },
     "metadata": {},
     "output_type": "display_data"
    }
   ],
   "source": [
    "ops.extract_odd(ops.l)"
   ]
  },
  {
   "cell_type": "code",
   "execution_count": null,
   "id": "b85f22a7",
   "metadata": {},
   "outputs": [
    {
     "data": {
      "text/plain": [
       "[1, 3, 9, 35, 89]"
      ]
     },
     "metadata": {},
     "output_type": "display_data"
    }
   ],
   "source": [
    "ops.extract_odd([1,2,3,4,9,12,35,89])"
   ]
  },
  {
   "cell_type": "markdown",
   "id": "b4e96224",
   "metadata": {},
   "source": [
    "- If you make any object the atttribute i is fixed\n",
    "- inspite of passing a differnt list above you are still getting the fixed list. l([1,2,3,4,5,90,23,59])\n",
    "- You want to take the attribute value of the class for each object differently"
   ]
  },
  {
   "cell_type": "code",
   "execution_count": null,
   "id": "ee4e33f4",
   "metadata": {},
   "outputs": [],
   "source": [
    "class ListOperations:\n",
    "    def __init__(self, l):  # magic method / dunder method << __init__ means initialization of variable\n",
    "        self.l = l\n",
    "\n",
    "    def extract_even(self, l):\n",
    "        l1 = []\n",
    "        for i in l:\n",
    "            if i % 2 ==0:\n",
    "                l1.append(i)\n",
    "        return l1\n",
    "    def extract_odd(self, l):\n",
    "        l1 =[]\n",
    "        for i in l:\n",
    "            if i % 2 !=0:\n",
    "                l1.append(i)\n",
    "        return l1"
   ]
  },
  {
   "cell_type": "markdown",
   "id": "c012a09a",
   "metadata": {},
   "source": [
    "- throw an error, while making object/ instance of the class, the first method that is executed is __init__\n",
    "- and __init__ needs an arguement like l"
   ]
  },
  {
   "cell_type": "code",
   "execution_count": null,
   "id": "30f25734",
   "metadata": {},
   "outputs": [
    {
     "ename": "NameError",
     "evalue": "name 'l' is not defined",
     "output_type": "error",
     "traceback": [
      "\u001b[31m---------------------------------------------------------------------------\u001b[39m\n",
      "\n",
      "\u001b[31mNameError\u001b[39m                                 Traceback (most recent call last)\n",
      "\n",
      "\u001b[36mCell\u001b[39m\u001b[36m \u001b[39m\u001b[32mIn[10]\u001b[39m\u001b[32m, line 1\u001b[39m\n",
      "\n",
      "\u001b[32m----> \u001b[39m\u001b[32m1\u001b[39m ops1 = ListOperations(\u001b[43ml\u001b[49m)\n",
      "\n",
      "\n",
      "\n",
      "\u001b[31mNameError\u001b[39m: name 'l' is not defined"
     ]
    }
   ],
   "source": [
    "ops1 = ListOperations()  "
   ]
  },
  {
   "cell_type": "code",
   "execution_count": null,
   "id": "0cca5070",
   "metadata": {},
   "outputs": [
    {
     "data": {
      "text/plain": [
       "[1, 2, 3, 4, 5, 6, 7]"
      ]
     },
     "metadata": {},
     "output_type": "display_data"
    }
   ],
   "source": [
    "ops1 = ListOperations([1,2,3,4,5,6,7]) \n",
    "ops1.l "
   ]
  },
  {
   "cell_type": "code",
   "execution_count": null,
   "id": "b82ec208",
   "metadata": {},
   "outputs": [
    {
     "data": {
      "text/plain": [
       "[1, 20, 35, 74, 65, 96, 7]"
      ]
     },
     "metadata": {},
     "output_type": "display_data"
    }
   ],
   "source": [
    "ops1 = ListOperations([1,20,35,74,65,96,7]) \n",
    "ops1.l "
   ]
  },
  {
   "cell_type": "markdown",
   "id": "0a298135",
   "metadata": {},
   "source": [
    "- hence in this way each time l initialise with new value"
   ]
  },
  {
   "cell_type": "code",
   "execution_count": null,
   "id": "2213af77",
   "metadata": {},
   "outputs": [],
   "source": [
    "class ListOperations:\n",
    "    def __init__(self, l):  # magic method / dunder method << __init__ means initialization of variable\n",
    "        self.l = l\n",
    "\n",
    "    def extract_even(self): # be careful as init has been used only pass self in the method \n",
    "        l = self.l\n",
    "        l1 = []\n",
    "        for i in l:\n",
    "            if i % 2 ==0:\n",
    "                l1.append(i)\n",
    "        return l1\n",
    "    def extract_odd(self):\n",
    "        l = self.l\n",
    "        l1 =[]\n",
    "        for i in l:\n",
    "            if i % 2 !=0:\n",
    "                l1.append(i)\n",
    "        return l1"
   ]
  },
  {
   "cell_type": "code",
   "execution_count": null,
   "id": "33504047",
   "metadata": {},
   "outputs": [
    {
     "data": {
      "text/plain": [
       "[8, 12]"
      ]
     },
     "metadata": {},
     "output_type": "display_data"
    }
   ],
   "source": [
    "ops1 = ListOperations([1, 8, 9, 11, 12])\n",
    "ops1.extract_even() # no need to pass any list here"
   ]
  },
  {
   "cell_type": "code",
   "execution_count": null,
   "id": "0ff87c17",
   "metadata": {},
   "outputs": [
    {
     "data": {
      "text/plain": [
       "[1, 9, 11]"
      ]
     },
     "metadata": {},
     "output_type": "display_data"
    }
   ],
   "source": [
    "ops1 = ListOperations([1, 8, 9, 11, 12])\n",
    "ops1.extract_odd()"
   ]
  },
  {
   "cell_type": "code",
   "execution_count": null,
   "id": "a2e5a8b2",
   "metadata": {},
   "outputs": [],
   "source": [
    "class ListOperations:\n",
    "    def __init__(self, l):  # magic method / dunder method << __init__ means initialization of variable\n",
    "        self.l2 = l # everywhere you will be able to access l using aelf.l2 \n",
    "\n",
    "    def extract_even(self): # be careful as init has been used only pass self in the method \n",
    "        l = self.l2\n",
    "        l1 = []\n",
    "        for i in l:\n",
    "            if i % 2 ==0:\n",
    "                l1.append(i)\n",
    "        return l1\n",
    "    def extract_odd(self):\n",
    "        l = self.l2\n",
    "        l1 =[]\n",
    "        for i in l:\n",
    "            if i % 2 !=0:\n",
    "                l1.append(i)\n",
    "        return l1"
   ]
  },
  {
   "cell_type": "code",
   "execution_count": null,
   "id": "1741d348",
   "metadata": {},
   "outputs": [
    {
     "data": {
      "text/plain": [
       "[8, 12]"
      ]
     },
     "metadata": {},
     "output_type": "display_data"
    }
   ],
   "source": [
    "ops1 = ListOperations([1, 8, 9, 11, 12])\n",
    "ops1.extract_even() # no need to pass any list here"
   ]
  },
  {
   "cell_type": "markdown",
   "id": "39a89ea8",
   "metadata": {},
   "source": [
    "## Multiple attributes"
   ]
  },
  {
   "cell_type": "code",
   "execution_count": null,
   "id": "a7fa2b53",
   "metadata": {},
   "outputs": [],
   "source": [
    "class Book:\n",
    "    def __init__(self, name, author, title):\n",
    "        self.name_of_book = name\n",
    "        self.author_name = author\n",
    "        self.title_name = title\n",
    "    \n",
    "    def extract_details_name_title(self):\n",
    "        print(self.name_of_book, self.title_name)\n",
    "\n",
    "    def extract_details_name_author(self):\n",
    "        print(self.name_of_book, self.author_name)\n"
   ]
  },
  {
   "cell_type": "code",
   "execution_count": null,
   "id": "76d91881",
   "metadata": {},
   "outputs": [],
   "source": [
    "student1 = Book(\"DS\", \"Anne\", \"Data structure\")"
   ]
  },
  {
   "cell_type": "code",
   "execution_count": null,
   "id": "da15c54f",
   "metadata": {},
   "outputs": [
    {
     "name": "stdout",
     "output_type": "stream",
     "text": [
      "DS Anne\n"
     ]
    }
   ],
   "source": [
    "student1.extract_details_name_author()"
   ]
  },
  {
   "cell_type": "code",
   "execution_count": null,
   "id": "47276a0d",
   "metadata": {},
   "outputs": [
    {
     "name": "stdout",
     "output_type": "stream",
     "text": [
      "DS Data structure\n"
     ]
    }
   ],
   "source": [
    "student1.extract_details_name_title()"
   ]
  },
  {
   "cell_type": "code",
   "execution_count": null,
   "id": "15028502",
   "metadata": {},
   "outputs": [],
   "source": [
    "student2 = Book(\"Fairy tales\", \"Disney\", \"Cindrella\")"
   ]
  },
  {
   "cell_type": "code",
   "execution_count": null,
   "id": "d4d6580d",
   "metadata": {},
   "outputs": [
    {
     "name": "stdout",
     "output_type": "stream",
     "text": [
      "Fairy tales Cindrella\n"
     ]
    }
   ],
   "source": [
    "student2.extract_details_name_title()"
   ]
  },
  {
   "cell_type": "code",
   "execution_count": null,
   "id": "26df1706",
   "metadata": {},
   "outputs": [
    {
     "name": "stdout",
     "output_type": "stream",
     "text": [
      "Fairy tales Disney\n"
     ]
    }
   ],
   "source": [
    "student2.extract_details_name_author()"
   ]
  },
  {
   "cell_type": "code",
   "execution_count": null,
   "id": "e11b1e98",
   "metadata": {},
   "outputs": [],
   "source": [
    "class Book:\n",
    "    def __init__(self):\n",
    "        self.name_of_book = \"The art of being alone\"\n",
    "        self.author_name = \"Renuka Gauvrani\"\n",
    "        self.title_name = \"Love yourself\"\n",
    "    \n",
    "    def extract_details_name_title(self):\n",
    "        print(self.name_of_book, self.title_name)\n",
    "\n",
    "    def extract_details_name_author(self):\n",
    "        print(self.name_of_book, self.author_name)"
   ]
  },
  {
   "cell_type": "code",
   "execution_count": null,
   "id": "32ef0437",
   "metadata": {},
   "outputs": [
    {
     "name": "stdout",
     "output_type": "stream",
     "text": [
      "The art of being alone Renuka Gauvrani\n"
     ]
    }
   ],
   "source": [
    "student1 = Book()\n",
    "student1.extract_details_name_author()"
   ]
  },
  {
   "cell_type": "markdown",
   "id": "5efc51e7",
   "metadata": {},
   "source": [
    "## Inheritance"
   ]
  },
  {
   "cell_type": "markdown",
   "id": "7fd4e70f",
   "metadata": {},
   "source": [
    "- It refers to process of child receiving the properties of parent class\n",
    "- child class inherit the properties of parents class"
   ]
  },
  {
   "cell_type": "code",
   "execution_count": null,
   "id": "cd8d7177",
   "metadata": {},
   "outputs": [],
   "source": [
    "# Syntax\n",
    "# class BaseClass:\n",
    "#     # body of base class\n",
    "# class DerivedClass(BaseClass):\n",
    "#     # body of derived class"
   ]
  },
  {
   "cell_type": "markdown",
   "id": "c27e441b",
   "metadata": {},
   "source": [
    "### Single Inheritence"
   ]
  },
  {
   "cell_type": "code",
   "execution_count": null,
   "id": "2a336a5d",
   "metadata": {},
   "outputs": [],
   "source": [
    "# example\n",
    "class Father:\n",
    "    def father_property(self):\n",
    "        print(\"This the father property..\")"
   ]
  },
  {
   "cell_type": "code",
   "execution_count": null,
   "id": "ffba3a5a",
   "metadata": {},
   "outputs": [],
   "source": [
    "class Son(Father):\n",
    "    def job(Self):\n",
    "        print(\"Son has property from job..\")"
   ]
  },
  {
   "cell_type": "code",
   "execution_count": null,
   "id": "b4128643",
   "metadata": {},
   "outputs": [],
   "source": [
    "child_obj = Son()  #object/instance of Son class"
   ]
  },
  {
   "cell_type": "code",
   "execution_count": null,
   "id": "5544c4bd",
   "metadata": {},
   "outputs": [
    {
     "name": "stdout",
     "output_type": "stream",
     "text": [
      "This the father property..\n"
     ]
    }
   ],
   "source": [
    "# A child can have his property and also his father property\n",
    "child_obj.father_property()"
   ]
  },
  {
   "cell_type": "code",
   "execution_count": null,
   "id": "9ba86557",
   "metadata": {},
   "outputs": [
    {
     "name": "stdout",
     "output_type": "stream",
     "text": [
      "Son has property from job..\n"
     ]
    }
   ],
   "source": [
    "child_obj.job()"
   ]
  },
  {
   "cell_type": "code",
   "execution_count": null,
   "id": "42edd21b",
   "metadata": {},
   "outputs": [
    {
     "name": "stdout",
     "output_type": "stream",
     "text": [
      "This the father property..\n"
     ]
    }
   ],
   "source": [
    "# A father will have only his property\n",
    "father_obj = Father()\n",
    "father_obj.father_property()"
   ]
  },
  {
   "cell_type": "code",
   "execution_count": null,
   "id": "b5eebc72",
   "metadata": {},
   "outputs": [
    {
     "ename": "AttributeError",
     "evalue": "'Father' object has no attribute 'job'",
     "output_type": "error",
     "traceback": [
      "\u001b[31m---------------------------------------------------------------------------\u001b[39m\n",
      "\n",
      "\u001b[31mAttributeError\u001b[39m                            Traceback (most recent call last)\n",
      "\n",
      "\u001b[36mCell\u001b[39m\u001b[36m \u001b[39m\u001b[32mIn[9]\u001b[39m\u001b[32m, line 1\u001b[39m\n",
      "\n",
      "\u001b[32m----> \u001b[39m\u001b[32m1\u001b[39m \u001b[43mfather_obj\u001b[49m\u001b[43m.\u001b[49m\u001b[43mjob\u001b[49m()\n",
      "\n",
      "\n",
      "\n",
      "\u001b[31mAttributeError\u001b[39m: 'Father' object has no attribute 'job'"
     ]
    }
   ],
   "source": [
    "father_obj.job()"
   ]
  },
  {
   "cell_type": "markdown",
   "id": "14cef330",
   "metadata": {},
   "source": [
    "- Parent class will not have access to the property (method/ attribute) of child class but child class will have access to both."
   ]
  },
  {
   "cell_type": "code",
   "execution_count": null,
   "id": "0a687dfb",
   "metadata": {},
   "outputs": [],
   "source": [
    "class Fruit:\n",
    "    def fruit_info(self):\n",
    "        print(\"Inside parent class\")\n",
    "class Apple(Fruit):\n",
    "    def apple_info(self):\n",
    "        print(\"Inside the child class..\")"
   ]
  },
  {
   "cell_type": "code",
   "execution_count": null,
   "id": "9ae29d15",
   "metadata": {},
   "outputs": [
    {
     "name": "stdout",
     "output_type": "stream",
     "text": [
      "Inside the child class..\n"
     ]
    }
   ],
   "source": [
    "obj = Apple()\n",
    "obj.apple_info()"
   ]
  },
  {
   "cell_type": "code",
   "execution_count": null,
   "id": "c3f62c31",
   "metadata": {},
   "outputs": [
    {
     "name": "stdout",
     "output_type": "stream",
     "text": [
      "Inside parent class\n"
     ]
    }
   ],
   "source": [
    "obj.fruit_info()"
   ]
  },
  {
   "cell_type": "code",
   "execution_count": null,
   "id": "5fece11a",
   "metadata": {},
   "outputs": [
    {
     "name": "stdout",
     "output_type": "stream",
     "text": [
      "Inside parent class\n"
     ]
    }
   ],
   "source": [
    "par = Fruit()\n",
    "par.fruit_info()"
   ]
  },
  {
   "cell_type": "markdown",
   "id": "765378a4",
   "metadata": {},
   "source": [
    "- Method overinding\n",
    "- re-writing / re-defining methods of parent class in derived /child class\n",
    "- child class is very powerfull\n",
    "- child class have all the power to override the method of his parent class\n",
    "- method overriding happens between two classes"
   ]
  },
  {
   "cell_type": "code",
   "execution_count": null,
   "id": "d89aa8dd",
   "metadata": {},
   "outputs": [],
   "source": [
    "# Method overriding\n",
    "class Fruit:\n",
    "    def fruit_info(self):\n",
    "        print(\"Inside parent class\")\n",
    "class Apple(Fruit):\n",
    "    def fruit_info(self):\n",
    "        print(\"Inside the child class.\")\n",
    "    def apple_info(self):\n",
    "        print(\"Inside the child class..\")"
   ]
  },
  {
   "cell_type": "code",
   "execution_count": null,
   "id": "7c3704ab",
   "metadata": {},
   "outputs": [
    {
     "name": "stdout",
     "output_type": "stream",
     "text": [
      "Inside the child class.\n"
     ]
    }
   ],
   "source": [
    "obj = Apple()\n",
    "obj.fruit_info()"
   ]
  },
  {
   "cell_type": "markdown",
   "id": "830c8861",
   "metadata": {},
   "source": [
    "### Multilevel Inhertience"
   ]
  },
  {
   "cell_type": "markdown",
   "id": "707598d8",
   "metadata": {},
   "source": [
    "- One child class may inherit the property of parent class and that parent class may inherit the property of grand parent class"
   ]
  },
  {
   "cell_type": "code",
   "execution_count": null,
   "id": "e42fa092",
   "metadata": {},
   "outputs": [],
   "source": [
    "class GrandFather:\n",
    "    def prop_grand_father(self):\n",
    "       print(\"I am your grandfather... This is my property...\")\n",
    "\n",
    "class Father(GrandFather):\n",
    "    def prop_father(self):\n",
    "       print(\"I am your father... I am having my and your grand father's property...\") \n",
    "\n",
    "class Son(Father):\n",
    "    def prop_son(self):\n",
    "       print(\"I am the king.. I am having all the properties...\") "
   ]
  },
  {
   "cell_type": "code",
   "execution_count": null,
   "id": "dddc6615",
   "metadata": {},
   "outputs": [
    {
     "name": "stdout",
     "output_type": "stream",
     "text": [
      "I am your father... I am having my and your grand father's property...\n"
     ]
    }
   ],
   "source": [
    "son = Son()\n",
    "son.prop_father()"
   ]
  },
  {
   "cell_type": "code",
   "execution_count": null,
   "id": "7dc94812",
   "metadata": {},
   "outputs": [
    {
     "name": "stdout",
     "output_type": "stream",
     "text": [
      "I am your grandfather... This is my property...\n"
     ]
    }
   ],
   "source": [
    "son.prop_grand_father()"
   ]
  },
  {
   "cell_type": "code",
   "execution_count": null,
   "id": "2b06d2d5",
   "metadata": {},
   "outputs": [
    {
     "name": "stdout",
     "output_type": "stream",
     "text": [
      "I am the king.. I am having all the properties...\n"
     ]
    }
   ],
   "source": [
    "son.prop_son()"
   ]
  },
  {
   "cell_type": "code",
   "execution_count": null,
   "id": "b5f35a6f",
   "metadata": {},
   "outputs": [
    {
     "name": "stdout",
     "output_type": "stream",
     "text": [
      "I am your father... I am having my and your grand father's property...\n"
     ]
    }
   ],
   "source": [
    "fath = Father()\n",
    "fath.prop_father()"
   ]
  },
  {
   "cell_type": "code",
   "execution_count": null,
   "id": "9d0065b8",
   "metadata": {},
   "outputs": [
    {
     "name": "stdout",
     "output_type": "stream",
     "text": [
      "I am your grandfather... This is my property...\n"
     ]
    }
   ],
   "source": [
    "fath.prop_grand_father()"
   ]
  },
  {
   "cell_type": "code",
   "execution_count": null,
   "id": "184e8541",
   "metadata": {},
   "outputs": [
    {
     "name": "stdout",
     "output_type": "stream",
     "text": [
      "I am your grandfather... This is my property...\n"
     ]
    }
   ],
   "source": [
    "gran = GrandFather()\n",
    "gran.prop_grand_father()"
   ]
  },
  {
   "cell_type": "code",
   "execution_count": null,
   "id": "21b44728",
   "metadata": {},
   "outputs": [],
   "source": [
    "# Use Case\n",
    "class Vehicle:\n",
    "    def vehicle_info(self):\n",
    "        print(\"Inside vehicle class\")\n",
    "class Car(Vehicle):\n",
    "    def car_info(self):\n",
    "        print(\"Inside the car class\")\n",
    "class SportCar(Car):\n",
    "    def sports_car_info(self):\n",
    "        print(\"Inside the sports car.\")"
   ]
  },
  {
   "cell_type": "code",
   "execution_count": null,
   "id": "567241a8",
   "metadata": {},
   "outputs": [],
   "source": [
    "s1 = SportCar()"
   ]
  },
  {
   "cell_type": "code",
   "execution_count": null,
   "id": "cb71b518",
   "metadata": {},
   "outputs": [
    {
     "name": "stdout",
     "output_type": "stream",
     "text": [
      "Inside vehicle class\n"
     ]
    }
   ],
   "source": [
    "s1.vehicle_info()"
   ]
  },
  {
   "cell_type": "code",
   "execution_count": null,
   "id": "6a234b69",
   "metadata": {},
   "outputs": [
    {
     "name": "stdout",
     "output_type": "stream",
     "text": [
      "Inside the car class\n"
     ]
    }
   ],
   "source": [
    "s1.car_info()"
   ]
  },
  {
   "cell_type": "code",
   "execution_count": null,
   "id": "411e5031",
   "metadata": {},
   "outputs": [
    {
     "name": "stdout",
     "output_type": "stream",
     "text": [
      "Inside the sports car.\n"
     ]
    }
   ],
   "source": [
    "s1.sports_car_info()"
   ]
  },
  {
   "cell_type": "code",
   "execution_count": null,
   "id": "691ff260",
   "metadata": {},
   "outputs": [],
   "source": [
    "# Method overriding\n",
    "class Vehicle:\n",
    "    def vehicle_info(self):\n",
    "        print(\"Inside vehicle class\")\n",
    "class Car(Vehicle):\n",
    "    def car_info(self):\n",
    "        print(\"Inside the car class\")\n",
    "class SportCar(Car):\n",
    "    def vehicle_info(self):\n",
    "        print(\"Inside the sports car.\")"
   ]
  },
  {
   "cell_type": "code",
   "execution_count": null,
   "id": "e714bf22",
   "metadata": {},
   "outputs": [
    {
     "name": "stdout",
     "output_type": "stream",
     "text": [
      "Inside the sports car.\n"
     ]
    }
   ],
   "source": [
    "s2= SportCar()\n",
    "s2.vehicle_info()"
   ]
  },
  {
   "cell_type": "markdown",
   "id": "12eb03ec",
   "metadata": {},
   "source": [
    "### Multiple Inheritence"
   ]
  },
  {
   "cell_type": "markdown",
   "id": "6bebe07c",
   "metadata": {},
   "source": [
    "- One child can inherit property of multiple parent class"
   ]
  },
  {
   "cell_type": "code",
   "execution_count": null,
   "id": "3bd72999",
   "metadata": {},
   "outputs": [],
   "source": [
    "class ParentClass1:\n",
    "    def method1(self):\n",
    "        print(\"Method 1 of parent class 1\")\n",
    "class ParentClass2:\n",
    "    def method2(self):\n",
    "        print(\"Method 2 of parent class 2 \")"
   ]
  },
  {
   "cell_type": "code",
   "execution_count": null,
   "id": "0088e025",
   "metadata": {},
   "outputs": [],
   "source": [
    "class ChildClass(ParentClass1, ParentClass2):\n",
    "    def method3(self):\n",
    "        print(\"method of child class\")"
   ]
  },
  {
   "cell_type": "code",
   "execution_count": null,
   "id": "91bf0157",
   "metadata": {},
   "outputs": [
    {
     "name": "stdout",
     "output_type": "stream",
     "text": [
      "Method 1 of parent class 1\n"
     ]
    }
   ],
   "source": [
    "obj = ChildClass()\n",
    "obj.method1()"
   ]
  },
  {
   "cell_type": "code",
   "execution_count": null,
   "id": "03dea00a",
   "metadata": {},
   "outputs": [
    {
     "name": "stdout",
     "output_type": "stream",
     "text": [
      "Method 2 of parent class 2 \n"
     ]
    }
   ],
   "source": [
    "obj.method2()"
   ]
  },
  {
   "cell_type": "code",
   "execution_count": null,
   "id": "9fcbe139",
   "metadata": {},
   "outputs": [
    {
     "name": "stdout",
     "output_type": "stream",
     "text": [
      "method of child class\n"
     ]
    }
   ],
   "source": [
    "obj.method3()"
   ]
  },
  {
   "cell_type": "markdown",
   "id": "5bb75fbc",
   "metadata": {},
   "source": [
    "- Diamond problems:\n",
    "- It occurs when a class inherit ffrom 2 or more class\n",
    "- will lead to ambiguity in calling the method\n",
    "\n",
    "- to remove diamond problem python uses METHOD RESOLUTION ORDER MRO algorith called C3 linearisation\n",
    "- It means the class that is inherited first in the derived class , that method will be called"
   ]
  },
  {
   "cell_type": "code",
   "execution_count": null,
   "id": "fb5f365c",
   "metadata": {},
   "outputs": [],
   "source": [
    "class ParentClass1:\n",
    "    def method_par(self):\n",
    "        print(\"Method 1 of parent class 1\")\n",
    "class ParentClass2:\n",
    "    def method_par(self):\n",
    "        print(\"Method 2 of parent class 2 \")\n",
    "class ChildClass(ParentClass1, ParentClass2):\n",
    "    def method3(self):\n",
    "        print(\"method of child class\")"
   ]
  },
  {
   "cell_type": "code",
   "execution_count": null,
   "id": "0dc08025",
   "metadata": {},
   "outputs": [],
   "source": [
    "obj2 = ChildClass()"
   ]
  },
  {
   "cell_type": "code",
   "execution_count": null,
   "id": "89538303",
   "metadata": {},
   "outputs": [
    {
     "name": "stdout",
     "output_type": "stream",
     "text": [
      "Method 1 of parent class 1\n"
     ]
    }
   ],
   "source": [
    "obj2.method_par()"
   ]
  },
  {
   "cell_type": "code",
   "execution_count": null,
   "id": "c3e5a5f4",
   "metadata": {},
   "outputs": [],
   "source": [
    "class A:\n",
    "    def method(self):\n",
    "        print(\"Method of class A\")\n",
    "class B(A):\n",
    "    def method(self):\n",
    "        print(\"Method of class B\")\n",
    "class C(A):\n",
    "    def method(self):\n",
    "        print(\"Method of class C\")\n",
    "class D(C, B):\n",
    "    pass\n",
    "    "
   ]
  },
  {
   "cell_type": "code",
   "execution_count": null,
   "id": "8789788e",
   "metadata": {},
   "outputs": [
    {
     "name": "stdout",
     "output_type": "stream",
     "text": [
      "Method of class C\n"
     ]
    }
   ],
   "source": [
    "d = D()\n",
    "d.method()"
   ]
  },
  {
   "cell_type": "code",
   "execution_count": null,
   "id": "dc19d625",
   "metadata": {},
   "outputs": [],
   "source": [
    "class A:\n",
    "    def method(self):\n",
    "        print(\"Method of class A\")\n",
    "class B(A):\n",
    "    def method(self):\n",
    "        print(\"Method of class B\")\n",
    "class C(A):\n",
    "    def method(self):\n",
    "        print(\"Method of class C\")\n",
    "class D(B, C):\n",
    "    pass"
   ]
  },
  {
   "cell_type": "code",
   "execution_count": null,
   "id": "1d7fa844",
   "metadata": {},
   "outputs": [
    {
     "name": "stdout",
     "output_type": "stream",
     "text": [
      "Method of class B\n"
     ]
    }
   ],
   "source": [
    "d = D()\n",
    "d.method()"
   ]
  },
  {
   "cell_type": "code",
   "execution_count": null,
   "id": "dad8bf13",
   "metadata": {},
   "outputs": [
    {
     "ename": "TypeError",
     "evalue": "Cannot create a consistent method resolution order (MRO) for bases A, C",
     "output_type": "error",
     "traceback": [
      "\u001b[31m---------------------------------------------------------------------------\u001b[39m\n",
      "\n",
      "\u001b[31mTypeError\u001b[39m                                 Traceback (most recent call last)\n",
      "\n",
      "\u001b[36mCell\u001b[39m\u001b[36m \u001b[39m\u001b[32mIn[49]\u001b[39m\u001b[32m, line 10\u001b[39m\n",
      "\n",
      "\u001b[32m      8\u001b[39m     \u001b[38;5;28;01mdef\u001b[39;00m\u001b[38;5;250m \u001b[39m\u001b[34mmethod\u001b[39m(\u001b[38;5;28mself\u001b[39m):\n",
      "\n",
      "\u001b[32m      9\u001b[39m         \u001b[38;5;28mprint\u001b[39m(\u001b[33m\"\u001b[39m\u001b[33mMethod of class C\u001b[39m\u001b[33m\"\u001b[39m)\n",
      "\n",
      "\u001b[32m---> \u001b[39m\u001b[32m10\u001b[39m \u001b[38;5;28;43;01mclass\u001b[39;49;00m\u001b[38;5;250;43m \u001b[39;49m\u001b[34;43;01mD\u001b[39;49;00m\u001b[43m(\u001b[49m\u001b[43mA\u001b[49m\u001b[43m,\u001b[49m\u001b[43m \u001b[49m\u001b[43mC\u001b[49m\u001b[43m)\u001b[49m\u001b[43m:\u001b[49m\n",
      "\n",
      "\u001b[32m     11\u001b[39m \u001b[43m    \u001b[49m\u001b[38;5;28;43;01mpass\u001b[39;49;00m\n",
      "\n",
      "\n",
      "\n",
      "\u001b[31mTypeError\u001b[39m: Cannot create a consistent method resolution order (MRO) for bases A, C"
     ]
    }
   ],
   "source": [
    "class A:\n",
    "    def method(self):\n",
    "        print(\"Method of class A\")\n",
    "class B(A):\n",
    "    def method(self):\n",
    "        print(\"Method of class B\")\n",
    "class C(A):\n",
    "    def method(self):\n",
    "        print(\"Method of class C\")\n",
    "class D(A, C):\n",
    "    pass"
   ]
  },
  {
   "cell_type": "markdown",
   "id": "af3f6262",
   "metadata": {},
   "source": [
    "### Hierarchical Inheritence"
   ]
  },
  {
   "cell_type": "markdown",
   "id": "da2a3b85",
   "metadata": {},
   "source": [
    "- One parent class and more than two child class"
   ]
  },
  {
   "cell_type": "code",
   "execution_count": null,
   "id": "9e95822f",
   "metadata": {},
   "outputs": [],
   "source": [
    "class Vehicle:\n",
    "    def info(self):\n",
    "        print(\"This is vehicle..\")\n",
    "class Car(Vehicle):\n",
    "    def car_info(self, name):\n",
    "        print(\"this is car info\", name)\n",
    "class Truck(Vehicle):\n",
    "    def truck_info(self, name):\n",
    "        print(\"Truck info \", name)"
   ]
  },
  {
   "cell_type": "code",
   "execution_count": null,
   "id": "91b71acb",
   "metadata": {},
   "outputs": [
    {
     "name": "stdout",
     "output_type": "stream",
     "text": [
      "This is vehicle..\n"
     ]
    }
   ],
   "source": [
    "c1 = Car()\n",
    "c1.info()"
   ]
  },
  {
   "cell_type": "code",
   "execution_count": null,
   "id": "c3df36d8",
   "metadata": {},
   "outputs": [
    {
     "name": "stdout",
     "output_type": "stream",
     "text": [
      "this is car info BMW\n"
     ]
    }
   ],
   "source": [
    "c1.car_info(\"BMW\")"
   ]
  },
  {
   "cell_type": "code",
   "execution_count": null,
   "id": "96e6d128",
   "metadata": {},
   "outputs": [
    {
     "name": "stdout",
     "output_type": "stream",
     "text": [
      "This is vehicle..\n"
     ]
    }
   ],
   "source": [
    "t1 = Truck()\n",
    "t1.info()"
   ]
  },
  {
   "cell_type": "code",
   "execution_count": null,
   "id": "9231e2ab",
   "metadata": {},
   "outputs": [
    {
     "name": "stdout",
     "output_type": "stream",
     "text": [
      "Truck info  Safari\n"
     ]
    }
   ],
   "source": [
    "t1.truck_info(\"Safari\")"
   ]
  },
  {
   "cell_type": "markdown",
   "id": "a78fcb86",
   "metadata": {},
   "source": [
    "### Hybrid Inheritence "
   ]
  },
  {
   "cell_type": "markdown",
   "id": "debaaca5",
   "metadata": {},
   "source": [
    "Multiple types or combination of different inheritence"
   ]
  },
  {
   "cell_type": "code",
   "execution_count": null,
   "id": "c686af60",
   "metadata": {},
   "outputs": [],
   "source": [
    "class Vehicle:\n",
    "    def vehicle_info(self):\n",
    "        print(\"Inside vehicle class\")\n",
    "    \n",
    "class Car(Vehicle):\n",
    "    def car_info(self):\n",
    "        print(\"Inside the car class\")\n",
    "\n",
    "class Truck(Vehicle):\n",
    "    def truck_info(self):\n",
    "        print(\"Inside Truck info \", name)\n",
    "\n",
    "class SportCar(Car, Vehicle):\n",
    "    def sports_info(self):\n",
    "        print(\"Inside sports car class\")"
   ]
  },
  {
   "cell_type": "code",
   "execution_count": null,
   "id": "f8c0d45d",
   "metadata": {},
   "outputs": [
    {
     "name": "stdout",
     "output_type": "stream",
     "text": [
      "Inside the car class\n"
     ]
    }
   ],
   "source": [
    "obj1 = SportCar()\n",
    "obj1.car_info()"
   ]
  },
  {
   "cell_type": "code",
   "execution_count": null,
   "id": "285a6c71",
   "metadata": {},
   "outputs": [
    {
     "name": "stdout",
     "output_type": "stream",
     "text": [
      "Inside sports car class\n"
     ]
    }
   ],
   "source": [
    "obj1.sports_info()"
   ]
  },
  {
   "cell_type": "code",
   "execution_count": null,
   "id": "4b9c0e18",
   "metadata": {},
   "outputs": [
    {
     "name": "stdout",
     "output_type": "stream",
     "text": [
      "Inside vehicle class\n"
     ]
    }
   ],
   "source": [
    "obj1.vehicle_info()"
   ]
  },
  {
   "cell_type": "markdown",
   "id": "c8ce7ac3",
   "metadata": {},
   "source": [
    "## Abstraction"
   ]
  },
  {
   "cell_type": "markdown",
   "id": "97b91afd",
   "metadata": {},
   "source": [
    "- To hide the complex implementation"
   ]
  },
  {
   "cell_type": "markdown",
   "id": "9c2bd7e0",
   "metadata": {},
   "source": [
    "- Hiding uneeded details and exposing the require one\n",
    "- An abstract class can not be instantiated, it means we can not make object of it.\n",
    "- It always be subclassed\n",
    "- Always may contain methods that are just declared and not implemented in the abstract class itself.\n",
    "- Subclass are responsible for implementing these abstract methods"
   ]
  },
  {
   "cell_type": "markdown",
   "id": "187f4fb3",
   "metadata": {},
   "source": [
    "- Example :\n",
    "- if you use an PW SKill website , do you see the backend code or just see the interface to attend the class"
   ]
  },
  {
   "cell_type": "markdown",
   "id": "6321268b",
   "metadata": {},
   "source": [
    "** Abstraction can be achieved using Abstract Class **"
   ]
  },
  {
   "cell_type": "code",
   "execution_count": null,
   "id": "ab5a199d",
   "metadata": {},
   "outputs": [],
   "source": [
    "import abc # collection of multiple function in a module"
   ]
  },
  {
   "cell_type": "code",
   "execution_count": null,
   "id": "9152477b",
   "metadata": {},
   "outputs": [],
   "source": [
    "# In any class in PW SKill (DS, frontend, Backend) The following three methods will be common\n",
    "class PwSkills:\n",
    "\n",
    "    @abc.abstractmethod\n",
    "    def student_details(self):\n",
    "        pass\n",
    "\n",
    "    @abc.abstractmethod\n",
    "    def student_assignment(self):\n",
    "        pass\n",
    "    \n",
    "    @abc.abstractmethod\n",
    "    def student_marks(self):\n",
    "        pass"
   ]
  },
  {
   "cell_type": "code",
   "execution_count": null,
   "id": "eb8f5c54",
   "metadata": {},
   "outputs": [],
   "source": [
    "class DataScience(PwSkills):\n",
    "    def student_details(self):\n",
    "        return \"Data Science course details\"\n",
    "    def student_marks(self):\n",
    "        return \"Give ds student marks\""
   ]
  },
  {
   "cell_type": "code",
   "execution_count": null,
   "id": "7ec1e648",
   "metadata": {},
   "outputs": [],
   "source": [
    "class WebDev(PwSkills):\n",
    "    def student_assignment(self):\n",
    "        return \"This will give Wev Dev student assignemnts\"\n",
    "    \n",
    "    def student_marks(self):\n",
    "        return \"Web Dev students marks\""
   ]
  },
  {
   "cell_type": "code",
   "execution_count": null,
   "id": "0a0849f8",
   "metadata": {},
   "outputs": [
    {
     "data": {
      "text/plain": [
       "'Data Science course details'"
      ]
     },
     "metadata": {},
     "output_type": "display_data"
    }
   ],
   "source": [
    "ds = DataScience()\n",
    "ds.student_details()"
   ]
  },
  {
   "cell_type": "code",
   "execution_count": null,
   "id": "f582e6f4",
   "metadata": {},
   "outputs": [
    {
     "data": {
      "text/plain": [
       "'Give ds student marks'"
      ]
     },
     "metadata": {},
     "output_type": "display_data"
    }
   ],
   "source": [
    "ds.student_marks()"
   ]
  },
  {
   "cell_type": "code",
   "execution_count": null,
   "id": "1fe9e402",
   "metadata": {},
   "outputs": [],
   "source": [
    "ds.student_assignment()"
   ]
  },
  {
   "cell_type": "code",
   "execution_count": null,
   "id": "ae494996",
   "metadata": {},
   "outputs": [
    {
     "data": {
      "text/plain": [
       "'This will give Wev Dev student assignemnts'"
      ]
     },
     "metadata": {},
     "output_type": "display_data"
    }
   ],
   "source": [
    "w = WebDev()\n",
    "w.student_assignment()"
   ]
  },
  {
   "cell_type": "code",
   "execution_count": null,
   "id": "47c19464",
   "metadata": {},
   "outputs": [],
   "source": [
    "class Python(PwSkills):\n",
    "    def student_assignment(self):\n",
    "        return super().student_assignment()\n"
   ]
  },
  {
   "cell_type": "code",
   "execution_count": null,
   "id": "79724b72",
   "metadata": {},
   "outputs": [],
   "source": [
    "a = Python()\n",
    "a.student_assignment()"
   ]
  },
  {
   "cell_type": "code",
   "execution_count": null,
   "id": "338ad2d6",
   "metadata": {},
   "outputs": [],
   "source": [
    "# use case\n",
    "\n",
    "class Shape:\n",
    "\n",
    "    @abc.abstractmethod\n",
    "    def calculate_area(self):\n",
    "        pass\n",
    "\n",
    "\n",
    "class Rectancgle(Shape):\n",
    "    def calculate_area(self):\n",
    "        return \"Area of rectangle is l * b \"\n",
    "class Circle(Shape):\n",
    "    def calculate_area(self):\n",
    "        return \"Area of circle is pi*r^2 \"\n"
   ]
  },
  {
   "cell_type": "code",
   "execution_count": null,
   "id": "4f954f57",
   "metadata": {},
   "outputs": [
    {
     "data": {
      "text/plain": [
       "'Area of rectangle is l * b '"
      ]
     },
     "metadata": {},
     "output_type": "display_data"
    }
   ],
   "source": [
    "rect = Rectancgle()\n",
    "rect.calculate_area()"
   ]
  },
  {
   "cell_type": "markdown",
   "id": "042e0a63",
   "metadata": {},
   "source": [
    "## Polymorphism"
   ]
  },
  {
   "cell_type": "markdown",
   "id": "6f7d1913",
   "metadata": {},
   "source": [
    "Poly means many and morphism means forms / states"
   ]
  },
  {
   "cell_type": "markdown",
   "id": "2c44ab29",
   "metadata": {},
   "source": [
    "It refers to an object taling several forms depending on methods / data"
   ]
  },
  {
   "cell_type": "code",
   "execution_count": null,
   "id": "87a8fbae",
   "metadata": {},
   "outputs": [
    {
     "data": {
      "text/plain": [
       "4"
      ]
     },
     "metadata": {},
     "output_type": "display_data"
    }
   ],
   "source": [
    "len(\"Momo\") # same len function is used with string"
   ]
  },
  {
   "cell_type": "code",
   "execution_count": null,
   "id": "0f4c1e5c",
   "metadata": {},
   "outputs": [
    {
     "data": {
      "text/plain": [
       "5"
      ]
     },
     "metadata": {},
     "output_type": "display_data"
    }
   ],
   "source": [
    "len([1, 2, 3, 4, 5])  # same len function is used with list"
   ]
  },
  {
   "cell_type": "code",
   "execution_count": null,
   "id": "bbba4475",
   "metadata": {},
   "outputs": [
    {
     "data": {
      "text/plain": [
       "2"
      ]
     },
     "metadata": {},
     "output_type": "display_data"
    }
   ],
   "source": [
    "len((1, 2))  # same len function is used with tuple"
   ]
  },
  {
   "cell_type": "code",
   "execution_count": null,
   "id": "daad6f72",
   "metadata": {},
   "outputs": [],
   "source": [
    "def func(a, b):\n",
    "    return a+b"
   ]
  },
  {
   "cell_type": "code",
   "execution_count": null,
   "id": "2bfc361b",
   "metadata": {},
   "outputs": [
    {
     "data": {
      "text/plain": [
       "5"
      ]
     },
     "metadata": {},
     "output_type": "display_data"
    }
   ],
   "source": [
    "func(2,3)  # same + is used to add two number"
   ]
  },
  {
   "cell_type": "code",
   "execution_count": null,
   "id": "e310a3cc",
   "metadata": {},
   "outputs": [
    {
     "data": {
      "text/plain": [
       "'Momo Chutney'"
      ]
     },
     "metadata": {},
     "output_type": "display_data"
    }
   ],
   "source": [
    "func(\"Momo \", \"Chutney\")   # same + is used to conncatenate two string"
   ]
  },
  {
   "cell_type": "code",
   "execution_count": null,
   "id": "1a484500",
   "metadata": {},
   "outputs": [
    {
     "data": {
      "text/plain": [
       "[1, 2, 3, 4, 5, 6]"
      ]
     },
     "metadata": {},
     "output_type": "display_data"
    }
   ],
   "source": [
    "func([1, 2, 3], [4, 5, 6])  # same + is used to combining two list"
   ]
  },
  {
   "cell_type": "code",
   "execution_count": null,
   "id": "8e417ce5",
   "metadata": {},
   "outputs": [],
   "source": [
    "# Observation << func is taking different forms wrt different data pass"
   ]
  },
  {
   "cell_type": "code",
   "execution_count": null,
   "id": "938b5788",
   "metadata": {},
   "outputs": [],
   "source": [
    "class Teacher_lecture:\n",
    "    def lec_info(self):\n",
    "        print(\"This is the 1st lecture of teacher.\")\n",
    "class Student_Lecture:\n",
    "    def lec_info(self):\n",
    "        print(\"This is student lecture .\")"
   ]
  },
  {
   "cell_type": "code",
   "execution_count": null,
   "id": "1aa3be78",
   "metadata": {},
   "outputs": [],
   "source": [
    "t1 = Teacher_lecture()\n",
    "s1 = Student_Lecture()\n",
    "class_obj = [t1, s1]"
   ]
  },
  {
   "cell_type": "code",
   "execution_count": null,
   "id": "dcba2d11",
   "metadata": {},
   "outputs": [],
   "source": [
    "def prag(class_obj):\n",
    "    for i in class_obj:\n",
    "        i.lec_info() \n",
    "    # at this point, lec_info is taking two forms wrt teacher and student lecture"
   ]
  },
  {
   "cell_type": "code",
   "execution_count": null,
   "id": "d9e3f441",
   "metadata": {},
   "outputs": [
    {
     "name": "stdout",
     "output_type": "stream",
     "text": [
      "This is the 1st lecture of teacher.\n",
      "This is student lecture .\n"
     ]
    }
   ],
   "source": [
    "prag(class_obj)"
   ]
  },
  {
   "cell_type": "markdown",
   "id": "10279697",
   "metadata": {},
   "source": [
    "- Polymorphism in OOPS takes places in two ways:\n",
    "1. Method overloading >> Python doesn't support true method overloading\n",
    "2. Method overriding"
   ]
  },
  {
   "cell_type": "markdown",
   "id": "aa3e4ee6",
   "metadata": {},
   "source": [
    "### Method Overloading"
   ]
  },
  {
   "cell_type": "code",
   "execution_count": null,
   "id": "9edc20b1",
   "metadata": {},
   "outputs": [],
   "source": [
    "class Student:\n",
    "    def student(self):\n",
    "        print(\"Welcome to PW skill\")\n",
    "    def student(self, name = \"\"):\n",
    "        print(\"Welcome to PW SKill class \", name)\n",
    "    def student(self, name = \"\", course = \"\"):\n",
    "        print(f\"Welcome {name} to the {course} course in PW skill.\")"
   ]
  },
  {
   "cell_type": "code",
   "execution_count": null,
   "id": "343ead2d",
   "metadata": {},
   "outputs": [],
   "source": [
    "stud = Student()"
   ]
  },
  {
   "cell_type": "code",
   "execution_count": null,
   "id": "82c01766",
   "metadata": {},
   "outputs": [
    {
     "name": "stdout",
     "output_type": "stream",
     "text": [
      "Welcome  to the  course in PW skill.\n"
     ]
    }
   ],
   "source": [
    "stud.student()"
   ]
  },
  {
   "cell_type": "code",
   "execution_count": null,
   "id": "552bd63e",
   "metadata": {},
   "outputs": [
    {
     "name": "stdout",
     "output_type": "stream",
     "text": [
      "Welcome Anne to the  course in PW skill.\n"
     ]
    }
   ],
   "source": [
    "stud.student(\"Anne\")"
   ]
  },
  {
   "cell_type": "code",
   "execution_count": null,
   "id": "21c0abaf",
   "metadata": {},
   "outputs": [
    {
     "name": "stdout",
     "output_type": "stream",
     "text": [
      "Welcome Mani to the Data Science course in PW skill.\n"
     ]
    }
   ],
   "source": [
    "stud.student(\"Mani\", \"Data Science\")"
   ]
  },
  {
   "cell_type": "code",
   "execution_count": null,
   "id": "385f94ef",
   "metadata": {},
   "outputs": [],
   "source": [
    "# Method Overloading >> Student method is taking different forms, the last methods overloads the previous ones in the same class\n",
    "class Student:\n",
    "    def student(self, name = \"\", course = \"\"):\n",
    "        print(f\"Welcome {name} to the {course} course in PW skill.\")"
   ]
  },
  {
   "cell_type": "code",
   "execution_count": null,
   "id": "87057964",
   "metadata": {},
   "outputs": [
    {
     "name": "stdout",
     "output_type": "stream",
     "text": [
      "Welcome  to the  course in PW skill.\n"
     ]
    }
   ],
   "source": [
    "s2 = Student()\n",
    "s2.student()"
   ]
  },
  {
   "cell_type": "code",
   "execution_count": null,
   "id": "685401fb",
   "metadata": {},
   "outputs": [
    {
     "name": "stdout",
     "output_type": "stream",
     "text": [
      "Welcome Mani to the  course in PW skill.\n"
     ]
    }
   ],
   "source": [
    "s2.student(\"Mani\")"
   ]
  },
  {
   "cell_type": "code",
   "execution_count": null,
   "id": "c3bbab2a",
   "metadata": {},
   "outputs": [
    {
     "name": "stdout",
     "output_type": "stream",
     "text": [
      "Welcome Mani to the Python course in PW skill.\n"
     ]
    }
   ],
   "source": [
    "s2.student(\"Mani\", \"Python\")"
   ]
  },
  {
   "cell_type": "markdown",
   "id": "efb89003",
   "metadata": {},
   "source": [
    "- Method overloading happens in the same class \n",
    "- Python doesnot support method overloading as it always call last methods"
   ]
  },
  {
   "cell_type": "markdown",
   "id": "fb774912",
   "metadata": {},
   "source": [
    "### Method Overriding"
   ]
  },
  {
   "cell_type": "markdown",
   "id": "fbfcad77",
   "metadata": {},
   "source": [
    "- Method in parent class and child class with same method (signature) and then child class method will be executed"
   ]
  },
  {
   "cell_type": "code",
   "execution_count": null,
   "id": "5ba3f856",
   "metadata": {},
   "outputs": [],
   "source": [
    "class Animal:\n",
    "    def sound(self):\n",
    "        print(\"Animal Sound \")\n",
    "class Cat(Animal):\n",
    "    def sound(self):\n",
    "        print(\"Cat : Meows\")"
   ]
  },
  {
   "cell_type": "code",
   "execution_count": null,
   "id": "309f6643",
   "metadata": {},
   "outputs": [
    {
     "name": "stdout",
     "output_type": "stream",
     "text": [
      "Animal Sound \n"
     ]
    }
   ],
   "source": [
    "anm = Animal()\n",
    "anm.sound()"
   ]
  },
  {
   "cell_type": "code",
   "execution_count": null,
   "id": "5a695a6a",
   "metadata": {},
   "outputs": [
    {
     "name": "stdout",
     "output_type": "stream",
     "text": [
      "Cat : Meows\n"
     ]
    }
   ],
   "source": [
    "cat = Cat()\n",
    "cat.sound()"
   ]
  },
  {
   "cell_type": "markdown",
   "id": "780bc731",
   "metadata": {},
   "source": [
    "## Encapsulation"
   ]
  },
  {
   "cell_type": "markdown",
   "id": "a4caf963",
   "metadata": {},
   "source": [
    "- Hiding something << To encapsulate something\n",
    "- Bundling of data and methods of a class"
   ]
  },
  {
   "cell_type": "markdown",
   "id": "4c869c4d",
   "metadata": {},
   "source": [
    "- access modifier >> 1. Public 2. protected 3. private"
   ]
  },
  {
   "cell_type": "markdown",
   "id": "8d6adaa7",
   "metadata": {},
   "source": [
    "- Public modifier << Accessible from everywhere << Outside or Inside from class"
   ]
  },
  {
   "cell_type": "code",
   "execution_count": null,
   "id": "e99b3c9c",
   "metadata": {},
   "outputs": [],
   "source": [
    "class Student:\n",
    "    def __init__(self, name, degree):\n",
    "        self.name = name\n",
    "        self.degree = degree"
   ]
  },
  {
   "cell_type": "code",
   "execution_count": null,
   "id": "2ff010b9",
   "metadata": {},
   "outputs": [],
   "source": [
    "std = Student(\"Anu\", \"BTech in CS\")"
   ]
  },
  {
   "cell_type": "code",
   "execution_count": null,
   "id": "4054a730",
   "metadata": {},
   "outputs": [
    {
     "data": {
      "text/plain": [
       "'BTech in CS'"
      ]
     },
     "metadata": {},
     "output_type": "display_data"
    }
   ],
   "source": [
    "std.degree"
   ]
  },
  {
   "cell_type": "code",
   "execution_count": null,
   "id": "ec4617c4",
   "metadata": {},
   "outputs": [
    {
     "data": {
      "text/plain": [
       "'Anu'"
      ]
     },
     "metadata": {},
     "output_type": "display_data"
    }
   ],
   "source": [
    "std.name"
   ]
  },
  {
   "cell_type": "code",
   "execution_count": null,
   "id": "1ba36fbb",
   "metadata": {},
   "outputs": [],
   "source": [
    "std1 = Student(\"Prag\", \"M.SC. in Maths\")"
   ]
  },
  {
   "cell_type": "code",
   "execution_count": null,
   "id": "8eaf9f56",
   "metadata": {},
   "outputs": [
    {
     "data": {
      "text/plain": [
       "'M.SC. in Maths'"
      ]
     },
     "metadata": {},
     "output_type": "display_data"
    }
   ],
   "source": [
    "std1.degree"
   ]
  },
  {
   "cell_type": "code",
   "execution_count": null,
   "id": "547e33b4",
   "metadata": {},
   "outputs": [
    {
     "data": {
      "text/plain": [
       "'Prag'"
      ]
     },
     "metadata": {},
     "output_type": "display_data"
    }
   ],
   "source": [
    "std1.name"
   ]
  },
  {
   "cell_type": "code",
   "execution_count": null,
   "id": "1dd21691",
   "metadata": {},
   "outputs": [],
   "source": [
    "std1.degree = \"Data Science\""
   ]
  },
  {
   "cell_type": "code",
   "execution_count": null,
   "id": "8b02ffda",
   "metadata": {},
   "outputs": [
    {
     "data": {
      "text/plain": [
       "'Data Science'"
      ]
     },
     "metadata": {},
     "output_type": "display_data"
    }
   ],
   "source": [
    "std1.degree"
   ]
  },
  {
   "cell_type": "markdown",
   "id": "0b447c4a",
   "metadata": {},
   "source": [
    "- Earlier in student data 1 degree is mentioned as M.Sc Maths but later it is changed to Data SCience because it is public data and can be accessed by everyone very easily"
   ]
  },
  {
   "cell_type": "markdown",
   "id": "9ff0c0c7",
   "metadata": {},
   "source": [
    "- Private >> The data and method is only accessible within its class.\n",
    "- Use __ to make private"
   ]
  },
  {
   "cell_type": "code",
   "execution_count": null,
   "id": "d56b825b",
   "metadata": {},
   "outputs": [],
   "source": [
    "# Accessing the public Data member inside the other method same class\n",
    "\n",
    "class Student:\n",
    "    def __init__(self, name, degree):\n",
    "        self.name = name\n",
    "        self.degree = degree\n",
    "    def show(self):\n",
    "        # accessing the private and public data member\n",
    "        print(f\"Name : {self.name} & Degree : {self.degree}\")\n",
    "\n"
   ]
  },
  {
   "cell_type": "code",
   "execution_count": null,
   "id": "4442d622",
   "metadata": {},
   "outputs": [],
   "source": [
    "a1 = Student(\"Anu\", \"B.Tech\")"
   ]
  },
  {
   "cell_type": "code",
   "execution_count": null,
   "id": "7cd70bcf",
   "metadata": {},
   "outputs": [
    {
     "name": "stdout",
     "output_type": "stream",
     "text": [
      "Name : Anu & Degree : B.Tech\n"
     ]
    }
   ],
   "source": [
    "a1.show()"
   ]
  },
  {
   "cell_type": "code",
   "execution_count": null,
   "id": "778b535b",
   "metadata": {},
   "outputs": [],
   "source": [
    "# Lets make name as public and degree as private\n",
    "class Student:\n",
    "    def __init__(self, name, degree):\n",
    "        self.name = name\n",
    "        self.__degree = degree  # to make it private\n",
    "    def show(self):\n",
    "        # accessing the private  data member\n",
    "        print(f\"Name : {self.name} & Degree : {self.__degree}\")"
   ]
  },
  {
   "cell_type": "code",
   "execution_count": null,
   "id": "04123e8f",
   "metadata": {},
   "outputs": [],
   "source": [
    "a2 = Student(\"Prag\", \"DS\")"
   ]
  },
  {
   "cell_type": "code",
   "execution_count": null,
   "id": "4707be21",
   "metadata": {},
   "outputs": [
    {
     "data": {
      "text/plain": [
       "'Prag'"
      ]
     },
     "metadata": {},
     "output_type": "display_data"
    }
   ],
   "source": [
    "a2.name"
   ]
  },
  {
   "cell_type": "code",
   "execution_count": null,
   "id": "e2b27cfa",
   "metadata": {},
   "outputs": [
    {
     "ename": "AttributeError",
     "evalue": "'Student' object has no attribute '__degree'",
     "output_type": "error",
     "traceback": [
      "\u001b[31m---------------------------------------------------------------------------\u001b[39m\n",
      "\n",
      "\u001b[31mAttributeError\u001b[39m                            Traceback (most recent call last)\n",
      "\n",
      "\u001b[36mCell\u001b[39m\u001b[36m \u001b[39m\u001b[32mIn[37]\u001b[39m\u001b[32m, line 1\u001b[39m\n",
      "\n",
      "\u001b[32m----> \u001b[39m\u001b[32m1\u001b[39m \u001b[43ma2\u001b[49m\u001b[43m.\u001b[49m\u001b[43m__degree\u001b[49m \u001b[38;5;66;03m# because now degree become private\u001b[39;00m\n",
      "\n",
      "\n",
      "\n",
      "\u001b[31mAttributeError\u001b[39m: 'Student' object has no attribute '__degree'"
     ]
    }
   ],
   "source": [
    "a2.__degree # because now degree become private"
   ]
  },
  {
   "cell_type": "code",
   "execution_count": null,
   "id": "07d7b2ce",
   "metadata": {},
   "outputs": [
    {
     "name": "stdout",
     "output_type": "stream",
     "text": [
      "Name : Prag & Degree : DS\n"
     ]
    }
   ],
   "source": [
    "a2.show()"
   ]
  },
  {
   "cell_type": "code",
   "execution_count": null,
   "id": "9a13cad5",
   "metadata": {},
   "outputs": [
    {
     "data": {
      "text/plain": [
       "'DS'"
      ]
     },
     "metadata": {},
     "output_type": "display_data"
    }
   ],
   "source": [
    "# In order to access private variable if you only know the class name\n",
    "a2._Student__degree"
   ]
  },
  {
   "cell_type": "code",
   "execution_count": null,
   "id": "9cc87507",
   "metadata": {},
   "outputs": [],
   "source": [
    "# method private\n",
    "class Student:\n",
    "    def __init__(self, name, degree):\n",
    "        self.name = name\n",
    "        self.__degree = degree  # to make it private\n",
    "    def show(self):\n",
    "        # accessing the private  data member\n",
    "        print(f\"Name : {self.name} & Degree : {self.__degree}\")\n",
    "    def __private(self):\n",
    "        print(\"Keep the password safe..\")"
   ]
  },
  {
   "cell_type": "code",
   "execution_count": null,
   "id": "2094477e",
   "metadata": {},
   "outputs": [],
   "source": [
    "st = Student(\"ABC\", \"XYZ\")"
   ]
  },
  {
   "cell_type": "code",
   "execution_count": null,
   "id": "33810689",
   "metadata": {},
   "outputs": [
    {
     "data": {
      "text/plain": [
       "'ABC'"
      ]
     },
     "metadata": {},
     "output_type": "display_data"
    }
   ],
   "source": [
    "st.name"
   ]
  },
  {
   "cell_type": "code",
   "execution_count": null,
   "id": "8fab2f9b",
   "metadata": {},
   "outputs": [
    {
     "name": "stdout",
     "output_type": "stream",
     "text": [
      "Name : ABC & Degree : XYZ\n"
     ]
    }
   ],
   "source": [
    "st.show()"
   ]
  },
  {
   "cell_type": "code",
   "execution_count": null,
   "id": "412272ab",
   "metadata": {},
   "outputs": [
    {
     "ename": "AttributeError",
     "evalue": "'Student' object has no attribute '__private'",
     "output_type": "error",
     "traceback": [
      "\u001b[31m---------------------------------------------------------------------------\u001b[39m\n",
      "\n",
      "\u001b[31mAttributeError\u001b[39m                            Traceback (most recent call last)\n",
      "\n",
      "\u001b[36mCell\u001b[39m\u001b[36m \u001b[39m\u001b[32mIn[49]\u001b[39m\u001b[32m, line 1\u001b[39m\n",
      "\n",
      "\u001b[32m----> \u001b[39m\u001b[32m1\u001b[39m \u001b[43mst\u001b[49m\u001b[43m.\u001b[49m\u001b[43m__private\u001b[49m() \u001b[38;5;66;03m# because this method is kept in private\u001b[39;00m\n",
      "\n",
      "\n",
      "\n",
      "\u001b[31mAttributeError\u001b[39m: 'Student' object has no attribute '__private'"
     ]
    }
   ],
   "source": [
    "st.__private() # because this method is kept in private"
   ]
  },
  {
   "cell_type": "code",
   "execution_count": null,
   "id": "ff4510e7",
   "metadata": {},
   "outputs": [
    {
     "name": "stdout",
     "output_type": "stream",
     "text": [
      "Keep the password safe..\n"
     ]
    }
   ],
   "source": [
    "st._Student__private() # Accessing private method using class name"
   ]
  },
  {
   "cell_type": "markdown",
   "id": "a59026f3",
   "metadata": {},
   "source": [
    "- Way to provide an option to see the private method >> A wrapper"
   ]
  },
  {
   "cell_type": "code",
   "execution_count": null,
   "id": "10a6137b",
   "metadata": {},
   "outputs": [],
   "source": [
    "class Student:\n",
    "    def __init__(self, name, degree):\n",
    "        self.name = name\n",
    "        self.__degree = degree  # to make it private\n",
    "    def show(self):\n",
    "        # accessing the private  data member\n",
    "        print(f\"Name : {self.name} & Degree : {self.__degree}\")\n",
    "    def __private(self):\n",
    "        print(\"Keep the password safe..\")\n",
    "    def access_private(self):\n",
    "        self.__private()"
   ]
  },
  {
   "cell_type": "code",
   "execution_count": null,
   "id": "c4474361",
   "metadata": {},
   "outputs": [
    {
     "name": "stdout",
     "output_type": "stream",
     "text": [
      "Keep the password safe..\n"
     ]
    }
   ],
   "source": [
    "obj1 = Student(\"Anne\", \"DS\")\n",
    "obj1.access_private()"
   ]
  },
  {
   "cell_type": "code",
   "execution_count": null,
   "id": "8bb3f304",
   "metadata": {},
   "outputs": [],
   "source": [
    "# Another usecase\n",
    "class Car:\n",
    "    def __init__(self, year, make, speed, model):\n",
    "        self.year = year\n",
    "        self.make = make\n",
    "        self.speed = speed\n",
    "        self.model = model\n"
   ]
  },
  {
   "cell_type": "code",
   "execution_count": null,
   "id": "5a2f3596",
   "metadata": {},
   "outputs": [],
   "source": [
    "c1 = Car(\"1995\", \"Maruti\", \"80\", \"Suzuki\")"
   ]
  },
  {
   "cell_type": "code",
   "execution_count": null,
   "id": "9772e9bd",
   "metadata": {},
   "outputs": [
    {
     "data": {
      "text/plain": [
       "'1995'"
      ]
     },
     "metadata": {},
     "output_type": "display_data"
    }
   ],
   "source": [
    "c1.year"
   ]
  },
  {
   "cell_type": "code",
   "execution_count": null,
   "id": "98c90efc",
   "metadata": {},
   "outputs": [],
   "source": [
    "class Car:\n",
    "    def __init__(self, year, make, speed, model):\n",
    "        self.__year = year  # making all private\n",
    "        self.__make = make\n",
    "        self.__speed = speed\n",
    "        self.__model = model"
   ]
  },
  {
   "cell_type": "code",
   "execution_count": null,
   "id": "742d5024",
   "metadata": {},
   "outputs": [],
   "source": [
    "c1 = Car(\"1995\", \"Maruti\", \"80\", \"Suzuki\")"
   ]
  },
  {
   "cell_type": "code",
   "execution_count": null,
   "id": "053a9f54",
   "metadata": {},
   "outputs": [
    {
     "ename": "AttributeError",
     "evalue": "'Car' object has no attribute '__year'",
     "output_type": "error",
     "traceback": [
      "\u001b[31m---------------------------------------------------------------------------\u001b[39m\n",
      "\n",
      "\u001b[31mAttributeError\u001b[39m                            Traceback (most recent call last)\n",
      "\n",
      "\u001b[36mCell\u001b[39m\u001b[36m \u001b[39m\u001b[32mIn[68]\u001b[39m\u001b[32m, line 1\u001b[39m\n",
      "\n",
      "\u001b[32m----> \u001b[39m\u001b[32m1\u001b[39m \u001b[43mc1\u001b[49m\u001b[43m.\u001b[49m\u001b[43m__year\u001b[49m\n",
      "\n",
      "\n",
      "\n",
      "\u001b[31mAttributeError\u001b[39m: 'Car' object has no attribute '__year'"
     ]
    }
   ],
   "source": [
    "c1.__year"
   ]
  },
  {
   "cell_type": "code",
   "execution_count": null,
   "id": "80902cc9",
   "metadata": {},
   "outputs": [],
   "source": [
    "class Car:\n",
    "    def __init__(self, year, make, speed, model):\n",
    "        self.__year = year  # making all private\n",
    "        self.__make = make\n",
    "        self.__speed = speed\n",
    "        self.__model = model\n",
    "    def set_speed(self, speed):\n",
    "        self.__speed = 0 if speed < 0 else speed\n",
    "    def get_speed(self):\n",
    "        return self.__speed"
   ]
  },
  {
   "cell_type": "code",
   "execution_count": null,
   "id": "641c10e6",
   "metadata": {},
   "outputs": [
    {
     "data": {
      "text/plain": [
       "'80'"
      ]
     },
     "metadata": {},
     "output_type": "display_data"
    }
   ],
   "source": [
    "c1 = Car(\"1995\", \"Maruti\", \"80\", \"Suzuki\")\n",
    "c1.get_speed()"
   ]
  },
  {
   "cell_type": "code",
   "execution_count": null,
   "id": "5b2f169e",
   "metadata": {},
   "outputs": [],
   "source": [
    "c1.set_speed(-1000) # here speed less than 0"
   ]
  },
  {
   "cell_type": "code",
   "execution_count": null,
   "id": "ef425bd9",
   "metadata": {},
   "outputs": [
    {
     "data": {
      "text/plain": [
       "0"
      ]
     },
     "metadata": {},
     "output_type": "display_data"
    }
   ],
   "source": [
    "c1.get_speed()"
   ]
  },
  {
   "cell_type": "code",
   "execution_count": null,
   "id": "8c8231d1",
   "metadata": {},
   "outputs": [],
   "source": [
    "# Use case\n",
    "class Bank:\n",
    "    def __init__(self, balance):\n",
    "        self.__balance = balance\n",
    "\n",
    "    def deposit(self, amount):\n",
    "        self.__balance = self.__balance + amount\n",
    "\n",
    "    def withdraw(self, amount):\n",
    "        if self.__balance >= amount:\n",
    "            self.__balance = self.__balance - amount\n",
    "            return True\n",
    "        else :\n",
    "            return False\n",
    "        \n",
    "    def get_balance(self):\n",
    "        return self.__balance\n"
   ]
  },
  {
   "cell_type": "code",
   "execution_count": null,
   "id": "c9676a58",
   "metadata": {},
   "outputs": [],
   "source": [
    "ac1 = Bank(1000)"
   ]
  },
  {
   "cell_type": "code",
   "execution_count": null,
   "id": "9f26dd84",
   "metadata": {},
   "outputs": [
    {
     "data": {
      "text/plain": [
       "1000"
      ]
     },
     "metadata": {},
     "output_type": "display_data"
    }
   ],
   "source": [
    "ac1.get_balance()"
   ]
  },
  {
   "cell_type": "code",
   "execution_count": null,
   "id": "f5aea8a2",
   "metadata": {},
   "outputs": [],
   "source": [
    "ac1.deposit(500)"
   ]
  },
  {
   "cell_type": "code",
   "execution_count": null,
   "id": "ecc016b4",
   "metadata": {},
   "outputs": [
    {
     "data": {
      "text/plain": [
       "1500"
      ]
     },
     "metadata": {},
     "output_type": "display_data"
    }
   ],
   "source": [
    "ac1.get_balance()"
   ]
  },
  {
   "cell_type": "code",
   "execution_count": null,
   "id": "4c422a0f",
   "metadata": {},
   "outputs": [
    {
     "data": {
      "text/plain": [
       "True"
      ]
     },
     "metadata": {},
     "output_type": "display_data"
    }
   ],
   "source": [
    "ac1.withdraw(800)"
   ]
  },
  {
   "cell_type": "code",
   "execution_count": null,
   "id": "7fdbc5a9",
   "metadata": {},
   "outputs": [
    {
     "data": {
      "text/plain": [
       "700"
      ]
     },
     "metadata": {},
     "output_type": "display_data"
    }
   ],
   "source": [
    "ac1.get_balance()"
   ]
  },
  {
   "cell_type": "code",
   "execution_count": null,
   "id": "a7eded3e",
   "metadata": {},
   "outputs": [
    {
     "data": {
      "text/plain": [
       "False"
      ]
     },
     "metadata": {},
     "output_type": "display_data"
    }
   ],
   "source": [
    "ac1.withdraw(900)"
   ]
  },
  {
   "cell_type": "markdown",
   "id": "d255a51b",
   "metadata": {},
   "source": [
    "### Protected method "
   ]
  },
  {
   "cell_type": "markdown",
   "id": "432458ea",
   "metadata": {},
   "source": [
    "- Protected member Can be accessed within the class and its subclass\n",
    "- can be used by _ (single underscore)"
   ]
  },
  {
   "cell_type": "code",
   "execution_count": null,
   "id": "bebc58a2",
   "metadata": {},
   "outputs": [],
   "source": [
    "class College:\n",
    "    def __init__(self):\n",
    "        self._college_name = \"PW Skill\"\n",
    "\n",
    "class Student(College):\n",
    "    def __init__(self, name):\n",
    "        self.name = name\n",
    "        College.__init__(self) # accessing variable of base class  << classname__int__(self)\n",
    "\n",
    "    def show(self):\n",
    "        print(\"Name\", self.name, \"College\", self._college_name) #deirectaly call the base class\n",
    "        "
   ]
  },
  {
   "cell_type": "code",
   "execution_count": null,
   "id": "7e9a7815",
   "metadata": {},
   "outputs": [],
   "source": [
    "stud = Student(\"Prag\")"
   ]
  },
  {
   "cell_type": "code",
   "execution_count": null,
   "id": "b8d4fe1a",
   "metadata": {},
   "outputs": [
    {
     "data": {
      "text/plain": [
       "'Prag'"
      ]
     },
     "metadata": {},
     "output_type": "display_data"
    }
   ],
   "source": [
    "stud.name"
   ]
  },
  {
   "cell_type": "code",
   "execution_count": null,
   "id": "1ed09b5d",
   "metadata": {},
   "outputs": [
    {
     "name": "stdout",
     "output_type": "stream",
     "text": [
      "Name Prag College PW Skill\n"
     ]
    }
   ],
   "source": [
    "stud.show()"
   ]
  },
  {
   "cell_type": "code",
   "execution_count": null,
   "id": "8077dfd0",
   "metadata": {},
   "outputs": [
    {
     "data": {
      "text/plain": [
       "'PW Skill'"
      ]
     },
     "metadata": {},
     "output_type": "display_data"
    }
   ],
   "source": [
    "coll = College()\n",
    "coll._college_name # accessing the protected variable"
   ]
  },
  {
   "cell_type": "markdown",
   "id": "62d5bace",
   "metadata": {},
   "source": [
    "- Another way to access the data of base class using Super Class"
   ]
  },
  {
   "cell_type": "code",
   "execution_count": null,
   "id": "a142a5d8",
   "metadata": {},
   "outputs": [],
   "source": [
    "class College:\n",
    "    def __init__(self):\n",
    "        self._college_name = \"PW Skill\"\n",
    "\n",
    "class Student(College):\n",
    "    def __init__(self, name):\n",
    "        self.name = name\n",
    "        super().__init__() # accessing variable of base class using Super class << super()__init__()\n",
    "\n",
    "    def show(self):\n",
    "        print(\"Name\", self.name, \"College\", self._college_name) #deirectaly call the base class\n"
   ]
  },
  {
   "cell_type": "code",
   "execution_count": null,
   "id": "97a97c31",
   "metadata": {},
   "outputs": [],
   "source": [
    "stud = Student(\"Prag\")"
   ]
  },
  {
   "cell_type": "code",
   "execution_count": null,
   "id": "3b3187b9",
   "metadata": {},
   "outputs": [
    {
     "name": "stdout",
     "output_type": "stream",
     "text": [
      "Name Prag College PW Skill\n"
     ]
    }
   ],
   "source": [
    "stud.show()"
   ]
  },
  {
   "cell_type": "markdown",
   "id": "5f845629",
   "metadata": {},
   "source": [
    "### Class and Static Method"
   ]
  },
  {
   "cell_type": "markdown",
   "id": "a1e99c48",
   "metadata": {},
   "source": [
    "*Class Method*"
   ]
  },
  {
   "cell_type": "markdown",
   "id": "123eb765",
   "metadata": {},
   "source": [
    "- Bound to the class (and not to particular instance of the class), access/ modify methods and attributes associated to the class across all the instances\n",
    "- Class method defined using classmethod decorator\n",
    "- instead of self, cls\n",
    "- Alternative  of init method to pass the data"
   ]
  },
  {
   "cell_type": "code",
   "execution_count": null,
   "id": "e78b6413",
   "metadata": {},
   "outputs": [],
   "source": [
    "class Student:\n",
    "    # constructor >> constructing class wiht initialization of variable\n",
    "    def __init__(self, name):\n",
    "        self.name = name"
   ]
  },
  {
   "cell_type": "code",
   "execution_count": null,
   "id": "6ff634ef",
   "metadata": {},
   "outputs": [],
   "source": [
    "obj = Student(\"Anu\")"
   ]
  },
  {
   "cell_type": "code",
   "execution_count": null,
   "id": "1c5a410c",
   "metadata": {},
   "outputs": [
    {
     "data": {
      "text/plain": [
       "'Anu'"
      ]
     },
     "metadata": {},
     "output_type": "display_data"
    }
   ],
   "source": [
    "obj.name"
   ]
  },
  {
   "cell_type": "code",
   "execution_count": null,
   "id": "e291f891",
   "metadata": {},
   "outputs": [],
   "source": [
    "class Student:\n",
    "    def __init__(self, name):\n",
    "        self.name = name # self means this variable/ method is refering to current instance of class\n",
    "    @classmethod #bounds to the class\n",
    "    def student_details(cls, name): # instead of self as first parameter, use cls >> refering to the class student details\n",
    "        return cls(name)"
   ]
  },
  {
   "cell_type": "markdown",
   "id": "83c0e15c",
   "metadata": {},
   "source": [
    "- *What is meaning that it is refering to the class?*\n",
    "- Earlier to access any methods/ attributes >> first make instances / object of class\n",
    "- Then we use object.attributes\n",
    "- But if it is class method you can directly access it"
   ]
  },
  {
   "cell_type": "code",
   "execution_count": null,
   "id": "f405f1a0",
   "metadata": {},
   "outputs": [],
   "source": [
    "obj1 = Student.student_details(\"Anu\")\n",
    "# since student details directly binds to class making any object"
   ]
  },
  {
   "cell_type": "code",
   "execution_count": null,
   "id": "75de3b6b",
   "metadata": {},
   "outputs": [
    {
     "data": {
      "text/plain": [
       "'Anu'"
      ]
     },
     "metadata": {},
     "output_type": "display_data"
    }
   ],
   "source": [
    "obj1.name"
   ]
  },
  {
   "cell_type": "markdown",
   "id": "6eb119b4",
   "metadata": {},
   "source": [
    "- seeing class method as alternative of init method\n",
    "- Actually class method is overloading the init method"
   ]
  },
  {
   "cell_type": "code",
   "execution_count": null,
   "id": "376c7a1d",
   "metadata": {},
   "outputs": [],
   "source": [
    "# How class method is overloading init method\n",
    "# Modifying the class method /  instance method\n",
    "class Student:\n",
    "    def __init__(self, name): # init method is instance method\n",
    "        self.name = name\n",
    "   \n",
    "    @classmethod\n",
    "    def student_details(cls, name1):\n",
    "        return cls(name1)"
   ]
  },
  {
   "cell_type": "code",
   "execution_count": null,
   "id": "7346b09d",
   "metadata": {},
   "outputs": [],
   "source": [
    "stud1 = Student.student_details(\"Anu\")"
   ]
  },
  {
   "cell_type": "code",
   "execution_count": null,
   "id": "fa28c50b",
   "metadata": {},
   "outputs": [
    {
     "data": {
      "text/plain": [
       "'Anu'"
      ]
     },
     "metadata": {},
     "output_type": "display_data"
    }
   ],
   "source": [
    "stud1.name # name inspite variable name1 << Basically overloading init method"
   ]
  },
  {
   "cell_type": "markdown",
   "id": "a0b4fa6d",
   "metadata": {},
   "source": [
    "- Class method can modify class state applicable to all the instances of the class"
   ]
  },
  {
   "cell_type": "code",
   "execution_count": null,
   "id": "97a64f01",
   "metadata": {},
   "outputs": [],
   "source": [
    "class Student:\n",
    "\n",
    "    total_students = 0 #class variable\n",
    "    def __init__(self, name): #instance method\n",
    "        self.name = name  # instance variable\n",
    "        Student.total_students = Student.total_students+1 # total student is class variable associated with all instances\n",
    "\n",
    "    @classmethod\n",
    "    def get_total_students(cls):\n",
    "        return cls.total_students"
   ]
  },
  {
   "cell_type": "code",
   "execution_count": null,
   "id": "c3769856",
   "metadata": {},
   "outputs": [
    {
     "data": {
      "text/plain": [
       "0"
      ]
     },
     "metadata": {},
     "output_type": "display_data"
    }
   ],
   "source": [
    "Student.total_students"
   ]
  },
  {
   "cell_type": "code",
   "execution_count": null,
   "id": "8c01c153",
   "metadata": {},
   "outputs": [],
   "source": [
    "std1 = Student(\"Anu\")\n",
    "std2 = Student(\"Prag\")"
   ]
  },
  {
   "cell_type": "code",
   "execution_count": null,
   "id": "5487d855",
   "metadata": {},
   "outputs": [
    {
     "data": {
      "text/plain": [
       "('Anu', 'Prag')"
      ]
     },
     "metadata": {},
     "output_type": "display_data"
    }
   ],
   "source": [
    "std1.name , std2.name"
   ]
  },
  {
   "cell_type": "code",
   "execution_count": null,
   "id": "68b49db9",
   "metadata": {},
   "outputs": [
    {
     "data": {
      "text/plain": [
       "2"
      ]
     },
     "metadata": {},
     "output_type": "display_data"
    }
   ],
   "source": [
    "Student.total_students"
   ]
  },
  {
   "cell_type": "code",
   "execution_count": null,
   "id": "50fa8047",
   "metadata": {},
   "outputs": [
    {
     "data": {
      "text/plain": [
       "2"
      ]
     },
     "metadata": {},
     "output_type": "display_data"
    }
   ],
   "source": [
    "Student.get_total_students()"
   ]
  },
  {
   "cell_type": "code",
   "execution_count": null,
   "id": "a5da86bb",
   "metadata": {},
   "outputs": [],
   "source": [
    "std3 = Student(\"Deep\")\n",
    "std4 = Student(\"Mahi\")"
   ]
  },
  {
   "cell_type": "code",
   "execution_count": null,
   "id": "9ae253b2",
   "metadata": {},
   "outputs": [
    {
     "data": {
      "text/plain": [
       "('Deep', 'Mahi')"
      ]
     },
     "metadata": {},
     "output_type": "display_data"
    }
   ],
   "source": [
    "std3.name , std4.name"
   ]
  },
  {
   "cell_type": "code",
   "execution_count": null,
   "id": "642b9d19",
   "metadata": {},
   "outputs": [
    {
     "data": {
      "text/plain": [
       "4"
      ]
     },
     "metadata": {},
     "output_type": "display_data"
    }
   ],
   "source": [
    "Student.total_students"
   ]
  },
  {
   "cell_type": "markdown",
   "id": "0cbf5237",
   "metadata": {},
   "source": [
    "- To make external function as class method"
   ]
  },
  {
   "cell_type": "code",
   "execution_count": null,
   "id": "792effef",
   "metadata": {},
   "outputs": [],
   "source": [
    "class Student:\n",
    "\n",
    "    total_students = 0 #class variable\n",
    "    def __init__(self, name): #instance method\n",
    "        self.name = name  # instance variable\n",
    "        Student.total_students = Student.total_students+1 # total student is class variable associated with all instances\n",
    "\n",
    "    @classmethod\n",
    "    def get_total_students(cls):\n",
    "        return cls.total_students"
   ]
  },
  {
   "cell_type": "code",
   "execution_count": null,
   "id": "6f176ea3",
   "metadata": {},
   "outputs": [],
   "source": [
    "def course_details(cls, course_name):\n",
    "    print(\"The details of the course are : \", course_name)"
   ]
  },
  {
   "cell_type": "code",
   "execution_count": null,
   "id": "a0866a5e",
   "metadata": {},
   "outputs": [],
   "source": [
    "Student.course_details =  classmethod(course_details) # adding external fnct as class method"
   ]
  },
  {
   "cell_type": "code",
   "execution_count": null,
   "id": "26de7c9d",
   "metadata": {},
   "outputs": [
    {
     "name": "stdout",
     "output_type": "stream",
     "text": [
      "The details of the course are :  Data Science\n"
     ]
    }
   ],
   "source": [
    "Student.course_details(\"Data Science\")"
   ]
  },
  {
   "cell_type": "markdown",
   "id": "ce86be14",
   "metadata": {},
   "source": [
    "- To delete any class method"
   ]
  },
  {
   "cell_type": "code",
   "execution_count": null,
   "id": "8612679f",
   "metadata": {},
   "outputs": [],
   "source": [
    "del Student.course_details"
   ]
  },
  {
   "cell_type": "code",
   "execution_count": null,
   "id": "654ae188",
   "metadata": {},
   "outputs": [
    {
     "ename": "AttributeError",
     "evalue": "type object 'Student' has no attribute 'course_details'",
     "output_type": "error",
     "traceback": [
      "\u001b[31m---------------------------------------------------------------------------\u001b[39m\n",
      "\n",
      "\u001b[31mAttributeError\u001b[39m                            Traceback (most recent call last)\n",
      "\n",
      "\u001b[36mCell\u001b[39m\u001b[36m \u001b[39m\u001b[32mIn[40]\u001b[39m\u001b[32m, line 1\u001b[39m\n",
      "\n",
      "\u001b[32m----> \u001b[39m\u001b[32m1\u001b[39m \u001b[43mStudent\u001b[49m\u001b[43m.\u001b[49m\u001b[43mcourse_details\u001b[49m(\u001b[33m\"\u001b[39m\u001b[33mData Science\u001b[39m\u001b[33m\"\u001b[39m) \u001b[38;5;66;03m# error as method is deleted\u001b[39;00m\n",
      "\n",
      "\n",
      "\n",
      "\u001b[31mAttributeError\u001b[39m: type object 'Student' has no attribute 'course_details'"
     ]
    }
   ],
   "source": [
    "Student.course_details(\"Data Science\") # error as method is deleted"
   ]
  },
  {
   "cell_type": "code",
   "execution_count": null,
   "id": "607f50c3",
   "metadata": {},
   "outputs": [
    {
     "data": {
      "text/plain": [
       "0"
      ]
     },
     "metadata": {},
     "output_type": "display_data"
    }
   ],
   "source": [
    "Student.get_total_students()"
   ]
  },
  {
   "cell_type": "markdown",
   "id": "d6f8cde7",
   "metadata": {},
   "source": [
    "- Another way to delete"
   ]
  },
  {
   "cell_type": "code",
   "execution_count": null,
   "id": "28847008",
   "metadata": {},
   "outputs": [],
   "source": [
    "delattr(Student, \"get_total_students\")"
   ]
  },
  {
   "cell_type": "code",
   "execution_count": null,
   "id": "c4b47f64",
   "metadata": {},
   "outputs": [
    {
     "ename": "AttributeError",
     "evalue": "type object 'Student' has no attribute 'get_total_students'",
     "output_type": "error",
     "traceback": [
      "\u001b[31m---------------------------------------------------------------------------\u001b[39m\n",
      "\n",
      "\u001b[31mAttributeError\u001b[39m                            Traceback (most recent call last)\n",
      "\n",
      "\u001b[36mCell\u001b[39m\u001b[36m \u001b[39m\u001b[32mIn[44]\u001b[39m\u001b[32m, line 1\u001b[39m\n",
      "\n",
      "\u001b[32m----> \u001b[39m\u001b[32m1\u001b[39m \u001b[43mStudent\u001b[49m\u001b[43m.\u001b[49m\u001b[43mget_total_students\u001b[49m() \u001b[38;5;66;03m# deleted attributes give an error\u001b[39;00m\n",
      "\n",
      "\n",
      "\n",
      "\u001b[31mAttributeError\u001b[39m: type object 'Student' has no attribute 'get_total_students'"
     ]
    }
   ],
   "source": [
    "Student.get_total_students() # deleted attributes give an error"
   ]
  },
  {
   "cell_type": "markdown",
   "id": "c8dfb5e1",
   "metadata": {},
   "source": [
    "*Static Method*"
   ]
  },
  {
   "cell_type": "markdown",
   "id": "c88dbeae",
   "metadata": {},
   "source": [
    "- Does not modify the class or instance state\n",
    "- Does not access instance or class state\n",
    "- Doesnot depend on class/ instance\n",
    "- It behaves like a plain function that belongs to class\n",
    "- It does not take either self or cls\n",
    "- @staticmethod is used\n",
    "- works with parameter pass"
   ]
  },
  {
   "cell_type": "code",
   "execution_count": null,
   "id": "1a3df921",
   "metadata": {},
   "outputs": [],
   "source": [
    "class Calculator:\n",
    "\n",
    "    @staticmethod\n",
    "    def add(x, y):\n",
    "        return x+y\n",
    "    @staticmethod\n",
    "    def sub(x, y):\n",
    "        return x-y"
   ]
  },
  {
   "cell_type": "code",
   "execution_count": null,
   "id": "704b6e4b",
   "metadata": {},
   "outputs": [
    {
     "data": {
      "text/plain": [
       "9"
      ]
     },
     "metadata": {},
     "output_type": "display_data"
    }
   ],
   "source": [
    "Calculator.add(5,4)"
   ]
  },
  {
   "cell_type": "code",
   "execution_count": null,
   "id": "fa4e71bc",
   "metadata": {},
   "outputs": [
    {
     "data": {
      "text/plain": [
       "5"
      ]
     },
     "metadata": {},
     "output_type": "display_data"
    }
   ],
   "source": [
    "Calculator.sub(9,4)"
   ]
  }
 ],
 "metadata": {
  "language_info": {
   "name": "python"
  }
 },
 "nbformat": 4,
 "nbformat_minor": 5
}
