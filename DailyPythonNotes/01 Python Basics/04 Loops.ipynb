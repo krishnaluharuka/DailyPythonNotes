{
 "cells": [
  {
   "cell_type": "markdown",
   "id": "7b2c213c",
   "metadata": {},
   "source": [
    "# Loops"
   ]
  },
  {
   "cell_type": "markdown",
   "id": "ebfa011e",
   "metadata": {},
   "source": [
    "A loop is a control structure that allows you to repeat a block of code multiple times.\n",
    "- It is fuel of repetition.\n",
    "- it is of two types.\n",
    "- 1. For Loop\n",
    "- 2. While loop"
   ]
  },
  {
   "cell_type": "markdown",
   "id": "4fe7b924",
   "metadata": {},
   "source": [
    "## For Loops"
   ]
  },
  {
   "cell_type": "markdown",
   "id": "31fdfa84",
   "metadata": {},
   "source": [
    "A for loop is used to iterate (repeat) over a sequence (like list, tuple, string, or range)\n",
    "It loops through each time one by one, and lets you run a block of code with it.\n"
   ]
  },
  {
   "cell_type": "code",
   "execution_count": 1,
   "id": "81dad743",
   "metadata": {},
   "outputs": [],
   "source": [
    "# Syntax\n",
    "# for variable in sequence :     # variable is a place holder like i, item, etc.\n",
    "      # code block"
   ]
  },
  {
   "cell_type": "code",
   "execution_count": 2,
   "id": "ce0659fb",
   "metadata": {},
   "outputs": [
    {
     "name": "stdout",
     "output_type": "stream",
     "text": [
      "Color is :  red\n",
      "Color is :  blue\n",
      "Color is :  purple\n"
     ]
    }
   ],
   "source": [
    "# Loop over a list\n",
    "colors=[\"red\",\"blue\",\"purple\"]\n",
    "for Color in colors:\n",
    "    print(\"Color is : \", Color)"
   ]
  },
  {
   "cell_type": "code",
   "execution_count": 3,
   "id": "12c5c1d9",
   "metadata": {},
   "outputs": [
    {
     "name": "stdout",
     "output_type": "stream",
     "text": [
      "0\n",
      "1\n",
      "2\n",
      "3\n",
      "4\n"
     ]
    }
   ],
   "source": [
    "# Loop using range function\n",
    "for i in range(5):\n",
    "    print(i)"
   ]
  },
  {
   "cell_type": "code",
   "execution_count": 4,
   "id": "0a41dda0",
   "metadata": {},
   "outputs": [
    {
     "name": "stdout",
     "output_type": "stream",
     "text": [
      "10\n",
      "20\n",
      "30\n",
      "40\n",
      "50\n",
      "60\n",
      "70\n",
      "80\n",
      "90\n"
     ]
    }
   ],
   "source": [
    "for m in range(10,100,10):\n",
    "    print(m)"
   ]
  },
  {
   "cell_type": "code",
   "execution_count": 5,
   "id": "25abb365",
   "metadata": {},
   "outputs": [
    {
     "name": "stdout",
     "output_type": "stream",
     "text": [
      "r\n",
      "a\n",
      "i\n",
      "n\n",
      "b\n",
      "o\n",
      "w\n"
     ]
    }
   ],
   "source": [
    "# Loops through strings\n",
    "word = \"rainbow\"\n",
    "for letter in word:\n",
    "    print(letter)"
   ]
  },
  {
   "cell_type": "code",
   "execution_count": 6,
   "id": "5361997f",
   "metadata": {},
   "outputs": [
    {
     "name": "stdout",
     "output_type": "stream",
     "text": [
      "name  ->  XYZ\n",
      "age  ->  20\n",
      "class  ->  12th\n",
      "subject  ->  Computer\n"
     ]
    }
   ],
   "source": [
    "# Loops through dictionary\n",
    "student={\"name\":\"XYZ\",\"age\":20,\"class\":\"12th\",\"subject\":\"Computer\"}\n",
    "for details in student:\n",
    "    print(details , \" -> \", student[details])"
   ]
  },
  {
   "cell_type": "code",
   "execution_count": 7,
   "id": "48e3ff6c",
   "metadata": {},
   "outputs": [
    {
     "name": "stdout",
     "output_type": "stream",
     "text": [
      "i=0,j=0\n",
      "i=0,j=1\n",
      "i=0,j=2\n",
      "i=1,j=0\n",
      "i=1,j=1\n",
      "i=1,j=2\n"
     ]
    }
   ],
   "source": [
    "# Nested for Loop\n",
    "for i in range(2):\n",
    "    for j in range(3):\n",
    "        print(f\"i={i},j={j}\")\n",
    "# for each value of i range(m), j range(n) will go through n value"
   ]
  },
  {
   "cell_type": "markdown",
   "id": "d13738db",
   "metadata": {},
   "source": [
    "## While loop"
   ]
  },
  {
   "cell_type": "markdown",
   "id": "2684e8a2",
   "metadata": {},
   "source": [
    "A while loop keeps running as long as a condition is True.\n",
    "- It is used for unknown repetition.\n",
    "- It is powerful, but dangerous"
   ]
  },
  {
   "cell_type": "code",
   "execution_count": 8,
   "id": "a3023ab2",
   "metadata": {},
   "outputs": [],
   "source": [
    "# syntax\n",
    "# while condition:\n",
    "    # block of code"
   ]
  },
  {
   "cell_type": "markdown",
   "id": "1ad8ba3b",
   "metadata": {},
   "source": [
    "How it works:\n",
    "- The condition is checked before every loop.\n",
    "- If its True, the block inside the loop runs.\n",
    "- If it's False, the loop stops (exits).\n",
    "- If the condition never becomes false, it creates an infinite loop ➿."
   ]
  },
  {
   "cell_type": "code",
   "execution_count": 9,
   "id": "4849d2e1",
   "metadata": {},
   "outputs": [
    {
     "name": "stdout",
     "output_type": "stream",
     "text": [
      "Count is :  1\n",
      "Count is :  2\n",
      "Count is :  3\n",
      "Count is :  4\n",
      "Count is :  5\n"
     ]
    }
   ],
   "source": [
    "# Example\n",
    "count =1\n",
    "while count <=5:\n",
    "    print(\"Count is : \",count)\n",
    "    count+=1 # to increase the count"
   ]
  },
  {
   "cell_type": "code",
   "execution_count": 10,
   "id": "bf892e06",
   "metadata": {},
   "outputs": [
    {
     "name": "stdout",
     "output_type": "stream",
     "text": [
      "1\n",
      "2\n",
      "3\n",
      "4\n",
      "5\n",
      "6\n"
     ]
    }
   ],
   "source": [
    "n=7\n",
    "i=1\n",
    "while i<n:\n",
    "    print(i)\n",
    "    i+=1"
   ]
  },
  {
   "cell_type": "code",
   "execution_count": 11,
   "id": "9e3e4155",
   "metadata": {},
   "outputs": [
    {
     "name": "stdout",
     "output_type": "stream",
     "text": [
      "Count is :  10\n",
      "Count is :  9\n",
      "Count is :  8\n",
      "Count is :  7\n",
      "Count is :  6\n",
      "Count is :  5\n",
      "Count is :  4\n",
      "Count is :  3\n",
      "Count is :  2\n",
      "Count is :  1\n"
     ]
    }
   ],
   "source": [
    "count=10\n",
    "while count>0:\n",
    "    print(\"Count is : \",count)\n",
    "    count-=1"
   ]
  },
  {
   "cell_type": "markdown",
   "id": "9120fdc4",
   "metadata": {},
   "source": [
    "## Loop Control Statements"
   ]
  },
  {
   "cell_type": "markdown",
   "id": "cad96afa",
   "metadata": {},
   "source": [
    "Loop control statements change the flow of loops by\n",
    "- stopping them\n",
    "- skipping them\n",
    "- acting as a placeholder"
   ]
  },
  {
   "cell_type": "markdown",
   "id": "b08c600f",
   "metadata": {},
   "source": [
    "These are like the traffic signs : when to stop , when to skip , when to chill.\n",
    "- 1. break statements\n",
    "- 2. continue statements\n",
    "- 3. pass statements"
   ]
  },
  {
   "cell_type": "markdown",
   "id": "e8269753",
   "metadata": {},
   "source": [
    "### Break statements"
   ]
  },
  {
   "cell_type": "markdown",
   "id": "cdaa4081",
   "metadata": {},
   "source": [
    "It is used to exit the loop immediately, no matter what the condition is."
   ]
  },
  {
   "cell_type": "code",
   "execution_count": 12,
   "id": "b7b50d41",
   "metadata": {},
   "outputs": [
    {
     "name": "stdout",
     "output_type": "stream",
     "text": [
      "0\n",
      "1\n",
      "2\n",
      "3\n",
      "4\n"
     ]
    }
   ],
   "source": [
    "# Syntax\n",
    "for i in range(10): # loop runs from 0 to 9\n",
    "    if i==5: # when i==5, break, loop ends\n",
    "        break\n",
    "    print(i)"
   ]
  },
  {
   "cell_type": "code",
   "execution_count": 13,
   "id": "704085fe",
   "metadata": {},
   "outputs": [
    {
     "name": "stdout",
     "output_type": "stream",
     "text": [
      "1\n",
      "Done\n",
      "2\n",
      "Done\n",
      "3\n",
      "Done\n",
      "4\n"
     ]
    }
   ],
   "source": [
    "n=7\n",
    "i=1\n",
    "while i<n:\n",
    "    print(i)\n",
    "    i+=1\n",
    "    if i==5:\n",
    "        break\n",
    "    else:\n",
    "        print(\"Done\")"
   ]
  },
  {
   "cell_type": "markdown",
   "id": "9fe74cee",
   "metadata": {},
   "source": [
    "### Continue Statement"
   ]
  },
  {
   "cell_type": "markdown",
   "id": "03400cdd",
   "metadata": {},
   "source": [
    "It is used to skip the current iteration, and move on to the next one.\n",
    "- \"**Skip the One, Next Please**\""
   ]
  },
  {
   "cell_type": "code",
   "execution_count": 14,
   "id": "e159655d",
   "metadata": {},
   "outputs": [
    {
     "name": "stdout",
     "output_type": "stream",
     "text": [
      "0\n",
      "1\n",
      "3\n",
      "4\n"
     ]
    }
   ],
   "source": [
    "for i in range(5):\n",
    "    if i==2: #when i==2, it will skip and then continue\n",
    "        continue\n",
    "    print(i)"
   ]
  },
  {
   "cell_type": "code",
   "execution_count": 15,
   "id": "0ec8e9b2",
   "metadata": {},
   "outputs": [
    {
     "name": "stdout",
     "output_type": "stream",
     "text": [
      "1\n",
      "2\n",
      "3\n",
      "4\n",
      "6\n",
      "7\n"
     ]
    }
   ],
   "source": [
    "n=7\n",
    "i=0\n",
    "while i<n:\n",
    "    i+=1\n",
    "    if i==5:\n",
    "        continue\n",
    "    print(i)\n"
   ]
  },
  {
   "cell_type": "markdown",
   "id": "36cf1d2f",
   "metadata": {},
   "source": [
    "### Pass Statement"
   ]
  },
  {
   "cell_type": "markdown",
   "id": "27c85401",
   "metadata": {},
   "source": [
    "Used as a placeholder, When we need some code later, but not now.\n",
    "- \"***Do nothing, Just Pass***\""
   ]
  },
  {
   "cell_type": "code",
   "execution_count": 16,
   "id": "45d5ddc3",
   "metadata": {},
   "outputs": [],
   "source": [
    "for i in range(5):\n",
    "    pass # do nothing"
   ]
  },
  {
   "cell_type": "code",
   "execution_count": 17,
   "id": "d7f1c6d9",
   "metadata": {},
   "outputs": [
    {
     "name": "stdout",
     "output_type": "stream",
     "text": [
      "0\n",
      "1\n",
      "3\n",
      "4\n"
     ]
    }
   ],
   "source": [
    "# using break, continue, pass\n",
    "for i in range(7):\n",
    "    if i==2:\n",
    "        continue #skip at 2\n",
    "    elif i==5:\n",
    "        break # end the loop at 5\n",
    "    elif i == 3:\n",
    "        pass # do nothing\n",
    "    print(i)"
   ]
  },
  {
   "cell_type": "markdown",
   "id": "a0c41fd5",
   "metadata": {},
   "source": [
    "## Examples & Projects"
   ]
  },
  {
   "cell_type": "code",
   "execution_count": 18,
   "id": "7e32c1ed",
   "metadata": {},
   "outputs": [
    {
     "name": "stdout",
     "output_type": "stream",
     "text": [
      "1\n",
      "1.2\n",
      "True\n",
      "Prag\n"
     ]
    }
   ],
   "source": [
    "l=[1,1.2,True,\"Prag\"]\n",
    "for i in l:\n",
    "    print(i)"
   ]
  },
  {
   "cell_type": "code",
   "execution_count": 19,
   "id": "64165009",
   "metadata": {},
   "outputs": [
    {
     "name": "stdout",
     "output_type": "stream",
     "text": [
      "1\n",
      "1.2\n",
      "True\n",
      "Prag\n",
      "Executed\n"
     ]
    }
   ],
   "source": [
    "for i in l:\n",
    "    print(i)\n",
    "else:\n",
    "    print(\"Executed\")"
   ]
  },
  {
   "cell_type": "code",
   "execution_count": 20,
   "id": "7fa9e983",
   "metadata": {},
   "outputs": [
    {
     "name": "stdout",
     "output_type": "stream",
     "text": [
      "1\n",
      "1.2\n",
      "True\n"
     ]
    }
   ],
   "source": [
    "for i in l:\n",
    "    if i==\"Prag\":\n",
    "        break\n",
    "    print(i)"
   ]
  },
  {
   "cell_type": "code",
   "execution_count": 21,
   "id": "5c0a3851",
   "metadata": {},
   "outputs": [
    {
     "name": "stdout",
     "output_type": "stream",
     "text": [
      "0  1  2  3  4  5  6  7  8  9  "
     ]
    }
   ],
   "source": [
    "for i in range(10):\n",
    "    print(i,end=\"  \")"
   ]
  },
  {
   "cell_type": "code",
   "execution_count": 22,
   "id": "1816b673",
   "metadata": {},
   "outputs": [
    {
     "data": {
      "text/plain": [
       "[0, 4, 8, 12, 16]"
      ]
     },
     "execution_count": 22,
     "metadata": {},
     "output_type": "execute_result"
    }
   ],
   "source": [
    "list(range(0,20,4))"
   ]
  },
  {
   "cell_type": "markdown",
   "id": "ee777df6",
   "metadata": {},
   "source": [
    "### For loop examples"
   ]
  },
  {
   "cell_type": "markdown",
   "id": "7d76658a",
   "metadata": {},
   "source": [
    "Sum of N natural number"
   ]
  },
  {
   "cell_type": "code",
   "execution_count": 23,
   "id": "c4cd7cbe",
   "metadata": {},
   "outputs": [
    {
     "name": "stdout",
     "output_type": "stream",
     "text": [
      "Sum :  6\n"
     ]
    }
   ],
   "source": [
    "num=int(input(\"Enter the natural number : \"))\n",
    "Sum=0\n",
    "for i in range(1,num+1):\n",
    "    Sum+=i\n",
    "print(\"Sum : \",Sum)"
   ]
  },
  {
   "cell_type": "markdown",
   "id": "44935763",
   "metadata": {},
   "source": [
    "Sum of even number only"
   ]
  },
  {
   "cell_type": "code",
   "execution_count": 24,
   "id": "0d2fcd36",
   "metadata": {},
   "outputs": [
    {
     "name": "stdout",
     "output_type": "stream",
     "text": [
      "12\n"
     ]
    }
   ],
   "source": [
    "# It print the sum of even number between 0 to n (n=20)\n",
    "num=int(input(\"Sum of even number from 0 to n, n : \"))\n",
    "Sum=0\n",
    "for i in range(2,num+1,2):\n",
    "    Sum+=i\n",
    "print(Sum)"
   ]
  },
  {
   "cell_type": "markdown",
   "id": "cd4e4495",
   "metadata": {},
   "source": [
    "Printing star triangle"
   ]
  },
  {
   "cell_type": "code",
   "execution_count": 25,
   "id": "eb57825f",
   "metadata": {},
   "outputs": [
    {
     "name": "stdout",
     "output_type": "stream",
     "text": [
      "* \n",
      "* * \n",
      "* * * \n",
      "* * * * \n"
     ]
    }
   ],
   "source": [
    "# using while loop\n",
    "row=1\n",
    "while row <=4:\n",
    "    col=1\n",
    "    while col<=row:\n",
    "        print(\"*\", end=\" \")\n",
    "        col=col+1\n",
    "    print()\n",
    "    row=row+1"
   ]
  },
  {
   "cell_type": "code",
   "execution_count": 26,
   "id": "a452f537",
   "metadata": {},
   "outputs": [
    {
     "name": "stdout",
     "output_type": "stream",
     "text": [
      "* \n",
      "* * \n",
      "* * * \n",
      "* * * * \n",
      "* * * * * \n",
      "* * * * * * \n",
      "* * * * * * * \n",
      "* * * * * * * * \n",
      "* * * * * * * * * \n",
      "* * * * * * * * * * \n"
     ]
    }
   ],
   "source": [
    "# using for loop\n",
    "for i in range(10):\n",
    "    for j in range(i+1):\n",
    "        print(\"*\",end=\" \")\n",
    "    print()"
   ]
  }
 ],
 "metadata": {
  "kernelspec": {
   "display_name": "Python 3",
   "language": "python",
   "name": "python3"
  },
  "language_info": {
   "codemirror_mode": {
    "name": "ipython",
    "version": 3
   },
   "file_extension": ".py",
   "mimetype": "text/x-python",
   "name": "python",
   "nbconvert_exporter": "python",
   "pygments_lexer": "ipython3",
   "version": "3.11.9"
  }
 },
 "nbformat": 4,
 "nbformat_minor": 5
}
