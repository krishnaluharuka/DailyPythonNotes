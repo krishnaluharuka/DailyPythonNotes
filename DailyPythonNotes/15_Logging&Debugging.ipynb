{
 "cells": [
  {
   "cell_type": "markdown",
   "id": "5a90f3f6",
   "metadata": {},
   "source": [
    "# Debugging"
   ]
  },
  {
   "cell_type": "markdown",
   "id": "f07154c6",
   "metadata": {},
   "source": [
    "- Process of identifying and fixing bugs (issues) in the code."
   ]
  },
  {
   "cell_type": "markdown",
   "id": "ebfccea5",
   "metadata": {},
   "source": [
    "## How to debug?\n",
    "- Debugging involves \n",
    "1. Breaking the code (checkpoints) >> Stop the executions at any point\n",
    "2. Executing the code\n",
    "3. Inspecting the variablbes using print statements."
   ]
  },
  {
   "cell_type": "markdown",
   "id": "96fe5f54",
   "metadata": {},
   "source": [
    "Generally use, when we have large and complex code of 100s of line and we have to identify from where the error is coming, at that instances we debug the code"
   ]
  },
  {
   "cell_type": "code",
   "execution_count": 1,
   "id": "102b2a3b",
   "metadata": {},
   "outputs": [],
   "source": [
    "def divide(a, b):\n",
    "    return a/b"
   ]
  },
  {
   "cell_type": "code",
   "execution_count": 2,
   "id": "df294fe2",
   "metadata": {},
   "outputs": [
    {
     "data": {
      "text/plain": [
       "5.0"
      ]
     },
     "execution_count": 2,
     "metadata": {},
     "output_type": "execute_result"
    }
   ],
   "source": [
    "divide(10,2)"
   ]
  },
  {
   "cell_type": "code",
   "execution_count": 3,
   "id": "cf5af594",
   "metadata": {},
   "outputs": [
    {
     "data": {
      "text/plain": [
       "4.0"
      ]
     },
     "execution_count": 3,
     "metadata": {},
     "output_type": "execute_result"
    }
   ],
   "source": [
    "divide(12,3)"
   ]
  },
  {
   "cell_type": "code",
   "execution_count": 4,
   "id": "622d450d",
   "metadata": {},
   "outputs": [
    {
     "ename": "ZeroDivisionError",
     "evalue": "division by zero",
     "output_type": "error",
     "traceback": [
      "\u001b[1;31m---------------------------------------------------------------------------\u001b[0m",
      "\u001b[1;31mZeroDivisionError\u001b[0m                         Traceback (most recent call last)",
      "Cell \u001b[1;32mIn[4], line 1\u001b[0m\n\u001b[1;32m----> 1\u001b[0m divide(\u001b[38;5;241m10\u001b[39m\u001b[38;5;241m/\u001b[39m\u001b[38;5;241m0\u001b[39m)\n",
      "\u001b[1;31mZeroDivisionError\u001b[0m: division by zero"
     ]
    }
   ],
   "source": [
    "divide(10/0)"
   ]
  },
  {
   "cell_type": "code",
   "execution_count": 5,
   "id": "cfbdc800",
   "metadata": {},
   "outputs": [
    {
     "name": "stdout",
     "output_type": "stream",
     "text": [
      "-1 0\n",
      "0 1\n",
      "1 2\n",
      "2 3\n",
      "3 4\n",
      "4 5\n",
      "5 6\n",
      "6 7\n",
      "7 8\n",
      "8 9\n",
      "9 10\n"
     ]
    }
   ],
   "source": [
    "for i in range(-1, 10):\n",
    "    print(i, i+1)"
   ]
  },
  {
   "cell_type": "code",
   "execution_count": 7,
   "id": "b03ece87",
   "metadata": {},
   "outputs": [
    {
     "ename": "ZeroDivisionError",
     "evalue": "division by zero",
     "output_type": "error",
     "traceback": [
      "\u001b[1;31m---------------------------------------------------------------------------\u001b[0m",
      "\u001b[1;31mZeroDivisionError\u001b[0m                         Traceback (most recent call last)",
      "Cell \u001b[1;32mIn[7], line 2\u001b[0m\n\u001b[0;32m      1\u001b[0m \u001b[38;5;28;01mfor\u001b[39;00m i \u001b[38;5;129;01min\u001b[39;00m \u001b[38;5;28mrange\u001b[39m(\u001b[38;5;241m-\u001b[39m\u001b[38;5;241m10\u001b[39m, \u001b[38;5;241m10\u001b[39m):  \u001b[38;5;66;03m# not able to find where the exact error is happening\u001b[39;00m\n\u001b[1;32m----> 2\u001b[0m     divide(i, i\u001b[38;5;241m+\u001b[39m\u001b[38;5;241m1\u001b[39m)\n",
      "Cell \u001b[1;32mIn[1], line 2\u001b[0m, in \u001b[0;36mdivide\u001b[1;34m(a, b)\u001b[0m\n\u001b[0;32m      1\u001b[0m \u001b[38;5;28;01mdef\u001b[39;00m\u001b[38;5;250m \u001b[39m\u001b[38;5;21mdivide\u001b[39m(a, b):\n\u001b[1;32m----> 2\u001b[0m     \u001b[38;5;28;01mreturn\u001b[39;00m a\u001b[38;5;241m/\u001b[39mb\n",
      "\u001b[1;31mZeroDivisionError\u001b[0m: division by zero"
     ]
    }
   ],
   "source": [
    "for i in range(-10, 10):  # not able to find where the exact error is happening\n",
    "    divide(i, i+1)"
   ]
  },
  {
   "cell_type": "markdown",
   "id": "22441111",
   "metadata": {},
   "source": [
    "- We debug the code for what parameter of a and b throw an error >>>> which value of a and b throw an error."
   ]
  },
  {
   "cell_type": "code",
   "execution_count": 13,
   "id": "74ed9732",
   "metadata": {},
   "outputs": [
    {
     "ename": "ZeroDivisionError",
     "evalue": "division by zero",
     "output_type": "error",
     "traceback": [
      "\u001b[1;31m---------------------------------------------------------------------------\u001b[0m",
      "\u001b[1;31mZeroDivisionError\u001b[0m                         Traceback (most recent call last)",
      "Cell \u001b[1;32mIn[13], line 5\u001b[0m\n\u001b[0;32m      2\u001b[0m     \u001b[38;5;28;01mreturn\u001b[39;00m a\u001b[38;5;241m/\u001b[39mb\n\u001b[0;32m      4\u001b[0m \u001b[38;5;28;01mfor\u001b[39;00m i \u001b[38;5;129;01min\u001b[39;00m \u001b[38;5;28mrange\u001b[39m(\u001b[38;5;241m-\u001b[39m\u001b[38;5;241m10\u001b[39m,\u001b[38;5;241m10\u001b[39m):\n\u001b[1;32m----> 5\u001b[0m     divide(i, i\u001b[38;5;241m+\u001b[39m\u001b[38;5;241m1\u001b[39m)\n",
      "Cell \u001b[1;32mIn[13], line 2\u001b[0m, in \u001b[0;36mdivide\u001b[1;34m(a, b)\u001b[0m\n\u001b[0;32m      1\u001b[0m \u001b[38;5;28;01mdef\u001b[39;00m\u001b[38;5;250m \u001b[39m\u001b[38;5;21mdivide\u001b[39m(a,b):\n\u001b[1;32m----> 2\u001b[0m     \u001b[38;5;28;01mreturn\u001b[39;00m a\u001b[38;5;241m/\u001b[39mb\n",
      "\u001b[1;31mZeroDivisionError\u001b[0m: division by zero"
     ]
    }
   ],
   "source": [
    "def divide(a,b):\n",
    "    return a/b\n",
    "\n",
    "for i in range(-10,10):\n",
    "    divide(i, i+1)\n",
    "\n",
    "# Breaking the code in terms of logic >> Here we understand that there are two steps involve.\n",
    "# First one is loop and second divide function in loop.\n",
    "# Now execute the code"
   ]
  },
  {
   "cell_type": "code",
   "execution_count": 14,
   "id": "7068b36f",
   "metadata": {},
   "outputs": [
    {
     "name": "stdout",
     "output_type": "stream",
     "text": [
      "-10 -9\n",
      "-9 -8\n",
      "-8 -7\n",
      "-7 -6\n",
      "-6 -5\n",
      "-5 -4\n",
      "-4 -3\n",
      "-3 -2\n",
      "-2 -1\n",
      "-1 0\n"
     ]
    },
    {
     "ename": "ZeroDivisionError",
     "evalue": "division by zero",
     "output_type": "error",
     "traceback": [
      "\u001b[1;31m---------------------------------------------------------------------------\u001b[0m",
      "\u001b[1;31mZeroDivisionError\u001b[0m                         Traceback (most recent call last)",
      "Cell \u001b[1;32mIn[14], line 7\u001b[0m\n\u001b[0;32m      5\u001b[0m \u001b[38;5;28;01mfor\u001b[39;00m i \u001b[38;5;129;01min\u001b[39;00m \u001b[38;5;28mrange\u001b[39m(\u001b[38;5;241m-\u001b[39m\u001b[38;5;241m10\u001b[39m,\u001b[38;5;241m10\u001b[39m):\n\u001b[0;32m      6\u001b[0m     \u001b[38;5;28mprint\u001b[39m(i, i\u001b[38;5;241m+\u001b[39m\u001b[38;5;241m1\u001b[39m) \u001b[38;5;66;03m# using print statement here  we can get at which parameter of a and b the error occured\u001b[39;00m\n\u001b[1;32m----> 7\u001b[0m     divide(i, i\u001b[38;5;241m+\u001b[39m\u001b[38;5;241m1\u001b[39m)\n",
      "Cell \u001b[1;32mIn[14], line 3\u001b[0m, in \u001b[0;36mdivide\u001b[1;34m(a, b)\u001b[0m\n\u001b[0;32m      2\u001b[0m \u001b[38;5;28;01mdef\u001b[39;00m\u001b[38;5;250m \u001b[39m\u001b[38;5;21mdivide\u001b[39m(a,b):\n\u001b[1;32m----> 3\u001b[0m     \u001b[38;5;28;01mreturn\u001b[39;00m a\u001b[38;5;241m/\u001b[39mb\n",
      "\u001b[1;31mZeroDivisionError\u001b[0m: division by zero"
     ]
    }
   ],
   "source": [
    "# Using print statement to debug\n",
    "def divide(a,b):\n",
    "    return a/b\n",
    "\n",
    "for i in range(-10,10):\n",
    "    print(i, i+1) # using print statement here  we can get at which parameter of a and b the error occured\n",
    "    divide(i, i+1)"
   ]
  },
  {
   "cell_type": "code",
   "execution_count": 15,
   "id": "8e27c59e",
   "metadata": {},
   "outputs": [
    {
     "name": "stdout",
     "output_type": "stream",
     "text": [
      "-10 -9\n",
      "-10 -9\n",
      "-9 -8\n",
      "-9 -8\n",
      "-8 -7\n",
      "-8 -7\n",
      "-7 -6\n",
      "-7 -6\n",
      "-6 -5\n",
      "-6 -5\n",
      "-5 -4\n",
      "-5 -4\n",
      "-4 -3\n",
      "-4 -3\n",
      "-3 -2\n",
      "-3 -2\n",
      "-2 -1\n",
      "-2 -1\n",
      "-1 0\n",
      "-1 0\n"
     ]
    },
    {
     "ename": "ZeroDivisionError",
     "evalue": "division by zero",
     "output_type": "error",
     "traceback": [
      "\u001b[1;31m---------------------------------------------------------------------------\u001b[0m",
      "\u001b[1;31mZeroDivisionError\u001b[0m                         Traceback (most recent call last)",
      "Cell \u001b[1;32mIn[15], line 8\u001b[0m\n\u001b[0;32m      6\u001b[0m \u001b[38;5;28;01mfor\u001b[39;00m i \u001b[38;5;129;01min\u001b[39;00m \u001b[38;5;28mrange\u001b[39m(\u001b[38;5;241m-\u001b[39m\u001b[38;5;241m10\u001b[39m,\u001b[38;5;241m10\u001b[39m):\n\u001b[0;32m      7\u001b[0m     \u001b[38;5;28mprint\u001b[39m(i, i\u001b[38;5;241m+\u001b[39m\u001b[38;5;241m1\u001b[39m) \n\u001b[1;32m----> 8\u001b[0m     divide(i, i\u001b[38;5;241m+\u001b[39m\u001b[38;5;241m1\u001b[39m)\n",
      "Cell \u001b[1;32mIn[15], line 4\u001b[0m, in \u001b[0;36mdivide\u001b[1;34m(a, b)\u001b[0m\n\u001b[0;32m      2\u001b[0m \u001b[38;5;28;01mdef\u001b[39;00m\u001b[38;5;250m \u001b[39m\u001b[38;5;21mdivide\u001b[39m(a,b):\n\u001b[0;32m      3\u001b[0m     \u001b[38;5;28mprint\u001b[39m(a, b)\n\u001b[1;32m----> 4\u001b[0m     \u001b[38;5;28;01mreturn\u001b[39;00m a\u001b[38;5;241m/\u001b[39mb\n",
      "\u001b[1;31mZeroDivisionError\u001b[0m: division by zero"
     ]
    }
   ],
   "source": [
    "# Using another print statement inside functions\n",
    "def divide(a,b):\n",
    "    print(a, b)\n",
    "    return a/b\n",
    "\n",
    "for i in range(-10,10):\n",
    "    print(i, i+1) \n",
    "    divide(i, i+1)"
   ]
  },
  {
   "cell_type": "markdown",
   "id": "c1fbdd05",
   "metadata": {},
   "source": [
    "- Now from print staement we see that when b = 0 it hrow an error."
   ]
  },
  {
   "cell_type": "code",
   "execution_count": 19,
   "id": "1d23232c",
   "metadata": {},
   "outputs": [
    {
     "name": "stdout",
     "output_type": "stream",
     "text": [
      "-10 -9\n",
      "-9 -8\n",
      "-8 -7\n",
      "-7 -6\n",
      "-6 -5\n",
      "-5 -4\n",
      "-4 -3\n",
      "-3 -2\n",
      "-2 -1\n",
      "-1 0\n",
      "Zero Division Error\n",
      "0 1\n",
      "1 2\n",
      "2 3\n",
      "3 4\n",
      "4 5\n",
      "5 6\n",
      "6 7\n",
      "7 8\n",
      "8 9\n",
      "9 10\n"
     ]
    }
   ],
   "source": [
    "def divide(a,b):\n",
    "    print(a, b)\n",
    "# breaking the code in terms of execution.\n",
    "    if b == 0:\n",
    "        print(\"Zero Division Error\")\n",
    "        return\n",
    "    return a/b\n",
    "\n",
    "for i in range(-10,10):\n",
    "    #print(i, i+1) \n",
    "    divide(i, i+1)"
   ]
  },
  {
   "cell_type": "markdown",
   "id": "400b2ab6",
   "metadata": {},
   "source": [
    "- print statement is not the pythonic way to debug >> Its not best practice in python to write print statement."
   ]
  },
  {
   "cell_type": "markdown",
   "id": "c13a48d4",
   "metadata": {},
   "source": [
    "- print statement is good for simple script not for complex as it is not efficient.\n",
    "- When we execute the code through terminal or console all the print statements will be lost."
   ]
  },
  {
   "cell_type": "markdown",
   "id": "c198e141",
   "metadata": {},
   "source": [
    "- In this case, we use logging instead of print statement. \n",
    "- Logging is best practice in debugging in python"
   ]
  },
  {
   "cell_type": "markdown",
   "id": "762a1df1",
   "metadata": {},
   "source": [
    "# Logging"
   ]
  },
  {
   "cell_type": "markdown",
   "id": "75dd0417",
   "metadata": {},
   "source": [
    "- It records the state and flow of your program/code/software.\n",
    "- It is useful for understanding , monitoring and debugging of the code.\n",
    "- It shows how program behaves over time."
   ]
  },
  {
   "cell_type": "markdown",
   "id": "46a4de1a",
   "metadata": {},
   "source": [
    "*Analogy*\n",
    "- Diary entry since childhood to now. After 25 year if you read diary entry you will be able to know how thought process evolved and how your personality evolved. You will get to know the flow of your thought.\n",
    "\n",
    "- Similary in complex script, to understand, how your code is changing the result over the time, you can log the specific states."
   ]
  },
  {
   "cell_type": "markdown",
   "id": "1edbc574",
   "metadata": {},
   "source": [
    "- At any stage, if you want to see the result, use logging instead of print statement."
   ]
  },
  {
   "cell_type": "markdown",
   "id": "0722c6ec",
   "metadata": {},
   "source": [
    "*Theoretical Use Case*\n",
    "- See the different steps of coding below.\n",
    "1. Remove some element of list\n",
    "2. Capitalize\n",
    "3. Remove metropolitan city\n",
    "5. lower case.\n",
    "\n",
    "- If after step 3 the list become empty, step 4 can throw error, so you can log the result of step 3 to debug."
   ]
  },
  {
   "cell_type": "markdown",
   "id": "adc53768",
   "metadata": {},
   "source": [
    "- Logging supports different levels of logging which helps to categories messages based on the severity."
   ]
  },
  {
   "cell_type": "code",
   "execution_count": 20,
   "id": "39e4f6e0",
   "metadata": {},
   "outputs": [],
   "source": [
    "import logging"
   ]
  },
  {
   "cell_type": "markdown",
   "id": "a2199f92",
   "metadata": {},
   "source": [
    "- module called logging in python is available"
   ]
  },
  {
   "cell_type": "code",
   "execution_count": 21,
   "id": "f1ebf256",
   "metadata": {},
   "outputs": [],
   "source": [
    "logging.basicConfig(filename= 'test.log', level= logging.INFO)"
   ]
  },
  {
   "cell_type": "code",
   "execution_count": 22,
   "id": "4071667f",
   "metadata": {},
   "outputs": [],
   "source": [
    "logging.info(\"This is my normal information about software..\")"
   ]
  },
  {
   "cell_type": "code",
   "execution_count": 23,
   "id": "6d676d14",
   "metadata": {},
   "outputs": [],
   "source": [
    "logging.warning(\"There can be empty list here.\")"
   ]
  },
  {
   "cell_type": "code",
   "execution_count": 24,
   "id": "d5bb9544",
   "metadata": {},
   "outputs": [],
   "source": [
    "logging.debug(\"The length of list is \")"
   ]
  },
  {
   "cell_type": "code",
   "execution_count": 25,
   "id": "78ccbdf7",
   "metadata": {},
   "outputs": [],
   "source": [
    "logging.error(\"Some error has happened \")"
   ]
  },
  {
   "cell_type": "code",
   "execution_count": 26,
   "id": "e277c300",
   "metadata": {},
   "outputs": [],
   "source": [
    "logging.critical(\"Software has stopped running.\")"
   ]
  },
  {
   "cell_type": "code",
   "execution_count": 27,
   "id": "621ed795",
   "metadata": {},
   "outputs": [],
   "source": [
    "logging.shutdown()"
   ]
  },
  {
   "cell_type": "markdown",
   "id": "e0c2f944",
   "metadata": {},
   "source": [
    "- Here warning, error, critical , etc are labels\n",
    "- in log file we dont have debug option."
   ]
  },
  {
   "cell_type": "markdown",
   "id": "f6256298",
   "metadata": {},
   "source": [
    "### DEBUG"
   ]
  },
  {
   "cell_type": "markdown",
   "id": "2b84afd0",
   "metadata": {},
   "source": [
    "- Lowest level of logging.\n",
    "- Used to give detailed info of any anything. \n",
    "- Or to give any messages."
   ]
  },
  {
   "cell_type": "markdown",
   "id": "c23a34ca",
   "metadata": {},
   "source": [
    "### INFO"
   ]
  },
  {
   "cell_type": "markdown",
   "id": "58c2e2a0",
   "metadata": {},
   "source": [
    "- Used to convey that the code is working as expected.\n",
    "_Examples_\n",
    "- \"Data analysis is completed\""
   ]
  },
  {
   "cell_type": "markdown",
   "id": "a2a6fc16",
   "metadata": {},
   "source": [
    "### WARNING"
   ]
  },
  {
   "cell_type": "markdown",
   "id": "0b04e292",
   "metadata": {},
   "source": [
    "- Used to indicate something unexpected happens or potential issue in the code."
   ]
  },
  {
   "cell_type": "markdown",
   "id": "bb8028e0",
   "metadata": {},
   "source": [
    "### ERROR"
   ]
  },
  {
   "cell_type": "markdown",
   "id": "7a835571",
   "metadata": {},
   "source": [
    "- Serious problem with some functions"
   ]
  },
  {
   "cell_type": "markdown",
   "id": "150a7b1e",
   "metadata": {},
   "source": [
    "### CRITICAL"
   ]
  },
  {
   "cell_type": "markdown",
   "id": "cef74bed",
   "metadata": {},
   "source": [
    "- Highest debug level, extremely serious error.\n",
    "- Termination of program, code, software."
   ]
  },
  {
   "cell_type": "markdown",
   "id": "4d622073",
   "metadata": {},
   "source": [
    "The above level of logging is executed in the same order.\n",
    "- Priority wise we have :\n",
    "Critical >> Error >> Warning >> Info >> Debug\n"
   ]
  },
  {
   "cell_type": "markdown",
   "id": "5d9ea5d0",
   "metadata": {},
   "source": [
    "- While defining level in logging.basicConfig, from that level the logs will be logged\n",
    "\n",
    "- it means if we set a level warning in logging.basicConfig, then level below warning i.e. info and debug will be neglected.\n",
    "- Log level priority will start from that level which is used to initialise the logging."
   ]
  },
  {
   "cell_type": "code",
   "execution_count": 1,
   "id": "fe4e37fa",
   "metadata": {},
   "outputs": [],
   "source": [
    "import logging\n",
    "logging.basicConfig(filename = \"test_new.log\", level= logging.DEBUG, format= '%(asctime)s %(message)s')"
   ]
  },
  {
   "cell_type": "markdown",
   "id": "fac24c0b",
   "metadata": {},
   "source": [
    "- Restart the kernel"
   ]
  },
  {
   "cell_type": "code",
   "execution_count": 2,
   "id": "23eec590",
   "metadata": {},
   "outputs": [],
   "source": [
    "logging.debug(\"This msg is for debugging..\")\n",
    "logging.info(\"This is info msg..\")\n",
    "logging.warning(\"This is warning msg..\")\n",
    "logging.shutdown()"
   ]
  },
  {
   "cell_type": "markdown",
   "id": "cb2dcd34",
   "metadata": {},
   "source": [
    "- In above no level is mentioned in test_new.log"
   ]
  },
  {
   "cell_type": "code",
   "execution_count": 1,
   "id": "f63aa0d9",
   "metadata": {},
   "outputs": [],
   "source": [
    "import logging\n",
    "logging.basicConfig(filename = \"test_new1.log\", level= logging.DEBUG, format= '%(asctime)s %(levelname)s %(message)s')\n",
    "\n",
    "logging.debug(\"This msg is for debugging..\")\n",
    "logging.info(\"This is info msg..\")\n",
    "logging.warning(\"This is warning msg..\")\n",
    "logging.shutdown()"
   ]
  },
  {
   "cell_type": "markdown",
   "id": "0e52f8c4",
   "metadata": {},
   "source": [
    "### Use Case "
   ]
  },
  {
   "cell_type": "code",
   "execution_count": 1,
   "id": "9fb1bd80",
   "metadata": {},
   "outputs": [],
   "source": [
    "import logging\n",
    "logging.basicConfig(filename= \"Program.log\", level= logging.DEBUG, format = '%(asctime)s %(levelname)s %(message)s')"
   ]
  },
  {
   "cell_type": "markdown",
   "id": "0fbea0ea",
   "metadata": {},
   "source": [
    "- Write a program to seperate the integer and string in two list seperately.\n",
    "- l = [1, \"Hello\", [2, \"world\"], 4, [3, \"Python\"]]"
   ]
  },
  {
   "cell_type": "code",
   "execution_count": 4,
   "id": "dda0ca16",
   "metadata": {},
   "outputs": [
    {
     "data": {
      "text/plain": [
       "<function logging.shutdown(handlerList=[<weakref at 0x000001F51F2EB470; to 'logging.StreamHandler' at 0x000001F51F247230>, <weakref at 0x000001F51F31FD80; to 'logging.StreamHandler' at 0x000001F51D486FD0>, <weakref at 0x000001F520ADFB00; to 'logging.FileHandler' at 0x000001F520997CB0>])>"
      ]
     },
     "execution_count": 4,
     "metadata": {},
     "output_type": "execute_result"
    }
   ],
   "source": [
    "l = [1, \"Hello\", [2, \"world\"], 4, [3, \"Python\"]]\n",
    "l1_int = []\n",
    "l2_str = []\n",
    "\n",
    "for i in l:\n",
    "    logging.info(f\"Processing each elements of list = {i}\")\n",
    "\n",
    "    if type(i) == list:\n",
    "        for j in i:\n",
    "            logging.info(f\"Processing sublist elements of list = {j}\")\n",
    "            if type(j) == int:\n",
    "                l1_int.append(j)\n",
    "    elif type(i) == int:\n",
    "        l1_int.append(i)\n",
    "    else:\n",
    "        l2_str.append(i)\n",
    "logging.info(f\"The result is : {l1_int} , {l2_str}\")\n",
    "logging.shutdown"
   ]
  },
  {
   "cell_type": "markdown",
   "id": "5a11118f",
   "metadata": {},
   "source": []
  },
  {
   "cell_type": "code",
   "execution_count": null,
   "id": "293ff0a3",
   "metadata": {},
   "outputs": [],
   "source": []
  }
 ],
 "metadata": {
  "kernelspec": {
   "display_name": "base",
   "language": "python",
   "name": "python3"
  },
  "language_info": {
   "codemirror_mode": {
    "name": "ipython",
    "version": 3
   },
   "file_extension": ".py",
   "mimetype": "text/x-python",
   "name": "python",
   "nbconvert_exporter": "python",
   "pygments_lexer": "ipython3",
   "version": "3.13.5"
  }
 },
 "nbformat": 4,
 "nbformat_minor": 5
}
