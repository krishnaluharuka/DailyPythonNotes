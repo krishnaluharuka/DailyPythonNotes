{
 "cells": [
  {
   "cell_type": "markdown",
   "id": "aa662c54",
   "metadata": {
    "id": "Zn7hW93T8-Vx"
   },
   "source": [
    "# Lambda function"
   ]
  },
  {
   "cell_type": "markdown",
   "id": "b1c7509b",
   "metadata": {
    "id": "-qI3XUAd9Ent"
   },
   "source": [
    "- Anonymous function\n",
    "- syntax\n",
    "- lambda arguements : expressions"
   ]
  },
  {
   "cell_type": "code",
   "execution_count": null,
   "id": "9262cd75",
   "metadata": {
    "colab": {
     "base_uri": "https://localhost:8080/"
    },
    "id": "8ABkGdrq9CjX",
    "outputId": "a2775f84-9496-448f-9d62-78671ddd6a7b"
   },
   "outputs": [
    {
     "data": {
      "text/plain": [
       "4"
      ]
     },
     "execution_count": 56,
     "metadata": {},
     "output_type": "execute_result"
    }
   ],
   "source": [
    "def sq(x):\n",
    "    return x**2\n",
    "sq(2)"
   ]
  },
  {
   "cell_type": "code",
   "execution_count": null,
   "id": "94880e8c",
   "metadata": {
    "colab": {
     "base_uri": "https://localhost:8080/"
    },
    "id": "DfnlOgpG7Y6F",
    "outputId": "2913df4d-d827-44c9-c2e9-71166b3b320b"
   },
   "outputs": [
    {
     "data": {
      "text/plain": [
       "4"
      ]
     },
     "execution_count": 57,
     "metadata": {},
     "output_type": "execute_result"
    }
   ],
   "source": [
    "sqr=lambda x: x**2\n",
    "sqr(2)"
   ]
  },
  {
   "cell_type": "code",
   "execution_count": null,
   "id": "ae21e91d",
   "metadata": {
    "colab": {
     "base_uri": "https://localhost:8080/"
    },
    "id": "MUnetTs2BRhl",
    "outputId": "8c239e24-067b-430b-e8db-9fbb2c2f7d46"
   },
   "outputs": [
    {
     "data": {
      "text/plain": [
       "7"
      ]
     },
     "execution_count": 58,
     "metadata": {},
     "output_type": "execute_result"
    }
   ],
   "source": [
    "add=lambda a, b : a+b\n",
    "add(2,5)"
   ]
  },
  {
   "cell_type": "code",
   "execution_count": null,
   "id": "b48109f6",
   "metadata": {
    "colab": {
     "base_uri": "https://localhost:8080/"
    },
    "id": "DqEbwttGBhGm",
    "outputId": "7b98ec3a-e951-452f-b7c4-f842dd4f612c"
   },
   "outputs": [
    {
     "data": {
      "text/plain": [
       "True"
      ]
     },
     "execution_count": 59,
     "metadata": {},
     "output_type": "execute_result"
    }
   ],
   "source": [
    "even=lambda x : x%2==0\n",
    "even(90)"
   ]
  },
  {
   "cell_type": "code",
   "execution_count": null,
   "id": "ab3f9c00",
   "metadata": {
    "colab": {
     "base_uri": "https://localhost:8080/"
    },
    "id": "ittIE1waBn6q",
    "outputId": "620892d9-27e6-4c87-ac5f-a91348fbb8ab"
   },
   "outputs": [
    {
     "data": {
      "text/plain": [
       "['Python', 'Data', 'Science']"
      ]
     },
     "execution_count": 60,
     "metadata": {},
     "output_type": "execute_result"
    }
   ],
   "source": [
    "x=[\"Python\",\"Data\",\"Science\"]\n",
    "x"
   ]
  },
  {
   "cell_type": "code",
   "execution_count": null,
   "id": "c994fc73",
   "metadata": {
    "colab": {
     "base_uri": "https://localhost:8080/"
    },
    "id": "__BGguqhBuKs",
    "outputId": "9e1a080b-1f6d-4751-ea4b-e01349b3255f"
   },
   "outputs": [
    {
     "data": {
      "text/plain": [
       "['Data', 'Python', 'Science']"
      ]
     },
     "execution_count": 62,
     "metadata": {},
     "output_type": "execute_result"
    }
   ],
   "source": [
    "sorted(x)"
   ]
  },
  {
   "cell_type": "code",
   "execution_count": null,
   "id": "6256d2e8",
   "metadata": {
    "colab": {
     "base_uri": "https://localhost:8080/"
    },
    "id": "G26B-3w6BvYx",
    "outputId": "e5c2bdb0-38bf-47ec-c452-7cd0a947b5a3"
   },
   "outputs": [
    {
     "data": {
      "text/plain": [
       "4"
      ]
     },
     "execution_count": 63,
     "metadata": {},
     "output_type": "execute_result"
    }
   ],
   "source": [
    "# sort the list based on length of element of list\n",
    "le=lambda x: len(x)\n",
    "le(\"Data\")"
   ]
  },
  {
   "cell_type": "code",
   "execution_count": null,
   "id": "d44db19a",
   "metadata": {
    "colab": {
     "base_uri": "https://localhost:8080/"
    },
    "id": "iHhc2OfLCHFo",
    "outputId": "c8ba8251-5b5f-4a8a-9d72-9ba5961e9536"
   },
   "outputs": [
    {
     "data": {
      "text/plain": [
       "['Data', 'Python', 'Science']"
      ]
     },
     "execution_count": 64,
     "metadata": {},
     "output_type": "execute_result"
    }
   ],
   "source": [
    "sorted(x, key= lambda x:len(x))"
   ]
  },
  {
   "cell_type": "code",
   "execution_count": null,
   "id": "fbe01c15",
   "metadata": {
    "colab": {
     "base_uri": "https://localhost:8080/"
    },
    "id": "6TMRidk9_-lK",
    "outputId": "b9f30165-0713-4c59-c456-a02b99d47736"
   },
   "outputs": [
    {
     "name": "stdout",
     "output_type": "stream",
     "text": [
      "20\n"
     ]
    }
   ],
   "source": [
    "def add_(*args):\n",
    "    return sum(args)\n",
    "\n",
    "print(add_(2,4,6,8))"
   ]
  },
  {
   "cell_type": "code",
   "execution_count": null,
   "id": "7d2888f0",
   "metadata": {
    "colab": {
     "base_uri": "https://localhost:8080/"
    },
    "id": "woT9s-aUAyuR",
    "outputId": "bcd145d2-f4ba-4322-8511-81d72555d4a2"
   },
   "outputs": [
    {
     "data": {
      "text/plain": [
       "11"
      ]
     },
     "execution_count": 4,
     "metadata": {},
     "output_type": "execute_result"
    }
   ],
   "source": [
    "5+2*3"
   ]
  },
  {
   "cell_type": "code",
   "execution_count": null,
   "id": "869ad260",
   "metadata": {
    "colab": {
     "base_uri": "https://localhost:8080/"
    },
    "id": "zpkDLIteCP2g",
    "outputId": "2729ff02-0d23-49f7-db5e-239d5efafe58"
   },
   "outputs": [
    {
     "data": {
      "text/plain": [
       "[0, 1, 1, 2, 3, 5, 8, 13, 21, 34]"
      ]
     },
     "execution_count": 65,
     "metadata": {},
     "output_type": "execute_result"
    }
   ],
   "source": [
    "fib= lambda n: n if n<=1 else fib(n-1) + fib(n-2)\n",
    "[fib(i) for i in range(10)]\n"
   ]
  },
  {
   "cell_type": "code",
   "execution_count": null,
   "id": "ae120143",
   "metadata": {
    "colab": {
     "base_uri": "https://localhost:8080/"
    },
    "id": "SX3zJlNpC7vg",
    "outputId": "603d49cb-8111-49fe-e495-00dfb126f2b5"
   },
   "outputs": [
    {
     "data": {
      "text/plain": [
       "120"
      ]
     },
     "execution_count": 71,
     "metadata": {},
     "output_type": "execute_result"
    }
   ],
   "source": [
    "# factorial of 5\n",
    "def fact(n):\n",
    "    if n==0:\n",
    "        return 1\n",
    "    else:\n",
    "        return n*fact(n-1)\n",
    "fact(5)"
   ]
  },
  {
   "cell_type": "code",
   "execution_count": null,
   "id": "09b79173",
   "metadata": {
    "id": "uiNA5zvAG4Wc"
   },
   "outputs": [],
   "source": [
    "fact= lambda n: 1 if n==0 else n*fac(n-1)"
   ]
  },
  {
   "cell_type": "code",
   "execution_count": null,
   "id": "ffb91d12",
   "metadata": {
    "colab": {
     "base_uri": "https://localhost:8080/"
    },
    "id": "sF9-Kk9WIZ6d",
    "outputId": "c8c5b5a3-fdc1-4f54-feae-2dfaa8b13b0c"
   },
   "outputs": [
    {
     "data": {
      "text/plain": [
       "120"
      ]
     },
     "execution_count": 75,
     "metadata": {},
     "output_type": "execute_result"
    }
   ],
   "source": [
    "fact(5)"
   ]
  }
 ],
 "metadata": {},
 "nbformat": 4,
 "nbformat_minor": 5
}
