{
 "cells": [
  {
   "cell_type": "markdown",
   "id": "19afb2c1",
   "metadata": {
    "id": "9jCMxTMq_jws"
   },
   "source": [
    "# Function"
   ]
  },
  {
   "cell_type": "markdown",
   "id": "8781fe4b",
   "metadata": {
    "id": "ysU_aUF8_pdv"
   },
   "source": [
    "A block of reusable code which is used to perform some specific tasks."
   ]
  },
  {
   "cell_type": "markdown",
   "id": "11eb41b8",
   "metadata": {
    "id": "b9ZRRXNX_0IL"
   },
   "source": [
    "There are two types of functions:\n",
    "1. in-built function\n",
    "2. user-defined function"
   ]
  },
  {
   "cell_type": "markdown",
   "id": "5ef61895",
   "metadata": {
    "id": "rFGTQulY_87o"
   },
   "source": [
    "## In-built function"
   ]
  },
  {
   "cell_type": "code",
   "execution_count": null,
   "id": "85ae4d2b",
   "metadata": {
    "colab": {
     "base_uri": "https://localhost:8080/"
    },
    "id": "OUBur4Lhnepq",
    "outputId": "967003e6-c51f-4f48-b577-bea7478567f0"
   },
   "outputs": [
    {
     "data": {
      "text/plain": [
       "15"
      ]
     },
     "execution_count": 11,
     "metadata": {},
     "output_type": "execute_result"
    }
   ],
   "source": [
    "l=[1,2,3,4,5]\n",
    "sum(l)  # sum is built in"
   ]
  },
  {
   "cell_type": "code",
   "execution_count": null,
   "id": "71a1d732",
   "metadata": {
    "id": "9yemhzbu_mWr"
   },
   "outputs": [],
   "source": [
    "# Ceiling function << roof << Nearest highest value\n",
    "# Floor function << ground << Nearest lowest value"
   ]
  },
  {
   "cell_type": "markdown",
   "id": "fe03a1e4",
   "metadata": {
    "id": "9IFdqEtEAhiY"
   },
   "source": [
    "- To call some in-built function we import python library.\n",
    "- For ceiling and floor function we import math library"
   ]
  },
  {
   "cell_type": "code",
   "execution_count": null,
   "id": "cf4ce285",
   "metadata": {
    "id": "31pP8bbsAZyw"
   },
   "outputs": [],
   "source": [
    "import math as p"
   ]
  },
  {
   "cell_type": "code",
   "execution_count": null,
   "id": "6e8f64ab",
   "metadata": {
    "colab": {
     "base_uri": "https://localhost:8080/"
    },
    "id": "AmMQA0IAA1aB",
    "outputId": "e926e765-edd3-44ca-d5da-5c29c6bd590f"
   },
   "outputs": [
    {
     "data": {
      "text/plain": [
       "7"
      ]
     },
     "execution_count": 411,
     "metadata": {},
     "output_type": "execute_result"
    }
   ],
   "source": [
    "p.ceil(6.5)"
   ]
  },
  {
   "cell_type": "code",
   "execution_count": null,
   "id": "fa1da7d6",
   "metadata": {
    "colab": {
     "base_uri": "https://localhost:8080/"
    },
    "id": "3rs96kSiA5Yd",
    "outputId": "99a5cb2e-fbe2-4bf6-b391-d268dec78f9b"
   },
   "outputs": [
    {
     "data": {
      "text/plain": [
       "6"
      ]
     },
     "execution_count": 412,
     "metadata": {},
     "output_type": "execute_result"
    }
   ],
   "source": [
    "p.floor(6.5)"
   ]
  },
  {
   "cell_type": "markdown",
   "id": "cb42773b",
   "metadata": {
    "id": "-7BAFMoaBFyA"
   },
   "source": [
    "## User-defined function"
   ]
  },
  {
   "cell_type": "code",
   "execution_count": null,
   "id": "03e31786",
   "metadata": {
    "id": "jfzA2h1wBDcG"
   },
   "outputs": [],
   "source": [
    "# syntax\n",
    "# def func():\n",
    "#      do something - body of function\n",
    "# return value"
   ]
  },
  {
   "cell_type": "markdown",
   "id": "0fdf66c3",
   "metadata": {
    "id": "v5qUrfw9BXty"
   },
   "source": [
    "- Why function needed?\n",
    "1. reusable\n",
    "2. make the code cluster free\n",
    "3. neat, clean and organise code\n",
    "4. saves time"
   ]
  },
  {
   "cell_type": "markdown",
   "id": "9e576379",
   "metadata": {
    "id": "-kgj7TXtBkQi"
   },
   "source": [
    "- Examples"
   ]
  },
  {
   "cell_type": "code",
   "execution_count": null,
   "id": "2dbb3b4a",
   "metadata": {
    "colab": {
     "base_uri": "https://localhost:8080/"
    },
    "id": "I7Hwbh7DBVDw",
    "outputId": "c06e33b5-e4c6-45ac-d179-fcfc478f0b38"
   },
   "outputs": [
    {
     "name": "stdout",
     "output_type": "stream",
     "text": [
      "Welcome to prag's Universe! Anne\n",
      "Welcome to Prag's Universe! John\n",
      "Welcome to Prag's Universe! Marie\n"
     ]
    }
   ],
   "source": [
    "print(\"Welcome to prag's Universe! Anne\")\n",
    "print(\"Welcome to Prag's Universe! John\")\n",
    "print(\"Welcome to Prag's Universe! Marie\")"
   ]
  },
  {
   "cell_type": "code",
   "execution_count": null,
   "id": "516fb6b1",
   "metadata": {
    "colab": {
     "base_uri": "https://localhost:8080/"
    },
    "id": "wLm1BT2yB_LB",
    "outputId": "ba61b47b-5e63-413e-ef9b-284f1a9d95c1"
   },
   "outputs": [
    {
     "name": "stdout",
     "output_type": "stream",
     "text": [
      "Welcome to Prag's Universe ! \n"
     ]
    }
   ],
   "source": [
    "def welcome():\n",
    "    print(\"Welcome to Prag's Universe ! \")\n",
    "welcome()"
   ]
  },
  {
   "cell_type": "code",
   "execution_count": null,
   "id": "a829ca55",
   "metadata": {
    "colab": {
     "base_uri": "https://localhost:8080/"
    },
    "id": "1tdM9Y_KCLBl",
    "outputId": "545d8f80-f8b7-4056-a817-f99736b1b360"
   },
   "outputs": [
    {
     "name": "stdout",
     "output_type": "stream",
     "text": [
      "Welcome to Prag's Universe !  Anne\n"
     ]
    }
   ],
   "source": [
    "def welcome(name): # name << variable << positional arguements << fixed position\n",
    "    print(\"Welcome to Prag's Universe ! \",name)\n",
    "welcome(\"Anne\")"
   ]
  },
  {
   "cell_type": "code",
   "execution_count": null,
   "id": "c19273fc",
   "metadata": {
    "colab": {
     "base_uri": "https://localhost:8080/"
    },
    "id": "FAvTDjGGCYDJ",
    "outputId": "3f92790e-b053-4194-e4f0-12e09476659c"
   },
   "outputs": [
    {
     "name": "stdout",
     "output_type": "stream",
     "text": [
      "Welcome to Prag's Universe !  John\n"
     ]
    }
   ],
   "source": [
    "welcome(\"John\")"
   ]
  },
  {
   "cell_type": "code",
   "execution_count": null,
   "id": "fab0fd49",
   "metadata": {
    "id": "4QoFs6T_omfZ"
   },
   "outputs": [],
   "source": [
    "def add():\n",
    "    x =1\n",
    "    y =4\n",
    "    result = x+y\n",
    "    return result"
   ]
  },
  {
   "cell_type": "code",
   "execution_count": null,
   "id": "f91b4955",
   "metadata": {
    "colab": {
     "base_uri": "https://localhost:8080/"
    },
    "id": "-FgCZsRxov_0",
    "outputId": "5be60a24-45d8-4ee1-a8b8-7cd39d68a71b"
   },
   "outputs": [
    {
     "data": {
      "text/plain": [
       "5"
      ]
     },
     "execution_count": 14,
     "metadata": {},
     "output_type": "execute_result"
    }
   ],
   "source": [
    "add()"
   ]
  },
  {
   "cell_type": "code",
   "execution_count": null,
   "id": "c18712af",
   "metadata": {
    "id": "4g7CyM80pIdm"
   },
   "outputs": [],
   "source": [
    "x = \"hi\""
   ]
  },
  {
   "cell_type": "code",
   "execution_count": null,
   "id": "5ca8bfb3",
   "metadata": {
    "colab": {
     "base_uri": "https://localhost:8080/"
    },
    "id": "WtFdjaPEpDAZ",
    "outputId": "3d8856ca-6ac0-4558-d60a-1f9f163fa385"
   },
   "outputs": [
    {
     "data": {
      "text/plain": [
       "['__add__',\n",
       " '__class__',\n",
       " '__contains__',\n",
       " '__delattr__',\n",
       " '__dir__',\n",
       " '__doc__',\n",
       " '__eq__',\n",
       " '__format__',\n",
       " '__ge__',\n",
       " '__getattribute__',\n",
       " '__getitem__',\n",
       " '__getnewargs__',\n",
       " '__getstate__',\n",
       " '__gt__',\n",
       " '__hash__',\n",
       " '__init__',\n",
       " '__init_subclass__',\n",
       " '__iter__',\n",
       " '__le__',\n",
       " '__len__',\n",
       " '__lt__',\n",
       " '__mod__',\n",
       " '__mul__',\n",
       " '__ne__',\n",
       " '__new__',\n",
       " '__reduce__',\n",
       " '__reduce_ex__',\n",
       " '__repr__',\n",
       " '__rmod__',\n",
       " '__rmul__',\n",
       " '__setattr__',\n",
       " '__sizeof__',\n",
       " '__str__',\n",
       " '__subclasshook__',\n",
       " 'capitalize',\n",
       " 'casefold',\n",
       " 'center',\n",
       " 'count',\n",
       " 'encode',\n",
       " 'endswith',\n",
       " 'expandtabs',\n",
       " 'find',\n",
       " 'format',\n",
       " 'format_map',\n",
       " 'index',\n",
       " 'isalnum',\n",
       " 'isalpha',\n",
       " 'isascii',\n",
       " 'isdecimal',\n",
       " 'isdigit',\n",
       " 'isidentifier',\n",
       " 'islower',\n",
       " 'isnumeric',\n",
       " 'isprintable',\n",
       " 'isspace',\n",
       " 'istitle',\n",
       " 'isupper',\n",
       " 'join',\n",
       " 'ljust',\n",
       " 'lower',\n",
       " 'lstrip',\n",
       " 'maketrans',\n",
       " 'partition',\n",
       " 'removeprefix',\n",
       " 'removesuffix',\n",
       " 'replace',\n",
       " 'rfind',\n",
       " 'rindex',\n",
       " 'rjust',\n",
       " 'rpartition',\n",
       " 'rsplit',\n",
       " 'rstrip',\n",
       " 'split',\n",
       " 'splitlines',\n",
       " 'startswith',\n",
       " 'strip',\n",
       " 'swapcase',\n",
       " 'title',\n",
       " 'translate',\n",
       " 'upper',\n",
       " 'zfill']"
      ]
     },
     "execution_count": 17,
     "metadata": {},
     "output_type": "execute_result"
    }
   ],
   "source": [
    "dir(x)"
   ]
  },
  {
   "cell_type": "code",
   "execution_count": null,
   "id": "9b0d0710",
   "metadata": {
    "id": "A3oqprzYpQBW"
   },
   "outputs": [],
   "source": [
    "def add():\n",
    "    x = int(input(\"enter 1st number : \"))\n",
    "    y = int(input(\"enter 2nd number : \"))\n",
    "    result=x+y\n",
    "    return result"
   ]
  },
  {
   "cell_type": "code",
   "execution_count": null,
   "id": "911648b4",
   "metadata": {
    "colab": {
     "base_uri": "https://localhost:8080/"
    },
    "id": "eGP09VO3pdcv",
    "outputId": "e5ca01a3-0ba9-47df-cbaf-f4aaef8ab646"
   },
   "outputs": [
    {
     "name": "stdout",
     "output_type": "stream",
     "text": [
      "enter 1st number : 10\n",
      "enter 2nd number : 5\n"
     ]
    },
    {
     "data": {
      "text/plain": [
       "15"
      ]
     },
     "execution_count": 19,
     "metadata": {},
     "output_type": "execute_result"
    }
   ],
   "source": [
    "add()"
   ]
  },
  {
   "cell_type": "code",
   "execution_count": null,
   "id": "ab7def62",
   "metadata": {
    "colab": {
     "base_uri": "https://localhost:8080/"
    },
    "id": "dDk4bJ5zDTL0",
    "outputId": "b2822322-acf8-4526-8c42-1c40b7d41c9c"
   },
   "outputs": [
    {
     "name": "stdout",
     "output_type": "stream",
     "text": [
      "This is my first function \n"
     ]
    }
   ],
   "source": [
    "def func():\n",
    "    print(\"This is my first function \")\n",
    "func()"
   ]
  },
  {
   "cell_type": "code",
   "execution_count": null,
   "id": "8cdf13ce",
   "metadata": {
    "colab": {
     "base_uri": "https://localhost:8080/",
     "height": 35
    },
    "id": "KgmScvrwDfO3",
    "outputId": "348ed7fc-0440-40e2-e962-0ea38ed7a06a"
   },
   "outputs": [
    {
     "data": {
      "application/vnd.google.colaboratory.intrinsic+json": {
       "type": "string"
      },
      "text/plain": [
       "'This is my first function in Python'"
      ]
     },
     "execution_count": 425,
     "metadata": {},
     "output_type": "execute_result"
    }
   ],
   "source": [
    "\"This is my first function \" + \"in Python\""
   ]
  },
  {
   "cell_type": "code",
   "execution_count": null,
   "id": "13fc440c",
   "metadata": {
    "id": "gQ91vDXPDljZ"
   },
   "outputs": [],
   "source": [
    "# func() + \"in python \" will throw error of unsupported operand"
   ]
  },
  {
   "cell_type": "code",
   "execution_count": null,
   "id": "dd387f8f",
   "metadata": {
    "id": "_5DS58YrDxqZ"
   },
   "outputs": [],
   "source": [
    "# return function"
   ]
  },
  {
   "cell_type": "code",
   "execution_count": null,
   "id": "832e49c6",
   "metadata": {
    "colab": {
     "base_uri": "https://localhost:8080/",
     "height": 35
    },
    "id": "0F4EusZcD6OP",
    "outputId": "05580209-12d9-4ab1-fb60-46f45d9cc223"
   },
   "outputs": [
    {
     "data": {
      "application/vnd.google.colaboratory.intrinsic+json": {
       "type": "string"
      },
      "text/plain": [
       "'This is my first function '"
      ]
     },
     "execution_count": 430,
     "metadata": {},
     "output_type": "execute_result"
    }
   ],
   "source": [
    "def func():\n",
    "    return \"This is my first function \" # return the vale as it is\n",
    "func()"
   ]
  },
  {
   "cell_type": "code",
   "execution_count": null,
   "id": "ff46ba06",
   "metadata": {
    "colab": {
     "base_uri": "https://localhost:8080/",
     "height": 35
    },
    "id": "1CYXOv0uEANA",
    "outputId": "0dfbdd7a-8398-43c0-fc52-002ac13efee2"
   },
   "outputs": [
    {
     "data": {
      "application/vnd.google.colaboratory.intrinsic+json": {
       "type": "string"
      },
      "text/plain": [
       "'This is my first function in Python'"
      ]
     },
     "execution_count": 431,
     "metadata": {},
     "output_type": "execute_result"
    }
   ],
   "source": [
    "func() + \"in Python\""
   ]
  },
  {
   "cell_type": "markdown",
   "id": "595576ca",
   "metadata": {
    "id": "5D2z10mSEMvD"
   },
   "source": [
    "- Example"
   ]
  },
  {
   "cell_type": "code",
   "execution_count": null,
   "id": "8db14f28",
   "metadata": {
    "colab": {
     "base_uri": "https://localhost:8080/"
    },
    "id": "xQw7V9FHEEzr",
    "outputId": "1a76e337-a897-491b-f25e-32cb708d4d40"
   },
   "outputs": [
    {
     "data": {
      "text/plain": [
       "('This is my first function', 23, True, (9+7j))"
      ]
     },
     "execution_count": 432,
     "metadata": {},
     "output_type": "execute_result"
    }
   ],
   "source": [
    "def func():\n",
    "    return \"This is my first function\",23,True,9+7j\n",
    "func()"
   ]
  },
  {
   "cell_type": "code",
   "execution_count": null,
   "id": "0078eb7a",
   "metadata": {
    "colab": {
     "base_uri": "https://localhost:8080/"
    },
    "id": "tuo7GqrtEZF8",
    "outputId": "08da7352-ff00-4c11-c7b4-33a494881c33"
   },
   "outputs": [
    {
     "data": {
      "text/plain": [
       "tuple"
      ]
     },
     "execution_count": 433,
     "metadata": {},
     "output_type": "execute_result"
    }
   ],
   "source": [
    "a=func()\n",
    "type(a)"
   ]
  },
  {
   "cell_type": "code",
   "execution_count": null,
   "id": "46613b78",
   "metadata": {
    "id": "5rwZWNgqEi-x"
   },
   "outputs": [],
   "source": [
    "a, b, c, d=func()"
   ]
  },
  {
   "cell_type": "code",
   "execution_count": null,
   "id": "fb2b1701",
   "metadata": {
    "colab": {
     "base_uri": "https://localhost:8080/",
     "height": 35
    },
    "id": "1qTIggFaEnx9",
    "outputId": "5ecbd47a-abb8-4a7d-eead-39eed57393ac"
   },
   "outputs": [
    {
     "data": {
      "application/vnd.google.colaboratory.intrinsic+json": {
       "type": "string"
      },
      "text/plain": [
       "'This is my first function'"
      ]
     },
     "execution_count": 437,
     "metadata": {},
     "output_type": "execute_result"
    }
   ],
   "source": [
    "a"
   ]
  },
  {
   "cell_type": "code",
   "execution_count": null,
   "id": "fbccb76f",
   "metadata": {
    "colab": {
     "base_uri": "https://localhost:8080/"
    },
    "id": "Rf1l-DqBEvZP",
    "outputId": "dfe7e92c-8018-48e9-857e-2f0806282166"
   },
   "outputs": [
    {
     "data": {
      "text/plain": [
       "(9+7j)"
      ]
     },
     "execution_count": 438,
     "metadata": {},
     "output_type": "execute_result"
    }
   ],
   "source": [
    "d"
   ]
  },
  {
   "cell_type": "code",
   "execution_count": null,
   "id": "24dd219c",
   "metadata": {
    "colab": {
     "base_uri": "https://localhost:8080/"
    },
    "id": "Hpi5pF_zEwr0",
    "outputId": "ee7dfd8c-cdd7-48db-ed17-daa0930932f2"
   },
   "outputs": [
    {
     "data": {
      "text/plain": [
       "23"
      ]
     },
     "execution_count": 440,
     "metadata": {},
     "output_type": "execute_result"
    }
   ],
   "source": [
    "b"
   ]
  },
  {
   "cell_type": "code",
   "execution_count": null,
   "id": "830b70bf",
   "metadata": {
    "id": "tZlkQ1EvExuD"
   },
   "outputs": [],
   "source": [
    "def func():\n",
    "    return \"This is my first function\",23,True,9+7j\n",
    "func()\n"
   ]
  },
  {
   "cell_type": "code",
   "execution_count": null,
   "id": "92cfd1bc",
   "metadata": {
    "id": "XmS5CEDeE3cO"
   },
   "outputs": [],
   "source": []
  }
 ],
 "metadata": {},
 "nbformat": 4,
 "nbformat_minor": 5
}
