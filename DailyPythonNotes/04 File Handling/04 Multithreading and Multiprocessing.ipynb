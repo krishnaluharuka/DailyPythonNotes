{
 "cells": [
  {
   "cell_type": "markdown",
   "id": "40a8d1ac",
   "metadata": {},
   "source": [
    "- Basic intro"
   ]
  },
  {
   "cell_type": "markdown",
   "id": "3db493f7",
   "metadata": {},
   "source": [
    "Code -----> Program -------> Process"
   ]
  },
  {
   "cell_type": "markdown",
   "id": "8eae2825",
   "metadata": {},
   "source": [
    "- A running program or An instance of program is called Process."
   ]
  },
  {
   "cell_type": "markdown",
   "id": "3f3d079b",
   "metadata": {},
   "source": [
    "- Process is executed in a Processor."
   ]
  },
  {
   "cell_type": "markdown",
   "id": "55ec8adf",
   "metadata": {},
   "source": [
    "_Sequential Execution of Program_\n",
    "- When we have to execute so many code line by line....\n",
    "- test(1)-----(1sec)----> test(2)-----(1sec)------> Done"
   ]
  },
  {
   "cell_type": "markdown",
   "id": "2bd51fe7",
   "metadata": {},
   "source": [
    "- But in Multiprocessor machine we run code parallely."
   ]
  },
  {
   "cell_type": "markdown",
   "id": "79b70e25",
   "metadata": {},
   "source": [
    "- test(1)---------\n",
    "- test(2)---------"
   ]
  },
  {
   "cell_type": "markdown",
   "id": "1d57fd7b",
   "metadata": {},
   "source": [
    "_Running code Parallely_\n",
    "- Improved performance\n",
    "- Effecient\n",
    "- Resource sharing\n",
    "- Fast execution\n",
    "- Scalable ..."
   ]
  },
  {
   "cell_type": "markdown",
   "id": "2f3f7f52",
   "metadata": {},
   "source": [
    "# MultiProcessing"
   ]
  },
  {
   "cell_type": "markdown",
   "id": "f9442755",
   "metadata": {},
   "source": [
    "- When multiprocessor are used to perform any codes, that process is called multiprocessing."
   ]
  },
  {
   "cell_type": "markdown",
   "id": "6c63f88d",
   "metadata": {},
   "source": [
    "# Multithreading"
   ]
  },
  {
   "cell_type": "markdown",
   "id": "a2108f0b",
   "metadata": {},
   "source": [
    "program -----> process -----> divided into multiple thread"
   ]
  },
  {
   "cell_type": "markdown",
   "id": "a2ee5d11",
   "metadata": {},
   "source": [
    "## Thread :\n",
    "- Smallest unit of process / processing\n",
    "- One process is divided into multiple thread\n",
    "- By default a process in a processor runs on a single thread.\n"
   ]
  },
  {
   "cell_type": "markdown",
   "id": "01367e9c",
   "metadata": {},
   "source": [
    "But if you want to use multiple thread, to execute a process , then it is called MultiThreading.\n",
    "- Multithreading executes concurrently."
   ]
  },
  {
   "cell_type": "markdown",
   "id": "8236773b",
   "metadata": {},
   "source": [
    "### Concurrency:"
   ]
  },
  {
   "cell_type": "markdown",
   "id": "1e02b879",
   "metadata": {},
   "source": [
    "- Due to concept of Global Interpretor Lock (GIL) in python, at one point, only one thread will be executing the process."
   ]
  },
  {
   "cell_type": "markdown",
   "id": "b06c4669",
   "metadata": {},
   "source": [
    "- Difference between multithreading and multiprocessing"
   ]
  },
  {
   "cell_type": "markdown",
   "id": "0298805c",
   "metadata": {},
   "source": [
    "![image.png](attachment:image.png)"
   ]
  },
  {
   "cell_type": "markdown",
   "id": "0584c846",
   "metadata": {},
   "source": [
    "_NOTES :_\n",
    "1. PROCESS : An instance of a computer program\n",
    "2. MULTIPROCESSING : Process runs parallely on multiprocessors\n",
    "3. MULTITHREADING : Process runs concurrently on multiple threads."
   ]
  },
  {
   "cell_type": "code",
   "execution_count": null,
   "id": "b4a65f15",
   "metadata": {},
   "outputs": [
    {
     "name": "stdout",
     "output_type": "stream",
     "text": [
      "Step 1\n",
      "Sleep for 1 sec\n",
      "Done with sleeping.\n",
      "The program finished in 1.0\n"
     ]
    }
   ],
   "source": [
    "import time\n",
    "start = time.perf_counter()\n",
    "\n",
    "def test_func():\n",
    "    print(\"Step 1\")\n",
    "    print(\"Sleep for 1 sec\")\n",
    "    time.sleep(1)\n",
    "    print(\"Done with sleeping.\")\n",
    "\n",
    "test_func()\n",
    "\n",
    "end = time.perf_counter()\n",
    "\n",
    "print(f\"The program finished in {round(end-start, 2)}\")"
   ]
  },
  {
   "cell_type": "code",
   "execution_count": null,
   "id": "857c324d",
   "metadata": {},
   "outputs": [
    {
     "name": "stdout",
     "output_type": "stream",
     "text": [
      "Step 1\n",
      "Sleep for 1 sec\n",
      "Done with sleeping.\n",
      "Step 1\n",
      "Sleep for 1 sec\n",
      "Done with sleeping.\n",
      "Step 1\n",
      "Sleep for 1 sec\n",
      "Done with sleeping.\n",
      "Step 1\n",
      "Sleep for 1 sec\n",
      "Done with sleeping.\n",
      "Step 1\n",
      "Sleep for 1 sec\n",
      "Done with sleeping.\n",
      "Step 1\n",
      "Sleep for 1 sec\n",
      "Done with sleeping.\n",
      "The program finished in 6.01\n"
     ]
    }
   ],
   "source": [
    "import time\n",
    "start = time.perf_counter()\n",
    "\n",
    "def test_func():\n",
    "    print(\"Step 1\")\n",
    "    print(\"Sleep for 1 sec\")\n",
    "    time.sleep(1)\n",
    "    print(\"Done with sleeping.\")\n",
    "\n",
    "test_func() # when we have multiple function it will take multiple seconds\n",
    "test_func()\n",
    "test_func()\n",
    "test_func()\n",
    "test_func()\n",
    "test_func()\n",
    "\n",
    "end = time.perf_counter()\n",
    "\n",
    "print(f\"The program finished in {round(end-start, 2)}\")"
   ]
  },
  {
   "cell_type": "markdown",
   "id": "9841fc3a",
   "metadata": {},
   "source": [
    "- Since program ran sequently (in single thread on a single core) 6 times, it take 6 seconds."
   ]
  },
  {
   "cell_type": "code",
   "execution_count": null,
   "id": "bccf7cc8",
   "metadata": {},
   "outputs": [
    {
     "name": "stdout",
     "output_type": "stream",
     "text": [
      "Step 1\n",
      "Sleep for 1 sec\n",
      "Step 1\n",
      "Sleep for 1 sec\n",
      "The program finished in 0.01\n"
     ]
    },
    {
     "name": "stdout",
     "output_type": "stream",
     "text": [
      "Done with sleeping.\n",
      "Done with sleeping.\n"
     ]
    }
   ],
   "source": [
    "import time\n",
    "import threading \n",
    "\n",
    "start = time.perf_counter()\n",
    "\n",
    "def test_func():\n",
    "    print(\"Step 1\")\n",
    "    print(\"Sleep for 1 sec\")\n",
    "    time.sleep(1)\n",
    "    print(\"Done with sleeping.\")\n",
    "\n",
    "# It run the program 2 times on 2 thread.\n",
    "t1 = threading.Thread(target= test_func)\n",
    "t2 = threading.Thread(target= test_func)\n",
    "\n",
    "#to start the thread.\n",
    "t1.start()\n",
    "t2.start()\n",
    "\n",
    "\n",
    "end = time.perf_counter()\n",
    "\n",
    "print(f\"The program finished in {round(end-start, 2)}\")"
   ]
  },
  {
   "cell_type": "markdown",
   "id": "4dc12b2d",
   "metadata": {},
   "source": [
    "_Multithreading practical :_\n",
    "- test_func()-----> t1 -------> start\n",
    "- test_func()-----> t2 -------> start"
   ]
  },
  {
   "cell_type": "markdown",
   "id": "0f47dca2",
   "metadata": {},
   "source": [
    "- Main thread includes (t1 & t2) ----> Other process except t1 & t2 will be executed by main thread."
   ]
  },
  {
   "cell_type": "markdown",
   "id": "f823d81c",
   "metadata": {},
   "source": [
    "- test_func()-----> t1 -------> start\n",
    "- test_func()-----> t2 -------> start\n",
    "- Print statements \n",
    "\n",
    "- before t1 and t2 could completed... the main thread will completed."
   ]
  },
  {
   "cell_type": "code",
   "execution_count": null,
   "id": "c5aee65f",
   "metadata": {},
   "outputs": [
    {
     "name": "stdout",
     "output_type": "stream",
     "text": [
      "Step 1\n",
      "Sleep for 1 sec\n",
      "Step 1\n",
      "Sleep for 1 sec\n",
      "Done with sleeping.\n",
      "Done with sleeping.\n",
      "The program finished in 1.01\n"
     ]
    }
   ],
   "source": [
    "import time\n",
    "import threading \n",
    "\n",
    "start = time.perf_counter()\n",
    "\n",
    "def test_func():\n",
    "    print(\"Step 1\")\n",
    "    print(\"Sleep for 1 sec\")\n",
    "    time.sleep(1)\n",
    "    print(\"Done with sleeping.\")\n",
    "\n",
    "# It run the program 2 times on 2 thread.\n",
    "t1 = threading.Thread(target= test_func)\n",
    "t2 = threading.Thread(target= test_func)\n",
    "\n",
    "#to start the thread.\n",
    "t1.start()\n",
    "t2.start()\n",
    "\n",
    "t1.join() # joinfirst executed these t1 and t2, then main thread executed.\n",
    "t2.join()\n",
    "\n",
    "\n",
    "end = time.perf_counter()\n",
    "\n",
    "print(f\"The program finished in {round(end-start, 2)}\")"
   ]
  },
  {
   "cell_type": "code",
   "execution_count": null,
   "id": "edebce96",
   "metadata": {},
   "outputs": [
    {
     "name": "stdout",
     "output_type": "stream",
     "text": [
      "Step 1\n",
      "Sleep for 1 sec\n",
      "Step 1\n",
      "Sleep for 1 sec\n",
      "Step 1\n",
      "Sleep for 1 sec\n",
      "Step 1\n",
      "Sleep for 1 sec\n",
      "Step 1\n",
      "Sleep for 1 sec\n",
      "Step 1\n",
      "Sleep for 1 sec\n",
      "Step 1\n",
      "Sleep for 1 sec\n",
      "Step 1\n",
      "Sleep for 1 sec\n",
      "Step 1\n",
      "Sleep for 1 sec\n",
      "Step 1\n",
      "Sleep for 1 sec\n",
      "Done with sleeping.\n",
      "Done with sleeping.\n",
      "Done with sleeping.\n",
      "Done with sleeping.\n",
      "Done with sleeping.\n",
      "Done with sleeping.\n",
      "Done with sleeping.\n",
      "Done with sleeping.\n",
      "Done with sleeping.\n",
      "Done with sleeping.\n",
      "The program finished in 1.02\n"
     ]
    }
   ],
   "source": [
    "import time\n",
    "import threading \n",
    "\n",
    "start = time.perf_counter()\n",
    "\n",
    "def test_func():\n",
    "    print(\"Step 1\")\n",
    "    print(\"Sleep for 1 sec\")\n",
    "    time.sleep(1)\n",
    "    print(\"Done with sleeping.\")\n",
    "\n",
    "\n",
    "threads = []\n",
    "for i in range(10):\n",
    "    t = threading.Thread(target= test_func)\n",
    "    t.start()\n",
    "    threads.append(t)\n",
    "\n",
    "for thread in threads:\n",
    "    thread.join()\n",
    "\n",
    "\n",
    "end = time.perf_counter()\n",
    "\n",
    "print(f\"The program finished in {round(end-start, 2)}\")"
   ]
  },
  {
   "cell_type": "markdown",
   "id": "e2666cb7",
   "metadata": {},
   "source": [
    "- Since the func is called d10 times then supposingly it should take 10 sec but due to multithreading it takes 1.09 sec."
   ]
  },
  {
   "cell_type": "markdown",
   "id": "a1d44f6b",
   "metadata": {},
   "source": [
    "_Using multithreading with function that takes on arguements_"
   ]
  },
  {
   "cell_type": "code",
   "execution_count": null,
   "id": "a87055b3",
   "metadata": {},
   "outputs": [
    {
     "name": "stdout",
     "output_type": "stream",
     "text": [
      "Step 1\n",
      "Sleep for 2 sec\n",
      "Step 1\n",
      "Sleep for 2 sec\n",
      "Step 1\n",
      "Sleep for 2 sec\n",
      "Step 1\n",
      "Sleep for 2 sec\n",
      "Step 1\n",
      "Sleep for 2 sec\n",
      "Step 1\n",
      "Sleep for 2 sec\n",
      "Step 1\n",
      "Sleep for 2 sec\n",
      "Step 1\n",
      "Sleep for 2 sec\n",
      "Step 1\n",
      "Sleep for 2 sec\n",
      "Step 1\n",
      "Sleep for 2 sec\n",
      "Done with sleeping.\n",
      "Done with sleeping.\n",
      "Done with sleeping.\n",
      "Done with sleeping.\n",
      "Done with sleeping.\n",
      "Done with sleeping.\n",
      "Done with sleeping.\n",
      "Done with sleeping.\n",
      "Done with sleeping.\n",
      "Done with sleeping.\n",
      "The program finished in 2.01\n"
     ]
    }
   ],
   "source": [
    "import time\n",
    "import threading \n",
    "\n",
    "start = time.perf_counter()\n",
    "\n",
    "def test_func(args):\n",
    "    print(\"Step 1\")\n",
    "    print(f\"Sleep for {args} sec\")\n",
    "    time.sleep(args)\n",
    "    print(\"Done with sleeping.\")\n",
    "\n",
    "\n",
    "threads = []\n",
    "for i in range(10):\n",
    "    t = threading.Thread(target= test_func, args = [2])\n",
    "    t.start()\n",
    "    threads.append(t)\n",
    "\n",
    "for thread in threads:\n",
    "    thread.join()\n",
    "\n",
    "\n",
    "end = time.perf_counter()\n",
    "\n",
    "print(f\"The program finished in {round(end-start, 2)}\")"
   ]
  },
  {
   "cell_type": "markdown",
   "id": "d16b605a",
   "metadata": {},
   "source": [
    "_Use Case_\n",
    "- Multithreading works well with I?O bound task means when some output has to wait for some input.\n",
    "- Examples : Reading-writing the files, network communication, etc"
   ]
  },
  {
   "cell_type": "markdown",
   "id": "97289b51",
   "metadata": {},
   "source": [
    "https://github.com/itsfoss/text-script-files"
   ]
  },
  {
   "cell_type": "code",
   "execution_count": null,
   "id": "a2841f26",
   "metadata": {},
   "outputs": [
    {
     "name": "stdout",
     "output_type": "stream",
     "text": [
      "The program finished in 3.47\n"
     ]
    }
   ],
   "source": [
    "import time\n",
    "import threading\n",
    "start = time.perf_counter()\n",
    "url_list = [\"https://github.com/itsfoss/text-script-files \",\n",
    "\"https://github.com/itsfoss/text-script-files/tree/master \",\n",
    "\"https://github.com/itsfoss/text-script-files/blob/master/i3_config_files/config\"]\n",
    "\n",
    "data_list = [\"data1.txt\", \"data2.txt\", \"data3.txt\"]\n",
    "\n",
    "import urllib.request\n",
    "\n",
    "def file_download(url, filename):\n",
    "    urllib.request.urlretrieve(url, filename)\n",
    "\n",
    "\n",
    "threads = []\n",
    "for i in range(len(url_list)):\n",
    "    t = threading.Thread(target= file_download, args = (url_list[i], data_list[i]))\n",
    "    t.start()\n",
    "    threads.append(t)\n",
    "\n",
    "for thread in threads:\n",
    "    thread.join()\n",
    "\n",
    "\n",
    "end = time.perf_counter()\n",
    "\n",
    "print(f\"The program finished in {round(end-start, 2)}\")\n"
   ]
  },
  {
   "cell_type": "markdown",
   "id": "0f197049",
   "metadata": {},
   "source": [
    "_Multithreading using cocurrent.futures_\n"
   ]
  },
  {
   "cell_type": "code",
   "execution_count": null,
   "id": "d6c226b5",
   "metadata": {},
   "outputs": [
    {
     "name": "stdout",
     "output_type": "stream",
     "text": [
      "The program finished in 0.0\n"
     ]
    }
   ],
   "source": [
    "import time\n",
    "import concurrent.futures\n",
    "start = time.perf_counter()\n",
    "url_list = [\"https://github.com/itsfoss/text-script-files \",\n",
    "\"https://github.com/itsfoss/text-script-files/tree/master \",\n",
    "\"https://github.com/itsfoss/text-script-files/blob/master/i3_config_files/config\"]\n",
    "\n",
    "data_list = [\"data1.txt\", \"data2.txt\", \"data3.txt\"]\n",
    "\n",
    "import urllib.request\n",
    "\n",
    "def file_download(url, filename):\n",
    "    urllib.request.urlretrieve(url, filename)\n",
    "\n",
    "    with concurrent.futures.ThreadPoolExecutor() as executor:\n",
    "        executor.map(file_download, url_list, data_list)\n",
    "\n",
    "end = time.perf_counter()\n",
    "\n",
    "print(f\"The program finished in {round(end-start, 2)}\")\n"
   ]
  },
  {
   "cell_type": "markdown",
   "id": "57aefb38",
   "metadata": {},
   "source": [
    "_Shared variable across all the threads_"
   ]
  },
  {
   "cell_type": "code",
   "execution_count": null,
   "id": "de78a6f3",
   "metadata": {},
   "outputs": [
    {
     "name": "stdout",
     "output_type": "stream",
     "text": [
      "Thread 1: incremented shared counter to 1\n",
      "Thread 2: incremented shared counter to 2\n",
      "Thread 3: incremented shared counter to 3\n",
      "Thread 4: incremented shared counter to 4\n",
      "Thread 5: incremented shared counter to 5\n",
      "The program finished in 15.05\n"
     ]
    }
   ],
   "source": [
    "start = time.perf_counter()\n",
    "shared_counter = 0\n",
    "counter_lock = threading.Lock() # locking the counter for the specific thread\n",
    "\n",
    "\n",
    "def increment_shared_counter(x):\n",
    "    global shared_counter  # that can be accessed by all the thread\n",
    "    with counter_lock:\n",
    "        shared_counter = shared_counter+1\n",
    "        print(f\"Thread {x}: incremented shared counter to {shared_counter}\")\n",
    "        time.sleep(3)\n",
    "\n",
    "threads = [threading.Thread(target=increment_shared_counter, args=(i,)) for i in [1,2,3,4,5]]\n",
    "\n",
    "for thread in threads:\n",
    "    thread.start()\n",
    "for thread in threads:\n",
    "    thread.join()\n",
    "\n",
    "end = time.perf_counter()\n",
    "print(f\"The program finished in {round(end-start,2)}\")"
   ]
  },
  {
   "cell_type": "markdown",
   "id": "7c38816a",
   "metadata": {},
   "source": [
    "_Using concurrent futures_"
   ]
  },
  {
   "cell_type": "code",
   "execution_count": null,
   "id": "8c825050",
   "metadata": {},
   "outputs": [
    {
     "name": "stdout",
     "output_type": "stream",
     "text": [
      "Thread 1: incremented shared counter to 1\n",
      "Thread 2: incremented shared counter to 2\n",
      "Thread 3: incremented shared counter to 3\n",
      "Thread 4: incremented shared counter to 4\n",
      "Thread 5: incremented shared counter to 5\n",
      "The program finished in 15.05\n"
     ]
    }
   ],
   "source": [
    "start = time.perf_counter()\n",
    "shared_counter = 0\n",
    "counter_lock = threading.Lock() # locking the counter for the specific thread\n",
    "\n",
    "\n",
    "def increment_shared_counter(x):\n",
    "    global shared_counter  # that can be accessed by all the thread\n",
    "    with counter_lock:\n",
    "        shared_counter = shared_counter+1\n",
    "        print(f\"Thread {x}: incremented shared counter to {shared_counter}\")\n",
    "        time.sleep(3)\n",
    "\n",
    "with concurrent.futures.ThreadPoolExecutor() as executor:\n",
    "        thread_args = [1,2,3,4,5]\n",
    "        executor.map(increment_shared_counter, thread_args)\n",
    "\n",
    "\n",
    "end = time.perf_counter()\n",
    "print(f\"The program finished in {round(end-start,2)}\")"
   ]
  },
  {
   "cell_type": "markdown",
   "id": "9a073e04",
   "metadata": {},
   "source": [
    "- shared variable can be incremented by individual thread."
   ]
  },
  {
   "cell_type": "markdown",
   "id": "6739cc63",
   "metadata": {},
   "source": [
    "## Multi Processing"
   ]
  },
  {
   "cell_type": "code",
   "execution_count": null,
   "id": "b3ae0738",
   "metadata": {},
   "outputs": [
    {
     "name": "stdout",
     "output_type": "stream",
     "text": [
      "Step 1\n",
      "Sleep for 1 sec\n",
      "Done with sleeping.\n",
      "Step 1\n",
      "Sleep for 1 sec\n",
      "Done with sleeping.\n",
      "The program finished in 2.0\n"
     ]
    }
   ],
   "source": [
    "import time\n",
    "start = time.perf_counter()\n",
    "\n",
    "def test_func():\n",
    "    print(\"Step 1\")\n",
    "    print(\"Sleep for 1 sec\")\n",
    "    time.sleep(1)\n",
    "    print(\"Done with sleeping.\")\n",
    "\n",
    "test_func()\n",
    "test_func()\n",
    "\n",
    "\n",
    "end = time.perf_counter()\n",
    "\n",
    "print(f\"The program finished in {round(end-start, 2)}\")"
   ]
  },
  {
   "cell_type": "markdown",
   "id": "08259f6d",
   "metadata": {},
   "source": [
    "_Using Multiprocessing_"
   ]
  },
  {
   "cell_type": "code",
   "execution_count": null,
   "id": "d469abbb",
   "metadata": {},
   "outputs": [
    {
     "name": "stdout",
     "output_type": "stream",
     "text": [
      "The program finished in 1.33\n"
     ]
    }
   ],
   "source": [
    "import multiprocessing\n",
    "\n",
    "import time\n",
    "start = time.perf_counter()\n",
    "\n",
    "def test_func():\n",
    "    print(\"Step 1\")\n",
    "    print(\"Sleep for 1 sec\")\n",
    "    time.sleep(1)\n",
    "    print(\"Done with sleeping.\")\n",
    "\n",
    "\n",
    "p1 = multiprocessing.Process(target= test_func)\n",
    "p2 = multiprocessing.Process(target= test_func)\n",
    "\n",
    "p1.start()\n",
    "p2.start()\n",
    "\n",
    "p1.join()\n",
    "p2.join()\n",
    "\n",
    "end = time.perf_counter()\n",
    "\n",
    "print(f\"The program finished in {round(end-start, 2)}\")\n"
   ]
  },
  {
   "cell_type": "code",
   "execution_count": null,
   "id": "7a2ef00a",
   "metadata": {},
   "outputs": [
    {
     "name": "stdout",
     "output_type": "stream",
     "text": [
      "Step 1\n",
      "Sleep for 1 sec\n",
      "Done with sleeping.\n",
      "Step 1\n",
      "Sleep for 1 sec\n",
      "Done with sleeping.\n",
      "Step 1\n",
      "Sleep for 1 sec\n",
      "Done with sleeping.\n",
      "Step 1\n",
      "Sleep for 1 sec\n",
      "Done with sleeping.\n",
      "Step 1\n",
      "Sleep for 1 sec\n",
      "Done with sleeping.\n",
      "Step 1\n",
      "Sleep for 1 sec\n",
      "Done with sleeping.\n",
      "Step 1\n",
      "Sleep for 1 sec\n",
      "Done with sleeping.\n",
      "Step 1\n",
      "Sleep for 1 sec\n",
      "Done with sleeping.\n",
      "Step 1\n",
      "Sleep for 1 sec\n",
      "Done with sleeping.\n",
      "Step 1\n",
      "Sleep for 1 sec\n",
      "Done with sleeping.\n",
      "The program finished in 10.27\n"
     ]
    }
   ],
   "source": [
    "import multiprocessing\n",
    "\n",
    "import time\n",
    "start = time.perf_counter()\n",
    "\n",
    "def test_func():\n",
    "    print(\"Step 1\")\n",
    "    print(\"Sleep for 1 sec\")\n",
    "    time.sleep(1)\n",
    "    print(\"Done with sleeping.\")\n",
    "\n",
    "processes = []\n",
    "for i in range(10):\n",
    "    p = multiprocessing.Process(target= test_func())\n",
    "    p.start()\n",
    "    processes.append(p)\n",
    "\n",
    "\n",
    "for process in processes:\n",
    "    process.join()\n",
    "\n",
    "\n",
    "end = time.perf_counter()\n",
    "\n",
    "print(f\"The program finished in {round(end-start, 2)}\")\n"
   ]
  },
  {
   "cell_type": "markdown",
   "id": "eff800d6",
   "metadata": {},
   "source": [
    "- Multiprocessing is used in case of computation."
   ]
  },
  {
   "cell_type": "code",
   "execution_count": null,
   "id": "8f4e2539",
   "metadata": {},
   "outputs": [
    {
     "name": "stdout",
     "output_type": "stream",
     "text": [
      "[1, 2, 5, 3, 4]\n",
      "The program finished in 1.33\n"
     ]
    }
   ],
   "source": [
    "import multiprocessing\n",
    "\n",
    "import time\n",
    "start = time.perf_counter()\n",
    "\n",
    "def square(index, value):\n",
    "    value[index] = value[index]**2\n",
    "\n",
    "arr = multiprocessing.Array('i',[1,2,5,3,4])\n",
    "\n",
    "processes = []\n",
    "for i in range(5): # in arr we have 5 numbers , loop will iterate 5 times.\n",
    "    p = multiprocessing.Process(target= square, args= (i, arr))\n",
    "    p.start()\n",
    "    processes.append(p)\n",
    "\n",
    "\n",
    "for process in processes:\n",
    "    process.join()\n",
    "\n",
    "print(list(arr))\n",
    "end = time.perf_counter()\n",
    "\n",
    "print(f\"The program finished in {round(end-start, 2)}\")\n"
   ]
  },
  {
   "cell_type": "code",
   "execution_count": null,
   "id": "2b39f3ca",
   "metadata": {},
   "outputs": [
    {
     "name": "stdout",
     "output_type": "stream",
     "text": [
      "[1, 2, 5, 3, 4]\n",
      "The program finished in 1.25 seconds\n"
     ]
    }
   ],
   "source": [
    "import multiprocessing\n",
    "import time\n",
    "\n",
    "def square(index, value):\n",
    "    value[index] = value[index] ** 2\n",
    "\n",
    "\n",
    "start = time.perf_counter()\n",
    "\n",
    "value = multiprocessing.Array('i', [1, 2, 5, 3, 4])\n",
    "processes = []\n",
    "\n",
    "for i in range(5):  # 5 numbers = 5 processes\n",
    "    p = multiprocessing.Process(target=square, args=(i, value))\n",
    "    p.start()\n",
    "    processes.append(p)\n",
    "\n",
    "for process in processes:\n",
    "    process.join()\n",
    "\n",
    "print(list(value))\n",
    "\n",
    "end = time.perf_counter()\n",
    "print(f\"The program finished in {round(end - start, 2)} seconds\")\n"
   ]
  },
  {
   "cell_type": "markdown",
   "id": "82b98ea0",
   "metadata": {},
   "source": [
    "_Using Mutliprocessing.pool_"
   ]
  },
  {
   "cell_type": "code",
   "execution_count": null,
   "id": "11b92610",
   "metadata": {},
   "outputs": [],
   "source": [
    "\n",
    "# start = time.perf_counter()\n",
    "\n",
    "# def square(no):\n",
    "#     result = no*no\n",
    "#     print(f\"The square of {no} is : {result}\")\n",
    "\n",
    "# if __name__ == '__main__':\n",
    "#     numbers = [1,2,3,4,5]\n",
    "\n",
    "#     with multiprocessing.Pool() as pool:\n",
    "#         pool.map(square, numbers)\n",
    "\n",
    "#     end =time.perf_counter()\n",
    "\n",
    "#     print(f\"The program takes {round(end-start, 2)} time to executes.\")"
   ]
  },
  {
   "cell_type": "code",
   "execution_count": null,
   "id": "9c118c0d",
   "metadata": {},
   "outputs": [],
   "source": []
  }
 ],
 "metadata": {
  "language_info": {
   "name": "python"
  }
 },
 "nbformat": 4,
 "nbformat_minor": 5
}
