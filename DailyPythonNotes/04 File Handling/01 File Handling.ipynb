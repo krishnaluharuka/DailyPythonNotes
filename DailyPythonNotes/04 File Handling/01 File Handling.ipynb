{
 "cells": [
  {
   "cell_type": "markdown",
   "id": "a9f699e0",
   "metadata": {},
   "source": [
    "# Files Handling"
   ]
  },
  {
   "cell_type": "markdown",
   "id": "dcbfd9d1",
   "metadata": {},
   "source": [
    "## Mode"
   ]
  },
  {
   "cell_type": "markdown",
   "id": "e3aba273",
   "metadata": {},
   "source": [
    "- r : read mode\n",
    "- w : write mode\n",
    "- a : append mode\n",
    "- t : text mode\n",
    "- r+ : both reading and writing"
   ]
  },
  {
   "cell_type": "markdown",
   "id": "bc9de1d2",
   "metadata": {},
   "source": [
    "Lets create a file and then read it"
   ]
  },
  {
   "cell_type": "code",
   "execution_count": null,
   "id": "8004abf9",
   "metadata": {},
   "outputs": [
    {
     "ename": "FileNotFoundError",
     "evalue": "[Errno 2] No such file or directory: 'files.txt'",
     "output_type": "error",
     "traceback": [
      "\u001b[1;31m---------------------------------------------------------------------------\u001b[0m\n",
      "\n",
      "\u001b[1;31mFileNotFoundError\u001b[0m                         Traceback (most recent call last)\n",
      "\n",
      "Cell \u001b[1;32mIn[2], line 1\u001b[0m\n",
      "\n",
      "\u001b[1;32m----> 1\u001b[0m file \u001b[38;5;241m=\u001b[39m \u001b[38;5;28mopen\u001b[39m(\u001b[38;5;124m\"\u001b[39m\u001b[38;5;124mfiles.txt\u001b[39m\u001b[38;5;124m\"\u001b[39m, \u001b[38;5;124m\"\u001b[39m\u001b[38;5;124mr\u001b[39m\u001b[38;5;124m\"\u001b[39m)\n",
      "\n",
      "\n",
      "\n",
      "File \u001b[1;32mc:\\Users\\DAV BABA\\anaconda3\\Lib\\site-packages\\IPython\\core\\interactiveshell.py:324\u001b[0m, in \u001b[0;36m_modified_open\u001b[1;34m(file, *args, **kwargs)\u001b[0m\n",
      "\n",
      "\u001b[0;32m    317\u001b[0m \u001b[38;5;28;01mif\u001b[39;00m file \u001b[38;5;129;01min\u001b[39;00m {\u001b[38;5;241m0\u001b[39m, \u001b[38;5;241m1\u001b[39m, \u001b[38;5;241m2\u001b[39m}:\n",
      "\n",
      "\u001b[0;32m    318\u001b[0m     \u001b[38;5;28;01mraise\u001b[39;00m \u001b[38;5;167;01mValueError\u001b[39;00m(\n",
      "\n",
      "\u001b[0;32m    319\u001b[0m         \u001b[38;5;124mf\u001b[39m\u001b[38;5;124m\"\u001b[39m\u001b[38;5;124mIPython won\u001b[39m\u001b[38;5;124m'\u001b[39m\u001b[38;5;124mt let you open fd=\u001b[39m\u001b[38;5;132;01m{\u001b[39;00mfile\u001b[38;5;132;01m}\u001b[39;00m\u001b[38;5;124m by default \u001b[39m\u001b[38;5;124m\"\u001b[39m\n",
      "\n",
      "\u001b[0;32m    320\u001b[0m         \u001b[38;5;124m\"\u001b[39m\u001b[38;5;124mas it is likely to crash IPython. If you know what you are doing, \u001b[39m\u001b[38;5;124m\"\u001b[39m\n",
      "\n",
      "\u001b[0;32m    321\u001b[0m         \u001b[38;5;124m\"\u001b[39m\u001b[38;5;124myou can use builtins\u001b[39m\u001b[38;5;124m'\u001b[39m\u001b[38;5;124m open.\u001b[39m\u001b[38;5;124m\"\u001b[39m\n",
      "\n",
      "\u001b[0;32m    322\u001b[0m     )\n",
      "\n",
      "\u001b[1;32m--> 324\u001b[0m \u001b[38;5;28;01mreturn\u001b[39;00m io_open(file, \u001b[38;5;241m*\u001b[39margs, \u001b[38;5;241m*\u001b[39m\u001b[38;5;241m*\u001b[39mkwargs)\n",
      "\n",
      "\n",
      "\n",
      "\u001b[1;31mFileNotFoundError\u001b[0m: [Errno 2] No such file or directory: 'files.txt'"
     ]
    }
   ],
   "source": [
    "file = open(\"files.txt\", \"r\") # throw an error because no files.txt file found"
   ]
  },
  {
   "cell_type": "code",
   "execution_count": null,
   "id": "a7f44173",
   "metadata": {},
   "outputs": [],
   "source": [
    "file = open(\"file.txt\", \"w\") # if a file is not there it will create a file and then read it"
   ]
  },
  {
   "cell_type": "code",
   "execution_count": null,
   "id": "0db411af",
   "metadata": {},
   "outputs": [
    {
     "data": {
      "text/plain": [
       "44"
      ]
     },
     "metadata": {},
     "output_type": "display_data"
    }
   ],
   "source": [
    "file.write(\"Hello... This is my first line in text file.\") # output = No. of bytes we written"
   ]
  },
  {
   "cell_type": "markdown",
   "id": "53681243",
   "metadata": {},
   "source": [
    "As of now if we open written file we will not able to see above text in file.txt because whatever we written is in th right mode.\n",
    "- To see we have to close the file by file.close()"
   ]
  },
  {
   "cell_type": "code",
   "execution_count": null,
   "id": "b5ebbad0",
   "metadata": {},
   "outputs": [],
   "source": [
    "file.close()"
   ]
  },
  {
   "cell_type": "code",
   "execution_count": null,
   "id": "c262e857",
   "metadata": {},
   "outputs": [
    {
     "data": {
      "text/plain": [
       "<_io.TextIOWrapper name='file.txt' mode='w' encoding='utf-8'>"
      ]
     },
     "metadata": {},
     "output_type": "display_data"
    }
   ],
   "source": [
    "file"
   ]
  },
  {
   "cell_type": "markdown",
   "id": "e429712b",
   "metadata": {},
   "source": [
    "here file is object and we have some attributes associated wiith object"
   ]
  },
  {
   "cell_type": "code",
   "execution_count": null,
   "id": "92eeba21",
   "metadata": {},
   "outputs": [
    {
     "data": {
      "text/plain": [
       "True"
      ]
     },
     "metadata": {},
     "output_type": "display_data"
    }
   ],
   "source": [
    "file.closed # if file is closed it will return True otherwise False"
   ]
  },
  {
   "cell_type": "code",
   "execution_count": null,
   "id": "e7bf80bb",
   "metadata": {},
   "outputs": [],
   "source": [
    "file = open(\"file.txt\",\"r\")"
   ]
  },
  {
   "cell_type": "code",
   "execution_count": null,
   "id": "880a8275",
   "metadata": {},
   "outputs": [
    {
     "data": {
      "text/plain": [
       "False"
      ]
     },
     "metadata": {},
     "output_type": "display_data"
    }
   ],
   "source": [
    "file.closed"
   ]
  },
  {
   "cell_type": "code",
   "execution_count": null,
   "id": "b40ad933",
   "metadata": {},
   "outputs": [],
   "source": [
    "file.close()"
   ]
  },
  {
   "cell_type": "code",
   "execution_count": null,
   "id": "15cc5291",
   "metadata": {},
   "outputs": [
    {
     "data": {
      "text/plain": [
       "True"
      ]
     },
     "metadata": {},
     "output_type": "display_data"
    }
   ],
   "source": [
    "file.closed"
   ]
  },
  {
   "cell_type": "code",
   "execution_count": null,
   "id": "cf330728",
   "metadata": {},
   "outputs": [
    {
     "data": {
      "text/plain": [
       "'file.txt'"
      ]
     },
     "metadata": {},
     "output_type": "display_data"
    }
   ],
   "source": [
    "file.name"
   ]
  },
  {
   "cell_type": "code",
   "execution_count": null,
   "id": "085a7fa8",
   "metadata": {},
   "outputs": [
    {
     "data": {
      "text/plain": [
       "'r'"
      ]
     },
     "metadata": {},
     "output_type": "display_data"
    }
   ],
   "source": [
    "file.mode"
   ]
  },
  {
   "cell_type": "code",
   "execution_count": null,
   "id": "3cc42e50",
   "metadata": {},
   "outputs": [
    {
     "ename": "ValueError",
     "evalue": "I/O operation on closed file.",
     "output_type": "error",
     "traceback": [
      "\u001b[1;31m---------------------------------------------------------------------------\u001b[0m\n",
      "\n",
      "\u001b[1;31mValueError\u001b[0m                                Traceback (most recent call last)\n",
      "\n",
      "Cell \u001b[1;32mIn[14], line 1\u001b[0m\n",
      "\n",
      "\u001b[1;32m----> 1\u001b[0m file\u001b[38;5;241m.\u001b[39mwrite(\u001b[38;5;124m\"\u001b[39m\u001b[38;5;124mThis is my second line\u001b[39m\u001b[38;5;124m\"\u001b[39m)\n",
      "\n",
      "\n",
      "\n",
      "\u001b[1;31mValueError\u001b[0m: I/O operation on closed file."
     ]
    }
   ],
   "source": [
    "file.write(\"This is my second line\") # throw an error ... not executed.. as file is closed"
   ]
  },
  {
   "cell_type": "code",
   "execution_count": null,
   "id": "99711c49",
   "metadata": {},
   "outputs": [],
   "source": [
    "file = open(\"file.txt\", \"w\") # it will truncate (delete) all earlier file and make a new file of it"
   ]
  },
  {
   "cell_type": "markdown",
   "id": "b482a4f9",
   "metadata": {},
   "source": [
    "- Earlier lines we add to the file is removed and fresh file.txt is created"
   ]
  },
  {
   "cell_type": "code",
   "execution_count": null,
   "id": "661b6ca4",
   "metadata": {},
   "outputs": [],
   "source": [
    "file.close()"
   ]
  },
  {
   "cell_type": "code",
   "execution_count": null,
   "id": "4ef1ac98",
   "metadata": {},
   "outputs": [],
   "source": [
    "file = open(\"file.txt\", \"w\")\n",
    "file.write(\"This is my 1st line...\\n\")\n",
    "file.write(\"This is my 2nd line...\\n\")\n",
    "file.write(\"This is my 3rd line...\\n\")\n",
    "file.write(\"This is my 4th line...\\n\")\n",
    "file.close()"
   ]
  },
  {
   "cell_type": "markdown",
   "id": "465e8310",
   "metadata": {},
   "source": [
    "- In order to add some more lines and if we use mode \"w\" it will deleted all earlier lines so have to open the file in append mode i.e. \"a\""
   ]
  },
  {
   "cell_type": "code",
   "execution_count": null,
   "id": "82920a7f",
   "metadata": {},
   "outputs": [],
   "source": [
    "file = open(\"file.txt\", \"a\")\n",
    "file.write(\"This is my 5th line...\\n\")\n",
    "file.write(\"This is my 6th line...\\n\")\n",
    "file.write(\"This is my 7th line...\\n\")\n",
    "file.close()"
   ]
  },
  {
   "cell_type": "code",
   "execution_count": null,
   "id": "14a6d09c",
   "metadata": {},
   "outputs": [],
   "source": [
    "file = open(\"file.txt\", 'r')"
   ]
  },
  {
   "cell_type": "code",
   "execution_count": null,
   "id": "3ef2676b",
   "metadata": {},
   "outputs": [
    {
     "data": {
      "text/plain": [
       "<_io.TextIOWrapper name='file.txt' mode='r' encoding='utf-8'>"
      ]
     },
     "metadata": {},
     "output_type": "display_data"
    }
   ],
   "source": [
    "file"
   ]
  },
  {
   "cell_type": "code",
   "execution_count": null,
   "id": "51a52cc7",
   "metadata": {},
   "outputs": [
    {
     "name": "stdout",
     "output_type": "stream",
     "text": [
      "This is my 1st line...\n",
      "\n",
      "This is my 2nd line...\n",
      "\n",
      "This is my 3rd line...\n",
      "\n",
      "This is my 4th line...\n",
      "\n",
      "This is my 5th line...\n",
      "\n",
      "This is my 6th line...\n",
      "\n",
      "This is my 7th line...\n",
      "\n"
     ]
    }
   ],
   "source": [
    "# To read the content in file \n",
    "for i in file:\n",
    "    print(i)"
   ]
  },
  {
   "cell_type": "code",
   "execution_count": null,
   "id": "f54a443c",
   "metadata": {},
   "outputs": [
    {
     "data": {
      "text/plain": [
       "''"
      ]
     },
     "metadata": {},
     "output_type": "display_data"
    }
   ],
   "source": [
    "file.read()"
   ]
  },
  {
   "cell_type": "code",
   "execution_count": null,
   "id": "829e5303",
   "metadata": {},
   "outputs": [
    {
     "name": "stdout",
     "output_type": "stream",
     "text": [
      "\n"
     ]
    }
   ],
   "source": [
    "print(file.read()) # empty as the cursor is at last position"
   ]
  },
  {
   "cell_type": "code",
   "execution_count": null,
   "id": "e709b988",
   "metadata": {},
   "outputs": [
    {
     "data": {
      "text/plain": [
       "168"
      ]
     },
     "metadata": {},
     "output_type": "display_data"
    }
   ],
   "source": [
    "file.tell() # it tells the current position of cursor"
   ]
  },
  {
   "cell_type": "code",
   "execution_count": null,
   "id": "d6b695d1",
   "metadata": {},
   "outputs": [
    {
     "data": {
      "text/plain": [
       "0"
      ]
     },
     "metadata": {},
     "output_type": "display_data"
    }
   ],
   "source": [
    "file.seek(0)"
   ]
  },
  {
   "cell_type": "code",
   "execution_count": null,
   "id": "801ed4f5",
   "metadata": {},
   "outputs": [],
   "source": [
    "f = open(\"file.txt\", 'r')"
   ]
  },
  {
   "cell_type": "code",
   "execution_count": null,
   "id": "a806855b",
   "metadata": {},
   "outputs": [
    {
     "name": "stdout",
     "output_type": "stream",
     "text": [
      "This is my 1st line...\n",
      "\n"
     ]
    }
   ],
   "source": [
    "print(f.readline()) # it will only read 1st line\n",
    "f.close()"
   ]
  },
  {
   "cell_type": "code",
   "execution_count": null,
   "id": "084c00dd",
   "metadata": {},
   "outputs": [
    {
     "name": "stdout",
     "output_type": "stream",
     "text": [
      "This is my 1st line...\n",
      "This is my 2nd line...\n",
      "This is my 3rd line...\n",
      "This is my 4th line...\n",
      "This is my 5th line...\n",
      "This is my 6th line...\n",
      "This is my 7th line...\n",
      "\n"
     ]
    }
   ],
   "source": [
    "f = open(\"file.txt\", 'r')\n",
    "f.seek(0)\n",
    "print(f.read()) \n",
    "f.close()"
   ]
  },
  {
   "cell_type": "code",
   "execution_count": null,
   "id": "42440b45",
   "metadata": {},
   "outputs": [
    {
     "name": "stdout",
     "output_type": "stream",
     "text": [
      "['This is my 1st line...\\n', 'This is my 2nd line...\\n', 'This is my 3rd line...\\n', 'This is my 4th line...\\n', 'This is my 5th line...\\n', 'This is my 6th line...\\n', 'This is my 7th line...\\n']\n"
     ]
    }
   ],
   "source": [
    "f = open(\"file.txt\", 'r')\n",
    "print(f.readlines())  # all the lines will be an element of list\n",
    "f.close()"
   ]
  },
  {
   "cell_type": "markdown",
   "id": "7cd47fdd",
   "metadata": {},
   "source": [
    "- To know present working directory"
   ]
  },
  {
   "cell_type": "code",
   "execution_count": null,
   "id": "9adb040d",
   "metadata": {},
   "outputs": [
    {
     "name": "stderr",
     "output_type": "stream",
     "text": [
      "'pwd' is not recognized as an internal or external command,\n",
      "operable program or batch file.\n"
     ]
    }
   ],
   "source": [
    "#present working directory\n",
    "!pwd"
   ]
  },
  {
   "cell_type": "code",
   "execution_count": null,
   "id": "64dae57d",
   "metadata": {},
   "outputs": [],
   "source": [
    "import os #interacting with the OS"
   ]
  },
  {
   "cell_type": "code",
   "execution_count": null,
   "id": "8f204e90",
   "metadata": {},
   "outputs": [
    {
     "data": {
      "text/plain": [
       "'c:\\\\Users\\\\DAV BABA\\\\Downloads'"
      ]
     },
     "metadata": {},
     "output_type": "display_data"
    }
   ],
   "source": [
    "os.getcwd()"
   ]
  },
  {
   "cell_type": "markdown",
   "id": "8b990c17",
   "metadata": {},
   "source": [
    "- To know how many files are there?"
   ]
  },
  {
   "cell_type": "markdown",
   "id": "5034bec8",
   "metadata": {},
   "source": [
    "- To know size of file"
   ]
  },
  {
   "cell_type": "code",
   "execution_count": null,
   "id": "81be19ae",
   "metadata": {},
   "outputs": [
    {
     "data": {
      "text/plain": [
       "168"
      ]
     },
     "metadata": {},
     "output_type": "display_data"
    }
   ],
   "source": [
    "os.path.getsize(\"file.txt\")"
   ]
  },
  {
   "cell_type": "markdown",
   "id": "539c0f92",
   "metadata": {},
   "source": [
    "- To make directory"
   ]
  },
  {
   "cell_type": "code",
   "execution_count": null,
   "id": "bb17c31a",
   "metadata": {},
   "outputs": [],
   "source": [
    "os.mkdir(\"tests\")"
   ]
  },
  {
   "cell_type": "code",
   "execution_count": null,
   "id": "11b4b70f",
   "metadata": {},
   "outputs": [],
   "source": [
    "os.mkdir(\"tests/test1\")"
   ]
  },
  {
   "cell_type": "code",
   "execution_count": null,
   "id": "77ec3b1e",
   "metadata": {},
   "outputs": [
    {
     "ename": "FileNotFoundError",
     "evalue": "[WinError 3] The system cannot find the path specified: 'Abc/def'",
     "output_type": "error",
     "traceback": [
      "\u001b[1;31m---------------------------------------------------------------------------\u001b[0m\n",
      "\n",
      "\u001b[1;31mFileNotFoundError\u001b[0m                         Traceback (most recent call last)\n",
      "\n",
      "Cell \u001b[1;32mIn[40], line 1\u001b[0m\n",
      "\n",
      "\u001b[1;32m----> 1\u001b[0m os\u001b[38;5;241m.\u001b[39mmkdir(\u001b[38;5;124m\"\u001b[39m\u001b[38;5;124mAbc/def\u001b[39m\u001b[38;5;124m\"\u001b[39m)\n",
      "\n",
      "\n",
      "\n",
      "\u001b[1;31mFileNotFoundError\u001b[0m: [WinError 3] The system cannot find the path specified: 'Abc/def'"
     ]
    }
   ],
   "source": [
    "os.mkdir(\"Abc/def\") # to make directory parent directaory should be there"
   ]
  },
  {
   "cell_type": "code",
   "execution_count": null,
   "id": "ba73de1c",
   "metadata": {},
   "outputs": [
    {
     "ename": "FileExistsError",
     "evalue": "[WinError 183] Cannot create a file when that file already exists: '1/2/3/4'",
     "output_type": "error",
     "traceback": [
      "\u001b[1;31m---------------------------------------------------------------------------\u001b[0m\n",
      "\n",
      "\u001b[1;31mFileExistsError\u001b[0m                           Traceback (most recent call last)\n",
      "\n",
      "Cell \u001b[1;32mIn[41], line 1\u001b[0m\n",
      "\n",
      "\u001b[1;32m----> 1\u001b[0m os\u001b[38;5;241m.\u001b[39mmakedirs(\u001b[38;5;124m\"\u001b[39m\u001b[38;5;124m1/2/3/4\u001b[39m\u001b[38;5;124m\"\u001b[39m)\n",
      "\n",
      "\n",
      "\n",
      "File \u001b[1;32m<frozen os>:228\u001b[0m, in \u001b[0;36mmakedirs\u001b[1;34m(name, mode, exist_ok)\u001b[0m\n",
      "\n",
      "\n",
      "\n",
      "\u001b[1;31mFileExistsError\u001b[0m: [WinError 183] Cannot create a file when that file already exists: '1/2/3/4'"
     ]
    }
   ],
   "source": [
    "os.makedirs(\"1/2/3/4\")"
   ]
  },
  {
   "cell_type": "markdown",
   "id": "922742b5",
   "metadata": {},
   "source": [
    "- To delete directory"
   ]
  },
  {
   "cell_type": "code",
   "execution_count": null,
   "id": "78d9a39a",
   "metadata": {},
   "outputs": [],
   "source": [
    "os.mkdir('Fest')"
   ]
  },
  {
   "cell_type": "code",
   "execution_count": null,
   "id": "ad90782a",
   "metadata": {},
   "outputs": [],
   "source": [
    "os.rmdir(\"Fest\") # to delete directory without any content inside it"
   ]
  },
  {
   "cell_type": "code",
   "execution_count": null,
   "id": "a093a8b8",
   "metadata": {},
   "outputs": [
    {
     "ename": "OSError",
     "evalue": "[WinError 145] The directory is not empty: 'tests'",
     "output_type": "error",
     "traceback": [
      "\u001b[1;31m---------------------------------------------------------------------------\u001b[0m\n",
      "\n",
      "\u001b[1;31mOSError\u001b[0m                                   Traceback (most recent call last)\n",
      "\n",
      "Cell \u001b[1;32mIn[49], line 1\u001b[0m\n",
      "\n",
      "\u001b[1;32m----> 1\u001b[0m os\u001b[38;5;241m.\u001b[39mrmdir(\u001b[38;5;124m\"\u001b[39m\u001b[38;5;124mtests\u001b[39m\u001b[38;5;124m\"\u001b[39m)\n",
      "\n",
      "\n",
      "\n",
      "\u001b[1;31mOSError\u001b[0m: [WinError 145] The directory is not empty: 'tests'"
     ]
    }
   ],
   "source": [
    "os.rmdir(\"tests\") # error >> tests is not empty"
   ]
  },
  {
   "cell_type": "markdown",
   "id": "4586e29e",
   "metadata": {},
   "source": [
    "- To delete non empty directory"
   ]
  },
  {
   "cell_type": "code",
   "execution_count": null,
   "id": "264ec101",
   "metadata": {},
   "outputs": [],
   "source": [
    "import shutil"
   ]
  },
  {
   "cell_type": "code",
   "execution_count": null,
   "id": "0d89c0ae",
   "metadata": {},
   "outputs": [],
   "source": [
    "shutil.rmtree(\"1\") # it will remove the folder hierarchy"
   ]
  },
  {
   "cell_type": "code",
   "execution_count": null,
   "id": "02482eea",
   "metadata": {},
   "outputs": [
    {
     "data": {
      "text/plain": [
       "'c:\\\\Users\\\\DAV BABA\\\\Downloads'"
      ]
     },
     "metadata": {},
     "output_type": "display_data"
    }
   ],
   "source": [
    "os.getcwd()"
   ]
  },
  {
   "cell_type": "code",
   "execution_count": null,
   "id": "f007cd15",
   "metadata": {},
   "outputs": [],
   "source": [
    "shutil.rmtree(\"test/test1\")"
   ]
  },
  {
   "cell_type": "code",
   "execution_count": null,
   "id": "992babec",
   "metadata": {},
   "outputs": [],
   "source": [
    "os.makedirs(\"test/test1\")"
   ]
  },
  {
   "cell_type": "code",
   "execution_count": null,
   "id": "544c71ad",
   "metadata": {},
   "outputs": [],
   "source": [
    "f = open(\"c:\\\\Users\\\\DAV BABA\\\\Downloads\\\\test\\\\test1\\\\file.txt\",\"w\")"
   ]
  },
  {
   "cell_type": "markdown",
   "id": "1f83acf1",
   "metadata": {},
   "source": [
    "- Copying the above file in another location"
   ]
  },
  {
   "cell_type": "code",
   "execution_count": null,
   "id": "bb3ee926",
   "metadata": {},
   "outputs": [],
   "source": [
    "# Syntax\n",
    "# shutil.copy(\"source\",\"destination\")"
   ]
  },
  {
   "cell_type": "code",
   "execution_count": null,
   "id": "2b41f405",
   "metadata": {},
   "outputs": [
    {
     "data": {
      "text/plain": [
       "'c:\\\\Users\\\\DAV BABA\\\\Downloads\\\\file.txt'"
      ]
     },
     "metadata": {},
     "output_type": "display_data"
    }
   ],
   "source": [
    "shutil.copy(\"c:\\\\Users\\\\DAV BABA\\\\Downloads\\\\test\\\\test1\\\\file.txt\", \"c:\\\\Users\\\\DAV BABA\\\\Downloads\")"
   ]
  },
  {
   "cell_type": "markdown",
   "id": "625dbe58",
   "metadata": {},
   "source": [
    "- To move the file in another location"
   ]
  },
  {
   "cell_type": "code",
   "execution_count": null,
   "id": "c0b8e137",
   "metadata": {},
   "outputs": [],
   "source": [
    "os.mkdir(\"file_test\")"
   ]
  },
  {
   "cell_type": "code",
   "execution_count": null,
   "id": "46a1af6a",
   "metadata": {},
   "outputs": [
    {
     "data": {
      "text/plain": [
       "'c:\\\\Users\\\\DAV BABA\\\\Downloads\\\\file_test\\\\file.txt'"
      ]
     },
     "metadata": {},
     "output_type": "display_data"
    }
   ],
   "source": [
    "shutil.copy(\"c:\\\\Users\\\\DAV BABA\\\\Downloads\\\\test\\\\test1\\\\file.txt\", \"c:\\\\Users\\\\DAV BABA\\\\Downloads\\\\file_test\")"
   ]
  },
  {
   "cell_type": "markdown",
   "id": "9d502a64",
   "metadata": {},
   "source": [
    "- To read the file without closing"
   ]
  },
  {
   "cell_type": "markdown",
   "id": "8cf787bb",
   "metadata": {},
   "source": [
    "- with statement ensure that the file is closed properly after the block of code is executed\n",
    "- it is important because it is free up system resources and avoid data corruption and file locking"
   ]
  },
  {
   "cell_type": "code",
   "execution_count": null,
   "id": "86e90744",
   "metadata": {},
   "outputs": [],
   "source": [
    "with open('file.txt', 'w') as f:\n",
    "    f.write(\"This is my first line..\")"
   ]
  },
  {
   "cell_type": "markdown",
   "id": "206ff8ca",
   "metadata": {},
   "source": [
    "- To read the text"
   ]
  },
  {
   "cell_type": "code",
   "execution_count": null,
   "id": "e4bf7f95",
   "metadata": {},
   "outputs": [
    {
     "name": "stdout",
     "output_type": "stream",
     "text": [
      "This is my first line..\n"
     ]
    }
   ],
   "source": [
    "with open('file.txt', 'r') as f:\n",
    "    line = f.readline()\n",
    "    print(line)"
   ]
  },
  {
   "cell_type": "markdown",
   "id": "7d4c60f1",
   "metadata": {},
   "source": [
    "## File Reading and writing"
   ]
  },
  {
   "cell_type": "markdown",
   "id": "a88b7772",
   "metadata": {},
   "source": [
    "- How to read and write various types of file like csv, jason etc."
   ]
  },
  {
   "cell_type": "code",
   "execution_count": null,
   "id": "671c89eb",
   "metadata": {},
   "outputs": [],
   "source": [
    "text_content = \"\"\"\n",
    "example1\n",
    "example2\n",
    "example3\n",
    "\"\"\""
   ]
  },
  {
   "cell_type": "code",
   "execution_count": null,
   "id": "08993774",
   "metadata": {},
   "outputs": [],
   "source": [
    "with open(\"example.txt\", \"w\") as file:\n",
    "    file.write(text_content)"
   ]
  },
  {
   "cell_type": "markdown",
   "id": "a0a15a01",
   "metadata": {},
   "source": [
    "- to read this text file"
   ]
  },
  {
   "cell_type": "code",
   "execution_count": null,
   "id": "bef60bdf",
   "metadata": {},
   "outputs": [
    {
     "name": "stdout",
     "output_type": "stream",
     "text": [
      "\n",
      "example1\n",
      "example2\n",
      "example3\n",
      "\n"
     ]
    }
   ],
   "source": [
    "with open(\"example.txt\", \"r\") as file:\n",
    "    data = file.read()\n",
    "print(data)"
   ]
  },
  {
   "cell_type": "markdown",
   "id": "df5caa30",
   "metadata": {},
   "source": [
    "### CSV File"
   ]
  },
  {
   "cell_type": "markdown",
   "id": "893396e3",
   "metadata": {},
   "source": [
    "- CSV = Comma Seperated Files\n",
    "- Intity are seperated by comma\n",
    "- In tabular form"
   ]
  },
  {
   "cell_type": "code",
   "execution_count": null,
   "id": "8a45c9d3",
   "metadata": {},
   "outputs": [],
   "source": [
    "data = [[\"Name \",\"Course \",\"Fee \"],\n",
    "        [\"Anu \",\"Python \",\"20000\"],\n",
    "        [\"Prag \",\"ML \",\"15000\"]]"
   ]
  },
  {
   "cell_type": "code",
   "execution_count": null,
   "id": "cc175a1e",
   "metadata": {},
   "outputs": [
    {
     "name": "stdout",
     "output_type": "stream",
     "text": [
      "['Name ', 'Course ', 'Fee ']\n",
      "['Anu ', 'Python ', '20000']\n",
      "['Prag ', 'ML ', '15000']\n"
     ]
    }
   ],
   "source": [
    "for i in data:\n",
    "    print(i)"
   ]
  },
  {
   "cell_type": "code",
   "execution_count": null,
   "id": "c2f96e1d",
   "metadata": {},
   "outputs": [],
   "source": [
    "import csv\n",
    "with open(\"example_csv.csv\", \"w\") as f:\n",
    "    w = csv.writer(f)\n",
    "    for i in data:\n",
    "        w.writerow(i)"
   ]
  },
  {
   "cell_type": "code",
   "execution_count": null,
   "id": "ccd81404",
   "metadata": {},
   "outputs": [
    {
     "name": "stdout",
     "output_type": "stream",
     "text": [
      "['Name ', 'Course ', 'Fee ']\n",
      "[]\n",
      "['Anu ', 'Python ', '20000']\n",
      "[]\n",
      "['Prag ', 'ML ', '15000']\n",
      "[]\n"
     ]
    }
   ],
   "source": [
    "with open(\"example_csv.csv\", \"r\") as f:\n",
    "    r = csv.reader(f)\n",
    "    for i in r:\n",
    "        print(i)"
   ]
  },
  {
   "cell_type": "markdown",
   "id": "ada25c09",
   "metadata": {},
   "source": [
    "### Jason file"
   ]
  },
  {
   "cell_type": "markdown",
   "id": "48ba398f",
   "metadata": {},
   "source": [
    "- Jason = JavaScript Object Notation"
   ]
  },
  {
   "cell_type": "code",
   "execution_count": null,
   "id": "1ca81dfe",
   "metadata": {},
   "outputs": [
    {
     "data": {
      "text/plain": [
       "{'Name ': 'Anu', 'Course': 'DS', 'Fee': 20000}"
      ]
     },
     "metadata": {},
     "output_type": "display_data"
    }
   ],
   "source": [
    "data = {\"Name \": \"Anu\",\n",
    "        \"Course\": \"DS\",\n",
    "        \"Fee\": 20000}\n",
    "data"
   ]
  },
  {
   "cell_type": "code",
   "execution_count": null,
   "id": "da76e132",
   "metadata": {},
   "outputs": [
    {
     "data": {
      "text/plain": [
       "dict"
      ]
     },
     "metadata": {},
     "output_type": "display_data"
    }
   ],
   "source": [
    "type(data)"
   ]
  },
  {
   "cell_type": "code",
   "execution_count": null,
   "id": "f317eb33",
   "metadata": {},
   "outputs": [],
   "source": [
    "import json\n",
    "with open(\"file_json.json\", \"w\") as f:\n",
    "    json.dump(data, f)"
   ]
  },
  {
   "cell_type": "code",
   "execution_count": null,
   "id": "b6f4e2e2",
   "metadata": {},
   "outputs": [
    {
     "name": "stdout",
     "output_type": "stream",
     "text": [
      "{'Name ': 'Anu', 'Course': 'DS', 'Fee': 20000}\n"
     ]
    }
   ],
   "source": [
    "with open(\"file_json.json\",\"r\") as f:\n",
    "    p = json.load(f)\n",
    "print(p)"
   ]
  },
  {
   "cell_type": "markdown",
   "id": "e2b89135",
   "metadata": {},
   "source": [
    "- To write binary data in file"
   ]
  },
  {
   "cell_type": "code",
   "execution_count": null,
   "id": "c9ad379f",
   "metadata": {},
   "outputs": [],
   "source": [
    "with open(\"test_bin.bin\", \"wb\") as f:\n",
    "    f.write(b\"\\x48\\x65\\x6c\\x6c\\x6f\\x2c\\x20\\x57\\x6f\\x72\\x6c\\x64\\x21\")"
   ]
  },
  {
   "cell_type": "code",
   "execution_count": null,
   "id": "66fe154f",
   "metadata": {},
   "outputs": [
    {
     "name": "stdout",
     "output_type": "stream",
     "text": [
      "b'Hello, World!'\n"
     ]
    }
   ],
   "source": [
    "with open(\"test_bin.bin\", \"rb\") as f:\n",
    "    print(f.read())"
   ]
  },
  {
   "cell_type": "markdown",
   "id": "d0cf45a5",
   "metadata": {},
   "source": [
    "## Buffered Reading and Writing"
   ]
  },
  {
   "cell_type": "markdown",
   "id": "d0dfa957",
   "metadata": {},
   "source": [
    "- It allows the program to read and write data in chunks"
   ]
  },
  {
   "cell_type": "markdown",
   "id": "03f401a6",
   "metadata": {},
   "source": [
    "- To avoid crashing of very very large files (if you want to read data of 10 MB from 200 GB files)"
   ]
  },
  {
   "cell_type": "code",
   "execution_count": null,
   "id": "e9c922d0",
   "metadata": {},
   "outputs": [],
   "source": [
    "import io\n",
    "with open('test_buf.txt', 'wb') as f:\n",
    "    file = io.BufferedWriter(f)\n",
    "    file.write(b\"Data Science is the art and science of extracting meaningful insights from raw data. It blends mathematics, statistics, computer science, and domain knowledge to analyze complex datasets and solve real-world problems. At its core, data science revolves around the data lifecycle from collecting, cleaning, and processing data to building models and interpreting results. Tools like Python, R, SQL, and libraries such as Pandas, NumPy, and Scikit learn are widely used. Machine Learning and Artificial Intelligence play a crucial role in making predictive and prescriptive models that drive decision making across industries from healthcare and finance to ecommerce and entertainment. Visualization tools like Tableau, Power BI, and Matplotlib help present insights in a digestible format. Beyond technical skills, a data scientist must possess strong critical thinking and communication abilities to translate data into strategies. As the digital world generates massive amounts of data daily, the demand for skilled data scientists is rapidly increasing. Whether its personalizing user experiences, detecting fraud, optimizing supply chains, or predicting market trends, data science sits at the center of innovation and business intelligence. It is not just a technical field, but a bridge between data and decisions, turning information overload into actionable knowledge.\")\n",
    "    file.write(b\"Hello World!..\")\n",
    "    file.write(b\"I am studying Data Science\")\n",
    "    file.flush()"
   ]
  },
  {
   "cell_type": "code",
   "execution_count": null,
   "id": "d0df3b9f",
   "metadata": {},
   "outputs": [
    {
     "name": "stdout",
     "output_type": "stream",
     "text": [
      "b'Data Science is the art and science of extracting meaningful insights from raw data. It blends mathematics, statistics, computer science, and domain k'\n"
     ]
    }
   ],
   "source": [
    "with open('test_buf.txt', 'rb') as f:\n",
    "    file = io.BufferedReader(f)\n",
    "    data = file.read(150) # read the first chunks of 100 bytes\n",
    "    print(data)"
   ]
  },
  {
   "cell_type": "markdown",
   "id": "3e98dea2",
   "metadata": {},
   "source": [
    "## Exceptions Handling"
   ]
  },
  {
   "cell_type": "markdown",
   "id": "525ff045",
   "metadata": {},
   "source": [
    "- Generally something that disrupts the normal event is exceptions\n",
    "- In python an exception is an event that occurs during program executions that disrupts the regular flow."
   ]
  },
  {
   "cell_type": "code",
   "execution_count": null,
   "id": "718a9827",
   "metadata": {},
   "outputs": [
    {
     "data": {
      "text/plain": [
       "0.5555555555555556"
      ]
     },
     "metadata": {},
     "output_type": "display_data"
    }
   ],
   "source": [
    "5/9"
   ]
  },
  {
   "cell_type": "code",
   "execution_count": null,
   "id": "072f7fcb",
   "metadata": {},
   "outputs": [
    {
     "data": {
      "text/plain": [
       "5.0"
      ]
     },
     "metadata": {},
     "output_type": "display_data"
    }
   ],
   "source": [
    "10/2"
   ]
  },
  {
   "cell_type": "code",
   "execution_count": null,
   "id": "7659ee6a",
   "metadata": {},
   "outputs": [
    {
     "name": "stdout",
     "output_type": "stream",
     "text": [
      "2.0\n",
      "0.6\n",
      "The code is running fine..\n"
     ]
    },
    {
     "ename": "ZeroDivisionError",
     "evalue": "division by zero",
     "output_type": "error",
     "traceback": [
      "\u001b[1;31m---------------------------------------------------------------------------\u001b[0m\n",
      "\n",
      "\u001b[1;31mZeroDivisionError\u001b[0m                         Traceback (most recent call last)\n",
      "\n",
      "Cell \u001b[1;32mIn[23], line 5\u001b[0m\n",
      "\n",
      "\u001b[0;32m      3\u001b[0m \u001b[38;5;28mprint\u001b[39m(\u001b[38;5;241m3\u001b[39m\u001b[38;5;241m/\u001b[39m\u001b[38;5;241m5\u001b[39m)\n",
      "\n",
      "\u001b[0;32m      4\u001b[0m \u001b[38;5;28mprint\u001b[39m(\u001b[38;5;124m\"\u001b[39m\u001b[38;5;124mThe code is running fine..\u001b[39m\u001b[38;5;124m\"\u001b[39m)\n",
      "\n",
      "\u001b[1;32m----> 5\u001b[0m \u001b[38;5;28mprint\u001b[39m(\u001b[38;5;241m6\u001b[39m\u001b[38;5;241m/\u001b[39m\u001b[38;5;241m0\u001b[39m)  \u001b[38;5;66;03m# code will break here << Suspicious Code << Need to handle\u001b[39;00m\n",
      "\n",
      "\u001b[0;32m      6\u001b[0m \u001b[38;5;28mprint\u001b[39m(\u001b[38;5;124m\"\u001b[39m\u001b[38;5;124mName is visible\u001b[39m\u001b[38;5;124m\"\u001b[39m)\n",
      "\n",
      "\u001b[0;32m      7\u001b[0m \u001b[38;5;28mprint\u001b[39m(\u001b[38;5;241m2\u001b[39m\u001b[38;5;241m+\u001b[39m\u001b[38;5;241m3\u001b[39m)\n",
      "\n",
      "\n",
      "\n",
      "\u001b[1;31mZeroDivisionError\u001b[0m: division by zero"
     ]
    }
   ],
   "source": [
    "# Zero division error\n",
    "print(4/2)\n",
    "print(3/5)\n",
    "print(\"The code is running fine..\")\n",
    "print(6/0)  # code will break here << Suspicious Code << Need to handle\n",
    "print(\"Name is visible\")\n",
    "print(2+3)\n",
    "print(\"The code ends here.\")"
   ]
  },
  {
   "cell_type": "code",
   "execution_count": null,
   "id": "5b376801",
   "metadata": {},
   "outputs": [
    {
     "name": "stdout",
     "output_type": "stream",
     "text": [
      "This is my first line of code..\n",
      "60\n",
      "<class 'dict'>\n"
     ]
    },
    {
     "ename": "KeyError",
     "evalue": "'age'",
     "output_type": "error",
     "traceback": [
      "\u001b[1;31m---------------------------------------------------------------------------\u001b[0m\n",
      "\n",
      "\u001b[1;31mKeyError\u001b[0m                                  Traceback (most recent call last)\n",
      "\n",
      "Cell \u001b[1;32mIn[24], line 6\u001b[0m\n",
      "\n",
      "\u001b[0;32m      4\u001b[0m d \u001b[38;5;241m=\u001b[39m{\u001b[38;5;124m\"\u001b[39m\u001b[38;5;124mName \u001b[39m\u001b[38;5;124m\"\u001b[39m:\u001b[38;5;124m\"\u001b[39m\u001b[38;5;124mAnu\u001b[39m\u001b[38;5;124m\"\u001b[39m}\n",
      "\n",
      "\u001b[0;32m      5\u001b[0m \u001b[38;5;28mprint\u001b[39m(\u001b[38;5;28mtype\u001b[39m(d))\n",
      "\n",
      "\u001b[1;32m----> 6\u001b[0m \u001b[38;5;28mprint\u001b[39m(d[\u001b[38;5;124m\"\u001b[39m\u001b[38;5;124mage\u001b[39m\u001b[38;5;124m\"\u001b[39m])  \u001b[38;5;66;03m# Suspicious code << need to handle  << Key Error\u001b[39;00m\n",
      "\n",
      "\u001b[0;32m      7\u001b[0m \u001b[38;5;28mprint\u001b[39m(\u001b[38;5;124m\"\u001b[39m\u001b[38;5;124mThis is last line\u001b[39m\u001b[38;5;124m\"\u001b[39m)\n",
      "\n",
      "\n",
      "\n",
      "\u001b[1;31mKeyError\u001b[0m: 'age'"
     ]
    }
   ],
   "source": [
    "# Key error\n",
    "print(\"This is my first line of code..\")\n",
    "print(3*4*5)\n",
    "d ={\"Name \":\"Anu\"}\n",
    "print(type(d))\n",
    "print(d[\"age\"])  # Suspicious code << need to handle  << Key Error\n",
    "print(\"This is last line\")"
   ]
  },
  {
   "cell_type": "code",
   "execution_count": null,
   "id": "9572eaf8",
   "metadata": {},
   "outputs": [
    {
     "ename": "FileNotFoundError",
     "evalue": "[Errno 2] No such file or directory: 'exampless.txt'",
     "output_type": "error",
     "traceback": [
      "\u001b[1;31m---------------------------------------------------------------------------\u001b[0m\n",
      "\n",
      "\u001b[1;31mFileNotFoundError\u001b[0m                         Traceback (most recent call last)\n",
      "\n",
      "Cell \u001b[1;32mIn[25], line 2\u001b[0m\n",
      "\n",
      "\u001b[0;32m      1\u001b[0m \u001b[38;5;66;03m# file not found error\u001b[39;00m\n",
      "\n",
      "\u001b[1;32m----> 2\u001b[0m f \u001b[38;5;241m=\u001b[39m \u001b[38;5;28mopen\u001b[39m(\u001b[38;5;124m\"\u001b[39m\u001b[38;5;124mexampless.txt\u001b[39m\u001b[38;5;124m\"\u001b[39m, \u001b[38;5;124m\"\u001b[39m\u001b[38;5;124mr\u001b[39m\u001b[38;5;124m\"\u001b[39m)\n",
      "\n",
      "\u001b[0;32m      3\u001b[0m \u001b[38;5;28mprint\u001b[39m(\u001b[38;5;241m6\u001b[39m\u001b[38;5;241m+\u001b[39m\u001b[38;5;241m3\u001b[39m)\n",
      "\n",
      "\u001b[0;32m      4\u001b[0m \u001b[38;5;28mprint\u001b[39m(\u001b[38;5;124m\"\u001b[39m\u001b[38;5;124mHere we gooo......\u001b[39m\u001b[38;5;124m\"\u001b[39m)\n",
      "\n",
      "\n",
      "\n",
      "File \u001b[1;32mc:\\Users\\DAV BABA\\anaconda3\\Lib\\site-packages\\IPython\\core\\interactiveshell.py:324\u001b[0m, in \u001b[0;36m_modified_open\u001b[1;34m(file, *args, **kwargs)\u001b[0m\n",
      "\n",
      "\u001b[0;32m    317\u001b[0m \u001b[38;5;28;01mif\u001b[39;00m file \u001b[38;5;129;01min\u001b[39;00m {\u001b[38;5;241m0\u001b[39m, \u001b[38;5;241m1\u001b[39m, \u001b[38;5;241m2\u001b[39m}:\n",
      "\n",
      "\u001b[0;32m    318\u001b[0m     \u001b[38;5;28;01mraise\u001b[39;00m \u001b[38;5;167;01mValueError\u001b[39;00m(\n",
      "\n",
      "\u001b[0;32m    319\u001b[0m         \u001b[38;5;124mf\u001b[39m\u001b[38;5;124m\"\u001b[39m\u001b[38;5;124mIPython won\u001b[39m\u001b[38;5;124m'\u001b[39m\u001b[38;5;124mt let you open fd=\u001b[39m\u001b[38;5;132;01m{\u001b[39;00mfile\u001b[38;5;132;01m}\u001b[39;00m\u001b[38;5;124m by default \u001b[39m\u001b[38;5;124m\"\u001b[39m\n",
      "\n",
      "\u001b[0;32m    320\u001b[0m         \u001b[38;5;124m\"\u001b[39m\u001b[38;5;124mas it is likely to crash IPython. If you know what you are doing, \u001b[39m\u001b[38;5;124m\"\u001b[39m\n",
      "\n",
      "\u001b[0;32m    321\u001b[0m         \u001b[38;5;124m\"\u001b[39m\u001b[38;5;124myou can use builtins\u001b[39m\u001b[38;5;124m'\u001b[39m\u001b[38;5;124m open.\u001b[39m\u001b[38;5;124m\"\u001b[39m\n",
      "\n",
      "\u001b[0;32m    322\u001b[0m     )\n",
      "\n",
      "\u001b[1;32m--> 324\u001b[0m \u001b[38;5;28;01mreturn\u001b[39;00m io_open(file, \u001b[38;5;241m*\u001b[39margs, \u001b[38;5;241m*\u001b[39m\u001b[38;5;241m*\u001b[39mkwargs)\n",
      "\n",
      "\n",
      "\n",
      "\u001b[1;31mFileNotFoundError\u001b[0m: [Errno 2] No such file or directory: 'exampless.txt'"
     ]
    }
   ],
   "source": [
    "# file not found error\n",
    "f = open(\"exampless.txt\", \"r\")\n",
    "print(6+3)\n",
    "print(\"Here we gooo......\")"
   ]
  },
  {
   "cell_type": "markdown",
   "id": "6ee8cd55",
   "metadata": {},
   "source": [
    "- When you expect something but didn't happen due to which a suspicious line threw an error and the next lines of code didn't get executed."
   ]
  },
  {
   "cell_type": "markdown",
   "id": "fe2b92d4",
   "metadata": {},
   "source": [
    "- *Types of exceptions*\n",
    "- Zero division Error\n",
    "- Key error\n",
    "- File not found error\n",
    "- Run time error\n",
    "- Import error\n",
    "- Name Error\n",
    "- Value error\n",
    "\n",
    "\n",
    "list of exceptions : https://docs.python.org/3/library/exceptions.html"
   ]
  },
  {
   "cell_type": "markdown",
   "id": "08fc060a",
   "metadata": {},
   "source": [
    " *Why do we need to handle suspicious code or exceptions??*\n",
    "- Code need not to break any where << Robust Application\n",
    "- Fellow developer understands the corner case << Code Cleaner"
   ]
  },
  {
   "cell_type": "markdown",
   "id": "4ebdccf6",
   "metadata": {},
   "source": [
    "*How to handle exceptions?*\n",
    "- to handle exception we use try catch block\n",
    "- whenever exception occurs Python stops the program and generate exceptions or error\n",
    "- Handling this exception is advised\n",
    "- Every code that is risky or suspicious, you should do exception handling."
   ]
  },
  {
   "cell_type": "code",
   "execution_count": null,
   "id": "da934ad4",
   "metadata": {},
   "outputs": [],
   "source": [
    "# Syntax of try except\n",
    "\n",
    "#try:\n",
    "    #suspicious code\n",
    "#except:\n",
    "    # executed when execution occurs in try block\n"
   ]
  },
  {
   "cell_type": "code",
   "execution_count": null,
   "id": "bee074e0",
   "metadata": {},
   "outputs": [
    {
     "name": "stdout",
     "output_type": "stream",
     "text": [
      "There is an issue with the code like :  [Errno 2] No such file or directory: 'exampless.txt'\n",
      "9\n",
      "Here we gooo......\n"
     ]
    }
   ],
   "source": [
    "try:\n",
    "    f = open(\"exampless.txt\", \"r\")\n",
    "except Exception as e:\n",
    "    print(\"There is an issue with the code like : \",e)\n",
    "print(6+3)\n",
    "print(\"Here we gooo......\")"
   ]
  },
  {
   "cell_type": "code",
   "execution_count": null,
   "id": "061deae2",
   "metadata": {},
   "outputs": [
    {
     "name": "stdout",
     "output_type": "stream",
     "text": [
      "This is my first line of code..\n",
      "60\n",
      "<class 'dict'>\n",
      "There is an issue :  'age'\n",
      "This is last line\n"
     ]
    }
   ],
   "source": [
    "print(\"This is my first line of code..\")\n",
    "print(3*4*5)\n",
    "d ={\"Name \":\"Anu\"}\n",
    "print(type(d))\n",
    "try:\n",
    "    print(d[\"age\"])\n",
    "except Exception as e:\n",
    "    print(\"There is an issue : \",e)\n",
    "print(\"This is last line\")"
   ]
  },
  {
   "cell_type": "code",
   "execution_count": null,
   "id": "a47c0eb2",
   "metadata": {},
   "outputs": [
    {
     "name": "stdout",
     "output_type": "stream",
     "text": [
      "2.0\n",
      "0.6\n",
      "The code is running fine..\n",
      "Error is  division by zero\n",
      "Name is visible\n",
      "5\n",
      "The code ends here.\n"
     ]
    }
   ],
   "source": [
    "print(4/2)\n",
    "print(3/5)\n",
    "print(\"The code is running fine..\")\n",
    "try:\n",
    "    print(6/0)\n",
    "except Exception as e:\n",
    "    print(\"Error is \",e)\n",
    "print(\"Name is visible\")\n",
    "print(2+3)\n",
    "print(\"The code ends here.\")"
   ]
  },
  {
   "cell_type": "code",
   "execution_count": null,
   "id": "aa6edf9d",
   "metadata": {},
   "outputs": [
    {
     "name": "stdout",
     "output_type": "stream",
     "text": [
      "There is an issue with the code like :  [Errno 2] No such file or directory: 'exampless.txt'\n"
     ]
    }
   ],
   "source": [
    "try:\n",
    "    f = open(\"exampless.txt\", \"r\")\n",
    "except Exception as e:\n",
    "    print(\"There is an issue with the code like : \",e)\n",
    "else:\n",
    "    print(\"We have the file\")"
   ]
  },
  {
   "cell_type": "code",
   "execution_count": null,
   "id": "d5cb998c",
   "metadata": {},
   "outputs": [
    {
     "name": "stdout",
     "output_type": "stream",
     "text": [
      "There is an issue with the code like :  division by zero\n"
     ]
    }
   ],
   "source": [
    "try:\n",
    "    6/0\n",
    "except Exception as e:\n",
    "    print(\"There is an issue with the code like : \",e)\n",
    "else:\n",
    "    print(\"We have the file\")"
   ]
  },
  {
   "cell_type": "code",
   "execution_count": null,
   "id": "c8727fe9",
   "metadata": {},
   "outputs": [
    {
     "name": "stdout",
     "output_type": "stream",
     "text": [
      "We have the file\n"
     ]
    }
   ],
   "source": [
    "try:\n",
    "    6/3\n",
    "except Exception as e:\n",
    "    print(\"There is an issue with the code like : \",e)\n",
    "else:\n",
    "    print(\"We have the file\")"
   ]
  },
  {
   "cell_type": "markdown",
   "id": "5f030c18",
   "metadata": {},
   "source": [
    "*Use case of Else:*\n",
    "- You want to execute some code only if the try statement is successful and code doesn't enter into exception block."
   ]
  },
  {
   "cell_type": "code",
   "execution_count": null,
   "id": "8ca26eac",
   "metadata": {},
   "outputs": [
    {
     "name": "stdout",
     "output_type": "stream",
     "text": [
      "14\n",
      "We have the file\n"
     ]
    }
   ],
   "source": [
    "#Use case 1\n",
    "try:\n",
    "    f = open(\"exampless.txt\", \"w\")\n",
    "except Exception as e:\n",
    "    print(\"There is an issue with the code like : \",e)\n",
    "else:\n",
    "    print(5+9)\n",
    "    print(\"We have the file\")"
   ]
  },
  {
   "cell_type": "code",
   "execution_count": null,
   "id": "dda6c05f",
   "metadata": {},
   "outputs": [
    {
     "name": "stdout",
     "output_type": "stream",
     "text": [
      "14\n",
      "We have the file\n"
     ]
    }
   ],
   "source": [
    "#Use case 2\n",
    "try:\n",
    "    f = open(\"exampless.txt\", \"w\")\n",
    "    f.write(\"Hellooooooo\")\n",
    "except Exception as e:\n",
    "    print(\"There is an issue with the code like : \",e)\n",
    "else:\n",
    "    print(5+9)\n",
    "    print(\"We have the file\")"
   ]
  },
  {
   "cell_type": "code",
   "execution_count": null,
   "id": "7fb73cad",
   "metadata": {},
   "outputs": [
    {
     "name": "stdout",
     "output_type": "stream",
     "text": [
      "14\n",
      "We have the file\n"
     ]
    }
   ],
   "source": [
    "#Use case 2\n",
    "try:\n",
    "    f = open(\"exampless.txt\", \"w\")\n",
    "    f.write(\"Hellooooooo\")\n",
    "except Exception as e:\n",
    "    print(\"There is an issue with the code like : \",e)\n",
    "else:\n",
    "    f.close()\n",
    "    print(5+9)\n",
    "    print(\"We have the file\")"
   ]
  },
  {
   "cell_type": "markdown",
   "id": "dc618c7a",
   "metadata": {},
   "source": [
    "- else block is very helpful when your code didn't enter the exception block\n",
    "- for exmaple if you wanted to close the file after it was opened in try block"
   ]
  },
  {
   "cell_type": "markdown",
   "id": "5b52aabb",
   "metadata": {},
   "source": [
    "### Finally block"
   ]
  },
  {
   "cell_type": "code",
   "execution_count": null,
   "id": "31b5a8cd",
   "metadata": {},
   "outputs": [
    {
     "name": "stdout",
     "output_type": "stream",
     "text": [
      "14\n",
      "We have the file\n",
      "This will be executed always\n"
     ]
    }
   ],
   "source": [
    "try:\n",
    "    f = open(\"exampless.txt\", \"w\")\n",
    "    f.write(\"Hellooooooo\")\n",
    "except Exception as e:\n",
    "    print(\"There is an issue with the code like : \",e)\n",
    "else:\n",
    "    f.close()\n",
    "    print(5+9)\n",
    "    print(\"We have the file\")\n",
    "finally:\n",
    "    print(\"This will be executed always\")"
   ]
  },
  {
   "cell_type": "markdown",
   "id": "51139ccb",
   "metadata": {},
   "source": [
    "- finally block will always executed even the execptions is there or not"
   ]
  },
  {
   "cell_type": "code",
   "execution_count": null,
   "id": "ca288d50",
   "metadata": {},
   "outputs": [
    {
     "name": "stdout",
     "output_type": "stream",
     "text": [
      "14\n",
      "We have the file\n",
      "This will be executed always\n"
     ]
    }
   ],
   "source": [
    "try:\n",
    "    f = open(\"exampless123.txt\", \"w\")\n",
    "    f.write(\"Hellooooooo\")\n",
    "except Exception as e:\n",
    "    print(\"There is an issue with the code like : \",e)\n",
    "else:\n",
    "    f.close()\n",
    "    print(5+9)\n",
    "    print(\"We have the file\")\n",
    "finally:\n",
    "    print(\"This will be executed always\")"
   ]
  },
  {
   "cell_type": "code",
   "execution_count": null,
   "id": "ca2be7a2",
   "metadata": {},
   "outputs": [
    {
     "name": "stdout",
     "output_type": "stream",
     "text": [
      "division by zero\n",
      "This will be printed always\n"
     ]
    }
   ],
   "source": [
    "try:\n",
    "    5/0\n",
    "except Exception as e:\n",
    "    print(e)\n",
    "finally:\n",
    "    print(\"This will be printed always\")"
   ]
  },
  {
   "cell_type": "markdown",
   "id": "257bfd4d",
   "metadata": {},
   "source": [
    "### Custom Exception"
   ]
  },
  {
   "cell_type": "code",
   "execution_count": null,
   "id": "14c923cf",
   "metadata": {},
   "outputs": [
    {
     "name": "stdout",
     "output_type": "stream",
     "text": [
      "10000\n"
     ]
    }
   ],
   "source": [
    "income = int(input(\"Enter your salary : \"))\n",
    "print(income)"
   ]
  },
  {
   "cell_type": "code",
   "execution_count": null,
   "id": "4e36c4bc",
   "metadata": {},
   "outputs": [],
   "source": [
    "def validate_salary(salary):\n",
    "    if salary <= 0:\n",
    "        print(\"Salary should not be negative.\")\n",
    "    elif salary >= 20000000:\n",
    "        print(\"Salary limit is unexpected.\")\n",
    "    else:\n",
    "        print(\"salary is valid.\")"
   ]
  },
  {
   "cell_type": "code",
   "execution_count": null,
   "id": "d132dd4d",
   "metadata": {},
   "outputs": [
    {
     "name": "stdout",
     "output_type": "stream",
     "text": [
      "Salary limit is unexpected.\n"
     ]
    }
   ],
   "source": [
    "validate_salary(5090090203029)"
   ]
  },
  {
   "cell_type": "code",
   "execution_count": null,
   "id": "41854294",
   "metadata": {},
   "outputs": [
    {
     "name": "stdout",
     "output_type": "stream",
     "text": [
      "Salary should not be negative.\n"
     ]
    }
   ],
   "source": [
    "validate_salary(-374638764)"
   ]
  },
  {
   "cell_type": "code",
   "execution_count": null,
   "id": "ea529c7c",
   "metadata": {},
   "outputs": [
    {
     "name": "stdout",
     "output_type": "stream",
     "text": [
      "salary is valid.\n"
     ]
    }
   ],
   "source": [
    "validate_salary(632638)"
   ]
  },
  {
   "cell_type": "code",
   "execution_count": null,
   "id": "df197170",
   "metadata": {},
   "outputs": [],
   "source": [
    "class ValidateSalary(Exception):  # Exception is the parent class\n",
    "    def __init__(self, msg):\n",
    "        self.msg = msg"
   ]
  },
  {
   "cell_type": "code",
   "execution_count": null,
   "id": "d74e3efe",
   "metadata": {},
   "outputs": [],
   "source": [
    "def validate_salary(salary):\n",
    "    if salary <= 0:\n",
    "        raise ValidateSalary(\"Salary should not be negative.\")\n",
    "    elif salary >= 20000000:\n",
    "        raise ValidateSalary(\"Salary limit is unexpected.\")\n",
    "    else:\n",
    "        print(\"salary is valid.\")"
   ]
  },
  {
   "cell_type": "code",
   "execution_count": null,
   "id": "829e8c85",
   "metadata": {},
   "outputs": [
    {
     "name": "stdout",
     "output_type": "stream",
     "text": [
      "Salary :  287482749\n",
      "Salary limit is unexpected.\n"
     ]
    }
   ],
   "source": [
    "try:\n",
    "    salary = int(input(\"Enter salary : \"))\n",
    "    print(\"Salary : \",salary)\n",
    "    validate_salary(salary)\n",
    "except ValidateSalary as e:\n",
    "    print(e)"
   ]
  },
  {
   "cell_type": "markdown",
   "id": "3870a89e",
   "metadata": {},
   "source": [
    "### General use of Exceptions"
   ]
  },
  {
   "cell_type": "code",
   "execution_count": null,
   "id": "612d2645",
   "metadata": {},
   "outputs": [
    {
     "data": {
      "text/plain": [
       "50.0"
      ]
     },
     "metadata": {},
     "output_type": "display_data"
    }
   ],
   "source": [
    "100/2"
   ]
  },
  {
   "cell_type": "code",
   "execution_count": null,
   "id": "85430485",
   "metadata": {},
   "outputs": [
    {
     "name": "stdout",
     "output_type": "stream",
     "text": [
      "Error\n"
     ]
    }
   ],
   "source": [
    "try:\n",
    "    10/0\n",
    "except:  # Generic Exception to print your custom msg\n",
    "    print(\"Error\")"
   ]
  },
  {
   "cell_type": "code",
   "execution_count": null,
   "id": "c7dc5f40",
   "metadata": {},
   "outputs": [
    {
     "name": "stdout",
     "output_type": "stream",
     "text": [
      "Error\n"
     ]
    }
   ],
   "source": [
    "try:\n",
    "    10/\"abc\"\n",
    "except:\n",
    "    print(\"Error\")"
   ]
  },
  {
   "cell_type": "code",
   "execution_count": null,
   "id": "3a30f51c",
   "metadata": {},
   "outputs": [
    {
     "name": "stdout",
     "output_type": "stream",
     "text": [
      "Error  unsupported operand type(s) for /: 'int' and 'str'\n"
     ]
    }
   ],
   "source": [
    "try:\n",
    "    10/\"abc\"\n",
    "except Exception as e:\n",
    "    print(\"Error \",e)"
   ]
  },
  {
   "cell_type": "code",
   "execution_count": null,
   "id": "5b79b37d",
   "metadata": {},
   "outputs": [
    {
     "name": "stdout",
     "output_type": "stream",
     "text": [
      "Error :  division by zero\n"
     ]
    }
   ],
   "source": [
    "try:\n",
    "    10/0\n",
    "except Exception as e:\n",
    "    print(\"Error : \", e)"
   ]
  },
  {
   "cell_type": "code",
   "execution_count": null,
   "id": "3a372db7",
   "metadata": {},
   "outputs": [
    {
     "name": "stdout",
     "output_type": "stream",
     "text": [
      "I am handling the error  division by zero\n"
     ]
    }
   ],
   "source": [
    "try:\n",
    "    10/0\n",
    "except ZeroDivisionError as e:\n",
    "    print(\"I am handling the error \", e)"
   ]
  },
  {
   "cell_type": "markdown",
   "id": "8e7659c4",
   "metadata": {},
   "source": [
    "- Best practice 1:\n",
    "1. Always catch specific error\n",
    "2. It provide specificity in exception handling\n"
   ]
  },
  {
   "cell_type": "code",
   "execution_count": null,
   "id": "4e0e5cd1",
   "metadata": {},
   "outputs": [
    {
     "name": "stdout",
     "output_type": "stream",
     "text": [
      "Error  unsupported operand type(s) for /: 'int' and 'str'\n"
     ]
    }
   ],
   "source": [
    "try:\n",
    "    10/\"abc\"\n",
    "except TypeError as e:\n",
    "    print(\"Error \",e)"
   ]
  },
  {
   "cell_type": "markdown",
   "id": "432f5d94",
   "metadata": {},
   "source": [
    "*Benefits of handling specific error* :\n",
    "1. You know what error is expected\n",
    "2. If other error comes which you were not able to think, you will be able to address that."
   ]
  },
  {
   "cell_type": "code",
   "execution_count": null,
   "id": "93f9753d",
   "metadata": {},
   "outputs": [
    {
     "name": "stdout",
     "output_type": "stream",
     "text": [
      "The calculation is  3.3333333333333335\n",
      "Error  unsupported operand type(s) for /: 'int' and 'str'\n"
     ]
    }
   ],
   "source": [
    "# Example to handle some exceptions\n",
    "try:\n",
    "    10/\"3\"\n",
    "except TypeError as e:\n",
    "    print(\"The calculation is \", 10/int(\"3\"))\n",
    "    print(\"Error \",e)"
   ]
  },
  {
   "cell_type": "code",
   "execution_count": null,
   "id": "2c55e613",
   "metadata": {},
   "outputs": [
    {
     "name": "stdout",
     "output_type": "stream",
     "text": [
      "Here I m handling the zero division error :  division by zero\n",
      "Since the denominator value is 0, using deffault value 1, the quotient is  10.0\n"
     ]
    }
   ],
   "source": [
    "# Another example of handling specific exceptions\n",
    "\n",
    "try:\n",
    "    10/0\n",
    "except ZeroDivisionError as e:\n",
    "    print(\"Here I m handling the zero division error : \",e)\n",
    "    print(\"Since the denominator value is 0, using deffault value 1, the quotient is \", 10/1)"
   ]
  },
  {
   "cell_type": "code",
   "execution_count": null,
   "id": "a5dc649a",
   "metadata": {},
   "outputs": [
    {
     "ename": "ValueError",
     "evalue": "invalid literal for int() with base 10: 'Anu'",
     "output_type": "error",
     "traceback": [
      "\u001b[1;31m---------------------------------------------------------------------------\u001b[0m\n",
      "\u001b[1;31mValueError\u001b[0m                                Traceback (most recent call last)\n",
      "Cell \u001b[1;32mIn[11], line 1\u001b[0m\n",
      "\u001b[1;32m----> 1\u001b[0m \u001b[38;5;28mint\u001b[39m(\u001b[38;5;124m\"\u001b[39m\u001b[38;5;124mAnu\u001b[39m\u001b[38;5;124m\"\u001b[39m)\n",
      "\n",
      "\u001b[1;31mValueError\u001b[0m: invalid literal for int() with base 10: 'Anu'"
     ]
    }
   ],
   "source": [
    "int(\"Anu\")"
   ]
  },
  {
   "cell_type": "code",
   "execution_count": null,
   "id": "e21afa68",
   "metadata": {},
   "outputs": [
    {
     "name": "stdout",
     "output_type": "stream",
     "text": [
      "String cannot be converted to integer. invalid literal for int() with base 10: 'Anu'\n"
     ]
    }
   ],
   "source": [
    "try:\n",
    "    int(\"Anu\")\n",
    "except ValueError as e:\n",
    "    print(\"String cannot be converted to integer.\", e)"
   ]
  },
  {
   "cell_type": "markdown",
   "id": "863dd21a",
   "metadata": {},
   "source": [
    "- Handling two specific exception at a time"
   ]
  },
  {
   "cell_type": "code",
   "execution_count": null,
   "id": "97e23079",
   "metadata": {},
   "outputs": [
    {
     "name": "stdout",
     "output_type": "stream",
     "text": [
      "The division is not possible due to error : unsupported operand type(s) for /: 'int' and 'str'\n"
     ]
    }
   ],
   "source": [
    "try:\n",
    "    10/\"3\"\n",
    "except (ZeroDivisionError, TypeError) as e:\n",
    "    print(\"The division is not possible due to error :\",e)"
   ]
  },
  {
   "cell_type": "code",
   "execution_count": null,
   "id": "1da2be09",
   "metadata": {},
   "outputs": [
    {
     "name": "stdout",
     "output_type": "stream",
     "text": [
      "The division is not possible due to error : division by zero\n"
     ]
    }
   ],
   "source": [
    "try:\n",
    "    10/0\n",
    "except (ZeroDivisionError, TypeError) as e:\n",
    "    print(\"The division is not possible due to error :\",e)"
   ]
  },
  {
   "cell_type": "code",
   "execution_count": null,
   "id": "d61b09fe",
   "metadata": {},
   "outputs": [
    {
     "name": "stdout",
     "output_type": "stream",
     "text": [
      "The division is not possible due to error : division by zero\n"
     ]
    }
   ],
   "source": [
    "try:\n",
    "    10/0\n",
    "except ZeroDivisionError as e:\n",
    "    print(\"The division is not possible due to error :\",e)\n",
    "except ValueError as e:\n",
    "    print(\"This is value error : \",e)"
   ]
  },
  {
   "cell_type": "code",
   "execution_count": null,
   "id": "df393b1d",
   "metadata": {},
   "outputs": [
    {
     "name": "stdout",
     "output_type": "stream",
     "text": [
      "This is value error :  unsupported operand type(s) for /: 'int' and 'str'\n"
     ]
    }
   ],
   "source": [
    "try:\n",
    "    10/\"3\"\n",
    "except ZeroDivisionError as e:\n",
    "    print(\"The division is not possible due to error :\",e)\n",
    "except TypeError as e:\n",
    "    print(\"This is value error : \",e)"
   ]
  },
  {
   "cell_type": "code",
   "execution_count": null,
   "id": "06b96837",
   "metadata": {},
   "outputs": [],
   "source": [
    "import csv"
   ]
  },
  {
   "cell_type": "code",
   "execution_count": null,
   "id": "45a23557",
   "metadata": {},
   "outputs": [
    {
     "ename": "ModuleNotFoundError",
     "evalue": "No module named 'pwskills'",
     "output_type": "error",
     "traceback": [
      "\u001b[1;31m---------------------------------------------------------------------------\u001b[0m\n",
      "\u001b[1;31mModuleNotFoundError\u001b[0m                       Traceback (most recent call last)\n",
      "Cell \u001b[1;32mIn[19], line 1\u001b[0m\n",
      "\u001b[1;32m----> 1\u001b[0m \u001b[38;5;28;01mimport\u001b[39;00m\u001b[38;5;250m \u001b[39m\u001b[38;5;21;01mpwskills\u001b[39;00m\n",
      "\n",
      "\u001b[1;31mModuleNotFoundError\u001b[0m: No module named 'pwskills'"
     ]
    }
   ],
   "source": [
    "import pwskills"
   ]
  },
  {
   "cell_type": "code",
   "execution_count": null,
   "id": "2cdae0f5",
   "metadata": {},
   "outputs": [
    {
     "name": "stdout",
     "output_type": "stream",
     "text": [
      "Error is :  No module named 'pwskills'\n"
     ]
    }
   ],
   "source": [
    "try:\n",
    "    import pwskills\n",
    "except ModuleNotFoundError as e:\n",
    "    print(\"Error is : \",e)"
   ]
  },
  {
   "cell_type": "code",
   "execution_count": null,
   "id": "5df46823",
   "metadata": {},
   "outputs": [
    {
     "name": "stdout",
     "output_type": "stream",
     "text": [
      "The 'age' key is not found.\n"
     ]
    }
   ],
   "source": [
    "try:\n",
    "    d = {\"Name \":\"anu\", \"Place\" : \"Banglore\"}\n",
    "    d[\"age\"]\n",
    "except KeyError as e:\n",
    "    print(f\"The {e} key is not found.\")"
   ]
  },
  {
   "cell_type": "code",
   "execution_count": null,
   "id": "bb53adf2",
   "metadata": {},
   "outputs": [
    {
     "name": "stdout",
     "output_type": "stream",
     "text": [
      "No such file is heree:  [Errno 2] No such file or directory: 'Pragg.txt'\n"
     ]
    }
   ],
   "source": [
    "try:\n",
    "    open(\"Pragg.txt\", \"r\")\n",
    "    f.read()\n",
    "except FileNotFoundError as e:\n",
    "    print(\"No such file is heree: \",e)"
   ]
  },
  {
   "cell_type": "markdown",
   "id": "5436ce83",
   "metadata": {},
   "source": [
    "- Best practice >> Always try in log"
   ]
  },
  {
   "cell_type": "code",
   "execution_count": null,
   "id": "7d686ccc",
   "metadata": {},
   "outputs": [
    {
     "name": "stderr",
     "output_type": "stream",
     "text": [
      "--- Logging error ---\n",
      "Traceback (most recent call last):\n",
      "  File \"C:\\Users\\DAV BABA\\AppData\\Local\\Temp\\ipykernel_10112\\2352308473.py\", line 4, in <module>\n",
      "    f = open(\"pragg.txt\", \"r\")\n",
      "  File \"c:\\Users\\DAV BABA\\anaconda3\\Lib\\site-packages\\IPython\\core\\interactiveshell.py\", line 324, in _modified_open\n",
      "    return io_open(file, *args, **kwargs)\n",
      "FileNotFoundError: [Errno 2] No such file or directory: 'pragg.txt'\n",
      "\n",
      "During handling of the above exception, another exception occurred:\n",
      "\n",
      "Traceback (most recent call last):\n",
      "  File \"c:\\Users\\DAV BABA\\anaconda3\\Lib\\logging\\__init__.py\", line 1151, in emit\n",
      "    msg = self.format(record)\n",
      "  File \"c:\\Users\\DAV BABA\\anaconda3\\Lib\\logging\\__init__.py\", line 999, in format\n",
      "    return fmt.format(record)\n",
      "           ~~~~~~~~~~^^^^^^^^\n",
      "  File \"c:\\Users\\DAV BABA\\anaconda3\\Lib\\logging\\__init__.py\", line 712, in format\n",
      "    record.message = record.getMessage()\n",
      "                     ~~~~~~~~~~~~~~~~~^^\n",
      "  File \"c:\\Users\\DAV BABA\\anaconda3\\Lib\\logging\\__init__.py\", line 400, in getMessage\n",
      "    msg = msg % self.args\n",
      "          ~~~~^~~~~~~~~~~\n",
      "TypeError: not all arguments converted during string formatting\n",
      "Call stack:\n",
      "  File \"<frozen runpy>\", line 198, in _run_module_as_main\n",
      "  File \"<frozen runpy>\", line 88, in _run_code\n",
      "  File \"c:\\Users\\DAV BABA\\anaconda3\\Lib\\site-packages\\ipykernel_launcher.py\", line 18, in <module>\n",
      "    app.launch_new_instance()\n",
      "  File \"c:\\Users\\DAV BABA\\anaconda3\\Lib\\site-packages\\traitlets\\config\\application.py\", line 1075, in launch_instance\n",
      "    app.start()\n",
      "  File \"c:\\Users\\DAV BABA\\anaconda3\\Lib\\site-packages\\ipykernel\\kernelapp.py\", line 739, in start\n",
      "    self.io_loop.start()\n",
      "  File \"c:\\Users\\DAV BABA\\anaconda3\\Lib\\site-packages\\tornado\\platform\\asyncio.py\", line 211, in start\n",
      "    self.asyncio_loop.run_forever()\n",
      "  File \"c:\\Users\\DAV BABA\\anaconda3\\Lib\\asyncio\\base_events.py\", line 683, in run_forever\n",
      "    self._run_once()\n",
      "  File \"c:\\Users\\DAV BABA\\anaconda3\\Lib\\asyncio\\base_events.py\", line 2042, in _run_once\n",
      "    handle._run()\n",
      "  File \"c:\\Users\\DAV BABA\\anaconda3\\Lib\\asyncio\\events.py\", line 89, in _run\n",
      "    self._context.run(self._callback, *self._args)\n",
      "  File \"c:\\Users\\DAV BABA\\anaconda3\\Lib\\site-packages\\ipykernel\\kernelbase.py\", line 545, in dispatch_queue\n",
      "    await self.process_one()\n",
      "  File \"c:\\Users\\DAV BABA\\anaconda3\\Lib\\site-packages\\ipykernel\\kernelbase.py\", line 534, in process_one\n",
      "    await dispatch(*args)\n",
      "  File \"c:\\Users\\DAV BABA\\anaconda3\\Lib\\site-packages\\ipykernel\\kernelbase.py\", line 437, in dispatch_shell\n",
      "    await result\n",
      "  File \"c:\\Users\\DAV BABA\\anaconda3\\Lib\\site-packages\\ipykernel\\ipkernel.py\", line 362, in execute_request\n",
      "    await super().execute_request(stream, ident, parent)\n",
      "  File \"c:\\Users\\DAV BABA\\anaconda3\\Lib\\site-packages\\ipykernel\\kernelbase.py\", line 778, in execute_request\n",
      "    reply_content = await reply_content\n",
      "  File \"c:\\Users\\DAV BABA\\anaconda3\\Lib\\site-packages\\ipykernel\\ipkernel.py\", line 449, in do_execute\n",
      "    res = shell.run_cell(\n",
      "  File \"c:\\Users\\DAV BABA\\anaconda3\\Lib\\site-packages\\ipykernel\\zmqshell.py\", line 549, in run_cell\n",
      "    return super().run_cell(*args, **kwargs)\n",
      "  File \"c:\\Users\\DAV BABA\\anaconda3\\Lib\\site-packages\\IPython\\core\\interactiveshell.py\", line 3075, in run_cell\n",
      "    result = self._run_cell(\n",
      "  File \"c:\\Users\\DAV BABA\\anaconda3\\Lib\\site-packages\\IPython\\core\\interactiveshell.py\", line 3130, in _run_cell\n",
      "    result = runner(coro)\n",
      "  File \"c:\\Users\\DAV BABA\\anaconda3\\Lib\\site-packages\\IPython\\core\\async_helpers.py\", line 128, in _pseudo_sync_runner\n",
      "    coro.send(None)\n",
      "  File \"c:\\Users\\DAV BABA\\anaconda3\\Lib\\site-packages\\IPython\\core\\interactiveshell.py\", line 3334, in run_cell_async\n",
      "    has_raised = await self.run_ast_nodes(code_ast.body, cell_name,\n",
      "  File \"c:\\Users\\DAV BABA\\anaconda3\\Lib\\site-packages\\IPython\\core\\interactiveshell.py\", line 3517, in run_ast_nodes\n",
      "    if await self.run_code(code, result, async_=asy):\n",
      "  File \"c:\\Users\\DAV BABA\\anaconda3\\Lib\\site-packages\\IPython\\core\\interactiveshell.py\", line 3577, in run_code\n",
      "    exec(code_obj, self.user_global_ns, self.user_ns)\n",
      "  File \"C:\\Users\\DAV BABA\\AppData\\Local\\Temp\\ipykernel_10112\\2352308473.py\", line 7, in <module>\n",
      "    logging.error(\"The following file is not created : \",e)\n",
      "Message: 'The following file is not created : '\n",
      "Arguments: (FileNotFoundError(2, 'No such file or directory'),)\n"
     ]
    }
   ],
   "source": [
    "import logging\n",
    "logging.basicConfig(filename= \"program.log\", level=logging.DEBUG)\n",
    "try:\n",
    "    f = open(\"pragg.txt\", \"r\")\n",
    "    f.read()\n",
    "except FileNotFoundError as e:\n",
    "    logging.error(\"The following file is not created : \",e)"
   ]
  },
  {
   "cell_type": "code",
   "execution_count": null,
   "id": "ddc6bf31",
   "metadata": {},
   "outputs": [],
   "source": [
    "logging.basicConfig(filename= \"program.log\", level=logging.DEBUG)\n",
    "try:\n",
    "    10/0\n",
    "except ZeroDivisionError as e:\n",
    "    logging.error(f\"The error we found is {e}\")"
   ]
  },
  {
   "cell_type": "code",
   "execution_count": null,
   "id": "5eefbb67",
   "metadata": {},
   "outputs": [],
   "source": [
    "# Putting exception handling in a function\n",
    "def test(file):\n",
    "    try:\n",
    "        f = open(file, \"r\")\n",
    "        f.read()\n",
    "    except FileNotFoundError as e:\n",
    "        logging.error(f\"My files was not found {e}\")"
   ]
  },
  {
   "cell_type": "code",
   "execution_count": null,
   "id": "dcbc4455",
   "metadata": {},
   "outputs": [],
   "source": [
    "test(\"prag.txt\")"
   ]
  },
  {
   "cell_type": "markdown",
   "id": "52d9dfdd",
   "metadata": {},
   "source": [
    "*_NOTE_* :\n",
    "- Do not try to use unnecessary multiple exceptions.\n",
    "- Use the exceptions only where it is required.\n",
    "- ALways give proper documentation and comment.\n",
    "- Always clean up the resources."
   ]
  },
  {
   "cell_type": "code",
   "execution_count": null,
   "id": "9053e55f",
   "metadata": {},
   "outputs": [],
   "source": []
  }
 ],
 "metadata": {
  "language_info": {
   "name": "python"
  }
 },
 "nbformat": 4,
 "nbformat_minor": 5
}
