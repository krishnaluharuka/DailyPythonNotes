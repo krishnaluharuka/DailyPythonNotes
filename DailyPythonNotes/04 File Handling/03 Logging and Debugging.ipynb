{
 "cells": [
  {
   "cell_type": "markdown",
   "id": "60cbe5f3",
   "metadata": {},
   "source": [
    "# Debugging"
   ]
  },
  {
   "cell_type": "markdown",
   "id": "e2771a49",
   "metadata": {},
   "source": [
    "- Process of identifying and fixing bugs (issues) in the code."
   ]
  },
  {
   "cell_type": "markdown",
   "id": "0b56639b",
   "metadata": {},
   "source": [
    "## How to debug?\n",
    "- Debugging involves \n",
    "1. Breaking the code (checkpoints) >> Stop the executions at any point\n",
    "2. Executing the code\n",
    "3. Inspecting the variablbes using print statements."
   ]
  },
  {
   "cell_type": "markdown",
   "id": "ebcd581e",
   "metadata": {},
   "source": [
    "Generally use, when we have large and complex code of 100s of line and we have to identify from where the error is coming, at that instances we debug the code"
   ]
  },
  {
   "cell_type": "code",
   "execution_count": null,
   "id": "743e82ca",
   "metadata": {},
   "outputs": [],
   "source": [
    "def divide(a, b):\n",
    "    return a/b"
   ]
  },
  {
   "cell_type": "code",
   "execution_count": null,
   "id": "737c4fb0",
   "metadata": {},
   "outputs": [
    {
     "data": {
      "text/plain": [
       "5.0"
      ]
     },
     "metadata": {},
     "output_type": "display_data"
    }
   ],
   "source": [
    "divide(10,2)"
   ]
  },
  {
   "cell_type": "code",
   "execution_count": null,
   "id": "2818df4b",
   "metadata": {},
   "outputs": [
    {
     "data": {
      "text/plain": [
       "4.0"
      ]
     },
     "metadata": {},
     "output_type": "display_data"
    }
   ],
   "source": [
    "divide(12,3)"
   ]
  },
  {
   "cell_type": "code",
   "execution_count": null,
   "id": "a5157440",
   "metadata": {},
   "outputs": [
    {
     "ename": "ZeroDivisionError",
     "evalue": "division by zero",
     "output_type": "error",
     "traceback": [
      "\u001b[1;31m---------------------------------------------------------------------------\u001b[0m\n",
      "\u001b[1;31mZeroDivisionError\u001b[0m                         Traceback (most recent call last)\n",
      "Cell \u001b[1;32mIn[4], line 1\u001b[0m\n",
      "\u001b[1;32m----> 1\u001b[0m divide(\u001b[38;5;241m10\u001b[39m\u001b[38;5;241m/\u001b[39m\u001b[38;5;241m0\u001b[39m)\n",
      "\n",
      "\u001b[1;31mZeroDivisionError\u001b[0m: division by zero"
     ]
    }
   ],
   "source": [
    "divide(10/0)"
   ]
  },
  {
   "cell_type": "code",
   "execution_count": null,
   "id": "a633afd2",
   "metadata": {},
   "outputs": [
    {
     "name": "stdout",
     "output_type": "stream",
     "text": [
      "-1 0\n",
      "0 1\n",
      "1 2\n",
      "2 3\n",
      "3 4\n",
      "4 5\n",
      "5 6\n",
      "6 7\n",
      "7 8\n",
      "8 9\n",
      "9 10\n"
     ]
    }
   ],
   "source": [
    "for i in range(-1, 10):\n",
    "    print(i, i+1)"
   ]
  },
  {
   "cell_type": "code",
   "execution_count": null,
   "id": "e6e03760",
   "metadata": {},
   "outputs": [
    {
     "ename": "ZeroDivisionError",
     "evalue": "division by zero",
     "output_type": "error",
     "traceback": [
      "\u001b[1;31m---------------------------------------------------------------------------\u001b[0m\n",
      "\u001b[1;31mZeroDivisionError\u001b[0m                         Traceback (most recent call last)\n",
      "Cell \u001b[1;32mIn[7], line 2\u001b[0m\n",
      "\u001b[0;32m      1\u001b[0m \u001b[38;5;28;01mfor\u001b[39;00m i \u001b[38;5;129;01min\u001b[39;00m \u001b[38;5;28mrange\u001b[39m(\u001b[38;5;241m-\u001b[39m\u001b[38;5;241m10\u001b[39m, \u001b[38;5;241m10\u001b[39m):  \u001b[38;5;66;03m# not able to find where the exact error is happening\u001b[39;00m\n",
      "\u001b[1;32m----> 2\u001b[0m     divide(i, i\u001b[38;5;241m+\u001b[39m\u001b[38;5;241m1\u001b[39m)\n",
      "\n",
      "Cell \u001b[1;32mIn[1], line 2\u001b[0m, in \u001b[0;36mdivide\u001b[1;34m(a, b)\u001b[0m\n",
      "\u001b[0;32m      1\u001b[0m \u001b[38;5;28;01mdef\u001b[39;00m\u001b[38;5;250m \u001b[39m\u001b[38;5;21mdivide\u001b[39m(a, b):\n",
      "\u001b[1;32m----> 2\u001b[0m     \u001b[38;5;28;01mreturn\u001b[39;00m a\u001b[38;5;241m/\u001b[39mb\n",
      "\n",
      "\u001b[1;31mZeroDivisionError\u001b[0m: division by zero"
     ]
    }
   ],
   "source": [
    "for i in range(-10, 10):  # not able to find where the exact error is happening\n",
    "    divide(i, i+1)"
   ]
  },
  {
   "cell_type": "markdown",
   "id": "bfb7f942",
   "metadata": {},
   "source": [
    "- We debug the code for what parameter of a and b throw an error >>>> which value of a and b throw an error."
   ]
  },
  {
   "cell_type": "code",
   "execution_count": null,
   "id": "b0271280",
   "metadata": {},
   "outputs": [
    {
     "ename": "ZeroDivisionError",
     "evalue": "division by zero",
     "output_type": "error",
     "traceback": [
      "\u001b[1;31m---------------------------------------------------------------------------\u001b[0m\n",
      "\u001b[1;31mZeroDivisionError\u001b[0m                         Traceback (most recent call last)\n",
      "Cell \u001b[1;32mIn[13], line 5\u001b[0m\n",
      "\u001b[0;32m      2\u001b[0m     \u001b[38;5;28;01mreturn\u001b[39;00m a\u001b[38;5;241m/\u001b[39mb\n",
      "\u001b[0;32m      4\u001b[0m \u001b[38;5;28;01mfor\u001b[39;00m i \u001b[38;5;129;01min\u001b[39;00m \u001b[38;5;28mrange\u001b[39m(\u001b[38;5;241m-\u001b[39m\u001b[38;5;241m10\u001b[39m,\u001b[38;5;241m10\u001b[39m):\n",
      "\u001b[1;32m----> 5\u001b[0m     divide(i, i\u001b[38;5;241m+\u001b[39m\u001b[38;5;241m1\u001b[39m)\n",
      "\n",
      "Cell \u001b[1;32mIn[13], line 2\u001b[0m, in \u001b[0;36mdivide\u001b[1;34m(a, b)\u001b[0m\n",
      "\u001b[0;32m      1\u001b[0m \u001b[38;5;28;01mdef\u001b[39;00m\u001b[38;5;250m \u001b[39m\u001b[38;5;21mdivide\u001b[39m(a,b):\n",
      "\u001b[1;32m----> 2\u001b[0m     \u001b[38;5;28;01mreturn\u001b[39;00m a\u001b[38;5;241m/\u001b[39mb\n",
      "\n",
      "\u001b[1;31mZeroDivisionError\u001b[0m: division by zero"
     ]
    }
   ],
   "source": [
    "def divide(a,b):\n",
    "    return a/b\n",
    "\n",
    "for i in range(-10,10):\n",
    "    divide(i, i+1)\n",
    "\n",
    "# Breaking the code in terms of logic >> Here we understand that there are two steps involve.\n",
    "# First one is loop and second divide function in loop.\n",
    "# Now execute the code"
   ]
  },
  {
   "cell_type": "code",
   "execution_count": null,
   "id": "5c1f087c",
   "metadata": {},
   "outputs": [
    {
     "name": "stdout",
     "output_type": "stream",
     "text": [
      "-10 -9\n",
      "-9 -8\n",
      "-8 -7\n",
      "-7 -6\n",
      "-6 -5\n",
      "-5 -4\n",
      "-4 -3\n",
      "-3 -2\n",
      "-2 -1\n",
      "-1 0\n"
     ]
    },
    {
     "ename": "ZeroDivisionError",
     "evalue": "division by zero",
     "output_type": "error",
     "traceback": [
      "\u001b[1;31m---------------------------------------------------------------------------\u001b[0m\n",
      "\u001b[1;31mZeroDivisionError\u001b[0m                         Traceback (most recent call last)\n",
      "Cell \u001b[1;32mIn[14], line 7\u001b[0m\n",
      "\u001b[0;32m      5\u001b[0m \u001b[38;5;28;01mfor\u001b[39;00m i \u001b[38;5;129;01min\u001b[39;00m \u001b[38;5;28mrange\u001b[39m(\u001b[38;5;241m-\u001b[39m\u001b[38;5;241m10\u001b[39m,\u001b[38;5;241m10\u001b[39m):\n",
      "\u001b[0;32m      6\u001b[0m     \u001b[38;5;28mprint\u001b[39m(i, i\u001b[38;5;241m+\u001b[39m\u001b[38;5;241m1\u001b[39m) \u001b[38;5;66;03m# using print statement here  we can get at which parameter of a and b the error occured\u001b[39;00m\n",
      "\u001b[1;32m----> 7\u001b[0m     divide(i, i\u001b[38;5;241m+\u001b[39m\u001b[38;5;241m1\u001b[39m)\n",
      "\n",
      "Cell \u001b[1;32mIn[14], line 3\u001b[0m, in \u001b[0;36mdivide\u001b[1;34m(a, b)\u001b[0m\n",
      "\u001b[0;32m      2\u001b[0m \u001b[38;5;28;01mdef\u001b[39;00m\u001b[38;5;250m \u001b[39m\u001b[38;5;21mdivide\u001b[39m(a,b):\n",
      "\u001b[1;32m----> 3\u001b[0m     \u001b[38;5;28;01mreturn\u001b[39;00m a\u001b[38;5;241m/\u001b[39mb\n",
      "\n",
      "\u001b[1;31mZeroDivisionError\u001b[0m: division by zero"
     ]
    }
   ],
   "source": [
    "# Using print statement to debug\n",
    "def divide(a,b):\n",
    "    return a/b\n",
    "\n",
    "for i in range(-10,10):\n",
    "    print(i, i+1) # using print statement here  we can get at which parameter of a and b the error occured\n",
    "    divide(i, i+1)"
   ]
  },
  {
   "cell_type": "code",
   "execution_count": null,
   "id": "fa3355fe",
   "metadata": {},
   "outputs": [
    {
     "name": "stdout",
     "output_type": "stream",
     "text": [
      "-10 -9\n",
      "-10 -9\n",
      "-9 -8\n",
      "-9 -8\n",
      "-8 -7\n",
      "-8 -7\n",
      "-7 -6\n",
      "-7 -6\n",
      "-6 -5\n",
      "-6 -5\n",
      "-5 -4\n",
      "-5 -4\n",
      "-4 -3\n",
      "-4 -3\n",
      "-3 -2\n",
      "-3 -2\n",
      "-2 -1\n",
      "-2 -1\n",
      "-1 0\n",
      "-1 0\n"
     ]
    },
    {
     "ename": "ZeroDivisionError",
     "evalue": "division by zero",
     "output_type": "error",
     "traceback": [
      "\u001b[1;31m---------------------------------------------------------------------------\u001b[0m\n",
      "\u001b[1;31mZeroDivisionError\u001b[0m                         Traceback (most recent call last)\n",
      "Cell \u001b[1;32mIn[15], line 8\u001b[0m\n",
      "\u001b[0;32m      6\u001b[0m \u001b[38;5;28;01mfor\u001b[39;00m i \u001b[38;5;129;01min\u001b[39;00m \u001b[38;5;28mrange\u001b[39m(\u001b[38;5;241m-\u001b[39m\u001b[38;5;241m10\u001b[39m,\u001b[38;5;241m10\u001b[39m):\n",
      "\u001b[0;32m      7\u001b[0m     \u001b[38;5;28mprint\u001b[39m(i, i\u001b[38;5;241m+\u001b[39m\u001b[38;5;241m1\u001b[39m) \n",
      "\u001b[1;32m----> 8\u001b[0m     divide(i, i\u001b[38;5;241m+\u001b[39m\u001b[38;5;241m1\u001b[39m)\n",
      "\n",
      "Cell \u001b[1;32mIn[15], line 4\u001b[0m, in \u001b[0;36mdivide\u001b[1;34m(a, b)\u001b[0m\n",
      "\u001b[0;32m      2\u001b[0m \u001b[38;5;28;01mdef\u001b[39;00m\u001b[38;5;250m \u001b[39m\u001b[38;5;21mdivide\u001b[39m(a,b):\n",
      "\u001b[0;32m      3\u001b[0m     \u001b[38;5;28mprint\u001b[39m(a, b)\n",
      "\u001b[1;32m----> 4\u001b[0m     \u001b[38;5;28;01mreturn\u001b[39;00m a\u001b[38;5;241m/\u001b[39mb\n",
      "\n",
      "\u001b[1;31mZeroDivisionError\u001b[0m: division by zero"
     ]
    }
   ],
   "source": [
    "# Using another print statement inside functions\n",
    "def divide(a,b):\n",
    "    print(a, b)\n",
    "    return a/b\n",
    "\n",
    "for i in range(-10,10):\n",
    "    print(i, i+1) \n",
    "    divide(i, i+1)"
   ]
  },
  {
   "cell_type": "markdown",
   "id": "24961e12",
   "metadata": {},
   "source": [
    "- Now from print staement we see that when b = 0 it hrow an error."
   ]
  },
  {
   "cell_type": "code",
   "execution_count": null,
   "id": "76964901",
   "metadata": {},
   "outputs": [
    {
     "name": "stdout",
     "output_type": "stream",
     "text": [
      "-10 -9\n",
      "-9 -8\n",
      "-8 -7\n",
      "-7 -6\n",
      "-6 -5\n",
      "-5 -4\n",
      "-4 -3\n",
      "-3 -2\n",
      "-2 -1\n",
      "-1 0\n",
      "Zero Division Error\n",
      "0 1\n",
      "1 2\n",
      "2 3\n",
      "3 4\n",
      "4 5\n",
      "5 6\n",
      "6 7\n",
      "7 8\n",
      "8 9\n",
      "9 10\n"
     ]
    }
   ],
   "source": [
    "def divide(a,b):\n",
    "    print(a, b)\n",
    "# breaking the code in terms of execution.\n",
    "    if b == 0:\n",
    "        print(\"Zero Division Error\")\n",
    "        return\n",
    "    return a/b\n",
    "\n",
    "for i in range(-10,10):\n",
    "    #print(i, i+1) \n",
    "    divide(i, i+1)"
   ]
  },
  {
   "cell_type": "markdown",
   "id": "8074d2d8",
   "metadata": {},
   "source": [
    "- print statement is not the pythonic way to debug >> Its not best practice in python to write print statement."
   ]
  },
  {
   "cell_type": "markdown",
   "id": "66367aed",
   "metadata": {},
   "source": [
    "- print statement is good for simple script not for complex as it is not efficient.\n",
    "- When we execute the code through terminal or console all the print statements will be lost."
   ]
  },
  {
   "cell_type": "markdown",
   "id": "302d5f8a",
   "metadata": {},
   "source": [
    "- In this case, we use logging instead of print statement. \n",
    "- Logging is best practice in debugging in python"
   ]
  },
  {
   "cell_type": "markdown",
   "id": "386a5a99",
   "metadata": {},
   "source": [
    "# Logging"
   ]
  },
  {
   "cell_type": "markdown",
   "id": "e6929186",
   "metadata": {},
   "source": [
    "- It records the state and flow of your program/code/software.\n",
    "- It is useful for understanding , monitoring and debugging of the code.\n",
    "- It shows how program behaves over time."
   ]
  },
  {
   "cell_type": "markdown",
   "id": "02d5dcab",
   "metadata": {},
   "source": [
    "*Analogy*\n",
    "- Diary entry since childhood to now. After 25 year if you read diary entry you will be able to know how thought process evolved and how your personality evolved. You will get to know the flow of your thought.\n",
    "\n",
    "- Similary in complex script, to understand, how your code is changing the result over the time, you can log the specific states."
   ]
  },
  {
   "cell_type": "markdown",
   "id": "04433f08",
   "metadata": {},
   "source": [
    "- At any stage, if you want to see the result, use logging instead of print statement."
   ]
  },
  {
   "cell_type": "markdown",
   "id": "29fe342a",
   "metadata": {},
   "source": [
    "*Theoretical Use Case*\n",
    "- See the different steps of coding below.\n",
    "1. Remove some element of list\n",
    "2. Capitalize\n",
    "3. Remove metropolitan city\n",
    "5. lower case.\n",
    "\n",
    "- If after step 3 the list become empty, step 4 can throw error, so you can log the result of step 3 to debug."
   ]
  },
  {
   "cell_type": "markdown",
   "id": "31bd8460",
   "metadata": {},
   "source": [
    "- Logging supports different levels of logging which helps to categories messages based on the severity."
   ]
  },
  {
   "cell_type": "code",
   "execution_count": null,
   "id": "0af4ddb7",
   "metadata": {},
   "outputs": [],
   "source": [
    "import logging"
   ]
  },
  {
   "cell_type": "markdown",
   "id": "a3733c81",
   "metadata": {},
   "source": [
    "- module called logging in python is available"
   ]
  },
  {
   "cell_type": "code",
   "execution_count": null,
   "id": "0d44c9b9",
   "metadata": {},
   "outputs": [],
   "source": [
    "logging.basicConfig(filename= 'test.log', level= logging.INFO)"
   ]
  },
  {
   "cell_type": "code",
   "execution_count": null,
   "id": "91194bc1",
   "metadata": {},
   "outputs": [],
   "source": [
    "logging.info(\"This is my normal information about software..\")"
   ]
  },
  {
   "cell_type": "code",
   "execution_count": null,
   "id": "3e478d46",
   "metadata": {},
   "outputs": [],
   "source": [
    "logging.warning(\"There can be empty list here.\")"
   ]
  },
  {
   "cell_type": "code",
   "execution_count": null,
   "id": "169d6a11",
   "metadata": {},
   "outputs": [],
   "source": [
    "logging.debug(\"The length of list is \")"
   ]
  },
  {
   "cell_type": "code",
   "execution_count": null,
   "id": "e3571149",
   "metadata": {},
   "outputs": [],
   "source": [
    "logging.error(\"Some error has happened \")"
   ]
  },
  {
   "cell_type": "code",
   "execution_count": null,
   "id": "b43968b6",
   "metadata": {},
   "outputs": [],
   "source": [
    "logging.critical(\"Software has stopped running.\")"
   ]
  },
  {
   "cell_type": "code",
   "execution_count": null,
   "id": "fe0bbbbe",
   "metadata": {},
   "outputs": [],
   "source": [
    "logging.shutdown()"
   ]
  },
  {
   "cell_type": "markdown",
   "id": "f4b14880",
   "metadata": {},
   "source": [
    "- Here warning, error, critical , etc are labels\n",
    "- in log file we dont have debug option."
   ]
  },
  {
   "cell_type": "markdown",
   "id": "1e8943f4",
   "metadata": {},
   "source": [
    "### DEBUG"
   ]
  },
  {
   "cell_type": "markdown",
   "id": "bd4b1c52",
   "metadata": {},
   "source": [
    "- Lowest level of logging.\n",
    "- Used to give detailed info of any anything. \n",
    "- Or to give any messages."
   ]
  },
  {
   "cell_type": "markdown",
   "id": "b3bd8194",
   "metadata": {},
   "source": [
    "### INFO"
   ]
  },
  {
   "cell_type": "markdown",
   "id": "15a4f74d",
   "metadata": {},
   "source": [
    "- Used to convey that the code is working as expected.\n",
    "_Examples_\n",
    "- \"Data analysis is completed\""
   ]
  },
  {
   "cell_type": "markdown",
   "id": "9b6e2e70",
   "metadata": {},
   "source": [
    "### WARNING"
   ]
  },
  {
   "cell_type": "markdown",
   "id": "7805d067",
   "metadata": {},
   "source": [
    "- Used to indicate something unexpected happens or potential issue in the code."
   ]
  },
  {
   "cell_type": "markdown",
   "id": "a93d59bf",
   "metadata": {},
   "source": [
    "### ERROR"
   ]
  },
  {
   "cell_type": "markdown",
   "id": "7e04a68f",
   "metadata": {},
   "source": [
    "- Serious problem with some functions"
   ]
  },
  {
   "cell_type": "markdown",
   "id": "0ad13c4c",
   "metadata": {},
   "source": [
    "### CRITICAL"
   ]
  },
  {
   "cell_type": "markdown",
   "id": "9438c4f8",
   "metadata": {},
   "source": [
    "- Highest debug level, extremely serious error.\n",
    "- Termination of program, code, software."
   ]
  },
  {
   "cell_type": "markdown",
   "id": "55705780",
   "metadata": {},
   "source": [
    "The above level of logging is executed in the same order.\n",
    "- Priority wise we have :\n",
    "Critical >> Error >> Warning >> Info >> Debug\n"
   ]
  },
  {
   "cell_type": "markdown",
   "id": "f22763a0",
   "metadata": {},
   "source": [
    "- While defining level in logging.basicConfig, from that level the logs will be logged\n",
    "\n",
    "- it means if we set a level warning in logging.basicConfig, then level below warning i.e. info and debug will be neglected.\n",
    "- Log level priority will start from that level which is used to initialise the logging."
   ]
  },
  {
   "cell_type": "code",
   "execution_count": null,
   "id": "4c20b74f",
   "metadata": {},
   "outputs": [],
   "source": [
    "import logging\n",
    "logging.basicConfig(filename = \"test_new.log\", level= logging.DEBUG, format= '%(asctime)s %(message)s')"
   ]
  },
  {
   "cell_type": "markdown",
   "id": "0b76df9e",
   "metadata": {},
   "source": [
    "- Restart the kernel"
   ]
  },
  {
   "cell_type": "code",
   "execution_count": null,
   "id": "3ec2633e",
   "metadata": {},
   "outputs": [],
   "source": [
    "logging.debug(\"This msg is for debugging..\")\n",
    "logging.info(\"This is info msg..\")\n",
    "logging.warning(\"This is warning msg..\")\n",
    "logging.shutdown()"
   ]
  },
  {
   "cell_type": "markdown",
   "id": "ec24786c",
   "metadata": {},
   "source": [
    "- In above no level is mentioned in test_new.log"
   ]
  },
  {
   "cell_type": "code",
   "execution_count": null,
   "id": "914d9195",
   "metadata": {},
   "outputs": [],
   "source": [
    "import logging\n",
    "logging.basicConfig(filename = \"test_new1.log\", level= logging.DEBUG, format= '%(asctime)s %(levelname)s %(message)s')\n",
    "\n",
    "logging.debug(\"This msg is for debugging..\")\n",
    "logging.info(\"This is info msg..\")\n",
    "logging.warning(\"This is warning msg..\")\n",
    "logging.shutdown()"
   ]
  },
  {
   "cell_type": "markdown",
   "id": "673f6ab3",
   "metadata": {},
   "source": [
    "### Use Case "
   ]
  },
  {
   "cell_type": "code",
   "execution_count": null,
   "id": "f7214528",
   "metadata": {},
   "outputs": [],
   "source": [
    "import logging\n",
    "logging.basicConfig(filename= \"Program.log\", level= logging.DEBUG, format = '%(asctime)s %(levelname)s %(message)s')"
   ]
  },
  {
   "cell_type": "markdown",
   "id": "cb6358e1",
   "metadata": {},
   "source": [
    "- Write a program to seperate the integer and string in two list seperately.\n",
    "- l = [1, \"Hello\", [2, \"world\"], 4, [3, \"Python\"]]"
   ]
  },
  {
   "cell_type": "code",
   "execution_count": null,
   "id": "f9bee778",
   "metadata": {},
   "outputs": [
    {
     "data": {
      "text/plain": [
       "<function logging.shutdown(handlerList=[<weakref at 0x000001F51F2EB470; to 'logging.StreamHandler' at 0x000001F51F247230>, <weakref at 0x000001F51F31FD80; to 'logging.StreamHandler' at 0x000001F51D486FD0>, <weakref at 0x000001F520ADFB00; to 'logging.FileHandler' at 0x000001F520997CB0>])>"
      ]
     },
     "metadata": {},
     "output_type": "display_data"
    }
   ],
   "source": [
    "l = [1, \"Hello\", [2, \"world\"], 4, [3, \"Python\"]]\n",
    "l1_int = []\n",
    "l2_str = []\n",
    "\n",
    "for i in l:\n",
    "    logging.info(f\"Processing each elements of list = {i}\")\n",
    "\n",
    "    if type(i) == list:\n",
    "        for j in i:\n",
    "            logging.info(f\"Processing sublist elements of list = {j}\")\n",
    "            if type(j) == int:\n",
    "                l1_int.append(j)\n",
    "    elif type(i) == int:\n",
    "        l1_int.append(i)\n",
    "    else:\n",
    "        l2_str.append(i)\n",
    "logging.info(f\"The result is : {l1_int} , {l2_str}\")\n",
    "logging.shutdown"
   ]
  },
  {
   "cell_type": "markdown",
   "id": "894322ac",
   "metadata": {},
   "source": []
  },
  {
   "cell_type": "code",
   "execution_count": null,
   "id": "5aa2d130",
   "metadata": {},
   "outputs": [],
   "source": []
  }
 ],
 "metadata": {
  "language_info": {
   "name": "python"
  }
 },
 "nbformat": 4,
 "nbformat_minor": 5
}
