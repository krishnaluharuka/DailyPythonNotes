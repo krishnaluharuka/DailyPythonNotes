{
 "cells": [
  {
   "cell_type": "markdown",
   "id": "428fbb9f",
   "metadata": {},
   "source": [
    "INTRODUCTION"
   ]
  },
  {
   "cell_type": "markdown",
   "id": "3128f227",
   "metadata": {},
   "source": [
    "## Interpreted Language"
   ]
  },
  {
   "cell_type": "markdown",
   "id": "c652b8b4",
   "metadata": {},
   "source": [
    "Source Code -----> ByteCode ------> Output"
   ]
  },
  {
   "cell_type": "markdown",
   "id": "e34e0b41",
   "metadata": {},
   "source": [
    "- Code is executed line by line.\n",
    "- Executed directly without a seperate compilation step to convert into machine code."
   ]
  },
  {
   "cell_type": "markdown",
   "id": "cc6dbf1d",
   "metadata": {},
   "source": [
    "_Example_\n",
    "1. Python (Uses mix of interpretation and compilation but often categorised as Interpreted language)"
   ]
  },
  {
   "cell_type": "markdown",
   "id": "0a62553e",
   "metadata": {},
   "source": [
    "_How_\n",
    "- Python interpretor first compiles the code to bytecode(lower level, plateform independent representation of code.)\n",
    "- Then this bytecode is executed by Python Virtual Machine (PVM).\n",
    "\n",
    "_Python Steps_\n",
    "1. Source Code (script.py) - Human readable source code\n",
    "2. Python interpretor translates the source code into byte code.\n",
    "- This make python an interpretor language.\n",
    "- This bytecode is a set of instructions that are more abstract than machine code and is designed for PVM.\n",
    "3. Execution by PVM."
   ]
  },
  {
   "cell_type": "markdown",
   "id": "3f87fa85",
   "metadata": {},
   "source": [
    "![image.png](attachment:image.png)"
   ]
  },
  {
   "cell_type": "markdown",
   "id": "749786aa",
   "metadata": {},
   "source": [
    "## Compiled Language"
   ]
  },
  {
   "cell_type": "markdown",
   "id": "77cc87c1",
   "metadata": {},
   "source": [
    "Source Code -----> Compiler ------> Execution-------> Output"
   ]
  },
  {
   "cell_type": "markdown",
   "id": "78ce70f6",
   "metadata": {},
   "source": [
    "- To Compile <<< We need a COMPILER.\n",
    "- Source code is transformed into Machine Code by compiler \n",
    "- Machine code >> Byte code >> that can be understood by machine (CPU).\n"
   ]
  },
  {
   "cell_type": "markdown",
   "id": "4148d7c1",
   "metadata": {},
   "source": [
    "_Examples_\n",
    "1. C\n",
    "2. C++\n",
    "3. Swift\n",
    "4. C# (C-Sharp)\n",
    "5. Java is both (Interpreted + Compiled)"
   ]
  },
  {
   "cell_type": "markdown",
   "id": "e948f5ea",
   "metadata": {},
   "source": [
    "# Module"
   ]
  },
  {
   "cell_type": "markdown",
   "id": "9226593c",
   "metadata": {},
   "source": [
    "- Each scripts we created as single file with .py extenxion is called MODULE.\n",
    "- Inside module >> There can be functions, class, variables or some python code"
   ]
  },
  {
   "cell_type": "markdown",
   "id": "00000f14",
   "metadata": {},
   "source": [
    "# Packages"
   ]
  },
  {
   "cell_type": "markdown",
   "id": "a7b3927c",
   "metadata": {},
   "source": [
    "- Collection of modules organised in directory.\n",
    "- Each directory can have multiple python scripts."
   ]
  },
  {
   "cell_type": "markdown",
   "id": "f673140a",
   "metadata": {},
   "source": [
    "- Versions before python3.3 to make a package it was necessary to include __init__.py to initialize the package and expose required module and functions But not required any more."
   ]
  },
  {
   "cell_type": "markdown",
   "id": "605bfc08",
   "metadata": {},
   "source": [
    "# Library"
   ]
  },
  {
   "cell_type": "markdown",
   "id": "ce24a52f",
   "metadata": {},
   "source": [
    "- Collection of pre-written code to perform common tasks\n",
    "- Collection of multiple packages and modules"
   ]
  },
  {
   "cell_type": "markdown",
   "id": "3af2980f",
   "metadata": {},
   "source": []
  }
 ],
 "metadata": {
  "language_info": {
   "name": "python"
  }
 },
 "nbformat": 4,
 "nbformat_minor": 5
}
