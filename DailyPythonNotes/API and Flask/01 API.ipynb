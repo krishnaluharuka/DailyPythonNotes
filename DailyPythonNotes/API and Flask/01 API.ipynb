{
 "cells": [
  {
   "cell_type": "markdown",
   "id": "ffe62220",
   "metadata": {},
   "source": [
    "# Introduction on API"
   ]
  },
  {
   "cell_type": "markdown",
   "id": "f8e7cfbb",
   "metadata": {},
   "source": [
    "## What is API?"
   ]
  },
  {
   "cell_type": "markdown",
   "id": "6f90feda",
   "metadata": {},
   "source": [
    "API stands for Application Programming Interface.\n",
    "\n",
    "\n",
    "*Think of it as a menu in a restaurant:*\n",
    "\n",
    "- You (the user) don’t enter the kitchen.\n",
    "\n",
    "- You just look at the menu (the API’s documentation).\n",
    "\n",
    "- You place an order (send a request).\n",
    "\n",
    "- The kitchen (the system/server) sends back your food (the response).\n",
    "\n",
    "\n",
    "*You don’t care how they cook it—just that it’s correct and on time.*"
   ]
  },
  {
   "cell_type": "markdown",
   "id": "2247d16d",
   "metadata": {},
   "source": [
    "## Why APIs Exist?"
   ]
  },
  {
   "cell_type": "markdown",
   "id": "96287f23",
   "metadata": {},
   "source": [
    "**Without APIs, apps would have to:**\n",
    "\n",
    "- Directly read/write another app’s internal data → risky and messy.\n",
    "\n",
    "- Be manually integrated every time → time-consuming.\n",
    "\n",
    "**With APIs:**\n",
    "\n",
    "- Developers use pre-defined rules to communicate.\n",
    "\n",
    "- Apps can talk without exposing their internals.\n",
    "\n",
    "**Example:**\n",
    "\n",
    "- Your weather app doesn’t have satellites—it calls a weather API for data.\n",
    "\n",
    "- Instagram uses APIs to let you log in with Google or Facebook."
   ]
  },
  {
   "cell_type": "markdown",
   "id": "80d9bac5",
   "metadata": {},
   "source": [
    "## 3. Types of APIs\n",
    "\n",
    "| **Type**         | **Purpose**                          | **Example**                |\n",
    "|------------------|--------------------------------------|-----------------------------|\n",
    "| **Open/Public**  | Accessible to anyone with permission | OpenWeather API             |\n",
    "| **Private**      | Internal use for a company           | Internal HR API             |\n",
    "| **Partner**      | Shared with specific partners        | Paytm–Bank integrations     |\n",
    "| **Composite**    | Combines multiple APIs               | E-commerce checkout APIs    |\n",
    "\n",
    "\n",
    "---\n",
    "\n",
    "## 4. How APIs Work (Step-by-Step)\n",
    "\n",
    "Example: A food delivery app fetching restaurants nearby.\n",
    "\n",
    "1. **Request** → App sends:  \n",
    "\n",
    "GET /restaurants?location=Delhi\n",
    "\n",
    "\n",
    "2. **Server processes** → Looks up the restaurants.\n",
    "\n",
    "3. **Response** → Sends JSON data back:  \n",
    "```json\n",
    "[\n",
    "  {\"name\": \"Pizza Palace\", \"rating\": 4.5},\n",
    "  {\"name\": \"Biryani Hub\", \"rating\": 4.2}\n",
    "]\n"
   ]
  },
  {
   "cell_type": "markdown",
   "id": "1eda9cce",
   "metadata": {},
   "source": [
    "## Common API Protocols"
   ]
  },
  {
   "cell_type": "markdown",
   "id": "0382673d",
   "metadata": {},
   "source": [
    "`REST API` → Most common. Uses HTTP, works with JSON. Simple & scalable.\n",
    "\n",
    "`SOAP API` → Older, XML-based. Strict rules.\n",
    "\n",
    "`GraphQL API` → Lets you ask exactly for the data you need.\n",
    "\n",
    "`WebSocket API` → Real-time communication (e.g., chats, live scores)."
   ]
  },
  {
   "cell_type": "markdown",
   "id": "03402c72",
   "metadata": {},
   "source": [
    "## HTTP Methods un APIs"
   ]
  },
  {
   "cell_type": "markdown",
   "id": "acd7a4eb",
   "metadata": {},
   "source": [
    "| **Method** | **Purpose**   | **Example**         |\n",
    "| ---------- | ------------- | ------------------- |\n",
    "| `GET`      | Fetch data    | Get user profile    |\n",
    "| `POST`     | Send new data | Create new order    |\n",
    "| `PUT`      | Update data   | Update profile info |\n",
    "| `DELETE`   | Remove data   | Delete account      |\n"
   ]
  },
  {
   "cell_type": "markdown",
   "id": "83d4357e",
   "metadata": {},
   "source": [
    "## Popular Real Worlds APIs"
   ]
  },
  {
   "cell_type": "markdown",
   "id": "f2c68373",
   "metadata": {},
   "source": [
    "`Google Maps API` → Location & routes.\n",
    "\n",
    "`Spotify API` → Music playlists.\n",
    "\n",
    "`Twitter API` → Tweets & analytics.\n",
    "\n",
    "`Razorpay API` → Payment processing."
   ]
  },
  {
   "cell_type": "markdown",
   "id": "b1c89f10",
   "metadata": {},
   "source": [
    "## How you use APIs in Python?"
   ]
  },
  {
   "cell_type": "markdown",
   "id": "cde21086",
   "metadata": {},
   "source": [
    "```python\n",
    "import requests\n",
    "\n",
    "url = \"https://api.openweathermap.org/data/2.5/weather\"\n",
    "params = {\"q\": \"Delhi\", \"appid\": \"YOUR_API_KEY\"}\n",
    "\n",
    "response = requests.get(url, params=params)\n",
    "data = response.json()\n",
    "\n",
    "print(data)\n",
    "```"
   ]
  },
  {
   "cell_type": "markdown",
   "id": "e2fcf4b8",
   "metadata": {},
   "source": [
    "`requests.get()` → makes an API request.\n",
    "\n",
    "`params` → sends extra info (like city name, API key).\n",
    "\n",
    "`.json()` → converts the API’s response into Python-readable format."
   ]
  },
  {
   "cell_type": "markdown",
   "id": "4be81fc4",
   "metadata": {},
   "source": [
    "## When You’ll Need APIs as a Data Scientist?"
   ]
  },
  {
   "cell_type": "markdown",
   "id": "532cf6a3",
   "metadata": {},
   "source": [
    "- Fetching real-time data (weather, stock prices, news).\n",
    "\n",
    "- Pulling data from databases or SaaS tools (Google Sheets API, Twitter API).\n",
    "\n",
    "- Building your own model as an API for others to use.\n",
    "\n",
    "- Automating tasks across platforms."
   ]
  },
  {
   "cell_type": "code",
   "execution_count": null,
   "id": "3722f2db",
   "metadata": {},
   "outputs": [],
   "source": []
  }
 ],
 "metadata": {
  "kernelspec": {
   "display_name": "Python 3",
   "language": "python",
   "name": "python3"
  },
  "language_info": {
   "codemirror_mode": {
    "name": "ipython",
    "version": 3
   },
   "file_extension": ".py",
   "mimetype": "text/x-python",
   "name": "python",
   "nbconvert_exporter": "python",
   "pygments_lexer": "ipython3",
   "version": "3.11.9"
  }
 },
 "nbformat": 4,
 "nbformat_minor": 5
}
