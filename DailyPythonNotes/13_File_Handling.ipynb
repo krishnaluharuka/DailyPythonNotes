{
 "cells": [
  {
   "cell_type": "markdown",
   "id": "ef3e5620",
   "metadata": {},
   "source": [
    "# Files Handling"
   ]
  },
  {
   "cell_type": "markdown",
   "id": "025ab4b0",
   "metadata": {},
   "source": [
    "## Mode"
   ]
  },
  {
   "cell_type": "markdown",
   "id": "4885a396",
   "metadata": {},
   "source": [
    "- r : read mode\n",
    "- w : write mode\n",
    "- a : append mode\n",
    "- t : text mode\n",
    "- r+ : both reading and writing"
   ]
  },
  {
   "cell_type": "markdown",
   "id": "ea9aed5a",
   "metadata": {},
   "source": [
    "Lets create a file and then read it"
   ]
  },
  {
   "cell_type": "code",
   "execution_count": null,
   "id": "b187fbfc",
   "metadata": {},
   "outputs": [
    {
     "ename": "FileNotFoundError",
     "evalue": "[Errno 2] No such file or directory: 'files.txt'",
     "output_type": "error",
     "traceback": [
      "\u001b[1;31m---------------------------------------------------------------------------\u001b[0m\n",
      "\u001b[1;31mFileNotFoundError\u001b[0m                         Traceback (most recent call last)\n",
      "Cell \u001b[1;32mIn[2], line 1\u001b[0m\n",
      "\u001b[1;32m----> 1\u001b[0m file \u001b[38;5;241m=\u001b[39m \u001b[38;5;28mopen\u001b[39m(\u001b[38;5;124m\"\u001b[39m\u001b[38;5;124mfiles.txt\u001b[39m\u001b[38;5;124m\"\u001b[39m, \u001b[38;5;124m\"\u001b[39m\u001b[38;5;124mr\u001b[39m\u001b[38;5;124m\"\u001b[39m)\n",
      "\n",
      "File \u001b[1;32mc:\\Users\\DAV BABA\\anaconda3\\Lib\\site-packages\\IPython\\core\\interactiveshell.py:324\u001b[0m, in \u001b[0;36m_modified_open\u001b[1;34m(file, *args, **kwargs)\u001b[0m\n",
      "\u001b[0;32m    317\u001b[0m \u001b[38;5;28;01mif\u001b[39;00m file \u001b[38;5;129;01min\u001b[39;00m {\u001b[38;5;241m0\u001b[39m, \u001b[38;5;241m1\u001b[39m, \u001b[38;5;241m2\u001b[39m}:\n",
      "\u001b[0;32m    318\u001b[0m     \u001b[38;5;28;01mraise\u001b[39;00m \u001b[38;5;167;01mValueError\u001b[39;00m(\n",
      "\u001b[0;32m    319\u001b[0m         \u001b[38;5;124mf\u001b[39m\u001b[38;5;124m\"\u001b[39m\u001b[38;5;124mIPython won\u001b[39m\u001b[38;5;124m'\u001b[39m\u001b[38;5;124mt let you open fd=\u001b[39m\u001b[38;5;132;01m{\u001b[39;00mfile\u001b[38;5;132;01m}\u001b[39;00m\u001b[38;5;124m by default \u001b[39m\u001b[38;5;124m\"\u001b[39m\n",
      "\u001b[0;32m    320\u001b[0m         \u001b[38;5;124m\"\u001b[39m\u001b[38;5;124mas it is likely to crash IPython. If you know what you are doing, \u001b[39m\u001b[38;5;124m\"\u001b[39m\n",
      "\u001b[0;32m    321\u001b[0m         \u001b[38;5;124m\"\u001b[39m\u001b[38;5;124myou can use builtins\u001b[39m\u001b[38;5;124m'\u001b[39m\u001b[38;5;124m open.\u001b[39m\u001b[38;5;124m\"\u001b[39m\n",
      "\u001b[0;32m    322\u001b[0m     )\n",
      "\u001b[1;32m--> 324\u001b[0m \u001b[38;5;28;01mreturn\u001b[39;00m io_open(file, \u001b[38;5;241m*\u001b[39margs, \u001b[38;5;241m*\u001b[39m\u001b[38;5;241m*\u001b[39mkwargs)\n",
      "\n",
      "\u001b[1;31mFileNotFoundError\u001b[0m: [Errno 2] No such file or directory: 'files.txt'"
     ]
    }
   ],
   "source": [
    "file = open(\"files.txt\", \"r\") # throw an error because no files.txt file found"
   ]
  },
  {
   "cell_type": "code",
   "execution_count": null,
   "id": "dc555b7c",
   "metadata": {},
   "outputs": [],
   "source": [
    "file = open(\"file.txt\", \"w\") # if a file is not there it will create a file and then read it"
   ]
  },
  {
   "cell_type": "code",
   "execution_count": null,
   "id": "7d7a4d66",
   "metadata": {},
   "outputs": [
    {
     "data": {
      "text/plain": [
       "44"
      ]
     },
     "metadata": {},
     "output_type": "display_data"
    }
   ],
   "source": [
    "file.write(\"Hello... This is my first line in text file.\") # output = No. of bytes we written"
   ]
  },
  {
   "cell_type": "markdown",
   "id": "062de6fc",
   "metadata": {},
   "source": [
    "As of now if we open written file we will not able to see above text in file.txt because whatever we written is in th right mode.\n",
    "- To see we have to close the file by file.close()"
   ]
  },
  {
   "cell_type": "code",
   "execution_count": null,
   "id": "7e3ea590",
   "metadata": {},
   "outputs": [],
   "source": [
    "file.close()"
   ]
  },
  {
   "cell_type": "code",
   "execution_count": null,
   "id": "391e7ff0",
   "metadata": {},
   "outputs": [
    {
     "data": {
      "text/plain": [
       "<_io.TextIOWrapper name='file.txt' mode='w' encoding='utf-8'>"
      ]
     },
     "metadata": {},
     "output_type": "display_data"
    }
   ],
   "source": [
    "file"
   ]
  },
  {
   "cell_type": "markdown",
   "id": "1285a86a",
   "metadata": {},
   "source": [
    "here file is object and we have some attributes associated wiith object"
   ]
  },
  {
   "cell_type": "code",
   "execution_count": null,
   "id": "dbcf4b51",
   "metadata": {},
   "outputs": [
    {
     "data": {
      "text/plain": [
       "True"
      ]
     },
     "metadata": {},
     "output_type": "display_data"
    }
   ],
   "source": [
    "file.closed # if file is closed it will return True otherwise False"
   ]
  },
  {
   "cell_type": "code",
   "execution_count": null,
   "id": "14711ffc",
   "metadata": {},
   "outputs": [],
   "source": [
    "file = open(\"file.txt\",\"r\")"
   ]
  },
  {
   "cell_type": "code",
   "execution_count": null,
   "id": "fd7219aa",
   "metadata": {},
   "outputs": [
    {
     "data": {
      "text/plain": [
       "False"
      ]
     },
     "metadata": {},
     "output_type": "display_data"
    }
   ],
   "source": [
    "file.closed"
   ]
  },
  {
   "cell_type": "code",
   "execution_count": null,
   "id": "d80a2d99",
   "metadata": {},
   "outputs": [],
   "source": [
    "file.close()"
   ]
  },
  {
   "cell_type": "code",
   "execution_count": null,
   "id": "f19827aa",
   "metadata": {},
   "outputs": [
    {
     "data": {
      "text/plain": [
       "True"
      ]
     },
     "metadata": {},
     "output_type": "display_data"
    }
   ],
   "source": [
    "file.closed"
   ]
  },
  {
   "cell_type": "code",
   "execution_count": null,
   "id": "a0844a8a",
   "metadata": {},
   "outputs": [
    {
     "data": {
      "text/plain": [
       "'file.txt'"
      ]
     },
     "metadata": {},
     "output_type": "display_data"
    }
   ],
   "source": [
    "file.name"
   ]
  },
  {
   "cell_type": "code",
   "execution_count": null,
   "id": "3d18567b",
   "metadata": {},
   "outputs": [
    {
     "data": {
      "text/plain": [
       "'r'"
      ]
     },
     "metadata": {},
     "output_type": "display_data"
    }
   ],
   "source": [
    "file.mode"
   ]
  },
  {
   "cell_type": "code",
   "execution_count": null,
   "id": "c6c615b4",
   "metadata": {},
   "outputs": [
    {
     "ename": "ValueError",
     "evalue": "I/O operation on closed file.",
     "output_type": "error",
     "traceback": [
      "\u001b[1;31m---------------------------------------------------------------------------\u001b[0m\n",
      "\u001b[1;31mValueError\u001b[0m                                Traceback (most recent call last)\n",
      "Cell \u001b[1;32mIn[14], line 1\u001b[0m\n",
      "\u001b[1;32m----> 1\u001b[0m file\u001b[38;5;241m.\u001b[39mwrite(\u001b[38;5;124m\"\u001b[39m\u001b[38;5;124mThis is my second line\u001b[39m\u001b[38;5;124m\"\u001b[39m)\n",
      "\n",
      "\u001b[1;31mValueError\u001b[0m: I/O operation on closed file."
     ]
    }
   ],
   "source": [
    "file.write(\"This is my second line\") # throw an error ... not executed.. as file is closed"
   ]
  },
  {
   "cell_type": "code",
   "execution_count": null,
   "id": "d7db4960",
   "metadata": {},
   "outputs": [],
   "source": [
    "file = open(\"file.txt\", \"w\") # it will truncate (delete) all earlier file and make a new file of it"
   ]
  },
  {
   "cell_type": "markdown",
   "id": "259461bf",
   "metadata": {},
   "source": [
    "- Earlier lines we add to the file is removed and fresh file.txt is created"
   ]
  },
  {
   "cell_type": "code",
   "execution_count": null,
   "id": "1ac5047f",
   "metadata": {},
   "outputs": [],
   "source": [
    "file.close()"
   ]
  },
  {
   "cell_type": "code",
   "execution_count": null,
   "id": "406afd23",
   "metadata": {},
   "outputs": [],
   "source": [
    "file = open(\"file.txt\", \"w\")\n",
    "file.write(\"This is my 1st line...\\n\")\n",
    "file.write(\"This is my 2nd line...\\n\")\n",
    "file.write(\"This is my 3rd line...\\n\")\n",
    "file.write(\"This is my 4th line...\\n\")\n",
    "file.close()"
   ]
  },
  {
   "cell_type": "markdown",
   "id": "394609ef",
   "metadata": {},
   "source": [
    "- In order to add some more lines and if we use mode \"w\" it will deleted all earlier lines so have to open the file in append mode i.e. \"a\""
   ]
  },
  {
   "cell_type": "code",
   "execution_count": null,
   "id": "d4735fe1",
   "metadata": {},
   "outputs": [],
   "source": [
    "file = open(\"file.txt\", \"a\")\n",
    "file.write(\"This is my 5th line...\\n\")\n",
    "file.write(\"This is my 6th line...\\n\")\n",
    "file.write(\"This is my 7th line...\\n\")\n",
    "file.close()"
   ]
  },
  {
   "cell_type": "code",
   "execution_count": null,
   "id": "c1c750c0",
   "metadata": {},
   "outputs": [],
   "source": [
    "file = open(\"file.txt\", 'r')"
   ]
  },
  {
   "cell_type": "code",
   "execution_count": null,
   "id": "bfadd6a2",
   "metadata": {},
   "outputs": [
    {
     "data": {
      "text/plain": [
       "<_io.TextIOWrapper name='file.txt' mode='r' encoding='utf-8'>"
      ]
     },
     "metadata": {},
     "output_type": "display_data"
    }
   ],
   "source": [
    "file"
   ]
  },
  {
   "cell_type": "code",
   "execution_count": null,
   "id": "76aca0bc",
   "metadata": {},
   "outputs": [
    {
     "name": "stdout",
     "output_type": "stream",
     "text": [
      "This is my 1st line...\n",
      "\n",
      "This is my 2nd line...\n",
      "\n",
      "This is my 3rd line...\n",
      "\n",
      "This is my 4th line...\n",
      "\n",
      "This is my 5th line...\n",
      "\n",
      "This is my 6th line...\n",
      "\n",
      "This is my 7th line...\n",
      "\n"
     ]
    }
   ],
   "source": [
    "# To read the content in file \n",
    "for i in file:\n",
    "    print(i)"
   ]
  },
  {
   "cell_type": "code",
   "execution_count": null,
   "id": "7735d120",
   "metadata": {},
   "outputs": [
    {
     "data": {
      "text/plain": [
       "''"
      ]
     },
     "metadata": {},
     "output_type": "display_data"
    }
   ],
   "source": [
    "file.read()"
   ]
  },
  {
   "cell_type": "code",
   "execution_count": null,
   "id": "69d04e5e",
   "metadata": {},
   "outputs": [
    {
     "name": "stdout",
     "output_type": "stream",
     "text": [
      "\n"
     ]
    }
   ],
   "source": [
    "print(file.read()) # empty as the cursor is at last position"
   ]
  },
  {
   "cell_type": "code",
   "execution_count": null,
   "id": "703d8fc8",
   "metadata": {},
   "outputs": [
    {
     "data": {
      "text/plain": [
       "168"
      ]
     },
     "metadata": {},
     "output_type": "display_data"
    }
   ],
   "source": [
    "file.tell() # it tells the current position of cursor"
   ]
  },
  {
   "cell_type": "code",
   "execution_count": null,
   "id": "7b43d6da",
   "metadata": {},
   "outputs": [
    {
     "data": {
      "text/plain": [
       "0"
      ]
     },
     "metadata": {},
     "output_type": "display_data"
    }
   ],
   "source": [
    "file.seek(0)"
   ]
  },
  {
   "cell_type": "code",
   "execution_count": null,
   "id": "86459281",
   "metadata": {},
   "outputs": [],
   "source": [
    "f = open(\"file.txt\", 'r')"
   ]
  },
  {
   "cell_type": "code",
   "execution_count": null,
   "id": "19327117",
   "metadata": {},
   "outputs": [
    {
     "name": "stdout",
     "output_type": "stream",
     "text": [
      "This is my 1st line...\n",
      "\n"
     ]
    }
   ],
   "source": [
    "print(f.readline()) # it will only read 1st line\n",
    "f.close()"
   ]
  },
  {
   "cell_type": "code",
   "execution_count": null,
   "id": "c3ab7a82",
   "metadata": {},
   "outputs": [
    {
     "name": "stdout",
     "output_type": "stream",
     "text": [
      "This is my 1st line...\n",
      "This is my 2nd line...\n",
      "This is my 3rd line...\n",
      "This is my 4th line...\n",
      "This is my 5th line...\n",
      "This is my 6th line...\n",
      "This is my 7th line...\n",
      "\n"
     ]
    }
   ],
   "source": [
    "f = open(\"file.txt\", 'r')\n",
    "f.seek(0)\n",
    "print(f.read()) \n",
    "f.close()"
   ]
  },
  {
   "cell_type": "code",
   "execution_count": null,
   "id": "320cc081",
   "metadata": {},
   "outputs": [
    {
     "name": "stdout",
     "output_type": "stream",
     "text": [
      "['This is my 1st line...\\n', 'This is my 2nd line...\\n', 'This is my 3rd line...\\n', 'This is my 4th line...\\n', 'This is my 5th line...\\n', 'This is my 6th line...\\n', 'This is my 7th line...\\n']\n"
     ]
    }
   ],
   "source": [
    "f = open(\"file.txt\", 'r')\n",
    "print(f.readlines())  # all the lines will be an element of list\n",
    "f.close()"
   ]
  },
  {
   "cell_type": "markdown",
   "id": "e4cd87e2",
   "metadata": {},
   "source": [
    "- To know present working directory"
   ]
  },
  {
   "cell_type": "code",
   "execution_count": null,
   "id": "a036fc07",
   "metadata": {},
   "outputs": [
    {
     "name": "stderr",
     "output_type": "stream",
     "text": [
      "'pwd' is not recognized as an internal or external command,\n",
      "operable program or batch file.\n"
     ]
    }
   ],
   "source": [
    "#present working directory\n",
    "!pwd"
   ]
  },
  {
   "cell_type": "code",
   "execution_count": null,
   "id": "1c79f792",
   "metadata": {},
   "outputs": [],
   "source": [
    "import os #interacting with the OS"
   ]
  },
  {
   "cell_type": "code",
   "execution_count": null,
   "id": "1d9558d2",
   "metadata": {},
   "outputs": [
    {
     "data": {
      "text/plain": [
       "'c:\\\\Users\\\\DAV BABA\\\\Downloads'"
      ]
     },
     "metadata": {},
     "output_type": "display_data"
    }
   ],
   "source": [
    "os.getcwd()"
   ]
  },
  {
   "cell_type": "markdown",
   "id": "72e4cae7",
   "metadata": {},
   "source": [
    "- To know how many files are there?"
   ]
  },
  {
   "cell_type": "markdown",
   "id": "84b0a920",
   "metadata": {},
   "source": [
    "- To know size of file"
   ]
  },
  {
   "cell_type": "code",
   "execution_count": null,
   "id": "b9efbe26",
   "metadata": {},
   "outputs": [
    {
     "data": {
      "text/plain": [
       "168"
      ]
     },
     "metadata": {},
     "output_type": "display_data"
    }
   ],
   "source": [
    "os.path.getsize(\"file.txt\")"
   ]
  },
  {
   "cell_type": "markdown",
   "id": "467f38f6",
   "metadata": {},
   "source": [
    "- To make directory"
   ]
  },
  {
   "cell_type": "code",
   "execution_count": null,
   "id": "de0ef5e9",
   "metadata": {},
   "outputs": [],
   "source": [
    "os.mkdir(\"tests\")"
   ]
  },
  {
   "cell_type": "code",
   "execution_count": null,
   "id": "f3891008",
   "metadata": {},
   "outputs": [],
   "source": [
    "os.mkdir(\"tests/test1\")"
   ]
  },
  {
   "cell_type": "code",
   "execution_count": null,
   "id": "3a92283a",
   "metadata": {},
   "outputs": [
    {
     "ename": "FileNotFoundError",
     "evalue": "[WinError 3] The system cannot find the path specified: 'Abc/def'",
     "output_type": "error",
     "traceback": [
      "\u001b[1;31m---------------------------------------------------------------------------\u001b[0m\n",
      "\u001b[1;31mFileNotFoundError\u001b[0m                         Traceback (most recent call last)\n",
      "Cell \u001b[1;32mIn[40], line 1\u001b[0m\n",
      "\u001b[1;32m----> 1\u001b[0m os\u001b[38;5;241m.\u001b[39mmkdir(\u001b[38;5;124m\"\u001b[39m\u001b[38;5;124mAbc/def\u001b[39m\u001b[38;5;124m\"\u001b[39m)\n",
      "\n",
      "\u001b[1;31mFileNotFoundError\u001b[0m: [WinError 3] The system cannot find the path specified: 'Abc/def'"
     ]
    }
   ],
   "source": [
    "os.mkdir(\"Abc/def\") # to make directory parent directaory should be there"
   ]
  },
  {
   "cell_type": "code",
   "execution_count": null,
   "id": "1dc622e4",
   "metadata": {},
   "outputs": [
    {
     "ename": "FileExistsError",
     "evalue": "[WinError 183] Cannot create a file when that file already exists: '1/2/3/4'",
     "output_type": "error",
     "traceback": [
      "\u001b[1;31m---------------------------------------------------------------------------\u001b[0m\n",
      "\u001b[1;31mFileExistsError\u001b[0m                           Traceback (most recent call last)\n",
      "Cell \u001b[1;32mIn[41], line 1\u001b[0m\n",
      "\u001b[1;32m----> 1\u001b[0m os\u001b[38;5;241m.\u001b[39mmakedirs(\u001b[38;5;124m\"\u001b[39m\u001b[38;5;124m1/2/3/4\u001b[39m\u001b[38;5;124m\"\u001b[39m)\n",
      "\n",
      "File \u001b[1;32m<frozen os>:228\u001b[0m, in \u001b[0;36mmakedirs\u001b[1;34m(name, mode, exist_ok)\u001b[0m\n",
      "\n",
      "\u001b[1;31mFileExistsError\u001b[0m: [WinError 183] Cannot create a file when that file already exists: '1/2/3/4'"
     ]
    }
   ],
   "source": [
    "os.makedirs(\"1/2/3/4\")"
   ]
  },
  {
   "cell_type": "markdown",
   "id": "20143bfd",
   "metadata": {},
   "source": [
    "- To delete directory"
   ]
  },
  {
   "cell_type": "code",
   "execution_count": null,
   "id": "146cff4e",
   "metadata": {},
   "outputs": [],
   "source": [
    "os.mkdir('Fest')"
   ]
  },
  {
   "cell_type": "code",
   "execution_count": null,
   "id": "bb2d6f29",
   "metadata": {},
   "outputs": [],
   "source": [
    "os.rmdir(\"Fest\") # to delete directory without any content inside it"
   ]
  },
  {
   "cell_type": "code",
   "execution_count": null,
   "id": "1630d3cc",
   "metadata": {},
   "outputs": [
    {
     "ename": "OSError",
     "evalue": "[WinError 145] The directory is not empty: 'tests'",
     "output_type": "error",
     "traceback": [
      "\u001b[1;31m---------------------------------------------------------------------------\u001b[0m\n",
      "\u001b[1;31mOSError\u001b[0m                                   Traceback (most recent call last)\n",
      "Cell \u001b[1;32mIn[49], line 1\u001b[0m\n",
      "\u001b[1;32m----> 1\u001b[0m os\u001b[38;5;241m.\u001b[39mrmdir(\u001b[38;5;124m\"\u001b[39m\u001b[38;5;124mtests\u001b[39m\u001b[38;5;124m\"\u001b[39m)\n",
      "\n",
      "\u001b[1;31mOSError\u001b[0m: [WinError 145] The directory is not empty: 'tests'"
     ]
    }
   ],
   "source": [
    "os.rmdir(\"tests\") # error >> tests is not empty"
   ]
  },
  {
   "cell_type": "markdown",
   "id": "109b5120",
   "metadata": {},
   "source": [
    "- To delete non empty directory"
   ]
  },
  {
   "cell_type": "code",
   "execution_count": null,
   "id": "1f01592b",
   "metadata": {},
   "outputs": [],
   "source": [
    "import shutil"
   ]
  },
  {
   "cell_type": "code",
   "execution_count": null,
   "id": "fbe299e1",
   "metadata": {},
   "outputs": [],
   "source": [
    "shutil.rmtree(\"1\") # it will remove the folder hierarchy"
   ]
  },
  {
   "cell_type": "code",
   "execution_count": null,
   "id": "b3dde68d",
   "metadata": {},
   "outputs": [
    {
     "data": {
      "text/plain": [
       "'c:\\\\Users\\\\DAV BABA\\\\Downloads'"
      ]
     },
     "metadata": {},
     "output_type": "display_data"
    }
   ],
   "source": [
    "os.getcwd()"
   ]
  },
  {
   "cell_type": "code",
   "execution_count": null,
   "id": "eccc5316",
   "metadata": {},
   "outputs": [],
   "source": [
    "shutil.rmtree(\"test/test1\")"
   ]
  },
  {
   "cell_type": "code",
   "execution_count": null,
   "id": "24cd3464",
   "metadata": {},
   "outputs": [],
   "source": [
    "os.makedirs(\"test/test1\")"
   ]
  },
  {
   "cell_type": "code",
   "execution_count": null,
   "id": "bcb59731",
   "metadata": {},
   "outputs": [],
   "source": [
    "f = open(\"c:\\\\Users\\\\DAV BABA\\\\Downloads\\\\test\\\\test1\\\\file.txt\",\"w\")"
   ]
  },
  {
   "cell_type": "markdown",
   "id": "bf3310b8",
   "metadata": {},
   "source": [
    "- Copying the above file in another location"
   ]
  },
  {
   "cell_type": "code",
   "execution_count": null,
   "id": "75ef2b06",
   "metadata": {},
   "outputs": [],
   "source": [
    "# Syntax\n",
    "# shutil.copy(\"source\",\"destination\")"
   ]
  },
  {
   "cell_type": "code",
   "execution_count": null,
   "id": "9ec05a6c",
   "metadata": {},
   "outputs": [
    {
     "data": {
      "text/plain": [
       "'c:\\\\Users\\\\DAV BABA\\\\Downloads\\\\file.txt'"
      ]
     },
     "metadata": {},
     "output_type": "display_data"
    }
   ],
   "source": [
    "shutil.copy(\"c:\\\\Users\\\\DAV BABA\\\\Downloads\\\\test\\\\test1\\\\file.txt\", \"c:\\\\Users\\\\DAV BABA\\\\Downloads\")"
   ]
  },
  {
   "cell_type": "markdown",
   "id": "5056e2f3",
   "metadata": {},
   "source": [
    "- To move the file in another location"
   ]
  },
  {
   "cell_type": "code",
   "execution_count": null,
   "id": "14116722",
   "metadata": {},
   "outputs": [],
   "source": [
    "os.mkdir(\"file_test\")"
   ]
  },
  {
   "cell_type": "code",
   "execution_count": null,
   "id": "73f23183",
   "metadata": {},
   "outputs": [
    {
     "data": {
      "text/plain": [
       "'c:\\\\Users\\\\DAV BABA\\\\Downloads\\\\file_test\\\\file.txt'"
      ]
     },
     "metadata": {},
     "output_type": "display_data"
    }
   ],
   "source": [
    "shutil.copy(\"c:\\\\Users\\\\DAV BABA\\\\Downloads\\\\test\\\\test1\\\\file.txt\", \"c:\\\\Users\\\\DAV BABA\\\\Downloads\\\\file_test\")"
   ]
  },
  {
   "cell_type": "markdown",
   "id": "620f7a19",
   "metadata": {},
   "source": [
    "- To read the file without closing"
   ]
  },
  {
   "cell_type": "markdown",
   "id": "b0c4f283",
   "metadata": {},
   "source": [
    "- with statement ensure that the file is closed properly after the block of code is executed\n",
    "- it is important because it is free up system resources and avoid data corruption and file locking"
   ]
  },
  {
   "cell_type": "code",
   "execution_count": null,
   "id": "80a150b2",
   "metadata": {},
   "outputs": [],
   "source": [
    "with open('file.txt', 'w') as f:\n",
    "    f.write(\"This is my first line..\")"
   ]
  },
  {
   "cell_type": "markdown",
   "id": "e8523399",
   "metadata": {},
   "source": [
    "- To read the text"
   ]
  },
  {
   "cell_type": "code",
   "execution_count": null,
   "id": "2827a553",
   "metadata": {},
   "outputs": [
    {
     "name": "stdout",
     "output_type": "stream",
     "text": [
      "This is my first line..\n"
     ]
    }
   ],
   "source": [
    "with open('file.txt', 'r') as f:\n",
    "    line = f.readline()\n",
    "    print(line)"
   ]
  },
  {
   "cell_type": "markdown",
   "id": "89ddbe1a",
   "metadata": {},
   "source": [
    "## File Reading and writing"
   ]
  },
  {
   "cell_type": "markdown",
   "id": "35c3d7af",
   "metadata": {},
   "source": [
    "- How to read and write various types of file like csv, jason etc."
   ]
  },
  {
   "cell_type": "code",
   "execution_count": null,
   "id": "95107ad9",
   "metadata": {},
   "outputs": [],
   "source": [
    "text_content = \"\"\"\n",
    "example1\n",
    "example2\n",
    "example3\n",
    "\"\"\""
   ]
  },
  {
   "cell_type": "code",
   "execution_count": null,
   "id": "03254ec8",
   "metadata": {},
   "outputs": [],
   "source": [
    "with open(\"example.txt\", \"w\") as file:\n",
    "    file.write(text_content)"
   ]
  },
  {
   "cell_type": "markdown",
   "id": "1f763f99",
   "metadata": {},
   "source": [
    "- to read this text file"
   ]
  },
  {
   "cell_type": "code",
   "execution_count": null,
   "id": "81593ea3",
   "metadata": {},
   "outputs": [
    {
     "name": "stdout",
     "output_type": "stream",
     "text": [
      "\n",
      "example1\n",
      "example2\n",
      "example3\n",
      "\n"
     ]
    }
   ],
   "source": [
    "with open(\"example.txt\", \"r\") as file:\n",
    "    data = file.read()\n",
    "print(data)"
   ]
  },
  {
   "cell_type": "markdown",
   "id": "6cf89c0f",
   "metadata": {},
   "source": [
    "### CSV File"
   ]
  },
  {
   "cell_type": "markdown",
   "id": "bc5dea37",
   "metadata": {},
   "source": [
    "- CSV = Comma Seperated Files\n",
    "- Intity are seperated by comma\n",
    "- In tabular form"
   ]
  },
  {
   "cell_type": "code",
   "execution_count": null,
   "id": "51473715",
   "metadata": {},
   "outputs": [],
   "source": [
    "data = [[\"Name \",\"Course \",\"Fee \"],\n",
    "        [\"Anu \",\"Python \",\"20000\"],\n",
    "        [\"Prag \",\"ML \",\"15000\"]]"
   ]
  },
  {
   "cell_type": "code",
   "execution_count": null,
   "id": "8e458f4b",
   "metadata": {},
   "outputs": [
    {
     "name": "stdout",
     "output_type": "stream",
     "text": [
      "['Name ', 'Course ', 'Fee ']\n",
      "['Anu ', 'Python ', '20000']\n",
      "['Prag ', 'ML ', '15000']\n"
     ]
    }
   ],
   "source": [
    "for i in data:\n",
    "    print(i)"
   ]
  },
  {
   "cell_type": "code",
   "execution_count": null,
   "id": "a400e46f",
   "metadata": {},
   "outputs": [],
   "source": [
    "import csv\n",
    "with open(\"example_csv.csv\", \"w\") as f:\n",
    "    w = csv.writer(f)\n",
    "    for i in data:\n",
    "        w.writerow(i)"
   ]
  },
  {
   "cell_type": "code",
   "execution_count": null,
   "id": "d7fab5e0",
   "metadata": {},
   "outputs": [
    {
     "name": "stdout",
     "output_type": "stream",
     "text": [
      "['Name ', 'Course ', 'Fee ']\n",
      "[]\n",
      "['Anu ', 'Python ', '20000']\n",
      "[]\n",
      "['Prag ', 'ML ', '15000']\n",
      "[]\n"
     ]
    }
   ],
   "source": [
    "with open(\"example_csv.csv\", \"r\") as f:\n",
    "    r = csv.reader(f)\n",
    "    for i in r:\n",
    "        print(i)"
   ]
  },
  {
   "cell_type": "markdown",
   "id": "157f36b3",
   "metadata": {},
   "source": [
    "### Jason file"
   ]
  },
  {
   "cell_type": "markdown",
   "id": "e778933f",
   "metadata": {},
   "source": [
    "- Jason = JavaScript Object Notation"
   ]
  },
  {
   "cell_type": "code",
   "execution_count": null,
   "id": "afa51859",
   "metadata": {},
   "outputs": [
    {
     "data": {
      "text/plain": [
       "{'Name ': 'Anu', 'Course': 'DS', 'Fee': 20000}"
      ]
     },
     "metadata": {},
     "output_type": "display_data"
    }
   ],
   "source": [
    "data = {\"Name \": \"Anu\",\n",
    "        \"Course\": \"DS\",\n",
    "        \"Fee\": 20000}\n",
    "data"
   ]
  },
  {
   "cell_type": "code",
   "execution_count": null,
   "id": "9ab4ebcb",
   "metadata": {},
   "outputs": [
    {
     "data": {
      "text/plain": [
       "dict"
      ]
     },
     "metadata": {},
     "output_type": "display_data"
    }
   ],
   "source": [
    "type(data)"
   ]
  },
  {
   "cell_type": "code",
   "execution_count": null,
   "id": "e51d509a",
   "metadata": {},
   "outputs": [],
   "source": [
    "import json\n",
    "with open(\"file_json.json\", \"w\") as f:\n",
    "    json.dump(data, f)"
   ]
  },
  {
   "cell_type": "code",
   "execution_count": null,
   "id": "9af895a6",
   "metadata": {},
   "outputs": [
    {
     "name": "stdout",
     "output_type": "stream",
     "text": [
      "{'Name ': 'Anu', 'Course': 'DS', 'Fee': 20000}\n"
     ]
    }
   ],
   "source": [
    "with open(\"file_json.json\",\"r\") as f:\n",
    "    p = json.load(f)\n",
    "print(p)"
   ]
  },
  {
   "cell_type": "markdown",
   "id": "c8831ed0",
   "metadata": {},
   "source": [
    "- To write binary data in file"
   ]
  },
  {
   "cell_type": "code",
   "execution_count": null,
   "id": "0866fc97",
   "metadata": {},
   "outputs": [],
   "source": [
    "with open(\"test_bin.bin\", \"wb\") as f:\n",
    "    f.write(b\"\\x48\\x65\\x6c\\x6c\\x6f\\x2c\\x20\\x57\\x6f\\x72\\x6c\\x64\\x21\")"
   ]
  },
  {
   "cell_type": "code",
   "execution_count": null,
   "id": "edf6097d",
   "metadata": {},
   "outputs": [
    {
     "name": "stdout",
     "output_type": "stream",
     "text": [
      "b'Hello, World!'\n"
     ]
    }
   ],
   "source": [
    "with open(\"test_bin.bin\", \"rb\") as f:\n",
    "    print(f.read())"
   ]
  },
  {
   "cell_type": "markdown",
   "id": "fd9e37b7",
   "metadata": {},
   "source": [
    "## Buffered Reading and Writing"
   ]
  },
  {
   "cell_type": "markdown",
   "id": "34587024",
   "metadata": {},
   "source": [
    "- It allows the program to read and write data in chunks"
   ]
  },
  {
   "cell_type": "markdown",
   "id": "a5a0c3bc",
   "metadata": {},
   "source": [
    "- To avoid crashing of very very large files (if you want to read data of 10 MB from 200 GB files)"
   ]
  },
  {
   "cell_type": "code",
   "execution_count": null,
   "id": "d0425ac9",
   "metadata": {},
   "outputs": [],
   "source": [
    "import io\n",
    "with open('test_buf.txt', 'wb') as f:\n",
    "    file = io.BufferedWriter(f)\n",
    "    file.write(b\"Data Science is the art and science of extracting meaningful insights from raw data. It blends mathematics, statistics, computer science, and domain knowledge to analyze complex datasets and solve real-world problems. At its core, data science revolves around the data lifecycle from collecting, cleaning, and processing data to building models and interpreting results. Tools like Python, R, SQL, and libraries such as Pandas, NumPy, and Scikit learn are widely used. Machine Learning and Artificial Intelligence play a crucial role in making predictive and prescriptive models that drive decision making across industries from healthcare and finance to ecommerce and entertainment. Visualization tools like Tableau, Power BI, and Matplotlib help present insights in a digestible format. Beyond technical skills, a data scientist must possess strong critical thinking and communication abilities to translate data into strategies. As the digital world generates massive amounts of data daily, the demand for skilled data scientists is rapidly increasing. Whether its personalizing user experiences, detecting fraud, optimizing supply chains, or predicting market trends, data science sits at the center of innovation and business intelligence. It is not just a technical field, but a bridge between data and decisions, turning information overload into actionable knowledge.\")\n",
    "    file.write(b\"Hello World!..\")\n",
    "    file.write(b\"I am studying Data Science\")\n",
    "    file.flush()"
   ]
  },
  {
   "cell_type": "code",
   "execution_count": null,
   "id": "421ac0ce",
   "metadata": {},
   "outputs": [
    {
     "name": "stdout",
     "output_type": "stream",
     "text": [
      "b'Data Science is the art and science of extracting meaningful insights from raw data. It blends mathematics, statistics, computer science, and domain k'\n"
     ]
    }
   ],
   "source": [
    "with open('test_buf.txt', 'rb') as f:\n",
    "    file = io.BufferedReader(f)\n",
    "    data = file.read(150) # read the first chunks of 100 bytes\n",
    "    print(data)"
   ]
  },
  {
   "cell_type": "markdown",
   "id": "110f40c6",
   "metadata": {},
   "source": [
    "## Exceptions Handling"
   ]
  },
  {
   "cell_type": "markdown",
   "id": "f59938d9",
   "metadata": {},
   "source": [
    "- Generally something that disrupts the normal event is exceptions\n",
    "- In python an exception is an event that occurs during program executions that disrupts the regular flow."
   ]
  },
  {
   "cell_type": "code",
   "execution_count": null,
   "id": "a9b61583",
   "metadata": {},
   "outputs": [
    {
     "data": {
      "text/plain": [
       "0.5555555555555556"
      ]
     },
     "metadata": {},
     "output_type": "display_data"
    }
   ],
   "source": [
    "5/9"
   ]
  },
  {
   "cell_type": "code",
   "execution_count": null,
   "id": "3d162d9e",
   "metadata": {},
   "outputs": [
    {
     "data": {
      "text/plain": [
       "5.0"
      ]
     },
     "metadata": {},
     "output_type": "display_data"
    }
   ],
   "source": [
    "10/2"
   ]
  },
  {
   "cell_type": "code",
   "execution_count": null,
   "id": "0e029484",
   "metadata": {},
   "outputs": [
    {
     "name": "stdout",
     "output_type": "stream",
     "text": [
      "2.0\n",
      "0.6\n",
      "The code is running fine..\n"
     ]
    },
    {
     "ename": "ZeroDivisionError",
     "evalue": "division by zero",
     "output_type": "error",
     "traceback": [
      "\u001b[1;31m---------------------------------------------------------------------------\u001b[0m\n",
      "\u001b[1;31mZeroDivisionError\u001b[0m                         Traceback (most recent call last)\n",
      "Cell \u001b[1;32mIn[23], line 5\u001b[0m\n",
      "\u001b[0;32m      3\u001b[0m \u001b[38;5;28mprint\u001b[39m(\u001b[38;5;241m3\u001b[39m\u001b[38;5;241m/\u001b[39m\u001b[38;5;241m5\u001b[39m)\n",
      "\u001b[0;32m      4\u001b[0m \u001b[38;5;28mprint\u001b[39m(\u001b[38;5;124m\"\u001b[39m\u001b[38;5;124mThe code is running fine..\u001b[39m\u001b[38;5;124m\"\u001b[39m)\n",
      "\u001b[1;32m----> 5\u001b[0m \u001b[38;5;28mprint\u001b[39m(\u001b[38;5;241m6\u001b[39m\u001b[38;5;241m/\u001b[39m\u001b[38;5;241m0\u001b[39m)  \u001b[38;5;66;03m# code will break here << Suspicious Code << Need to handle\u001b[39;00m\n",
      "\u001b[0;32m      6\u001b[0m \u001b[38;5;28mprint\u001b[39m(\u001b[38;5;124m\"\u001b[39m\u001b[38;5;124mName is visible\u001b[39m\u001b[38;5;124m\"\u001b[39m)\n",
      "\u001b[0;32m      7\u001b[0m \u001b[38;5;28mprint\u001b[39m(\u001b[38;5;241m2\u001b[39m\u001b[38;5;241m+\u001b[39m\u001b[38;5;241m3\u001b[39m)\n",
      "\n",
      "\u001b[1;31mZeroDivisionError\u001b[0m: division by zero"
     ]
    }
   ],
   "source": [
    "# Zero division error\n",
    "print(4/2)\n",
    "print(3/5)\n",
    "print(\"The code is running fine..\")\n",
    "print(6/0)  # code will break here << Suspicious Code << Need to handle\n",
    "print(\"Name is visible\")\n",
    "print(2+3)\n",
    "print(\"The code ends here.\")"
   ]
  },
  {
   "cell_type": "code",
   "execution_count": null,
   "id": "38d3c4ed",
   "metadata": {},
   "outputs": [
    {
     "name": "stdout",
     "output_type": "stream",
     "text": [
      "This is my first line of code..\n",
      "60\n",
      "<class 'dict'>\n"
     ]
    },
    {
     "ename": "KeyError",
     "evalue": "'age'",
     "output_type": "error",
     "traceback": [
      "\u001b[1;31m---------------------------------------------------------------------------\u001b[0m\n",
      "\u001b[1;31mKeyError\u001b[0m                                  Traceback (most recent call last)\n",
      "Cell \u001b[1;32mIn[24], line 6\u001b[0m\n",
      "\u001b[0;32m      4\u001b[0m d \u001b[38;5;241m=\u001b[39m{\u001b[38;5;124m\"\u001b[39m\u001b[38;5;124mName \u001b[39m\u001b[38;5;124m\"\u001b[39m:\u001b[38;5;124m\"\u001b[39m\u001b[38;5;124mAnu\u001b[39m\u001b[38;5;124m\"\u001b[39m}\n",
      "\u001b[0;32m      5\u001b[0m \u001b[38;5;28mprint\u001b[39m(\u001b[38;5;28mtype\u001b[39m(d))\n",
      "\u001b[1;32m----> 6\u001b[0m \u001b[38;5;28mprint\u001b[39m(d[\u001b[38;5;124m\"\u001b[39m\u001b[38;5;124mage\u001b[39m\u001b[38;5;124m\"\u001b[39m])  \u001b[38;5;66;03m# Suspicious code << need to handle  << Key Error\u001b[39;00m\n",
      "\u001b[0;32m      7\u001b[0m \u001b[38;5;28mprint\u001b[39m(\u001b[38;5;124m\"\u001b[39m\u001b[38;5;124mThis is last line\u001b[39m\u001b[38;5;124m\"\u001b[39m)\n",
      "\n",
      "\u001b[1;31mKeyError\u001b[0m: 'age'"
     ]
    }
   ],
   "source": [
    "# Key error\n",
    "print(\"This is my first line of code..\")\n",
    "print(3*4*5)\n",
    "d ={\"Name \":\"Anu\"}\n",
    "print(type(d))\n",
    "print(d[\"age\"])  # Suspicious code << need to handle  << Key Error\n",
    "print(\"This is last line\")"
   ]
  },
  {
   "cell_type": "code",
   "execution_count": null,
   "id": "d9c75ed7",
   "metadata": {},
   "outputs": [
    {
     "ename": "FileNotFoundError",
     "evalue": "[Errno 2] No such file or directory: 'exampless.txt'",
     "output_type": "error",
     "traceback": [
      "\u001b[1;31m---------------------------------------------------------------------------\u001b[0m\n",
      "\u001b[1;31mFileNotFoundError\u001b[0m                         Traceback (most recent call last)\n",
      "Cell \u001b[1;32mIn[25], line 2\u001b[0m\n",
      "\u001b[0;32m      1\u001b[0m \u001b[38;5;66;03m# file not found error\u001b[39;00m\n",
      "\u001b[1;32m----> 2\u001b[0m f \u001b[38;5;241m=\u001b[39m \u001b[38;5;28mopen\u001b[39m(\u001b[38;5;124m\"\u001b[39m\u001b[38;5;124mexampless.txt\u001b[39m\u001b[38;5;124m\"\u001b[39m, \u001b[38;5;124m\"\u001b[39m\u001b[38;5;124mr\u001b[39m\u001b[38;5;124m\"\u001b[39m)\n",
      "\u001b[0;32m      3\u001b[0m \u001b[38;5;28mprint\u001b[39m(\u001b[38;5;241m6\u001b[39m\u001b[38;5;241m+\u001b[39m\u001b[38;5;241m3\u001b[39m)\n",
      "\u001b[0;32m      4\u001b[0m \u001b[38;5;28mprint\u001b[39m(\u001b[38;5;124m\"\u001b[39m\u001b[38;5;124mHere we gooo......\u001b[39m\u001b[38;5;124m\"\u001b[39m)\n",
      "\n",
      "File \u001b[1;32mc:\\Users\\DAV BABA\\anaconda3\\Lib\\site-packages\\IPython\\core\\interactiveshell.py:324\u001b[0m, in \u001b[0;36m_modified_open\u001b[1;34m(file, *args, **kwargs)\u001b[0m\n",
      "\u001b[0;32m    317\u001b[0m \u001b[38;5;28;01mif\u001b[39;00m file \u001b[38;5;129;01min\u001b[39;00m {\u001b[38;5;241m0\u001b[39m, \u001b[38;5;241m1\u001b[39m, \u001b[38;5;241m2\u001b[39m}:\n",
      "\u001b[0;32m    318\u001b[0m     \u001b[38;5;28;01mraise\u001b[39;00m \u001b[38;5;167;01mValueError\u001b[39;00m(\n",
      "\u001b[0;32m    319\u001b[0m         \u001b[38;5;124mf\u001b[39m\u001b[38;5;124m\"\u001b[39m\u001b[38;5;124mIPython won\u001b[39m\u001b[38;5;124m'\u001b[39m\u001b[38;5;124mt let you open fd=\u001b[39m\u001b[38;5;132;01m{\u001b[39;00mfile\u001b[38;5;132;01m}\u001b[39;00m\u001b[38;5;124m by default \u001b[39m\u001b[38;5;124m\"\u001b[39m\n",
      "\u001b[0;32m    320\u001b[0m         \u001b[38;5;124m\"\u001b[39m\u001b[38;5;124mas it is likely to crash IPython. If you know what you are doing, \u001b[39m\u001b[38;5;124m\"\u001b[39m\n",
      "\u001b[0;32m    321\u001b[0m         \u001b[38;5;124m\"\u001b[39m\u001b[38;5;124myou can use builtins\u001b[39m\u001b[38;5;124m'\u001b[39m\u001b[38;5;124m open.\u001b[39m\u001b[38;5;124m\"\u001b[39m\n",
      "\u001b[0;32m    322\u001b[0m     )\n",
      "\u001b[1;32m--> 324\u001b[0m \u001b[38;5;28;01mreturn\u001b[39;00m io_open(file, \u001b[38;5;241m*\u001b[39margs, \u001b[38;5;241m*\u001b[39m\u001b[38;5;241m*\u001b[39mkwargs)\n",
      "\n",
      "\u001b[1;31mFileNotFoundError\u001b[0m: [Errno 2] No such file or directory: 'exampless.txt'"
     ]
    }
   ],
   "source": [
    "# file not found error\n",
    "f = open(\"exampless.txt\", \"r\")\n",
    "print(6+3)\n",
    "print(\"Here we gooo......\")"
   ]
  },
  {
   "cell_type": "markdown",
   "id": "553aa8e7",
   "metadata": {},
   "source": [
    "- When you expect something but didn't happen due to which a suspicious line threw an error and the next lines of code didn't get executed."
   ]
  },
  {
   "cell_type": "markdown",
   "id": "0b964459",
   "metadata": {},
   "source": [
    "- *Types of exceptions*\n",
    "- Zero division Error\n",
    "- Key error\n",
    "- File not found error\n",
    "- Run time error\n",
    "- Import error\n",
    "- Name Error\n",
    "- Value error\n",
    "\n",
    "\n",
    "list of exceptions : https://docs.python.org/3/library/exceptions.html"
   ]
  },
  {
   "cell_type": "markdown",
   "id": "95f74f73",
   "metadata": {},
   "source": [
    " *Why do we need to handle suspicious code or exceptions??*\n",
    "- Code need not to break any where << Robust Application\n",
    "- Fellow developer understands the corner case << Code Cleaner"
   ]
  },
  {
   "cell_type": "markdown",
   "id": "56103663",
   "metadata": {},
   "source": [
    "*How to handle exceptions?*\n",
    "- to handle exception we use try catch block\n",
    "- whenever exception occurs Python stops the program and generate exceptions or error\n",
    "- Handling this exception is advised\n",
    "- Every code that is risky or suspicious, you should do exception handling."
   ]
  },
  {
   "cell_type": "code",
   "execution_count": null,
   "id": "47d2eaff",
   "metadata": {},
   "outputs": [],
   "source": [
    "# Syntax of try except\n",
    "\n",
    "#try:\n",
    "    #suspicious code\n",
    "#except:\n",
    "    # executed when execution occurs in try block\n"
   ]
  },
  {
   "cell_type": "code",
   "execution_count": null,
   "id": "460f1c51",
   "metadata": {},
   "outputs": [
    {
     "name": "stdout",
     "output_type": "stream",
     "text": [
      "There is an issue with the code like :  [Errno 2] No such file or directory: 'exampless.txt'\n",
      "9\n",
      "Here we gooo......\n"
     ]
    }
   ],
   "source": [
    "try:\n",
    "    f = open(\"exampless.txt\", \"r\")\n",
    "except Exception as e:\n",
    "    print(\"There is an issue with the code like : \",e)\n",
    "print(6+3)\n",
    "print(\"Here we gooo......\")"
   ]
  },
  {
   "cell_type": "code",
   "execution_count": null,
   "id": "cd1970d4",
   "metadata": {},
   "outputs": [
    {
     "name": "stdout",
     "output_type": "stream",
     "text": [
      "This is my first line of code..\n",
      "60\n",
      "<class 'dict'>\n",
      "There is an issue :  'age'\n",
      "This is last line\n"
     ]
    }
   ],
   "source": [
    "print(\"This is my first line of code..\")\n",
    "print(3*4*5)\n",
    "d ={\"Name \":\"Anu\"}\n",
    "print(type(d))\n",
    "try:\n",
    "    print(d[\"age\"])\n",
    "except Exception as e:\n",
    "    print(\"There is an issue : \",e)\n",
    "print(\"This is last line\")"
   ]
  },
  {
   "cell_type": "code",
   "execution_count": null,
   "id": "09a084c9",
   "metadata": {},
   "outputs": [
    {
     "name": "stdout",
     "output_type": "stream",
     "text": [
      "2.0\n",
      "0.6\n",
      "The code is running fine..\n",
      "Error is  division by zero\n",
      "Name is visible\n",
      "5\n",
      "The code ends here.\n"
     ]
    }
   ],
   "source": [
    "print(4/2)\n",
    "print(3/5)\n",
    "print(\"The code is running fine..\")\n",
    "try:\n",
    "    print(6/0)\n",
    "except Exception as e:\n",
    "    print(\"Error is \",e)\n",
    "print(\"Name is visible\")\n",
    "print(2+3)\n",
    "print(\"The code ends here.\")"
   ]
  },
  {
   "cell_type": "code",
   "execution_count": null,
   "id": "58e9ac90",
   "metadata": {},
   "outputs": [
    {
     "name": "stdout",
     "output_type": "stream",
     "text": [
      "There is an issue with the code like :  [Errno 2] No such file or directory: 'exampless.txt'\n"
     ]
    }
   ],
   "source": [
    "try:\n",
    "    f = open(\"exampless.txt\", \"r\")\n",
    "except Exception as e:\n",
    "    print(\"There is an issue with the code like : \",e)\n",
    "else:\n",
    "    print(\"We have the file\")"
   ]
  },
  {
   "cell_type": "code",
   "execution_count": null,
   "id": "d114536c",
   "metadata": {},
   "outputs": [
    {
     "name": "stdout",
     "output_type": "stream",
     "text": [
      "There is an issue with the code like :  division by zero\n"
     ]
    }
   ],
   "source": [
    "try:\n",
    "    6/0\n",
    "except Exception as e:\n",
    "    print(\"There is an issue with the code like : \",e)\n",
    "else:\n",
    "    print(\"We have the file\")"
   ]
  },
  {
   "cell_type": "code",
   "execution_count": null,
   "id": "35baba6d",
   "metadata": {},
   "outputs": [
    {
     "name": "stdout",
     "output_type": "stream",
     "text": [
      "We have the file\n"
     ]
    }
   ],
   "source": [
    "try:\n",
    "    6/3\n",
    "except Exception as e:\n",
    "    print(\"There is an issue with the code like : \",e)\n",
    "else:\n",
    "    print(\"We have the file\")"
   ]
  },
  {
   "cell_type": "markdown",
   "id": "bb2e900d",
   "metadata": {},
   "source": [
    "*Use case of Else:*\n",
    "- You want to execute some code only if the try statement is successful and code doesn't enter into exception block."
   ]
  },
  {
   "cell_type": "code",
   "execution_count": null,
   "id": "26229ae9",
   "metadata": {},
   "outputs": [
    {
     "name": "stdout",
     "output_type": "stream",
     "text": [
      "14\n",
      "We have the file\n"
     ]
    }
   ],
   "source": [
    "#Use case 1\n",
    "try:\n",
    "    f = open(\"exampless.txt\", \"w\")\n",
    "except Exception as e:\n",
    "    print(\"There is an issue with the code like : \",e)\n",
    "else:\n",
    "    print(5+9)\n",
    "    print(\"We have the file\")"
   ]
  },
  {
   "cell_type": "code",
   "execution_count": null,
   "id": "7f10b7c2",
   "metadata": {},
   "outputs": [
    {
     "name": "stdout",
     "output_type": "stream",
     "text": [
      "14\n",
      "We have the file\n"
     ]
    }
   ],
   "source": [
    "#Use case 2\n",
    "try:\n",
    "    f = open(\"exampless.txt\", \"w\")\n",
    "    f.write(\"Hellooooooo\")\n",
    "except Exception as e:\n",
    "    print(\"There is an issue with the code like : \",e)\n",
    "else:\n",
    "    print(5+9)\n",
    "    print(\"We have the file\")"
   ]
  },
  {
   "cell_type": "code",
   "execution_count": null,
   "id": "28d08c9d",
   "metadata": {},
   "outputs": [
    {
     "name": "stdout",
     "output_type": "stream",
     "text": [
      "14\n",
      "We have the file\n"
     ]
    }
   ],
   "source": [
    "#Use case 2\n",
    "try:\n",
    "    f = open(\"exampless.txt\", \"w\")\n",
    "    f.write(\"Hellooooooo\")\n",
    "except Exception as e:\n",
    "    print(\"There is an issue with the code like : \",e)\n",
    "else:\n",
    "    f.close()\n",
    "    print(5+9)\n",
    "    print(\"We have the file\")"
   ]
  },
  {
   "cell_type": "markdown",
   "id": "e37cc49d",
   "metadata": {},
   "source": [
    "- else block is very helpful when your code didn't enter the exception block\n",
    "- for exmaple if you wanted to close the file after it was opened in try block"
   ]
  },
  {
   "cell_type": "markdown",
   "id": "04baa81a",
   "metadata": {},
   "source": [
    "### Finally block"
   ]
  },
  {
   "cell_type": "code",
   "execution_count": null,
   "id": "97e0443b",
   "metadata": {},
   "outputs": [
    {
     "name": "stdout",
     "output_type": "stream",
     "text": [
      "14\n",
      "We have the file\n",
      "This will be executed always\n"
     ]
    }
   ],
   "source": [
    "try:\n",
    "    f = open(\"exampless.txt\", \"w\")\n",
    "    f.write(\"Hellooooooo\")\n",
    "except Exception as e:\n",
    "    print(\"There is an issue with the code like : \",e)\n",
    "else:\n",
    "    f.close()\n",
    "    print(5+9)\n",
    "    print(\"We have the file\")\n",
    "finally:\n",
    "    print(\"This will be executed always\")"
   ]
  },
  {
   "cell_type": "markdown",
   "id": "95868759",
   "metadata": {},
   "source": [
    "- finally block will always executed even the execptions is there or not"
   ]
  },
  {
   "cell_type": "code",
   "execution_count": null,
   "id": "28486a6f",
   "metadata": {},
   "outputs": [
    {
     "name": "stdout",
     "output_type": "stream",
     "text": [
      "14\n",
      "We have the file\n",
      "This will be executed always\n"
     ]
    }
   ],
   "source": [
    "try:\n",
    "    f = open(\"exampless123.txt\", \"w\")\n",
    "    f.write(\"Hellooooooo\")\n",
    "except Exception as e:\n",
    "    print(\"There is an issue with the code like : \",e)\n",
    "else:\n",
    "    f.close()\n",
    "    print(5+9)\n",
    "    print(\"We have the file\")\n",
    "finally:\n",
    "    print(\"This will be executed always\")"
   ]
  },
  {
   "cell_type": "code",
   "execution_count": null,
   "id": "8f535b04",
   "metadata": {},
   "outputs": [
    {
     "name": "stdout",
     "output_type": "stream",
     "text": [
      "division by zero\n",
      "This will be printed always\n"
     ]
    }
   ],
   "source": [
    "try:\n",
    "    5/0\n",
    "except Exception as e:\n",
    "    print(e)\n",
    "finally:\n",
    "    print(\"This will be printed always\")"
   ]
  },
  {
   "cell_type": "markdown",
   "id": "272502fb",
   "metadata": {},
   "source": [
    "### Custom Exception"
   ]
  },
  {
   "cell_type": "code",
   "execution_count": null,
   "id": "fd5147f5",
   "metadata": {},
   "outputs": [
    {
     "name": "stdout",
     "output_type": "stream",
     "text": [
      "10000\n"
     ]
    }
   ],
   "source": [
    "income = int(input(\"Enter your salary : \"))\n",
    "print(income)"
   ]
  },
  {
   "cell_type": "code",
   "execution_count": null,
   "id": "1b710f0c",
   "metadata": {},
   "outputs": [],
   "source": [
    "def validate_salary(salary):\n",
    "    if salary <= 0:\n",
    "        print(\"Salary should not be negative.\")\n",
    "    elif salary >= 20000000:\n",
    "        print(\"Salary limit is unexpected.\")\n",
    "    else:\n",
    "        print(\"salary is valid.\")"
   ]
  },
  {
   "cell_type": "code",
   "execution_count": null,
   "id": "a56a35c8",
   "metadata": {},
   "outputs": [
    {
     "name": "stdout",
     "output_type": "stream",
     "text": [
      "Salary limit is unexpected.\n"
     ]
    }
   ],
   "source": [
    "validate_salary(5090090203029)"
   ]
  },
  {
   "cell_type": "code",
   "execution_count": null,
   "id": "04320585",
   "metadata": {},
   "outputs": [
    {
     "name": "stdout",
     "output_type": "stream",
     "text": [
      "Salary should not be negative.\n"
     ]
    }
   ],
   "source": [
    "validate_salary(-374638764)"
   ]
  },
  {
   "cell_type": "code",
   "execution_count": null,
   "id": "4ff2ff59",
   "metadata": {},
   "outputs": [
    {
     "name": "stdout",
     "output_type": "stream",
     "text": [
      "salary is valid.\n"
     ]
    }
   ],
   "source": [
    "validate_salary(632638)"
   ]
  },
  {
   "cell_type": "code",
   "execution_count": null,
   "id": "f7446158",
   "metadata": {},
   "outputs": [],
   "source": [
    "class ValidateSalary(Exception):  # Exception is the parent class\n",
    "    def __init__(self, msg):\n",
    "        self.msg = msg"
   ]
  },
  {
   "cell_type": "code",
   "execution_count": null,
   "id": "2da19ece",
   "metadata": {},
   "outputs": [],
   "source": [
    "def validate_salary(salary):\n",
    "    if salary <= 0:\n",
    "        raise ValidateSalary(\"Salary should not be negative.\")\n",
    "    elif salary >= 20000000:\n",
    "        raise ValidateSalary(\"Salary limit is unexpected.\")\n",
    "    else:\n",
    "        print(\"salary is valid.\")"
   ]
  },
  {
   "cell_type": "code",
   "execution_count": null,
   "id": "569261f3",
   "metadata": {},
   "outputs": [
    {
     "name": "stdout",
     "output_type": "stream",
     "text": [
      "Salary :  287482749\n",
      "Salary limit is unexpected.\n"
     ]
    }
   ],
   "source": [
    "try:\n",
    "    salary = int(input(\"Enter salary : \"))\n",
    "    print(\"Salary : \",salary)\n",
    "    validate_salary(salary)\n",
    "except ValidateSalary as e:\n",
    "    print(e)"
   ]
  },
  {
   "cell_type": "markdown",
   "id": "3d0028e9",
   "metadata": {},
   "source": [
    "### General use of Exceptions"
   ]
  },
  {
   "cell_type": "code",
   "execution_count": 1,
   "id": "19d0ee98",
   "metadata": {},
   "outputs": [
    {
     "data": {
      "text/plain": [
       "50.0"
      ]
     },
     "execution_count": 1,
     "metadata": {},
     "output_type": "execute_result"
    }
   ],
   "source": [
    "100/2"
   ]
  },
  {
   "cell_type": "code",
   "execution_count": 3,
   "id": "3ee1ca35",
   "metadata": {},
   "outputs": [
    {
     "name": "stdout",
     "output_type": "stream",
     "text": [
      "Error\n"
     ]
    }
   ],
   "source": [
    "try:\n",
    "    10/0\n",
    "except:  # Generic Exception to print your custom msg\n",
    "    print(\"Error\")"
   ]
  },
  {
   "cell_type": "code",
   "execution_count": 4,
   "metadata": {},
   "outputs": [
    {
     "name": "stdout",
     "output_type": "stream",
     "text": [
      "Error\n"
     ]
    }
   ],
   "source": [
    "try:\n",
    "    10/\"abc\"\n",
    "except:\n",
    "    print(\"Error\")"
   ]
  },
  {
   "cell_type": "code",
   "execution_count": 5,
   "metadata": {},
   "outputs": [
    {
     "name": "stdout",
     "output_type": "stream",
     "text": [
      "Error  unsupported operand type(s) for /: 'int' and 'str'\n"
     ]
    }
   ],
   "source": [
    "try:\n",
    "    10/\"abc\"\n",
    "except Exception as e:\n",
    "    print(\"Error \",e)"
   ]
  },
  {
   "cell_type": "code",
   "execution_count": 6,
   "metadata": {},
   "outputs": [
    {
     "name": "stdout",
     "output_type": "stream",
     "text": [
      "Error :  division by zero\n"
     ]
    }
   ],
   "source": [
    "try:\n",
    "    10/0\n",
    "except Exception as e:\n",
    "    print(\"Error : \", e)"
   ]
  },
  {
   "cell_type": "code",
   "execution_count": 7,
   "id": "1174b27b",
   "metadata": {},
   "outputs": [
    {
     "name": "stdout",
     "output_type": "stream",
     "text": [
      "I am handling the error  division by zero\n"
     ]
    }
   ],
   "source": [
    "try:\n",
    "    10/0\n",
    "except ZeroDivisionError as e:\n",
    "    print(\"I am handling the error \", e)"
   ]
  },
  {
   "cell_type": "markdown",
   "id": "9a4d1079",
   "metadata": {},
   "source": [
    "- Best practice 1:\n",
    "1. Always catch specific error\n",
    "2. It provide specificity in exception handling\n"
   ]
  },
  {
   "cell_type": "code",
   "execution_count": 8,
   "id": "aff30001",
   "metadata": {},
   "outputs": [
    {
     "name": "stdout",
     "output_type": "stream",
     "text": [
      "Error  unsupported operand type(s) for /: 'int' and 'str'\n"
     ]
    }
   ],
   "source": [
    "try:\n",
    "    10/\"abc\"\n",
    "except TypeError as e:\n",
    "    print(\"Error \",e)"
   ]
  },
  {
   "cell_type": "markdown",
   "id": "506441c8",
   "metadata": {},
   "source": [
    "*Benefits of handling specific error* :\n",
    "1. You know what error is expected\n",
    "2. If other error comes which you were not able to think, you will be able to address that."
   ]
  },
  {
   "cell_type": "code",
   "execution_count": 9,
   "id": "d47abc04",
   "metadata": {},
   "outputs": [
    {
     "name": "stdout",
     "output_type": "stream",
     "text": [
      "The calculation is  3.3333333333333335\n",
      "Error  unsupported operand type(s) for /: 'int' and 'str'\n"
     ]
    }
   ],
   "source": [
    "# Example to handle some exceptions\n",
    "try:\n",
    "    10/\"3\"\n",
    "except TypeError as e:\n",
    "    print(\"The calculation is \", 10/int(\"3\"))\n",
    "    print(\"Error \",e)"
   ]
  },
  {
   "cell_type": "code",
   "execution_count": 10,
   "id": "7972be2c",
   "metadata": {},
   "outputs": [
    {
     "name": "stdout",
     "output_type": "stream",
     "text": [
      "Here I m handling the zero division error :  division by zero\n",
      "Since the denominator value is 0, using deffault value 1, the quotient is  10.0\n"
     ]
    }
   ],
   "source": [
    "# Another example of handling specific exceptions\n",
    "\n",
    "try:\n",
    "    10/0\n",
    "except ZeroDivisionError as e:\n",
    "    print(\"Here I m handling the zero division error : \",e)\n",
    "    print(\"Since the denominator value is 0, using deffault value 1, the quotient is \", 10/1)"
   ]
  },
  {
   "cell_type": "code",
   "execution_count": 11,
   "id": "6e666f11",
   "metadata": {},
   "outputs": [
    {
     "ename": "ValueError",
     "evalue": "invalid literal for int() with base 10: 'Anu'",
     "output_type": "error",
     "traceback": [
      "\u001b[1;31m---------------------------------------------------------------------------\u001b[0m",
      "\u001b[1;31mValueError\u001b[0m                                Traceback (most recent call last)",
      "Cell \u001b[1;32mIn[11], line 1\u001b[0m\n\u001b[1;32m----> 1\u001b[0m \u001b[38;5;28mint\u001b[39m(\u001b[38;5;124m\"\u001b[39m\u001b[38;5;124mAnu\u001b[39m\u001b[38;5;124m\"\u001b[39m)\n",
      "\u001b[1;31mValueError\u001b[0m: invalid literal for int() with base 10: 'Anu'"
     ]
    }
   ],
   "source": [
    "int(\"Anu\")"
   ]
  },
  {
   "cell_type": "code",
   "execution_count": 12,
   "id": "6bda519a",
   "metadata": {},
   "outputs": [
    {
     "name": "stdout",
     "output_type": "stream",
     "text": [
      "String cannot be converted to integer. invalid literal for int() with base 10: 'Anu'\n"
     ]
    }
   ],
   "source": [
    "try:\n",
    "    int(\"Anu\")\n",
    "except ValueError as e:\n",
    "    print(\"String cannot be converted to integer.\", e)"
   ]
  },
  {
   "cell_type": "markdown",
   "id": "772fffa7",
   "metadata": {},
   "source": [
    "- Handling two specific exception at a time"
   ]
  },
  {
   "cell_type": "code",
   "execution_count": 13,
   "id": "c00d366d",
   "metadata": {},
   "outputs": [
    {
     "name": "stdout",
     "output_type": "stream",
     "text": [
      "The division is not possible due to error : unsupported operand type(s) for /: 'int' and 'str'\n"
     ]
    }
   ],
   "source": [
    "try:\n",
    "    10/\"3\"\n",
    "except (ZeroDivisionError, TypeError) as e:\n",
    "    print(\"The division is not possible due to error :\",e)"
   ]
  },
  {
   "cell_type": "code",
   "execution_count": 14,
   "id": "22d83f3b",
   "metadata": {},
   "outputs": [
    {
     "name": "stdout",
     "output_type": "stream",
     "text": [
      "The division is not possible due to error : division by zero\n"
     ]
    }
   ],
   "source": [
    "try:\n",
    "    10/0\n",
    "except (ZeroDivisionError, TypeError) as e:\n",
    "    print(\"The division is not possible due to error :\",e)"
   ]
  },
  {
   "cell_type": "code",
   "execution_count": 15,
   "id": "79301534",
   "metadata": {},
   "outputs": [
    {
     "name": "stdout",
     "output_type": "stream",
     "text": [
      "The division is not possible due to error : division by zero\n"
     ]
    }
   ],
   "source": [
    "try:\n",
    "    10/0\n",
    "except ZeroDivisionError as e:\n",
    "    print(\"The division is not possible due to error :\",e)\n",
    "except ValueError as e:\n",
    "    print(\"This is value error : \",e)"
   ]
  },
  {
   "cell_type": "code",
   "execution_count": 17,
   "id": "c71b9c60",
   "metadata": {},
   "outputs": [
    {
     "name": "stdout",
     "output_type": "stream",
     "text": [
      "This is value error :  unsupported operand type(s) for /: 'int' and 'str'\n"
     ]
    }
   ],
   "source": [
    "try:\n",
    "    10/\"3\"\n",
    "except ZeroDivisionError as e:\n",
    "    print(\"The division is not possible due to error :\",e)\n",
    "except TypeError as e:\n",
    "    print(\"This is value error : \",e)"
   ]
  },
  {
   "cell_type": "code",
   "execution_count": 18,
   "id": "2118c7c7",
   "metadata": {},
   "outputs": [],
   "source": [
    "import csv"
   ]
  },
  {
   "cell_type": "code",
   "execution_count": 19,
   "id": "d384b48e",
   "metadata": {},
   "outputs": [
    {
     "ename": "ModuleNotFoundError",
     "evalue": "No module named 'pwskills'",
     "output_type": "error",
     "traceback": [
      "\u001b[1;31m---------------------------------------------------------------------------\u001b[0m",
      "\u001b[1;31mModuleNotFoundError\u001b[0m                       Traceback (most recent call last)",
      "Cell \u001b[1;32mIn[19], line 1\u001b[0m\n\u001b[1;32m----> 1\u001b[0m \u001b[38;5;28;01mimport\u001b[39;00m\u001b[38;5;250m \u001b[39m\u001b[38;5;21;01mpwskills\u001b[39;00m\n",
      "\u001b[1;31mModuleNotFoundError\u001b[0m: No module named 'pwskills'"
     ]
    }
   ],
   "source": [
    "import pwskills"
   ]
  },
  {
   "cell_type": "code",
   "execution_count": 20,
   "id": "a5e6a16d",
   "metadata": {},
   "outputs": [
    {
     "name": "stdout",
     "output_type": "stream",
     "text": [
      "Error is :  No module named 'pwskills'\n"
     ]
    }
   ],
   "source": [
    "try:\n",
    "    import pwskills\n",
    "except ModuleNotFoundError as e:\n",
    "    print(\"Error is : \",e)"
   ]
  },
  {
   "cell_type": "code",
   "execution_count": 21,
   "id": "b59d82f8",
   "metadata": {},
   "outputs": [
    {
     "name": "stdout",
     "output_type": "stream",
     "text": [
      "The 'age' key is not found.\n"
     ]
    }
   ],
   "source": [
    "try:\n",
    "    d = {\"Name \":\"anu\", \"Place\" : \"Banglore\"}\n",
    "    d[\"age\"]\n",
    "except KeyError as e:\n",
    "    print(f\"The {e} key is not found.\")"
   ]
  },
  {
   "cell_type": "code",
   "execution_count": 22,
   "id": "d4a1beea",
   "metadata": {},
   "outputs": [
    {
     "name": "stdout",
     "output_type": "stream",
     "text": [
      "No such file is heree:  [Errno 2] No such file or directory: 'Pragg.txt'\n"
     ]
    }
   ],
   "source": [
    "try:\n",
    "    open(\"Pragg.txt\", \"r\")\n",
    "    f.read()\n",
    "except FileNotFoundError as e:\n",
    "    print(\"No such file is heree: \",e)"
   ]
  },
  {
   "cell_type": "markdown",
   "id": "13890ca7",
   "metadata": {},
   "source": [
    "- Best practice >> Always try in log"
   ]
  },
  {
   "cell_type": "code",
   "execution_count": 24,
   "id": "b36e1304",
   "metadata": {},
   "outputs": [
    {
     "name": "stderr",
     "output_type": "stream",
     "text": [
      "--- Logging error ---\n",
      "Traceback (most recent call last):\n",
      "  File \"C:\\Users\\DAV BABA\\AppData\\Local\\Temp\\ipykernel_10112\\2352308473.py\", line 4, in <module>\n",
      "    f = open(\"pragg.txt\", \"r\")\n",
      "  File \"c:\\Users\\DAV BABA\\anaconda3\\Lib\\site-packages\\IPython\\core\\interactiveshell.py\", line 324, in _modified_open\n",
      "    return io_open(file, *args, **kwargs)\n",
      "FileNotFoundError: [Errno 2] No such file or directory: 'pragg.txt'\n",
      "\n",
      "During handling of the above exception, another exception occurred:\n",
      "\n",
      "Traceback (most recent call last):\n",
      "  File \"c:\\Users\\DAV BABA\\anaconda3\\Lib\\logging\\__init__.py\", line 1151, in emit\n",
      "    msg = self.format(record)\n",
      "  File \"c:\\Users\\DAV BABA\\anaconda3\\Lib\\logging\\__init__.py\", line 999, in format\n",
      "    return fmt.format(record)\n",
      "           ~~~~~~~~~~^^^^^^^^\n",
      "  File \"c:\\Users\\DAV BABA\\anaconda3\\Lib\\logging\\__init__.py\", line 712, in format\n",
      "    record.message = record.getMessage()\n",
      "                     ~~~~~~~~~~~~~~~~~^^\n",
      "  File \"c:\\Users\\DAV BABA\\anaconda3\\Lib\\logging\\__init__.py\", line 400, in getMessage\n",
      "    msg = msg % self.args\n",
      "          ~~~~^~~~~~~~~~~\n",
      "TypeError: not all arguments converted during string formatting\n",
      "Call stack:\n",
      "  File \"<frozen runpy>\", line 198, in _run_module_as_main\n",
      "  File \"<frozen runpy>\", line 88, in _run_code\n",
      "  File \"c:\\Users\\DAV BABA\\anaconda3\\Lib\\site-packages\\ipykernel_launcher.py\", line 18, in <module>\n",
      "    app.launch_new_instance()\n",
      "  File \"c:\\Users\\DAV BABA\\anaconda3\\Lib\\site-packages\\traitlets\\config\\application.py\", line 1075, in launch_instance\n",
      "    app.start()\n",
      "  File \"c:\\Users\\DAV BABA\\anaconda3\\Lib\\site-packages\\ipykernel\\kernelapp.py\", line 739, in start\n",
      "    self.io_loop.start()\n",
      "  File \"c:\\Users\\DAV BABA\\anaconda3\\Lib\\site-packages\\tornado\\platform\\asyncio.py\", line 211, in start\n",
      "    self.asyncio_loop.run_forever()\n",
      "  File \"c:\\Users\\DAV BABA\\anaconda3\\Lib\\asyncio\\base_events.py\", line 683, in run_forever\n",
      "    self._run_once()\n",
      "  File \"c:\\Users\\DAV BABA\\anaconda3\\Lib\\asyncio\\base_events.py\", line 2042, in _run_once\n",
      "    handle._run()\n",
      "  File \"c:\\Users\\DAV BABA\\anaconda3\\Lib\\asyncio\\events.py\", line 89, in _run\n",
      "    self._context.run(self._callback, *self._args)\n",
      "  File \"c:\\Users\\DAV BABA\\anaconda3\\Lib\\site-packages\\ipykernel\\kernelbase.py\", line 545, in dispatch_queue\n",
      "    await self.process_one()\n",
      "  File \"c:\\Users\\DAV BABA\\anaconda3\\Lib\\site-packages\\ipykernel\\kernelbase.py\", line 534, in process_one\n",
      "    await dispatch(*args)\n",
      "  File \"c:\\Users\\DAV BABA\\anaconda3\\Lib\\site-packages\\ipykernel\\kernelbase.py\", line 437, in dispatch_shell\n",
      "    await result\n",
      "  File \"c:\\Users\\DAV BABA\\anaconda3\\Lib\\site-packages\\ipykernel\\ipkernel.py\", line 362, in execute_request\n",
      "    await super().execute_request(stream, ident, parent)\n",
      "  File \"c:\\Users\\DAV BABA\\anaconda3\\Lib\\site-packages\\ipykernel\\kernelbase.py\", line 778, in execute_request\n",
      "    reply_content = await reply_content\n",
      "  File \"c:\\Users\\DAV BABA\\anaconda3\\Lib\\site-packages\\ipykernel\\ipkernel.py\", line 449, in do_execute\n",
      "    res = shell.run_cell(\n",
      "  File \"c:\\Users\\DAV BABA\\anaconda3\\Lib\\site-packages\\ipykernel\\zmqshell.py\", line 549, in run_cell\n",
      "    return super().run_cell(*args, **kwargs)\n",
      "  File \"c:\\Users\\DAV BABA\\anaconda3\\Lib\\site-packages\\IPython\\core\\interactiveshell.py\", line 3075, in run_cell\n",
      "    result = self._run_cell(\n",
      "  File \"c:\\Users\\DAV BABA\\anaconda3\\Lib\\site-packages\\IPython\\core\\interactiveshell.py\", line 3130, in _run_cell\n",
      "    result = runner(coro)\n",
      "  File \"c:\\Users\\DAV BABA\\anaconda3\\Lib\\site-packages\\IPython\\core\\async_helpers.py\", line 128, in _pseudo_sync_runner\n",
      "    coro.send(None)\n",
      "  File \"c:\\Users\\DAV BABA\\anaconda3\\Lib\\site-packages\\IPython\\core\\interactiveshell.py\", line 3334, in run_cell_async\n",
      "    has_raised = await self.run_ast_nodes(code_ast.body, cell_name,\n",
      "  File \"c:\\Users\\DAV BABA\\anaconda3\\Lib\\site-packages\\IPython\\core\\interactiveshell.py\", line 3517, in run_ast_nodes\n",
      "    if await self.run_code(code, result, async_=asy):\n",
      "  File \"c:\\Users\\DAV BABA\\anaconda3\\Lib\\site-packages\\IPython\\core\\interactiveshell.py\", line 3577, in run_code\n",
      "    exec(code_obj, self.user_global_ns, self.user_ns)\n",
      "  File \"C:\\Users\\DAV BABA\\AppData\\Local\\Temp\\ipykernel_10112\\2352308473.py\", line 7, in <module>\n",
      "    logging.error(\"The following file is not created : \",e)\n",
      "Message: 'The following file is not created : '\n",
      "Arguments: (FileNotFoundError(2, 'No such file or directory'),)\n"
     ]
    }
   ],
   "source": [
    "import logging\n",
    "logging.basicConfig(filename= \"program.log\", level=logging.DEBUG)\n",
    "try:\n",
    "    f = open(\"pragg.txt\", \"r\")\n",
    "    f.read()\n",
    "except FileNotFoundError as e:\n",
    "    logging.error(\"The following file is not created : \",e)"
   ]
  },
  {
   "cell_type": "code",
   "execution_count": 26,
   "id": "a95fe95b",
   "metadata": {},
   "outputs": [],
   "source": [
    "logging.basicConfig(filename= \"program.log\", level=logging.DEBUG)\n",
    "try:\n",
    "    10/0\n",
    "except ZeroDivisionError as e:\n",
    "    logging.error(f\"The error we found is {e}\")"
   ]
  },
  {
   "cell_type": "code",
   "execution_count": 28,
   "id": "6a6abbfb",
   "metadata": {},
   "outputs": [],
   "source": [
    "# Putting exception handling in a function\n",
    "def test(file):\n",
    "    try:\n",
    "        f = open(file, \"r\")\n",
    "        f.read()\n",
    "    except FileNotFoundError as e:\n",
    "        logging.error(f\"My files was not found {e}\")"
   ]
  },
  {
   "cell_type": "code",
   "execution_count": 29,
   "id": "0646e6e0",
   "metadata": {},
   "outputs": [],
   "source": [
    "test(\"prag.txt\")"
   ]
  },
  {
   "cell_type": "markdown",
   "id": "7ba7825e",
   "metadata": {},
   "source": [
    "*_NOTE_* :\n",
    "- Do not try to use unnecessary multiple exceptions.\n",
    "- Use the exceptions only where it is required.\n",
    "- ALways give proper documentation and comment.\n",
    "- Always clean up the resources."
   ]
  },
  {
   "cell_type": "code",
   "execution_count": null,
   "id": "d9004c46",
   "metadata": {},
   "outputs": [],
   "source": []
  }
 ],
 "metadata": {
  "kernelspec": {
   "display_name": "base",
   "language": "python",
   "name": "python3"
  },
  "language_info": {
   "codemirror_mode": {
    "name": "ipython",
    "version": 3
   },
   "file_extension": ".py",
   "mimetype": "text/x-python",
   "name": "python",
   "nbconvert_exporter": "python",
   "pygments_lexer": "ipython3",
   "version": "3.13.5"
  }
 },
 "nbformat": 4,
 "nbformat_minor": 5
}
