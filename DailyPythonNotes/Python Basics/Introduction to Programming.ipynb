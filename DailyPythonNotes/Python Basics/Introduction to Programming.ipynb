{
 "cells": [
  {
   "cell_type": "markdown",
   "id": "ed650a8e",
   "metadata": {},
   "source": [
    "# Introduction to programming"
   ]
  },
  {
   "cell_type": "markdown",
   "id": "30990f31",
   "metadata": {},
   "source": [
    "Pragramming Language is a formal language which is used for creating instructions for computer or machine to follow.\n",
    "It is set of rules and symbols that define the process of writing computers programme.\n",
    "It is sets of special rules or symbols that you use to give instructions to a computer.\n"
   ]
  },
  {
   "cell_type": "markdown",
   "id": "1cfc8de9",
   "metadata": {},
   "source": [
    "## **Why do we study programming language?**\n",
    "1. Interaction with machine/computer\n",
    "2. Software programmes- Websites,applications,etc.\n",
    "3. Embedded devices\n",
    "4. Robotics"
   ]
  },
  {
   "cell_type": "markdown",
   "id": "127d0c25",
   "metadata": {},
   "source": [
    "## **How to learn programming language?**\n",
    "1. Basics\n",
    "2. Syntax\n",
    "3. Data types\n",
    "4. Variables\n",
    "5. Operators\n",
    "6. Statements\n",
    "7. Functions\n",
    "8. Modules"
   ]
  },
  {
   "cell_type": "markdown",
   "id": "916f0b87",
   "metadata": {},
   "source": [
    "## Why Python?\n",
    "1. Widely used in industry on worldwide level\n",
    "2. Used in Data industry---- R<<< Python\n",
    "3. A lot of libraries.\n",
    "4. Frontend, Backend Data analysis\n",
    "5. Automation\n",
    "6. Simple & Dynamically types << No need to declare variable type like in C++\n",
    "7. Robust << Handles the error very effectively\n",
    "8. Supports multiple programming paradigms ( Procedure Oriented + Object Oriented) << Combine data and functionality.\n",
    "9. Compiler as well as interpretor << Compilation part is hidden from programmer.\n",
    "10. Cross plateform << used on Windows, MacOs, Linux , etc.\n",
    "11. Extensible << we can call C++, Java using python itself.\n",
    "A. Ease of learning\n",
    "B. Versatility << Web Development, ML, etc.\n",
    "C. Active Community\n"
   ]
  },
  {
   "cell_type": "markdown",
   "id": "1547523c",
   "metadata": {},
   "source": [
    "Code<< Instructions provided to machine.\n",
    "IDE<< Integrated Development Environment Software<< we need plateform (Environment) to execute codes<< VS Code,PyCharm,GoogleColab, etc.\n",
    "Computer(Python) will execute code directly using IDE."
   ]
  },
  {
   "cell_type": "markdown",
   "id": "25ae9b01",
   "metadata": {},
   "source": [
    "##Python\n",
    "A programming language developed by Gycid Van Rossum in 1991."
   ]
  },
  {
   "cell_type": "markdown",
   "id": "f1cce320",
   "metadata": {},
   "source": [
    "##Variables\n",
    "are also called Identifiers<< placeholder where we keep variety of data by which we can use to write logic.\n",
    "\"Variables are reserved memory space for storing values.\"\n",
    "1. Integer<< (int) << 2\n",
    "2. Decimal No.<< (float) << 2.8\n",
    "3. Characters << (string) << \"apple\"\n",
    "4. Boolean Value << (bool) << True/False\n",
    "5. Nothing << (none) << No value to show\n",
    "\n",
    "\n",
    "\n"
   ]
  },
  {
   "cell_type": "code",
   "execution_count": 1,
   "id": "a4679f7b",
   "metadata": {},
   "outputs": [
    {
     "data": {
      "text/plain": [
       "3"
      ]
     },
     "execution_count": 1,
     "metadata": {},
     "output_type": "execute_result"
    }
   ],
   "source": [
    "b=3 #Address for reserved memory\n",
    "b"
   ]
  },
  {
   "cell_type": "markdown",
   "id": "326f5c26",
   "metadata": {},
   "source": [
    "## Data types"
   ]
  },
  {
   "cell_type": "code",
   "execution_count": 2,
   "id": "ed9ff6f0",
   "metadata": {},
   "outputs": [
    {
     "data": {
      "text/plain": [
       "4"
      ]
     },
     "execution_count": 2,
     "metadata": {},
     "output_type": "execute_result"
    }
   ],
   "source": [
    "a=4\n",
    "a"
   ]
  },
  {
   "cell_type": "code",
   "execution_count": 3,
   "id": "9c94f617",
   "metadata": {},
   "outputs": [
    {
     "data": {
      "text/plain": [
       "int"
      ]
     },
     "execution_count": 3,
     "metadata": {},
     "output_type": "execute_result"
    }
   ],
   "source": [
    "type(a)"
   ]
  },
  {
   "cell_type": "code",
   "execution_count": 4,
   "id": "77d6e144",
   "metadata": {},
   "outputs": [
    {
     "data": {
      "text/plain": [
       "4.5"
      ]
     },
     "execution_count": 4,
     "metadata": {},
     "output_type": "execute_result"
    }
   ],
   "source": [
    "b=4.5\n",
    "b"
   ]
  },
  {
   "cell_type": "code",
   "execution_count": 5,
   "id": "51edf7bd",
   "metadata": {},
   "outputs": [
    {
     "data": {
      "text/plain": [
       "float"
      ]
     },
     "execution_count": 5,
     "metadata": {},
     "output_type": "execute_result"
    }
   ],
   "source": [
    "type(b)"
   ]
  },
  {
   "cell_type": "code",
   "execution_count": 6,
   "id": "dd190035",
   "metadata": {},
   "outputs": [
    {
     "data": {
      "text/plain": [
       "'Prag'"
      ]
     },
     "execution_count": 6,
     "metadata": {},
     "output_type": "execute_result"
    }
   ],
   "source": [
    "c=\"Prag\"\n",
    "c"
   ]
  },
  {
   "cell_type": "code",
   "execution_count": 7,
   "id": "ac34f5a3",
   "metadata": {},
   "outputs": [
    {
     "data": {
      "text/plain": [
       "str"
      ]
     },
     "execution_count": 7,
     "metadata": {},
     "output_type": "execute_result"
    }
   ],
   "source": [
    "type(c)"
   ]
  },
  {
   "cell_type": "code",
   "execution_count": 8,
   "id": "c9b88128",
   "metadata": {},
   "outputs": [
    {
     "data": {
      "text/plain": [
       "True"
      ]
     },
     "execution_count": 8,
     "metadata": {},
     "output_type": "execute_result"
    }
   ],
   "source": [
    "d=True\n",
    "d"
   ]
  },
  {
   "cell_type": "code",
   "execution_count": 9,
   "id": "a91fbc58",
   "metadata": {},
   "outputs": [
    {
     "data": {
      "text/plain": [
       "bool"
      ]
     },
     "execution_count": 9,
     "metadata": {},
     "output_type": "execute_result"
    }
   ],
   "source": [
    "type(d)"
   ]
  },
  {
   "cell_type": "code",
   "execution_count": 10,
   "id": "8f2f8c25",
   "metadata": {},
   "outputs": [
    {
     "data": {
      "text/plain": [
       "1"
      ]
     },
     "execution_count": 10,
     "metadata": {},
     "output_type": "execute_result"
    }
   ],
   "source": [
    "True-False\n"
   ]
  },
  {
   "cell_type": "code",
   "execution_count": 11,
   "id": "a3e7aa03",
   "metadata": {},
   "outputs": [
    {
     "data": {
      "text/plain": [
       "0"
      ]
     },
     "execution_count": 11,
     "metadata": {},
     "output_type": "execute_result"
    }
   ],
   "source": [
    "True*False"
   ]
  },
  {
   "cell_type": "code",
   "execution_count": 12,
   "id": "e2eb4a64",
   "metadata": {},
   "outputs": [],
   "source": [
    "f=None\n",
    "f"
   ]
  },
  {
   "cell_type": "code",
   "execution_count": 13,
   "id": "83677dc8",
   "metadata": {},
   "outputs": [
    {
     "data": {
      "text/plain": [
       "NoneType"
      ]
     },
     "execution_count": 13,
     "metadata": {},
     "output_type": "execute_result"
    }
   ],
   "source": [
    "type(f)"
   ]
  },
  {
   "cell_type": "code",
   "execution_count": 14,
   "id": "a07dca4b",
   "metadata": {},
   "outputs": [
    {
     "data": {
      "text/plain": [
       "(5+6j)"
      ]
     },
     "execution_count": 14,
     "metadata": {},
     "output_type": "execute_result"
    }
   ],
   "source": [
    "com=5+6j\n",
    "com"
   ]
  },
  {
   "cell_type": "code",
   "execution_count": 15,
   "id": "1546dc27",
   "metadata": {},
   "outputs": [
    {
     "data": {
      "text/plain": [
       "complex"
      ]
     },
     "execution_count": 15,
     "metadata": {},
     "output_type": "execute_result"
    }
   ],
   "source": [
    "type(com)"
   ]
  },
  {
   "cell_type": "code",
   "execution_count": 16,
   "id": "abf7c28f",
   "metadata": {},
   "outputs": [
    {
     "data": {
      "text/plain": [
       "5.0"
      ]
     },
     "execution_count": 16,
     "metadata": {},
     "output_type": "execute_result"
    }
   ],
   "source": [
    "com.real"
   ]
  },
  {
   "cell_type": "code",
   "execution_count": 17,
   "id": "6b08a378",
   "metadata": {},
   "outputs": [
    {
     "data": {
      "text/plain": [
       "6.0"
      ]
     },
     "execution_count": 17,
     "metadata": {},
     "output_type": "execute_result"
    }
   ],
   "source": [
    "com.imag"
   ]
  },
  {
   "cell_type": "markdown",
   "id": "3557468f",
   "metadata": {},
   "source": [
    "## Rules for defining a variable\n",
    "1. Start with letter or underscore\n",
    "2. Never starts with number\n",
    "3. Keywords can never be a variable\n",
    "4. variables are case sensitive"
   ]
  },
  {
   "cell_type": "code",
   "execution_count": 18,
   "id": "8308e801",
   "metadata": {},
   "outputs": [
    {
     "data": {
      "text/plain": [
       "'Prag'"
      ]
     },
     "execution_count": 18,
     "metadata": {},
     "output_type": "execute_result"
    }
   ],
   "source": [
    "name=\"Prag\"\n",
    "name"
   ]
  },
  {
   "cell_type": "code",
   "execution_count": 19,
   "id": "f136bba6",
   "metadata": {},
   "outputs": [
    {
     "data": {
      "text/plain": [
       "'Anu'"
      ]
     },
     "execution_count": 19,
     "metadata": {},
     "output_type": "execute_result"
    }
   ],
   "source": [
    "_name=\"Anu\"\n",
    "_name"
   ]
  },
  {
   "cell_type": "markdown",
   "id": "5510349e",
   "metadata": {},
   "source": [
    "## Keywords\n",
    "Predefined words that holds a special meaning and specific purpose in programming language.\n",
    "It is fixed and never changed."
   ]
  },
  {
   "cell_type": "code",
   "execution_count": 20,
   "id": "aa3ee135",
   "metadata": {},
   "outputs": [
    {
     "name": "stdout",
     "output_type": "stream",
     "text": [
      "\n",
      "Here is a list of the Python keywords.  Enter any keyword to get more help.\n",
      "\n",
      "False               class               from                or\n",
      "None                continue            global              pass\n",
      "True                def                 if                  raise\n",
      "and                 del                 import              return\n",
      "as                  elif                in                  try\n",
      "assert              else                is                  while\n",
      "async               except              lambda              with\n",
      "await               finally             nonlocal            yield\n",
      "break               for                 not                 \n",
      "\n"
     ]
    }
   ],
   "source": [
    "help('keywords')"
   ]
  },
  {
   "cell_type": "code",
   "execution_count": 21,
   "id": "3d48e7bc",
   "metadata": {},
   "outputs": [
    {
     "name": "stdout",
     "output_type": "stream",
     "text": [
      "greater\n"
     ]
    }
   ],
   "source": [
    "if 3>2:\n",
    "  print(\"greater\") #indentation is the specific way to write a code."
   ]
  },
  {
   "cell_type": "markdown",
   "id": "e8c7b92c",
   "metadata": {},
   "source": [
    "## Statements\n",
    "Statements can be of many types\n",
    "1. Expression statements\n",
    "2. Assignment statements\n",
    "3. Condition statements\n",
    "4. Loop Statements"
   ]
  },
  {
   "cell_type": "code",
   "execution_count": 22,
   "id": "fed1f606",
   "metadata": {},
   "outputs": [
    {
     "data": {
      "text/plain": [
       "13"
      ]
     },
     "execution_count": 22,
     "metadata": {},
     "output_type": "execute_result"
    }
   ],
   "source": [
    "#Assignment Statements << Assigning any value to a vaiable\n",
    "a=5\n",
    "b=8\n",
    "a+b"
   ]
  },
  {
   "cell_type": "code",
   "execution_count": 23,
   "id": "2ee62979",
   "metadata": {},
   "outputs": [],
   "source": [
    "#Expression Statement << using calculation"
   ]
  },
  {
   "cell_type": "code",
   "execution_count": 24,
   "id": "9057d554",
   "metadata": {},
   "outputs": [],
   "source": [
    "#Input operator << If you want some user to give value of variable"
   ]
  },
  {
   "cell_type": "code",
   "execution_count": 25,
   "id": "570e7918",
   "metadata": {},
   "outputs": [],
   "source": [
    "name=input(\"Enter your name \")"
   ]
  },
  {
   "cell_type": "code",
   "execution_count": 26,
   "id": "1bf76bad",
   "metadata": {},
   "outputs": [],
   "source": [
    "age=int(input(\"Enter your age \"))"
   ]
  },
  {
   "cell_type": "markdown",
   "id": "cf95deb1",
   "metadata": {},
   "source": [
    "##Typecasting\n",
    "to change the type of data/variable"
   ]
  },
  {
   "cell_type": "code",
   "execution_count": 27,
   "id": "4a27c675",
   "metadata": {},
   "outputs": [
    {
     "data": {
      "text/plain": [
       "str"
      ]
     },
     "execution_count": 27,
     "metadata": {},
     "output_type": "execute_result"
    }
   ],
   "source": [
    "a=\"3.5\"\n",
    "type(a)"
   ]
  },
  {
   "cell_type": "code",
   "execution_count": 28,
   "id": "5680b71d",
   "metadata": {},
   "outputs": [
    {
     "data": {
      "text/plain": [
       "float"
      ]
     },
     "execution_count": 28,
     "metadata": {},
     "output_type": "execute_result"
    }
   ],
   "source": [
    "type(float(a))"
   ]
  },
  {
   "cell_type": "code",
   "execution_count": 29,
   "id": "d82fbf6c",
   "metadata": {},
   "outputs": [
    {
     "data": {
      "text/plain": [
       "109"
      ]
     },
     "execution_count": 29,
     "metadata": {},
     "output_type": "execute_result"
    }
   ],
   "source": [
    "s=109\n",
    "s"
   ]
  },
  {
   "cell_type": "code",
   "execution_count": 30,
   "id": "e284b8c0",
   "metadata": {},
   "outputs": [
    {
     "data": {
      "text/plain": [
       "109"
      ]
     },
     "execution_count": 30,
     "metadata": {},
     "output_type": "execute_result"
    }
   ],
   "source": [
    "int(s)"
   ]
  },
  {
   "cell_type": "code",
   "execution_count": 31,
   "id": "e1d0c490",
   "metadata": {},
   "outputs": [
    {
     "data": {
      "text/plain": [
       "109.0"
      ]
     },
     "execution_count": 31,
     "metadata": {},
     "output_type": "execute_result"
    }
   ],
   "source": [
    "float(s)"
   ]
  },
  {
   "cell_type": "code",
   "execution_count": 32,
   "id": "0e90c534",
   "metadata": {},
   "outputs": [
    {
     "data": {
      "text/plain": [
       "'109'"
      ]
     },
     "execution_count": 32,
     "metadata": {},
     "output_type": "execute_result"
    }
   ],
   "source": [
    "str(s)"
   ]
  },
  {
   "cell_type": "code",
   "execution_count": 33,
   "id": "9bc6f479",
   "metadata": {},
   "outputs": [
    {
     "data": {
      "text/plain": [
       "'Anuu'"
      ]
     },
     "execution_count": 33,
     "metadata": {},
     "output_type": "execute_result"
    }
   ],
   "source": [
    "b=\"Anuu\"\n",
    "b"
   ]
  },
  {
   "cell_type": "code",
   "execution_count": 34,
   "id": "383333f3",
   "metadata": {},
   "outputs": [
    {
     "data": {
      "text/plain": [
       "'A'"
      ]
     },
     "execution_count": 34,
     "metadata": {},
     "output_type": "execute_result"
    }
   ],
   "source": [
    "b[0] #memory block"
   ]
  },
  {
   "cell_type": "code",
   "execution_count": 35,
   "id": "7b9f51d2",
   "metadata": {},
   "outputs": [
    {
     "data": {
      "text/plain": [
       "'A'"
      ]
     },
     "execution_count": 35,
     "metadata": {},
     "output_type": "execute_result"
    }
   ],
   "source": [
    "b[-4]"
   ]
  },
  {
   "cell_type": "code",
   "execution_count": 36,
   "id": "87940733",
   "metadata": {},
   "outputs": [
    {
     "data": {
      "text/plain": [
       "'u'"
      ]
     },
     "execution_count": 36,
     "metadata": {},
     "output_type": "execute_result"
    }
   ],
   "source": [
    "b[-1]"
   ]
  },
  {
   "cell_type": "markdown",
   "id": "67e2bba3",
   "metadata": {},
   "source": [
    "##List\n",
    "It is a container which can hold all types of data"
   ]
  },
  {
   "cell_type": "code",
   "execution_count": 37,
   "id": "30282bd2",
   "metadata": {},
   "outputs": [
    {
     "data": {
      "text/plain": [
       "[1, 2, (3+4j), True, 5.6, 'Anu']"
      ]
     },
     "execution_count": 37,
     "metadata": {},
     "output_type": "execute_result"
    }
   ],
   "source": [
    "list_cont=[1,2,3+4j,True,5.6,\"Anu\"]\n",
    "list_cont"
   ]
  },
  {
   "cell_type": "code",
   "execution_count": 38,
   "id": "dcf8cbf6",
   "metadata": {},
   "outputs": [
    {
     "data": {
      "text/plain": [
       "True"
      ]
     },
     "execution_count": 38,
     "metadata": {},
     "output_type": "execute_result"
    }
   ],
   "source": [
    "list_cont[3]"
   ]
  },
  {
   "cell_type": "code",
   "execution_count": 39,
   "id": "2a25a6ff",
   "metadata": {},
   "outputs": [
    {
     "data": {
      "text/plain": [
       "list"
      ]
     },
     "execution_count": 39,
     "metadata": {},
     "output_type": "execute_result"
    }
   ],
   "source": [
    "type(list_cont)"
   ]
  },
  {
   "cell_type": "markdown",
   "id": "7d5f9441",
   "metadata": {},
   "source": [
    "##Mutability\n",
    "which are editable and changeable"
   ]
  },
  {
   "cell_type": "code",
   "execution_count": 40,
   "id": "d9a1c8ba",
   "metadata": {},
   "outputs": [
    {
     "data": {
      "text/plain": [
       "'Anu'"
      ]
     },
     "execution_count": 40,
     "metadata": {},
     "output_type": "execute_result"
    }
   ],
   "source": [
    "list_cont[5]"
   ]
  },
  {
   "cell_type": "code",
   "execution_count": 41,
   "id": "a0635e49",
   "metadata": {},
   "outputs": [],
   "source": [
    "#Objects/ container whose states or value can be changed after they are created are called mutable objects.\n",
    "#list is a type of mutable objects.\n",
    "#Str is not mutable object"
   ]
  },
  {
   "cell_type": "code",
   "execution_count": 42,
   "id": "f3c2db2a",
   "metadata": {},
   "outputs": [
    {
     "data": {
      "text/plain": [
       "'pragati'"
      ]
     },
     "execution_count": 42,
     "metadata": {},
     "output_type": "execute_result"
    }
   ],
   "source": [
    "b=\"pragati\"\n",
    "b"
   ]
  },
  {
   "cell_type": "code",
   "execution_count": 43,
   "id": "b79066ad",
   "metadata": {},
   "outputs": [
    {
     "data": {
      "text/plain": [
       "'p'"
      ]
     },
     "execution_count": 43,
     "metadata": {},
     "output_type": "execute_result"
    }
   ],
   "source": [
    "b[0]"
   ]
  },
  {
   "cell_type": "markdown",
   "id": "8645a2dc",
   "metadata": {},
   "source": [
    "##Typecasting\n",
    "The process of changing the data type of value / object."
   ]
  },
  {
   "cell_type": "code",
   "execution_count": 44,
   "id": "6084aea8",
   "metadata": {},
   "outputs": [
    {
     "data": {
      "text/plain": [
       "5"
      ]
     },
     "execution_count": 44,
     "metadata": {},
     "output_type": "execute_result"
    }
   ],
   "source": [
    "a=\"2\"\n",
    "b=3\n",
    "#a+b ----> Error string value cann not be added with int value >> so we need typecasting\n",
    "int(a)+b"
   ]
  },
  {
   "cell_type": "code",
   "execution_count": 45,
   "id": "12abb453",
   "metadata": {},
   "outputs": [],
   "source": [
    "#Str to int and float\n",
    "a=\"2\"\n"
   ]
  },
  {
   "cell_type": "code",
   "execution_count": 46,
   "id": "373874de",
   "metadata": {},
   "outputs": [
    {
     "name": "stdout",
     "output_type": "stream",
     "text": [
      "<class 'str'>\n",
      "<class 'int'>\n",
      "<class 'float'>\n"
     ]
    }
   ],
   "source": [
    "print(type(a))\n",
    "print(type(int(a)))\n",
    "print(type(float(a)))"
   ]
  },
  {
   "cell_type": "code",
   "execution_count": 47,
   "id": "6efca6f3",
   "metadata": {},
   "outputs": [
    {
     "data": {
      "text/plain": [
       "float"
      ]
     },
     "execution_count": 47,
     "metadata": {},
     "output_type": "execute_result"
    }
   ],
   "source": [
    "# float to int\n",
    "b=23.45\n",
    "type(b)"
   ]
  },
  {
   "cell_type": "code",
   "execution_count": 48,
   "id": "76804407",
   "metadata": {},
   "outputs": [
    {
     "data": {
      "text/plain": [
       "int"
      ]
     },
     "execution_count": 48,
     "metadata": {},
     "output_type": "execute_result"
    }
   ],
   "source": [
    "float_value=int(b)\n",
    "type(float_value)"
   ]
  },
  {
   "cell_type": "code",
   "execution_count": 49,
   "id": "2c6548cc",
   "metadata": {},
   "outputs": [
    {
     "data": {
      "text/plain": [
       "int"
      ]
     },
     "execution_count": 49,
     "metadata": {},
     "output_type": "execute_result"
    }
   ],
   "source": [
    "# int to float and str\n",
    "a=56\n",
    "type(a)"
   ]
  },
  {
   "cell_type": "code",
   "execution_count": 50,
   "id": "97d7cfb8",
   "metadata": {},
   "outputs": [
    {
     "name": "stdout",
     "output_type": "stream",
     "text": [
      "56.0\n",
      "<class 'float'>\n"
     ]
    }
   ],
   "source": [
    "float_value=float(a)\n",
    "print(float_value)\n",
    "print(type(float_value))"
   ]
  },
  {
   "cell_type": "code",
   "execution_count": 51,
   "id": "f145cfce",
   "metadata": {},
   "outputs": [
    {
     "name": "stdout",
     "output_type": "stream",
     "text": [
      "56\n",
      "<class 'str'>\n"
     ]
    }
   ],
   "source": [
    "string=str(a)\n",
    "print(string)\n",
    "print(type(string))"
   ]
  },
  {
   "cell_type": "markdown",
   "id": "f13ce530",
   "metadata": {},
   "source": [
    "### There are two types of Typecasting\n",
    "- Explicit typecasting\n",
    "- Implicit Typecasting"
   ]
  },
  {
   "cell_type": "markdown",
   "id": "1b868751",
   "metadata": {},
   "source": [
    "### Explicit Typecasting\n",
    "- Datatype conversion is done by using in-built function as programmer has to do it."
   ]
  },
  {
   "cell_type": "code",
   "execution_count": 52,
   "id": "aa682f9f",
   "metadata": {},
   "outputs": [
    {
     "data": {
      "text/plain": [
       "str"
      ]
     },
     "execution_count": 52,
     "metadata": {},
     "output_type": "execute_result"
    }
   ],
   "source": [
    "a=\"23\"\n",
    "type(a)"
   ]
  },
  {
   "cell_type": "code",
   "execution_count": 53,
   "id": "d98e4065",
   "metadata": {},
   "outputs": [
    {
     "data": {
      "text/plain": [
       "23"
      ]
     },
     "execution_count": 53,
     "metadata": {},
     "output_type": "execute_result"
    }
   ],
   "source": [
    "int(a)"
   ]
  },
  {
   "cell_type": "code",
   "execution_count": 54,
   "id": "22d2e436",
   "metadata": {},
   "outputs": [
    {
     "data": {
      "text/plain": [
       "23.0"
      ]
     },
     "execution_count": 54,
     "metadata": {},
     "output_type": "execute_result"
    }
   ],
   "source": [
    "float(a)"
   ]
  },
  {
   "cell_type": "code",
   "execution_count": 55,
   "id": "cbd85a0f",
   "metadata": {},
   "outputs": [
    {
     "name": "stdout",
     "output_type": "stream",
     "text": [
      "abcxyz\n",
      "<class 'str'>\n"
     ]
    }
   ],
   "source": [
    "x=\"abc\"\n",
    "y=\"xyz\"\n",
    "x+y\n",
    "print(x+y)\n",
    "print(type(x+y))"
   ]
  },
  {
   "cell_type": "code",
   "execution_count": 56,
   "id": "1f8d6da0",
   "metadata": {},
   "outputs": [
    {
     "data": {
      "text/plain": [
       "'100pd'"
      ]
     },
     "execution_count": 56,
     "metadata": {},
     "output_type": "execute_result"
    }
   ],
   "source": [
    "#Now if we take one variable as str and other as int/float, operations cannot be done\n",
    "# it will throw concatenantion error\n",
    "a=100\n",
    "b=\"pd\"\n",
    "#a+b #unsupported operand type(s) for +: 'int' and 'str'\n",
    "# but if we convert both value in str. no error occured\n",
    "str(a)+b"
   ]
  },
  {
   "cell_type": "markdown",
   "id": "257e4a74",
   "metadata": {},
   "source": [
    "### Implicit Typecasting\n",
    "- DataType conversion is done by python itself. It i understandable to python.\n",
    "- int<float<complex"
   ]
  },
  {
   "cell_type": "code",
   "execution_count": 57,
   "id": "93026f0c",
   "metadata": {},
   "outputs": [
    {
     "data": {
      "text/plain": [
       "112.9"
      ]
     },
     "execution_count": 57,
     "metadata": {},
     "output_type": "execute_result"
    }
   ],
   "source": [
    "a=34 #int value\n",
    "b=78.9 #float_value\n",
    "a+b # throw the output in float"
   ]
  },
  {
   "cell_type": "code",
   "execution_count": 58,
   "id": "594c1a3a",
   "metadata": {},
   "outputs": [
    {
     "data": {
      "text/plain": [
       "(77.7+3j)"
      ]
     },
     "execution_count": 58,
     "metadata": {},
     "output_type": "execute_result"
    }
   ],
   "source": [
    "i=67.7 #Float value\n",
    "j=10+3j #complex value\n",
    "i+j # Throw output in complex value"
   ]
  },
  {
   "cell_type": "markdown",
   "id": "be372bf5",
   "metadata": {},
   "source": [
    "### Boolean Typecasting\n",
    "- Any value other than 0 and empty str will be treated as true"
   ]
  },
  {
   "cell_type": "code",
   "execution_count": 59,
   "id": "adcd719b",
   "metadata": {},
   "outputs": [
    {
     "name": "stdout",
     "output_type": "stream",
     "text": [
      "False\n",
      "True\n",
      "True\n",
      "True\n",
      "False\n"
     ]
    }
   ],
   "source": [
    "bool(0)\n",
    "bool(1)\n",
    "bool(-76)\n",
    "bool(\"abc\")\n",
    "bool(\"\")\n",
    "print(bool(0))\n",
    "print(bool(1))\n",
    "print(bool(-76))\n",
    "print(bool(\"abc\"))\n",
    "print(bool(\"\"))"
   ]
  }
 ],
 "metadata": {
  "kernelspec": {
   "display_name": "Python 3",
   "language": "python",
   "name": "python3"
  },
  "language_info": {
   "codemirror_mode": {
    "name": "ipython",
    "version": 3
   },
   "file_extension": ".py",
   "mimetype": "text/x-python",
   "name": "python",
   "nbconvert_exporter": "python",
   "pygments_lexer": "ipython3",
   "version": "3.11.9"
  }
 },
 "nbformat": 4,
 "nbformat_minor": 5
}
