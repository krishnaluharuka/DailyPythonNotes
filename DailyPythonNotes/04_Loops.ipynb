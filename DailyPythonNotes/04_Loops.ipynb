{
 "cells": [
  {
   "cell_type": "markdown",
   "id": "dc3df6a7",
   "metadata": {
    "id": "dP3BgcXAL3LV"
   },
   "source": [
    "# Loops"
   ]
  },
  {
   "cell_type": "markdown",
   "id": "f6b1f45a",
   "metadata": {
    "id": "Wr48e-AQL4zD"
   },
   "source": [
    "A loop is a control structure that allows you to repeat a block of code multiple times.\n",
    "- It is fuel of repetition.\n",
    "- it is of two types.\n",
    "- 1. For Loop\n",
    "- 2. While loop"
   ]
  },
  {
   "cell_type": "markdown",
   "id": "8d0b0a77",
   "metadata": {
    "id": "ArJftkt-NQ4u"
   },
   "source": [
    "## For Loops"
   ]
  },
  {
   "cell_type": "markdown",
   "id": "cfcc796b",
   "metadata": {
    "id": "4Tlxyxy9Nf9H"
   },
   "source": [
    "A for loop is used to iterate (repeat) over a sequence (like list, tuple, string, or range)\n",
    "It loops through each time one by one, and lets you run a block of code with it.\n"
   ]
  },
  {
   "cell_type": "code",
   "execution_count": null,
   "id": "b970241d",
   "metadata": {
    "id": "UCwUtC-dwVPw"
   },
   "outputs": [],
   "source": [
    "# Syntax\n",
    "# for variable in sequence :     # variable is a place holder like i, item, etc.\n",
    "      # code block"
   ]
  },
  {
   "cell_type": "code",
   "execution_count": null,
   "id": "3ee7d583",
   "metadata": {
    "colab": {
     "base_uri": "https://localhost:8080/"
    },
    "id": "L4QnLmUXOx1I",
    "outputId": "4c41f7fb-fc1b-40c3-b24b-b4bcdf1128bf"
   },
   "outputs": [
    {
     "name": "stdout",
     "output_type": "stream",
     "text": [
      "Color is :  red\n",
      "Color is :  blue\n",
      "Color is :  purple\n"
     ]
    }
   ],
   "source": [
    "# Loop over a list\n",
    "colors=[\"red\",\"blue\",\"purple\"]\n",
    "for Color in colors:\n",
    "    print(\"Color is : \", Color)"
   ]
  },
  {
   "cell_type": "code",
   "execution_count": null,
   "id": "3618b0cd",
   "metadata": {
    "colab": {
     "base_uri": "https://localhost:8080/"
    },
    "id": "3yzWHkzaPALn",
    "outputId": "6ad414a4-09b3-4d49-ff96-62f983800f26"
   },
   "outputs": [
    {
     "name": "stdout",
     "output_type": "stream",
     "text": [
      "0\n",
      "1\n",
      "2\n",
      "3\n",
      "4\n"
     ]
    }
   ],
   "source": [
    "# Loop using range function\n",
    "for i in range(5):\n",
    "    print(i)"
   ]
  },
  {
   "cell_type": "code",
   "execution_count": null,
   "id": "710aa479",
   "metadata": {
    "colab": {
     "base_uri": "https://localhost:8080/"
    },
    "id": "VEJ5J2uMPvYZ",
    "outputId": "52c0a2f8-8429-4272-b8bb-be9135823b74"
   },
   "outputs": [
    {
     "name": "stdout",
     "output_type": "stream",
     "text": [
      "10\n",
      "20\n",
      "30\n",
      "40\n",
      "50\n",
      "60\n",
      "70\n",
      "80\n",
      "90\n"
     ]
    }
   ],
   "source": [
    "for m in range(10,100,10):\n",
    "    print(m)"
   ]
  },
  {
   "cell_type": "code",
   "execution_count": null,
   "id": "da0679ce",
   "metadata": {
    "colab": {
     "base_uri": "https://localhost:8080/"
    },
    "id": "-0Sr5W6MP8Fi",
    "outputId": "473287e5-e282-4197-b383-e7c02c9377fc"
   },
   "outputs": [
    {
     "name": "stdout",
     "output_type": "stream",
     "text": [
      "r\n",
      "a\n",
      "i\n",
      "n\n",
      "b\n",
      "o\n",
      "w\n"
     ]
    }
   ],
   "source": [
    "# Loops through strings\n",
    "word = \"rainbow\"\n",
    "for letter in word:\n",
    "    print(letter)"
   ]
  },
  {
   "cell_type": "code",
   "execution_count": null,
   "id": "f66f1a99",
   "metadata": {
    "colab": {
     "base_uri": "https://localhost:8080/"
    },
    "id": "Q1nZmV9kQR4r",
    "outputId": "fd8878d8-dd7f-41d3-eae0-160b2d000631"
   },
   "outputs": [
    {
     "name": "stdout",
     "output_type": "stream",
     "text": [
      "name  ->  XYZ\n",
      "age  ->  20\n",
      "class  ->  12th\n",
      "subject  ->  Computer\n"
     ]
    }
   ],
   "source": [
    "# Loops through dictionary\n",
    "student={\"name\":\"XYZ\",\"age\":20,\"class\":\"12th\",\"subject\":\"Computer\"}\n",
    "for details in student:\n",
    "    print(details , \" -> \", student[details])"
   ]
  },
  {
   "cell_type": "code",
   "execution_count": null,
   "id": "db22698f",
   "metadata": {
    "colab": {
     "base_uri": "https://localhost:8080/"
    },
    "id": "o1H6mXKMQ9KB",
    "outputId": "9003ea95-74e7-48e2-872e-661ad9688452"
   },
   "outputs": [
    {
     "name": "stdout",
     "output_type": "stream",
     "text": [
      "i=0,j=0\n",
      "i=0,j=1\n",
      "i=0,j=2\n",
      "i=1,j=0\n",
      "i=1,j=1\n",
      "i=1,j=2\n"
     ]
    }
   ],
   "source": [
    "# Nested for Loop\n",
    "for i in range(2):\n",
    "    for j in range(3):\n",
    "        print(f\"i={i},j={j}\")\n",
    "# for each value of i range(m), j range(n) will go through n value"
   ]
  },
  {
   "cell_type": "markdown",
   "id": "56b7b466",
   "metadata": {
    "id": "KOyTqEmASuBp"
   },
   "source": [
    "## While loop"
   ]
  },
  {
   "cell_type": "markdown",
   "id": "c8e39ad1",
   "metadata": {
    "id": "j0j3cT7uS2pu"
   },
   "source": [
    "A while loop keeps running as long as a condition is True.\n",
    "- It is used for unknown repetition.\n",
    "- It is powerful, but dangerous"
   ]
  },
  {
   "cell_type": "code",
   "execution_count": null,
   "id": "d70aae54",
   "metadata": {
    "id": "NaQOzVdKTNdg"
   },
   "outputs": [],
   "source": [
    "# syntax\n",
    "# while condition:\n",
    "    # block of code"
   ]
  },
  {
   "cell_type": "markdown",
   "id": "a7340538",
   "metadata": {
    "id": "2lu3lL_WTMGr"
   },
   "source": [
    "How it works:\n",
    "- The condition is checked before every loop.\n",
    "- If its True, the block inside the loop runs.\n",
    "- If it's False, the loop stops (exits).\n",
    "- If the condition never becomes false, it creates an infinite loop ➿."
   ]
  },
  {
   "cell_type": "code",
   "execution_count": null,
   "id": "1254f4f2",
   "metadata": {
    "colab": {
     "base_uri": "https://localhost:8080/"
    },
    "id": "SLCg-gXARbTU",
    "outputId": "231a3932-f5ee-4a33-aca9-f91b1875b9b9"
   },
   "outputs": [
    {
     "name": "stdout",
     "output_type": "stream",
     "text": [
      "Count is :  1\n",
      "Count is :  2\n",
      "Count is :  3\n",
      "Count is :  4\n",
      "Count is :  5\n"
     ]
    }
   ],
   "source": [
    "# Example\n",
    "count =1\n",
    "while count <=5:\n",
    "    print(\"Count is : \",count)\n",
    "    count+=1 # to increase the count"
   ]
  },
  {
   "cell_type": "code",
   "execution_count": null,
   "id": "e99800fd",
   "metadata": {
    "colab": {
     "base_uri": "https://localhost:8080/"
    },
    "id": "07jUWYnLU5Tp",
    "outputId": "00b0fad0-7d16-408a-e923-7c87a336389f"
   },
   "outputs": [
    {
     "name": "stdout",
     "output_type": "stream",
     "text": [
      "1\n",
      "2\n",
      "3\n",
      "4\n",
      "5\n",
      "6\n"
     ]
    }
   ],
   "source": [
    "n=7\n",
    "i=1\n",
    "while i<n:\n",
    "    print(i)\n",
    "    i+=1"
   ]
  },
  {
   "cell_type": "code",
   "execution_count": null,
   "id": "1c5346af",
   "metadata": {
    "colab": {
     "base_uri": "https://localhost:8080/"
    },
    "id": "4R5HcgkqVX8j",
    "outputId": "5f57a1c0-aecc-468c-f523-3b1a648c97fc"
   },
   "outputs": [
    {
     "name": "stdout",
     "output_type": "stream",
     "text": [
      "Count is :  10\n",
      "Count is :  9\n",
      "Count is :  8\n",
      "Count is :  7\n",
      "Count is :  6\n",
      "Count is :  5\n",
      "Count is :  4\n",
      "Count is :  3\n",
      "Count is :  2\n",
      "Count is :  1\n"
     ]
    }
   ],
   "source": [
    "count=10\n",
    "while count>0:\n",
    "    print(\"Count is : \",count)\n",
    "    count-=1"
   ]
  },
  {
   "cell_type": "markdown",
   "id": "3d572fc5",
   "metadata": {
    "id": "zcHnQVMtVpBs"
   },
   "source": [
    "## Loop Control Statements"
   ]
  },
  {
   "cell_type": "markdown",
   "id": "e2c278e3",
   "metadata": {
    "id": "OkUrmapcVxhF"
   },
   "source": [
    "Loop control statements change the flow of loops by\n",
    "- stopping them\n",
    "- skipping them\n",
    "- acting as a placeholder"
   ]
  },
  {
   "cell_type": "markdown",
   "id": "bdfdfe00",
   "metadata": {
    "id": "rkFbkC4SV_Wt"
   },
   "source": [
    "These are like the traffic signs : when to stop , when to skip , when to chill.\n",
    "- 1. break statements\n",
    "- 2. continue statements\n",
    "- 3. pass statements"
   ]
  },
  {
   "cell_type": "markdown",
   "id": "a2bec003",
   "metadata": {
    "id": "4sJ8fL4iWXQq"
   },
   "source": [
    "### Break statements"
   ]
  },
  {
   "cell_type": "markdown",
   "id": "d339d63a",
   "metadata": {
    "id": "-cukqBjYWaSc"
   },
   "source": [
    "It is used to exit the loop immediately, no matter what the condition is."
   ]
  },
  {
   "cell_type": "code",
   "execution_count": null,
   "id": "590b6b7d",
   "metadata": {
    "colab": {
     "base_uri": "https://localhost:8080/"
    },
    "id": "wdhV67aQVkmO",
    "outputId": "a923b63f-f4fe-41d3-9615-e562804f4280"
   },
   "outputs": [
    {
     "name": "stdout",
     "output_type": "stream",
     "text": [
      "0\n",
      "1\n",
      "2\n",
      "3\n",
      "4\n"
     ]
    }
   ],
   "source": [
    "# Syntax\n",
    "for i in range(10): # loop runs from 0 to 9\n",
    "    if i==5: # when i==5, break, loop ends\n",
    "        break\n",
    "    print(i)"
   ]
  },
  {
   "cell_type": "code",
   "execution_count": null,
   "id": "932bbd97",
   "metadata": {
    "colab": {
     "base_uri": "https://localhost:8080/"
    },
    "id": "y46_u881W6Fp",
    "outputId": "a9a99cd1-2162-4cc9-c7e5-a8deb14156c0"
   },
   "outputs": [
    {
     "name": "stdout",
     "output_type": "stream",
     "text": [
      "1\n",
      "Done\n",
      "2\n",
      "Done\n",
      "3\n",
      "Done\n",
      "4\n"
     ]
    }
   ],
   "source": [
    "n=7\n",
    "i=1\n",
    "while i<n:\n",
    "    print(i)\n",
    "    i+=1\n",
    "    if i==5:\n",
    "        break\n",
    "    else:\n",
    "        print(\"Done\")"
   ]
  },
  {
   "cell_type": "markdown",
   "id": "21e360f5",
   "metadata": {
    "id": "0uUIRyC5YQmO"
   },
   "source": [
    "### Continue Statement"
   ]
  },
  {
   "cell_type": "markdown",
   "id": "71e50da5",
   "metadata": {
    "id": "8Zsvms2cYUYo"
   },
   "source": [
    "It is used to skip the current iteration, and move on to the next one.\n",
    "- \"**Skip the One, Next Please**\""
   ]
  },
  {
   "cell_type": "code",
   "execution_count": null,
   "id": "73848376",
   "metadata": {
    "colab": {
     "base_uri": "https://localhost:8080/"
    },
    "id": "a9Jm_Xu1XadN",
    "outputId": "bb85bde9-48ee-4630-ae41-3bc786d33eb7"
   },
   "outputs": [
    {
     "name": "stdout",
     "output_type": "stream",
     "text": [
      "0\n",
      "1\n",
      "3\n",
      "4\n"
     ]
    }
   ],
   "source": [
    "for i in range(5):\n",
    "    if i==2: #when i==2, it will skip and then continue\n",
    "        continue\n",
    "    print(i)"
   ]
  },
  {
   "cell_type": "code",
   "execution_count": null,
   "id": "e119756f",
   "metadata": {
    "colab": {
     "base_uri": "https://localhost:8080/"
    },
    "id": "AxKWLp8_Yt2-",
    "outputId": "0cdba731-d592-4790-c4a6-f8bf22810c24"
   },
   "outputs": [
    {
     "name": "stdout",
     "output_type": "stream",
     "text": [
      "1\n",
      "2\n",
      "3\n",
      "4\n",
      "6\n",
      "7\n"
     ]
    }
   ],
   "source": [
    "n=7\n",
    "i=0\n",
    "while i<n:\n",
    "    i+=1\n",
    "    if i==5:\n",
    "        continue\n",
    "    print(i)\n"
   ]
  },
  {
   "cell_type": "markdown",
   "id": "c976361a",
   "metadata": {
    "id": "kVVoU4eXaLkB"
   },
   "source": [
    "### Pass Statement"
   ]
  },
  {
   "cell_type": "markdown",
   "id": "97862687",
   "metadata": {
    "id": "aR03GG88aO29"
   },
   "source": [
    "Used as a placeholder, When we need some code later, but not now.\n",
    "- \"***Do nothing, Just Pass***\""
   ]
  },
  {
   "cell_type": "code",
   "execution_count": null,
   "id": "57ebca83",
   "metadata": {
    "id": "i3qhtBLGZXf0"
   },
   "outputs": [],
   "source": [
    "for i in range(5):\n",
    "    pass # do nothing"
   ]
  },
  {
   "cell_type": "code",
   "execution_count": null,
   "id": "6b191841",
   "metadata": {
    "colab": {
     "base_uri": "https://localhost:8080/"
    },
    "id": "w0YFUFfoavRU",
    "outputId": "12acec91-42fc-4403-e778-df4b57b21e3d"
   },
   "outputs": [
    {
     "name": "stdout",
     "output_type": "stream",
     "text": [
      "0\n",
      "1\n",
      "3\n",
      "4\n"
     ]
    }
   ],
   "source": [
    "# using break, continue, pass\n",
    "for i in range(7):\n",
    "    if i==2:\n",
    "        continue #skip at 2\n",
    "    elif i==5:\n",
    "        break # end the loop at 5\n",
    "    elif i == 3:\n",
    "        pass # do nothing\n",
    "    print(i)"
   ]
  },
  {
   "cell_type": "markdown",
   "id": "21dce13b",
   "metadata": {
    "id": "odEpPZFnd3Mj"
   },
   "source": [
    "## Examples & Projects"
   ]
  },
  {
   "cell_type": "code",
   "execution_count": null,
   "id": "6e6b410c",
   "metadata": {
    "colab": {
     "base_uri": "https://localhost:8080/"
    },
    "id": "tA3pZdMidYDj",
    "outputId": "1b9effa3-3b79-4ff9-c95d-4a3fa69ff4cb"
   },
   "outputs": [
    {
     "name": "stdout",
     "output_type": "stream",
     "text": [
      "1\n",
      "1.2\n",
      "True\n",
      "Prag\n"
     ]
    }
   ],
   "source": [
    "l=[1,1.2,True,\"Prag\"]\n",
    "for i in l:\n",
    "    print(i)"
   ]
  },
  {
   "cell_type": "code",
   "execution_count": null,
   "id": "45e11b1a",
   "metadata": {
    "colab": {
     "base_uri": "https://localhost:8080/"
    },
    "id": "61O5YS3Uexua",
    "outputId": "c6769d3c-2c60-42da-e34c-b1620c8f0567"
   },
   "outputs": [
    {
     "name": "stdout",
     "output_type": "stream",
     "text": [
      "1\n",
      "1.2\n",
      "True\n",
      "Prag\n",
      "Executed\n"
     ]
    }
   ],
   "source": [
    "for i in l:\n",
    "    print(i)\n",
    "else:\n",
    "    print(\"Executed\")"
   ]
  },
  {
   "cell_type": "code",
   "execution_count": null,
   "id": "63d2f451",
   "metadata": {
    "colab": {
     "base_uri": "https://localhost:8080/"
    },
    "id": "8Nz-KcoofHW5",
    "outputId": "709ee11b-2f41-41b8-93ca-daa7b0f8637f"
   },
   "outputs": [
    {
     "name": "stdout",
     "output_type": "stream",
     "text": [
      "1\n",
      "1.2\n",
      "True\n"
     ]
    }
   ],
   "source": [
    "for i in l:\n",
    "    if i==\"Prag\":\n",
    "        break\n",
    "    print(i)"
   ]
  },
  {
   "cell_type": "code",
   "execution_count": null,
   "id": "24f7ef12",
   "metadata": {
    "colab": {
     "base_uri": "https://localhost:8080/"
    },
    "id": "iKUbyFB2fTRy",
    "outputId": "4469c2db-ff82-43d1-f2f6-2c2019dc6e8b"
   },
   "outputs": [
    {
     "name": "stdout",
     "output_type": "stream",
     "text": [
      "0  1  2  3  4  5  6  7  8  9  "
     ]
    }
   ],
   "source": [
    "for i in range(10):\n",
    "    print(i,end=\"  \")"
   ]
  },
  {
   "cell_type": "code",
   "execution_count": null,
   "id": "34468b6c",
   "metadata": {
    "colab": {
     "base_uri": "https://localhost:8080/"
    },
    "id": "T9SSlKdnfxOF",
    "outputId": "75a0c555-9af7-468c-ce95-e5d49f3e55b9"
   },
   "outputs": [
    {
     "data": {
      "text/plain": [
       "[0, 4, 8, 12, 16]"
      ]
     },
     "execution_count": 127,
     "metadata": {},
     "output_type": "execute_result"
    }
   ],
   "source": [
    "list(range(0,20,4))"
   ]
  },
  {
   "cell_type": "markdown",
   "id": "a9d33d36",
   "metadata": {
    "id": "0uH9nuorhs0Y"
   },
   "source": [
    "### For loop examples"
   ]
  },
  {
   "cell_type": "markdown",
   "id": "4d5272ac",
   "metadata": {
    "id": "9ghpWr9Bikx6"
   },
   "source": [
    "Sum of N natural number"
   ]
  },
  {
   "cell_type": "code",
   "execution_count": null,
   "id": "ed1fcd95",
   "metadata": {
    "colab": {
     "base_uri": "https://localhost:8080/"
    },
    "id": "2nR1mnkkiT6H",
    "outputId": "145b82ea-eeb2-417c-d9d7-450a86eaf2e1"
   },
   "outputs": [
    {
     "name": "stdout",
     "output_type": "stream",
     "text": [
      "Enter the natural number : 10\n",
      "Sum :  55\n"
     ]
    }
   ],
   "source": [
    "num=int(input(\"Enter the natural number : \"))\n",
    "Sum=0\n",
    "for i in range(1,num+1):\n",
    "    Sum+=i\n",
    "print(\"Sum : \",Sum)"
   ]
  },
  {
   "cell_type": "markdown",
   "id": "52ec59d2",
   "metadata": {
    "id": "yum9g1bMkuHu"
   },
   "source": [
    "Sum of even number only"
   ]
  },
  {
   "cell_type": "code",
   "execution_count": null,
   "id": "647cf2ea",
   "metadata": {
    "colab": {
     "base_uri": "https://localhost:8080/"
    },
    "id": "aK-q557hjXT4",
    "outputId": "2ff4cd42-8c9d-4f5e-9470-45ccef4a88bd"
   },
   "outputs": [
    {
     "name": "stdout",
     "output_type": "stream",
     "text": [
      "Sum of even number from 0 to n, n : 6\n",
      "12\n"
     ]
    }
   ],
   "source": [
    "# It print the sum of even number between 0 to n (n=20)\n",
    "num=int(input(\"Sum of even number from 0 to n, n : \"))\n",
    "Sum=0\n",
    "for i in range(2,num+1,2):\n",
    "    Sum+=i\n",
    "print(Sum)"
   ]
  },
  {
   "cell_type": "markdown",
   "id": "04e15d4f",
   "metadata": {
    "id": "IDZiw07lypSF"
   },
   "source": [
    "Printing star triangle"
   ]
  },
  {
   "cell_type": "code",
   "execution_count": null,
   "id": "0fdc1d0e",
   "metadata": {
    "colab": {
     "base_uri": "https://localhost:8080/"
    },
    "id": "R0RILlFfycgB",
    "outputId": "1b51507c-607e-4af7-f6ca-cb75e62dd4ea"
   },
   "outputs": [
    {
     "name": "stdout",
     "output_type": "stream",
     "text": [
      "* \n",
      "* * \n",
      "* * * \n",
      "* * * * \n"
     ]
    }
   ],
   "source": [
    "# using while loop\n",
    "row=1\n",
    "while row <=4:\n",
    "    col=1\n",
    "    while col<=row:\n",
    "        print(\"*\", end=\" \")\n",
    "        col=col+1\n",
    "    print()\n",
    "    row=row+1"
   ]
  },
  {
   "cell_type": "code",
   "execution_count": null,
   "id": "dcc7d782",
   "metadata": {
    "colab": {
     "base_uri": "https://localhost:8080/"
    },
    "id": "2bd7iSOKyueP",
    "outputId": "1e9eb998-9a8b-4eba-a532-cf34db3e9de0"
   },
   "outputs": [
    {
     "name": "stdout",
     "output_type": "stream",
     "text": [
      "* \n",
      "* * \n",
      "* * * \n",
      "* * * * \n",
      "* * * * * \n",
      "* * * * * * \n",
      "* * * * * * * \n",
      "* * * * * * * * \n",
      "* * * * * * * * * \n",
      "* * * * * * * * * * \n"
     ]
    }
   ],
   "source": [
    "# using for loop\n",
    "for i in range(10):\n",
    "    for j in range(i+1):\n",
    "        print(\"*\",end=\" \")\n",
    "    print()"
   ]
  }
 ],
 "metadata": {},
 "nbformat": 4,
 "nbformat_minor": 5
}
