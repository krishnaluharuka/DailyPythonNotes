{
 "cells": [
  {
   "cell_type": "markdown",
   "id": "fb5e8a96",
   "metadata": {},
   "source": [
    "# Introduction of Numpy."
   ]
  },
  {
   "cell_type": "markdown",
   "id": "ee8d5b40",
   "metadata": {},
   "source": [
    "`Data ToolKit` : libraries which are used as data tool kit for our convenient are:\n",
    "1. `Numpy`\n",
    "2. `Pandas`\n",
    "3. `Matplotlib`\n",
    "4. `Seaborn`\n",
    "5. `Plotty`\n",
    "6. `Bokeh`"
   ]
  },
  {
   "cell_type": "markdown",
   "id": "3985b0d1",
   "metadata": {},
   "source": [
    "**CRISP-DM Framework** : Cross Industry Standard Process for data mining."
   ]
  },
  {
   "cell_type": "markdown",
   "id": "6c16d8ed",
   "metadata": {},
   "source": [
    "- Describe common approach for data mining.\n",
    "- `Data mining` : getting inside to the data.\n",
    "- A process that is used to get insights from the data.\n",
    "- Not compulsory to use... just a suggestion for our easibilty."
   ]
  },
  {
   "attachments": {
    "image.png": {
     "image/png": "[encoded data removed]"
    }
   },
   "cell_type": "markdown",
   "id": "31091bd5",
   "metadata": {},
   "source": [
    "![image.png](attachment:image.png)"
   ]
  },
  {
   "cell_type": "markdown",
   "id": "6d63d00e",
   "metadata": {},
   "source": [
    "1. `Business Understanding` : To understand the problems, growth, pattern, loss, factors, etc of any business.\n",
    "\n",
    "2. `Data Understanding` : The data you collect from business understanding and now to figure it out by statistically, plotting, graphing to make the data better understandable.\n",
    "- aka **EDA** Exploratory Data Analysis\n",
    "\n",
    "3. `Data Preparation` : Treating missing value, extreme value, duplicate value, to make the data systematic.\n",
    "\n",
    "4. `Modelling` : To model the prepared data by machine learning.\n",
    "\n",
    "5. `Evaluation` : To evaluate whether the model is hassle free not. If not , jump back to business understanding again.\n",
    "\n",
    "6. `Deployment` : After deploying the model, it will become ready to use for business."
   ]
  },
  {
   "cell_type": "markdown",
   "id": "0e2b4672",
   "metadata": {},
   "source": [
    "### Libraries"
   ]
  },
  {
   "cell_type": "markdown",
   "id": "ac53cca2",
   "metadata": {},
   "source": [
    "`Library` : A collection of pre-written code that is used to perform commo tasks.\n",
    "- When the function are written in single script is called **Module**.\n",
    "- When all the modules are kept together is called as **Packages**.\n",
    "- Multiple package together is called a **Library**.\n",
    "\n",
    "\n",
    "_Library_ Contains python modules and packages."
   ]
  },
  {
   "cell_type": "markdown",
   "id": "8005a1c4",
   "metadata": {},
   "source": [
    "Library = Multiple Books----> Modules = Chapter/ lessons -----> Packages = Same types of books collection"
   ]
  },
  {
   "cell_type": "markdown",
   "id": "4b787be8",
   "metadata": {},
   "source": [
    "## What is numpy?"
   ]
  },
  {
   "cell_type": "markdown",
   "id": "b182df4f",
   "metadata": {},
   "source": [
    "- `NumPy` (Numerical Python) is a core library for numerical computing in Python.\n",
    "- It makes Python crazy fast and powerful for math, stats, and data science stuff.\n",
    "\n"
   ]
  },
  {
   "cell_type": "markdown",
   "id": "f0ec9e71",
   "metadata": {},
   "source": [
    "## Why NumPy?"
   ]
  },
  {
   "cell_type": "markdown",
   "id": "15982365",
   "metadata": {},
   "source": [
    "1. Speed Demon\n",
    "- `NumPy` is written in C under the hood → super fast,it means built using C, and C is one of the fastest pro. lan. so it makes NumPy computation super fast.\n",
    "- Since it stores only homogenous data i.e., array, it makes numpy array faster.\n",
    "- Way faster than native Python lists.\n",
    "- Can handle millions of rows without breaking a sweat.\n",
    "- Example: A loop taking 10 seconds in Python might take 0.01 seconds in NumPy.\n",
    "\n",
    "2. Memory Efficient\n",
    "- Uses less RAM compared to Python lists.\n",
    "- Perfect for large datasets, especially in ML / AI / Big Data.\n",
    "\n",
    "3. Powerful Math Tools\n",
    "- Matrix multiplication, dot products, eigenvalues, etc.\n",
    "- Built-in support for:\n",
    "    - Linear algebra\n",
    "    - Fourier transforms\n",
    "    - Statistics\n",
    "    - Random number generation\n",
    "\n",
    "5. Foundation of Data Science Libraries\n",
    "- Pandas, Scikit-Learn, TensorFlow, PyTorch — they all use NumPy internally.\n",
    "- No NumPy → No Data Science"
   ]
  },
  {
   "cell_type": "code",
   "execution_count": null,
   "id": "282e8ee1",
   "metadata": {},
   "outputs": [],
   "source": [
    "%pip install numpy"
   ]
  },
  {
   "cell_type": "code",
   "execution_count": 302,
   "id": "87432cfa",
   "metadata": {},
   "outputs": [],
   "source": [
    "import numpy as np"
   ]
  },
  {
   "cell_type": "code",
   "execution_count": 303,
   "id": "b46efa98",
   "metadata": {},
   "outputs": [
    {
     "data": {
      "text/plain": [
       "'2.3.2'"
      ]
     },
     "execution_count": 303,
     "metadata": {},
     "output_type": "execute_result"
    }
   ],
   "source": [
    "np.__version__"
   ]
  },
  {
   "cell_type": "code",
   "execution_count": 304,
   "id": "d57cefbd",
   "metadata": {},
   "outputs": [],
   "source": [
    "lis = [1,2,3,4, \"PW\",3+5j, True, 5.6]"
   ]
  },
  {
   "cell_type": "code",
   "execution_count": 305,
   "id": "c345aa8f",
   "metadata": {},
   "outputs": [
    {
     "data": {
      "text/plain": [
       "list"
      ]
     },
     "execution_count": 305,
     "metadata": {},
     "output_type": "execute_result"
    }
   ],
   "source": [
    "type(lis)"
   ]
  },
  {
   "cell_type": "markdown",
   "id": "325d6e2a",
   "metadata": {},
   "source": [
    "- But fundamental structure of numpy is `Array`.\n",
    "- It stores the data in a numpy array."
   ]
  },
  {
   "cell_type": "markdown",
   "id": "59ef2689",
   "metadata": {},
   "source": [
    "### Array"
   ]
  },
  {
   "cell_type": "markdown",
   "id": "11bf5588",
   "metadata": {},
   "source": [
    "- Data structure or container is used to store data of same data types .\n",
    "- It stores only homogenous data. unlike list which store all kind of data heterogenous."
   ]
  },
  {
   "cell_type": "code",
   "execution_count": 306,
   "id": "27c5a826",
   "metadata": {},
   "outputs": [],
   "source": [
    "l = [1,2,3,4,5]"
   ]
  },
  {
   "cell_type": "code",
   "execution_count": 307,
   "id": "b1a5b82b",
   "metadata": {},
   "outputs": [],
   "source": [
    "arr = np.array(l)"
   ]
  },
  {
   "cell_type": "code",
   "execution_count": 308,
   "id": "45eda5ff",
   "metadata": {},
   "outputs": [
    {
     "data": {
      "text/plain": [
       "array([1, 2, 3, 4, 5])"
      ]
     },
     "execution_count": 308,
     "metadata": {},
     "output_type": "execute_result"
    }
   ],
   "source": [
    "arr # here we have elements as int"
   ]
  },
  {
   "cell_type": "code",
   "execution_count": 309,
   "id": "ceabf699",
   "metadata": {},
   "outputs": [
    {
     "data": {
      "text/plain": [
       "numpy.ndarray"
      ]
     },
     "execution_count": 309,
     "metadata": {},
     "output_type": "execute_result"
    }
   ],
   "source": [
    "type(arr) #ndarray = n-dimensional array."
   ]
  },
  {
   "cell_type": "code",
   "execution_count": 310,
   "id": "76d10c19",
   "metadata": {},
   "outputs": [],
   "source": [
    "lis = [1,2,3,4, \"PW\",3+5j, True, 5.6]"
   ]
  },
  {
   "cell_type": "code",
   "execution_count": 311,
   "id": "9893b8a8",
   "metadata": {},
   "outputs": [],
   "source": [
    "arry = np.array(lis) # here we got the element in str"
   ]
  },
  {
   "cell_type": "code",
   "execution_count": 312,
   "id": "e6eee066",
   "metadata": {},
   "outputs": [
    {
     "data": {
      "text/plain": [
       "array(['1', '2', '3', '4', 'PW', '(3+5j)', 'True', '5.6'], dtype='<U64')"
      ]
     },
     "execution_count": 312,
     "metadata": {},
     "output_type": "execute_result"
    }
   ],
   "source": [
    "arry"
   ]
  },
  {
   "cell_type": "code",
   "execution_count": 313,
   "id": "69501431",
   "metadata": {},
   "outputs": [],
   "source": [
    "l1= [1,2,3,4,5,6.7]"
   ]
  },
  {
   "cell_type": "code",
   "execution_count": 314,
   "id": "d46d7807",
   "metadata": {},
   "outputs": [],
   "source": [
    "arr2 = np.array(l1) # here we got the element as float."
   ]
  },
  {
   "cell_type": "code",
   "execution_count": 315,
   "id": "091caf30",
   "metadata": {},
   "outputs": [
    {
     "data": {
      "text/plain": [
       "array([1. , 2. , 3. , 4. , 5. , 6.7])"
      ]
     },
     "execution_count": 315,
     "metadata": {},
     "output_type": "execute_result"
    }
   ],
   "source": [
    "arr2"
   ]
  },
  {
   "cell_type": "markdown",
   "id": "436ceced",
   "metadata": {},
   "source": [
    "### n-dimensional array."
   ]
  },
  {
   "cell_type": "markdown",
   "id": "56453a6e",
   "metadata": {},
   "source": [
    "```python\n",
    "syntax:\n",
    "arr.ndim"
   ]
  },
  {
   "cell_type": "code",
   "execution_count": 316,
   "id": "d94815ae",
   "metadata": {},
   "outputs": [
    {
     "data": {
      "text/plain": [
       "1"
      ]
     },
     "execution_count": 316,
     "metadata": {},
     "output_type": "execute_result"
    }
   ],
   "source": [
    "# It gives the dimension of the array\n",
    "arr.ndim # =1 because of only rows is here.\n"
   ]
  },
  {
   "cell_type": "code",
   "execution_count": 317,
   "id": "85ab40c7",
   "metadata": {},
   "outputs": [
    {
     "data": {
      "text/plain": [
       "1"
      ]
     },
     "execution_count": 317,
     "metadata": {},
     "output_type": "execute_result"
    }
   ],
   "source": [
    "arr2.ndim\n"
   ]
  },
  {
   "cell_type": "code",
   "execution_count": 318,
   "id": "86ab0762",
   "metadata": {},
   "outputs": [],
   "source": [
    "arr1 = np.array([[1 ,2, 3, 4], [5, 6, 7, 8]])"
   ]
  },
  {
   "cell_type": "code",
   "execution_count": 319,
   "id": "edffcf7b",
   "metadata": {},
   "outputs": [
    {
     "data": {
      "text/plain": [
       "array([[1, 2, 3, 4],\n",
       "       [5, 6, 7, 8]])"
      ]
     },
     "execution_count": 319,
     "metadata": {},
     "output_type": "execute_result"
    }
   ],
   "source": [
    "arr1"
   ]
  },
  {
   "cell_type": "code",
   "execution_count": 320,
   "id": "3c7040e6",
   "metadata": {},
   "outputs": [
    {
     "data": {
      "text/plain": [
       "2"
      ]
     },
     "execution_count": 320,
     "metadata": {},
     "output_type": "execute_result"
    }
   ],
   "source": [
    "arr1.ndim # = 2 >> two dimension >> rows and coloumn"
   ]
  },
  {
   "cell_type": "code",
   "execution_count": 321,
   "id": "e09dd33f",
   "metadata": {},
   "outputs": [],
   "source": [
    "mat = np.matrix([1,2,3,4]) # matrix is a specialised array of 2 dimansion"
   ]
  },
  {
   "cell_type": "code",
   "execution_count": 322,
   "id": "1acb51cb",
   "metadata": {},
   "outputs": [
    {
     "data": {
      "text/plain": [
       "numpy.matrix"
      ]
     },
     "execution_count": 322,
     "metadata": {},
     "output_type": "execute_result"
    }
   ],
   "source": [
    "type(mat)"
   ]
  },
  {
   "cell_type": "code",
   "execution_count": 323,
   "id": "b96dbc9c",
   "metadata": {},
   "outputs": [
    {
     "data": {
      "text/plain": [
       "2"
      ]
     },
     "execution_count": 323,
     "metadata": {},
     "output_type": "execute_result"
    }
   ],
   "source": [
    "mat.ndim"
   ]
  },
  {
   "cell_type": "code",
   "execution_count": 324,
   "id": "fb08a36b",
   "metadata": {},
   "outputs": [
    {
     "data": {
      "text/plain": [
       "matrix([[1, 2, 3, 4]])"
      ]
     },
     "execution_count": 324,
     "metadata": {},
     "output_type": "execute_result"
    }
   ],
   "source": [
    "mat"
   ]
  },
  {
   "cell_type": "code",
   "execution_count": 325,
   "id": "bc8f7da3",
   "metadata": {},
   "outputs": [],
   "source": [
    "m = [1,2,3]"
   ]
  },
  {
   "cell_type": "code",
   "execution_count": 326,
   "id": "b419983f",
   "metadata": {},
   "outputs": [
    {
     "data": {
      "text/plain": [
       "array([1, 2, 3])"
      ]
     },
     "execution_count": 326,
     "metadata": {},
     "output_type": "execute_result"
    }
   ],
   "source": [
    "m1 = np.array(m)\n",
    "m1"
   ]
  },
  {
   "cell_type": "code",
   "execution_count": 327,
   "id": "d027ab99",
   "metadata": {},
   "outputs": [
    {
     "data": {
      "text/plain": [
       "1"
      ]
     },
     "execution_count": 327,
     "metadata": {},
     "output_type": "execute_result"
    }
   ],
   "source": [
    "m1.ndim # [ ] --> One dimension"
   ]
  },
  {
   "cell_type": "code",
   "execution_count": 328,
   "id": "fdbc1e2e",
   "metadata": {},
   "outputs": [],
   "source": [
    "m2 = [[1,2,3]]"
   ]
  },
  {
   "cell_type": "code",
   "execution_count": 329,
   "id": "419ad705",
   "metadata": {},
   "outputs": [
    {
     "data": {
      "text/plain": [
       "array([[1, 2, 3]])"
      ]
     },
     "execution_count": 329,
     "metadata": {},
     "output_type": "execute_result"
    }
   ],
   "source": [
    "m3 = np.array(m2)\n",
    "m3"
   ]
  },
  {
   "cell_type": "code",
   "execution_count": 330,
   "id": "f9b6a10a",
   "metadata": {},
   "outputs": [
    {
     "data": {
      "text/plain": [
       "2"
      ]
     },
     "execution_count": 330,
     "metadata": {},
     "output_type": "execute_result"
    }
   ],
   "source": [
    "m3.ndim  # [[ ]] ---> Two dimension"
   ]
  },
  {
   "cell_type": "code",
   "execution_count": 331,
   "id": "556022cc",
   "metadata": {},
   "outputs": [],
   "source": [
    "m4 = [[[1,2,3]]]"
   ]
  },
  {
   "cell_type": "code",
   "execution_count": 332,
   "id": "0b3f2cf9",
   "metadata": {},
   "outputs": [
    {
     "data": {
      "text/plain": [
       "array([[[1, 2, 3]]])"
      ]
     },
     "execution_count": 332,
     "metadata": {},
     "output_type": "execute_result"
    }
   ],
   "source": [
    "m5 = np.array(m4)\n",
    "m5"
   ]
  },
  {
   "cell_type": "code",
   "execution_count": 333,
   "id": "0c8da9e6",
   "metadata": {},
   "outputs": [
    {
     "data": {
      "text/plain": [
       "3"
      ]
     },
     "execution_count": 333,
     "metadata": {},
     "output_type": "execute_result"
    }
   ],
   "source": [
    "m5.ndim  # [[[  ]]] ---> Three dimension"
   ]
  },
  {
   "cell_type": "code",
   "execution_count": 334,
   "id": "ae481cb9",
   "metadata": {},
   "outputs": [],
   "source": [
    "# np.matrix([[[1,2], [3,4], [5,6]]])  # error matrix must be only 2-d"
   ]
  },
  {
   "cell_type": "code",
   "execution_count": 335,
   "id": "1d10d168",
   "metadata": {},
   "outputs": [],
   "source": [
    "a = np.array([[[1,2], [3,4], [5,6]]])"
   ]
  },
  {
   "cell_type": "code",
   "execution_count": 336,
   "id": "a7afc635",
   "metadata": {},
   "outputs": [
    {
     "data": {
      "text/plain": [
       "array([[[1, 2],\n",
       "        [3, 4],\n",
       "        [5, 6]]])"
      ]
     },
     "execution_count": 336,
     "metadata": {},
     "output_type": "execute_result"
    }
   ],
   "source": [
    "a"
   ]
  },
  {
   "cell_type": "code",
   "execution_count": 337,
   "id": "2ce67920",
   "metadata": {},
   "outputs": [
    {
     "data": {
      "text/plain": [
       "3"
      ]
     },
     "execution_count": 337,
     "metadata": {},
     "output_type": "execute_result"
    }
   ],
   "source": [
    "a.ndim"
   ]
  },
  {
   "cell_type": "markdown",
   "id": "a17e7248",
   "metadata": {},
   "source": [
    "_More ways to convert array_\n",
    "- np.asarray()\n",
    "- np.asanyarray()\n",
    "- np.array()"
   ]
  },
  {
   "cell_type": "code",
   "execution_count": 338,
   "id": "0c999bdc",
   "metadata": {},
   "outputs": [
    {
     "data": {
      "text/plain": [
       "array([1, 2, 3])"
      ]
     },
     "execution_count": 338,
     "metadata": {},
     "output_type": "execute_result"
    }
   ],
   "source": [
    "l = [1 ,2, 3]\n",
    "np.asarray(l)"
   ]
  },
  {
   "cell_type": "code",
   "execution_count": 339,
   "id": "38d1e1ce",
   "metadata": {},
   "outputs": [
    {
     "data": {
      "text/plain": [
       "array([1, 2, 3])"
      ]
     },
     "execution_count": 339,
     "metadata": {},
     "output_type": "execute_result"
    }
   ],
   "source": [
    "np.asanyarray(l)"
   ]
  },
  {
   "cell_type": "markdown",
   "id": "e37b53df",
   "metadata": {},
   "source": [
    "- If something is already in array it will not converted it , just pass it."
   ]
  },
  {
   "cell_type": "code",
   "execution_count": 340,
   "id": "164d7ef8",
   "metadata": {},
   "outputs": [
    {
     "data": {
      "text/plain": [
       "array([1, 2, 3])"
      ]
     },
     "execution_count": 340,
     "metadata": {},
     "output_type": "execute_result"
    }
   ],
   "source": [
    "np.asanyarray([1, 2, 3])"
   ]
  },
  {
   "cell_type": "code",
   "execution_count": 341,
   "id": "5e2a2c72",
   "metadata": {},
   "outputs": [
    {
     "data": {
      "text/plain": [
       "matrix([[1, 2, 3, 4]])"
      ]
     },
     "execution_count": 341,
     "metadata": {},
     "output_type": "execute_result"
    }
   ],
   "source": [
    "mat"
   ]
  },
  {
   "cell_type": "code",
   "execution_count": 342,
   "id": "cede0bb9",
   "metadata": {},
   "outputs": [
    {
     "data": {
      "text/plain": [
       "matrix([[1, 2, 3, 4]])"
      ]
     },
     "execution_count": 342,
     "metadata": {},
     "output_type": "execute_result"
    }
   ],
   "source": [
    "np.asanyarray(mat)  # output in matrix, not in array"
   ]
  },
  {
   "cell_type": "code",
   "execution_count": 343,
   "id": "3def765e",
   "metadata": {},
   "outputs": [
    {
     "data": {
      "text/plain": [
       "tuple"
      ]
     },
     "execution_count": 343,
     "metadata": {},
     "output_type": "execute_result"
    }
   ],
   "source": [
    "t = ([1, 2, 3], [4, 5, 6])\n",
    "type(t)"
   ]
  },
  {
   "cell_type": "code",
   "execution_count": 344,
   "id": "d7bbc462",
   "metadata": {},
   "outputs": [
    {
     "data": {
      "text/plain": [
       "array([[1, 2, 3],\n",
       "       [4, 5, 6]])"
      ]
     },
     "execution_count": 344,
     "metadata": {},
     "output_type": "execute_result"
    }
   ],
   "source": [
    "np.array(t)"
   ]
  },
  {
   "cell_type": "markdown",
   "id": "0fef7d5d",
   "metadata": {},
   "source": [
    "### Accessing the element of array"
   ]
  },
  {
   "cell_type": "code",
   "execution_count": 345,
   "id": "ff03f156",
   "metadata": {},
   "outputs": [
    {
     "data": {
      "text/plain": [
       "array([1, 2, 3, 4, 5])"
      ]
     },
     "execution_count": 345,
     "metadata": {},
     "output_type": "execute_result"
    }
   ],
   "source": [
    "arr"
   ]
  },
  {
   "cell_type": "code",
   "execution_count": 346,
   "id": "dc51a3ce",
   "metadata": {},
   "outputs": [
    {
     "data": {
      "text/plain": [
       "(np.int64(1), np.int64(3), np.int64(4))"
      ]
     },
     "execution_count": 346,
     "metadata": {},
     "output_type": "execute_result"
    }
   ],
   "source": [
    "arr[0], arr[2], arr[3]"
   ]
  },
  {
   "cell_type": "code",
   "execution_count": 347,
   "id": "a05b2066",
   "metadata": {},
   "outputs": [
    {
     "data": {
      "text/plain": [
       "np.int64(1)"
      ]
     },
     "execution_count": 347,
     "metadata": {},
     "output_type": "execute_result"
    }
   ],
   "source": [
    "arr[0]"
   ]
  },
  {
   "cell_type": "markdown",
   "id": "ad67513a",
   "metadata": {},
   "source": [
    "### Mutability in array"
   ]
  },
  {
   "cell_type": "code",
   "execution_count": 348,
   "id": "69f26a06",
   "metadata": {},
   "outputs": [],
   "source": [
    "arr[0] = 1000"
   ]
  },
  {
   "cell_type": "code",
   "execution_count": 349,
   "id": "07e3ecfa",
   "metadata": {},
   "outputs": [
    {
     "data": {
      "text/plain": [
       "array([1000,    2,    3,    4,    5])"
      ]
     },
     "execution_count": 349,
     "metadata": {},
     "output_type": "execute_result"
    }
   ],
   "source": [
    "arr"
   ]
  },
  {
   "cell_type": "markdown",
   "id": "7989b51a",
   "metadata": {},
   "source": [
    "### Shallow copy \n",
    "change in one will lead to change in other"
   ]
  },
  {
   "cell_type": "code",
   "execution_count": 350,
   "id": "4d8c9d98",
   "metadata": {},
   "outputs": [],
   "source": [
    "a = arr # a and arr will point to same memory location. change in one will reflect in both."
   ]
  },
  {
   "cell_type": "code",
   "execution_count": 351,
   "id": "d59dd9d9",
   "metadata": {},
   "outputs": [
    {
     "data": {
      "text/plain": [
       "array([1000,    2,    3,    4,    5])"
      ]
     },
     "execution_count": 351,
     "metadata": {},
     "output_type": "execute_result"
    }
   ],
   "source": [
    "a"
   ]
  },
  {
   "cell_type": "code",
   "execution_count": 352,
   "id": "83e6ef27",
   "metadata": {},
   "outputs": [
    {
     "data": {
      "text/plain": [
       "array([1000,    2,    3,    4,    5])"
      ]
     },
     "execution_count": 352,
     "metadata": {},
     "output_type": "execute_result"
    }
   ],
   "source": [
    "arr"
   ]
  },
  {
   "cell_type": "code",
   "execution_count": 353,
   "id": "4b14502f",
   "metadata": {},
   "outputs": [],
   "source": [
    "a[1] = 2000"
   ]
  },
  {
   "cell_type": "code",
   "execution_count": 354,
   "id": "f7e6f960",
   "metadata": {},
   "outputs": [
    {
     "data": {
      "text/plain": [
       "array([1000, 2000,    3,    4,    5])"
      ]
     },
     "execution_count": 354,
     "metadata": {},
     "output_type": "execute_result"
    }
   ],
   "source": [
    "a"
   ]
  },
  {
   "cell_type": "code",
   "execution_count": 355,
   "id": "e4577197",
   "metadata": {},
   "outputs": [
    {
     "data": {
      "text/plain": [
       "array([1000, 2000,    3,    4,    5])"
      ]
     },
     "execution_count": 355,
     "metadata": {},
     "output_type": "execute_result"
    }
   ],
   "source": [
    "arr"
   ]
  },
  {
   "cell_type": "markdown",
   "id": "11d60f4b",
   "metadata": {},
   "source": [
    "### Deep Copy\n",
    "Change in one will not lead to change in other.\n"
   ]
  },
  {
   "cell_type": "code",
   "execution_count": 356,
   "id": "05064660",
   "metadata": {},
   "outputs": [
    {
     "data": {
      "text/plain": [
       "array([1000, 2000,    3,    4,    5])"
      ]
     },
     "execution_count": 356,
     "metadata": {},
     "output_type": "execute_result"
    }
   ],
   "source": [
    "arr"
   ]
  },
  {
   "cell_type": "code",
   "execution_count": 357,
   "id": "e7ecd769",
   "metadata": {},
   "outputs": [],
   "source": [
    "b = arr.copy()"
   ]
  },
  {
   "cell_type": "code",
   "execution_count": 358,
   "id": "05491ddc",
   "metadata": {},
   "outputs": [
    {
     "data": {
      "text/plain": [
       "array([1000, 2000,    3,    4,    5])"
      ]
     },
     "execution_count": 358,
     "metadata": {},
     "output_type": "execute_result"
    }
   ],
   "source": [
    "b"
   ]
  },
  {
   "cell_type": "code",
   "execution_count": 359,
   "id": "c5f13f01",
   "metadata": {},
   "outputs": [],
   "source": [
    "arr[2] = 3000"
   ]
  },
  {
   "cell_type": "code",
   "execution_count": 360,
   "id": "3b5414f4",
   "metadata": {},
   "outputs": [
    {
     "data": {
      "text/plain": [
       "array([1000, 2000, 3000,    4,    5])"
      ]
     },
     "execution_count": 360,
     "metadata": {},
     "output_type": "execute_result"
    }
   ],
   "source": [
    "arr"
   ]
  },
  {
   "cell_type": "code",
   "execution_count": 361,
   "id": "b24cd2b0",
   "metadata": {},
   "outputs": [
    {
     "data": {
      "text/plain": [
       "array([1000, 2000,    3,    4,    5])"
      ]
     },
     "execution_count": 361,
     "metadata": {},
     "output_type": "execute_result"
    }
   ],
   "source": [
    "b"
   ]
  },
  {
   "cell_type": "code",
   "execution_count": 362,
   "id": "2b4b79e7",
   "metadata": {},
   "outputs": [
    {
     "data": {
      "text/plain": [
       "(np.int64(3000), np.int64(3))"
      ]
     },
     "execution_count": 362,
     "metadata": {},
     "output_type": "execute_result"
    }
   ],
   "source": [
    "arr[2] , b[2]"
   ]
  },
  {
   "cell_type": "markdown",
   "id": "f2407b99",
   "metadata": {},
   "source": [
    "_Multiple Approaches to generate an Array_"
   ]
  },
  {
   "cell_type": "markdown",
   "id": "cf3da9d8",
   "metadata": {},
   "source": [
    "1. `fromfunction()` : construct an array by executing a function over each coordinates."
   ]
  },
  {
   "cell_type": "code",
   "execution_count": 363,
   "id": "aeb065af",
   "metadata": {},
   "outputs": [
    {
     "data": {
      "text/plain": [
       "array([[ True, False, False],\n",
       "       [False,  True, False],\n",
       "       [False, False,  True]])"
      ]
     },
     "execution_count": 363,
     "metadata": {},
     "output_type": "execute_result"
    }
   ],
   "source": [
    "arr1 = np.fromfunction(lambda i, j: i==j, (3, 3))\n",
    "arr1"
   ]
  },
  {
   "cell_type": "markdown",
   "id": "b62e2587",
   "metadata": {},
   "source": [
    "```python\n",
    "[0][0]  [0][1]  [0][2]\n",
    "[1][0]  [1][1]  [1][2]\n",
    "[2][0]  [2][1]  [2][2]\n"
   ]
  },
  {
   "cell_type": "code",
   "execution_count": 364,
   "id": "2a603feb",
   "metadata": {},
   "outputs": [
    {
     "data": {
      "text/plain": [
       "2"
      ]
     },
     "execution_count": 364,
     "metadata": {},
     "output_type": "execute_result"
    }
   ],
   "source": [
    "arr1.ndim"
   ]
  },
  {
   "cell_type": "code",
   "execution_count": 365,
   "id": "9c34b59f",
   "metadata": {},
   "outputs": [
    {
     "data": {
      "text/plain": [
       "(3, 3)"
      ]
     },
     "execution_count": 365,
     "metadata": {},
     "output_type": "execute_result"
    }
   ],
   "source": [
    "arr1.shape"
   ]
  },
  {
   "cell_type": "code",
   "execution_count": 366,
   "id": "819b3b6c",
   "metadata": {},
   "outputs": [
    {
     "data": {
      "text/plain": [
       "9"
      ]
     },
     "execution_count": 366,
     "metadata": {},
     "output_type": "execute_result"
    }
   ],
   "source": [
    "arr1.size # no. of elements"
   ]
  },
  {
   "cell_type": "code",
   "execution_count": 367,
   "id": "b9246dcf",
   "metadata": {},
   "outputs": [
    {
     "data": {
      "text/plain": [
       "array([[0., 0., 0., 0.],\n",
       "       [0., 1., 2., 3.],\n",
       "       [0., 2., 4., 6.],\n",
       "       [0., 3., 6., 9.]])"
      ]
     },
     "execution_count": 367,
     "metadata": {},
     "output_type": "execute_result"
    }
   ],
   "source": [
    "arr2 = np.fromfunction(lambda i, j: i*j, (4, 4))\n",
    "arr2"
   ]
  },
  {
   "cell_type": "code",
   "execution_count": 368,
   "id": "41f8e405",
   "metadata": {},
   "outputs": [
    {
     "data": {
      "text/plain": [
       "2"
      ]
     },
     "execution_count": 368,
     "metadata": {},
     "output_type": "execute_result"
    }
   ],
   "source": [
    "arr2.ndim"
   ]
  },
  {
   "cell_type": "code",
   "execution_count": 369,
   "id": "f497e1e0",
   "metadata": {},
   "outputs": [
    {
     "data": {
      "text/plain": [
       "(4, 4)"
      ]
     },
     "execution_count": 369,
     "metadata": {},
     "output_type": "execute_result"
    }
   ],
   "source": [
    "arr2.shape"
   ]
  },
  {
   "cell_type": "code",
   "execution_count": 370,
   "id": "08cb14a7",
   "metadata": {},
   "outputs": [
    {
     "data": {
      "text/plain": [
       "16"
      ]
     },
     "execution_count": 370,
     "metadata": {},
     "output_type": "execute_result"
    }
   ],
   "source": [
    "arr2.size"
   ]
  },
  {
   "cell_type": "markdown",
   "id": "abbf4f37",
   "metadata": {},
   "source": [
    "2. `fromiter()` : create a new 1-D array from an iterable object.\n",
    "```python\n",
    "Syntax\n",
    "np.fromiter(iterable list, data type)"
   ]
  },
  {
   "cell_type": "code",
   "execution_count": 371,
   "id": "15c70bdf",
   "metadata": {},
   "outputs": [
    {
     "name": "stdout",
     "output_type": "stream",
     "text": [
      "0\n",
      "1\n",
      "2\n",
      "3\n",
      "4\n"
     ]
    }
   ],
   "source": [
    "for i in range(5):\n",
    "    print(i)"
   ]
  },
  {
   "cell_type": "code",
   "execution_count": 372,
   "id": "b57cdb5c",
   "metadata": {},
   "outputs": [
    {
     "data": {
      "text/plain": [
       "[0, 1, 2, 3, 4]"
      ]
     },
     "execution_count": 372,
     "metadata": {},
     "output_type": "execute_result"
    }
   ],
   "source": [
    "[i for i in range(5)]"
   ]
  },
  {
   "cell_type": "code",
   "execution_count": 373,
   "id": "4b026843",
   "metadata": {},
   "outputs": [
    {
     "data": {
      "text/plain": [
       "<generator object <genexpr> at 0x0000029340B9A260>"
      ]
     },
     "execution_count": 373,
     "metadata": {},
     "output_type": "execute_result"
    }
   ],
   "source": [
    "(i for i in range(5))"
   ]
  },
  {
   "cell_type": "code",
   "execution_count": 374,
   "id": "95ba90d6",
   "metadata": {},
   "outputs": [
    {
     "data": {
      "text/plain": [
       "[0, 1, 2, 3, 4]"
      ]
     },
     "execution_count": 374,
     "metadata": {},
     "output_type": "execute_result"
    }
   ],
   "source": [
    "list((i for i in range(5)))"
   ]
  },
  {
   "cell_type": "code",
   "execution_count": 375,
   "id": "40531c29",
   "metadata": {},
   "outputs": [
    {
     "data": {
      "text/plain": [
       "<generator object <genexpr> at 0x0000029340B99CB0>"
      ]
     },
     "execution_count": 375,
     "metadata": {},
     "output_type": "execute_result"
    }
   ],
   "source": [
    "iterator = (i for i in range(5))\n",
    "iterator"
   ]
  },
  {
   "cell_type": "code",
   "execution_count": 376,
   "id": "00299445",
   "metadata": {},
   "outputs": [
    {
     "data": {
      "text/plain": [
       "array([0, 1, 2, 3, 4])"
      ]
     },
     "execution_count": 376,
     "metadata": {},
     "output_type": "execute_result"
    }
   ],
   "source": [
    "np.fromiter(iterator, int) # by default float"
   ]
  },
  {
   "cell_type": "markdown",
   "id": "24a16fbf",
   "metadata": {},
   "source": [
    "3. `fromstring` : "
   ]
  },
  {
   "cell_type": "code",
   "execution_count": 377,
   "id": "ea1bea32",
   "metadata": {},
   "outputs": [
    {
     "data": {
      "text/plain": [
       "array([22., 23., 24.])"
      ]
     },
     "execution_count": 377,
     "metadata": {},
     "output_type": "execute_result"
    }
   ],
   "source": [
    "np.fromstring('22 23 24', sep = \" \") # by default in float"
   ]
  },
  {
   "cell_type": "code",
   "execution_count": 378,
   "id": "1f9882e8",
   "metadata": {},
   "outputs": [
    {
     "data": {
      "text/plain": [
       "array([22, 23, 24])"
      ]
     },
     "execution_count": 378,
     "metadata": {},
     "output_type": "execute_result"
    }
   ],
   "source": [
    "np.fromstring('22 23 24', sep = \" \", dtype= int)"
   ]
  },
  {
   "cell_type": "markdown",
   "id": "337445d3",
   "metadata": {},
   "source": [
    "_For string character, we use split_"
   ]
  },
  {
   "cell_type": "code",
   "execution_count": 379,
   "id": "9263daca",
   "metadata": {},
   "outputs": [
    {
     "data": {
      "text/plain": [
       "['Liza', ' Charlie', ' Zinni']"
      ]
     },
     "execution_count": 379,
     "metadata": {},
     "output_type": "execute_result"
    }
   ],
   "source": [
    "string = \"Liza, Charlie, Zinni\"\n",
    "string.split(\",\")"
   ]
  },
  {
   "cell_type": "code",
   "execution_count": 380,
   "id": "96372515",
   "metadata": {},
   "outputs": [
    {
     "data": {
      "text/plain": [
       "array(['Liza', 'Charlie', 'Zinni'], dtype='<U7')"
      ]
     },
     "execution_count": 380,
     "metadata": {},
     "output_type": "execute_result"
    }
   ],
   "source": [
    "np.array(string.split(\", \"))"
   ]
  },
  {
   "cell_type": "code",
   "execution_count": 381,
   "id": "d3ca8a83",
   "metadata": {},
   "outputs": [
    {
     "data": {
      "text/plain": [
       "[0, 1, 2, 3, 4, 5, 6, 7, 8, 9]"
      ]
     },
     "execution_count": 381,
     "metadata": {},
     "output_type": "execute_result"
    }
   ],
   "source": [
    "list(range(10))"
   ]
  },
  {
   "cell_type": "markdown",
   "id": "1d48a289",
   "metadata": {},
   "source": [
    "- Other method to generate a sequenc of numer"
   ]
  },
  {
   "cell_type": "markdown",
   "id": "277baed5",
   "metadata": {},
   "source": [
    "`np.arange()`"
   ]
  },
  {
   "cell_type": "code",
   "execution_count": 382,
   "id": "1d1a221d",
   "metadata": {},
   "outputs": [
    {
     "data": {
      "text/plain": [
       "array([1, 2, 3, 4, 5, 6, 7, 8, 9])"
      ]
     },
     "execution_count": 382,
     "metadata": {},
     "output_type": "execute_result"
    }
   ],
   "source": [
    "np.arange(1, 10)"
   ]
  },
  {
   "cell_type": "code",
   "execution_count": 383,
   "id": "e4fb856f",
   "metadata": {},
   "outputs": [
    {
     "data": {
      "text/plain": [
       "array([1. , 1.1, 1.2, 1.3, 1.4, 1.5, 1.6, 1.7, 1.8, 1.9, 2. , 2.1, 2.2,\n",
       "       2.3, 2.4, 2.5, 2.6, 2.7, 2.8, 2.9, 3. , 3.1, 3.2, 3.3, 3.4, 3.5,\n",
       "       3.6, 3.7, 3.8, 3.9, 4. , 4.1, 4.2, 4.3, 4.4, 4.5, 4.6, 4.7, 4.8,\n",
       "       4.9, 5. , 5.1, 5.2, 5.3, 5.4, 5.5, 5.6, 5.7, 5.8, 5.9, 6. , 6.1,\n",
       "       6.2, 6.3, 6.4, 6.5, 6.6, 6.7, 6.8, 6.9, 7. , 7.1, 7.2, 7.3, 7.4,\n",
       "       7.5, 7.6, 7.7, 7.8, 7.9, 8. , 8.1, 8.2, 8.3, 8.4, 8.5, 8.6, 8.7,\n",
       "       8.8, 8.9, 9. , 9.1, 9.2, 9.3, 9.4, 9.5, 9.6, 9.7, 9.8, 9.9])"
      ]
     },
     "execution_count": 383,
     "metadata": {},
     "output_type": "execute_result"
    }
   ],
   "source": [
    "np.arange(1, 10, 0.1)"
   ]
  },
  {
   "cell_type": "markdown",
   "id": "227c5685",
   "metadata": {},
   "source": [
    "`np.linspace()` : gives numbers between start and stop"
   ]
  },
  {
   "cell_type": "code",
   "execution_count": 384,
   "id": "28c8cc9a",
   "metadata": {},
   "outputs": [
    {
     "data": {
      "text/plain": [
       "array([1.        , 1.44444444, 1.88888889, 2.33333333, 2.77777778,\n",
       "       3.22222222, 3.66666667, 4.11111111, 4.55555556, 5.        ])"
      ]
     },
     "execution_count": 384,
     "metadata": {},
     "output_type": "execute_result"
    }
   ],
   "source": [
    "np.linspace(1,5, 10)"
   ]
  },
  {
   "cell_type": "markdown",
   "id": "4fd8a7a5",
   "metadata": {},
   "source": [
    "### Zeros array"
   ]
  },
  {
   "cell_type": "code",
   "execution_count": 385,
   "id": "ca49e9b7",
   "metadata": {},
   "outputs": [],
   "source": [
    "import numpy as np"
   ]
  },
  {
   "cell_type": "code",
   "execution_count": 386,
   "id": "95de6f13",
   "metadata": {},
   "outputs": [],
   "source": [
    "a = np.zeros(5)  # return a new array of given shape and type, filled with zeros"
   ]
  },
  {
   "cell_type": "code",
   "execution_count": 387,
   "id": "af8238f0",
   "metadata": {},
   "outputs": [
    {
     "data": {
      "text/plain": [
       "array([0., 0., 0., 0., 0.])"
      ]
     },
     "execution_count": 387,
     "metadata": {},
     "output_type": "execute_result"
    }
   ],
   "source": [
    "a"
   ]
  },
  {
   "cell_type": "code",
   "execution_count": 388,
   "id": "3603046b",
   "metadata": {},
   "outputs": [
    {
     "data": {
      "text/plain": [
       "1"
      ]
     },
     "execution_count": 388,
     "metadata": {},
     "output_type": "execute_result"
    }
   ],
   "source": [
    "a.ndim"
   ]
  },
  {
   "cell_type": "code",
   "execution_count": 389,
   "id": "5dd105e7",
   "metadata": {},
   "outputs": [
    {
     "data": {
      "text/plain": [
       "array([0, 0, 0, 0, 0, 0, 0, 0, 0, 0])"
      ]
     },
     "execution_count": 389,
     "metadata": {},
     "output_type": "execute_result"
    }
   ],
   "source": [
    "# above in float ,, now we change it in int\n",
    "np.zeros(10, dtype=int)"
   ]
  },
  {
   "cell_type": "code",
   "execution_count": 390,
   "id": "3b2ad8e5",
   "metadata": {},
   "outputs": [],
   "source": [
    "b= np.zeros((3,4))  # here two paranthesis means two dimension in 3 row and 4 col"
   ]
  },
  {
   "cell_type": "code",
   "execution_count": 391,
   "id": "b34a84ce",
   "metadata": {},
   "outputs": [
    {
     "data": {
      "text/plain": [
       "array([[0., 0., 0., 0.],\n",
       "       [0., 0., 0., 0.],\n",
       "       [0., 0., 0., 0.]])"
      ]
     },
     "execution_count": 391,
     "metadata": {},
     "output_type": "execute_result"
    }
   ],
   "source": [
    "b"
   ]
  },
  {
   "cell_type": "code",
   "execution_count": 392,
   "id": "253e745a",
   "metadata": {},
   "outputs": [
    {
     "data": {
      "text/plain": [
       "2"
      ]
     },
     "execution_count": 392,
     "metadata": {},
     "output_type": "execute_result"
    }
   ],
   "source": [
    "b.ndim"
   ]
  },
  {
   "cell_type": "markdown",
   "id": "20d06a17",
   "metadata": {},
   "source": [
    "### Ones array"
   ]
  },
  {
   "cell_type": "code",
   "execution_count": 393,
   "id": "d1138111",
   "metadata": {},
   "outputs": [],
   "source": [
    "a = np.ones(5)"
   ]
  },
  {
   "cell_type": "code",
   "execution_count": 394,
   "id": "4f9d9e38",
   "metadata": {},
   "outputs": [
    {
     "data": {
      "text/plain": [
       "array([1., 1., 1., 1., 1.])"
      ]
     },
     "execution_count": 394,
     "metadata": {},
     "output_type": "execute_result"
    }
   ],
   "source": [
    "a"
   ]
  },
  {
   "cell_type": "code",
   "execution_count": 395,
   "id": "2d18de85",
   "metadata": {},
   "outputs": [
    {
     "data": {
      "text/plain": [
       "array([1, 1, 1, 1, 1])"
      ]
     },
     "execution_count": 395,
     "metadata": {},
     "output_type": "execute_result"
    }
   ],
   "source": [
    "a = np.ones(5, dtype=int)\n",
    "a"
   ]
  },
  {
   "cell_type": "code",
   "execution_count": 396,
   "id": "cb97d3b0",
   "metadata": {},
   "outputs": [],
   "source": [
    "b = np.ones((4,5))"
   ]
  },
  {
   "cell_type": "code",
   "execution_count": 397,
   "id": "67542200",
   "metadata": {},
   "outputs": [
    {
     "data": {
      "text/plain": [
       "array([[1., 1., 1., 1., 1.],\n",
       "       [1., 1., 1., 1., 1.],\n",
       "       [1., 1., 1., 1., 1.],\n",
       "       [1., 1., 1., 1., 1.]])"
      ]
     },
     "execution_count": 397,
     "metadata": {},
     "output_type": "execute_result"
    }
   ],
   "source": [
    "b"
   ]
  },
  {
   "cell_type": "code",
   "execution_count": 398,
   "id": "0db001be",
   "metadata": {},
   "outputs": [
    {
     "data": {
      "text/plain": [
       "2"
      ]
     },
     "execution_count": 398,
     "metadata": {},
     "output_type": "execute_result"
    }
   ],
   "source": [
    "b.ndim"
   ]
  },
  {
   "cell_type": "markdown",
   "id": "7fa089a0",
   "metadata": {},
   "source": [
    "### 3D Arrays"
   ]
  },
  {
   "cell_type": "code",
   "execution_count": 399,
   "id": "b398a38c",
   "metadata": {},
   "outputs": [
    {
     "data": {
      "text/plain": [
       "array([0., 0., 0.])"
      ]
     },
     "execution_count": 399,
     "metadata": {},
     "output_type": "execute_result"
    }
   ],
   "source": [
    "# one dimension array\n",
    "np.zeros(3)"
   ]
  },
  {
   "cell_type": "code",
   "execution_count": 400,
   "id": "d5ed490e",
   "metadata": {},
   "outputs": [
    {
     "data": {
      "text/plain": [
       "array([[0., 0., 0., 0.],\n",
       "       [0., 0., 0., 0.],\n",
       "       [0., 0., 0., 0.]])"
      ]
     },
     "execution_count": 400,
     "metadata": {},
     "output_type": "execute_result"
    }
   ],
   "source": [
    "# Two dimension array\n",
    "np.zeros((3,4))"
   ]
  },
  {
   "cell_type": "code",
   "execution_count": 401,
   "id": "e2ac49b5",
   "metadata": {},
   "outputs": [
    {
     "data": {
      "text/plain": [
       "array([[[0., 0., 0., 0.],\n",
       "        [0., 0., 0., 0.],\n",
       "        [0., 0., 0., 0.]]])"
      ]
     },
     "execution_count": 401,
     "metadata": {},
     "output_type": "execute_result"
    }
   ],
   "source": [
    "# Three diemsions\n",
    "arr = np.zeros((1, 3, 4))\n",
    "arr"
   ]
  },
  {
   "cell_type": "code",
   "execution_count": 402,
   "id": "2b178b24",
   "metadata": {},
   "outputs": [
    {
     "data": {
      "text/plain": [
       "3"
      ]
     },
     "execution_count": 402,
     "metadata": {},
     "output_type": "execute_result"
    }
   ],
   "source": [
    "arr.ndim"
   ]
  },
  {
   "cell_type": "code",
   "execution_count": 403,
   "id": "555dda2b",
   "metadata": {},
   "outputs": [
    {
     "data": {
      "text/plain": [
       "array([[[1., 1., 1., 1.],\n",
       "        [1., 1., 1., 1.],\n",
       "        [1., 1., 1., 1.]],\n",
       "\n",
       "       [[1., 1., 1., 1.],\n",
       "        [1., 1., 1., 1.],\n",
       "        [1., 1., 1., 1.]],\n",
       "\n",
       "       [[1., 1., 1., 1.],\n",
       "        [1., 1., 1., 1.],\n",
       "        [1., 1., 1., 1.]]])"
      ]
     },
     "execution_count": 403,
     "metadata": {},
     "output_type": "execute_result"
    }
   ],
   "source": [
    "arr1 = np.ones((3, 3, 4))\n",
    "arr1"
   ]
  },
  {
   "cell_type": "markdown",
   "id": "044c95cc",
   "metadata": {},
   "source": [
    "### Four dimension array"
   ]
  },
  {
   "cell_type": "code",
   "execution_count": 404,
   "id": "42028997",
   "metadata": {},
   "outputs": [
    {
     "data": {
      "text/plain": [
       "array([[[[0., 0., 0.],\n",
       "         [0., 0., 0.]]]])"
      ]
     },
     "execution_count": 404,
     "metadata": {},
     "output_type": "execute_result"
    }
   ],
   "source": [
    "c = np.zeros((1, 1, 2, 3))\n",
    "c"
   ]
  },
  {
   "cell_type": "code",
   "execution_count": 405,
   "id": "64511589",
   "metadata": {},
   "outputs": [
    {
     "data": {
      "text/plain": [
       "4"
      ]
     },
     "execution_count": 405,
     "metadata": {},
     "output_type": "execute_result"
    }
   ],
   "source": [
    "c.ndim"
   ]
  },
  {
   "cell_type": "code",
   "execution_count": 406,
   "id": "64b36f0e",
   "metadata": {},
   "outputs": [
    {
     "data": {
      "text/plain": [
       "array([[[[[1., 1., 1.],\n",
       "          [1., 1., 1.],\n",
       "          [1., 1., 1.]]]]])"
      ]
     },
     "execution_count": 406,
     "metadata": {},
     "output_type": "execute_result"
    }
   ],
   "source": [
    "c = np.ones((1, 1, 1, 3, 3))\n",
    "c"
   ]
  },
  {
   "cell_type": "code",
   "execution_count": 407,
   "id": "2ec34ff5",
   "metadata": {},
   "outputs": [
    {
     "data": {
      "text/plain": [
       "5"
      ]
     },
     "execution_count": 407,
     "metadata": {},
     "output_type": "execute_result"
    }
   ],
   "source": [
    "c.ndim"
   ]
  },
  {
   "cell_type": "markdown",
   "id": "12304c90",
   "metadata": {},
   "source": [
    "### Arithematic operations in Array"
   ]
  },
  {
   "cell_type": "code",
   "execution_count": 408,
   "id": "0f7055ba",
   "metadata": {},
   "outputs": [
    {
     "data": {
      "text/plain": [
       "array([[0., 0., 0., 0.],\n",
       "       [0., 0., 0., 0.],\n",
       "       [0., 0., 0., 0.]])"
      ]
     },
     "execution_count": 408,
     "metadata": {},
     "output_type": "execute_result"
    }
   ],
   "source": [
    "arr = np.zeros((3,4))\n",
    "arr"
   ]
  },
  {
   "cell_type": "code",
   "execution_count": 409,
   "id": "3c1e7480",
   "metadata": {},
   "outputs": [
    {
     "data": {
      "text/plain": [
       "array([[5., 5., 5., 5.],\n",
       "       [5., 5., 5., 5.],\n",
       "       [5., 5., 5., 5.]])"
      ]
     },
     "execution_count": 409,
     "metadata": {},
     "output_type": "execute_result"
    }
   ],
   "source": [
    "a = arr+5\n",
    "a"
   ]
  },
  {
   "cell_type": "code",
   "execution_count": 410,
   "id": "af58df42",
   "metadata": {},
   "outputs": [
    {
     "data": {
      "text/plain": [
       "array([[10., 10., 10., 10.],\n",
       "       [10., 10., 10., 10.],\n",
       "       [10., 10., 10., 10.]])"
      ]
     },
     "execution_count": 410,
     "metadata": {},
     "output_type": "execute_result"
    }
   ],
   "source": [
    "a * 2"
   ]
  },
  {
   "cell_type": "code",
   "execution_count": 411,
   "id": "cb1f14f0",
   "metadata": {},
   "outputs": [
    {
     "data": {
      "text/plain": [
       "array([[5., 5., 5., 5.],\n",
       "       [5., 5., 5., 5.],\n",
       "       [5., 5., 5., 5.]])"
      ]
     },
     "execution_count": 411,
     "metadata": {},
     "output_type": "execute_result"
    }
   ],
   "source": [
    "a"
   ]
  },
  {
   "cell_type": "code",
   "execution_count": 412,
   "id": "10867557",
   "metadata": {},
   "outputs": [
    {
     "data": {
      "text/plain": [
       "array([[4., 4., 4., 4.],\n",
       "       [4., 4., 4., 4.],\n",
       "       [4., 4., 4., 4.]])"
      ]
     },
     "execution_count": 412,
     "metadata": {},
     "output_type": "execute_result"
    }
   ],
   "source": [
    "a-1"
   ]
  },
  {
   "cell_type": "code",
   "execution_count": 413,
   "id": "9b3a2349",
   "metadata": {},
   "outputs": [
    {
     "data": {
      "text/plain": [
       "array([[2.5, 2.5, 2.5, 2.5],\n",
       "       [2.5, 2.5, 2.5, 2.5],\n",
       "       [2.5, 2.5, 2.5, 2.5]])"
      ]
     },
     "execution_count": 413,
     "metadata": {},
     "output_type": "execute_result"
    }
   ],
   "source": [
    "a/2"
   ]
  },
  {
   "cell_type": "code",
   "execution_count": 414,
   "id": "b15f79d7",
   "metadata": {},
   "outputs": [
    {
     "data": {
      "text/plain": [
       "array([[25., 25., 25., 25.],\n",
       "       [25., 25., 25., 25.],\n",
       "       [25., 25., 25., 25.]])"
      ]
     },
     "execution_count": 414,
     "metadata": {},
     "output_type": "execute_result"
    }
   ],
   "source": [
    "a**2"
   ]
  },
  {
   "cell_type": "markdown",
   "id": "a409032e",
   "metadata": {},
   "source": [
    "### Identity Array"
   ]
  },
  {
   "cell_type": "code",
   "execution_count": 415,
   "id": "b886df94",
   "metadata": {},
   "outputs": [
    {
     "data": {
      "text/plain": [
       "array([[1., 0., 0.],\n",
       "       [0., 1., 0.],\n",
       "       [0., 0., 1.]])"
      ]
     },
     "execution_count": 415,
     "metadata": {},
     "output_type": "execute_result"
    }
   ],
   "source": [
    "np.eye(3) # Return a 2-D array with ones on the diagonal and zeroes elsewhere"
   ]
  },
  {
   "cell_type": "code",
   "execution_count": 416,
   "id": "ce2bd12c",
   "metadata": {},
   "outputs": [
    {
     "data": {
      "text/plain": [
       "array([[1, 0, 0],\n",
       "       [0, 1, 0],\n",
       "       [0, 0, 1]])"
      ]
     },
     "execution_count": 416,
     "metadata": {},
     "output_type": "execute_result"
    }
   ],
   "source": [
    "np.eye(3, dtype=int)"
   ]
  },
  {
   "cell_type": "code",
   "execution_count": 417,
   "id": "644360a7",
   "metadata": {},
   "outputs": [
    {
     "data": {
      "text/plain": [
       "array([[1., 0., 0., 0.],\n",
       "       [0., 1., 0., 0.],\n",
       "       [0., 0., 1., 0.],\n",
       "       [0., 0., 0., 1.]])"
      ]
     },
     "execution_count": 417,
     "metadata": {},
     "output_type": "execute_result"
    }
   ],
   "source": [
    "np.eye(4)"
   ]
  },
  {
   "cell_type": "code",
   "execution_count": 418,
   "id": "4f08272b",
   "metadata": {},
   "outputs": [
    {
     "data": {
      "text/plain": [
       "array([[25., 25., 25., 25.],\n",
       "       [25., 25., 25., 25.],\n",
       "       [25., 25., 25., 25.]])"
      ]
     },
     "execution_count": 418,
     "metadata": {},
     "output_type": "execute_result"
    }
   ],
   "source": [
    "np.empty((3,4))  # Return a new array of given shape annd size without initializing entries.\n",
    "# any random value stores in memory"
   ]
  },
  {
   "cell_type": "code",
   "execution_count": 419,
   "id": "cb60f95e",
   "metadata": {},
   "outputs": [
    {
     "data": {
      "text/plain": [
       "3"
      ]
     },
     "execution_count": 419,
     "metadata": {},
     "output_type": "execute_result"
    }
   ],
   "source": [
    "import random\n",
    "random.choice((1, 2, 3, 4, 5))"
   ]
  },
  {
   "cell_type": "code",
   "execution_count": 420,
   "id": "25020351",
   "metadata": {},
   "outputs": [
    {
     "data": {
      "text/plain": [
       "'A'"
      ]
     },
     "execution_count": 420,
     "metadata": {},
     "output_type": "execute_result"
    }
   ],
   "source": [
    "random.choice(\"PRAGATI\")"
   ]
  },
  {
   "cell_type": "code",
   "execution_count": 421,
   "id": "e8d7a57b",
   "metadata": {},
   "outputs": [
    {
     "data": {
      "text/plain": [
       "6"
      ]
     },
     "execution_count": 421,
     "metadata": {},
     "output_type": "execute_result"
    }
   ],
   "source": [
    "random.randrange(1,10)"
   ]
  },
  {
   "cell_type": "code",
   "execution_count": 422,
   "id": "c65cdb44",
   "metadata": {},
   "outputs": [
    {
     "data": {
      "text/plain": [
       "0.31155322991053425"
      ]
     },
     "execution_count": 422,
     "metadata": {},
     "output_type": "execute_result"
    }
   ],
   "source": [
    "random.random()  # A random no. between 0(included) and 1(excluded)"
   ]
  },
  {
   "cell_type": "code",
   "execution_count": 423,
   "id": "9fb1b98c",
   "metadata": {},
   "outputs": [
    {
     "data": {
      "text/plain": [
       "[1, 2, 3, 4, 5]"
      ]
     },
     "execution_count": 423,
     "metadata": {},
     "output_type": "execute_result"
    }
   ],
   "source": [
    "lis = [1, 2, 3, 4, 5]\n",
    "lis"
   ]
  },
  {
   "cell_type": "code",
   "execution_count": 424,
   "id": "c4984676",
   "metadata": {},
   "outputs": [],
   "source": [
    "random.shuffle(lis)"
   ]
  },
  {
   "cell_type": "code",
   "execution_count": 425,
   "id": "f480d296",
   "metadata": {},
   "outputs": [
    {
     "data": {
      "text/plain": [
       "[5, 4, 2, 1, 3]"
      ]
     },
     "execution_count": 425,
     "metadata": {},
     "output_type": "execute_result"
    }
   ],
   "source": [
    "lis"
   ]
  },
  {
   "cell_type": "code",
   "execution_count": 426,
   "id": "39198c16",
   "metadata": {},
   "outputs": [
    {
     "data": {
      "text/plain": [
       "7.4738145719907125"
      ]
     },
     "execution_count": 426,
     "metadata": {},
     "output_type": "execute_result"
    }
   ],
   "source": [
    "random.uniform(7,14)"
   ]
  },
  {
   "cell_type": "code",
   "execution_count": 427,
   "id": "d35c90de",
   "metadata": {},
   "outputs": [],
   "source": [
    "# random numbers concepts related to numpy"
   ]
  },
  {
   "cell_type": "code",
   "execution_count": 428,
   "id": "8d0c3cd5",
   "metadata": {},
   "outputs": [
    {
     "data": {
      "text/plain": [
       "array([], dtype=float64)"
      ]
     },
     "execution_count": 428,
     "metadata": {},
     "output_type": "execute_result"
    }
   ],
   "source": [
    "np.array([])"
   ]
  },
  {
   "cell_type": "code",
   "execution_count": 429,
   "id": "c86e4b54",
   "metadata": {},
   "outputs": [
    {
     "data": {
      "text/plain": [
       "0.7257085273408915"
      ]
     },
     "execution_count": 429,
     "metadata": {},
     "output_type": "execute_result"
    }
   ],
   "source": [
    "np.random.random_sample()"
   ]
  },
  {
   "cell_type": "code",
   "execution_count": 430,
   "id": "905f3d6f",
   "metadata": {},
   "outputs": [
    {
     "data": {
      "text/plain": [
       "array([[0.78904758],\n",
       "       [0.61092444],\n",
       "       [0.44267196],\n",
       "       [0.58193489],\n",
       "       [0.51814064]])"
      ]
     },
     "execution_count": 430,
     "metadata": {},
     "output_type": "execute_result"
    }
   ],
   "source": [
    "np.random.random_sample((5,1)) # 1-D of 5 random numbers between 0 to 1"
   ]
  },
  {
   "cell_type": "code",
   "execution_count": 431,
   "id": "345a841f",
   "metadata": {},
   "outputs": [
    {
     "data": {
      "text/plain": [
       "array([0.21236245])"
      ]
     },
     "execution_count": 431,
     "metadata": {},
     "output_type": "execute_result"
    }
   ],
   "source": [
    "np.random.rand((1))"
   ]
  },
  {
   "cell_type": "code",
   "execution_count": 432,
   "id": "c39a2376",
   "metadata": {},
   "outputs": [
    {
     "data": {
      "text/plain": [
       "array([[0.14690152, 0.9849217 , 0.28523116],\n",
       "       [0.5555439 , 0.85615876, 0.53101606]])"
      ]
     },
     "execution_count": 432,
     "metadata": {},
     "output_type": "execute_result"
    }
   ],
   "source": [
    "np.random.rand(2,3)"
   ]
  },
  {
   "cell_type": "code",
   "execution_count": 433,
   "id": "3a2333c3",
   "metadata": {},
   "outputs": [
    {
     "data": {
      "text/plain": [
       "array([[-0.53289229, -0.65576372,  0.55572564],\n",
       "       [-0.65439127, -0.60960594,  1.37073826]])"
      ]
     },
     "execution_count": 433,
     "metadata": {},
     "output_type": "execute_result"
    }
   ],
   "source": [
    "np.random.randn(2,3)  # return a sample from the standard normal distributions\n"
   ]
  },
  {
   "cell_type": "code",
   "execution_count": 434,
   "id": "1d32e30f",
   "metadata": {},
   "outputs": [
    {
     "data": {
      "text/plain": [
       "3"
      ]
     },
     "execution_count": 434,
     "metadata": {},
     "output_type": "execute_result"
    }
   ],
   "source": [
    "np.random.randint(1,5)"
   ]
  },
  {
   "cell_type": "code",
   "execution_count": 435,
   "id": "67053fc5",
   "metadata": {},
   "outputs": [],
   "source": [
    "arr = np.random.randint(1,5, size= (3,4))  # start from 1 end at 5-1 and array of 3 row 4 col"
   ]
  },
  {
   "cell_type": "code",
   "execution_count": 436,
   "id": "e82335f9",
   "metadata": {},
   "outputs": [
    {
     "data": {
      "text/plain": [
       "2"
      ]
     },
     "execution_count": 436,
     "metadata": {},
     "output_type": "execute_result"
    }
   ],
   "source": [
    "arr.ndim"
   ]
  },
  {
   "cell_type": "code",
   "execution_count": 437,
   "id": "275dfce6",
   "metadata": {},
   "outputs": [
    {
     "data": {
      "text/plain": [
       "(3, 4)"
      ]
     },
     "execution_count": 437,
     "metadata": {},
     "output_type": "execute_result"
    }
   ],
   "source": [
    "\n",
    "arr.shape"
   ]
  },
  {
   "cell_type": "code",
   "execution_count": 438,
   "id": "7b9a563c",
   "metadata": {},
   "outputs": [
    {
     "data": {
      "text/plain": [
       "12"
      ]
     },
     "execution_count": 438,
     "metadata": {},
     "output_type": "execute_result"
    }
   ],
   "source": [
    "arr.size  # no. of elements"
   ]
  },
  {
   "cell_type": "markdown",
   "id": "365fdd7d",
   "metadata": {},
   "source": [
    "### Reshaping of array\n",
    "- Array size should not change.\n",
    "- Always rehsaped parameter size should be same to org size\n"
   ]
  },
  {
   "cell_type": "code",
   "execution_count": 439,
   "id": "03e54b64",
   "metadata": {},
   "outputs": [
    {
     "data": {
      "text/plain": [
       "array([[2, 3, 1, 4, 1, 2],\n",
       "       [4, 3, 3, 1, 3, 2]], dtype=int32)"
      ]
     },
     "execution_count": 439,
     "metadata": {},
     "output_type": "execute_result"
    }
   ],
   "source": [
    "arr.reshape(2,6)  # size of the array must be same."
   ]
  },
  {
   "cell_type": "code",
   "execution_count": 440,
   "id": "38b56d8c",
   "metadata": {},
   "outputs": [
    {
     "data": {
      "text/plain": [
       "array([[2, 3],\n",
       "       [1, 4],\n",
       "       [1, 2],\n",
       "       [4, 3],\n",
       "       [3, 1],\n",
       "       [3, 2]], dtype=int32)"
      ]
     },
     "execution_count": 440,
     "metadata": {},
     "output_type": "execute_result"
    }
   ],
   "source": [
    "arr.reshape(6,2)"
   ]
  },
  {
   "cell_type": "code",
   "execution_count": 441,
   "id": "eca9238e",
   "metadata": {},
   "outputs": [
    {
     "data": {
      "text/plain": [
       "array([[2, 3, 1, 4, 1, 2, 4, 3, 3, 1, 3, 2]], dtype=int32)"
      ]
     },
     "execution_count": 441,
     "metadata": {},
     "output_type": "execute_result"
    }
   ],
   "source": [
    "arr.reshape(1, 12)"
   ]
  },
  {
   "cell_type": "code",
   "execution_count": 442,
   "id": "4ce13d71",
   "metadata": {},
   "outputs": [
    {
     "data": {
      "text/plain": [
       "array([[2, 3, 1, 4],\n",
       "       [1, 2, 4, 3],\n",
       "       [3, 1, 3, 2]], dtype=int32)"
      ]
     },
     "execution_count": 442,
     "metadata": {},
     "output_type": "execute_result"
    }
   ],
   "source": [
    "arr"
   ]
  },
  {
   "cell_type": "markdown",
   "id": "b6526676",
   "metadata": {},
   "source": [
    "- When you dont know in reshape what should be the row or col count.\n",
    "- `arr.reshape(row, negative int)`\n",
    "- `arr.reshape(negative int, col)`"
   ]
  },
  {
   "cell_type": "code",
   "execution_count": 443,
   "id": "9cd185a2",
   "metadata": {},
   "outputs": [
    {
     "data": {
      "text/plain": [
       "array([[2, 3, 1],\n",
       "       [4, 1, 2],\n",
       "       [4, 3, 3],\n",
       "       [1, 3, 2]], dtype=int32)"
      ]
     },
     "execution_count": 443,
     "metadata": {},
     "output_type": "execute_result"
    }
   ],
   "source": [
    "arr.reshape(4,-1)"
   ]
  },
  {
   "cell_type": "code",
   "execution_count": 444,
   "id": "8aa18654",
   "metadata": {},
   "outputs": [
    {
     "data": {
      "text/plain": [
       "array([[2, 3],\n",
       "       [1, 4],\n",
       "       [1, 2],\n",
       "       [4, 3],\n",
       "       [3, 1],\n",
       "       [3, 2]], dtype=int32)"
      ]
     },
     "execution_count": 444,
     "metadata": {},
     "output_type": "execute_result"
    }
   ],
   "source": [
    "arr.reshape(-2, 2)"
   ]
  },
  {
   "cell_type": "code",
   "execution_count": 445,
   "id": "c0c87cc6",
   "metadata": {},
   "outputs": [
    {
     "data": {
      "text/plain": [
       "array([[2],\n",
       "       [3],\n",
       "       [1],\n",
       "       [4],\n",
       "       [1],\n",
       "       [2],\n",
       "       [4],\n",
       "       [3],\n",
       "       [3],\n",
       "       [1],\n",
       "       [3],\n",
       "       [2]], dtype=int32)"
      ]
     },
     "execution_count": 445,
     "metadata": {},
     "output_type": "execute_result"
    }
   ],
   "source": [
    "arr.reshape(12,1)"
   ]
  },
  {
   "cell_type": "code",
   "execution_count": 446,
   "id": "61fe0cd4",
   "metadata": {},
   "outputs": [
    {
     "data": {
      "text/plain": [
       "array([[2, 3, 1, 4],\n",
       "       [1, 2, 4, 3],\n",
       "       [3, 1, 3, 2]], dtype=int32)"
      ]
     },
     "execution_count": 446,
     "metadata": {},
     "output_type": "execute_result"
    }
   ],
   "source": [
    "arr.reshape(12,1).base # to see the original array"
   ]
  },
  {
   "cell_type": "code",
   "execution_count": 447,
   "id": "87dee73e",
   "metadata": {},
   "outputs": [
    {
     "data": {
      "text/plain": [
       "array([[2, 3, 1, 4],\n",
       "       [1, 2, 4, 3],\n",
       "       [3, 1, 3, 2]], dtype=int32)"
      ]
     },
     "execution_count": 447,
     "metadata": {},
     "output_type": "execute_result"
    }
   ],
   "source": [
    "arr"
   ]
  },
  {
   "cell_type": "code",
   "execution_count": 448,
   "id": "368de635",
   "metadata": {},
   "outputs": [
    {
     "data": {
      "text/plain": [
       "array([[[2, 3, 1],\n",
       "        [4, 1, 2]],\n",
       "\n",
       "       [[4, 3, 3],\n",
       "        [1, 3, 2]]], dtype=int32)"
      ]
     },
     "execution_count": 448,
     "metadata": {},
     "output_type": "execute_result"
    }
   ],
   "source": [
    "arr.reshape(2, 2,3)  # size should be same"
   ]
  },
  {
   "cell_type": "code",
   "execution_count": 449,
   "id": "6172cc4b",
   "metadata": {},
   "outputs": [
    {
     "data": {
      "text/plain": [
       "array([[[[2, 3, 1],\n",
       "         [4, 1, 2]],\n",
       "\n",
       "        [[4, 3, 3],\n",
       "         [1, 3, 2]]]], dtype=int32)"
      ]
     },
     "execution_count": 449,
     "metadata": {},
     "output_type": "execute_result"
    }
   ],
   "source": [
    "arr.reshape(1,2,2,3)"
   ]
  },
  {
   "cell_type": "code",
   "execution_count": 450,
   "id": "884f97f1",
   "metadata": {},
   "outputs": [
    {
     "data": {
      "text/plain": [
       "4"
      ]
     },
     "execution_count": 450,
     "metadata": {},
     "output_type": "execute_result"
    }
   ],
   "source": [
    "arr.reshape(1,2,2,3).ndim"
   ]
  },
  {
   "cell_type": "code",
   "execution_count": 451,
   "id": "eca4b9d5",
   "metadata": {},
   "outputs": [
    {
     "data": {
      "text/plain": [
       "array([[[2],\n",
       "        [3],\n",
       "        [1]],\n",
       "\n",
       "       [[4],\n",
       "        [1],\n",
       "        [2]],\n",
       "\n",
       "       [[4],\n",
       "        [3],\n",
       "        [3]],\n",
       "\n",
       "       [[1],\n",
       "        [3],\n",
       "        [2]]], dtype=int32)"
      ]
     },
     "execution_count": 451,
     "metadata": {},
     "output_type": "execute_result"
    }
   ],
   "source": [
    "arr.reshape(4,3,1)  # 3 rows 1 col 4 times repeated in 3-D"
   ]
  },
  {
   "cell_type": "markdown",
   "id": "781073c9",
   "metadata": {},
   "source": [
    "### Conditions on Array"
   ]
  },
  {
   "cell_type": "code",
   "execution_count": 452,
   "id": "149408fa",
   "metadata": {},
   "outputs": [],
   "source": [
    "arr1 = np.random.randint(1, 10, size=(5,6))"
   ]
  },
  {
   "cell_type": "code",
   "execution_count": 453,
   "id": "b0b40ef6",
   "metadata": {},
   "outputs": [
    {
     "data": {
      "text/plain": [
       "array([[8, 6, 9, 2, 5, 1],\n",
       "       [1, 1, 6, 8, 2, 5],\n",
       "       [8, 8, 2, 6, 4, 8],\n",
       "       [3, 1, 3, 5, 7, 5],\n",
       "       [6, 4, 5, 9, 7, 7]], dtype=int32)"
      ]
     },
     "execution_count": 453,
     "metadata": {},
     "output_type": "execute_result"
    }
   ],
   "source": [
    "arr1"
   ]
  },
  {
   "cell_type": "code",
   "execution_count": 454,
   "id": "7f0f169a",
   "metadata": {},
   "outputs": [
    {
     "data": {
      "text/plain": [
       "(5, 6)"
      ]
     },
     "execution_count": 454,
     "metadata": {},
     "output_type": "execute_result"
    }
   ],
   "source": [
    "arr1.shape"
   ]
  },
  {
   "cell_type": "code",
   "execution_count": 455,
   "id": "925bb0e6",
   "metadata": {},
   "outputs": [
    {
     "data": {
      "text/plain": [
       "30"
      ]
     },
     "execution_count": 455,
     "metadata": {},
     "output_type": "execute_result"
    }
   ],
   "source": [
    "arr1.size"
   ]
  },
  {
   "cell_type": "code",
   "execution_count": 456,
   "id": "94b5ec2b",
   "metadata": {},
   "outputs": [
    {
     "data": {
      "text/plain": [
       "array([[ True,  True,  True, False,  True, False],\n",
       "       [False, False,  True,  True, False,  True],\n",
       "       [ True,  True, False,  True,  True,  True],\n",
       "       [False, False, False,  True,  True,  True],\n",
       "       [ True,  True,  True,  True,  True,  True]])"
      ]
     },
     "execution_count": 456,
     "metadata": {},
     "output_type": "execute_result"
    }
   ],
   "source": [
    "arr1 > 3"
   ]
  },
  {
   "cell_type": "code",
   "execution_count": 457,
   "id": "c9254552",
   "metadata": {},
   "outputs": [
    {
     "data": {
      "text/plain": [
       "array([[False, False,  True, False, False, False],\n",
       "       [False, False, False, False, False, False],\n",
       "       [False, False, False, False, False, False],\n",
       "       [False, False, False, False, False, False],\n",
       "       [False, False, False,  True, False, False]])"
      ]
     },
     "execution_count": 457,
     "metadata": {},
     "output_type": "execute_result"
    }
   ],
   "source": [
    "arr1 > 8"
   ]
  },
  {
   "cell_type": "code",
   "execution_count": 458,
   "id": "699478db",
   "metadata": {},
   "outputs": [
    {
     "data": {
      "text/plain": [
       "array([8, 6, 9, 5, 6, 8, 5, 8, 8, 6, 4, 8, 5, 7, 5, 6, 4, 5, 9, 7, 7],\n",
       "      dtype=int32)"
      ]
     },
     "execution_count": 458,
     "metadata": {},
     "output_type": "execute_result"
    }
   ],
   "source": [
    "arr1[arr1 > 3]"
   ]
  },
  {
   "cell_type": "code",
   "execution_count": 459,
   "id": "aa0fed4d",
   "metadata": {},
   "outputs": [
    {
     "data": {
      "text/plain": [
       "array([9, 9], dtype=int32)"
      ]
     },
     "execution_count": 459,
     "metadata": {},
     "output_type": "execute_result"
    }
   ],
   "source": [
    "arr1[arr1 >8]"
   ]
  },
  {
   "cell_type": "code",
   "execution_count": 460,
   "id": "ab7145ed",
   "metadata": {},
   "outputs": [
    {
     "data": {
      "text/plain": [
       "array([2, 1, 1, 1, 2, 2, 1], dtype=int32)"
      ]
     },
     "execution_count": 460,
     "metadata": {},
     "output_type": "execute_result"
    }
   ],
   "source": [
    "arr1[arr1 < 3]"
   ]
  },
  {
   "cell_type": "markdown",
   "id": "3acdc345",
   "metadata": {},
   "source": [
    "_To access elements in array_"
   ]
  },
  {
   "cell_type": "code",
   "execution_count": 461,
   "id": "7a144907",
   "metadata": {},
   "outputs": [
    {
     "data": {
      "text/plain": [
       "array([8, 6, 9, 2, 5, 1], dtype=int32)"
      ]
     },
     "execution_count": 461,
     "metadata": {},
     "output_type": "execute_result"
    }
   ],
   "source": [
    "arr1[0] # 0th index row"
   ]
  },
  {
   "cell_type": "code",
   "execution_count": 462,
   "id": "7d014d2e",
   "metadata": {},
   "outputs": [
    {
     "data": {
      "text/plain": [
       "array([8, 8, 2, 6, 4, 8], dtype=int32)"
      ]
     },
     "execution_count": 462,
     "metadata": {},
     "output_type": "execute_result"
    }
   ],
   "source": [
    "arr1[2]  # 2nd index row"
   ]
  },
  {
   "cell_type": "code",
   "execution_count": 463,
   "id": "7f19d5ff",
   "metadata": {},
   "outputs": [
    {
     "data": {
      "text/plain": [
       "np.int32(2)"
      ]
     },
     "execution_count": 463,
     "metadata": {},
     "output_type": "execute_result"
    }
   ],
   "source": [
    "arr1[2][2]"
   ]
  },
  {
   "cell_type": "code",
   "execution_count": 464,
   "id": "10904205",
   "metadata": {},
   "outputs": [
    {
     "data": {
      "text/plain": [
       "np.int32(3)"
      ]
     },
     "execution_count": 464,
     "metadata": {},
     "output_type": "execute_result"
    }
   ],
   "source": [
    "arr1[3][0]"
   ]
  },
  {
   "cell_type": "markdown",
   "id": "18ef228f",
   "metadata": {},
   "source": [
    "_from 1st row to n row_\n",
    "- arr[0:n]  >> 0 included, n excluded"
   ]
  },
  {
   "cell_type": "code",
   "execution_count": 465,
   "id": "5493031c",
   "metadata": {},
   "outputs": [
    {
     "data": {
      "text/plain": [
       "array([[8, 6, 9, 2, 5, 1],\n",
       "       [1, 1, 6, 8, 2, 5],\n",
       "       [8, 8, 2, 6, 4, 8]], dtype=int32)"
      ]
     },
     "execution_count": 465,
     "metadata": {},
     "output_type": "execute_result"
    }
   ],
   "source": [
    "arr1[0:3]"
   ]
  },
  {
   "cell_type": "markdown",
   "id": "166a7dc6",
   "metadata": {},
   "source": [
    "- Accessing 0 to 2nd row and 0th and 2nd col"
   ]
  },
  {
   "cell_type": "code",
   "execution_count": 466,
   "id": "a98f2ddc",
   "metadata": {},
   "outputs": [
    {
     "data": {
      "text/plain": [
       "array([[8, 2],\n",
       "       [1, 8],\n",
       "       [8, 6]], dtype=int32)"
      ]
     },
     "execution_count": 466,
     "metadata": {},
     "output_type": "execute_result"
    }
   ],
   "source": [
    "arr1[0:3, [0,3]]"
   ]
  },
  {
   "cell_type": "code",
   "execution_count": 467,
   "id": "ba30d725",
   "metadata": {},
   "outputs": [
    {
     "data": {
      "text/plain": [
       "array([[8, 6, 9, 2, 5, 1],\n",
       "       [1, 1, 6, 8, 2, 5],\n",
       "       [8, 8, 2, 6, 4, 8],\n",
       "       [3, 1, 3, 5, 7, 5],\n",
       "       [6, 4, 5, 9, 7, 7]], dtype=int32)"
      ]
     },
     "execution_count": 467,
     "metadata": {},
     "output_type": "execute_result"
    }
   ],
   "source": [
    "arr1"
   ]
  },
  {
   "cell_type": "markdown",
   "id": "c2fd10d3",
   "metadata": {},
   "source": [
    "_Accessing 0th to 4th row and 2nd and 4th col_"
   ]
  },
  {
   "cell_type": "code",
   "execution_count": 468,
   "id": "870a9238",
   "metadata": {},
   "outputs": [
    {
     "data": {
      "text/plain": [
       "array([[6, 5],\n",
       "       [1, 2],\n",
       "       [8, 4],\n",
       "       [1, 7]], dtype=int32)"
      ]
     },
     "execution_count": 468,
     "metadata": {},
     "output_type": "execute_result"
    }
   ],
   "source": [
    "arr1[0:4, [1 ,4]]"
   ]
  },
  {
   "cell_type": "markdown",
   "id": "e0c158b4",
   "metadata": {},
   "source": [
    "### Slicing on both rows and col together"
   ]
  },
  {
   "cell_type": "code",
   "execution_count": 469,
   "id": "c77a8887",
   "metadata": {},
   "outputs": [
    {
     "data": {
      "text/plain": [
       "array([[8, 6, 9, 2, 5, 1],\n",
       "       [1, 1, 6, 8, 2, 5],\n",
       "       [8, 8, 2, 6, 4, 8],\n",
       "       [3, 1, 3, 5, 7, 5],\n",
       "       [6, 4, 5, 9, 7, 7]], dtype=int32)"
      ]
     },
     "execution_count": 469,
     "metadata": {},
     "output_type": "execute_result"
    }
   ],
   "source": [
    "arr1"
   ]
  },
  {
   "cell_type": "code",
   "execution_count": 470,
   "id": "2d3d296f",
   "metadata": {},
   "outputs": [
    {
     "data": {
      "text/plain": [
       "array([[6, 9],\n",
       "       [1, 6],\n",
       "       [8, 2]], dtype=int32)"
      ]
     },
     "execution_count": 470,
     "metadata": {},
     "output_type": "execute_result"
    }
   ],
   "source": [
    "arr1[0:3, 1:3]"
   ]
  },
  {
   "cell_type": "code",
   "execution_count": 471,
   "id": "8df6da59",
   "metadata": {},
   "outputs": [
    {
     "data": {
      "text/plain": [
       "array([8, 6, 9, 2, 5, 1], dtype=int32)"
      ]
     },
     "execution_count": 471,
     "metadata": {},
     "output_type": "execute_result"
    }
   ],
   "source": [
    "arr1[0]"
   ]
  },
  {
   "cell_type": "code",
   "execution_count": 472,
   "id": "ef19df6a",
   "metadata": {},
   "outputs": [
    {
     "data": {
      "text/plain": [
       "array([6, 2], dtype=int32)"
      ]
     },
     "execution_count": 472,
     "metadata": {},
     "output_type": "execute_result"
    }
   ],
   "source": [
    "arr1[0, [1,3]]"
   ]
  },
  {
   "cell_type": "code",
   "execution_count": 473,
   "id": "271c136d",
   "metadata": {},
   "outputs": [
    {
     "data": {
      "text/plain": [
       "array([[8, 6, 9, 2, 5, 1],\n",
       "       [1, 1, 6, 8, 2, 5],\n",
       "       [8, 8, 2, 6, 4, 8],\n",
       "       [3, 1, 3, 5, 7, 5],\n",
       "       [6, 4, 5, 9, 7, 7]], dtype=int32)"
      ]
     },
     "execution_count": 473,
     "metadata": {},
     "output_type": "execute_result"
    }
   ],
   "source": [
    "arr1"
   ]
  },
  {
   "cell_type": "code",
   "execution_count": 474,
   "id": "534985e3",
   "metadata": {},
   "outputs": [
    {
     "data": {
      "text/plain": [
       "array([[8, 8],\n",
       "       [3, 1],\n",
       "       [6, 4]], dtype=int32)"
      ]
     },
     "execution_count": 474,
     "metadata": {},
     "output_type": "execute_result"
    }
   ],
   "source": [
    "arr1[2:5, 0:2]"
   ]
  },
  {
   "cell_type": "markdown",
   "id": "15be0020",
   "metadata": {},
   "source": [
    "## Mathematical Operations on two array"
   ]
  },
  {
   "cell_type": "code",
   "execution_count": 475,
   "id": "514b9817",
   "metadata": {},
   "outputs": [],
   "source": [
    "arr1 = np.random.randint(1, 3, (3,3))\n",
    "arr2 = np.random.randint(1, 3, (3,3))"
   ]
  },
  {
   "cell_type": "code",
   "execution_count": 476,
   "id": "1bf7c4fc",
   "metadata": {},
   "outputs": [
    {
     "data": {
      "text/plain": [
       "array([[1, 1, 2],\n",
       "       [2, 2, 1],\n",
       "       [1, 1, 1]], dtype=int32)"
      ]
     },
     "execution_count": 476,
     "metadata": {},
     "output_type": "execute_result"
    }
   ],
   "source": [
    "arr1"
   ]
  },
  {
   "cell_type": "code",
   "execution_count": 477,
   "id": "c3ebdc22",
   "metadata": {},
   "outputs": [
    {
     "data": {
      "text/plain": [
       "array([[2, 1, 1],\n",
       "       [2, 2, 1],\n",
       "       [2, 2, 2]], dtype=int32)"
      ]
     },
     "execution_count": 477,
     "metadata": {},
     "output_type": "execute_result"
    }
   ],
   "source": [
    "arr2"
   ]
  },
  {
   "cell_type": "markdown",
   "id": "06f58ceb",
   "metadata": {},
   "source": [
    "### Add"
   ]
  },
  {
   "cell_type": "code",
   "execution_count": 478,
   "id": "d423f715",
   "metadata": {},
   "outputs": [
    {
     "data": {
      "text/plain": [
       "array([[3, 2, 3],\n",
       "       [4, 4, 2],\n",
       "       [3, 3, 3]], dtype=int32)"
      ]
     },
     "execution_count": 478,
     "metadata": {},
     "output_type": "execute_result"
    }
   ],
   "source": [
    "arr1+arr2"
   ]
  },
  {
   "cell_type": "markdown",
   "id": "b15723c1",
   "metadata": {},
   "source": [
    "### Subtract"
   ]
  },
  {
   "cell_type": "code",
   "execution_count": 479,
   "id": "1736eb30",
   "metadata": {},
   "outputs": [
    {
     "data": {
      "text/plain": [
       "array([[ 1,  0, -1],\n",
       "       [ 0,  0,  0],\n",
       "       [ 1,  1,  1]], dtype=int32)"
      ]
     },
     "execution_count": 479,
     "metadata": {},
     "output_type": "execute_result"
    }
   ],
   "source": [
    "arr2-arr1"
   ]
  },
  {
   "cell_type": "code",
   "execution_count": 480,
   "id": "e3b0bf0d",
   "metadata": {},
   "outputs": [
    {
     "data": {
      "text/plain": [
       "array([[-1,  0,  1],\n",
       "       [ 0,  0,  0],\n",
       "       [-1, -1, -1]], dtype=int32)"
      ]
     },
     "execution_count": 480,
     "metadata": {},
     "output_type": "execute_result"
    }
   ],
   "source": [
    "arr1-arr2"
   ]
  },
  {
   "cell_type": "markdown",
   "id": "5178136c",
   "metadata": {},
   "source": [
    "### Multiplication"
   ]
  },
  {
   "cell_type": "code",
   "execution_count": 481,
   "id": "beb7f91e",
   "metadata": {},
   "outputs": [
    {
     "data": {
      "text/plain": [
       "array([[2, 1, 2],\n",
       "       [4, 4, 1],\n",
       "       [2, 2, 2]], dtype=int32)"
      ]
     },
     "execution_count": 481,
     "metadata": {},
     "output_type": "execute_result"
    }
   ],
   "source": [
    "arr1*arr2  # index wise multiplication >>> not like matix multiplication"
   ]
  },
  {
   "cell_type": "markdown",
   "id": "34493202",
   "metadata": {},
   "source": [
    "### Division"
   ]
  },
  {
   "cell_type": "code",
   "execution_count": 482,
   "id": "f05fa383",
   "metadata": {},
   "outputs": [
    {
     "data": {
      "text/plain": [
       "array([[0.5, 1. , 2. ],\n",
       "       [1. , 1. , 1. ],\n",
       "       [0.5, 0.5, 0.5]])"
      ]
     },
     "execution_count": 482,
     "metadata": {},
     "output_type": "execute_result"
    }
   ],
   "source": [
    "arr1/arr2"
   ]
  },
  {
   "cell_type": "markdown",
   "id": "f89457f6",
   "metadata": {},
   "source": [
    "- `NOTE` : Without numpy, in python if we divide any number by zero it will throw ZeroByDivision Error. But in numpy it will result to infinity"
   ]
  },
  {
   "cell_type": "code",
   "execution_count": 483,
   "id": "44bd3422",
   "metadata": {},
   "outputs": [
    {
     "name": "stderr",
     "output_type": "stream",
     "text": [
      "C:\\Users\\DAV BABA\\AppData\\Local\\Temp\\ipykernel_2696\\1510032488.py:1: RuntimeWarning: divide by zero encountered in divide\n",
      "  arr1/0\n"
     ]
    },
    {
     "data": {
      "text/plain": [
       "array([[inf, inf, inf],\n",
       "       [inf, inf, inf],\n",
       "       [inf, inf, inf]])"
      ]
     },
     "execution_count": 483,
     "metadata": {},
     "output_type": "execute_result"
    }
   ],
   "source": [
    "arr1/0"
   ]
  },
  {
   "cell_type": "code",
   "execution_count": 484,
   "id": "1524de12",
   "metadata": {},
   "outputs": [
    {
     "data": {
      "text/plain": [
       "array([[0.5, 0.5, 1. ],\n",
       "       [1. , 1. , 0.5],\n",
       "       [0.5, 0.5, 0.5]])"
      ]
     },
     "execution_count": 484,
     "metadata": {},
     "output_type": "execute_result"
    }
   ],
   "source": [
    "arr1/2"
   ]
  },
  {
   "cell_type": "markdown",
   "id": "34bbf184",
   "metadata": {},
   "source": [
    "## Matrix Multiplication"
   ]
  },
  {
   "cell_type": "markdown",
   "id": "d300dd73",
   "metadata": {},
   "source": [
    "`Matrix` : specialised 2-D array"
   ]
  },
  {
   "cell_type": "markdown",
   "id": "8f565d95",
   "metadata": {},
   "source": [
    "- Its multiplication is different from index wise multiplication."
   ]
  },
  {
   "attachments": {
    "image.png": {
     "image/png": "[encoded data removed]"
    }
   },
   "cell_type": "markdown",
   "id": "c0f5c480",
   "metadata": {},
   "source": [
    "![image.png](attachment:image.png)"
   ]
  },
  {
   "cell_type": "markdown",
   "id": "79de11cd",
   "metadata": {},
   "source": [
    "- No of col of matrix A = No. of rows of matrix B\n",
    "- array1 @ array2\n",
    "- np.dot(array1, array2)"
   ]
  },
  {
   "cell_type": "code",
   "execution_count": 485,
   "id": "aeb08a45",
   "metadata": {},
   "outputs": [
    {
     "data": {
      "text/plain": [
       "(array([[1, 1, 2],\n",
       "        [2, 2, 1],\n",
       "        [1, 1, 1]], dtype=int32),\n",
       " array([[2, 1, 1],\n",
       "        [2, 2, 1],\n",
       "        [2, 2, 2]], dtype=int32))"
      ]
     },
     "execution_count": 485,
     "metadata": {},
     "output_type": "execute_result"
    }
   ],
   "source": [
    "arr1 , arr2"
   ]
  },
  {
   "cell_type": "code",
   "execution_count": 486,
   "id": "42c85b8a",
   "metadata": {},
   "outputs": [
    {
     "data": {
      "text/plain": [
       "(array([[ 8,  7,  6],\n",
       "        [10,  8,  6],\n",
       "        [ 6,  5,  4]], dtype=int32),\n",
       " array([[2, 1, 2],\n",
       "        [4, 4, 1],\n",
       "        [2, 2, 2]], dtype=int32))"
      ]
     },
     "execution_count": 486,
     "metadata": {},
     "output_type": "execute_result"
    }
   ],
   "source": [
    "arr1 @ arr2 , arr1 * arr2"
   ]
  },
  {
   "cell_type": "code",
   "execution_count": 487,
   "id": "9a3b67ff",
   "metadata": {},
   "outputs": [
    {
     "data": {
      "text/plain": [
       "array([[ 8,  7,  6],\n",
       "       [10,  8,  6],\n",
       "       [ 6,  5,  4]], dtype=int32)"
      ]
     },
     "execution_count": 487,
     "metadata": {},
     "output_type": "execute_result"
    }
   ],
   "source": [
    "np.dot(arr1, arr2) # other way of matrix multiplication."
   ]
  },
  {
   "cell_type": "code",
   "execution_count": 488,
   "id": "dba9c8c1",
   "metadata": {},
   "outputs": [],
   "source": [
    "m = np.random.randint(0, 4, (2,3))"
   ]
  },
  {
   "cell_type": "code",
   "execution_count": 489,
   "id": "7fd1f1b5",
   "metadata": {},
   "outputs": [
    {
     "data": {
      "text/plain": [
       "array([[0, 3, 1],\n",
       "       [0, 2, 3]], dtype=int32)"
      ]
     },
     "execution_count": 489,
     "metadata": {},
     "output_type": "execute_result"
    }
   ],
   "source": [
    "m # row = 2 and col = 3"
   ]
  },
  {
   "cell_type": "code",
   "execution_count": 490,
   "id": "b55fba81",
   "metadata": {},
   "outputs": [],
   "source": [
    "n = np.random.randint(0,4, (3,2))"
   ]
  },
  {
   "cell_type": "code",
   "execution_count": 491,
   "id": "df37ddb4",
   "metadata": {},
   "outputs": [
    {
     "data": {
      "text/plain": [
       "array([[0, 1],\n",
       "       [1, 1],\n",
       "       [2, 3]], dtype=int32)"
      ]
     },
     "execution_count": 491,
     "metadata": {},
     "output_type": "execute_result"
    }
   ],
   "source": [
    "n # row = 3 and col =2"
   ]
  },
  {
   "cell_type": "code",
   "execution_count": 492,
   "id": "e85a2988",
   "metadata": {},
   "outputs": [
    {
     "data": {
      "text/plain": [
       "array([[ 5,  6],\n",
       "       [ 8, 11]], dtype=int32)"
      ]
     },
     "execution_count": 492,
     "metadata": {},
     "output_type": "execute_result"
    }
   ],
   "source": [
    "# Matrix multiplication \n",
    "m @ n # no. of row = no. of row of m(i.e. = 2) amd no. of col = no. of col on n (i.e. = 2)"
   ]
  },
  {
   "cell_type": "code",
   "execution_count": 493,
   "id": "d8e65005",
   "metadata": {},
   "outputs": [
    {
     "data": {
      "text/plain": [
       "array([[ 5,  6],\n",
       "       [ 8, 11]], dtype=int32)"
      ]
     },
     "execution_count": 493,
     "metadata": {},
     "output_type": "execute_result"
    }
   ],
   "source": [
    "# another way to call matrix multiplication\n",
    "np.dot(m,n)"
   ]
  },
  {
   "cell_type": "markdown",
   "id": "fb13ca45",
   "metadata": {},
   "source": [
    "### Broadcastings"
   ]
  },
  {
   "cell_type": "code",
   "execution_count": 494,
   "id": "221d33f8",
   "metadata": {},
   "outputs": [],
   "source": [
    "arr = np.zeros((3,4))"
   ]
  },
  {
   "cell_type": "code",
   "execution_count": 495,
   "id": "b47b9370",
   "metadata": {},
   "outputs": [
    {
     "data": {
      "text/plain": [
       "array([[0., 0., 0., 0.],\n",
       "       [0., 0., 0., 0.],\n",
       "       [0., 0., 0., 0.]])"
      ]
     },
     "execution_count": 495,
     "metadata": {},
     "output_type": "execute_result"
    }
   ],
   "source": [
    "arr"
   ]
  },
  {
   "cell_type": "code",
   "execution_count": 496,
   "id": "9e8c9a60",
   "metadata": {},
   "outputs": [
    {
     "data": {
      "text/plain": [
       "array([[5., 5., 5., 5.],\n",
       "       [5., 5., 5., 5.],\n",
       "       [5., 5., 5., 5.]])"
      ]
     },
     "execution_count": 496,
     "metadata": {},
     "output_type": "execute_result"
    }
   ],
   "source": [
    "arr +5"
   ]
  },
  {
   "cell_type": "code",
   "execution_count": 497,
   "id": "1ed9a277",
   "metadata": {},
   "outputs": [
    {
     "data": {
      "text/plain": [
       "array([[-5., -5., -5., -5.],\n",
       "       [-5., -5., -5., -5.],\n",
       "       [-5., -5., -5., -5.]])"
      ]
     },
     "execution_count": 497,
     "metadata": {},
     "output_type": "execute_result"
    }
   ],
   "source": [
    "arr -5"
   ]
  },
  {
   "cell_type": "code",
   "execution_count": 498,
   "id": "ee08ef1f",
   "metadata": {},
   "outputs": [],
   "source": [
    "arr1 = np.ones((3,4))"
   ]
  },
  {
   "cell_type": "code",
   "execution_count": 499,
   "id": "e9135d76",
   "metadata": {},
   "outputs": [
    {
     "data": {
      "text/plain": [
       "array([[1., 1., 1., 1.],\n",
       "       [1., 1., 1., 1.],\n",
       "       [1., 1., 1., 1.]])"
      ]
     },
     "execution_count": 499,
     "metadata": {},
     "output_type": "execute_result"
    }
   ],
   "source": [
    "arr1 "
   ]
  },
  {
   "cell_type": "code",
   "execution_count": 500,
   "id": "a2b7aa80",
   "metadata": {},
   "outputs": [
    {
     "data": {
      "text/plain": [
       "array([[4., 4., 4., 4.],\n",
       "       [4., 4., 4., 4.],\n",
       "       [4., 4., 4., 4.]])"
      ]
     },
     "execution_count": 500,
     "metadata": {},
     "output_type": "execute_result"
    }
   ],
   "source": [
    "arr1 + 3"
   ]
  },
  {
   "cell_type": "code",
   "execution_count": 501,
   "id": "d3cdb9a4",
   "metadata": {},
   "outputs": [],
   "source": [
    "b = np.array([1,2,3,4])"
   ]
  },
  {
   "cell_type": "code",
   "execution_count": 502,
   "id": "f681be10",
   "metadata": {},
   "outputs": [
    {
     "data": {
      "text/plain": [
       "array([1, 2, 3, 4])"
      ]
     },
     "execution_count": 502,
     "metadata": {},
     "output_type": "execute_result"
    }
   ],
   "source": [
    "b"
   ]
  },
  {
   "cell_type": "code",
   "execution_count": 503,
   "id": "d42110c4",
   "metadata": {},
   "outputs": [
    {
     "data": {
      "text/plain": [
       "array([[0., 0., 0., 0.],\n",
       "       [0., 0., 0., 0.],\n",
       "       [0., 0., 0., 0.]])"
      ]
     },
     "execution_count": 503,
     "metadata": {},
     "output_type": "execute_result"
    }
   ],
   "source": [
    "arr"
   ]
  },
  {
   "cell_type": "code",
   "execution_count": 504,
   "id": "72f78683",
   "metadata": {},
   "outputs": [
    {
     "data": {
      "text/plain": [
       "array([[1., 2., 3., 4.],\n",
       "       [1., 2., 3., 4.],\n",
       "       [1., 2., 3., 4.]])"
      ]
     },
     "execution_count": 504,
     "metadata": {},
     "output_type": "execute_result"
    }
   ],
   "source": [
    "arr + b"
   ]
  },
  {
   "cell_type": "markdown",
   "id": "c1cdf979",
   "metadata": {},
   "source": [
    "### Transpose"
   ]
  },
  {
   "cell_type": "markdown",
   "id": "4067675e",
   "metadata": {},
   "source": [
    "- Converting rows to col and col to rows"
   ]
  },
  {
   "cell_type": "code",
   "execution_count": 505,
   "id": "42b133f1",
   "metadata": {},
   "outputs": [],
   "source": [
    "a = np.array([[1,2,3,4]])"
   ]
  },
  {
   "cell_type": "code",
   "execution_count": 506,
   "id": "8f1d11ab",
   "metadata": {},
   "outputs": [
    {
     "data": {
      "text/plain": [
       "array([[1, 2, 3, 4]])"
      ]
     },
     "execution_count": 506,
     "metadata": {},
     "output_type": "execute_result"
    }
   ],
   "source": [
    "a"
   ]
  },
  {
   "cell_type": "code",
   "execution_count": 507,
   "id": "fa4ce903",
   "metadata": {},
   "outputs": [
    {
     "data": {
      "text/plain": [
       "array([[1],\n",
       "       [2],\n",
       "       [3],\n",
       "       [4]])"
      ]
     },
     "execution_count": 507,
     "metadata": {},
     "output_type": "execute_result"
    }
   ],
   "source": [
    "a.T"
   ]
  },
  {
   "cell_type": "code",
   "execution_count": 508,
   "id": "74ff99ed",
   "metadata": {},
   "outputs": [
    {
     "data": {
      "text/plain": [
       "array([[1., 1., 1., 1.],\n",
       "       [1., 1., 1., 1.],\n",
       "       [1., 1., 1., 1.]])"
      ]
     },
     "execution_count": 508,
     "metadata": {},
     "output_type": "execute_result"
    }
   ],
   "source": [
    "arr1"
   ]
  },
  {
   "cell_type": "code",
   "execution_count": 509,
   "id": "e2ca96d6",
   "metadata": {},
   "outputs": [
    {
     "data": {
      "text/plain": [
       "array([[1., 1., 1.],\n",
       "       [1., 1., 1.],\n",
       "       [1., 1., 1.],\n",
       "       [1., 1., 1.]])"
      ]
     },
     "execution_count": 509,
     "metadata": {},
     "output_type": "execute_result"
    }
   ],
   "source": [
    "arr1.T"
   ]
  },
  {
   "cell_type": "code",
   "execution_count": 510,
   "id": "b642594a",
   "metadata": {},
   "outputs": [],
   "source": [
    "a = np.random.randint(1, 5,(3,5))"
   ]
  },
  {
   "cell_type": "code",
   "execution_count": 511,
   "id": "fa226496",
   "metadata": {},
   "outputs": [
    {
     "data": {
      "text/plain": [
       "array([[1, 4, 1, 1, 1],\n",
       "       [4, 2, 2, 1, 2],\n",
       "       [4, 3, 2, 3, 1]], dtype=int32)"
      ]
     },
     "execution_count": 511,
     "metadata": {},
     "output_type": "execute_result"
    }
   ],
   "source": [
    "a # 3 rows and 5 col"
   ]
  },
  {
   "cell_type": "code",
   "execution_count": 512,
   "id": "1b4f41b1",
   "metadata": {},
   "outputs": [
    {
     "data": {
      "text/plain": [
       "array([[1, 4, 4],\n",
       "       [4, 2, 3],\n",
       "       [1, 2, 2],\n",
       "       [1, 1, 3],\n",
       "       [1, 2, 1]], dtype=int32)"
      ]
     },
     "execution_count": 512,
     "metadata": {},
     "output_type": "execute_result"
    }
   ],
   "source": [
    "#Transpose \n",
    "a.T # after transpose 5 rows and 3 col"
   ]
  },
  {
   "cell_type": "markdown",
   "id": "d4f4a3e0",
   "metadata": {},
   "source": [
    "### Flatten Array"
   ]
  },
  {
   "cell_type": "markdown",
   "id": "f327f129",
   "metadata": {},
   "source": [
    "_Change the array in one dimension_"
   ]
  },
  {
   "cell_type": "code",
   "execution_count": 513,
   "id": "2797d683",
   "metadata": {},
   "outputs": [],
   "source": [
    "arr1 = np.random.randint(1, 3, (3,3))\n",
    "arr2 = np.random.randint(1, 3, (3,3))"
   ]
  },
  {
   "cell_type": "code",
   "execution_count": 514,
   "id": "78990633",
   "metadata": {},
   "outputs": [
    {
     "data": {
      "text/plain": [
       "array([[2, 1, 1],\n",
       "       [1, 2, 2],\n",
       "       [1, 1, 2]], dtype=int32)"
      ]
     },
     "execution_count": 514,
     "metadata": {},
     "output_type": "execute_result"
    }
   ],
   "source": [
    "arr1"
   ]
  },
  {
   "cell_type": "code",
   "execution_count": 515,
   "id": "8d81ee46",
   "metadata": {},
   "outputs": [
    {
     "data": {
      "text/plain": [
       "array([[1, 1, 1],\n",
       "       [1, 2, 2],\n",
       "       [2, 2, 2]], dtype=int32)"
      ]
     },
     "execution_count": 515,
     "metadata": {},
     "output_type": "execute_result"
    }
   ],
   "source": [
    "arr2"
   ]
  },
  {
   "cell_type": "code",
   "execution_count": 516,
   "id": "3aee3a07",
   "metadata": {},
   "outputs": [],
   "source": [
    "a = arr1.flatten() # return a copy of array collapsed into one dimensions."
   ]
  },
  {
   "cell_type": "code",
   "execution_count": 517,
   "id": "08130034",
   "metadata": {},
   "outputs": [
    {
     "data": {
      "text/plain": [
       "2"
      ]
     },
     "execution_count": 517,
     "metadata": {},
     "output_type": "execute_result"
    }
   ],
   "source": [
    "arr1.ndim"
   ]
  },
  {
   "cell_type": "code",
   "execution_count": 518,
   "id": "7425bb16",
   "metadata": {},
   "outputs": [
    {
     "data": {
      "text/plain": [
       "1"
      ]
     },
     "execution_count": 518,
     "metadata": {},
     "output_type": "execute_result"
    }
   ],
   "source": [
    "a.ndim"
   ]
  },
  {
   "cell_type": "markdown",
   "id": "513ce7f3",
   "metadata": {},
   "source": [
    "### Expand dimension"
   ]
  },
  {
   "cell_type": "markdown",
   "id": "ff4a64bf",
   "metadata": {},
   "source": [
    "np.expand_dims(array, axis)\n",
    "- here axis may be either 0 or 1 where 0 represents row wise expansion or on x-axis, and 1 represent column wise expansion or on y-axis"
   ]
  },
  {
   "cell_type": "code",
   "execution_count": 519,
   "id": "834214be",
   "metadata": {},
   "outputs": [],
   "source": [
    "arr = np.array([1,2,3,4])"
   ]
  },
  {
   "cell_type": "code",
   "execution_count": 520,
   "id": "6a401e2e",
   "metadata": {},
   "outputs": [
    {
     "data": {
      "text/plain": [
       "array([1, 2, 3, 4])"
      ]
     },
     "execution_count": 520,
     "metadata": {},
     "output_type": "execute_result"
    }
   ],
   "source": [
    "arr"
   ]
  },
  {
   "cell_type": "code",
   "execution_count": 521,
   "id": "7c0a546d",
   "metadata": {},
   "outputs": [
    {
     "data": {
      "text/plain": [
       "1"
      ]
     },
     "execution_count": 521,
     "metadata": {},
     "output_type": "execute_result"
    }
   ],
   "source": [
    "arr.ndim"
   ]
  },
  {
   "cell_type": "code",
   "execution_count": 522,
   "id": "25e5bfea",
   "metadata": {},
   "outputs": [
    {
     "data": {
      "text/plain": [
       "array([[1, 2, 3, 4]])"
      ]
     },
     "execution_count": 522,
     "metadata": {},
     "output_type": "execute_result"
    }
   ],
   "source": [
    "np.expand_dims(arr,axis=0) # increase the dimension by 1 in the provided axix, 0 = row, 1 means coloumn"
   ]
  },
  {
   "cell_type": "code",
   "execution_count": 523,
   "id": "9d69373e",
   "metadata": {},
   "outputs": [
    {
     "data": {
      "text/plain": [
       "array([[1],\n",
       "       [2],\n",
       "       [3],\n",
       "       [4]])"
      ]
     },
     "execution_count": 523,
     "metadata": {},
     "output_type": "execute_result"
    }
   ],
   "source": [
    "np.expand_dims(arr, 1)"
   ]
  },
  {
   "cell_type": "code",
   "execution_count": 524,
   "id": "6bfd44a8",
   "metadata": {},
   "outputs": [
    {
     "data": {
      "text/plain": [
       "2"
      ]
     },
     "execution_count": 524,
     "metadata": {},
     "output_type": "execute_result"
    }
   ],
   "source": [
    "np.expand_dims(arr, 1).ndim"
   ]
  },
  {
   "cell_type": "code",
   "execution_count": 525,
   "id": "d984b9d9",
   "metadata": {},
   "outputs": [],
   "source": [
    "arr = np.zeros((3,4))"
   ]
  },
  {
   "cell_type": "code",
   "execution_count": 526,
   "id": "c20ef8d7",
   "metadata": {},
   "outputs": [
    {
     "data": {
      "text/plain": [
       "array([[0., 0., 0., 0.],\n",
       "       [0., 0., 0., 0.],\n",
       "       [0., 0., 0., 0.]])"
      ]
     },
     "execution_count": 526,
     "metadata": {},
     "output_type": "execute_result"
    }
   ],
   "source": [
    "arr  #2-D"
   ]
  },
  {
   "cell_type": "code",
   "execution_count": 527,
   "id": "762f1f2d",
   "metadata": {},
   "outputs": [
    {
     "data": {
      "text/plain": [
       "array([[[0., 0., 0., 0.],\n",
       "        [0., 0., 0., 0.],\n",
       "        [0., 0., 0., 0.]]])"
      ]
     },
     "execution_count": 527,
     "metadata": {},
     "output_type": "execute_result"
    }
   ],
   "source": [
    "np.expand_dims(arr, 0)  # 3-D"
   ]
  },
  {
   "cell_type": "code",
   "execution_count": 528,
   "id": "befbad00",
   "metadata": {},
   "outputs": [],
   "source": [
    "a = np.array([[1], [2], [3]])"
   ]
  },
  {
   "cell_type": "code",
   "execution_count": 529,
   "id": "2e8c730d",
   "metadata": {},
   "outputs": [
    {
     "data": {
      "text/plain": [
       "array([[1],\n",
       "       [2],\n",
       "       [3]])"
      ]
     },
     "execution_count": 529,
     "metadata": {},
     "output_type": "execute_result"
    }
   ],
   "source": [
    "a"
   ]
  },
  {
   "cell_type": "code",
   "execution_count": 530,
   "id": "e847c2e5",
   "metadata": {},
   "outputs": [
    {
     "data": {
      "text/plain": [
       "2"
      ]
     },
     "execution_count": 530,
     "metadata": {},
     "output_type": "execute_result"
    }
   ],
   "source": [
    "\n",
    "a.ndim"
   ]
  },
  {
   "cell_type": "markdown",
   "id": "29bab9a8",
   "metadata": {},
   "source": [
    "### Squeezing the dimension"
   ]
  },
  {
   "cell_type": "markdown",
   "id": "9ff2b8a4",
   "metadata": {},
   "source": [
    "np.squeeze()\n",
    "- remove axes of length one from a"
   ]
  },
  {
   "cell_type": "code",
   "execution_count": 531,
   "id": "748fcdfc",
   "metadata": {},
   "outputs": [
    {
     "data": {
      "text/plain": [
       "array([1, 2, 3])"
      ]
     },
     "execution_count": 531,
     "metadata": {},
     "output_type": "execute_result"
    }
   ],
   "source": [
    "np.squeeze(a)"
   ]
  },
  {
   "cell_type": "markdown",
   "id": "012942df",
   "metadata": {},
   "source": [
    "### Repeating the array"
   ]
  },
  {
   "cell_type": "markdown",
   "id": "0c3cb5ce",
   "metadata": {},
   "source": [
    "np.repeat(array, times)\n",
    "- the array will be repeated to the no. of times you have mentioned.\n",
    "- repeat every element in the flattened form."
   ]
  },
  {
   "cell_type": "markdown",
   "id": "6aa4bc13",
   "metadata": {},
   "source": [
    "np.repeat(array, times, axis=0/1)\n",
    "- to repeat the array row wise put axis = 0\n",
    "- to repeat the array col wise put axis = 1"
   ]
  },
  {
   "cell_type": "code",
   "execution_count": 532,
   "id": "7bab26a8",
   "metadata": {},
   "outputs": [
    {
     "data": {
      "text/plain": [
       "array([1, 1, 1, 1, 2, 2, 2, 2, 3, 3, 3, 3])"
      ]
     },
     "execution_count": 532,
     "metadata": {},
     "output_type": "execute_result"
    }
   ],
   "source": [
    "np.repeat(a, 4)"
   ]
  },
  {
   "cell_type": "code",
   "execution_count": 533,
   "id": "03e08426",
   "metadata": {},
   "outputs": [
    {
     "data": {
      "text/plain": [
       "array([[2, 1, 1],\n",
       "       [1, 2, 2],\n",
       "       [1, 1, 2]], dtype=int32)"
      ]
     },
     "execution_count": 533,
     "metadata": {},
     "output_type": "execute_result"
    }
   ],
   "source": [
    "arr1"
   ]
  },
  {
   "cell_type": "code",
   "execution_count": 534,
   "id": "86c5fc4f",
   "metadata": {},
   "outputs": [
    {
     "data": {
      "text/plain": [
       "array([2, 2, 2, 1, 1, 1, 1, 1, 1, 1, 1, 1, 2, 2, 2, 2, 2, 2, 1, 1, 1, 1,\n",
       "       1, 1, 2, 2, 2], dtype=int32)"
      ]
     },
     "execution_count": 534,
     "metadata": {},
     "output_type": "execute_result"
    }
   ],
   "source": [
    "np.repeat(arr1, 3)"
   ]
  },
  {
   "cell_type": "code",
   "execution_count": 535,
   "id": "18ea9c26",
   "metadata": {},
   "outputs": [
    {
     "data": {
      "text/plain": [
       "array([[2, 1, 1],\n",
       "       [2, 1, 1],\n",
       "       [1, 2, 2],\n",
       "       [1, 2, 2],\n",
       "       [1, 1, 2],\n",
       "       [1, 1, 2]], dtype=int32)"
      ]
     },
     "execution_count": 535,
     "metadata": {},
     "output_type": "execute_result"
    }
   ],
   "source": [
    "np.repeat(arr1, 2, axis=0)"
   ]
  },
  {
   "cell_type": "code",
   "execution_count": 536,
   "id": "da460ae0",
   "metadata": {},
   "outputs": [
    {
     "data": {
      "text/plain": [
       "array([[2, 2, 1, 1, 1, 1],\n",
       "       [1, 1, 2, 2, 2, 2],\n",
       "       [1, 1, 1, 1, 2, 2]], dtype=int32)"
      ]
     },
     "execution_count": 536,
     "metadata": {},
     "output_type": "execute_result"
    }
   ],
   "source": [
    "np.repeat(arr1, 2, axis=1)"
   ]
  },
  {
   "cell_type": "code",
   "execution_count": 537,
   "id": "364b15ee",
   "metadata": {},
   "outputs": [
    {
     "data": {
      "text/plain": [
       "array([[1, 1, 1],\n",
       "       [1, 1, 1],\n",
       "       [1, 1, 1],\n",
       "       [1, 1, 1],\n",
       "       [1, 2, 2],\n",
       "       [1, 2, 2],\n",
       "       [1, 2, 2],\n",
       "       [1, 2, 2],\n",
       "       [2, 2, 2],\n",
       "       [2, 2, 2],\n",
       "       [2, 2, 2],\n",
       "       [2, 2, 2]], dtype=int32)"
      ]
     },
     "execution_count": 537,
     "metadata": {},
     "output_type": "execute_result"
    }
   ],
   "source": [
    "np.repeat(arr2, 4, axis = 0)"
   ]
  },
  {
   "cell_type": "code",
   "execution_count": 538,
   "id": "ce5d203f",
   "metadata": {},
   "outputs": [
    {
     "data": {
      "text/plain": [
       "array([[1, 1, 1, 1, 1, 1, 1, 1, 1],\n",
       "       [1, 1, 1, 2, 2, 2, 2, 2, 2],\n",
       "       [2, 2, 2, 2, 2, 2, 2, 2, 2]], dtype=int32)"
      ]
     },
     "execution_count": 538,
     "metadata": {},
     "output_type": "execute_result"
    }
   ],
   "source": [
    "np.repeat(arr2, 3, axis = 1)"
   ]
  },
  {
   "cell_type": "code",
   "execution_count": 539,
   "id": "42b0a317",
   "metadata": {},
   "outputs": [],
   "source": [
    "a = np.repeat(arr2, 4, axis = 0)"
   ]
  },
  {
   "cell_type": "code",
   "execution_count": 540,
   "id": "9e527b74",
   "metadata": {},
   "outputs": [
    {
     "data": {
      "text/plain": [
       "array([[1, 1, 1],\n",
       "       [1, 1, 1],\n",
       "       [1, 1, 1],\n",
       "       [1, 1, 1],\n",
       "       [1, 2, 2],\n",
       "       [1, 2, 2],\n",
       "       [1, 2, 2],\n",
       "       [1, 2, 2],\n",
       "       [2, 2, 2],\n",
       "       [2, 2, 2],\n",
       "       [2, 2, 2],\n",
       "       [2, 2, 2]], dtype=int32)"
      ]
     },
     "execution_count": 540,
     "metadata": {},
     "output_type": "execute_result"
    }
   ],
   "source": [
    "a"
   ]
  },
  {
   "cell_type": "code",
   "execution_count": 541,
   "id": "5b563561",
   "metadata": {},
   "outputs": [],
   "source": [
    "b = np.repeat(arr2, 3, axis = 1)"
   ]
  },
  {
   "cell_type": "code",
   "execution_count": 542,
   "id": "c4524fc9",
   "metadata": {},
   "outputs": [
    {
     "data": {
      "text/plain": [
       "array([[1, 1, 1, 1, 1, 1, 1, 1, 1],\n",
       "       [1, 1, 1, 2, 2, 2, 2, 2, 2],\n",
       "       [2, 2, 2, 2, 2, 2, 2, 2, 2]], dtype=int32)"
      ]
     },
     "execution_count": 542,
     "metadata": {},
     "output_type": "execute_result"
    }
   ],
   "source": [
    "b"
   ]
  },
  {
   "cell_type": "markdown",
   "id": "2a429bc0",
   "metadata": {},
   "source": [
    "### Rolling array\n",
    "- `np.roll(array, step)`\n",
    "- negative step for backward rolling, positive step for forward rolling"
   ]
  },
  {
   "cell_type": "code",
   "execution_count": 543,
   "id": "b2aca7d5",
   "metadata": {},
   "outputs": [],
   "source": [
    "a = np.array([[1], [2], [3]])"
   ]
  },
  {
   "cell_type": "code",
   "execution_count": 544,
   "id": "06e0b466",
   "metadata": {},
   "outputs": [
    {
     "data": {
      "text/plain": [
       "array([[1],\n",
       "       [2],\n",
       "       [3]])"
      ]
     },
     "execution_count": 544,
     "metadata": {},
     "output_type": "execute_result"
    }
   ],
   "source": [
    "a"
   ]
  },
  {
   "cell_type": "code",
   "execution_count": 545,
   "id": "0e885f8a",
   "metadata": {},
   "outputs": [
    {
     "data": {
      "text/plain": [
       "array([[3],\n",
       "       [1],\n",
       "       [2]])"
      ]
     },
     "execution_count": 545,
     "metadata": {},
     "output_type": "execute_result"
    }
   ],
   "source": [
    "np.roll(a, 1)"
   ]
  },
  {
   "cell_type": "code",
   "execution_count": 546,
   "id": "70bbded9",
   "metadata": {},
   "outputs": [
    {
     "data": {
      "text/plain": [
       "array([[2],\n",
       "       [3],\n",
       "       [1]])"
      ]
     },
     "execution_count": 546,
     "metadata": {},
     "output_type": "execute_result"
    }
   ],
   "source": [
    "np.roll(a, -1) # shift 1 place back"
   ]
  },
  {
   "cell_type": "code",
   "execution_count": 547,
   "id": "039d0dc4",
   "metadata": {},
   "outputs": [
    {
     "data": {
      "text/plain": [
       "array([[2],\n",
       "       [3],\n",
       "       [1]])"
      ]
     },
     "execution_count": 547,
     "metadata": {},
     "output_type": "execute_result"
    }
   ],
   "source": [
    "np.roll(a, 2)"
   ]
  },
  {
   "cell_type": "code",
   "execution_count": 548,
   "id": "7d054442",
   "metadata": {},
   "outputs": [
    {
     "data": {
      "text/plain": [
       "array([[3],\n",
       "       [1],\n",
       "       [2]])"
      ]
     },
     "execution_count": 548,
     "metadata": {},
     "output_type": "execute_result"
    }
   ],
   "source": [
    "np.roll(a, -2)"
   ]
  },
  {
   "cell_type": "code",
   "execution_count": 549,
   "id": "f5349a36",
   "metadata": {},
   "outputs": [],
   "source": [
    "c = np.array([[1,2],[3,4],[5,6],[7,8]])"
   ]
  },
  {
   "cell_type": "code",
   "execution_count": 550,
   "id": "b8f46107",
   "metadata": {},
   "outputs": [
    {
     "data": {
      "text/plain": [
       "array([[1, 2],\n",
       "       [3, 4],\n",
       "       [5, 6],\n",
       "       [7, 8]])"
      ]
     },
     "execution_count": 550,
     "metadata": {},
     "output_type": "execute_result"
    }
   ],
   "source": [
    "c"
   ]
  },
  {
   "cell_type": "code",
   "execution_count": 551,
   "id": "91b5ed87",
   "metadata": {},
   "outputs": [
    {
     "data": {
      "text/plain": [
       "array([[3, 4],\n",
       "       [5, 6],\n",
       "       [7, 8],\n",
       "       [1, 2]])"
      ]
     },
     "execution_count": 551,
     "metadata": {},
     "output_type": "execute_result"
    }
   ],
   "source": [
    "np.roll(c, -2)"
   ]
  },
  {
   "cell_type": "code",
   "execution_count": 552,
   "id": "03f55fe2",
   "metadata": {},
   "outputs": [
    {
     "data": {
      "text/plain": [
       "array([[6, 7],\n",
       "       [8, 1],\n",
       "       [2, 3],\n",
       "       [4, 5]])"
      ]
     },
     "execution_count": 552,
     "metadata": {},
     "output_type": "execute_result"
    }
   ],
   "source": [
    "np.roll(c,3)"
   ]
  },
  {
   "cell_type": "code",
   "execution_count": 553,
   "id": "3b1c2415",
   "metadata": {},
   "outputs": [
    {
     "data": {
      "text/plain": [
       "array([[3, 4],\n",
       "       [5, 6],\n",
       "       [7, 8],\n",
       "       [1, 2]])"
      ]
     },
     "execution_count": 553,
     "metadata": {},
     "output_type": "execute_result"
    }
   ],
   "source": [
    "np.roll(c, 3, axis=0)"
   ]
  },
  {
   "cell_type": "code",
   "execution_count": 554,
   "id": "0f11ae78",
   "metadata": {},
   "outputs": [
    {
     "data": {
      "text/plain": [
       "array([[7, 8],\n",
       "       [1, 2],\n",
       "       [3, 4],\n",
       "       [5, 6]])"
      ]
     },
     "execution_count": 554,
     "metadata": {},
     "output_type": "execute_result"
    }
   ],
   "source": [
    "np.roll(c, -3, axis=0)"
   ]
  },
  {
   "cell_type": "markdown",
   "id": "67ed8660",
   "metadata": {},
   "source": [
    "## Some operations on NumPy String Array"
   ]
  },
  {
   "cell_type": "code",
   "execution_count": 555,
   "id": "3faf0d23",
   "metadata": {},
   "outputs": [],
   "source": [
    "d = np.array([\"PW\", \"Skills\"])"
   ]
  },
  {
   "cell_type": "code",
   "execution_count": 556,
   "id": "a6597f32",
   "metadata": {},
   "outputs": [
    {
     "data": {
      "text/plain": [
       "array(['PW', 'Skills'], dtype='<U6')"
      ]
     },
     "execution_count": 556,
     "metadata": {},
     "output_type": "execute_result"
    }
   ],
   "source": [
    "d"
   ]
  },
  {
   "cell_type": "markdown",
   "id": "bb7c066f",
   "metadata": {},
   "source": [
    "### Upper Case"
   ]
  },
  {
   "cell_type": "code",
   "execution_count": 557,
   "id": "13397a44",
   "metadata": {},
   "outputs": [
    {
     "data": {
      "text/plain": [
       "array(['PW', 'SKILLS'], dtype='<U6')"
      ]
     },
     "execution_count": 557,
     "metadata": {},
     "output_type": "execute_result"
    }
   ],
   "source": [
    "np.char.upper(d)"
   ]
  },
  {
   "cell_type": "markdown",
   "id": "415fbac4",
   "metadata": {},
   "source": [
    "### Capitalize"
   ]
  },
  {
   "cell_type": "code",
   "execution_count": 558,
   "id": "ed1fb7fe",
   "metadata": {},
   "outputs": [
    {
     "data": {
      "text/plain": [
       "array(['Pw', 'Skills'], dtype='<U6')"
      ]
     },
     "execution_count": 558,
     "metadata": {},
     "output_type": "execute_result"
    }
   ],
   "source": [
    "np.char.capitalize(d)"
   ]
  },
  {
   "cell_type": "markdown",
   "id": "3a8cd515",
   "metadata": {},
   "source": [
    "### Mathematical Function"
   ]
  },
  {
   "cell_type": "code",
   "execution_count": 559,
   "id": "315a8836",
   "metadata": {},
   "outputs": [
    {
     "data": {
      "text/plain": [
       "array([[2, 1, 1],\n",
       "       [1, 2, 2],\n",
       "       [1, 1, 2]], dtype=int32)"
      ]
     },
     "execution_count": 559,
     "metadata": {},
     "output_type": "execute_result"
    }
   ],
   "source": [
    "arr1"
   ]
  },
  {
   "cell_type": "code",
   "execution_count": 560,
   "id": "9849475f",
   "metadata": {},
   "outputs": [
    {
     "data": {
      "text/plain": [
       "array([[1, 1, 1],\n",
       "       [1, 1, 1],\n",
       "       [1, 1, 1]], dtype=int32)"
      ]
     },
     "execution_count": 560,
     "metadata": {},
     "output_type": "execute_result"
    }
   ],
   "source": [
    "np.sign(arr1) # return -1 if x<0 | return 0 if x == 0 | return 1 if x>0"
   ]
  },
  {
   "cell_type": "code",
   "execution_count": 561,
   "id": "024b681d",
   "metadata": {},
   "outputs": [
    {
     "data": {
      "text/plain": [
       "array([[0.90929743, 0.84147098, 0.84147098],\n",
       "       [0.84147098, 0.90929743, 0.90929743],\n",
       "       [0.84147098, 0.84147098, 0.90929743]])"
      ]
     },
     "execution_count": 561,
     "metadata": {},
     "output_type": "execute_result"
    }
   ],
   "source": [
    "np.sin(arr1)"
   ]
  },
  {
   "cell_type": "code",
   "execution_count": 562,
   "id": "0c4a969a",
   "metadata": {},
   "outputs": [
    {
     "data": {
      "text/plain": [
       "array([[-0.41614684,  0.54030231,  0.54030231],\n",
       "       [ 0.54030231, -0.41614684, -0.41614684],\n",
       "       [ 0.54030231,  0.54030231, -0.41614684]])"
      ]
     },
     "execution_count": 562,
     "metadata": {},
     "output_type": "execute_result"
    }
   ],
   "source": [
    "np.cos(arr1)"
   ]
  },
  {
   "cell_type": "code",
   "execution_count": 563,
   "id": "f6685b05",
   "metadata": {},
   "outputs": [
    {
     "data": {
      "text/plain": [
       "array([[-2.18503986,  1.55740772,  1.55740772],\n",
       "       [ 1.55740772, -2.18503986, -2.18503986],\n",
       "       [ 1.55740772,  1.55740772, -2.18503986]])"
      ]
     },
     "execution_count": 563,
     "metadata": {},
     "output_type": "execute_result"
    }
   ],
   "source": [
    "np.tan(arr1)"
   ]
  },
  {
   "cell_type": "code",
   "execution_count": 564,
   "id": "3e851bfb",
   "metadata": {},
   "outputs": [
    {
     "data": {
      "text/plain": [
       "array([[0.30103, 0.     , 0.     ],\n",
       "       [0.     , 0.30103, 0.30103],\n",
       "       [0.     , 0.     , 0.30103]])"
      ]
     },
     "execution_count": 564,
     "metadata": {},
     "output_type": "execute_result"
    }
   ],
   "source": [
    "np.log10(arr1)"
   ]
  },
  {
   "cell_type": "code",
   "execution_count": 565,
   "id": "0319f0d0",
   "metadata": {},
   "outputs": [
    {
     "data": {
      "text/plain": [
       "array([[2, 1, 1],\n",
       "       [1, 2, 2],\n",
       "       [1, 1, 2]], dtype=int32)"
      ]
     },
     "execution_count": 565,
     "metadata": {},
     "output_type": "execute_result"
    }
   ],
   "source": [
    "arr1"
   ]
  },
  {
   "cell_type": "code",
   "execution_count": 566,
   "id": "f5262f32",
   "metadata": {},
   "outputs": [
    {
     "data": {
      "text/plain": [
       "np.float64(1.4444444444444444)"
      ]
     },
     "execution_count": 566,
     "metadata": {},
     "output_type": "execute_result"
    }
   ],
   "source": [
    "np.mean(arr1)"
   ]
  },
  {
   "cell_type": "code",
   "execution_count": 567,
   "id": "4ee49df9",
   "metadata": {},
   "outputs": [
    {
     "data": {
      "text/plain": [
       "np.int32(1)"
      ]
     },
     "execution_count": 567,
     "metadata": {},
     "output_type": "execute_result"
    }
   ],
   "source": [
    "np.min(arr1)"
   ]
  },
  {
   "cell_type": "code",
   "execution_count": 568,
   "id": "e9621708",
   "metadata": {},
   "outputs": [
    {
     "data": {
      "text/plain": [
       "np.int32(2)"
      ]
     },
     "execution_count": 568,
     "metadata": {},
     "output_type": "execute_result"
    }
   ],
   "source": [
    "np.max(arr1)"
   ]
  },
  {
   "cell_type": "code",
   "execution_count": 569,
   "id": "e82dae09",
   "metadata": {},
   "outputs": [
    {
     "data": {
      "text/plain": [
       "np.float64(0.4969039949999533)"
      ]
     },
     "execution_count": 569,
     "metadata": {},
     "output_type": "execute_result"
    }
   ],
   "source": [
    "np.std(arr1)"
   ]
  },
  {
   "cell_type": "code",
   "execution_count": 570,
   "id": "3d6452af",
   "metadata": {},
   "outputs": [
    {
     "data": {
      "text/plain": [
       "np.float64(0.2469135802469136)"
      ]
     },
     "execution_count": 570,
     "metadata": {},
     "output_type": "execute_result"
    }
   ],
   "source": [
    "np.var(arr1)"
   ]
  },
  {
   "cell_type": "code",
   "execution_count": 571,
   "id": "0041bedc",
   "metadata": {},
   "outputs": [
    {
     "data": {
      "text/plain": [
       "array([[0, 0, 0],\n",
       "       [0, 0, 0],\n",
       "       [1, 1, 0]], dtype=int32)"
      ]
     },
     "execution_count": 571,
     "metadata": {},
     "output_type": "execute_result"
    }
   ],
   "source": [
    "np.mod(arr1, arr2) # return element wise remainder"
   ]
  },
  {
   "cell_type": "code",
   "execution_count": 572,
   "id": "33dfd257",
   "metadata": {},
   "outputs": [
    {
     "data": {
      "text/plain": [
       "array([[1.41421356, 1.        , 1.        ],\n",
       "       [1.        , 1.41421356, 1.41421356],\n",
       "       [1.        , 1.        , 1.41421356]])"
      ]
     },
     "execution_count": 572,
     "metadata": {},
     "output_type": "execute_result"
    }
   ],
   "source": [
    "np.sqrt(arr1)"
   ]
  },
  {
   "cell_type": "markdown",
   "id": "0790d769",
   "metadata": {},
   "source": [
    "## Sorting and searching in NumPy Array"
   ]
  },
  {
   "cell_type": "code",
   "execution_count": 573,
   "id": "cf7f3fe1",
   "metadata": {},
   "outputs": [],
   "source": [
    "e = np.array([5,6,1,2])"
   ]
  },
  {
   "cell_type": "code",
   "execution_count": 574,
   "id": "314184e0",
   "metadata": {},
   "outputs": [
    {
     "data": {
      "text/plain": [
       "array([1, 2, 5, 6])"
      ]
     },
     "execution_count": 574,
     "metadata": {},
     "output_type": "execute_result"
    }
   ],
   "source": [
    "np.sort(e) # return a sorted copy of an array"
   ]
  },
  {
   "cell_type": "code",
   "execution_count": 575,
   "id": "2af705ae",
   "metadata": {},
   "outputs": [],
   "source": [
    "f = np.array([5, 199, 200, 6, 7,8])"
   ]
  },
  {
   "cell_type": "code",
   "execution_count": 576,
   "id": "4f617e2f",
   "metadata": {},
   "outputs": [
    {
     "data": {
      "text/plain": [
       "array([  5, 199, 200,   6,   7,   8])"
      ]
     },
     "execution_count": 576,
     "metadata": {},
     "output_type": "execute_result"
    }
   ],
   "source": [
    "\n",
    "f"
   ]
  },
  {
   "cell_type": "code",
   "execution_count": 577,
   "id": "b84cb588",
   "metadata": {},
   "outputs": [
    {
     "data": {
      "text/plain": [
       "array([  5,   6,   7,   8, 199, 200])"
      ]
     },
     "execution_count": 577,
     "metadata": {},
     "output_type": "execute_result"
    }
   ],
   "source": [
    "np.sort(f)"
   ]
  },
  {
   "cell_type": "code",
   "execution_count": 578,
   "id": "976c60c3",
   "metadata": {},
   "outputs": [
    {
     "data": {
      "text/plain": [
       "np.int64(6)"
      ]
     },
     "execution_count": 578,
     "metadata": {},
     "output_type": "execute_result"
    }
   ],
   "source": [
    "np.searchsorted(f, 170) #Find indices where elements should be inserted to maintain order."
   ]
  },
  {
   "cell_type": "code",
   "execution_count": 579,
   "id": "f31947bd",
   "metadata": {},
   "outputs": [
    {
     "data": {
      "text/plain": [
       "np.int64(4)"
      ]
     },
     "execution_count": 579,
     "metadata": {},
     "output_type": "execute_result"
    }
   ],
   "source": [
    "np.searchsorted(f, 7) # index 4 --> 4-1=3--> 3rd index"
   ]
  },
  {
   "cell_type": "code",
   "execution_count": 580,
   "id": "79860a63",
   "metadata": {},
   "outputs": [],
   "source": [
    "f = np.array([5, 199, 200, 0, 0, 0, 0, 0, 0, 0, 6, 7,8])"
   ]
  },
  {
   "cell_type": "code",
   "execution_count": 581,
   "id": "994d0935",
   "metadata": {},
   "outputs": [
    {
     "data": {
      "text/plain": [
       "array([  5, 199, 200,   0,   0,   0,   0,   0,   0,   0,   6,   7,   8])"
      ]
     },
     "execution_count": 581,
     "metadata": {},
     "output_type": "execute_result"
    }
   ],
   "source": [
    "f"
   ]
  },
  {
   "cell_type": "code",
   "execution_count": 582,
   "id": "ebdcbd90",
   "metadata": {},
   "outputs": [
    {
     "data": {
      "text/plain": [
       "array([  0,   0,   0,   0,   0,   0,   0,   5,   6,   7,   8, 199, 200])"
      ]
     },
     "execution_count": 582,
     "metadata": {},
     "output_type": "execute_result"
    }
   ],
   "source": [
    "np.sort(f)"
   ]
  },
  {
   "cell_type": "code",
   "execution_count": 583,
   "id": "1eddaca3",
   "metadata": {},
   "outputs": [
    {
     "data": {
      "text/plain": [
       "np.int64(6)"
      ]
     },
     "execution_count": 583,
     "metadata": {},
     "output_type": "execute_result"
    }
   ],
   "source": [
    "np.count_nonzero(f)"
   ]
  },
  {
   "cell_type": "code",
   "execution_count": 584,
   "id": "0863bb27",
   "metadata": {},
   "outputs": [
    {
     "data": {
      "text/plain": [
       "(array([ 0,  1,  2, 10, 11, 12]),)"
      ]
     },
     "execution_count": 584,
     "metadata": {},
     "output_type": "execute_result"
    }
   ],
   "source": [
    "np.where(f>0) # index where f > 0"
   ]
  },
  {
   "cell_type": "code",
   "execution_count": 585,
   "id": "5a9e5863",
   "metadata": {},
   "outputs": [
    {
     "data": {
      "text/plain": [
       "array([  5, 199, 200,   6,   7,   8])"
      ]
     },
     "execution_count": 585,
     "metadata": {},
     "output_type": "execute_result"
    }
   ],
   "source": [
    "np.extract(f>0, f)"
   ]
  },
  {
   "cell_type": "code",
   "execution_count": 586,
   "id": "e0c77220",
   "metadata": {},
   "outputs": [
    {
     "data": {
      "text/plain": [
       "array([  5, 199, 200,   0,   0,   0,   0,   0,   0,   0,   6,   7,   8])"
      ]
     },
     "execution_count": 586,
     "metadata": {},
     "output_type": "execute_result"
    }
   ],
   "source": [
    "f"
   ]
  },
  {
   "cell_type": "code",
   "execution_count": 587,
   "id": "8f1295f8",
   "metadata": {},
   "outputs": [
    {
     "data": {
      "text/plain": [
       "array([  360287970189639680, -4107282860161892352, -4035225266123964416,\n",
       "                          0,                    0,                    0,\n",
       "                          0,                    0,                    0,\n",
       "                          0,   432345564227567616,   504403158265495552,\n",
       "         576460752303423488])"
      ]
     },
     "execution_count": 587,
     "metadata": {},
     "output_type": "execute_result"
    }
   ],
   "source": [
    "f.byteswap()"
   ]
  },
  {
   "cell_type": "markdown",
   "id": "721145cd",
   "metadata": {},
   "source": [
    "## NumPy Matrix function"
   ]
  },
  {
   "cell_type": "code",
   "execution_count": 588,
   "id": "a154a02a",
   "metadata": {},
   "outputs": [],
   "source": [
    "import numpy.matlib as nm"
   ]
  },
  {
   "cell_type": "code",
   "execution_count": 589,
   "id": "9e219f1d",
   "metadata": {},
   "outputs": [
    {
     "data": {
      "text/plain": [
       "matrix([[0., 0., 0., 0., 0.]])"
      ]
     },
     "execution_count": 589,
     "metadata": {},
     "output_type": "execute_result"
    }
   ],
   "source": [
    "nm.zeros(5)"
   ]
  },
  {
   "cell_type": "code",
   "execution_count": 590,
   "id": "39a4c605",
   "metadata": {},
   "outputs": [
    {
     "data": {
      "text/plain": [
       "matrix([[1., 1., 1., 1.],\n",
       "        [1., 1., 1., 1.],\n",
       "        [1., 1., 1., 1.]])"
      ]
     },
     "execution_count": 590,
     "metadata": {},
     "output_type": "execute_result"
    }
   ],
   "source": [
    "nm.ones((3,4))"
   ]
  },
  {
   "cell_type": "markdown",
   "id": "0815c831",
   "metadata": {},
   "source": [
    "## NumPy Linear Algebra Function"
   ]
  },
  {
   "cell_type": "code",
   "execution_count": 591,
   "id": "85c2b206",
   "metadata": {},
   "outputs": [
    {
     "data": {
      "text/plain": [
       "array([[2, 1, 1],\n",
       "       [1, 2, 2],\n",
       "       [1, 1, 2]], dtype=int32)"
      ]
     },
     "execution_count": 591,
     "metadata": {},
     "output_type": "execute_result"
    }
   ],
   "source": [
    "arr1"
   ]
  },
  {
   "cell_type": "code",
   "execution_count": 592,
   "id": "081c34a9",
   "metadata": {},
   "outputs": [
    {
     "data": {
      "text/plain": [
       "array([[1, 1, 1],\n",
       "       [1, 2, 2],\n",
       "       [2, 2, 2]], dtype=int32)"
      ]
     },
     "execution_count": 592,
     "metadata": {},
     "output_type": "execute_result"
    }
   ],
   "source": [
    "arr2"
   ]
  },
  {
   "cell_type": "code",
   "execution_count": 593,
   "id": "e6570dbd",
   "metadata": {},
   "outputs": [
    {
     "data": {
      "text/plain": [
       "array([[5, 6, 6],\n",
       "       [7, 9, 9],\n",
       "       [6, 7, 7]], dtype=int32)"
      ]
     },
     "execution_count": 593,
     "metadata": {},
     "output_type": "execute_result"
    }
   ],
   "source": [
    "arr1 @ arr2"
   ]
  },
  {
   "cell_type": "code",
   "execution_count": 594,
   "id": "c29a0a53",
   "metadata": {},
   "outputs": [
    {
     "data": {
      "text/plain": [
       "array([[2, 1, 1],\n",
       "       [1, 2, 2],\n",
       "       [1, 1, 2]], dtype=int32)"
      ]
     },
     "execution_count": 594,
     "metadata": {},
     "output_type": "execute_result"
    }
   ],
   "source": [
    "arr1"
   ]
  },
  {
   "cell_type": "markdown",
   "id": "472b19dd",
   "metadata": {},
   "source": [
    "### Determinant"
   ]
  },
  {
   "cell_type": "code",
   "execution_count": 595,
   "id": "08c971af",
   "metadata": {},
   "outputs": [
    {
     "data": {
      "text/plain": [
       "np.float64(2.9999999999999996)"
      ]
     },
     "execution_count": 595,
     "metadata": {},
     "output_type": "execute_result"
    }
   ],
   "source": [
    "np.linalg.det(arr1)"
   ]
  },
  {
   "cell_type": "code",
   "execution_count": 596,
   "id": "9d48f86b",
   "metadata": {},
   "outputs": [
    {
     "data": {
      "text/plain": [
       "np.float64(0.0)"
      ]
     },
     "execution_count": 596,
     "metadata": {},
     "output_type": "execute_result"
    }
   ],
   "source": [
    "np.linalg.det(arr2)"
   ]
  },
  {
   "cell_type": "markdown",
   "id": "15784fe7",
   "metadata": {},
   "source": [
    "_In matrix we cannot divide it by another matrix, we do inverse_"
   ]
  },
  {
   "cell_type": "markdown",
   "id": "0d1edae6",
   "metadata": {},
   "source": [
    "```python\n",
    "7x + 5.3y - 3z = 2\n",
    "2x + 3y - 2z = 3\n",
    "3x + 5y - 3z = 2"
   ]
  },
  {
   "cell_type": "code",
   "execution_count": null,
   "id": "c40a84db",
   "metadata": {},
   "outputs": [
    {
     "data": {
      "text/plain": [
       "array([[ 7. ,  5.3, -3. ],\n",
       "       [ 3. , -5. ,  2. ],\n",
       "       [ 5. ,  3. , -7. ]])"
      ]
     },
     "execution_count": 298,
     "metadata": {},
     "output_type": "execute_result"
    }
   ],
   "source": [
    "a = np.array([[7, 5.3, -3], [3, -5, 2], [5, 3, -7]])\n",
    "a"
   ]
  },
  {
   "cell_type": "code",
   "execution_count": null,
   "id": "a33831db",
   "metadata": {},
   "outputs": [],
   "source": [
    "b = np.array([16, 8, 0])"
   ]
  },
  {
   "cell_type": "code",
   "execution_count": null,
   "id": "10c6fcc1",
   "metadata": {},
   "outputs": [
    {
     "data": {
      "text/plain": [
       "array([2.59630607, 0.84432718, 2.21635884])"
      ]
     },
     "execution_count": 300,
     "metadata": {},
     "output_type": "execute_result"
    }
   ],
   "source": [
    "np.linalg.solve(a, b)"
   ]
  }
 ],
 "metadata": {
  "kernelspec": {
   "display_name": "Python 3",
   "language": "python",
   "name": "python3"
  },
  "language_info": {
   "codemirror_mode": {
    "name": "ipython",
    "version": 3
   },
   "file_extension": ".py",
   "mimetype": "text/x-python",
   "name": "python",
   "nbconvert_exporter": "python",
   "pygments_lexer": "ipython3",
   "version": "3.11.9"
  }
 },
 "nbformat": 4,
 "nbformat_minor": 5
}
