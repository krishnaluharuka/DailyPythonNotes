{
 "cells": [
  {
   "cell_type": "markdown",
   "id": "d853ac3f",
   "metadata": {},
   "source": [
    "# Matplotlib"
   ]
  },
  {
   "cell_type": "markdown",
   "id": "c94d8963",
   "metadata": {},
   "source": [
    "Matplotlib is a powerful Python library used to create static, interactive, and animated visualizations.\n",
    "\n",
    "It’s like Python’s \"canvas and paintbrush\" — you give it your data, and it helps you paint charts, graphs, and plots.\n",
    "\n",
    "Think of it as the foundation for visualization in Python — many other libraries (like Seaborn or Pandas plotting) are actually built on top of Matplotlib."
   ]
  },
  {
   "cell_type": "markdown",
   "id": "a64b540b",
   "metadata": {},
   "source": [
    "# Visualisation"
   ]
  },
  {
   "cell_type": "markdown",
   "id": "aaf58a48",
   "metadata": {},
   "source": [
    "Before you crunch numbers or train models, you often need to see your data.\n",
    "\n",
    "Spot patterns (e.g., seasonal trends)\n",
    "\n",
    "Find anomalies (e.g., sudden sales drops)\n",
    "\n",
    "Communicate insights (e.g., presenting to clients or teammates)\n",
    "\n",
    "Validate assumptions (e.g., checking distribution before applying a model)\n",
    "\n"
   ]
  },
  {
   "cell_type": "markdown",
   "id": "e039fcf9",
   "metadata": {},
   "source": [
    "## Important Libraries"
   ]
  },
  {
   "cell_type": "markdown",
   "id": "2bfdfa3e",
   "metadata": {},
   "source": [
    "- Matplotlib\n",
    "- Seaborne\n",
    "- Plotly\n",
    "- Bokeh"
   ]
  },
  {
   "cell_type": "code",
   "execution_count": 1,
   "id": "6d11576a",
   "metadata": {},
   "outputs": [],
   "source": [
    "import pandas as pd\n",
    "import numpy as np\n",
    "import matplotlib.pyplot as plt\n",
    "\n",
    "import warnings\n",
    "warnings.filterwarnings('ignore')  # suppress all warnings"
   ]
  },
  {
   "cell_type": "markdown",
   "id": "662d3f17",
   "metadata": {},
   "source": [
    "# Line chart"
   ]
  },
  {
   "cell_type": "code",
   "execution_count": null,
   "id": "012acbff",
   "metadata": {},
   "outputs": [],
   "source": []
  }
 ],
 "metadata": {
  "kernelspec": {
   "display_name": "Python 3",
   "language": "python",
   "name": "python3"
  },
  "language_info": {
   "codemirror_mode": {
    "name": "ipython",
    "version": 3
   },
   "file_extension": ".py",
   "mimetype": "text/x-python",
   "name": "python",
   "nbconvert_exporter": "python",
   "pygments_lexer": "ipython3",
   "version": "3.11.9"
  }
 },
 "nbformat": 4,
 "nbformat_minor": 5
}
