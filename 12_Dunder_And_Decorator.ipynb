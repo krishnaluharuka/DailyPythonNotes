{
 "cells": [
  {
   "cell_type": "markdown",
   "id": "9b6872ea",
   "metadata": {},
   "source": [
    "## Dunder Method / Magic Method / Special Method"
   ]
  },
  {
   "cell_type": "markdown",
   "id": "6307f4f2",
   "metadata": {},
   "source": [
    "- These are the methods defined by built-in classes in python\n",
    "- Classes define these type of methods for creating custom objects\n",
    "- Implementing operator overloading in Python\n",
    "- dunder = d + under , d == double , under == underscore"
   ]
  },
  {
   "cell_type": "code",
   "execution_count": null,
   "id": "9ae66be1",
   "metadata": {},
   "outputs": [
    {
     "name": "stdout",
     "output_type": "stream",
     "text": [
      "hello Universe!\n"
     ]
    }
   ],
   "source": [
    "print(\"hello Universe!\") # print is a keyword / in-built function"
   ]
  },
  {
   "cell_type": "code",
   "execution_count": null,
   "id": "78bd1e7b",
   "metadata": {},
   "outputs": [
    {
     "data": {
      "text/plain": [
       "'PWSkills'"
      ]
     },
     "metadata": {},
     "output_type": "display_data"
    }
   ],
   "source": [
    "a = \"PW\"\n",
    "b = \"Skills\"\n",
    "a+b"
   ]
  },
  {
   "cell_type": "code",
   "execution_count": null,
   "id": "0495be24",
   "metadata": {},
   "outputs": [
    {
     "data": {
      "text/plain": [
       "'PWSkills'"
      ]
     },
     "metadata": {},
     "output_type": "display_data"
    }
   ],
   "source": [
    "a.__add__(b) # dunder method associated with string"
   ]
  },
  {
   "cell_type": "markdown",
   "id": "0f55b500",
   "metadata": {},
   "source": [
    "- All dunder methods associated with strings"
   ]
  },
  {
   "cell_type": "code",
   "execution_count": null,
   "id": "5f280a00",
   "metadata": {},
   "outputs": [
    {
     "data": {
      "text/plain": [
       "['__add__',\n",
       " '__class__',\n",
       " '__contains__',\n",
       " '__delattr__',\n",
       " '__dir__',\n",
       " '__doc__',\n",
       " '__eq__',\n",
       " '__format__',\n",
       " '__ge__',\n",
       " '__getattribute__',\n",
       " '__getitem__',\n",
       " '__getnewargs__',\n",
       " '__getstate__',\n",
       " '__gt__',\n",
       " '__hash__',\n",
       " '__init__',\n",
       " '__init_subclass__',\n",
       " '__iter__',\n",
       " '__le__',\n",
       " '__len__',\n",
       " '__lt__',\n",
       " '__mod__',\n",
       " '__mul__',\n",
       " '__ne__',\n",
       " '__new__',\n",
       " '__reduce__',\n",
       " '__reduce_ex__',\n",
       " '__repr__',\n",
       " '__rmod__',\n",
       " '__rmul__',\n",
       " '__setattr__',\n",
       " '__sizeof__',\n",
       " '__str__',\n",
       " '__subclasshook__',\n",
       " 'capitalize',\n",
       " 'casefold',\n",
       " 'center',\n",
       " 'count',\n",
       " 'encode',\n",
       " 'endswith',\n",
       " 'expandtabs',\n",
       " 'find',\n",
       " 'format',\n",
       " 'format_map',\n",
       " 'index',\n",
       " 'isalnum',\n",
       " 'isalpha',\n",
       " 'isascii',\n",
       " 'isdecimal',\n",
       " 'isdigit',\n",
       " 'isidentifier',\n",
       " 'islower',\n",
       " 'isnumeric',\n",
       " 'isprintable',\n",
       " 'isspace',\n",
       " 'istitle',\n",
       " 'isupper',\n",
       " 'join',\n",
       " 'ljust',\n",
       " 'lower',\n",
       " 'lstrip',\n",
       " 'maketrans',\n",
       " 'partition',\n",
       " 'removeprefix',\n",
       " 'removesuffix',\n",
       " 'replace',\n",
       " 'rfind',\n",
       " 'rindex',\n",
       " 'rjust',\n",
       " 'rpartition',\n",
       " 'rsplit',\n",
       " 'rstrip',\n",
       " 'split',\n",
       " 'splitlines',\n",
       " 'startswith',\n",
       " 'strip',\n",
       " 'swapcase',\n",
       " 'title',\n",
       " 'translate',\n",
       " 'upper',\n",
       " 'zfill']"
      ]
     },
     "metadata": {},
     "output_type": "display_data"
    }
   ],
   "source": [
    "dir(str)"
   ]
  },
  {
   "cell_type": "code",
   "execution_count": null,
   "id": "97c1bc04",
   "metadata": {},
   "outputs": [
    {
     "data": {
      "text/plain": [
       "8"
      ]
     },
     "metadata": {},
     "output_type": "display_data"
    }
   ],
   "source": [
    "3+5"
   ]
  },
  {
   "cell_type": "code",
   "execution_count": null,
   "id": "6fb5b5dc",
   "metadata": {},
   "outputs": [
    {
     "data": {
      "text/plain": [
       "8"
      ]
     },
     "metadata": {},
     "output_type": "display_data"
    }
   ],
   "source": [
    "a = 3\n",
    "b = 5\n",
    "a.__add__(b)"
   ]
  },
  {
   "cell_type": "code",
   "execution_count": null,
   "id": "c9d649bb",
   "metadata": {},
   "outputs": [
    {
     "data": {
      "text/plain": [
       "['__abs__',\n",
       " '__add__',\n",
       " '__and__',\n",
       " '__bool__',\n",
       " '__ceil__',\n",
       " '__class__',\n",
       " '__delattr__',\n",
       " '__dir__',\n",
       " '__divmod__',\n",
       " '__doc__',\n",
       " '__eq__',\n",
       " '__float__',\n",
       " '__floor__',\n",
       " '__floordiv__',\n",
       " '__format__',\n",
       " '__ge__',\n",
       " '__getattribute__',\n",
       " '__getnewargs__',\n",
       " '__getstate__',\n",
       " '__gt__',\n",
       " '__hash__',\n",
       " '__index__',\n",
       " '__init__',\n",
       " '__init_subclass__',\n",
       " '__int__',\n",
       " '__invert__',\n",
       " '__le__',\n",
       " '__lshift__',\n",
       " '__lt__',\n",
       " '__mod__',\n",
       " '__mul__',\n",
       " '__ne__',\n",
       " '__neg__',\n",
       " '__new__',\n",
       " '__or__',\n",
       " '__pos__',\n",
       " '__pow__',\n",
       " '__radd__',\n",
       " '__rand__',\n",
       " '__rdivmod__',\n",
       " '__reduce__',\n",
       " '__reduce_ex__',\n",
       " '__repr__',\n",
       " '__rfloordiv__',\n",
       " '__rlshift__',\n",
       " '__rmod__',\n",
       " '__rmul__',\n",
       " '__ror__',\n",
       " '__round__',\n",
       " '__rpow__',\n",
       " '__rrshift__',\n",
       " '__rshift__',\n",
       " '__rsub__',\n",
       " '__rtruediv__',\n",
       " '__rxor__',\n",
       " '__setattr__',\n",
       " '__sizeof__',\n",
       " '__str__',\n",
       " '__sub__',\n",
       " '__subclasshook__',\n",
       " '__truediv__',\n",
       " '__trunc__',\n",
       " '__xor__',\n",
       " 'as_integer_ratio',\n",
       " 'bit_count',\n",
       " 'bit_length',\n",
       " 'conjugate',\n",
       " 'denominator',\n",
       " 'from_bytes',\n",
       " 'imag',\n",
       " 'is_integer',\n",
       " 'numerator',\n",
       " 'real',\n",
       " 'to_bytes']"
      ]
     },
     "metadata": {},
     "output_type": "display_data"
    }
   ],
   "source": [
    "dir(int)"
   ]
  },
  {
   "cell_type": "markdown",
   "id": "2545c6d3",
   "metadata": {},
   "source": [
    "- Useful dunder methods"
   ]
  },
  {
   "cell_type": "code",
   "execution_count": null,
   "id": "721e5e0b",
   "metadata": {},
   "outputs": [],
   "source": [
    "#__int__ >> to take data as object\n",
    "class Student:\n",
    "    def __init__(self, name):\n",
    "        print(f\"{name} This is the first thing that will be executeed when you make instance/object of class\")"
   ]
  },
  {
   "cell_type": "code",
   "execution_count": null,
   "id": "07f33944",
   "metadata": {},
   "outputs": [
    {
     "name": "stdout",
     "output_type": "stream",
     "text": [
      "Prag This is the first thing that will be executeed when you make instance/object of class\n"
     ]
    }
   ],
   "source": [
    "obj1 = Student(\"Prag\")"
   ]
  },
  {
   "cell_type": "code",
   "execution_count": null,
   "id": "dcd066a8",
   "metadata": {},
   "outputs": [
    {
     "name": "stdout",
     "output_type": "stream",
     "text": [
      "Dev This is the first thing that will be executeed when you make instance/object of class\n"
     ]
    }
   ],
   "source": [
    "obj2 = Student(\"Dev\")"
   ]
  },
  {
   "cell_type": "code",
   "execution_count": null,
   "id": "eaa2cd10",
   "metadata": {},
   "outputs": [],
   "source": [
    "# Another Magic Method >> __new__\n",
    "class Student:\n",
    "    # __new__ is responsible for creating a new instance of class\n",
    "    def __new__(cls): # since cls >> it will refer to class directly\n",
    "        print(f\"This will be executed even before init.\")\n",
    "    # to intialise the newly created instance / object >> it sets up any initial state/ properties of state\n",
    "    def __init__(self, name):\n",
    "        print(f\"{name} This is the first thing that will be executeed when you make instance/object of class\")\n"
   ]
  },
  {
   "cell_type": "code",
   "execution_count": null,
   "id": "049cbcfe",
   "metadata": {},
   "outputs": [
    {
     "name": "stdout",
     "output_type": "stream",
     "text": [
      "This will be executed even before init.\n"
     ]
    }
   ],
   "source": [
    "obj = Student()"
   ]
  },
  {
   "cell_type": "code",
   "execution_count": null,
   "id": "ad22ca64",
   "metadata": {},
   "outputs": [],
   "source": [
    "# Another dunder methods >> __str__\n",
    "class Student:\n",
    "    def __init__(self):\n",
    "        self.phone = 12345\n",
    "        "
   ]
  },
  {
   "cell_type": "code",
   "execution_count": null,
   "id": "e5a1543d",
   "metadata": {},
   "outputs": [
    {
     "data": {
      "text/plain": [
       "<__main__.Student at 0x196399011d0>"
      ]
     },
     "metadata": {},
     "output_type": "display_data"
    }
   ],
   "source": [
    "Student()  # hexadscimal  representation of student object"
   ]
  },
  {
   "cell_type": "code",
   "execution_count": null,
   "id": "5be20164",
   "metadata": {},
   "outputs": [
    {
     "name": "stdout",
     "output_type": "stream",
     "text": [
      "<__main__.Student object at 0x00000196399007D0>\n"
     ]
    }
   ],
   "source": [
    "print(Student())"
   ]
  },
  {
   "cell_type": "code",
   "execution_count": null,
   "id": "3b0fa464",
   "metadata": {},
   "outputs": [],
   "source": [
    "class Student:\n",
    "    def __init__(self):\n",
    "        self.phone = 12345\n",
    "    def __str__(self): #__str__ will return string representation of objects\n",
    "        return \"This method overloads the print statement of object method\""
   ]
  },
  {
   "cell_type": "code",
   "execution_count": null,
   "id": "2f863246",
   "metadata": {},
   "outputs": [
    {
     "data": {
      "text/plain": [
       "<__main__.Student at 0x196396ca660>"
      ]
     },
     "metadata": {},
     "output_type": "display_data"
    }
   ],
   "source": [
    "Student()"
   ]
  },
  {
   "cell_type": "code",
   "execution_count": null,
   "id": "0ccac682",
   "metadata": {},
   "outputs": [
    {
     "name": "stdout",
     "output_type": "stream",
     "text": [
      "This method overloads the print statement of object method\n"
     ]
    }
   ],
   "source": [
    "print(Student())"
   ]
  },
  {
   "cell_type": "code",
   "execution_count": null,
   "id": "b03ad8d3",
   "metadata": {},
   "outputs": [],
   "source": [
    "# Another dunder method __repr__ >> means representation\n",
    "# It returns unambiguous string representation of the objects as it is that can be used to recreate the objects\n"
   ]
  },
  {
   "cell_type": "code",
   "execution_count": null,
   "id": "432122ba",
   "metadata": {},
   "outputs": [],
   "source": [
    "class MyClass:\n",
    "    def __init__(self, x):\n",
    "        self.x = x\n",
    "    def __repr__(self):\n",
    "        return f\"MyClass({self.x})\""
   ]
  },
  {
   "cell_type": "code",
   "execution_count": null,
   "id": "4aed6c26",
   "metadata": {},
   "outputs": [],
   "source": [
    "Obj = MyClass(5)"
   ]
  },
  {
   "cell_type": "code",
   "execution_count": null,
   "id": "b5f60be6",
   "metadata": {},
   "outputs": [
    {
     "name": "stdout",
     "output_type": "stream",
     "text": [
      "MyClass(5)\n"
     ]
    }
   ],
   "source": [
    "print(repr(Obj)) # it give similar representation of objects"
   ]
  },
  {
   "cell_type": "code",
   "execution_count": null,
   "id": "417a3289",
   "metadata": {},
   "outputs": [
    {
     "data": {
      "text/plain": [
       "True"
      ]
     },
     "metadata": {},
     "output_type": "display_data"
    }
   ],
   "source": [
    "# __eq__\n",
    "True == True"
   ]
  },
  {
   "cell_type": "code",
   "execution_count": null,
   "id": "79a9fb9d",
   "metadata": {},
   "outputs": [
    {
     "data": {
      "text/plain": [
       "True"
      ]
     },
     "metadata": {},
     "output_type": "display_data"
    }
   ],
   "source": [
    "3 == 3"
   ]
  },
  {
   "cell_type": "code",
   "execution_count": null,
   "id": "a1b17fa5",
   "metadata": {},
   "outputs": [
    {
     "data": {
      "text/plain": [
       "True"
      ]
     },
     "metadata": {},
     "output_type": "display_data"
    }
   ],
   "source": [
    "a = 3\n",
    "b = 3\n",
    "a.__eq__(b)"
   ]
  },
  {
   "cell_type": "code",
   "execution_count": null,
   "id": "afc2c17a",
   "metadata": {},
   "outputs": [
    {
     "data": {
      "text/plain": [
       "False"
      ]
     },
     "metadata": {},
     "output_type": "display_data"
    }
   ],
   "source": [
    "a = 3\n",
    "b = 4\n",
    "a.__eq__(b)"
   ]
  },
  {
   "cell_type": "markdown",
   "id": "e767b2bc",
   "metadata": {},
   "source": [
    "*Use Case*\n",
    "- To compare two coordinates"
   ]
  },
  {
   "cell_type": "code",
   "execution_count": null,
   "id": "39790f30",
   "metadata": {},
   "outputs": [],
   "source": [
    "class Points:\n",
    "    def __init__(self, x, y):\n",
    "        self.x = x\n",
    "        self.y = y\n",
    "    def __eq__(self, other):\n",
    "        return self.x == other.x and self.y == other.y"
   ]
  },
  {
   "cell_type": "code",
   "execution_count": null,
   "id": "0b7227e5",
   "metadata": {},
   "outputs": [
    {
     "name": "stdout",
     "output_type": "stream",
     "text": [
      "True\n"
     ]
    }
   ],
   "source": [
    "p1 = Points(1,2)\n",
    "p2 = Points(1,2)\n",
    "print(p1 == p2)"
   ]
  },
  {
   "cell_type": "code",
   "execution_count": null,
   "id": "0b91104e",
   "metadata": {},
   "outputs": [
    {
     "name": "stdout",
     "output_type": "stream",
     "text": [
      "False\n"
     ]
    }
   ],
   "source": [
    "p1 = Points(1,2)\n",
    "p2 = Points(-1, 2)\n",
    "print(p1 == p2)"
   ]
  },
  {
   "cell_type": "code",
   "execution_count": null,
   "id": "5cc95bfa",
   "metadata": {},
   "outputs": [
    {
     "data": {
      "text/plain": [
       "8"
      ]
     },
     "metadata": {},
     "output_type": "display_data"
    }
   ],
   "source": [
    "#__add__\n",
    "a = 3\n",
    "b = 5\n",
    "a+b"
   ]
  },
  {
   "cell_type": "code",
   "execution_count": null,
   "id": "b378caf8",
   "metadata": {},
   "outputs": [],
   "source": [
    "class Points:\n",
    "    def __init__(self, x, y):\n",
    "        self.x = x\n",
    "        self.y = y\n",
    "    def __add__(self, other):\n",
    "        return Points(self.x + other.x, self.y +other.y)"
   ]
  },
  {
   "cell_type": "code",
   "execution_count": null,
   "id": "4e4120d6",
   "metadata": {},
   "outputs": [
    {
     "name": "stdout",
     "output_type": "stream",
     "text": [
      "2 4\n"
     ]
    }
   ],
   "source": [
    "p1 = Points(1,2)\n",
    "p2 = Points(1,2)\n",
    "p3 = p1+p2 # when we use + operator with points object, python internally call __add__ >> method overloading\n",
    "print(p3.x , p3.y)"
   ]
  },
  {
   "cell_type": "code",
   "execution_count": null,
   "id": "755d3d51",
   "metadata": {},
   "outputs": [
    {
     "name": "stdout",
     "output_type": "stream",
     "text": [
      "4 6\n"
     ]
    }
   ],
   "source": [
    "p1 = Points(3,2)\n",
    "p2 = Points(1,4)\n",
    "p3 = p1+p2\n",
    "print(p3.x , p3.y)"
   ]
  },
  {
   "cell_type": "markdown",
   "id": "0239ce2d",
   "metadata": {},
   "source": [
    "## Decorators"
   ]
  },
  {
   "cell_type": "markdown",
   "id": "b348f8b3",
   "metadata": {},
   "source": [
    "*Decorators*\n",
    "- It allows to modify or extend the behaviour of functions / class without directly modifying their code.\n",
    "- Similar to decorating your room (putting different lights, stickers, posters) \n",
    "- To enhance / extends / decorate the basic behaviour of room."
   ]
  },
  {
   "cell_type": "markdown",
   "id": "68deceba",
   "metadata": {},
   "source": [
    "### Function decorators"
   ]
  },
  {
   "cell_type": "code",
   "execution_count": null,
   "id": "338f3089",
   "metadata": {},
   "outputs": [],
   "source": [
    "def my_decorator_func():\n",
    "    print(\"The line before computation.\")\n",
    "    print(11*12)\n",
    "    print(\"The line after computation.\")"
   ]
  },
  {
   "cell_type": "code",
   "execution_count": null,
   "id": "d288edad",
   "metadata": {},
   "outputs": [
    {
     "name": "stdout",
     "output_type": "stream",
     "text": [
      "The line before computation.\n",
      "132\n",
      "The line after computation.\n"
     ]
    }
   ],
   "source": [
    "my_decorator_func()"
   ]
  },
  {
   "cell_type": "markdown",
   "id": "b89f9317",
   "metadata": {},
   "source": [
    "- Suppose you want to use line before computation and after computation after each time you create a function/ call function.\n",
    "- So it will take a lots of time to type the lines repeatedly.\n",
    "- And that's why the concept of decorator comes to the pictures."
   ]
  },
  {
   "cell_type": "code",
   "execution_count": null,
   "id": "279f8c8a",
   "metadata": {},
   "outputs": [],
   "source": [
    "def my_decorator_func():\n",
    "    print(\"*_*_*_*_*_*\")\n",
    "    print(11*12)\n",
    "    print(\"*_*_*_*_*_*_*\")\n",
    "# In the above approach you have to write the lines as many times as you are creating the functions"
   ]
  },
  {
   "cell_type": "code",
   "execution_count": null,
   "id": "21394915",
   "metadata": {},
   "outputs": [
    {
     "name": "stdout",
     "output_type": "stream",
     "text": [
      "*_*_*_*_*_*\n",
      "132\n",
      "*_*_*_*_*_*_*\n"
     ]
    }
   ],
   "source": [
    "my_decorator_func()"
   ]
  },
  {
   "cell_type": "code",
   "execution_count": null,
   "id": "c9a8d40a",
   "metadata": {},
   "outputs": [],
   "source": [
    "# Decorator Approach\n",
    "# Use case\n",
    "def my_decorator(func): # func as paramater\n",
    "    def wrapper(): # add functionality before and after calling function\n",
    "        print(\"-------------\")\n",
    "        func() # say_hello which is the func here will be executed\n",
    "        print(\"*____________*\")\n",
    "    return wrapper"
   ]
  },
  {
   "cell_type": "code",
   "execution_count": null,
   "id": "3d1051aa",
   "metadata": {},
   "outputs": [],
   "source": [
    "def say_hello():\n",
    "    print(\"HELLOOO\")"
   ]
  },
  {
   "cell_type": "code",
   "execution_count": null,
   "id": "063f34f2",
   "metadata": {},
   "outputs": [
    {
     "name": "stdout",
     "output_type": "stream",
     "text": [
      "HELLOOO\n"
     ]
    }
   ],
   "source": [
    "say_hello()\n",
    "# when say_hello is called , it is actually first calling the decorator functions\n",
    "# which in return is calling wrapper function and then wrapper function is printing the line and calling say_hello func"
   ]
  },
  {
   "cell_type": "code",
   "execution_count": null,
   "id": "d7437863",
   "metadata": {},
   "outputs": [],
   "source": [
    "@my_decorator  #Syntax\n",
    "def say_hello():\n",
    "    print(\"HELLOOO\")\n"
   ]
  },
  {
   "cell_type": "code",
   "execution_count": null,
   "id": "86e87eed",
   "metadata": {},
   "outputs": [
    {
     "name": "stdout",
     "output_type": "stream",
     "text": [
      "-------------\n",
      "HELLOOO\n",
      "*____________*\n"
     ]
    }
   ],
   "source": [
    "say_hello()"
   ]
  },
  {
   "cell_type": "code",
   "execution_count": null,
   "id": "15cd073b",
   "metadata": {},
   "outputs": [],
   "source": [
    "# Another use case of function decorator\n",
    "# run time of a code\n",
    "\n",
    "import time\n",
    "def timer_decorator(func):\n",
    "    def timer():\n",
    "        start = time.time()\n",
    "        func()\n",
    "        end = time.time()\n",
    "        print(\"The time for executing the code is \", end-start)\n",
    "    return timer"
   ]
  },
  {
   "cell_type": "code",
   "execution_count": null,
   "id": "b46c39ff",
   "metadata": {},
   "outputs": [],
   "source": [
    "@timer_decorator\n",
    "def func_test():\n",
    "    print(11*1000)"
   ]
  },
  {
   "cell_type": "code",
   "execution_count": null,
   "id": "16cc7fa3",
   "metadata": {},
   "outputs": [
    {
     "name": "stdout",
     "output_type": "stream",
     "text": [
      "11000\n",
      "The time for executing the code is  0.00043582916259765625\n"
     ]
    }
   ],
   "source": [
    "func_test()"
   ]
  },
  {
   "cell_type": "code",
   "execution_count": null,
   "id": "f7d24450",
   "metadata": {},
   "outputs": [],
   "source": [
    "@timer_decorator\n",
    "def func_test():\n",
    "    print(11*924809278462)"
   ]
  },
  {
   "cell_type": "code",
   "execution_count": null,
   "id": "00556fe5",
   "metadata": {},
   "outputs": [
    {
     "name": "stdout",
     "output_type": "stream",
     "text": [
      "10172902063082\n",
      "The time for executing the code is  0.000385284423828125\n"
     ]
    }
   ],
   "source": [
    "func_test()"
   ]
  },
  {
   "cell_type": "code",
   "execution_count": null,
   "id": "b010881a",
   "metadata": {},
   "outputs": [],
   "source": [
    "@timer_decorator\n",
    "def func_test1():\n",
    "    print(11*92480927+8462**2+767857)"
   ]
  },
  {
   "cell_type": "code",
   "execution_count": null,
   "id": "8b965c1d",
   "metadata": {},
   "outputs": [
    {
     "name": "stdout",
     "output_type": "stream",
     "text": [
      "1089663498\n",
      "The time for executing the code is  0.0009768009185791016\n"
     ]
    }
   ],
   "source": [
    "func_test1()"
   ]
  },
  {
   "cell_type": "markdown",
   "id": "79a380c6",
   "metadata": {},
   "source": [
    "*Why do we need decorator?*\n",
    "- Reusability of code\n",
    "- Enhancing the function without modifying the org func\n"
   ]
  },
  {
   "cell_type": "markdown",
   "id": "3f2bda51",
   "metadata": {},
   "source": [
    "*Use Case*\n",
    "- Execution time of code\n",
    "- Logging\n",
    "- Caching\n",
    "- Validation"
   ]
  },
  {
   "cell_type": "markdown",
   "id": "e843ef8e",
   "metadata": {},
   "source": [
    "### Class decorators"
   ]
  },
  {
   "cell_type": "code",
   "execution_count": null,
   "id": "a6e69ce5",
   "metadata": {},
   "outputs": [],
   "source": [
    "class MyDecorator():\n",
    "    def __init__(self, func):\n",
    "        self.func = func\n",
    "    def __call__(self):  #__call__ is a special method inside the class used to call object/instance of the class as a function\n",
    "        print(\"Before function.\")\n",
    "        self.func()\n",
    "        print(\"After function.\")"
   ]
  },
  {
   "cell_type": "code",
   "execution_count": null,
   "id": "9eb42b3d",
   "metadata": {},
   "outputs": [],
   "source": [
    "def say_hello():\n",
    "    print(\"Helloo\")"
   ]
  },
  {
   "cell_type": "code",
   "execution_count": null,
   "id": "78ae7415",
   "metadata": {},
   "outputs": [
    {
     "name": "stdout",
     "output_type": "stream",
     "text": [
      "Helloo\n"
     ]
    }
   ],
   "source": [
    "say_hello()"
   ]
  },
  {
   "cell_type": "code",
   "execution_count": null,
   "id": "5e53f2f6",
   "metadata": {},
   "outputs": [],
   "source": [
    "@MyDecorator\n",
    "def say_hello():\n",
    "    print(\"Helloo\")"
   ]
  },
  {
   "cell_type": "code",
   "execution_count": null,
   "id": "f9b8f02c",
   "metadata": {},
   "outputs": [
    {
     "name": "stdout",
     "output_type": "stream",
     "text": [
      "Before function.\n",
      "Helloo\n",
      "After function.\n"
     ]
    }
   ],
   "source": [
    "say_hello()"
   ]
  },
  {
   "cell_type": "code",
   "execution_count": null,
   "id": "8de73f25",
   "metadata": {},
   "outputs": [],
   "source": [
    "class MyDecorator():\n",
    "    def __init__(self, func):\n",
    "        self.func = func\n",
    "        print(\"Inside init function.\")\n",
    "    def __call__(self):  #__call__ is a special method inside the class used to call object/instance of the class as a function\n",
    "        print(\"Before function.\")\n",
    "        self.func()\n",
    "        print(\"After function.\")"
   ]
  },
  {
   "cell_type": "code",
   "execution_count": null,
   "id": "fb7813f2",
   "metadata": {},
   "outputs": [
    {
     "name": "stdout",
     "output_type": "stream",
     "text": [
      "Inside init function.\n",
      "Before function.\n",
      "Helloo\n",
      "After function.\n"
     ]
    }
   ],
   "source": [
    "@MyDecorator  # class __call__ will be executed\n",
    "def say_hello():\n",
    "    print(\"Helloo\")\n",
    "say_hello()"
   ]
  },
  {
   "cell_type": "code",
   "execution_count": null,
   "id": "fe78896d",
   "metadata": {},
   "outputs": [
    {
     "name": "stdout",
     "output_type": "stream",
     "text": [
      "Before function.\n",
      "Helloo\n",
      "After function.\n"
     ]
    }
   ],
   "source": [
    "say_hello()"
   ]
  },
  {
   "cell_type": "code",
   "execution_count": null,
   "id": "e8653b79",
   "metadata": {},
   "outputs": [],
   "source": [
    "class MyDecorator():\n",
    "    def __init__(self):\n",
    "        # self.func = func\n",
    "        print(\"Inside init function.\")\n",
    "    def __call__(self):  #__call__ is a special method inside the class used to call object/instance of the class as a function\n",
    "        print(\"Before function.\")\n",
    "        # self.func()\n",
    "        print(\"After function.\")"
   ]
  },
  {
   "cell_type": "markdown",
   "id": "47335964",
   "metadata": {},
   "source": [
    "- when you make an object of the class, init is executed first."
   ]
  },
  {
   "cell_type": "code",
   "execution_count": null,
   "id": "96a7aa84",
   "metadata": {},
   "outputs": [
    {
     "name": "stdout",
     "output_type": "stream",
     "text": [
      "Inside init function.\n"
     ]
    }
   ],
   "source": [
    "obj1 = MyDecorator() "
   ]
  },
  {
   "cell_type": "markdown",
   "id": "a8ee2c79",
   "metadata": {},
   "source": [
    "- when you call an object of the class as function __call__ method will be invoked"
   ]
  },
  {
   "cell_type": "code",
   "execution_count": null,
   "id": "d15ae436",
   "metadata": {},
   "outputs": [
    {
     "name": "stdout",
     "output_type": "stream",
     "text": [
      "Before function.\n",
      "After function.\n"
     ]
    }
   ],
   "source": [
    "obj1()"
   ]
  },
  {
   "cell_type": "markdown",
   "id": "06041bb0",
   "metadata": {},
   "source": [
    "- Some in-built decorators"
   ]
  },
  {
   "cell_type": "markdown",
   "id": "f0ebc243",
   "metadata": {},
   "source": [
    "#### Class Method : @classmethod"
   ]
  },
  {
   "cell_type": "markdown",
   "id": "f0a1171f",
   "metadata": {},
   "source": [
    "- @classmethod : it takes the class itself as the first arguements"
   ]
  },
  {
   "cell_type": "code",
   "execution_count": null,
   "id": "af3e4a46",
   "metadata": {},
   "outputs": [],
   "source": [
    "class Math:\n",
    "    @classmethod # takes reference to the class itself to modify and access class leveln attributes\n",
    "    def add(cls, x, y):\n",
    "        return cls.__name__, x, y  # refering to class math\n"
   ]
  },
  {
   "cell_type": "code",
   "execution_count": null,
   "id": "8cd7a350",
   "metadata": {},
   "outputs": [
    {
     "data": {
      "text/plain": [
       "('Math', 3, 5)"
      ]
     },
     "metadata": {},
     "output_type": "display_data"
    }
   ],
   "source": [
    "# no need of __init__\n",
    "Math.add(3,5)"
   ]
  },
  {
   "cell_type": "code",
   "execution_count": null,
   "id": "b22a9672",
   "metadata": {},
   "outputs": [],
   "source": [
    "class Math:\n",
    "    @classmethod \n",
    "    def add(cls, x, y):\n",
    "        return cls.__name__, x+y"
   ]
  },
  {
   "cell_type": "code",
   "execution_count": null,
   "id": "5100c293",
   "metadata": {},
   "outputs": [
    {
     "data": {
      "text/plain": [
       "('Math', 8)"
      ]
     },
     "metadata": {},
     "output_type": "display_data"
    }
   ],
   "source": [
    "Math.add(3,5)"
   ]
  },
  {
   "cell_type": "markdown",
   "id": "b8c40ed1",
   "metadata": {},
   "source": [
    "- Class methods are the methods which are bound to class and not bound to instance of the class.\n",
    "- CLass itself is the first arguements\n",
    "- Conventionally cls"
   ]
  },
  {
   "cell_type": "markdown",
   "id": "06e5d2e2",
   "metadata": {},
   "source": [
    "#### Static Method : @staticmethod"
   ]
  },
  {
   "cell_type": "markdown",
   "id": "bead5965",
   "metadata": {},
   "source": [
    "- The method which can be called without creating any instance of the class and without using any self or cls."
   ]
  },
  {
   "cell_type": "code",
   "execution_count": null,
   "id": "27477bae",
   "metadata": {},
   "outputs": [],
   "source": [
    "class Math:\n",
    "    def add(self,x , y):\n",
    "        return x+y"
   ]
  },
  {
   "cell_type": "code",
   "execution_count": null,
   "id": "8550f2c3",
   "metadata": {},
   "outputs": [],
   "source": [
    "a = Math() # make object/ instance"
   ]
  },
  {
   "cell_type": "code",
   "execution_count": null,
   "id": "5cbd6b35",
   "metadata": {},
   "outputs": [
    {
     "data": {
      "text/plain": [
       "5"
      ]
     },
     "metadata": {},
     "output_type": "display_data"
    }
   ],
   "source": [
    "a.add(2,3) # in this way we call regular class method"
   ]
  },
  {
   "cell_type": "code",
   "execution_count": null,
   "id": "110eb49c",
   "metadata": {},
   "outputs": [],
   "source": [
    "# Use of static method\n",
    "class Math:\n",
    "    @staticmethod\n",
    "    def add(x, y): # no need of self or cls\n",
    "        return x+y"
   ]
  },
  {
   "cell_type": "code",
   "execution_count": null,
   "id": "aac85175",
   "metadata": {},
   "outputs": [
    {
     "data": {
      "text/plain": [
       "5"
      ]
     },
     "metadata": {},
     "output_type": "display_data"
    }
   ],
   "source": [
    "Math.add(2,3)"
   ]
  },
  {
   "cell_type": "markdown",
   "id": "e505ed0f",
   "metadata": {},
   "source": [
    "- *_ClassMethod_*\n",
    "- cls as first arguements\n",
    "- access and modify class level attributes\n",
    "\n",
    "\n",
    "- *_StaticMethod_*\n",
    "- No first arguements\n",
    "- Cannot access"
   ]
  },
  {
   "cell_type": "markdown",
   "id": "95a69aa4",
   "metadata": {},
   "source": [
    "### Property Decorator"
   ]
  },
  {
   "cell_type": "markdown",
   "id": "0bfb28e2",
   "metadata": {},
   "source": [
    "- It allows method to be accessed as attributes\n",
    "- Allowed to use class method as attributes"
   ]
  },
  {
   "cell_type": "code",
   "execution_count": null,
   "id": "f3acb631",
   "metadata": {},
   "outputs": [],
   "source": [
    "class Circle:\n",
    "    def __init__(self, radius):\n",
    "        self.radius = radius\n",
    "        "
   ]
  },
  {
   "cell_type": "code",
   "execution_count": null,
   "id": "b4159509",
   "metadata": {},
   "outputs": [],
   "source": [
    "obj = Circle(5)"
   ]
  },
  {
   "cell_type": "code",
   "execution_count": null,
   "id": "2a971609",
   "metadata": {},
   "outputs": [
    {
     "data": {
      "text/plain": [
       "5"
      ]
     },
     "metadata": {},
     "output_type": "display_data"
    }
   ],
   "source": [
    "obj.radius # accessing data/ attributes"
   ]
  },
  {
   "cell_type": "code",
   "execution_count": null,
   "id": "04160045",
   "metadata": {},
   "outputs": [],
   "source": [
    "class Circle:\n",
    "    def __init__(self, radius):\n",
    "        self.radius = radius\n",
    "    def area(self):\n",
    "        radius = self.radius\n",
    "        return 3.14*radius*radius"
   ]
  },
  {
   "cell_type": "code",
   "execution_count": null,
   "id": "3b233b0d",
   "metadata": {},
   "outputs": [
    {
     "data": {
      "text/plain": [
       "5"
      ]
     },
     "metadata": {},
     "output_type": "display_data"
    }
   ],
   "source": [
    "obj = Circle(5)\n",
    "obj.radius"
   ]
  },
  {
   "cell_type": "code",
   "execution_count": null,
   "id": "671f2150",
   "metadata": {},
   "outputs": [
    {
     "data": {
      "text/plain": [
       "78.5"
      ]
     },
     "metadata": {},
     "output_type": "display_data"
    }
   ],
   "source": [
    "obj.area() #general method using paranthesis"
   ]
  },
  {
   "cell_type": "code",
   "execution_count": null,
   "id": "fa6c249b",
   "metadata": {},
   "outputs": [],
   "source": [
    "# Using property decorator\n",
    "class Circle:\n",
    "    def __init__(self, radius):\n",
    "        self.radius = radius\n",
    "    @property\n",
    "    def area(self):\n",
    "        radius = self.radius\n",
    "        return 3.14*radius*radius"
   ]
  },
  {
   "cell_type": "code",
   "execution_count": null,
   "id": "f9a39664",
   "metadata": {},
   "outputs": [
    {
     "data": {
      "text/plain": [
       "5"
      ]
     },
     "metadata": {},
     "output_type": "display_data"
    }
   ],
   "source": [
    "obj1 = Circle(5)\n",
    "obj1.radius"
   ]
  },
  {
   "cell_type": "code",
   "execution_count": null,
   "id": "4dd43303",
   "metadata": {},
   "outputs": [
    {
     "data": {
      "text/plain": [
       "78.5"
      ]
     },
     "metadata": {},
     "output_type": "display_data"
    }
   ],
   "source": [
    "obj1.area # no paranthesis"
   ]
  },
  {
   "cell_type": "markdown",
   "id": "1aef4c64",
   "metadata": {},
   "source": [
    "- Example"
   ]
  },
  {
   "cell_type": "code",
   "execution_count": null,
   "id": "ee6ee728",
   "metadata": {},
   "outputs": [],
   "source": [
    "class Student:\n",
    "    def __init__(self, name, price):\n",
    "        self.__name = name\n",
    "        self.__price = price\n",
    "        "
   ]
  },
  {
   "cell_type": "code",
   "execution_count": null,
   "id": "3f36d94a",
   "metadata": {},
   "outputs": [],
   "source": [
    "stud = Student(\"Anu\",3000)"
   ]
  },
  {
   "cell_type": "code",
   "execution_count": null,
   "id": "b37624c6",
   "metadata": {},
   "outputs": [
    {
     "ename": "AttributeError",
     "evalue": "'Student' object has no attribute '__name'",
     "output_type": "error",
     "traceback": [
      "\u001b[31m---------------------------------------------------------------------------\u001b[39m\n",
      "\u001b[31mAttributeError\u001b[39m                            Traceback (most recent call last)\n",
      "\u001b[36mCell\u001b[39m\u001b[36m \u001b[39m\u001b[32mIn[38]\u001b[39m\u001b[32m, line 1\u001b[39m\n",
      "\u001b[32m----> \u001b[39m\u001b[32m1\u001b[39m \u001b[43mstud\u001b[49m\u001b[43m.\u001b[49m\u001b[43m__name\u001b[49m \u001b[38;5;66;03m# as __name is private variable\u001b[39;00m\n",
      "\n",
      "\u001b[31mAttributeError\u001b[39m: 'Student' object has no attribute '__name'"
     ]
    }
   ],
   "source": [
    "stud.__name # as __name is private variable"
   ]
  },
  {
   "cell_type": "code",
   "execution_count": null,
   "id": "18d518f2",
   "metadata": {},
   "outputs": [
    {
     "data": {
      "text/plain": [
       "'Anu'"
      ]
     },
     "metadata": {},
     "output_type": "display_data"
    }
   ],
   "source": [
    "# we can access the private variable if we know structure of class\n",
    "stud._Student__name"
   ]
  },
  {
   "cell_type": "code",
   "execution_count": null,
   "id": "d4691551",
   "metadata": {},
   "outputs": [
    {
     "data": {
      "text/plain": [
       "3000"
      ]
     },
     "metadata": {},
     "output_type": "display_data"
    }
   ],
   "source": [
    "stud._Student__price"
   ]
  },
  {
   "cell_type": "code",
   "execution_count": null,
   "id": "2d0e079f",
   "metadata": {},
   "outputs": [],
   "source": [
    "\n",
    "# Another way to expose private variables using property decorators\n",
    "class Student:\n",
    "    def __init__(self, name, price):\n",
    "        self.__name = name\n",
    "        self.__price = price\n",
    "    @property\n",
    "    def access_price(self):\n",
    "        return self.__price"
   ]
  },
  {
   "cell_type": "code",
   "execution_count": null,
   "id": "29e153e1",
   "metadata": {},
   "outputs": [],
   "source": [
    "stud = Student(\"Anu\", 4500)"
   ]
  },
  {
   "cell_type": "code",
   "execution_count": null,
   "id": "eac21aa6",
   "metadata": {},
   "outputs": [
    {
     "data": {
      "text/plain": [
       "4500"
      ]
     },
     "metadata": {},
     "output_type": "display_data"
    }
   ],
   "source": [
    "stud.access_price"
   ]
  },
  {
   "cell_type": "code",
   "execution_count": null,
   "id": "82b479cf",
   "metadata": {},
   "outputs": [],
   "source": [
    "# You want to modify the price\n",
    "class Student:\n",
    "    def __init__(self, name, price):\n",
    "        self.__name = name\n",
    "        self.__price = price\n",
    "    @property\n",
    "    def access_price(self):\n",
    "        return self.__price\n",
    "    \n",
    "    @access_price.setter\n",
    "    def price_set(self, price_new):\n",
    "        self.__price = price_new"
   ]
  },
  {
   "cell_type": "code",
   "execution_count": null,
   "id": "9ae628f1",
   "metadata": {},
   "outputs": [],
   "source": [
    "stud = Student(\"Anu\", 5000)"
   ]
  },
  {
   "cell_type": "code",
   "execution_count": null,
   "id": "5912b61a",
   "metadata": {},
   "outputs": [
    {
     "data": {
      "text/plain": [
       "5000"
      ]
     },
     "metadata": {},
     "output_type": "display_data"
    }
   ],
   "source": [
    "stud.access_price"
   ]
  },
  {
   "cell_type": "code",
   "execution_count": null,
   "id": "a4d75d25",
   "metadata": {},
   "outputs": [],
   "source": [
    "stud.price_set = 6000"
   ]
  },
  {
   "cell_type": "code",
   "execution_count": null,
   "id": "3dcc7f1c",
   "metadata": {},
   "outputs": [
    {
     "data": {
      "text/plain": [
       "6000"
      ]
     },
     "metadata": {},
     "output_type": "display_data"
    }
   ],
   "source": [
    "stud.access_price"
   ]
  },
  {
   "cell_type": "code",
   "execution_count": null,
   "id": "04b700ec",
   "metadata": {},
   "outputs": [],
   "source": [
    "# You want to delete the variable price\n",
    "class Student:\n",
    "    def __init__(self, name, price):\n",
    "        self.__name = name\n",
    "        self.__price = price\n",
    "    @property\n",
    "    def access_price(self):\n",
    "        return self.__price\n",
    "    \n",
    "    @access_price.setter\n",
    "    def access_set(self, price_new):\n",
    "        self.__price = price_new\n",
    "\n",
    "    @access_price.deleter\n",
    "    def access_price(self):\n",
    "        del self.__price"
   ]
  },
  {
   "cell_type": "code",
   "execution_count": null,
   "id": "95546b97",
   "metadata": {},
   "outputs": [],
   "source": [
    "stud = Student('Anu', 15000)"
   ]
  },
  {
   "cell_type": "code",
   "execution_count": null,
   "id": "732b36de",
   "metadata": {},
   "outputs": [
    {
     "data": {
      "text/plain": [
       "15000"
      ]
     },
     "metadata": {},
     "output_type": "display_data"
    }
   ],
   "source": [
    "stud.access_price"
   ]
  },
  {
   "cell_type": "code",
   "execution_count": null,
   "id": "0cde5ab4",
   "metadata": {},
   "outputs": [],
   "source": [
    "stud.price_set = 20000"
   ]
  },
  {
   "cell_type": "code",
   "execution_count": null,
   "id": "d22abcde",
   "metadata": {},
   "outputs": [
    {
     "data": {
      "text/plain": [
       "15000"
      ]
     },
     "metadata": {},
     "output_type": "display_data"
    }
   ],
   "source": [
    "stud.access_price"
   ]
  },
  {
   "cell_type": "code",
   "execution_count": null,
   "id": "7a5a604f",
   "metadata": {},
   "outputs": [],
   "source": [
    "del stud.access_price"
   ]
  },
  {
   "cell_type": "code",
   "execution_count": null,
   "id": "8cf6e041",
   "metadata": {},
   "outputs": [
    {
     "ename": "AttributeError",
     "evalue": "'Student' object has no attribute '_Student__price'",
     "output_type": "error",
     "traceback": [
      "\u001b[31m---------------------------------------------------------------------------\u001b[39m\n",
      "\u001b[31mAttributeError\u001b[39m                            Traceback (most recent call last)\n",
      "\u001b[36mCell\u001b[39m\u001b[36m \u001b[39m\u001b[32mIn[67]\u001b[39m\u001b[32m, line 1\u001b[39m\n",
      "\u001b[32m----> \u001b[39m\u001b[32m1\u001b[39m \u001b[43mstud\u001b[49m\u001b[43m.\u001b[49m\u001b[43maccess_price\u001b[49m \u001b[38;5;66;03m# access price deleted\u001b[39;00m\n",
      "\n",
      "\u001b[36mCell\u001b[39m\u001b[36m \u001b[39m\u001b[32mIn[57]\u001b[39m\u001b[32m, line 8\u001b[39m, in \u001b[36mStudent.access_price\u001b[39m\u001b[34m(self)\u001b[39m\n",
      "\u001b[32m      6\u001b[39m \u001b[38;5;129m@property\u001b[39m\n",
      "\u001b[32m      7\u001b[39m \u001b[38;5;28;01mdef\u001b[39;00m\u001b[38;5;250m \u001b[39m\u001b[34maccess_price\u001b[39m(\u001b[38;5;28mself\u001b[39m):\n",
      "\u001b[32m----> \u001b[39m\u001b[32m8\u001b[39m     \u001b[38;5;28;01mreturn\u001b[39;00m \u001b[38;5;28;43mself\u001b[39;49m\u001b[43m.\u001b[49m\u001b[43m__price\u001b[49m\n",
      "\n",
      "\u001b[31mAttributeError\u001b[39m: 'Student' object has no attribute '_Student__price'"
     ]
    }
   ],
   "source": [
    "stud.access_price # access price deleted"
   ]
  },
  {
   "cell_type": "code",
   "execution_count": null,
   "id": "901a1670",
   "metadata": {},
   "outputs": [],
   "source": [
    "# Use Case\n",
    "class Circle:\n",
    "    def __init__(self, radius):\n",
    "        self.__radius = radius\n",
    "\n",
    "    @property\n",
    "    def radius(self):\n",
    "        return self.__radius"
   ]
  },
  {
   "cell_type": "code",
   "execution_count": null,
   "id": "25d506ed",
   "metadata": {},
   "outputs": [],
   "source": [
    "c= Circle(5)"
   ]
  },
  {
   "cell_type": "code",
   "execution_count": null,
   "id": "ad9117f6",
   "metadata": {},
   "outputs": [
    {
     "data": {
      "text/plain": [
       "5"
      ]
     },
     "metadata": {},
     "output_type": "display_data"
    }
   ],
   "source": [
    "c.radius"
   ]
  },
  {
   "cell_type": "code",
   "execution_count": null,
   "id": "ebe2de59",
   "metadata": {},
   "outputs": [],
   "source": [
    "class Circle:\n",
    "    def __init__(self, radius):\n",
    "        self.__radius = radius\n",
    "\n",
    "    @property\n",
    "    def radius(self):\n",
    "        return self.__radius\n",
    "    @radius.setter\n",
    "    def radius(self, value):\n",
    "        if value <= 0:\n",
    "            raise ValueError(\"Radius must not negative\")\n",
    "        self.__radius = value\n",
    "    def area(self):\n",
    "        return 3.14*self.__radius**2"
   ]
  },
  {
   "cell_type": "code",
   "execution_count": null,
   "id": "17300ab9",
   "metadata": {},
   "outputs": [],
   "source": [
    "c1 = Circle(5)"
   ]
  },
  {
   "cell_type": "code",
   "execution_count": null,
   "id": "2ec66f85",
   "metadata": {},
   "outputs": [
    {
     "data": {
      "text/plain": [
       "5"
      ]
     },
     "metadata": {},
     "output_type": "display_data"
    }
   ],
   "source": [
    "c1.radius"
   ]
  },
  {
   "cell_type": "code",
   "execution_count": null,
   "id": "a3e00c48",
   "metadata": {},
   "outputs": [],
   "source": [
    "c1.radius = 10"
   ]
  },
  {
   "cell_type": "code",
   "execution_count": null,
   "id": "1147a1ca",
   "metadata": {},
   "outputs": [
    {
     "data": {
      "text/plain": [
       "10"
      ]
     },
     "metadata": {},
     "output_type": "display_data"
    }
   ],
   "source": [
    "c1.radius"
   ]
  },
  {
   "cell_type": "code",
   "execution_count": null,
   "id": "2883ff6b",
   "metadata": {},
   "outputs": [
    {
     "ename": "ValueError",
     "evalue": "Radius must not negative",
     "output_type": "error",
     "traceback": [
      "\u001b[31m---------------------------------------------------------------------------\u001b[39m\n",
      "\u001b[31mValueError\u001b[39m                                Traceback (most recent call last)\n",
      "\u001b[36mCell\u001b[39m\u001b[36m \u001b[39m\u001b[32mIn[109]\u001b[39m\u001b[32m, line 1\u001b[39m\n",
      "\u001b[32m----> \u001b[39m\u001b[32m1\u001b[39m \u001b[43mc1\u001b[49m\u001b[43m.\u001b[49m\u001b[43mradius\u001b[49m = -\u001b[32m2\u001b[39m\n",
      "\n",
      "\u001b[36mCell\u001b[39m\u001b[36m \u001b[39m\u001b[32mIn[94]\u001b[39m\u001b[32m, line 11\u001b[39m, in \u001b[36mCircle.radius\u001b[39m\u001b[34m(self, value)\u001b[39m\n",
      "\u001b[32m      8\u001b[39m \u001b[38;5;129m@radius\u001b[39m.setter\n",
      "\u001b[32m      9\u001b[39m \u001b[38;5;28;01mdef\u001b[39;00m\u001b[38;5;250m \u001b[39m\u001b[34mradius\u001b[39m(\u001b[38;5;28mself\u001b[39m, value):\n",
      "\u001b[32m     10\u001b[39m     \u001b[38;5;28;01mif\u001b[39;00m value <= \u001b[32m0\u001b[39m:\n",
      "\u001b[32m---> \u001b[39m\u001b[32m11\u001b[39m         \u001b[38;5;28;01mraise\u001b[39;00m \u001b[38;5;167;01mValueError\u001b[39;00m(\u001b[33m\"\u001b[39m\u001b[33mRadius must not negative\u001b[39m\u001b[33m\"\u001b[39m)\n",
      "\u001b[32m     12\u001b[39m     \u001b[38;5;28mself\u001b[39m.__radius = value\n",
      "\n",
      "\u001b[31mValueError\u001b[39m: Radius must not negative"
     ]
    }
   ],
   "source": [
    "c1.radius = -2"
   ]
  },
  {
   "cell_type": "code",
   "execution_count": null,
   "id": "32683f57",
   "metadata": {},
   "outputs": [
    {
     "data": {
      "text/plain": [
       "314.0"
      ]
     },
     "metadata": {},
     "output_type": "display_data"
    }
   ],
   "source": [
    "c1.area()"
   ]
  },
  {
   "cell_type": "code",
   "execution_count": null,
   "id": "6902d4c7",
   "metadata": {},
   "outputs": [],
   "source": [
    "class Circle:\n",
    "    def __init__(self, radius):\n",
    "        self.__radius = radius\n",
    "\n",
    "    @property\n",
    "    def radius(self):\n",
    "        return self.__radius\n",
    "    @radius.setter\n",
    "    def radius(self, value):\n",
    "        if value <= 0:\n",
    "            raise ValueError(\"Radius must not negative\")\n",
    "        self.__radius = value\n",
    "    @radius.deleter\n",
    "    def radius(self):\n",
    "        del self.__radius\n",
    "    def area(self):\n",
    "        return 3.14*self.__radius**2"
   ]
  },
  {
   "cell_type": "code",
   "execution_count": null,
   "id": "c5a613cb",
   "metadata": {},
   "outputs": [],
   "source": [
    "c = Circle(10)"
   ]
  },
  {
   "cell_type": "code",
   "execution_count": null,
   "id": "c915ccdb",
   "metadata": {},
   "outputs": [
    {
     "data": {
      "text/plain": [
       "314.0"
      ]
     },
     "metadata": {},
     "output_type": "display_data"
    }
   ],
   "source": [
    "c.area()"
   ]
  },
  {
   "cell_type": "code",
   "execution_count": null,
   "id": "70fcea3c",
   "metadata": {},
   "outputs": [
    {
     "data": {
      "text/plain": [
       "10"
      ]
     },
     "metadata": {},
     "output_type": "display_data"
    }
   ],
   "source": [
    "c.radius"
   ]
  },
  {
   "cell_type": "code",
   "execution_count": null,
   "id": "b4897f0c",
   "metadata": {},
   "outputs": [],
   "source": [
    "del c.radius"
   ]
  },
  {
   "cell_type": "code",
   "execution_count": null,
   "id": "a16dc9ff",
   "metadata": {},
   "outputs": [
    {
     "ename": "AttributeError",
     "evalue": "'Circle' object has no attribute '_Circle__radius'",
     "output_type": "error",
     "traceback": [
      "\u001b[31m---------------------------------------------------------------------------\u001b[39m\n",
      "\u001b[31mAttributeError\u001b[39m                            Traceback (most recent call last)\n",
      "\u001b[36mCell\u001b[39m\u001b[36m \u001b[39m\u001b[32mIn[108]\u001b[39m\u001b[32m, line 1\u001b[39m\n",
      "\u001b[32m----> \u001b[39m\u001b[32m1\u001b[39m \u001b[43mc\u001b[49m\u001b[43m.\u001b[49m\u001b[43mradius\u001b[49m\n",
      "\n",
      "\u001b[36mCell\u001b[39m\u001b[36m \u001b[39m\u001b[32mIn[101]\u001b[39m\u001b[32m, line 7\u001b[39m, in \u001b[36mCircle.radius\u001b[39m\u001b[34m(self)\u001b[39m\n",
      "\u001b[32m      5\u001b[39m \u001b[38;5;129m@property\u001b[39m\n",
      "\u001b[32m      6\u001b[39m \u001b[38;5;28;01mdef\u001b[39;00m\u001b[38;5;250m \u001b[39m\u001b[34mradius\u001b[39m(\u001b[38;5;28mself\u001b[39m):\n",
      "\u001b[32m----> \u001b[39m\u001b[32m7\u001b[39m     \u001b[38;5;28;01mreturn\u001b[39;00m \u001b[38;5;28;43mself\u001b[39;49m\u001b[43m.\u001b[49m\u001b[43m__radius\u001b[49m\n",
      "\n",
      "\u001b[31mAttributeError\u001b[39m: 'Circle' object has no attribute '_Circle__radius'"
     ]
    }
   ],
   "source": [
    "c.radius"
   ]
  },
  {
   "cell_type": "code",
   "execution_count": null,
   "id": "2bbaab39",
   "metadata": {},
   "outputs": [],
   "source": [
    "class A:\n",
    "    def __init__(self, x):\n",
    "        self.x = x\n",
    "class B(A):\n",
    "    def __init__(self, x, y):\n",
    "        super().__init__(x)\n",
    "        self.y = y\n",
    "        "
   ]
  },
  {
   "cell_type": "code",
   "execution_count": null,
   "id": "2b4e2a5e",
   "metadata": {},
   "outputs": [],
   "source": [
    "obj = B(3,4)"
   ]
  },
  {
   "cell_type": "code",
   "execution_count": null,
   "id": "5636b655",
   "metadata": {},
   "outputs": [
    {
     "name": "stdout",
     "output_type": "stream",
     "text": [
      "3 4\n"
     ]
    }
   ],
   "source": [
    "print(obj.x, obj.y)"
   ]
  },
  {
   "cell_type": "code",
   "execution_count": null,
   "id": "0c730cea",
   "metadata": {},
   "outputs": [],
   "source": [
    "class MyClass:\n",
    "    def __init__(self, x):\n",
    "        self.x = x\n",
    "    def __str__(self):\n",
    "        return str(self.x)"
   ]
  },
  {
   "cell_type": "code",
   "execution_count": null,
   "id": "2536cb6d",
   "metadata": {},
   "outputs": [],
   "source": [
    "obj = MyClass(10)"
   ]
  },
  {
   "cell_type": "code",
   "execution_count": null,
   "id": "7f3034e8",
   "metadata": {},
   "outputs": [
    {
     "name": "stdout",
     "output_type": "stream",
     "text": [
      "10\n"
     ]
    }
   ],
   "source": [
    "print(obj)"
   ]
  },
  {
   "cell_type": "code",
   "execution_count": null,
   "id": "bb75fb0f",
   "metadata": {},
   "outputs": [],
   "source": [
    "class Counter:\n",
    "    count = 0\n",
    "    def __init__(self):\n",
    "        Counter.count +=1"
   ]
  },
  {
   "cell_type": "code",
   "execution_count": null,
   "id": "52bc79e4",
   "metadata": {},
   "outputs": [],
   "source": [
    "a = Counter()\n",
    "b = Counter()\n",
    "c = Counter()\n"
   ]
  },
  {
   "cell_type": "code",
   "execution_count": null,
   "id": "f2d6cf5a",
   "metadata": {},
   "outputs": [
    {
     "name": "stdout",
     "output_type": "stream",
     "text": [
      "3\n"
     ]
    }
   ],
   "source": [
    "print(Counter.count)"
   ]
  },
  {
   "cell_type": "code",
   "execution_count": null,
   "id": "ff7808ea",
   "metadata": {},
   "outputs": [],
   "source": [
    "class MyClass:\n",
    "    def __init__(self, value=0):\n",
    "        self.value = value\n"
   ]
  },
  {
   "cell_type": "code",
   "execution_count": null,
   "id": "d536d758",
   "metadata": {},
   "outputs": [],
   "source": [
    "obj1 = MyClass(5)\n",
    "obj2 = MyClass()"
   ]
  },
  {
   "cell_type": "code",
   "execution_count": null,
   "id": "d4a235e2",
   "metadata": {},
   "outputs": [
    {
     "name": "stdout",
     "output_type": "stream",
     "text": [
      "5 0\n"
     ]
    }
   ],
   "source": [
    "print(obj1.value, obj2.value)"
   ]
  },
  {
   "cell_type": "code",
   "execution_count": null,
   "id": "ce2bbb64",
   "metadata": {},
   "outputs": [],
   "source": [
    "class A:\n",
    "    def __init__(self):\n",
    "        self.value = 5\n",
    "    def get_value(self):\n",
    "        return self.value\n",
    "    \n",
    "class B(A):\n",
    "    def get_value(self):\n",
    "        return self.value + 10"
   ]
  },
  {
   "cell_type": "code",
   "execution_count": null,
   "id": "b1d329a4",
   "metadata": {},
   "outputs": [],
   "source": [
    "obj = B()"
   ]
  },
  {
   "cell_type": "code",
   "execution_count": null,
   "id": "d0c6a504",
   "metadata": {},
   "outputs": [
    {
     "name": "stdout",
     "output_type": "stream",
     "text": [
      "15\n"
     ]
    }
   ],
   "source": [
    "print(obj.get_value())"
   ]
  },
  {
   "cell_type": "code",
   "execution_count": null,
   "id": "de463e93",
   "metadata": {},
   "outputs": [],
   "source": [
    "class MyClass:\n",
    "    def __init__(self, val):\n",
    "        self.val = val\n",
    "    def increment(self):\n",
    "        self.val +=1\n",
    "        return self"
   ]
  },
  {
   "cell_type": "code",
   "execution_count": null,
   "id": "241fb8d8",
   "metadata": {},
   "outputs": [],
   "source": [
    "obj = MyClass(5)"
   ]
  },
  {
   "cell_type": "code",
   "execution_count": null,
   "id": "a303800c",
   "metadata": {},
   "outputs": [
    {
     "data": {
      "text/plain": [
       "<__main__.MyClass at 0x1f0690e6900>"
      ]
     },
     "metadata": {},
     "output_type": "display_data"
    }
   ],
   "source": [
    "obj.increment().increment().increment()"
   ]
  },
  {
   "cell_type": "code",
   "execution_count": null,
   "id": "f24e350f",
   "metadata": {},
   "outputs": [
    {
     "name": "stdout",
     "output_type": "stream",
     "text": [
      "8\n"
     ]
    }
   ],
   "source": [
    "print(obj.val)"
   ]
  }
 ],
 "metadata": {
  "language_info": {
   "name": "python"
  }
 },
 "nbformat": 4,
 "nbformat_minor": 5
}
