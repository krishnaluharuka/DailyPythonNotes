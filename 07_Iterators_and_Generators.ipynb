{
 "cells": [
  {
   "cell_type": "markdown",
   "id": "8c79b12f",
   "metadata": {
    "id": "ScPjc_AIXN8g"
   },
   "source": [
    "# Iterators and Generators"
   ]
  },
  {
   "cell_type": "markdown",
   "id": "5bccdc77",
   "metadata": {
    "id": "oTaqnTJiXSt1"
   },
   "source": [
    "An iterable is any python object/ sequential str that is capable of returning its member one at a time."
   ]
  },
  {
   "cell_type": "code",
   "execution_count": null,
   "id": "8d5688ef",
   "metadata": {
    "id": "WBDIrYQQXSEb"
   },
   "outputs": [],
   "source": [
    "# permitting it to be iterated over in a for loop\n",
    "# examples >> List, tuples"
   ]
  },
  {
   "cell_type": "code",
   "execution_count": null,
   "id": "35e91c8f",
   "metadata": {
    "colab": {
     "base_uri": "https://localhost:8080/"
    },
    "id": "WNhJrhTlXs5W",
    "outputId": "a6ef4c98-77f8-433e-81e2-62167c79a442"
   },
   "outputs": [
    {
     "name": "stdout",
     "output_type": "stream",
     "text": [
      "1\n",
      "2\n",
      "Ajay\n"
     ]
    }
   ],
   "source": [
    "lis = [1,2,\"Ajay\"] #list is an iterable object\n",
    "for i in lis:\n",
    "    print(i)"
   ]
  },
  {
   "cell_type": "markdown",
   "id": "726deb5f",
   "metadata": {
    "id": "C-ogv3iEYCma"
   },
   "source": [
    "**Iteration **\n",
    "- A process of looping through the elements for an iterable using a loop\n",
    "- Process of returning the elements one by one"
   ]
  },
  {
   "cell_type": "code",
   "execution_count": null,
   "id": "840e04ea",
   "metadata": {
    "colab": {
     "base_uri": "https://localhost:8080/"
    },
    "id": "KMbaOjnyXxwL",
    "outputId": "c3c8ce83-5b8e-4c70-bfaa-4b26e5634ac0"
   },
   "outputs": [
    {
     "name": "stdout",
     "output_type": "stream",
     "text": [
      "p\n",
      "w\n",
      "s\n",
      "k\n",
      "i\n",
      "l\n",
      "l\n",
      "s\n"
     ]
    }
   ],
   "source": [
    "for i in \"pwskills\":\n",
    "    print(i)"
   ]
  },
  {
   "cell_type": "markdown",
   "id": "22e15265",
   "metadata": {
    "id": "B8vdfzNmYfPF"
   },
   "source": [
    "**Iterator**\n",
    "- An iterator is an object representing a stream of data  and return the data one by one.\n",
    "- Analogy :\n",
    "- potato (iterable) can not be cooked in original form. Chop and wash to make it ready for cooking. >> Iterator.\n",
    "- The processing of cooking is iteration"
   ]
  },
  {
   "cell_type": "code",
   "execution_count": null,
   "id": "abe9acb2",
   "metadata": {
    "colab": {
     "base_uri": "https://localhost:8080/"
    },
    "id": "jpvJWPXPYZ44",
    "outputId": "8b06a9df-6262-4992-c268-e18a3715a714"
   },
   "outputs": [
    {
     "name": "stdout",
     "output_type": "stream",
     "text": [
      "P\n",
      "r\n",
      "a\n",
      "g\n",
      "a\n",
      "t\n",
      "i\n"
     ]
    }
   ],
   "source": [
    "s=\"Pragati\" # string is iterable\n",
    "for i in s:\n",
    "    print(i)"
   ]
  },
  {
   "cell_type": "code",
   "execution_count": null,
   "id": "2488ef7c",
   "metadata": {
    "colab": {
     "base_uri": "https://localhost:8080/"
    },
    "id": "YAswfzmUx_YI",
    "outputId": "2aa674fe-49be-4fc8-ebf7-f3819a69de45"
   },
   "outputs": [
    {
     "data": {
      "text/plain": [
       "<str_ascii_iterator at 0x7b445be8c730>"
      ]
     },
     "execution_count": 4,
     "metadata": {},
     "output_type": "execute_result"
    }
   ],
   "source": [
    "# python >> can i prepare s for iteration\n",
    "\n",
    "iter(s) # ready to be iterated"
   ]
  },
  {
   "cell_type": "code",
   "execution_count": null,
   "id": "6445111e",
   "metadata": {
    "colab": {
     "base_uri": "https://localhost:8080/"
    },
    "id": "STbp3jFCynHV",
    "outputId": "e7e5da11-9c54-4133-8077-f3bf97c81e04"
   },
   "outputs": [
    {
     "data": {
      "text/plain": [
       "<str_ascii_iterator at 0x7b445be8e6b0>"
      ]
     },
     "execution_count": 6,
     "metadata": {},
     "output_type": "execute_result"
    }
   ],
   "source": [
    "a=iter(s)\n",
    "a"
   ]
  },
  {
   "cell_type": "code",
   "execution_count": null,
   "id": "2b2af79c",
   "metadata": {
    "colab": {
     "base_uri": "https://localhost:8080/",
     "height": 35
    },
    "id": "qVWWH7cFyxYw",
    "outputId": "545d8dea-27a3-4f0b-94cf-08237c62fc56"
   },
   "outputs": [
    {
     "data": {
      "application/vnd.google.colaboratory.intrinsic+json": {
       "type": "string"
      },
      "text/plain": [
       "'P'"
      ]
     },
     "execution_count": 7,
     "metadata": {},
     "output_type": "execute_result"
    }
   ],
   "source": [
    "next(a)"
   ]
  },
  {
   "cell_type": "code",
   "execution_count": null,
   "id": "043a7213",
   "metadata": {
    "colab": {
     "base_uri": "https://localhost:8080/",
     "height": 35
    },
    "id": "UqGzI-GryzAW",
    "outputId": "db0f67c4-e181-420c-d785-fd15be4bf370"
   },
   "outputs": [
    {
     "data": {
      "application/vnd.google.colaboratory.intrinsic+json": {
       "type": "string"
      },
      "text/plain": [
       "'r'"
      ]
     },
     "execution_count": 9,
     "metadata": {},
     "output_type": "execute_result"
    }
   ],
   "source": [
    "next(a)"
   ]
  },
  {
   "cell_type": "code",
   "execution_count": null,
   "id": "6b1dfe1e",
   "metadata": {
    "colab": {
     "base_uri": "https://localhost:8080/",
     "height": 35
    },
    "id": "azVIuXily0EV",
    "outputId": "acf39886-f89f-433b-c877-0c86ce19e4e5"
   },
   "outputs": [
    {
     "data": {
      "application/vnd.google.colaboratory.intrinsic+json": {
       "type": "string"
      },
      "text/plain": [
       "'a'"
      ]
     },
     "execution_count": 10,
     "metadata": {},
     "output_type": "execute_result"
    }
   ],
   "source": [
    "next(a)"
   ]
  },
  {
   "cell_type": "code",
   "execution_count": null,
   "id": "f51d4f66",
   "metadata": {
    "colab": {
     "base_uri": "https://localhost:8080/",
     "height": 35
    },
    "id": "wZ2iZ20ty2gS",
    "outputId": "970eb9b8-f4e1-44b6-d2ff-5878a9f0f704"
   },
   "outputs": [
    {
     "data": {
      "application/vnd.google.colaboratory.intrinsic+json": {
       "type": "string"
      },
      "text/plain": [
       "'g'"
      ]
     },
     "execution_count": 11,
     "metadata": {},
     "output_type": "execute_result"
    }
   ],
   "source": [
    "next(a)"
   ]
  },
  {
   "cell_type": "markdown",
   "id": "1e546bc7",
   "metadata": {
    "id": "zP-589WTzEoO"
   },
   "source": [
    "- first converting the iterable string to iterator object (using iter) and then access uisng next"
   ]
  },
  {
   "cell_type": "code",
   "execution_count": null,
   "id": "96c774f6",
   "metadata": {
    "colab": {
     "base_uri": "https://localhost:8080/"
    },
    "id": "cxBdPGHVy7eb",
    "outputId": "3d1319c6-5bf7-431d-fa1c-e5636f5aa335"
   },
   "outputs": [
    {
     "data": {
      "text/plain": [
       "<list_iterator at 0x7b445be8dea0>"
      ]
     },
     "execution_count": 12,
     "metadata": {},
     "output_type": "execute_result"
    }
   ],
   "source": [
    "a=iter([1,2,3,4,5])\n",
    "a"
   ]
  },
  {
   "cell_type": "code",
   "execution_count": null,
   "id": "9b473377",
   "metadata": {
    "colab": {
     "base_uri": "https://localhost:8080/"
    },
    "id": "OYX9PaFezkFH",
    "outputId": "a49995c2-087c-4e30-9523-f6fc299ca2cf"
   },
   "outputs": [
    {
     "data": {
      "text/plain": [
       "1"
      ]
     },
     "execution_count": 13,
     "metadata": {},
     "output_type": "execute_result"
    }
   ],
   "source": [
    "next(a)"
   ]
  },
  {
   "cell_type": "code",
   "execution_count": null,
   "id": "77d5e696",
   "metadata": {
    "colab": {
     "base_uri": "https://localhost:8080/"
    },
    "id": "r2li7B50zlxJ",
    "outputId": "e7ba6b22-21f5-4349-d231-3b39d8c8e280"
   },
   "outputs": [
    {
     "data": {
      "text/plain": [
       "2"
      ]
     },
     "execution_count": 14,
     "metadata": {},
     "output_type": "execute_result"
    }
   ],
   "source": [
    "next(a)"
   ]
  },
  {
   "cell_type": "code",
   "execution_count": null,
   "id": "a8ade349",
   "metadata": {
    "colab": {
     "base_uri": "https://localhost:8080/"
    },
    "id": "uDSaXewDzm4v",
    "outputId": "429ff07d-207e-42b6-d6c2-4b45fafa037a"
   },
   "outputs": [
    {
     "data": {
      "text/plain": [
       "<tuple_iterator at 0x7b445be8e770>"
      ]
     },
     "execution_count": 15,
     "metadata": {},
     "output_type": "execute_result"
    }
   ],
   "source": [
    "t=iter((5,6,7,8))\n",
    "t"
   ]
  },
  {
   "cell_type": "code",
   "execution_count": null,
   "id": "d73004f1",
   "metadata": {
    "colab": {
     "base_uri": "https://localhost:8080/"
    },
    "id": "Lk7cFY7hz3hf",
    "outputId": "2381c3c6-efc5-4d59-ad96-f9353425dad2"
   },
   "outputs": [
    {
     "data": {
      "text/plain": [
       "5"
      ]
     },
     "execution_count": 16,
     "metadata": {},
     "output_type": "execute_result"
    }
   ],
   "source": [
    "next(t)"
   ]
  },
  {
   "cell_type": "code",
   "execution_count": null,
   "id": "ca0a8e56",
   "metadata": {
    "colab": {
     "base_uri": "https://localhost:8080/"
    },
    "id": "okjo4d1Cz60z",
    "outputId": "b2fd857c-c861-41df-db4f-4bb2e36dcda9"
   },
   "outputs": [
    {
     "data": {
      "text/plain": [
       "6"
      ]
     },
     "execution_count": 17,
     "metadata": {},
     "output_type": "execute_result"
    }
   ],
   "source": [
    "next(t)"
   ]
  },
  {
   "cell_type": "code",
   "execution_count": null,
   "id": "9ca4b903",
   "metadata": {
    "colab": {
     "base_uri": "https://localhost:8080/"
    },
    "id": "Ht1oJ_Fqz78B",
    "outputId": "9a71f79d-f17e-4ad7-9d3f-fcb802949156"
   },
   "outputs": [
    {
     "data": {
      "text/plain": [
       "7"
      ]
     },
     "execution_count": 18,
     "metadata": {},
     "output_type": "execute_result"
    }
   ],
   "source": [
    "next(t)"
   ]
  },
  {
   "cell_type": "code",
   "execution_count": null,
   "id": "206f796f",
   "metadata": {
    "colab": {
     "base_uri": "https://localhost:8080/"
    },
    "id": "5PvCsKk9z8_T",
    "outputId": "e1d4a09d-ca8e-4ea7-d8a8-e39c6fbdbd29"
   },
   "outputs": [
    {
     "data": {
      "text/plain": [
       "8"
      ]
     },
     "execution_count": 19,
     "metadata": {},
     "output_type": "execute_result"
    }
   ],
   "source": [
    "next(t)"
   ]
  },
  {
   "cell_type": "code",
   "execution_count": null,
   "id": "89444890",
   "metadata": {
    "colab": {
     "base_uri": "https://localhost:8080/"
    },
    "id": "HDPPVfwEz-7y",
    "outputId": "a9706196-e6e3-4e5b-d192-772ed9afeddf"
   },
   "outputs": [
    {
     "data": {
      "text/plain": [
       "<set_iterator at 0x7b445b5b16c0>"
      ]
     },
     "execution_count": 21,
     "metadata": {},
     "output_type": "execute_result"
    }
   ],
   "source": [
    "r=iter({1,2,3,4,5})\n",
    "r"
   ]
  },
  {
   "cell_type": "code",
   "execution_count": null,
   "id": "4caa7b51",
   "metadata": {
    "colab": {
     "base_uri": "https://localhost:8080/"
    },
    "id": "esdLmlRu0DSX",
    "outputId": "a4eabece-994c-4a33-c314-f8e2496b51ce"
   },
   "outputs": [
    {
     "data": {
      "text/plain": [
       "1"
      ]
     },
     "execution_count": 22,
     "metadata": {},
     "output_type": "execute_result"
    }
   ],
   "source": [
    "next(r)"
   ]
  },
  {
   "cell_type": "code",
   "execution_count": null,
   "id": "0ae04a49",
   "metadata": {
    "colab": {
     "base_uri": "https://localhost:8080/"
    },
    "id": "ZUUjlMmf0GF8",
    "outputId": "1e7812b0-608f-482f-abae-732a50f71b9d"
   },
   "outputs": [
    {
     "data": {
      "text/plain": [
       "2"
      ]
     },
     "execution_count": 23,
     "metadata": {},
     "output_type": "execute_result"
    }
   ],
   "source": [
    "next(r)"
   ]
  },
  {
   "cell_type": "code",
   "execution_count": null,
   "id": "63e51a49",
   "metadata": {
    "colab": {
     "base_uri": "https://localhost:8080/"
    },
    "id": "evNAWY8P0G_W",
    "outputId": "5a110ba6-0d5a-4c73-bb3d-7a12d2966cc7"
   },
   "outputs": [
    {
     "data": {
      "text/plain": [
       "<dict_keyiterator at 0x7b445b5bf510>"
      ]
     },
     "execution_count": 24,
     "metadata": {},
     "output_type": "execute_result"
    }
   ],
   "source": [
    "d=iter({\"name\":\"Prag\"})\n",
    "d"
   ]
  },
  {
   "cell_type": "code",
   "execution_count": null,
   "id": "f030a916",
   "metadata": {
    "colab": {
     "base_uri": "https://localhost:8080/",
     "height": 35
    },
    "id": "2YVk0Rsl0NHy",
    "outputId": "937a6d10-e4fb-4a78-9d6f-20d114d45e4b"
   },
   "outputs": [
    {
     "data": {
      "application/vnd.google.colaboratory.intrinsic+json": {
       "type": "string"
      },
      "text/plain": [
       "'name'"
      ]
     },
     "execution_count": 25,
     "metadata": {},
     "output_type": "execute_result"
    }
   ],
   "source": [
    "next(d)"
   ]
  },
  {
   "cell_type": "markdown",
   "id": "2baf56a4",
   "metadata": {
    "id": "gMI3i5qG0V46"
   },
   "source": [
    "## Generator function"
   ]
  },
  {
   "cell_type": "code",
   "execution_count": null,
   "id": "cd67c1c3",
   "metadata": {
    "colab": {
     "base_uri": "https://localhost:8080/"
    },
    "id": "KXeireSy0ON1",
    "outputId": "aacb19d1-d839-4809-a0dd-985819fdb3d7"
   },
   "outputs": [
    {
     "data": {
      "text/plain": [
       "[25, 100, 225]"
      ]
     },
     "execution_count": 27,
     "metadata": {},
     "output_type": "execute_result"
    }
   ],
   "source": [
    "# regular function >> takes a list and gives square of each of the list\n",
    "def square_number(n):\n",
    "    result = []\n",
    "    for i in n:\n",
    "        result.append(i**2)\n",
    "    return result\n",
    "square_number([5,10,15])"
   ]
  },
  {
   "cell_type": "code",
   "execution_count": null,
   "id": "93fbc59c",
   "metadata": {
    "colab": {
     "base_uri": "https://localhost:8080/"
    },
    "id": "b0Xt2SJ60zad",
    "outputId": "edb8df5e-1cd2-4ea8-f603-88b4ecf41808"
   },
   "outputs": [
    {
     "data": {
      "text/plain": [
       "[0,\n",
       " 1,\n",
       " 4,\n",
       " 9,\n",
       " 16,\n",
       " 25,\n",
       " 36,\n",
       " 49,\n",
       " 64,\n",
       " 81,\n",
       " 100,\n",
       " 121,\n",
       " 144,\n",
       " 169,\n",
       " 196,\n",
       " 225,\n",
       " 256,\n",
       " 289,\n",
       " 324,\n",
       " 361]"
      ]
     },
     "execution_count": 32,
     "metadata": {},
     "output_type": "execute_result"
    }
   ],
   "source": [
    "# regular function calculates the square of the values and return it in one go\n",
    "# since its returning in one go >> memory usage will be more\n",
    "# it will take a lot of execution time if there is lot of computation\n",
    "# as all the computation will be done first and then the calculator will return in one go\n",
    "def square_number(n):\n",
    "    result = []\n",
    "    for i in range(n):\n",
    "        result.append(i**2)\n",
    "    return result\n",
    "square_number(20)"
   ]
  },
  {
   "cell_type": "markdown",
   "id": "43576db1",
   "metadata": {
    "id": "Yh_tw94y2gqE"
   },
   "source": [
    "- To generate result one by one instead of one go"
   ]
  },
  {
   "cell_type": "markdown",
   "id": "5698f24c",
   "metadata": {
    "id": "bptIJayU2ol1"
   },
   "source": [
    "- using keyword yield >> general function uses return staement but a generator function uses yield"
   ]
  },
  {
   "cell_type": "code",
   "execution_count": null,
   "id": "d9dff379",
   "metadata": {
    "colab": {
     "base_uri": "https://localhost:8080/"
    },
    "id": "FGKcq73s1Qau",
    "outputId": "c9a5df38-b6e1-4eac-90ae-dc79cfd4d08e"
   },
   "outputs": [
    {
     "data": {
      "text/plain": [
       "<generator object square_number at 0x7b445b52b440>"
      ]
     },
     "execution_count": 35,
     "metadata": {},
     "output_type": "execute_result"
    }
   ],
   "source": [
    "# using generator\n",
    "def square_number(n):\n",
    "    for i in range(n):\n",
    "        yield i**2\n",
    "square_number(5) # iterator object"
   ]
  },
  {
   "cell_type": "code",
   "execution_count": null,
   "id": "139d12ca",
   "metadata": {
    "colab": {
     "base_uri": "https://localhost:8080/"
    },
    "id": "xZoGDKSS3C0h",
    "outputId": "ca589d76-5227-41a3-b68e-6bfb2383cdf7"
   },
   "outputs": [
    {
     "data": {
      "text/plain": [
       "<generator object square_number at 0x7b445b52bb90>"
      ]
     },
     "execution_count": 36,
     "metadata": {},
     "output_type": "execute_result"
    }
   ],
   "source": [
    "gen= square_number(5)\n",
    "gen"
   ]
  },
  {
   "cell_type": "code",
   "execution_count": null,
   "id": "d18636e5",
   "metadata": {
    "colab": {
     "base_uri": "https://localhost:8080/"
    },
    "id": "BWPLB-v93ghe",
    "outputId": "4d502e77-ba91-4653-9348-7d0fff2de5e1"
   },
   "outputs": [
    {
     "data": {
      "text/plain": [
       "0"
      ]
     },
     "execution_count": 37,
     "metadata": {},
     "output_type": "execute_result"
    }
   ],
   "source": [
    "next(gen)"
   ]
  },
  {
   "cell_type": "code",
   "execution_count": null,
   "id": "32da36f3",
   "metadata": {
    "colab": {
     "base_uri": "https://localhost:8080/"
    },
    "id": "2n-pbqI63h-1",
    "outputId": "48778174-e904-44cc-e9b0-6e8be9820588"
   },
   "outputs": [
    {
     "data": {
      "text/plain": [
       "1"
      ]
     },
     "execution_count": 38,
     "metadata": {},
     "output_type": "execute_result"
    }
   ],
   "source": [
    "next(gen)"
   ]
  },
  {
   "cell_type": "code",
   "execution_count": null,
   "id": "5c853cdd",
   "metadata": {
    "colab": {
     "base_uri": "https://localhost:8080/"
    },
    "id": "gJkeeA3Y3mSC",
    "outputId": "1aca04f4-ed6e-46d1-c7f1-8625a64d3a20"
   },
   "outputs": [
    {
     "data": {
      "text/plain": [
       "4"
      ]
     },
     "execution_count": 39,
     "metadata": {},
     "output_type": "execute_result"
    }
   ],
   "source": [
    "next(gen)"
   ]
  },
  {
   "cell_type": "code",
   "execution_count": null,
   "id": "78d159cf",
   "metadata": {
    "colab": {
     "base_uri": "https://localhost:8080/"
    },
    "id": "FRioamYG3ns1",
    "outputId": "8e32e201-2c92-4fee-8a0d-be3e51f11d3c"
   },
   "outputs": [
    {
     "data": {
      "text/plain": [
       "9"
      ]
     },
     "execution_count": 40,
     "metadata": {},
     "output_type": "execute_result"
    }
   ],
   "source": [
    "next(gen)"
   ]
  },
  {
   "cell_type": "code",
   "execution_count": null,
   "id": "442cbffd",
   "metadata": {
    "colab": {
     "base_uri": "https://localhost:8080/"
    },
    "id": "nmJDcOae3pBc",
    "outputId": "79e0746b-d8f0-413a-fae0-f96e4254cdf8"
   },
   "outputs": [
    {
     "data": {
      "text/plain": [
       "16"
      ]
     },
     "execution_count": 41,
     "metadata": {},
     "output_type": "execute_result"
    }
   ],
   "source": [
    "next(gen)"
   ]
  },
  {
   "cell_type": "code",
   "execution_count": null,
   "id": "bd6f04de",
   "metadata": {
    "colab": {
     "base_uri": "https://localhost:8080/"
    },
    "id": "RLRr1wkQ3qSZ",
    "outputId": "62b95741-a1fc-4d01-e659-62c396f70c75"
   },
   "outputs": [
    {
     "data": {
      "text/plain": [
       "range"
      ]
     },
     "execution_count": 42,
     "metadata": {},
     "output_type": "execute_result"
    }
   ],
   "source": [
    "range(1,10)\n",
    "range"
   ]
  },
  {
   "cell_type": "code",
   "execution_count": null,
   "id": "457b747d",
   "metadata": {
    "colab": {
     "base_uri": "https://localhost:8080/"
    },
    "id": "Ls0VUOXV3ulK",
    "outputId": "062374e1-c7a9-43da-c7ae-d0b3115aec75"
   },
   "outputs": [
    {
     "name": "stdout",
     "output_type": "stream",
     "text": [
      "1\n",
      "2\n",
      "3\n",
      "4\n",
      "5\n",
      "6\n",
      "7\n",
      "8\n",
      "9\n"
     ]
    }
   ],
   "source": [
    "for i in range(1,10):\n",
    "    print(i)"
   ]
  },
  {
   "cell_type": "markdown",
   "id": "d5dd683f",
   "metadata": {
    "id": "Z7OIpL_65FA0"
   },
   "source": [
    "## fibonacci series"
   ]
  },
  {
   "cell_type": "markdown",
   "id": "8100a27c",
   "metadata": {
    "id": "FiwXb15S5KOr"
   },
   "source": [
    "0,1,1,2,3,5,8,13,21..... sum of last two is calculated and going on"
   ]
  },
  {
   "cell_type": "code",
   "execution_count": null,
   "id": "21d23fc1",
   "metadata": {
    "id": "bXd51xBz3ynh"
   },
   "outputs": [],
   "source": [
    "# fibonacci series\n",
    "\n",
    "def fib(n):\n",
    "    a = 0\n",
    "    b = 1\n",
    "    for i in range(n): # n=5 >> 0,1,2,3,4\n",
    "        yield a\n",
    "        a, b = b , a+b"
   ]
  },
  {
   "cell_type": "code",
   "execution_count": null,
   "id": "12e4c603",
   "metadata": {
    "id": "i33LcoIU57V-"
   },
   "outputs": [],
   "source": [
    "f=fib(10)"
   ]
  },
  {
   "cell_type": "code",
   "execution_count": null,
   "id": "b1597dc1",
   "metadata": {
    "colab": {
     "base_uri": "https://localhost:8080/"
    },
    "id": "NUoN-rTd6mxd",
    "outputId": "f66cf8cd-8423-4c38-9992-eaaa483e0c4a"
   },
   "outputs": [
    {
     "data": {
      "text/plain": [
       "<generator object fib at 0x7b445bfd86d0>"
      ]
     },
     "execution_count": 48,
     "metadata": {},
     "output_type": "execute_result"
    }
   ],
   "source": [
    "f"
   ]
  },
  {
   "cell_type": "code",
   "execution_count": null,
   "id": "42d27b43",
   "metadata": {
    "colab": {
     "base_uri": "https://localhost:8080/"
    },
    "id": "19T7GHuL6yeF",
    "outputId": "8739f4a5-114b-4cd1-be88-e3848fed679f"
   },
   "outputs": [
    {
     "data": {
      "text/plain": [
       "0"
      ]
     },
     "execution_count": 49,
     "metadata": {},
     "output_type": "execute_result"
    }
   ],
   "source": [
    "next(f)"
   ]
  },
  {
   "cell_type": "code",
   "execution_count": null,
   "id": "31e762b1",
   "metadata": {
    "colab": {
     "base_uri": "https://localhost:8080/"
    },
    "id": "yVZXOoCe6z2g",
    "outputId": "c2ccc495-292c-4bb1-e769-2c6f245fa060"
   },
   "outputs": [
    {
     "data": {
      "text/plain": [
       "1"
      ]
     },
     "execution_count": 50,
     "metadata": {},
     "output_type": "execute_result"
    }
   ],
   "source": [
    "next(f)"
   ]
  },
  {
   "cell_type": "code",
   "execution_count": null,
   "id": "17ad5a13",
   "metadata": {
    "colab": {
     "base_uri": "https://localhost:8080/"
    },
    "id": "JsHD8-MP609U",
    "outputId": "fded0c58-a1e1-4be7-e030-f626ee5d82f2"
   },
   "outputs": [
    {
     "data": {
      "text/plain": [
       "1"
      ]
     },
     "execution_count": 51,
     "metadata": {},
     "output_type": "execute_result"
    }
   ],
   "source": [
    "next(f)"
   ]
  },
  {
   "cell_type": "code",
   "execution_count": null,
   "id": "453032a1",
   "metadata": {
    "colab": {
     "base_uri": "https://localhost:8080/"
    },
    "id": "ngrY5N8c62FA",
    "outputId": "06fccc9f-392a-4c05-f0a0-0dd4bde08e14"
   },
   "outputs": [
    {
     "data": {
      "text/plain": [
       "2"
      ]
     },
     "execution_count": 52,
     "metadata": {},
     "output_type": "execute_result"
    }
   ],
   "source": [
    "next(f)"
   ]
  },
  {
   "cell_type": "code",
   "execution_count": null,
   "id": "22d14fc8",
   "metadata": {
    "colab": {
     "base_uri": "https://localhost:8080/"
    },
    "id": "MSOdBsI363J5",
    "outputId": "caccacce-9300-4b8c-e9eb-7a49918604a5"
   },
   "outputs": [
    {
     "data": {
      "text/plain": [
       "3"
      ]
     },
     "execution_count": 53,
     "metadata": {},
     "output_type": "execute_result"
    }
   ],
   "source": [
    "next(f)"
   ]
  },
  {
   "cell_type": "code",
   "execution_count": null,
   "id": "36a933b0",
   "metadata": {
    "colab": {
     "base_uri": "https://localhost:8080/"
    },
    "id": "ZCr-RQuM64SC",
    "outputId": "647fa36f-867c-4c79-8e97-2aff7c93131c"
   },
   "outputs": [
    {
     "name": "stdout",
     "output_type": "stream",
     "text": [
      "1\n",
      "1\n",
      "2\n",
      "3\n",
      "5\n",
      "8\n",
      "13\n",
      "21\n",
      "34\n",
      "55\n"
     ]
    }
   ],
   "source": [
    "a=0\n",
    "b=1\n",
    "for i in range(10):\n",
    "    a, b= b, a+b\n",
    "    i+=1\n",
    "    print(a)\n"
   ]
  }
 ],
 "metadata": {},
 "nbformat": 4,
 "nbformat_minor": 5
}
