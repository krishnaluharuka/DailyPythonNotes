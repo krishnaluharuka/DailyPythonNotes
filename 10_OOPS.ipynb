{
 "cells": [
  {
   "cell_type": "markdown",
   "id": "0b1e3905",
   "metadata": {
    "id": "q1_JxgCGlrqK"
   },
   "source": [
    "# OOPS"
   ]
  },
  {
   "cell_type": "markdown",
   "id": "99ad90ee",
   "metadata": {
    "id": "tCLRUcqWptDE"
   },
   "source": [
    "Object Oriented Programming System << A way to programming python"
   ]
  },
  {
   "cell_type": "code",
   "execution_count": 1,
   "id": "660999ff",
   "metadata": {
    "colab": {
     "base_uri": "https://localhost:8080/"
    },
    "id": "GYxqIIxBmGW2",
    "outputId": "4e036bce-7d0e-493f-86c9-4e1cdc7aa00b"
   },
   "outputs": [
    {
     "data": {
      "text/plain": [
       "5"
      ]
     },
     "execution_count": 1,
     "metadata": {},
     "output_type": "execute_result"
    }
   ],
   "source": [
    "a = 5\n",
    "a"
   ]
  },
  {
   "cell_type": "code",
   "execution_count": 2,
   "id": "8f8c0fba",
   "metadata": {
    "colab": {
     "base_uri": "https://localhost:8080/"
    },
    "id": "r60T7n3sp2Uk",
    "outputId": "4cd30096-492d-4a71-b877-e95a70702399"
   },
   "outputs": [
    {
     "data": {
      "text/plain": [
       "int"
      ]
     },
     "execution_count": 2,
     "metadata": {},
     "output_type": "execute_result"
    }
   ],
   "source": [
    "type(a)"
   ]
  },
  {
   "cell_type": "code",
   "execution_count": 3,
   "id": "9af8122f",
   "metadata": {
    "colab": {
     "base_uri": "https://localhost:8080/"
    },
    "id": "bRPZCqfgp8ex",
    "outputId": "9df1dbbf-6314-4c1b-de52-bb342491cf3a"
   },
   "outputs": [
    {
     "name": "stdout",
     "output_type": "stream",
     "text": [
      "<class 'int'>\n"
     ]
    }
   ],
   "source": [
    "print(type(a))"
   ]
  },
  {
   "cell_type": "code",
   "execution_count": null,
   "id": "602e474c",
   "metadata": {
    "id": "k93qSldgu4rl"
   },
   "outputs": [],
   "source": []
  },
  {
   "cell_type": "code",
   "execution_count": 4,
   "id": "69d544aa",
   "metadata": {
    "colab": {
     "base_uri": "https://localhost:8080/"
    },
    "id": "YyvYJ21ap_Nq",
    "outputId": "095cee27-49a8-4e65-f341-91a139c58197"
   },
   "outputs": [
    {
     "name": "stdout",
     "output_type": "stream",
     "text": [
      "<class 'str'>\n"
     ]
    }
   ],
   "source": [
    "s = \"abc\"\n",
    "print(type(s))"
   ]
  },
  {
   "cell_type": "markdown",
   "id": "6e4883b0",
   "metadata": {
    "id": "zvC6WCOIuvpE"
   },
   "source": [
    "## Class"
   ]
  },
  {
   "cell_type": "markdown",
   "id": "416ee869",
   "metadata": {
    "id": "m4p4c2Hyuxu-"
   },
   "source": [
    "- Blueprint of template of creating objects"
   ]
  },
  {
   "cell_type": "markdown",
   "id": "5d41a91b",
   "metadata": {},
   "source": [
    "Examples\n",
    "- We are different objects of class human being\n",
    "- Gujhiya maker / Thekua maker/ "
   ]
  },
  {
   "cell_type": "code",
   "execution_count": 3,
   "id": "085ebcec",
   "metadata": {
    "id": "L6ttMf65qFQn"
   },
   "outputs": [],
   "source": [
    "class Car:  # naming convention >> upperCamelCase\n",
    "    pass "
   ]
  },
  {
   "cell_type": "code",
   "execution_count": 4,
   "id": "25e8296a",
   "metadata": {},
   "outputs": [],
   "source": [
    "c1 = Car() # instance / object"
   ]
  },
  {
   "cell_type": "code",
   "execution_count": 5,
   "id": "953e9e47",
   "metadata": {},
   "outputs": [
    {
     "name": "stdout",
     "output_type": "stream",
     "text": [
      "<class '__main__.Car'>\n"
     ]
    }
   ],
   "source": [
    "print(type(c1))"
   ]
  }
 ],
 "metadata": {},
 "nbformat": 4,
 "nbformat_minor": 5
}
