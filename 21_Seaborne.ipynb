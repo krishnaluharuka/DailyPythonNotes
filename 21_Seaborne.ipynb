{
 "cells": [
  {
   "cell_type": "markdown",
   "id": "953183cb",
   "metadata": {},
   "source": [
    "# Introduction on Seaborn"
   ]
  },
  {
   "cell_type": "markdown",
   "id": "15daa4df",
   "metadata": {},
   "source": [
    "Seaborn is a Python data visualization library built on top of Matplotlib.\n",
    "\n",
    "It comes with prettier default styles and is optimized for statistical plots.\n",
    "\n",
    "Makes it easier to create informative, attractive, and complex plots with less code."
   ]
  },
  {
   "cell_type": "markdown",
   "id": "3bbc4847",
   "metadata": {},
   "source": [
    "## Uses "
   ]
  },
  {
   "cell_type": "markdown",
   "id": "5384a6d2",
   "metadata": {},
   "source": [
    "- Cleaner, modern designs without manually styling.\n",
    "\n",
    "- Built-in statistical functions (like regression lines, distribution plots).\n",
    "\n",
    "- Works directly with Pandas DataFrames (no need to manually extract lists).\n",
    "\n",
    "- Supports themes, color palettes, and automatic legends.\n",
    "\n",
    "- Offers specialized plots that Matplotlib doesn’t have natively.\n",
    "\n"
   ]
  },
  {
   "cell_type": "code",
   "execution_count": null,
   "id": "b8cf413f",
   "metadata": {},
   "outputs": [],
   "source": [
    "%pip install seaborn"
   ]
  },
  {
   "cell_type": "code",
   "execution_count": 3,
   "id": "8fbbe461",
   "metadata": {},
   "outputs": [],
   "source": [
    "import pandas as pd\n",
    "import numpy as np\n",
    "import matplotlib.pyplot as plt\n",
    "import seaborn as sns\n",
    "\n",
    "import warnings\n",
    "warnings.filterwarnings('ignore')"
   ]
  },
  {
   "cell_type": "code",
   "execution_count": null,
   "id": "f10e7a2b",
   "metadata": {},
   "outputs": [],
   "source": []
  }
 ],
 "metadata": {
  "kernelspec": {
   "display_name": "Python 3",
   "language": "python",
   "name": "python3"
  },
  "language_info": {
   "codemirror_mode": {
    "name": "ipython",
    "version": 3
   },
   "file_extension": ".py",
   "mimetype": "text/x-python",
   "name": "python",
   "nbconvert_exporter": "python",
   "pygments_lexer": "ipython3",
   "version": "3.11.9"
  }
 },
 "nbformat": 4,
 "nbformat_minor": 5
}
