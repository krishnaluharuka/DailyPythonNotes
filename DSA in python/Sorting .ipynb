{
 "cells": [
  {
   "cell_type": "markdown",
   "id": "5b2f8a27",
   "metadata": {},
   "source": [
    "# Sorting"
   ]
  },
  {
   "cell_type": "markdown",
   "id": "20463862",
   "metadata": {},
   "source": [
    "Sorting is the process of arranging data in a particular order, usually ascending (small → large) or descending (large → small).\n",
    "\n",
    "It’s like arranging your books on a shelf from shortest to tallest or lining up your friends from youngest to oldest. 📚👫"
   ]
  },
  {
   "cell_type": "markdown",
   "id": "e4be4890",
   "metadata": {},
   "source": [
    "## Why Sorting is Important?\n",
    "\n",
    "- Helps in searching efficiently (like binary search). 🔍\n",
    "\n",
    "- Makes data organized and readable.\n",
    "\n",
    "- Essential for DSA problems like finding pairs, duplicates, or max/min efficiently."
   ]
  },
  {
   "cell_type": "markdown",
   "id": "f445c7c7",
   "metadata": {},
   "source": [
    "## Sorting Table"
   ]
  },
  {
   "cell_type": "markdown",
   "id": "5a1d5f3a",
   "metadata": {},
   "source": [
    "| Sorting Method      | Concept                                                                              | Pythonic Example              |\n",
    "| ------------------- | ------------------------------------------------------------------------------------ | ----------------------------- |\n",
    "| **Bubble Sort**     | Compare adjacent elements and swap if out of order; repeat.                          | See below                     |\n",
    "| **Selection Sort**  | Find the minimum (or maximum) and place it at the correct position.                  | See below                     |\n",
    "| **Insertion Sort**  | Pick an element and insert it at its correct position among already sorted elements. | See below                     |\n",
    "| **Python Built-in** | Python’s `sort()` or `sorted()` use TimSort internally (super efficient).            | `arr.sort()` or `sorted(arr)` |\n"
   ]
  },
  {
   "cell_type": "markdown",
   "id": "2018174e",
   "metadata": {},
   "source": [
    "## Bubble Sort Code"
   ]
  },
  {
   "cell_type": "code",
   "execution_count": 1,
   "id": "54c11c4a",
   "metadata": {},
   "outputs": [
    {
     "name": "stdout",
     "output_type": "stream",
     "text": [
      "[1, 2, 5, 5, 9]\n"
     ]
    }
   ],
   "source": [
    "def bubble_sort(arr):\n",
    "    n = len(arr)\n",
    "    for i in range(n):\n",
    "        for j in range(0, n-i-1):\n",
    "            if arr[j] > arr[j+1]:\n",
    "                arr[j], arr[j+1] = arr[j+1], arr[j]  # Swap\n",
    "    return arr\n",
    "\n",
    "nums = [5, 2, 9, 1, 5]\n",
    "print(bubble_sort(nums))  # Output: [1, 2, 5, 5, 9]\n"
   ]
  },
  {
   "cell_type": "markdown",
   "id": "ed38fa5e",
   "metadata": {},
   "source": [
    "Intuition: Big numbers “bubble up” to the end. 🛁💨"
   ]
  },
  {
   "cell_type": "markdown",
   "id": "0714758a",
   "metadata": {},
   "source": [
    "## Selection Sort Code"
   ]
  },
  {
   "cell_type": "code",
   "execution_count": 2,
   "id": "c8448cb1",
   "metadata": {},
   "outputs": [
    {
     "name": "stdout",
     "output_type": "stream",
     "text": [
      "[11, 12, 22, 25, 64]\n"
     ]
    }
   ],
   "source": [
    "def selection_sort(arr):\n",
    "    n = len(arr)\n",
    "    for i in range(n):\n",
    "        min_idx = i\n",
    "        for j in range(i+1, n):\n",
    "            if arr[j] < arr[min_idx]:\n",
    "                min_idx = j\n",
    "        arr[i], arr[min_idx] = arr[min_idx], arr[i]\n",
    "    return arr\n",
    "\n",
    "nums = [64, 25, 12, 22, 11]\n",
    "print(selection_sort(nums))  # Output: [11, 12, 22, 25, 64]\n"
   ]
  },
  {
   "cell_type": "markdown",
   "id": "9562fd3c",
   "metadata": {},
   "source": [
    "Intuition: Pick the smallest remaining element and put it in the correct place. 🏆"
   ]
  },
  {
   "cell_type": "markdown",
   "id": "b4f895e6",
   "metadata": {},
   "source": [
    "## Insertion Sort"
   ]
  },
  {
   "cell_type": "code",
   "execution_count": 3,
   "id": "73fbc71b",
   "metadata": {},
   "outputs": [
    {
     "name": "stdout",
     "output_type": "stream",
     "text": [
      "[5, 6, 11, 12, 13]\n"
     ]
    }
   ],
   "source": [
    "def insertion_sort(arr):\n",
    "    for i in range(1, len(arr)):\n",
    "        key = arr[i]\n",
    "        j = i-1\n",
    "        while j >= 0 and arr[j] > key:\n",
    "            arr[j+1] = arr[j]\n",
    "            j -= 1\n",
    "        arr[j+1] = key\n",
    "    return arr\n",
    "\n",
    "nums = [12, 11, 13, 5, 6]\n",
    "print(insertion_sort(nums))  # Output: [5, 6, 11, 12, 13]\n"
   ]
  },
  {
   "cell_type": "markdown",
   "id": "b9da8f58",
   "metadata": {},
   "source": [
    "Intuition: Take one element at a time and insert it into the right place among sorted elements. ✨"
   ]
  },
  {
   "cell_type": "markdown",
   "id": "a5b2ec6b",
   "metadata": {},
   "source": [
    "## Pythonic Way"
   ]
  },
  {
   "cell_type": "code",
   "execution_count": 4,
   "id": "059ecbce",
   "metadata": {},
   "outputs": [
    {
     "name": "stdout",
     "output_type": "stream",
     "text": [
      "[1, 1, 3, 4, 5, 8]\n",
      "[1, 1, 3, 4, 5, 8]\n"
     ]
    }
   ],
   "source": [
    "nums = [3, 1, 4, 1, 5, 8]\n",
    "sorted_nums = sorted(nums)  # Returns a new sorted list\n",
    "nums.sort()                  # Sorts the list in-place\n",
    "print(sorted_nums)  # [1, 1, 3, 4, 5, 9]\n",
    "print(nums)         # [1, 1, 3, 4, 5, 9]\n"
   ]
  },
  {
   "cell_type": "markdown",
   "id": "36d188c9",
   "metadata": {},
   "source": [
    "Intuition: Python handles it all for you with TimSort — efficient and elegant. 💖"
   ]
  },
  {
   "cell_type": "markdown",
   "id": "ac5d97c9",
   "metadata": {},
   "source": [
    "# Time Complexity"
   ]
  },
  {
   "cell_type": "markdown",
   "id": "1fb63664",
   "metadata": {},
   "source": [
    "| Algorithm       | Best Case | Worst Case | Space |\n",
    "| --------------- | --------- | ---------- | ----- |\n",
    "| Bubble Sort     | O(n)      | O(n²)      | O(1)  |\n",
    "| Selection Sort  | O(n²)     | O(n²)      | O(1)  |\n",
    "| Insertion Sort  | O(n)      | O(n²)      | O(1)  |\n",
    "| Python `sort()` | O(n)      | O(n log n) | O(n)  |\n"
   ]
  },
  {
   "cell_type": "code",
   "execution_count": null,
   "id": "1e170dc4",
   "metadata": {},
   "outputs": [],
   "source": []
  }
 ],
 "metadata": {
  "kernelspec": {
   "display_name": "Python 3",
   "language": "python",
   "name": "python3"
  },
  "language_info": {
   "codemirror_mode": {
    "name": "ipython",
    "version": 3
   },
   "file_extension": ".py",
   "mimetype": "text/x-python",
   "name": "python",
   "nbconvert_exporter": "python",
   "pygments_lexer": "ipython3",
   "version": "3.13.5"
  }
 },
 "nbformat": 4,
 "nbformat_minor": 5
}
