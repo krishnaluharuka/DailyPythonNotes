{
  "cells": [
    {
      "cell_type": "markdown",
      "metadata": {
        "id": "o2xLAkzCQjdP"
      },
      "source": [
        "# Introduction to programming"
      ]
    },
    {
      "cell_type": "markdown",
      "metadata": {
        "id": "fK9EnAkAREdr"
      },
      "source": [
        "Pragramming Language is a formal language which is used for creating instructions for computer or machine to follow.\n",
        "It is set of rules and symbols that define the process of writing computers programme.\n",
        "It is sets of special rules or symbols that you use to give instructions to a computer.\n"
      ]
    },
    {
      "cell_type": "markdown",
      "metadata": {
        "id": "EYLj418xTsLP"
      },
      "source": [
        "## **Why do we study programming language?**\n",
        "1. Interaction with machine/computer\n",
        "2. Software programmes- Websites,applications,etc.\n",
        "3. Embedded devices\n",
        "4. Robotics"
      ]
    },
    {
      "cell_type": "markdown",
      "metadata": {
        "id": "LN_3LD2VUq9N"
      },
      "source": [
        "## **How to learn programming language?**\n",
        "1. Basics\n",
        "2. Syntax\n",
        "3. Data types\n",
        "4. Variables\n",
        "5. Operators\n",
        "6. Statements\n",
        "7. Functions\n",
        "8. Modules"
      ]
    },
    {
      "cell_type": "markdown",
      "metadata": {
        "id": "Z0uUBpqmVSon"
      },
      "source": [
        "## Why Python?\n",
        "1. Widely used in industry on worldwide level\n",
        "2. Used in Data industry---- R<<< Python\n",
        "3. A lot of libraries.\n",
        "4. Frontend, Backend Data analysis\n",
        "5. Automation\n",
        "6. Simple & Dynamically types << No need to declare variable type like in C++\n",
        "7. Robust << Handles the error very effectively\n",
        "8. Supports multiple programming paradigms ( Procedure Oriented + Object Oriented) << Combine data and functionality.\n",
        "9. Compiler as well as interpretor << Compilation part is hidden from programmer.\n",
        "10. Cross plateform << used on Windows, MacOs, Linux , etc.\n",
        "11. Extensible << we can call C++, Java using python itself.\n",
        "A. Ease of learning\n",
        "B. Versatility << Web Development, ML, etc.\n",
        "C. Active Community\n"
      ]
    },
    {
      "cell_type": "markdown",
      "metadata": {
        "id": "ZXUrw1YIVqLc"
      },
      "source": [
        "- Code<< Instructions provided to machine.\n",
        "- IDE<< Integrated Development Environment Software<< we need plateform (Environment) to execute codes<< VS Code,PyCharm,GoogleColab, etc.\n",
        "- Computer(Python) will execute code directly using IDE."
      ]
    },
    {
      "cell_type": "markdown",
      "metadata": {
        "id": "bCRicWJqV0xn"
      },
      "source": [
        "- Python\n",
        "- A programming language developed by Gycid Van Rossum in 1991."
      ]
    },
    {
      "cell_type": "markdown",
      "metadata": {
        "id": "SBD_0sgyWbVm"
      },
      "source": [
        "- Variables\n",
        "are also called Identifiers<< placeholder where we keep variety of data by which we can use to write logic.\n",
        "\"Variables are reserved memory space for storing values.\"\n",
        "1. Integer<< (int) << 2\n",
        "2. Decimal No.<< (float) << 2.8\n",
        "3. Characters << (string) << \"apple\"\n",
        "4. Boolean Value << (bool) << True/False\n",
        "5. Nothing << (none) << No value to show\n",
        "\n",
        "\n",
        "\n"
      ]
    },
    {
      "cell_type": "code",
      "execution_count": null,
      "metadata": {
        "colab": {
          "base_uri": "https://localhost:8080/"
        },
        "id": "XS4MA5KHVjs2",
        "outputId": "752cd7c0-027e-4c97-c967-6c6a4d918ae9"
      },
      "outputs": [
        {
          "data": {
            "text/plain": [
              "3"
            ]
          },
          "execution_count": 8,
          "metadata": {},
          "output_type": "execute_result"
        }
      ],
      "source": [
        "b=3 #Address for reserved memory\n",
        "b"
      ]
    },
    {
      "cell_type": "markdown",
      "metadata": {
        "id": "ZJFKgkRVYcsc"
      },
      "source": [
        "## Data Types"
      ]
    },
    {
      "cell_type": "code",
      "execution_count": null,
      "metadata": {
        "colab": {
          "base_uri": "https://localhost:8080/"
        },
        "id": "-0P2Mb_LRKvZ",
        "outputId": "1932b966-8cd4-4d4e-f642-6b984aa2c553"
      },
      "outputs": [
        {
          "data": {
            "text/plain": [
              "4"
            ]
          },
          "execution_count": 9,
          "metadata": {},
          "output_type": "execute_result"
        }
      ],
      "source": [
        "a=4\n",
        "a"
      ]
    },
    {
      "cell_type": "code",
      "execution_count": null,
      "metadata": {
        "colab": {
          "base_uri": "https://localhost:8080/"
        },
        "id": "sCDudd7PYip2",
        "outputId": "46af6920-ce85-478b-db07-483da933b883"
      },
      "outputs": [
        {
          "data": {
            "text/plain": [
              "int"
            ]
          },
          "execution_count": 10,
          "metadata": {},
          "output_type": "execute_result"
        }
      ],
      "source": [
        "type(a)"
      ]
    },
    {
      "cell_type": "code",
      "execution_count": null,
      "metadata": {
        "colab": {
          "base_uri": "https://localhost:8080/"
        },
        "id": "6KfJUmUHYj4R",
        "outputId": "42f188c6-2d24-4c31-c5df-d346f0cc535b"
      },
      "outputs": [
        {
          "data": {
            "text/plain": [
              "4.5"
            ]
          },
          "execution_count": 11,
          "metadata": {},
          "output_type": "execute_result"
        }
      ],
      "source": [
        "b=4.5\n",
        "b"
      ]
    },
    {
      "cell_type": "code",
      "execution_count": null,
      "metadata": {
        "colab": {
          "base_uri": "https://localhost:8080/"
        },
        "id": "hVum8_VjYtPT",
        "outputId": "41838302-fea1-49f7-991b-3fe1c44532e3"
      },
      "outputs": [
        {
          "data": {
            "text/plain": [
              "float"
            ]
          },
          "execution_count": 12,
          "metadata": {},
          "output_type": "execute_result"
        }
      ],
      "source": [
        "type(b)"
      ]
    },
    {
      "cell_type": "code",
      "execution_count": null,
      "metadata": {
        "colab": {
          "base_uri": "https://localhost:8080/",
          "height": 35
        },
        "id": "y1Ejv6XxYuc4",
        "outputId": "3a1f3fe0-f842-4bfa-a195-480b387c028d"
      },
      "outputs": [
        {
          "data": {
            "application/vnd.google.colaboratory.intrinsic+json": {
              "type": "string"
            },
            "text/plain": [
              "'Prag'"
            ]
          },
          "execution_count": 13,
          "metadata": {},
          "output_type": "execute_result"
        }
      ],
      "source": [
        "c=\"Prag\"\n",
        "c"
      ]
    },
    {
      "cell_type": "code",
      "execution_count": null,
      "metadata": {
        "colab": {
          "base_uri": "https://localhost:8080/"
        },
        "id": "xdQGHAa_Y0su",
        "outputId": "663d458c-a0f4-49dc-b45c-58fa16d2d557"
      },
      "outputs": [
        {
          "data": {
            "text/plain": [
              "str"
            ]
          },
          "execution_count": 14,
          "metadata": {},
          "output_type": "execute_result"
        }
      ],
      "source": [
        "type(c)"
      ]
    },
    {
      "cell_type": "code",
      "execution_count": null,
      "metadata": {
        "colab": {
          "base_uri": "https://localhost:8080/"
        },
        "id": "FVe_ZsatY1ty",
        "outputId": "b0a80912-af98-4a2a-c802-2a322dc21dd4"
      },
      "outputs": [
        {
          "data": {
            "text/plain": [
              "True"
            ]
          },
          "execution_count": 15,
          "metadata": {},
          "output_type": "execute_result"
        }
      ],
      "source": [
        "d=True\n",
        "d"
      ]
    },
    {
      "cell_type": "code",
      "execution_count": null,
      "metadata": {
        "colab": {
          "base_uri": "https://localhost:8080/"
        },
        "id": "gPWUrwmMY4JP",
        "outputId": "a375a60c-828e-495b-806e-d1d9d7ee9517"
      },
      "outputs": [
        {
          "data": {
            "text/plain": [
              "bool"
            ]
          },
          "execution_count": 16,
          "metadata": {},
          "output_type": "execute_result"
        }
      ],
      "source": [
        "type(d)"
      ]
    },
    {
      "cell_type": "code",
      "execution_count": null,
      "metadata": {
        "colab": {
          "base_uri": "https://localhost:8080/"
        },
        "id": "b-tr8DWBY6Lz",
        "outputId": "01e93cae-ea68-4bbe-c857-4651041360ec"
      },
      "outputs": [
        {
          "data": {
            "text/plain": [
              "1"
            ]
          },
          "execution_count": 17,
          "metadata": {},
          "output_type": "execute_result"
        }
      ],
      "source": [
        "True-False\n"
      ]
    },
    {
      "cell_type": "code",
      "execution_count": null,
      "metadata": {
        "colab": {
          "base_uri": "https://localhost:8080/"
        },
        "id": "RZKCAhQxZPZO",
        "outputId": "dd588f9a-033b-4389-868f-dfe9b9752dc1"
      },
      "outputs": [
        {
          "data": {
            "text/plain": [
              "0"
            ]
          },
          "execution_count": 18,
          "metadata": {},
          "output_type": "execute_result"
        }
      ],
      "source": [
        "True*False"
      ]
    },
    {
      "cell_type": "code",
      "execution_count": null,
      "metadata": {
        "id": "CsprOXGHZr_9"
      },
      "outputs": [],
      "source": [
        "f=None\n",
        "f"
      ]
    },
    {
      "cell_type": "code",
      "execution_count": null,
      "metadata": {
        "colab": {
          "base_uri": "https://localhost:8080/"
        },
        "id": "L-mhbyAGZuzB",
        "outputId": "bc1c8fe3-78eb-4a84-c742-3f98562c9e1b"
      },
      "outputs": [
        {
          "data": {
            "text/plain": [
              "NoneType"
            ]
          },
          "execution_count": 20,
          "metadata": {},
          "output_type": "execute_result"
        }
      ],
      "source": [
        "type(f)"
      ]
    },
    {
      "cell_type": "code",
      "execution_count": null,
      "metadata": {
        "colab": {
          "base_uri": "https://localhost:8080/"
        },
        "id": "ifqPWYKpdM7z",
        "outputId": "690e156d-3ffb-4b76-8736-fe04aa9c692b"
      },
      "outputs": [
        {
          "data": {
            "text/plain": [
              "(5+6j)"
            ]
          },
          "execution_count": 21,
          "metadata": {},
          "output_type": "execute_result"
        }
      ],
      "source": [
        "com=5+6j\n",
        "com"
      ]
    },
    {
      "cell_type": "code",
      "execution_count": null,
      "metadata": {
        "colab": {
          "base_uri": "https://localhost:8080/"
        },
        "id": "oBGpCc-wdPnN",
        "outputId": "d864dfc4-42f3-450c-b5bc-3d3922aca63b"
      },
      "outputs": [
        {
          "data": {
            "text/plain": [
              "complex"
            ]
          },
          "execution_count": 22,
          "metadata": {},
          "output_type": "execute_result"
        }
      ],
      "source": [
        "type(com)"
      ]
    },
    {
      "cell_type": "code",
      "execution_count": null,
      "metadata": {
        "colab": {
          "base_uri": "https://localhost:8080/"
        },
        "id": "zMyPjs3EdUBf",
        "outputId": "f3a8c749-d857-427c-ba89-2c226b567eac"
      },
      "outputs": [
        {
          "data": {
            "text/plain": [
              "5.0"
            ]
          },
          "execution_count": 23,
          "metadata": {},
          "output_type": "execute_result"
        }
      ],
      "source": [
        "com.real"
      ]
    },
    {
      "cell_type": "code",
      "execution_count": null,
      "metadata": {
        "colab": {
          "base_uri": "https://localhost:8080/"
        },
        "id": "Ztbanl_qekwy",
        "outputId": "6217d20d-e396-47c5-c841-89d42ff222c9"
      },
      "outputs": [
        {
          "data": {
            "text/plain": [
              "6.0"
            ]
          },
          "execution_count": 24,
          "metadata": {},
          "output_type": "execute_result"
        }
      ],
      "source": [
        "com.imag"
      ]
    },
    {
      "cell_type": "markdown",
      "metadata": {
        "id": "nBTr3vmbfFu6"
      },
      "source": [
        "## Rules for defining a variable\n",
        "1. Start with letter or underscore\n",
        "2. Never starts with number\n",
        "3. Keywords can never be a variable\n",
        "4. variables are case sensitive"
      ]
    },
    {
      "cell_type": "code",
      "execution_count": null,
      "metadata": {
        "colab": {
          "base_uri": "https://localhost:8080/",
          "height": 35
        },
        "id": "CSCYvhTxevUi",
        "outputId": "942bb6c6-876f-43f9-ef3e-9364e87c8ce9"
      },
      "outputs": [
        {
          "data": {
            "application/vnd.google.colaboratory.intrinsic+json": {
              "type": "string"
            },
            "text/plain": [
              "'Prag'"
            ]
          },
          "execution_count": 25,
          "metadata": {},
          "output_type": "execute_result"
        }
      ],
      "source": [
        "name=\"Prag\"\n",
        "name"
      ]
    },
    {
      "cell_type": "code",
      "execution_count": null,
      "metadata": {
        "colab": {
          "base_uri": "https://localhost:8080/",
          "height": 35
        },
        "id": "DnrigmvKg5xY",
        "outputId": "2526b8ee-3fbd-454b-d795-d85627e797ef"
      },
      "outputs": [
        {
          "data": {
            "application/vnd.google.colaboratory.intrinsic+json": {
              "type": "string"
            },
            "text/plain": [
              "'Anu'"
            ]
          },
          "execution_count": 26,
          "metadata": {},
          "output_type": "execute_result"
        }
      ],
      "source": [
        "_name=\"Anu\"\n",
        "_name"
      ]
    },
    {
      "cell_type": "markdown",
      "metadata": {
        "id": "lJFiCfDihFSj"
      },
      "source": [
        "## Keywords\n",
        "Predefined words that holds a special meaning and specific purpose in programming language.\n",
        "It is fixed and never changed."
      ]
    },
    {
      "cell_type": "code",
      "execution_count": null,
      "metadata": {
        "colab": {
          "base_uri": "https://localhost:8080/"
        },
        "id": "TF02_kTfg8Go",
        "outputId": "ae2c300d-b622-4e75-d69f-aff71dbec327"
      },
      "outputs": [
        {
          "name": "stdout",
          "output_type": "stream",
          "text": [
            "\n",
            "Here is a list of the Python keywords.  Enter any keyword to get more help.\n",
            "\n",
            "False               class               from                or\n",
            "None                continue            global              pass\n",
            "True                def                 if                  raise\n",
            "and                 del                 import              return\n",
            "as                  elif                in                  try\n",
            "assert              else                is                  while\n",
            "async               except              lambda              with\n",
            "await               finally             nonlocal            yield\n",
            "break               for                 not                 \n",
            "\n"
          ]
        }
      ],
      "source": [
        "help('keywords')"
      ]
    },
    {
      "cell_type": "code",
      "execution_count": null,
      "metadata": {
        "colab": {
          "base_uri": "https://localhost:8080/"
        },
        "id": "ToTM_pwGh5xd",
        "outputId": "369eb850-8207-4ee4-8daf-78bb30985b4b"
      },
      "outputs": [
        {
          "name": "stdout",
          "output_type": "stream",
          "text": [
            "greater\n"
          ]
        }
      ],
      "source": [
        "if 3>2:\n",
        "  print(\"greater\") #indentation is the specific way to write a code."
      ]
    },
    {
      "cell_type": "markdown",
      "metadata": {
        "id": "xpd0thuQj8an"
      },
      "source": [
        "## Statements\n",
        "Statements can be of many types\n",
        "1. Expression statements\n",
        "2. Assignment statements\n",
        "3. Condition statements\n",
        "4. Loop Statements"
      ]
    },
    {
      "cell_type": "code",
      "execution_count": null,
      "metadata": {
        "colab": {
          "base_uri": "https://localhost:8080/"
        },
        "id": "mUOef3Yhjgyy",
        "outputId": "13b657d4-eb6c-4596-9a98-c47da6421b77"
      },
      "outputs": [
        {
          "data": {
            "text/plain": [
              "13"
            ]
          },
          "execution_count": 29,
          "metadata": {},
          "output_type": "execute_result"
        }
      ],
      "source": [
        "#Assignment Statements << Assigning any value to a vaiable\n",
        "a=5\n",
        "b=8\n",
        "a+b"
      ]
    },
    {
      "cell_type": "code",
      "execution_count": null,
      "metadata": {
        "id": "AGIgA2gpkiht"
      },
      "outputs": [],
      "source": [
        "#Expression Statement << using calculation"
      ]
    },
    {
      "cell_type": "code",
      "execution_count": null,
      "metadata": {
        "id": "OCItRxZ4nNtI"
      },
      "outputs": [],
      "source": [
        "#Input operator << If you want some user to give value of variable"
      ]
    },
    {
      "cell_type": "code",
      "execution_count": null,
      "metadata": {
        "colab": {
          "base_uri": "https://localhost:8080/"
        },
        "id": "Vqxn-ZEnnXhO",
        "outputId": "f816f6cf-07a1-4883-da91-fb31ecb8f4c9"
      },
      "outputs": [
        {
          "name": "stdout",
          "output_type": "stream",
          "text": [
            "Enter your name prag\n"
          ]
        }
      ],
      "source": [
        "name=input(\"Enter your name \")"
      ]
    },
    {
      "cell_type": "code",
      "execution_count": null,
      "metadata": {
        "colab": {
          "base_uri": "https://localhost:8080/"
        },
        "id": "OsGvSOmVncrN",
        "outputId": "a551f823-400c-47c3-e875-5266069762dd"
      },
      "outputs": [
        {
          "name": "stdout",
          "output_type": "stream",
          "text": [
            "Enter your age 21\n"
          ]
        }
      ],
      "source": [
        "age=int(input(\"Enter your age \"))"
      ]
    },
    {
      "cell_type": "markdown",
      "metadata": {
        "id": "b-Ve5YfAn35I"
      },
      "source": [
        "##Typecasting\n",
        "to change the type of data/variable"
      ]
    },
    {
      "cell_type": "code",
      "execution_count": null,
      "metadata": {
        "colab": {
          "base_uri": "https://localhost:8080/"
        },
        "id": "ekyjRLYtnsDA",
        "outputId": "0db0bf76-6e71-4ec4-eef7-0334f6dac17c"
      },
      "outputs": [
        {
          "data": {
            "text/plain": [
              "str"
            ]
          },
          "execution_count": 34,
          "metadata": {},
          "output_type": "execute_result"
        }
      ],
      "source": [
        "a=\"3.5\"\n",
        "type(a)"
      ]
    },
    {
      "cell_type": "code",
      "execution_count": null,
      "metadata": {
        "colab": {
          "base_uri": "https://localhost:8080/"
        },
        "id": "GXraoAECoGpO",
        "outputId": "01abf21c-9cbe-4624-e455-85c7795708f8"
      },
      "outputs": [
        {
          "data": {
            "text/plain": [
              "float"
            ]
          },
          "execution_count": 35,
          "metadata": {},
          "output_type": "execute_result"
        }
      ],
      "source": [
        "type(float(a))"
      ]
    },
    {
      "cell_type": "code",
      "execution_count": null,
      "metadata": {
        "colab": {
          "base_uri": "https://localhost:8080/"
        },
        "id": "pD1rjepBoLe2",
        "outputId": "b0e87123-c61d-4a52-851d-aa47fd7a4ee5"
      },
      "outputs": [
        {
          "data": {
            "text/plain": [
              "109"
            ]
          },
          "execution_count": 36,
          "metadata": {},
          "output_type": "execute_result"
        }
      ],
      "source": [
        "s=109\n",
        "s"
      ]
    },
    {
      "cell_type": "code",
      "execution_count": null,
      "metadata": {
        "colab": {
          "base_uri": "https://localhost:8080/"
        },
        "id": "IA6IIlqOoPpi",
        "outputId": "c1ef9d9d-6427-44f2-9665-9e2ea544c5e8"
      },
      "outputs": [
        {
          "data": {
            "text/plain": [
              "109"
            ]
          },
          "execution_count": 37,
          "metadata": {},
          "output_type": "execute_result"
        }
      ],
      "source": [
        "int(s)"
      ]
    },
    {
      "cell_type": "code",
      "execution_count": null,
      "metadata": {
        "colab": {
          "base_uri": "https://localhost:8080/"
        },
        "id": "fwfguZBdobgZ",
        "outputId": "4aadeed8-0632-41d7-e348-f79480b11be2"
      },
      "outputs": [
        {
          "data": {
            "text/plain": [
              "109.0"
            ]
          },
          "execution_count": 38,
          "metadata": {},
          "output_type": "execute_result"
        }
      ],
      "source": [
        "float(s)"
      ]
    },
    {
      "cell_type": "code",
      "execution_count": null,
      "metadata": {
        "colab": {
          "base_uri": "https://localhost:8080/",
          "height": 35
        },
        "id": "QOub-9LBodvt",
        "outputId": "28e6c86e-bca4-4ef2-a442-827c4b06d0ce"
      },
      "outputs": [
        {
          "data": {
            "application/vnd.google.colaboratory.intrinsic+json": {
              "type": "string"
            },
            "text/plain": [
              "'109'"
            ]
          },
          "execution_count": 39,
          "metadata": {},
          "output_type": "execute_result"
        }
      ],
      "source": [
        "str(s)"
      ]
    },
    {
      "cell_type": "code",
      "execution_count": null,
      "metadata": {
        "colab": {
          "base_uri": "https://localhost:8080/",
          "height": 35
        },
        "id": "TtnsW2ruomJt",
        "outputId": "a278b5d5-8c31-42b7-efd8-cb3bbc173d68"
      },
      "outputs": [
        {
          "data": {
            "application/vnd.google.colaboratory.intrinsic+json": {
              "type": "string"
            },
            "text/plain": [
              "'Anuu'"
            ]
          },
          "execution_count": 40,
          "metadata": {},
          "output_type": "execute_result"
        }
      ],
      "source": [
        "b=\"Anuu\"\n",
        "b"
      ]
    },
    {
      "cell_type": "code",
      "execution_count": null,
      "metadata": {
        "colab": {
          "base_uri": "https://localhost:8080/",
          "height": 35
        },
        "id": "jIW_XcJkqBrs",
        "outputId": "b7587c80-c1b7-4682-e89a-f9cbac9ddef6"
      },
      "outputs": [
        {
          "data": {
            "application/vnd.google.colaboratory.intrinsic+json": {
              "type": "string"
            },
            "text/plain": [
              "'A'"
            ]
          },
          "execution_count": 41,
          "metadata": {},
          "output_type": "execute_result"
        }
      ],
      "source": [
        "b[0] #memory block"
      ]
    },
    {
      "cell_type": "code",
      "execution_count": null,
      "metadata": {
        "colab": {
          "base_uri": "https://localhost:8080/",
          "height": 35
        },
        "id": "gcCvB1v9qKRL",
        "outputId": "9e8d719e-696a-4ff7-e949-b02eb4e450d7"
      },
      "outputs": [
        {
          "data": {
            "application/vnd.google.colaboratory.intrinsic+json": {
              "type": "string"
            },
            "text/plain": [
              "'A'"
            ]
          },
          "execution_count": 42,
          "metadata": {},
          "output_type": "execute_result"
        }
      ],
      "source": [
        "b[-4]"
      ]
    },
    {
      "cell_type": "code",
      "execution_count": null,
      "metadata": {
        "colab": {
          "base_uri": "https://localhost:8080/",
          "height": 35
        },
        "id": "sNpivE3VqRcH",
        "outputId": "22514f13-b2b2-4f06-c2d3-421209ffd955"
      },
      "outputs": [
        {
          "data": {
            "application/vnd.google.colaboratory.intrinsic+json": {
              "type": "string"
            },
            "text/plain": [
              "'u'"
            ]
          },
          "execution_count": 43,
          "metadata": {},
          "output_type": "execute_result"
        }
      ],
      "source": [
        "b[-1]"
      ]
    },
    {
      "cell_type": "markdown",
      "metadata": {
        "id": "6smrfO60qW4Y"
      },
      "source": [
        "## List\n",
        "It is a container which can hold all types of data"
      ]
    },
    {
      "cell_type": "code",
      "execution_count": null,
      "metadata": {
        "colab": {
          "base_uri": "https://localhost:8080/"
        },
        "id": "Nyax1ND3qTT4",
        "outputId": "b171a434-2743-4a98-96f7-68dcdca1b076"
      },
      "outputs": [
        {
          "data": {
            "text/plain": [
              "[1, 2, (3+4j), True, 5.6, 'Anu']"
            ]
          },
          "execution_count": 44,
          "metadata": {},
          "output_type": "execute_result"
        }
      ],
      "source": [
        "list_cont=[1,2,3+4j,True,5.6,\"Anu\"]\n",
        "list_cont"
      ]
    },
    {
      "cell_type": "code",
      "execution_count": null,
      "metadata": {
        "colab": {
          "base_uri": "https://localhost:8080/"
        },
        "id": "hZbdi5mKqo0d",
        "outputId": "ff4a2a5a-f4d2-4193-fa3a-194ff968af6d"
      },
      "outputs": [
        {
          "data": {
            "text/plain": [
              "True"
            ]
          },
          "execution_count": 45,
          "metadata": {},
          "output_type": "execute_result"
        }
      ],
      "source": [
        "list_cont[3]"
      ]
    },
    {
      "cell_type": "code",
      "execution_count": null,
      "metadata": {
        "colab": {
          "base_uri": "https://localhost:8080/"
        },
        "id": "sv91uCtgssPZ",
        "outputId": "817786f3-5a79-4500-9826-0a52ef9d254f"
      },
      "outputs": [
        {
          "data": {
            "text/plain": [
              "list"
            ]
          },
          "execution_count": 46,
          "metadata": {},
          "output_type": "execute_result"
        }
      ],
      "source": [
        "type(list_cont)"
      ]
    },
    {
      "cell_type": "markdown",
      "metadata": {
        "id": "uoi_hRiitvMY"
      },
      "source": [
        "##Mutability\n",
        "which are editable and changeable"
      ]
    },
    {
      "cell_type": "code",
      "execution_count": null,
      "metadata": {
        "colab": {
          "base_uri": "https://localhost:8080/",
          "height": 35
        },
        "id": "OTdG2WzTsv8U",
        "outputId": "e56b670a-c25f-4921-a2d2-48f7af117168"
      },
      "outputs": [
        {
          "data": {
            "application/vnd.google.colaboratory.intrinsic+json": {
              "type": "string"
            },
            "text/plain": [
              "'Anu'"
            ]
          },
          "execution_count": 47,
          "metadata": {},
          "output_type": "execute_result"
        }
      ],
      "source": [
        "list_cont[5]"
      ]
    },
    {
      "cell_type": "code",
      "execution_count": null,
      "metadata": {
        "id": "p4K6lmEvuQY7"
      },
      "outputs": [],
      "source": [
        "#Objects/ container whose states or value can be changed after they are created are called mutable objects.\n",
        "#list is a type of mutable objects.\n",
        "#Str is not mutable object"
      ]
    },
    {
      "cell_type": "code",
      "execution_count": null,
      "metadata": {
        "colab": {
          "base_uri": "https://localhost:8080/",
          "height": 35
        },
        "id": "SqYfWN3rvydl",
        "outputId": "86556a45-9416-462b-ef9b-985a4f36dcd6"
      },
      "outputs": [
        {
          "data": {
            "application/vnd.google.colaboratory.intrinsic+json": {
              "type": "string"
            },
            "text/plain": [
              "'pragati'"
            ]
          },
          "execution_count": 49,
          "metadata": {},
          "output_type": "execute_result"
        }
      ],
      "source": [
        "b=\"pragati\"\n",
        "b"
      ]
    },
    {
      "cell_type": "code",
      "execution_count": null,
      "metadata": {
        "colab": {
          "base_uri": "https://localhost:8080/",
          "height": 35
        },
        "id": "RzKYQJZLv4JB",
        "outputId": "02d50c7e-87a4-49e9-a060-3df4d67719d2"
      },
      "outputs": [
        {
          "data": {
            "application/vnd.google.colaboratory.intrinsic+json": {
              "type": "string"
            },
            "text/plain": [
              "'p'"
            ]
          },
          "execution_count": 50,
          "metadata": {},
          "output_type": "execute_result"
        }
      ],
      "source": [
        "b[0]"
      ]
    },
    {
      "cell_type": "markdown",
      "metadata": {
        "id": "Cfj1zvmcwRbc"
      },
      "source": [
        "##Typecasting\n",
        "The process of changing the data type of value / object."
      ]
    },
    {
      "cell_type": "code",
      "execution_count": null,
      "metadata": {
        "colab": {
          "base_uri": "https://localhost:8080/"
        },
        "id": "Qwop5UV-v9vE",
        "outputId": "c9d39544-9c8f-46b7-95b0-3b17b014c9f3"
      },
      "outputs": [
        {
          "data": {
            "text/plain": [
              "5"
            ]
          },
          "execution_count": 51,
          "metadata": {},
          "output_type": "execute_result"
        }
      ],
      "source": [
        "a=\"2\"\n",
        "b=3\n",
        "#a+b ----> Error string value cann not be added with int value >> so we need typecasting\n",
        "int(a)+b"
      ]
    },
    {
      "cell_type": "code",
      "execution_count": null,
      "metadata": {
        "id": "pktBiN5byY8k"
      },
      "outputs": [],
      "source": [
        "#Str to int and float\n",
        "a=\"2\"\n"
      ]
    },
    {
      "cell_type": "code",
      "execution_count": null,
      "metadata": {
        "colab": {
          "base_uri": "https://localhost:8080/"
        },
        "id": "79wmHUsBa3Gn",
        "outputId": "c391bb30-7bdb-4c2e-e8de-785b91fac347"
      },
      "outputs": [
        {
          "name": "stdout",
          "output_type": "stream",
          "text": [
            "<class 'str'>\n",
            "<class 'int'>\n",
            "<class 'float'>\n"
          ]
        }
      ],
      "source": [
        "print(type(a))\n",
        "print(type(int(a)))\n",
        "print(type(float(a)))"
      ]
    },
    {
      "cell_type": "code",
      "execution_count": null,
      "metadata": {
        "colab": {
          "base_uri": "https://localhost:8080/"
        },
        "id": "zhxF_al5a_nI",
        "outputId": "6c18e88a-6d6b-4bd3-bc7b-106cf6a3ddb1"
      },
      "outputs": [
        {
          "data": {
            "text/plain": [
              "float"
            ]
          },
          "execution_count": 54,
          "metadata": {},
          "output_type": "execute_result"
        }
      ],
      "source": [
        "# float to int\n",
        "b=23.45\n",
        "type(b)"
      ]
    },
    {
      "cell_type": "code",
      "execution_count": null,
      "metadata": {
        "colab": {
          "base_uri": "https://localhost:8080/"
        },
        "id": "J8I9ozcdbFQ0",
        "outputId": "7e5ed41a-d055-40b6-f425-dacde3ccb36a"
      },
      "outputs": [
        {
          "data": {
            "text/plain": [
              "int"
            ]
          },
          "execution_count": 55,
          "metadata": {},
          "output_type": "execute_result"
        }
      ],
      "source": [
        "float_value=int(b)\n",
        "type(float_value)"
      ]
    },
    {
      "cell_type": "code",
      "execution_count": null,
      "metadata": {
        "colab": {
          "base_uri": "https://localhost:8080/"
        },
        "id": "qAG1W-OFbKps",
        "outputId": "b8f45a80-b207-430c-d5a5-ffdbfde16352"
      },
      "outputs": [
        {
          "data": {
            "text/plain": [
              "int"
            ]
          },
          "execution_count": 56,
          "metadata": {},
          "output_type": "execute_result"
        }
      ],
      "source": [
        "# int to float and str\n",
        "a=56\n",
        "type(a)"
      ]
    },
    {
      "cell_type": "code",
      "execution_count": null,
      "metadata": {
        "colab": {
          "base_uri": "https://localhost:8080/"
        },
        "id": "qPuqV-upbf0d",
        "outputId": "9171d5a7-022b-4912-8038-2ec36a70690c"
      },
      "outputs": [
        {
          "name": "stdout",
          "output_type": "stream",
          "text": [
            "56.0\n",
            "<class 'float'>\n"
          ]
        }
      ],
      "source": [
        "float_value=float(a)\n",
        "print(float_value)\n",
        "print(type(float_value))"
      ]
    },
    {
      "cell_type": "code",
      "execution_count": null,
      "metadata": {
        "colab": {
          "base_uri": "https://localhost:8080/"
        },
        "id": "3XKytonEbsJj",
        "outputId": "2f4d1fb8-7d92-4174-84cb-c7e582bd3ab5"
      },
      "outputs": [
        {
          "name": "stdout",
          "output_type": "stream",
          "text": [
            "56\n",
            "<class 'str'>\n"
          ]
        }
      ],
      "source": [
        "string=str(a)\n",
        "print(string)\n",
        "print(type(string))"
      ]
    },
    {
      "cell_type": "markdown",
      "metadata": {
        "id": "eV006W6vb15X"
      },
      "source": [
        "### There are two types of Typecasting\n",
        "- Explicit typecasting\n",
        "- Implicit Typecasting"
      ]
    },
    {
      "cell_type": "markdown",
      "metadata": {
        "id": "nhDRu0PucTm9"
      },
      "source": [
        "### Explicit Typecasting\n",
        "- Datatype conversion is done by using in-built function as programmer has to do it."
      ]
    },
    {
      "cell_type": "code",
      "execution_count": null,
      "metadata": {
        "colab": {
          "base_uri": "https://localhost:8080/"
        },
        "id": "4Jjk_XP0cBNt",
        "outputId": "b0d69296-f302-4b37-d518-b5bde1ca60e8"
      },
      "outputs": [
        {
          "data": {
            "text/plain": [
              "str"
            ]
          },
          "execution_count": 59,
          "metadata": {},
          "output_type": "execute_result"
        }
      ],
      "source": [
        "a=\"23\"\n",
        "type(a)"
      ]
    },
    {
      "cell_type": "code",
      "execution_count": null,
      "metadata": {
        "colab": {
          "base_uri": "https://localhost:8080/"
        },
        "id": "hApa6nsHb0Cl",
        "outputId": "37d8b964-19da-4bb0-c00c-332c83fb09f4"
      },
      "outputs": [
        {
          "data": {
            "text/plain": [
              "23"
            ]
          },
          "execution_count": 60,
          "metadata": {},
          "output_type": "execute_result"
        }
      ],
      "source": [
        "int(a)"
      ]
    },
    {
      "cell_type": "code",
      "execution_count": null,
      "metadata": {
        "colab": {
          "base_uri": "https://localhost:8080/"
        },
        "id": "wmj0TqVOcavY",
        "outputId": "bce9a120-fd3b-4159-f2b5-06c9b578595b"
      },
      "outputs": [
        {
          "data": {
            "text/plain": [
              "23.0"
            ]
          },
          "execution_count": 61,
          "metadata": {},
          "output_type": "execute_result"
        }
      ],
      "source": [
        "float(a)"
      ]
    },
    {
      "cell_type": "code",
      "execution_count": null,
      "metadata": {
        "colab": {
          "base_uri": "https://localhost:8080/"
        },
        "id": "WsS9B246cdDM",
        "outputId": "c558133d-9b1b-4323-b5bb-a33b8fe37b3b"
      },
      "outputs": [
        {
          "name": "stdout",
          "output_type": "stream",
          "text": [
            "abcxyz\n",
            "<class 'str'>\n"
          ]
        }
      ],
      "source": [
        "x=\"abc\"\n",
        "y=\"xyz\"\n",
        "x+y\n",
        "print(x+y)\n",
        "print(type(x+y))"
      ]
    },
    {
      "cell_type": "code",
      "execution_count": null,
      "metadata": {
        "colab": {
          "base_uri": "https://localhost:8080/",
          "height": 35
        },
        "id": "w9MYvYpccySo",
        "outputId": "dec897db-02ba-492e-e649-fd54eec55abb"
      },
      "outputs": [
        {
          "data": {
            "application/vnd.google.colaboratory.intrinsic+json": {
              "type": "string"
            },
            "text/plain": [
              "'100pd'"
            ]
          },
          "execution_count": 63,
          "metadata": {},
          "output_type": "execute_result"
        }
      ],
      "source": [
        "#Now if we take one variable as str and other as int/float, operations cannot be done\n",
        "# it will throw concatenantion error\n",
        "a=100\n",
        "b=\"pd\"\n",
        "#a+b #unsupported operand type(s) for +: 'int' and 'str'\n",
        "# but if we convert both value in str. no error occured\n",
        "str(a)+b"
      ]
    },
    {
      "cell_type": "markdown",
      "metadata": {
        "id": "LSu0ftVbd69I"
      },
      "source": [
        "### Implicit Typecasting\n",
        "- DataType conversion is done by python itself. It i understandable to python.\n",
        "- int<float<complex"
      ]
    },
    {
      "cell_type": "code",
      "execution_count": null,
      "metadata": {
        "colab": {
          "base_uri": "https://localhost:8080/"
        },
        "id": "6GrDZX8sdh3m",
        "outputId": "b9ed0601-10c1-4880-f5ae-49f5dee98a54"
      },
      "outputs": [
        {
          "data": {
            "text/plain": [
              "112.9"
            ]
          },
          "execution_count": 64,
          "metadata": {},
          "output_type": "execute_result"
        }
      ],
      "source": [
        "a=34 #int value\n",
        "b=78.9 #float_value\n",
        "a+b # throw the output in float"
      ]
    },
    {
      "cell_type": "code",
      "execution_count": null,
      "metadata": {
        "colab": {
          "base_uri": "https://localhost:8080/"
        },
        "id": "hxuJg351eKqH",
        "outputId": "5c7a0ac5-00b6-4eb7-acf3-8b5011c90c46"
      },
      "outputs": [
        {
          "data": {
            "text/plain": [
              "(77.7+3j)"
            ]
          },
          "execution_count": 65,
          "metadata": {},
          "output_type": "execute_result"
        }
      ],
      "source": [
        "i=67.7 #Float value\n",
        "j=10+3j #complex value\n",
        "i+j # Throw output in complex value"
      ]
    },
    {
      "cell_type": "markdown",
      "metadata": {
        "id": "y5SHBzIGevjZ"
      },
      "source": [
        "### Boolean Typecasting\n",
        "- Any value other than 0 and empty str will be treated as true"
      ]
    },
    {
      "cell_type": "code",
      "execution_count": null,
      "metadata": {
        "colab": {
          "base_uri": "https://localhost:8080/"
        },
        "id": "QUMbD0oGeePO",
        "outputId": "22104108-0042-4b93-d209-837c082cb7c6"
      },
      "outputs": [
        {
          "name": "stdout",
          "output_type": "stream",
          "text": [
            "False\n",
            "True\n",
            "True\n",
            "True\n",
            "False\n"
          ]
        }
      ],
      "source": [
        "bool(0)\n",
        "bool(1)\n",
        "bool(-76)\n",
        "bool(\"abc\")\n",
        "bool(\"\")\n",
        "print(bool(0))\n",
        "print(bool(1))\n",
        "print(bool(-76))\n",
        "print(bool(\"abc\"))\n",
        "print(bool(\"\"))"
      ]
    },
    {
      "cell_type": "markdown",
      "metadata": {
        "id": "A2NFybEefe-M"
      },
      "source": [
        "# Python Operator"
      ]
    },
    {
      "cell_type": "markdown",
      "metadata": {
        "id": "GOu-889LMV5C"
      },
      "source": [
        "- Python operators are special keyword symbol which are used to perform operations as values or variables to manage and compute data."
      ]
    },
    {
      "cell_type": "markdown",
      "metadata": {
        "id": "On46PyO4Mq6z"
      },
      "source": [
        "## Types of Operator"
      ]
    },
    {
      "cell_type": "markdown",
      "metadata": {
        "id": "3IyNDXYjMwCr"
      },
      "source": [
        "- Arithmatic Operator\n",
        "- Assignment Operator\n",
        "- Relational ( Comparison) Operator\n",
        "- Logical Operator\n",
        "- Bitwise operator\n",
        "- Membership operator\n",
        "- Identity Operator\n"
      ]
    },
    {
      "cell_type": "markdown",
      "metadata": {
        "id": "OxOUDGhCNu86"
      },
      "source": [
        "### Arithmatic Operator : To perform basic maths"
      ]
    },
    {
      "cell_type": "code",
      "execution_count": null,
      "metadata": {
        "colab": {
          "base_uri": "https://localhost:8080/"
        },
        "id": "vme3yZaffLCE",
        "outputId": "8f14ef77-6a49-480e-ae48-92b843411053"
      },
      "outputs": [
        {
          "name": "stdout",
          "output_type": "stream",
          "text": [
            "Enter the number 1 : 10\n",
            "Enter the number 2 : 10\n",
            "Addition of 10.0 and 10.0 =  20.0\n",
            "Subtraction of 10.0 and 10.0 =  0.0\n",
            "Multiplication of 10.0 and 10.0 =  100.0\n",
            "Diviion of 10.0 and 10.0 =  1.0\n",
            "Remainder of 10.0 and 10.0 =  0.0\n"
          ]
        }
      ],
      "source": [
        "num1=float(input(\"Enter the number 1 : \"))\n",
        "num2=float(input(\"Enter the number 2 : \"))\n",
        "print(f\"Addition of {num1} and {num2} = \",num1+num2)\n",
        "print(f\"Subtraction of {num1} and {num2} = \",num1-num2)\n",
        "print(f\"Multiplication of {num1} and {num2} = \",num1*num2)\n",
        "print(f\"Diviion of {num1} and {num2} = \",num1/num2)\n",
        "print(f\"Remainder of {num1} and {num2} = \",num1%num2)"
      ]
    },
    {
      "cell_type": "markdown",
      "metadata": {
        "id": "LgUvo4ehPLGp"
      },
      "source": [
        "### Assignment Operator : Assigns values to variable"
      ]
    },
    {
      "cell_type": "markdown",
      "metadata": {
        "id": "FQ9nNqemPeU5"
      },
      "source": [
        "- = Assign\n",
        "- += Add and assign\n",
        "- -= Subtract and assign\n",
        "- *= Multiply and assign\n",
        "- /= Divide and assign\n",
        "- //= Floor divide and assign\n",
        "- %= Modulus and assign\n",
        "- **= Exponent and assign\n",
        "- &= Bitwise AND and assign\n",
        "- ^= Bitwise XOR operator\n",
        "- (>>)= Right shift and assign\n",
        "- <<= Left shift and assign"
      ]
    },
    {
      "cell_type": "code",
      "execution_count": null,
      "metadata": {
        "colab": {
          "base_uri": "https://localhost:8080/"
        },
        "id": "9VXwP35vOb5x",
        "outputId": "27d05df5-2d21-4d9a-f273-c65ee6498370"
      },
      "outputs": [
        {
          "data": {
            "text/plain": [
              "100"
            ]
          },
          "execution_count": 68,
          "metadata": {},
          "output_type": "execute_result"
        }
      ],
      "source": [
        "a=100\n",
        "a"
      ]
    },
    {
      "cell_type": "code",
      "execution_count": null,
      "metadata": {
        "colab": {
          "base_uri": "https://localhost:8080/"
        },
        "id": "CjZOHy0bRwKO",
        "outputId": "d03baa0f-baee-475b-b77e-cd191248fd42"
      },
      "outputs": [
        {
          "data": {
            "text/plain": [
              "150"
            ]
          },
          "execution_count": 69,
          "metadata": {},
          "output_type": "execute_result"
        }
      ],
      "source": [
        "a+=50\n",
        "a"
      ]
    },
    {
      "cell_type": "code",
      "execution_count": null,
      "metadata": {
        "colab": {
          "base_uri": "https://localhost:8080/"
        },
        "id": "ReHSmnaASXNl",
        "outputId": "e7676e4c-e6ff-499b-8635-da2ee1913898"
      },
      "outputs": [
        {
          "data": {
            "text/plain": [
              "100"
            ]
          },
          "execution_count": 70,
          "metadata": {},
          "output_type": "execute_result"
        }
      ],
      "source": [
        "a-=50\n",
        "a"
      ]
    },
    {
      "cell_type": "code",
      "execution_count": null,
      "metadata": {
        "colab": {
          "base_uri": "https://localhost:8080/"
        },
        "id": "GimrN6b6SZaA",
        "outputId": "49390cb5-ebfd-4c01-eee3-34c6eef9b31e"
      },
      "outputs": [
        {
          "data": {
            "text/plain": [
              "200"
            ]
          },
          "execution_count": 71,
          "metadata": {},
          "output_type": "execute_result"
        }
      ],
      "source": [
        "a*=2\n",
        "a"
      ]
    },
    {
      "cell_type": "code",
      "execution_count": null,
      "metadata": {
        "colab": {
          "base_uri": "https://localhost:8080/"
        },
        "id": "lHRSN35wScuY",
        "outputId": "a0ad216f-7a93-4eea-c350-13d77682772c"
      },
      "outputs": [
        {
          "data": {
            "text/plain": [
              "100.0"
            ]
          },
          "execution_count": 72,
          "metadata": {},
          "output_type": "execute_result"
        }
      ],
      "source": [
        "a/=2\n",
        "a"
      ]
    },
    {
      "cell_type": "code",
      "execution_count": null,
      "metadata": {
        "colab": {
          "base_uri": "https://localhost:8080/"
        },
        "id": "SZ60Z8bVSgoq",
        "outputId": "029b6c1e-d4fb-458a-b5f0-0861d8602927"
      },
      "outputs": [
        {
          "data": {
            "text/plain": [
              "33.0"
            ]
          },
          "execution_count": 73,
          "metadata": {},
          "output_type": "execute_result"
        }
      ],
      "source": [
        "a//=3\n",
        "a"
      ]
    },
    {
      "cell_type": "code",
      "execution_count": null,
      "metadata": {
        "colab": {
          "base_uri": "https://localhost:8080/"
        },
        "id": "cGZwtNZkSm4F",
        "outputId": "58b1cb6e-c0ce-49c8-a2c6-0dad1d5aa4ef"
      },
      "outputs": [
        {
          "data": {
            "text/plain": [
              "6.0"
            ]
          },
          "execution_count": 74,
          "metadata": {},
          "output_type": "execute_result"
        }
      ],
      "source": [
        "a%=9\n",
        "a"
      ]
    },
    {
      "cell_type": "code",
      "execution_count": null,
      "metadata": {
        "colab": {
          "base_uri": "https://localhost:8080/"
        },
        "id": "YgIQ1AGefDR4",
        "outputId": "61c4b1a9-adfe-403a-a8a7-6c8c4a5fcc01"
      },
      "outputs": [
        {
          "data": {
            "text/plain": [
              "35"
            ]
          },
          "execution_count": 75,
          "metadata": {},
          "output_type": "execute_result"
        }
      ],
      "source": [
        "#Right shift Operator : Remove the no. of zero in binary from righth\n",
        "280>>3\n"
      ]
    },
    {
      "cell_type": "code",
      "execution_count": null,
      "metadata": {
        "colab": {
          "base_uri": "https://localhost:8080/",
          "height": 35
        },
        "id": "qM9SQVxPfc0O",
        "outputId": "cf6ba0f1-c785-4c00-c79f-867142994080"
      },
      "outputs": [
        {
          "data": {
            "application/vnd.google.colaboratory.intrinsic+json": {
              "type": "string"
            },
            "text/plain": [
              "'0b100011000'"
            ]
          },
          "execution_count": 76,
          "metadata": {},
          "output_type": "execute_result"
        }
      ],
      "source": [
        "bin(280)"
      ]
    },
    {
      "cell_type": "code",
      "execution_count": null,
      "metadata": {
        "colab": {
          "base_uri": "https://localhost:8080/",
          "height": 35
        },
        "id": "tOmHlOeSffUJ",
        "outputId": "7e72a70a-1e29-4457-d740-ee12a8ac62d0"
      },
      "outputs": [
        {
          "data": {
            "application/vnd.google.colaboratory.intrinsic+json": {
              "type": "string"
            },
            "text/plain": [
              "'0b100011'"
            ]
          },
          "execution_count": 77,
          "metadata": {},
          "output_type": "execute_result"
        }
      ],
      "source": [
        "bin(35)"
      ]
    },
    {
      "cell_type": "code",
      "execution_count": null,
      "metadata": {
        "colab": {
          "base_uri": "https://localhost:8080/"
        },
        "id": "irz5MW8LfiSH",
        "outputId": "6a622d6c-e332-4379-df0f-dd7a578baf3b"
      },
      "outputs": [
        {
          "data": {
            "text/plain": [
              "280"
            ]
          },
          "execution_count": 78,
          "metadata": {},
          "output_type": "execute_result"
        }
      ],
      "source": [
        "# Left Shift Operator : Shift the bit to the left by filling no of 0's on right\n",
        "35<<3"
      ]
    },
    {
      "cell_type": "code",
      "execution_count": null,
      "metadata": {
        "colab": {
          "base_uri": "https://localhost:8080/"
        },
        "id": "LG4pDp_Ffyuz",
        "outputId": "e7b78b52-8fe6-464c-b3f1-1ee7dcc61e7f"
      },
      "outputs": [
        {
          "name": "stdout",
          "output_type": "stream",
          "text": [
            "0b100011\n",
            "0b100011000\n"
          ]
        }
      ],
      "source": [
        "print(bin(35))\n",
        "print(bin(280))"
      ]
    },
    {
      "cell_type": "markdown",
      "metadata": {
        "id": "fWsAUt3QTPF4"
      },
      "source": [
        "### Relational / Comparison Operator : Comparison of two values"
      ]
    },
    {
      "cell_type": "markdown",
      "metadata": {
        "id": "zPBQH3xlThLX"
      },
      "source": [
        "- It is used to compare two values and returns a Boolean Output\n",
        "- used in conditional statements\n",
        "- used in filtering database\n",
        "- used in logic building\n",
        "\n"
      ]
    },
    {
      "cell_type": "markdown",
      "metadata": {
        "id": "LoGQF_6jUDwZ"
      },
      "source": [
        "- == Equal to\n",
        "- != Not Equal to\n",
        "- '>' greater than\n",
        "- '<' smaller than\n",
        "- '>=\" greater than / equal to\n",
        "- '<=' smaller than / equal to"
      ]
    },
    {
      "cell_type": "code",
      "execution_count": null,
      "metadata": {
        "colab": {
          "base_uri": "https://localhost:8080/"
        },
        "id": "ewi0Bpo7TD6k",
        "outputId": "fccb2778-57ed-4035-f93b-288dfac5aed7"
      },
      "outputs": [
        {
          "name": "stdout",
          "output_type": "stream",
          "text": [
            "False\n",
            "True\n",
            "False\n",
            "True\n",
            "False\n",
            "True\n"
          ]
        }
      ],
      "source": [
        "a=10\n",
        "b=5\n",
        "print(a==b)\n",
        "print(a>b)\n",
        "print(a<b)\n",
        "print(a>=b)\n",
        "print(a<=b)\n",
        "print(a!=b)"
      ]
    },
    {
      "cell_type": "markdown",
      "metadata": {
        "id": "oh5rRPItVoUQ"
      },
      "source": [
        "### Logical operator : Combine conditional statements"
      ]
    },
    {
      "cell_type": "markdown",
      "metadata": {
        "id": "G9HY9qe_V7ut"
      },
      "source": [
        "- Used to combine multiple conditions and returns boolean result"
      ]
    },
    {
      "cell_type": "markdown",
      "metadata": {
        "id": "b3jP92d2Ykyz"
      },
      "source": [
        "![image.png](data:image/png;base64,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)"
      ]
    },
    {
      "cell_type": "markdown",
      "metadata": {
        "id": "xtZQEwmqWDmp"
      },
      "source": [
        "- and : Return True if both condition are true\n",
        "- or : Return True if at least one condition is true\n",
        "- not : Reverse the result"
      ]
    },
    {
      "cell_type": "code",
      "execution_count": null,
      "metadata": {
        "colab": {
          "base_uri": "https://localhost:8080/"
        },
        "id": "mUDoCGhpVK9l",
        "outputId": "b52dade3-8369-47d2-d522-ea6395e55f57"
      },
      "outputs": [
        {
          "name": "stdout",
          "output_type": "stream",
          "text": [
            "Eligible\n"
          ]
        }
      ],
      "source": [
        "age=24\n",
        "marks=200\n",
        "if 25>age>20 and marks>150:\n",
        "    print(\"Eligible\")\n",
        "elif age>25 and marks>150:\n",
        "    print(\"Age limit exceed\")\n",
        "else:\n",
        "    print(\"Not eligible\")"
      ]
    },
    {
      "cell_type": "code",
      "execution_count": null,
      "metadata": {
        "colab": {
          "base_uri": "https://localhost:8080/"
        },
        "id": "XwB24KBNXDAB",
        "outputId": "c5aa7fa5-d156-4cab-93f5-12d90f9391cc"
      },
      "outputs": [
        {
          "name": "stdout",
          "output_type": "stream",
          "text": [
            "Eligible\n"
          ]
        }
      ],
      "source": [
        "age=30\n",
        "marks=200\n",
        "if 25>age>20 or marks>150:\n",
        "    print(\"Eligible\")\n",
        "elif age>25 or marks>150:\n",
        "    print(\"Age limit exceed\")\n",
        "else:\n",
        "    print(\"Not eligible\")"
      ]
    },
    {
      "cell_type": "code",
      "execution_count": null,
      "metadata": {
        "colab": {
          "base_uri": "https://localhost:8080/"
        },
        "id": "tlHpdEKiXTOX",
        "outputId": "7f4bd92b-0438-42ea-f052-98eab9f4d840"
      },
      "outputs": [
        {
          "data": {
            "text/plain": [
              "False"
            ]
          },
          "execution_count": 83,
          "metadata": {},
          "output_type": "execute_result"
        }
      ],
      "source": [
        "not(True)"
      ]
    },
    {
      "cell_type": "code",
      "execution_count": null,
      "metadata": {
        "colab": {
          "base_uri": "https://localhost:8080/"
        },
        "id": "H-gQ-m8YYU7C",
        "outputId": "bb90da67-2bf1-4b87-b2b8-eb5002681ddc"
      },
      "outputs": [
        {
          "data": {
            "text/plain": [
              "True"
            ]
          },
          "execution_count": 84,
          "metadata": {},
          "output_type": "execute_result"
        }
      ],
      "source": [
        "not(False)"
      ]
    },
    {
      "cell_type": "markdown",
      "metadata": {
        "id": "36oQbXjgYrXI"
      },
      "source": [
        "### Bitwise Operator : Works on binary bits"
      ]
    },
    {
      "cell_type": "markdown",
      "metadata": {
        "id": "r7f8bPrbY2bF"
      },
      "source": [
        "- Each number is treated as series of 0's and 1's like a binary, and operation perform bit-by-bit"
      ]
    },
    {
      "cell_type": "code",
      "execution_count": null,
      "metadata": {
        "colab": {
          "base_uri": "https://localhost:8080/"
        },
        "id": "FHv2IAb8YYsK",
        "outputId": "b2ffef28-9365-4098-ebc0-c7c9f5659241"
      },
      "outputs": [
        {
          "name": "stdout",
          "output_type": "stream",
          "text": [
            "0b101\n",
            "0b100\n",
            "4\n",
            "0b100\n"
          ]
        }
      ],
      "source": [
        "a=5\n",
        "print(bin(5))\n",
        "b=4\n",
        "print(bin(4))\n",
        "print(a&b)\n",
        "print(bin(a&b))"
      ]
    },
    {
      "cell_type": "markdown",
      "metadata": {
        "id": "eB8vjpmEZjsZ"
      },
      "source": [
        "- In data compression : works on bits to shrink data sizes\n",
        "- In cryptography : XOR encryption in real things\n",
        "- In game dev : Flags / toggles manipulations"
      ]
    },
    {
      "cell_type": "markdown",
      "metadata": {
        "id": "Q2wEtc1QaMSK"
      },
      "source": [
        "### Membership Operator : Tests if the value is in the sequence"
      ]
    },
    {
      "cell_type": "markdown",
      "metadata": {
        "id": "50mNfltea2Xj"
      },
      "source": [
        "- if the value exist inside a sequence like\n",
        "- string\n",
        "- list\n",
        "- tuple\n",
        "- set\n",
        "- dict\n"
      ]
    },
    {
      "cell_type": "markdown",
      "metadata": {
        "id": "4loWL9OJbD-j"
      },
      "source": [
        "#### types of membership operator"
      ]
    },
    {
      "cell_type": "markdown",
      "metadata": {
        "id": "VNgzHjyHbKsd"
      },
      "source": [
        "- in : Return True if value is present\n",
        "- not in : Return True if value is not present"
      ]
    },
    {
      "cell_type": "code",
      "execution_count": null,
      "metadata": {
        "colab": {
          "base_uri": "https://localhost:8080/"
        },
        "id": "lWaNtswzZbgy",
        "outputId": "2510768f-23a8-4c0c-bf41-94cdfa78e845"
      },
      "outputs": [
        {
          "name": "stdout",
          "output_type": "stream",
          "text": [
            "True\n",
            "False\n",
            "True\n",
            "False\n",
            "True\n",
            "False\n"
          ]
        }
      ],
      "source": [
        "# list\n",
        "num=[23,46,98,90]\n",
        "print(23 in num)\n",
        "print(45 in num)\n",
        "# Dict\n",
        "info={\"name\":\"XYZ\",\"city\":\"Gorakhpur\"} # name is keyword but XYZ is a value\n",
        "print(\"name\" in info) # Only check keys\n",
        "print(\"XYZ\" in info)\n",
        "# Tuple\n",
        "t=(12,23,34)\n",
        "print(12 in t)\n",
        "print(23 not in t)"
      ]
    },
    {
      "cell_type": "markdown",
      "metadata": {
        "id": "S_jAgMaucnOk"
      },
      "source": [
        "### Identity Operator : Compare memory location of Two objects"
      ]
    },
    {
      "cell_type": "markdown",
      "metadata": {
        "id": "QpV3oGG5cwKb"
      },
      "source": [
        "- is : to compare two values : If they look alike\n",
        "- == : Same to same : Literally the same"
      ]
    },
    {
      "cell_type": "code",
      "execution_count": null,
      "metadata": {
        "colab": {
          "base_uri": "https://localhost:8080/"
        },
        "id": "Hlr1gTKCcPuB",
        "outputId": "e71299a5-32c3-430f-9914-1adf8ce8aa57"
      },
      "outputs": [
        {
          "name": "stdout",
          "output_type": "stream",
          "text": [
            "135262321911680\n",
            "135262321911680\n"
          ]
        }
      ],
      "source": [
        "x=[1,2,3]\n",
        "y=x\n",
        "print(id(x))\n",
        "print(id(y))"
      ]
    },
    {
      "cell_type": "markdown",
      "metadata": {
        "id": "GHUnIT5bf9wL"
      },
      "source": [
        "# Flow Control in Python"
      ]
    },
    {
      "cell_type": "markdown",
      "metadata": {
        "id": "0DuIYBg4gFxN"
      },
      "source": [
        "-Flow control in Python refers to the mechanisms that govern the order in which statements are instructions are executed. This is crucial for implementing logic in progress.\n",
        "There are three type sof flow control:\n",
        "- Conditional statement\n",
        "- Loop Statement\n",
        "- Control Statement\n"
      ]
    },
    {
      "cell_type": "markdown",
      "metadata": {
        "id": "T4j8_NE8gdZy"
      },
      "source": [
        "![image.png](data:image/png;base64,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)"
      ]
    },
    {
      "cell_type": "markdown",
      "metadata": {
        "id": "FalTm2S7gRW9"
      },
      "source": [
        "## Conditional Statement"
      ]
    },
    {
      "cell_type": "markdown",
      "metadata": {
        "id": "KNSdTE03gire"
      },
      "source": [
        "It helps you to code decisions based on some pre defined conditions / based on some conditions we will make some decisions.\n",
        "- based on whether a condition is True or false, code take different paths"
      ]
    },
    {
      "cell_type": "markdown",
      "metadata": {
        "id": "HybUfsw4g0LN"
      },
      "source": [
        "Conditional Statements are of four types:\n",
        "- if statement\n",
        "- if-else statement\n",
        "- if-elif-else ladder\n",
        "- nested-if-else"
      ]
    },
    {
      "cell_type": "markdown",
      "metadata": {
        "id": "DWpzrOpJhYgS"
      },
      "source": [
        "### if statements"
      ]
    },
    {
      "cell_type": "markdown",
      "metadata": {
        "id": "tH5jyebFhbhk"
      },
      "source": [
        "It lets you run a block of code only when a certain condition is True. It means if the condition is false, the block will not execute any result.\n",
        "- Syntax:\n",
        "if condition True:\n",
        "    print(Block will execute this part)\n",
        "Indentation in print statement is must\n"
      ]
    },
    {
      "cell_type": "code",
      "execution_count": null,
      "metadata": {
        "colab": {
          "base_uri": "https://localhost:8080/"
        },
        "id": "UcB3AK2ydba8",
        "outputId": "c1a57207-7126-4fa8-a2fb-c55ed54558de"
      },
      "outputs": [
        {
          "name": "stdout",
          "output_type": "stream",
          "text": [
            "100\n"
          ]
        }
      ],
      "source": [
        "a=100\n",
        "if a>=100:\n",
        "    print(a)"
      ]
    },
    {
      "cell_type": "code",
      "execution_count": null,
      "metadata": {
        "colab": {
          "base_uri": "https://localhost:8080/"
        },
        "id": "wVMmwHMDikTs",
        "outputId": "f3b457f1-dc2f-47f0-81f3-09a6db1516a2"
      },
      "outputs": [
        {
          "name": "stdout",
          "output_type": "stream",
          "text": [
            "Give me food\n"
          ]
        }
      ],
      "source": [
        "hungry=True\n",
        "if hungry:\n",
        "    print(\"Give me food\")"
      ]
    },
    {
      "cell_type": "code",
      "execution_count": null,
      "metadata": {
        "id": "eOLHnDyWirca"
      },
      "outputs": [],
      "source": [
        "hungry= False\n",
        "if hungry:\n",
        "    print(\"Not hungry\") # no output because condition is not satisfied"
      ]
    },
    {
      "cell_type": "code",
      "execution_count": null,
      "metadata": {
        "colab": {
          "base_uri": "https://localhost:8080/"
        },
        "id": "11AIXllsi6ZY",
        "outputId": "091dbf8b-59fe-46d1-af39-6f4efdb9160a"
      },
      "outputs": [
        {
          "name": "stdout",
          "output_type": "stream",
          "text": [
            "Happy soul\n"
          ]
        }
      ],
      "source": [
        "name=\"Prag\"\n",
        "if name==\"Prag\":\n",
        "    print(\"Happy soul\")"
      ]
    },
    {
      "cell_type": "code",
      "execution_count": null,
      "metadata": {
        "colab": {
          "base_uri": "https://localhost:8080/"
        },
        "id": "fMDIhm5-jFwb",
        "outputId": "e13d003f-e612-450a-ea45-4e581b5cb5ed"
      },
      "outputs": [
        {
          "name": "stdout",
          "output_type": "stream",
          "text": [
            "Use umbrella ☔\n"
          ]
        }
      ],
      "source": [
        "weather=\"Rainy\"\n",
        "if weather==\"Rainy\":\n",
        "    print(\"Use umbrella ☔\")"
      ]
    },
    {
      "cell_type": "markdown",
      "metadata": {
        "id": "MWyW3e4nkRz1"
      },
      "source": [
        "#### Projects on If"
      ]
    },
    {
      "cell_type": "code",
      "execution_count": null,
      "metadata": {
        "colab": {
          "base_uri": "https://localhost:8080/"
        },
        "id": "m-tilAU4kFs7",
        "outputId": "9e475815-9cdf-4afa-d911-f0e8b700f014"
      },
      "outputs": [
        {
          "name": "stdout",
          "output_type": "stream",
          "text": [
            "Enter any number : 56\n",
            "this is even no. \n"
          ]
        }
      ],
      "source": [
        "#Check even number\n",
        "value=int(input(\"Enter any number : \"))\n",
        "if value%2==0:\n",
        "    print(\"this is even no. \")"
      ]
    },
    {
      "cell_type": "code",
      "execution_count": null,
      "metadata": {
        "colab": {
          "base_uri": "https://localhost:8080/"
        },
        "id": "VlEPmJaFkl4R",
        "outputId": "5f6e6841-f121-46dd-babc-0360938a2b33"
      },
      "outputs": [
        {
          "name": "stdout",
          "output_type": "stream",
          "text": [
            "30  is a room temperature.\n"
          ]
        }
      ],
      "source": [
        "# temperature\n",
        "temp=30\n",
        "if temp>25:\n",
        "    print(temp, \" is a room temperature.\")"
      ]
    },
    {
      "cell_type": "code",
      "execution_count": null,
      "metadata": {
        "colab": {
          "base_uri": "https://localhost:8080/"
        },
        "id": "QdlOG6QOl63g",
        "outputId": "da590b9d-a383-4929-da5b-e07d39a96e2b"
      },
      "outputs": [
        {
          "name": "stdout",
          "output_type": "stream",
          "text": [
            "Perfect Name\n"
          ]
        }
      ],
      "source": [
        "# Multiple condition in single line\n",
        "name=\"Prag\"\n",
        "if (type(name)==str) & (len(name)==4):\n",
        "    print(\"Perfect Name\")"
      ]
    },
    {
      "cell_type": "code",
      "execution_count": null,
      "metadata": {
        "colab": {
          "base_uri": "https://localhost:8080/"
        },
        "id": "Ou6WiPJ7md49",
        "outputId": "a81faf8b-5355-4361-a1da-60e11f3cebe6"
      },
      "outputs": [
        {
          "name": "stdout",
          "output_type": "stream",
          "text": [
            "Enter 1st 4 letter of your name : Prag\n",
            "Perfect Name\n"
          ]
        }
      ],
      "source": [
        "# Multiple condition in single line\n",
        "name=input(\"Enter 1st 4 letter of your name : \")\n",
        "if (type(name)==str) & (len(name)==4):\n",
        "    print(\"Perfect Name\")"
      ]
    },
    {
      "cell_type": "markdown",
      "metadata": {
        "id": "8-Rve-Q4w0fG"
      },
      "source": [
        "### if-else statements"
      ]
    },
    {
      "cell_type": "markdown",
      "metadata": {
        "id": "pbxPMhs-1QIs"
      },
      "source": [
        "In real life decisions are made based on two conditions which can be complex. to ease this we use if-else statements.\n",
        "- syntax\n",
        "if condition:\n",
        "    do something if condition is True\n",
        "else:\n",
        "    do something if condition is False"
      ]
    },
    {
      "cell_type": "markdown",
      "metadata": {
        "id": "hzsbg2Sd1h6E"
      },
      "source": [
        "How it works?\n",
        "- Check the if condition\n",
        "- if its True, it will run If block\n",
        "- if its False, it will run Else block"
      ]
    },
    {
      "cell_type": "code",
      "execution_count": null,
      "metadata": {
        "colab": {
          "base_uri": "https://localhost:8080/"
        },
        "id": "wZBMT_o0nniz",
        "outputId": "0d67626e-b03b-4fd3-c1f2-037228a12c08"
      },
      "outputs": [
        {
          "name": "stdout",
          "output_type": "stream",
          "text": [
            "You are eligible to vote.\n"
          ]
        }
      ],
      "source": [
        "age=18\n",
        "if age>=18:\n",
        "    print(\"You are eligible to vote.\")\n",
        "else :\n",
        "    print(\"You are minor.\")"
      ]
    },
    {
      "cell_type": "code",
      "execution_count": null,
      "metadata": {
        "colab": {
          "base_uri": "https://localhost:8080/"
        },
        "id": "P9ul9LV02E4k",
        "outputId": "81ea9616-c814-428c-8a60-b2081fa35279"
      },
      "outputs": [
        {
          "name": "stdout",
          "output_type": "stream",
          "text": [
            "Payment is successful.\n"
          ]
        }
      ],
      "source": [
        "payment=True\n",
        "if payment:\n",
        "    print(\"Payment is successful.\")\n",
        "else:\n",
        "    print(\"Transaction failed\")"
      ]
    },
    {
      "cell_type": "code",
      "execution_count": null,
      "metadata": {
        "colab": {
          "base_uri": "https://localhost:8080/"
        },
        "id": "rLpyVR_K2g4_",
        "outputId": "04cea085-c104-4f52-9b46-adfcd1a3e9ea"
      },
      "outputs": [
        {
          "name": "stdout",
          "output_type": "stream",
          "text": [
            "Transaction failed\n"
          ]
        }
      ],
      "source": [
        "payment=False\n",
        "if payment:\n",
        "    print(\"Payment is successful.\")\n",
        "else:\n",
        "    print(\"Transaction failed\")"
      ]
    },
    {
      "cell_type": "code",
      "execution_count": null,
      "metadata": {
        "colab": {
          "base_uri": "https://localhost:8080/"
        },
        "id": "4IHtcvL52lyX",
        "outputId": "f086dfdc-ebdb-417b-a025-54639f660b32"
      },
      "outputs": [
        {
          "name": "stdout",
          "output_type": "stream",
          "text": [
            "Enter your marks : 67\n",
            "PASS\n"
          ]
        }
      ],
      "source": [
        "marks=float(input(\"Enter your marks : \"))\n",
        "if 100>=marks>=45:\n",
        "    print(\"PASS\")\n",
        "else :\n",
        "    print(\"FAIL\")"
      ]
    },
    {
      "cell_type": "code",
      "execution_count": null,
      "metadata": {
        "colab": {
          "base_uri": "https://localhost:8080/"
        },
        "id": "TEBFGFnY5_SG",
        "outputId": "6bf5e79c-27d4-4e9d-ac93-df8d6b94da68"
      },
      "outputs": [
        {
          "name": "stdout",
          "output_type": "stream",
          "text": [
            "Enter the number : 876\n",
            "876  is Even no.\n"
          ]
        }
      ],
      "source": [
        "# Even or Odd\n",
        "number=int(input(\"Enter the number : \"))\n",
        "if number%2==0:\n",
        "    print(number, \" is Even no.\")\n",
        "else :\n",
        "    print(number, \" is Odd no.\")"
      ]
    },
    {
      "cell_type": "markdown",
      "metadata": {
        "id": "Nqvw5QzS708n"
      },
      "source": [
        "### if-elif-else Statements"
      ]
    },
    {
      "cell_type": "markdown",
      "metadata": {
        "id": "nfnR0wxR76JG"
      },
      "source": [
        "Sometime we have multiple conditions to check.\n",
        "- Syntax\n",
        "- if condition:\n",
        "    if True run this block\n",
        "- elif condition:\n",
        "    if True run this block\n",
        "- elif conditon\n",
        "    if True run this block\n",
        "- else :\n",
        "    if NOTA True run this block"
      ]
    },
    {
      "cell_type": "code",
      "execution_count": null,
      "metadata": {
        "colab": {
          "base_uri": "https://localhost:8080/"
        },
        "id": "9H-Kbuu-7wsn",
        "outputId": "dd2e32db-220e-4636-f64f-6276537abb27"
      },
      "outputs": [
        {
          "name": "stdout",
          "output_type": "stream",
          "text": [
            "D\n"
          ]
        }
      ],
      "source": [
        "marks=68\n",
        "if marks>90:\n",
        "    print(\"A\")\n",
        "elif marks>80:\n",
        "    print(\"B\")\n",
        "elif marks>70:\n",
        "    print(\"C\")\n",
        "elif marks>60:\n",
        "    print(\"D\")\n",
        "else:\n",
        "    print(\"Fail\")"
      ]
    },
    {
      "cell_type": "code",
      "execution_count": null,
      "metadata": {
        "colab": {
          "base_uri": "https://localhost:8080/"
        },
        "id": "k-EO52pd9lWu",
        "outputId": "d7c8ae86-bc2b-427b-ca3c-9072e70e1309"
      },
      "outputs": [
        {
          "name": "stdout",
          "output_type": "stream",
          "text": [
            "Enter the temperature in celcius : 23\n",
            "Pleasant whether\n"
          ]
        }
      ],
      "source": [
        "temp=int(input(\"Enter the temperature in celcius : \"))\n",
        "if temp >= 35:\n",
        "    print(\"It's HOT outside.\")\n",
        "elif temp >= 25:\n",
        "    print(\"Nice whether\")\n",
        "elif 20<temp<25:\n",
        "    print(\"Pleasant whether\")\n",
        "else:\n",
        "    print(\"Very cold\")"
      ]
    },
    {
      "cell_type": "markdown",
      "metadata": {
        "id": "kekN0rCWsOSH"
      },
      "source": [
        "### Nested if else Statements"
      ]
    },
    {
      "cell_type": "markdown",
      "metadata": {
        "id": "6wgpygZI3Ajs"
      },
      "source": [
        "It is used to put one if-else statements block inside other"
      ]
    },
    {
      "cell_type": "code",
      "execution_count": null,
      "metadata": {
        "id": "2gVDWnL73Og1"
      },
      "outputs": [],
      "source": [
        "#Syntax\n",
        "# if condition1:\n",
        "#    if condition2:\n",
        "#   else:\n",
        "#else:"
      ]
    },
    {
      "cell_type": "code",
      "execution_count": null,
      "metadata": {
        "colab": {
          "base_uri": "https://localhost:8080/"
        },
        "id": "Shl6fWEU-RBJ",
        "outputId": "5a16a45b-fd4c-41f8-af69-3a176119213f"
      },
      "outputs": [
        {
          "name": "stdout",
          "output_type": "stream",
          "text": [
            "Enter your marks out of 500 : 450\n",
            "Passed with Distinction.\n"
          ]
        }
      ],
      "source": [
        "Marks=int(input(\"Enter your marks out of 500 : \"))\n",
        "if Marks>=300:\n",
        "    if Marks>=450:\n",
        "        print(\"Passed with Distinction.\")\n",
        "    elif Marks>=400:\n",
        "        print(\"Passed with Grade A.\")\n",
        "    elif Marks>=350:\n",
        "        print(\"Passed with Grade B.\")\n",
        "    else :\n",
        "        print(\"Just Passed\")\n",
        "else :\n",
        "    print(\"FAIL\")"
      ]
    },
    {
      "cell_type": "markdown",
      "metadata": {
        "id": "dP3BgcXAL3LV"
      },
      "source": [
        "# Loops"
      ]
    },
    {
      "cell_type": "markdown",
      "metadata": {
        "id": "Wr48e-AQL4zD"
      },
      "source": [
        "A loop is a control structure that allows you to repeat a block of code multiple times.\n",
        "- It is fuel of repetition.\n",
        "- it is of two types.\n",
        "- 1. For Loop\n",
        "- 2. While loop"
      ]
    },
    {
      "cell_type": "markdown",
      "metadata": {
        "id": "ArJftkt-NQ4u"
      },
      "source": [
        "## For Loops"
      ]
    },
    {
      "cell_type": "markdown",
      "metadata": {
        "id": "4Tlxyxy9Nf9H"
      },
      "source": [
        "A for loop is used to iterate (repeat) over a sequence (like list, tuple, string, or range)\n",
        "It loops through each time one by one, and lets you run a block of code with it.\n"
      ]
    },
    {
      "cell_type": "code",
      "execution_count": null,
      "metadata": {
        "id": "UCwUtC-dwVPw"
      },
      "outputs": [],
      "source": [
        "# Syntax\n",
        "# for variable in sequence :     # variable is a place holder like i, item, etc.\n",
        "      # code block"
      ]
    },
    {
      "cell_type": "code",
      "execution_count": null,
      "metadata": {
        "colab": {
          "base_uri": "https://localhost:8080/"
        },
        "id": "L4QnLmUXOx1I",
        "outputId": "4c41f7fb-fc1b-40c3-b24b-b4bcdf1128bf"
      },
      "outputs": [
        {
          "name": "stdout",
          "output_type": "stream",
          "text": [
            "Color is :  red\n",
            "Color is :  blue\n",
            "Color is :  purple\n"
          ]
        }
      ],
      "source": [
        "# Loop over a list\n",
        "colors=[\"red\",\"blue\",\"purple\"]\n",
        "for Color in colors:\n",
        "    print(\"Color is : \", Color)"
      ]
    },
    {
      "cell_type": "code",
      "execution_count": null,
      "metadata": {
        "colab": {
          "base_uri": "https://localhost:8080/"
        },
        "id": "3yzWHkzaPALn",
        "outputId": "6ad414a4-09b3-4d49-ff96-62f983800f26"
      },
      "outputs": [
        {
          "name": "stdout",
          "output_type": "stream",
          "text": [
            "0\n",
            "1\n",
            "2\n",
            "3\n",
            "4\n"
          ]
        }
      ],
      "source": [
        "# Loop using range function\n",
        "for i in range(5):\n",
        "    print(i)"
      ]
    },
    {
      "cell_type": "code",
      "execution_count": null,
      "metadata": {
        "colab": {
          "base_uri": "https://localhost:8080/"
        },
        "id": "VEJ5J2uMPvYZ",
        "outputId": "52c0a2f8-8429-4272-b8bb-be9135823b74"
      },
      "outputs": [
        {
          "name": "stdout",
          "output_type": "stream",
          "text": [
            "10\n",
            "20\n",
            "30\n",
            "40\n",
            "50\n",
            "60\n",
            "70\n",
            "80\n",
            "90\n"
          ]
        }
      ],
      "source": [
        "for m in range(10,100,10):\n",
        "    print(m)"
      ]
    },
    {
      "cell_type": "code",
      "execution_count": null,
      "metadata": {
        "colab": {
          "base_uri": "https://localhost:8080/"
        },
        "id": "-0Sr5W6MP8Fi",
        "outputId": "473287e5-e282-4197-b383-e7c02c9377fc"
      },
      "outputs": [
        {
          "name": "stdout",
          "output_type": "stream",
          "text": [
            "r\n",
            "a\n",
            "i\n",
            "n\n",
            "b\n",
            "o\n",
            "w\n"
          ]
        }
      ],
      "source": [
        "# Loops through strings\n",
        "word = \"rainbow\"\n",
        "for letter in word:\n",
        "    print(letter)"
      ]
    },
    {
      "cell_type": "code",
      "execution_count": null,
      "metadata": {
        "colab": {
          "base_uri": "https://localhost:8080/"
        },
        "id": "Q1nZmV9kQR4r",
        "outputId": "fd8878d8-dd7f-41d3-eae0-160b2d000631"
      },
      "outputs": [
        {
          "name": "stdout",
          "output_type": "stream",
          "text": [
            "name  ->  XYZ\n",
            "age  ->  20\n",
            "class  ->  12th\n",
            "subject  ->  Computer\n"
          ]
        }
      ],
      "source": [
        "# Loops through dictionary\n",
        "student={\"name\":\"XYZ\",\"age\":20,\"class\":\"12th\",\"subject\":\"Computer\"}\n",
        "for details in student:\n",
        "    print(details , \" -> \", student[details])"
      ]
    },
    {
      "cell_type": "code",
      "execution_count": null,
      "metadata": {
        "colab": {
          "base_uri": "https://localhost:8080/"
        },
        "id": "o1H6mXKMQ9KB",
        "outputId": "9003ea95-74e7-48e2-872e-661ad9688452"
      },
      "outputs": [
        {
          "name": "stdout",
          "output_type": "stream",
          "text": [
            "i=0,j=0\n",
            "i=0,j=1\n",
            "i=0,j=2\n",
            "i=1,j=0\n",
            "i=1,j=1\n",
            "i=1,j=2\n"
          ]
        }
      ],
      "source": [
        "# Nested for Loop\n",
        "for i in range(2):\n",
        "    for j in range(3):\n",
        "        print(f\"i={i},j={j}\")\n",
        "# for each value of i range(m), j range(n) will go through n value"
      ]
    },
    {
      "cell_type": "markdown",
      "metadata": {
        "id": "KOyTqEmASuBp"
      },
      "source": [
        "## While loop"
      ]
    },
    {
      "cell_type": "markdown",
      "metadata": {
        "id": "j0j3cT7uS2pu"
      },
      "source": [
        "A while loop keeps running as long as a condition is True.\n",
        "- It is used for unknown repetition.\n",
        "- It is powerful, but dangerous"
      ]
    },
    {
      "cell_type": "code",
      "execution_count": null,
      "metadata": {
        "id": "NaQOzVdKTNdg"
      },
      "outputs": [],
      "source": [
        "# syntax\n",
        "# while condition:\n",
        "    # block of code"
      ]
    },
    {
      "cell_type": "markdown",
      "metadata": {
        "id": "2lu3lL_WTMGr"
      },
      "source": [
        "How it works:\n",
        "- The condition is checked before every loop.\n",
        "- If its True, the block inside the loop runs.\n",
        "- If it's False, the loop stops (exits).\n",
        "- If the condition never becomes false, it creates an infinite loop ➿."
      ]
    },
    {
      "cell_type": "code",
      "execution_count": null,
      "metadata": {
        "colab": {
          "base_uri": "https://localhost:8080/"
        },
        "id": "SLCg-gXARbTU",
        "outputId": "231a3932-f5ee-4a33-aca9-f91b1875b9b9"
      },
      "outputs": [
        {
          "name": "stdout",
          "output_type": "stream",
          "text": [
            "Count is :  1\n",
            "Count is :  2\n",
            "Count is :  3\n",
            "Count is :  4\n",
            "Count is :  5\n"
          ]
        }
      ],
      "source": [
        "# Example\n",
        "count =1\n",
        "while count <=5:\n",
        "    print(\"Count is : \",count)\n",
        "    count+=1 # to increase the count"
      ]
    },
    {
      "cell_type": "code",
      "execution_count": null,
      "metadata": {
        "colab": {
          "base_uri": "https://localhost:8080/"
        },
        "id": "07jUWYnLU5Tp",
        "outputId": "00b0fad0-7d16-408a-e923-7c87a336389f"
      },
      "outputs": [
        {
          "name": "stdout",
          "output_type": "stream",
          "text": [
            "1\n",
            "2\n",
            "3\n",
            "4\n",
            "5\n",
            "6\n"
          ]
        }
      ],
      "source": [
        "n=7\n",
        "i=1\n",
        "while i<n:\n",
        "    print(i)\n",
        "    i+=1"
      ]
    },
    {
      "cell_type": "code",
      "execution_count": null,
      "metadata": {
        "colab": {
          "base_uri": "https://localhost:8080/"
        },
        "id": "4R5HcgkqVX8j",
        "outputId": "5f57a1c0-aecc-468c-f523-3b1a648c97fc"
      },
      "outputs": [
        {
          "name": "stdout",
          "output_type": "stream",
          "text": [
            "Count is :  10\n",
            "Count is :  9\n",
            "Count is :  8\n",
            "Count is :  7\n",
            "Count is :  6\n",
            "Count is :  5\n",
            "Count is :  4\n",
            "Count is :  3\n",
            "Count is :  2\n",
            "Count is :  1\n"
          ]
        }
      ],
      "source": [
        "count=10\n",
        "while count>0:\n",
        "    print(\"Count is : \",count)\n",
        "    count-=1"
      ]
    },
    {
      "cell_type": "markdown",
      "metadata": {
        "id": "zcHnQVMtVpBs"
      },
      "source": [
        "## Loop Control Statements"
      ]
    },
    {
      "cell_type": "markdown",
      "metadata": {
        "id": "OkUrmapcVxhF"
      },
      "source": [
        "Loop control statements change the flow of loops by\n",
        "- stopping them\n",
        "- skipping them\n",
        "- acting as a placeholder"
      ]
    },
    {
      "cell_type": "markdown",
      "metadata": {
        "id": "rkFbkC4SV_Wt"
      },
      "source": [
        "These are like the traffic signs : when to stop , when to skip , when to chill.\n",
        "- 1. break statements\n",
        "- 2. continue statements\n",
        "- 3. pass statements"
      ]
    },
    {
      "cell_type": "markdown",
      "metadata": {
        "id": "4sJ8fL4iWXQq"
      },
      "source": [
        "### Break statements"
      ]
    },
    {
      "cell_type": "markdown",
      "metadata": {
        "id": "-cukqBjYWaSc"
      },
      "source": [
        "It is used to exit the loop immediately, no matter what the condition is."
      ]
    },
    {
      "cell_type": "code",
      "execution_count": null,
      "metadata": {
        "colab": {
          "base_uri": "https://localhost:8080/"
        },
        "id": "wdhV67aQVkmO",
        "outputId": "a923b63f-f4fe-41d3-9615-e562804f4280"
      },
      "outputs": [
        {
          "name": "stdout",
          "output_type": "stream",
          "text": [
            "0\n",
            "1\n",
            "2\n",
            "3\n",
            "4\n"
          ]
        }
      ],
      "source": [
        "# Syntax\n",
        "for i in range(10): # loop runs from 0 to 9\n",
        "    if i==5: # when i==5, break, loop ends\n",
        "        break\n",
        "    print(i)"
      ]
    },
    {
      "cell_type": "code",
      "execution_count": null,
      "metadata": {
        "colab": {
          "base_uri": "https://localhost:8080/"
        },
        "id": "y46_u881W6Fp",
        "outputId": "a9a99cd1-2162-4cc9-c7e5-a8deb14156c0"
      },
      "outputs": [
        {
          "name": "stdout",
          "output_type": "stream",
          "text": [
            "1\n",
            "Done\n",
            "2\n",
            "Done\n",
            "3\n",
            "Done\n",
            "4\n"
          ]
        }
      ],
      "source": [
        "n=7\n",
        "i=1\n",
        "while i<n:\n",
        "    print(i)\n",
        "    i+=1\n",
        "    if i==5:\n",
        "        break\n",
        "    else:\n",
        "        print(\"Done\")"
      ]
    },
    {
      "cell_type": "markdown",
      "metadata": {
        "id": "0uUIRyC5YQmO"
      },
      "source": [
        "### Continue Statement"
      ]
    },
    {
      "cell_type": "markdown",
      "metadata": {
        "id": "8Zsvms2cYUYo"
      },
      "source": [
        "It is used to skip the current iteration, and move on to the next one.\n",
        "- \"**Skip the One, Next Please**\""
      ]
    },
    {
      "cell_type": "code",
      "execution_count": null,
      "metadata": {
        "colab": {
          "base_uri": "https://localhost:8080/"
        },
        "id": "a9Jm_Xu1XadN",
        "outputId": "bb85bde9-48ee-4630-ae41-3bc786d33eb7"
      },
      "outputs": [
        {
          "name": "stdout",
          "output_type": "stream",
          "text": [
            "0\n",
            "1\n",
            "3\n",
            "4\n"
          ]
        }
      ],
      "source": [
        "for i in range(5):\n",
        "    if i==2: #when i==2, it will skip and then continue\n",
        "        continue\n",
        "    print(i)"
      ]
    },
    {
      "cell_type": "code",
      "execution_count": null,
      "metadata": {
        "colab": {
          "base_uri": "https://localhost:8080/"
        },
        "id": "AxKWLp8_Yt2-",
        "outputId": "0cdba731-d592-4790-c4a6-f8bf22810c24"
      },
      "outputs": [
        {
          "name": "stdout",
          "output_type": "stream",
          "text": [
            "1\n",
            "2\n",
            "3\n",
            "4\n",
            "6\n",
            "7\n"
          ]
        }
      ],
      "source": [
        "n=7\n",
        "i=0\n",
        "while i<n:\n",
        "    i+=1\n",
        "    if i==5:\n",
        "        continue\n",
        "    print(i)\n"
      ]
    },
    {
      "cell_type": "markdown",
      "metadata": {
        "id": "kVVoU4eXaLkB"
      },
      "source": [
        "### Pass Statement"
      ]
    },
    {
      "cell_type": "markdown",
      "metadata": {
        "id": "aR03GG88aO29"
      },
      "source": [
        "Used as a placeholder, When we need some code later, but not now.\n",
        "- \"***Do nothing, Just Pass***\""
      ]
    },
    {
      "cell_type": "code",
      "execution_count": null,
      "metadata": {
        "id": "i3qhtBLGZXf0"
      },
      "outputs": [],
      "source": [
        "for i in range(5):\n",
        "    pass # do nothing"
      ]
    },
    {
      "cell_type": "code",
      "execution_count": null,
      "metadata": {
        "colab": {
          "base_uri": "https://localhost:8080/"
        },
        "id": "w0YFUFfoavRU",
        "outputId": "12acec91-42fc-4403-e778-df4b57b21e3d"
      },
      "outputs": [
        {
          "name": "stdout",
          "output_type": "stream",
          "text": [
            "0\n",
            "1\n",
            "3\n",
            "4\n"
          ]
        }
      ],
      "source": [
        "# using break, continue, pass\n",
        "for i in range(7):\n",
        "    if i==2:\n",
        "        continue #skip at 2\n",
        "    elif i==5:\n",
        "        break # end the loop at 5\n",
        "    elif i == 3:\n",
        "        pass # do nothing\n",
        "    print(i)"
      ]
    },
    {
      "cell_type": "markdown",
      "metadata": {
        "id": "odEpPZFnd3Mj"
      },
      "source": [
        "## Examples & Projects"
      ]
    },
    {
      "cell_type": "code",
      "execution_count": null,
      "metadata": {
        "colab": {
          "base_uri": "https://localhost:8080/"
        },
        "id": "tA3pZdMidYDj",
        "outputId": "1b9effa3-3b79-4ff9-c95d-4a3fa69ff4cb"
      },
      "outputs": [
        {
          "name": "stdout",
          "output_type": "stream",
          "text": [
            "1\n",
            "1.2\n",
            "True\n",
            "Prag\n"
          ]
        }
      ],
      "source": [
        "l=[1,1.2,True,\"Prag\"]\n",
        "for i in l:\n",
        "    print(i)"
      ]
    },
    {
      "cell_type": "code",
      "execution_count": null,
      "metadata": {
        "colab": {
          "base_uri": "https://localhost:8080/"
        },
        "id": "61O5YS3Uexua",
        "outputId": "c6769d3c-2c60-42da-e34c-b1620c8f0567"
      },
      "outputs": [
        {
          "name": "stdout",
          "output_type": "stream",
          "text": [
            "1\n",
            "1.2\n",
            "True\n",
            "Prag\n",
            "Executed\n"
          ]
        }
      ],
      "source": [
        "for i in l:\n",
        "    print(i)\n",
        "else:\n",
        "    print(\"Executed\")"
      ]
    },
    {
      "cell_type": "code",
      "execution_count": null,
      "metadata": {
        "colab": {
          "base_uri": "https://localhost:8080/"
        },
        "id": "8Nz-KcoofHW5",
        "outputId": "709ee11b-2f41-41b8-93ca-daa7b0f8637f"
      },
      "outputs": [
        {
          "name": "stdout",
          "output_type": "stream",
          "text": [
            "1\n",
            "1.2\n",
            "True\n"
          ]
        }
      ],
      "source": [
        "for i in l:\n",
        "    if i==\"Prag\":\n",
        "        break\n",
        "    print(i)"
      ]
    },
    {
      "cell_type": "code",
      "execution_count": null,
      "metadata": {
        "colab": {
          "base_uri": "https://localhost:8080/"
        },
        "id": "iKUbyFB2fTRy",
        "outputId": "4469c2db-ff82-43d1-f2f6-2c2019dc6e8b"
      },
      "outputs": [
        {
          "name": "stdout",
          "output_type": "stream",
          "text": [
            "0  1  2  3  4  5  6  7  8  9  "
          ]
        }
      ],
      "source": [
        "for i in range(10):\n",
        "    print(i,end=\"  \")"
      ]
    },
    {
      "cell_type": "code",
      "execution_count": null,
      "metadata": {
        "colab": {
          "base_uri": "https://localhost:8080/"
        },
        "id": "T9SSlKdnfxOF",
        "outputId": "75a0c555-9af7-468c-ce95-e5d49f3e55b9"
      },
      "outputs": [
        {
          "data": {
            "text/plain": [
              "[0, 4, 8, 12, 16]"
            ]
          },
          "execution_count": 127,
          "metadata": {},
          "output_type": "execute_result"
        }
      ],
      "source": [
        "list(range(0,20,4))"
      ]
    },
    {
      "cell_type": "markdown",
      "metadata": {
        "id": "0uH9nuorhs0Y"
      },
      "source": [
        "### For loop examples"
      ]
    },
    {
      "cell_type": "markdown",
      "metadata": {
        "id": "9ghpWr9Bikx6"
      },
      "source": [
        "Sum of N natural number"
      ]
    },
    {
      "cell_type": "code",
      "execution_count": null,
      "metadata": {
        "colab": {
          "base_uri": "https://localhost:8080/"
        },
        "id": "2nR1mnkkiT6H",
        "outputId": "145b82ea-eeb2-417c-d9d7-450a86eaf2e1"
      },
      "outputs": [
        {
          "name": "stdout",
          "output_type": "stream",
          "text": [
            "Enter the natural number : 10\n",
            "Sum :  55\n"
          ]
        }
      ],
      "source": [
        "num=int(input(\"Enter the natural number : \"))\n",
        "Sum=0\n",
        "for i in range(1,num+1):\n",
        "    Sum+=i\n",
        "print(\"Sum : \",Sum)"
      ]
    },
    {
      "cell_type": "markdown",
      "metadata": {
        "id": "yum9g1bMkuHu"
      },
      "source": [
        "Sum of even number only"
      ]
    },
    {
      "cell_type": "code",
      "execution_count": null,
      "metadata": {
        "colab": {
          "base_uri": "https://localhost:8080/"
        },
        "id": "aK-q557hjXT4",
        "outputId": "2ff4cd42-8c9d-4f5e-9470-45ccef4a88bd"
      },
      "outputs": [
        {
          "name": "stdout",
          "output_type": "stream",
          "text": [
            "Sum of even number from 0 to n, n : 6\n",
            "12\n"
          ]
        }
      ],
      "source": [
        "# It print the sum of even number between 0 to n (n=20)\n",
        "num=int(input(\"Sum of even number from 0 to n, n : \"))\n",
        "Sum=0\n",
        "for i in range(2,num+1,2):\n",
        "    Sum+=i\n",
        "print(Sum)"
      ]
    },
    {
      "cell_type": "markdown",
      "metadata": {
        "id": "IDZiw07lypSF"
      },
      "source": [
        "Printing star triangle"
      ]
    },
    {
      "cell_type": "code",
      "execution_count": null,
      "metadata": {
        "colab": {
          "base_uri": "https://localhost:8080/"
        },
        "id": "R0RILlFfycgB",
        "outputId": "1b51507c-607e-4af7-f6ca-cb75e62dd4ea"
      },
      "outputs": [
        {
          "name": "stdout",
          "output_type": "stream",
          "text": [
            "* \n",
            "* * \n",
            "* * * \n",
            "* * * * \n"
          ]
        }
      ],
      "source": [
        "# using while loop\n",
        "row=1\n",
        "while row <=4:\n",
        "    col=1\n",
        "    while col<=row:\n",
        "        print(\"*\", end=\" \")\n",
        "        col=col+1\n",
        "    print()\n",
        "    row=row+1"
      ]
    },
    {
      "cell_type": "code",
      "execution_count": null,
      "metadata": {
        "colab": {
          "base_uri": "https://localhost:8080/"
        },
        "id": "2bd7iSOKyueP",
        "outputId": "1e9eb998-9a8b-4eba-a532-cf34db3e9de0"
      },
      "outputs": [
        {
          "name": "stdout",
          "output_type": "stream",
          "text": [
            "* \n",
            "* * \n",
            "* * * \n",
            "* * * * \n",
            "* * * * * \n",
            "* * * * * * \n",
            "* * * * * * * \n",
            "* * * * * * * * \n",
            "* * * * * * * * * \n",
            "* * * * * * * * * * \n"
          ]
        }
      ],
      "source": [
        "# using for loop\n",
        "for i in range(10):\n",
        "    for j in range(i+1):\n",
        "        print(\"*\",end=\" \")\n",
        "    print()"
      ]
    },
    {
      "cell_type": "markdown",
      "metadata": {
        "id": "9K5OWsfWREO3"
      },
      "source": [
        "# Data Structure"
      ]
    },
    {
      "cell_type": "markdown",
      "metadata": {
        "id": "kN1G_vyxSWmW"
      },
      "source": [
        "Aka data container.\n",
        "Way of organising and storing data so that it can be accessed and manipulated easily and efficiently.\n",
        "- It is sequencial way of organising data."
      ]
    },
    {
      "cell_type": "code",
      "execution_count": 1,
      "metadata": {
        "colab": {
          "base_uri": "https://localhost:8080/"
        },
        "id": "fFdopQ3dzXzm",
        "outputId": "feb8db5c-0cd5-4eff-a233-25deb7bbff9a"
      },
      "outputs": [
        {
          "data": {
            "text/plain": [
              "('A', 'P', 'P', 'L', 'E')"
            ]
          },
          "execution_count": 1,
          "metadata": {},
          "output_type": "execute_result"
        }
      ],
      "source": [
        "m=\"APPLE\"\n",
        "m[0],m[1],m[2],m[3],m[4]"
      ]
    },
    {
      "cell_type": "markdown",
      "metadata": {
        "id": "W3iMWHevW0xB"
      },
      "source": [
        "Types of data structure:\n",
        "- String\n",
        "- List\n",
        "- Tuple\n",
        "- Set\n",
        "- Dictionary\n",
        "- Array\n"
      ]
    },
    {
      "cell_type": "markdown",
      "metadata": {
        "id": "MoCGSSeNYM3m"
      },
      "source": [
        "##List"
      ]
    },
    {
      "cell_type": "markdown",
      "metadata": {
        "id": "enCyJemiYQqf"
      },
      "source": [
        "- Can store anything.\n",
        "- Heterogenous\n",
        "- Ordered collection of elements\n",
        "- Mutable"
      ]
    },
    {
      "cell_type": "code",
      "execution_count": 2,
      "metadata": {
        "colab": {
          "base_uri": "https://localhost:8080/"
        },
        "id": "U7IjBkGUT3-N",
        "outputId": "cf44e496-b320-4d4e-9eea-3714a57d6855"
      },
      "outputs": [
        {
          "data": {
            "text/plain": [
              "[1, 2, 3, 4]"
            ]
          },
          "execution_count": 2,
          "metadata": {},
          "output_type": "execute_result"
        }
      ],
      "source": [
        "num=[1,2,3,4]\n",
        "num"
      ]
    },
    {
      "cell_type": "code",
      "execution_count": 3,
      "metadata": {
        "colab": {
          "base_uri": "https://localhost:8080/"
        },
        "id": "dCIE6YOZZh-k",
        "outputId": "e0999c8d-eb00-405d-84a4-d2ba734fe12f"
      },
      "outputs": [
        {
          "data": {
            "text/plain": [
              "list"
            ]
          },
          "execution_count": 3,
          "metadata": {},
          "output_type": "execute_result"
        }
      ],
      "source": [
        "type(num)"
      ]
    },
    {
      "cell_type": "code",
      "execution_count": 4,
      "metadata": {
        "colab": {
          "base_uri": "https://localhost:8080/"
        },
        "id": "ZOFelHehZlWT",
        "outputId": "de7351c5-6292-45c4-cfd2-db57d389256c"
      },
      "outputs": [
        {
          "data": {
            "text/plain": [
              "(4, 3, 2, 1)"
            ]
          },
          "execution_count": 4,
          "metadata": {},
          "output_type": "execute_result"
        }
      ],
      "source": [
        "num[-1],num[-2],num[-3],num[-4]"
      ]
    },
    {
      "cell_type": "code",
      "execution_count": 5,
      "metadata": {
        "colab": {
          "base_uri": "https://localhost:8080/"
        },
        "id": "D27-VHjPy42p",
        "outputId": "b7ef4c5c-eee0-4508-adee-e4b56ff86dea"
      },
      "outputs": [
        {
          "data": {
            "text/plain": [
              "(1, 2, 3, 4)"
            ]
          },
          "execution_count": 5,
          "metadata": {},
          "output_type": "execute_result"
        }
      ],
      "source": [
        "num[0],num[1],num[2],num[3]"
      ]
    },
    {
      "cell_type": "code",
      "execution_count": 6,
      "metadata": {
        "colab": {
          "base_uri": "https://localhost:8080/"
        },
        "id": "I1PM98wXy-hn",
        "outputId": "d7f55034-57e4-44d1-ce34-fd27d902b544"
      },
      "outputs": [
        {
          "data": {
            "text/plain": [
              "['Apple', 'Banana', 'Watermelon', 25, 67.98, -67, (5+7j), True]"
            ]
          },
          "execution_count": 6,
          "metadata": {},
          "output_type": "execute_result"
        }
      ],
      "source": [
        "# Can stor all types of data << Heterogenous\n",
        "list1=[\"Apple\",\"Banana\",\"Watermelon\",25,67.98,-67,5+7j,True]\n",
        "list1"
      ]
    },
    {
      "cell_type": "code",
      "execution_count": 7,
      "metadata": {
        "colab": {
          "base_uri": "https://localhost:8080/"
        },
        "id": "rxcJKiH0zgUy",
        "outputId": "37a1c155-0019-4785-83a4-b343efd060ca"
      },
      "outputs": [
        {
          "data": {
            "text/plain": [
              "list"
            ]
          },
          "execution_count": 7,
          "metadata": {},
          "output_type": "execute_result"
        }
      ],
      "source": [
        "type(list1)"
      ]
    },
    {
      "cell_type": "markdown",
      "metadata": {
        "id": "kAHZ-YpRzmOM"
      },
      "source": [
        "### Mutable"
      ]
    },
    {
      "cell_type": "markdown",
      "metadata": {
        "id": "_rj7AMZ3zoth"
      },
      "source": [
        "Can be modified or edited even after execution"
      ]
    },
    {
      "cell_type": "code",
      "execution_count": 8,
      "metadata": {
        "colab": {
          "base_uri": "https://localhost:8080/"
        },
        "id": "RbjZ17F0zkqX",
        "outputId": "e1c886d5-6da0-4c2c-d9f6-ed7e2d05f994"
      },
      "outputs": [
        {
          "data": {
            "text/plain": [
              "['Apple', 'Banana', 'Watermelon', 25, 67.98, -67, (5+7j), True]"
            ]
          },
          "execution_count": 8,
          "metadata": {},
          "output_type": "execute_result"
        }
      ],
      "source": [
        "list1"
      ]
    },
    {
      "cell_type": "code",
      "execution_count": 9,
      "metadata": {
        "colab": {
          "base_uri": "https://localhost:8080/",
          "height": 35
        },
        "id": "-P2h-7R2zv7g",
        "outputId": "07580ca1-18c7-459b-e3d5-4794cc14ef6b"
      },
      "outputs": [
        {
          "data": {
            "text/plain": [
              "'Apple'"
            ]
          },
          "execution_count": 9,
          "metadata": {},
          "output_type": "execute_result"
        }
      ],
      "source": [
        "list1[0]"
      ]
    },
    {
      "cell_type": "code",
      "execution_count": 10,
      "metadata": {
        "id": "d0H_KectzyA6"
      },
      "outputs": [],
      "source": [
        "list1[0]=\"Grapes\""
      ]
    },
    {
      "cell_type": "code",
      "execution_count": 11,
      "metadata": {
        "colab": {
          "base_uri": "https://localhost:8080/"
        },
        "id": "9q-Qnes-z1dD",
        "outputId": "bc316c45-6bb9-4e3c-d831-73e3773ce802"
      },
      "outputs": [
        {
          "data": {
            "text/plain": [
              "['Grapes', 'Banana', 'Watermelon', 25, 67.98, -67, (5+7j), True]"
            ]
          },
          "execution_count": 11,
          "metadata": {},
          "output_type": "execute_result"
        }
      ],
      "source": [
        "list1 # 1st element i.e. Apple is replaced by Grapes."
      ]
    },
    {
      "cell_type": "markdown",
      "metadata": {
        "id": "sDHC6fOg0KkS"
      },
      "source": [
        "### Adding elements to the list"
      ]
    },
    {
      "cell_type": "code",
      "execution_count": 12,
      "metadata": {
        "colab": {
          "base_uri": "https://localhost:8080/"
        },
        "id": "x6c7F8Iez2YO",
        "outputId": "612f2fc5-01b2-4709-c584-e06362463e1a"
      },
      "outputs": [
        {
          "data": {
            "text/plain": [
              "['Grapes', 'Banana', 'Watermelon', 25, 67.98, -67, (5+7j), True]"
            ]
          },
          "execution_count": 12,
          "metadata": {},
          "output_type": "execute_result"
        }
      ],
      "source": [
        "list1"
      ]
    },
    {
      "cell_type": "code",
      "execution_count": 13,
      "metadata": {
        "colab": {
          "base_uri": "https://localhost:8080/"
        },
        "id": "LiZq7Tis0Pj3",
        "outputId": "fc8664cf-89db-49f3-83bf-b898cbfd0e0b"
      },
      "outputs": [
        {
          "data": {
            "text/plain": [
              "['Grapes', 'Banana', 'Watermelon', 25, 67.98, -67, (5+7j), True, 'Fruits']"
            ]
          },
          "execution_count": 13,
          "metadata": {},
          "output_type": "execute_result"
        }
      ],
      "source": [
        "# To add element we use list.append(\"item\")\n",
        "list1.append(\"Fruits\") #append object to the end of list\n",
        "list1"
      ]
    },
    {
      "cell_type": "code",
      "execution_count": 14,
      "metadata": {
        "colab": {
          "base_uri": "https://localhost:8080/"
        },
        "id": "R-asdPk10kCu",
        "outputId": "d9fc012c-4c06-4bd9-9a4f-f52a9c2b2d9e"
      },
      "outputs": [
        {
          "data": {
            "text/plain": [
              "list"
            ]
          },
          "execution_count": 14,
          "metadata": {},
          "output_type": "execute_result"
        }
      ],
      "source": [
        "type(list1)"
      ]
    },
    {
      "cell_type": "code",
      "execution_count": 15,
      "metadata": {
        "colab": {
          "base_uri": "https://localhost:8080/"
        },
        "id": "RYADKe9e0zoC",
        "outputId": "312735c4-1183-4cc8-8618-caa9d1ce878e"
      },
      "outputs": [
        {
          "data": {
            "text/plain": [
              "['Grapes', 'Banana', 'Watermelon', 25, 67.98, -67, (5+7j), True, 'Fruits']"
            ]
          },
          "execution_count": 15,
          "metadata": {},
          "output_type": "execute_result"
        }
      ],
      "source": [
        "list1"
      ]
    },
    {
      "cell_type": "code",
      "execution_count": 16,
      "metadata": {
        "colab": {
          "base_uri": "https://localhost:8080/"
        },
        "id": "dnK_LKH_51x2",
        "outputId": "0206296e-1298-46d3-e909-fe233a147f44"
      },
      "outputs": [
        {
          "data": {
            "text/plain": [
              "['Raabta', 'Perfect', 'Donali']"
            ]
          },
          "execution_count": 16,
          "metadata": {},
          "output_type": "execute_result"
        }
      ],
      "source": [
        "# Use case\n",
        "playlist=[]\n",
        "playlist.append(\"Raabta\")\n",
        "playlist.append(\"Perfect\")\n",
        "playlist.append(\"Donali\")\n",
        "playlist"
      ]
    },
    {
      "cell_type": "markdown",
      "metadata": {
        "id": "Kcv-0ci709WF"
      },
      "source": [
        "### Removing element from list"
      ]
    },
    {
      "cell_type": "code",
      "execution_count": 17,
      "metadata": {
        "colab": {
          "base_uri": "https://localhost:8080/"
        },
        "id": "41oQCyK300rp",
        "outputId": "bbb50285-ea52-4646-a13b-6a3ff3b530a6"
      },
      "outputs": [
        {
          "data": {
            "text/plain": [
              "['Grapes', 'Banana', 'Watermelon', 25, 67.98, -67, (5+7j), True]"
            ]
          },
          "execution_count": 17,
          "metadata": {},
          "output_type": "execute_result"
        }
      ],
      "source": [
        "# To remove element we use list.remove(item)\n",
        "list1.remove(\"Fruits\")\n",
        "list1"
      ]
    },
    {
      "cell_type": "code",
      "execution_count": 18,
      "metadata": {
        "colab": {
          "base_uri": "https://localhost:8080/"
        },
        "id": "YxrV6Key1KlS",
        "outputId": "531c43e2-7dd8-4ccc-c18c-f821cb9ffb31"
      },
      "outputs": [
        {
          "data": {
            "text/plain": [
              "['Grapes', 'Banana', 'Watermelon', 25, 67.98, (5+7j), True]"
            ]
          },
          "execution_count": 18,
          "metadata": {},
          "output_type": "execute_result"
        }
      ],
      "source": [
        "list1.remove(-67)\n",
        "list1"
      ]
    },
    {
      "cell_type": "markdown",
      "metadata": {
        "id": "GbvfWpal3Eva"
      },
      "source": [
        "### Nested List"
      ]
    },
    {
      "cell_type": "markdown",
      "metadata": {
        "id": "4ueJblj_3Hrc"
      },
      "source": [
        "Lists inside other list"
      ]
    },
    {
      "cell_type": "code",
      "execution_count": 19,
      "metadata": {
        "colab": {
          "base_uri": "https://localhost:8080/"
        },
        "id": "ACxMhCqu3ABf",
        "outputId": "9a27c97f-5455-4cff-da0e-4ef25988fb04"
      },
      "outputs": [
        {
          "data": {
            "text/plain": [
              "[[1, 2, 3], [4, 5, 6], [7, 8, 9]]"
            ]
          },
          "execution_count": 19,
          "metadata": {},
          "output_type": "execute_result"
        }
      ],
      "source": [
        "a=[[1,2,3],[4,5,6],[7,8,9]]\n",
        "a"
      ]
    },
    {
      "cell_type": "code",
      "execution_count": 20,
      "metadata": {
        "colab": {
          "base_uri": "https://localhost:8080/"
        },
        "id": "4Q4dBI3Y3T8m",
        "outputId": "16f56684-2e74-4b64-f93b-d97c4ae96dfb"
      },
      "outputs": [
        {
          "data": {
            "text/plain": [
              "list"
            ]
          },
          "execution_count": 20,
          "metadata": {},
          "output_type": "execute_result"
        }
      ],
      "source": [
        "type(a)"
      ]
    },
    {
      "cell_type": "code",
      "execution_count": 21,
      "metadata": {
        "colab": {
          "base_uri": "https://localhost:8080/"
        },
        "id": "66387_mr3V5T",
        "outputId": "151995b1-3c99-4515-c772-e8dcbd61cac3"
      },
      "outputs": [
        {
          "data": {
            "text/plain": [
              "(3, 5, 7)"
            ]
          },
          "execution_count": 21,
          "metadata": {},
          "output_type": "execute_result"
        }
      ],
      "source": [
        "# Indexing this kind of lists by list[m][n]\n",
        "a[0][2],a[1][1],a[2][0]"
      ]
    },
    {
      "cell_type": "code",
      "execution_count": 22,
      "metadata": {
        "colab": {
          "base_uri": "https://localhost:8080/"
        },
        "id": "a0CgJFtB3ooA",
        "outputId": "d4ea868e-895b-40fb-e4d4-b8fee55dedce"
      },
      "outputs": [
        {
          "data": {
            "text/plain": [
              "2"
            ]
          },
          "execution_count": 22,
          "metadata": {},
          "output_type": "execute_result"
        }
      ],
      "source": [
        "a[0][1]"
      ]
    },
    {
      "cell_type": "markdown",
      "metadata": {
        "id": "HLaQUPRV39Oo"
      },
      "source": [
        "### Iteration in List"
      ]
    },
    {
      "cell_type": "code",
      "execution_count": 23,
      "metadata": {
        "colab": {
          "base_uri": "https://localhost:8080/"
        },
        "id": "ToE71UBj35K4",
        "outputId": "2d6ab685-fb57-4152-83bb-d1ed6feceaf1"
      },
      "outputs": [
        {
          "name": "stdout",
          "output_type": "stream",
          "text": [
            "[1, 2, 3]\n",
            "[4, 5, 6]\n",
            "[7, 8, 9]\n"
          ]
        }
      ],
      "source": [
        "for i in a:\n",
        "    print(i)"
      ]
    },
    {
      "cell_type": "markdown",
      "metadata": {
        "id": "3C5S77PS4ZdJ"
      },
      "source": [
        "### Slicing of List"
      ]
    },
    {
      "cell_type": "markdown",
      "metadata": {
        "id": "OWO-Sump4lbN"
      },
      "source": [
        "Extracting a part or slice of a list.\n",
        "- list[start:end:step]\n",
        "- start : Index where slice starts (inclusive)\n",
        "- end : index where slice ends (Exclusive)\n",
        "- step : How many items to skip (Optional)\n"
      ]
    },
    {
      "cell_type": "code",
      "execution_count": 24,
      "metadata": {
        "colab": {
          "base_uri": "https://localhost:8080/"
        },
        "id": "7Gjy-pIu4FuW",
        "outputId": "4a1936a5-ad26-46bd-a264-1ee21c54b910"
      },
      "outputs": [
        {
          "data": {
            "text/plain": [
              "[1, 2, 3, 4, 5, 6, 7]"
            ]
          },
          "execution_count": 24,
          "metadata": {},
          "output_type": "execute_result"
        }
      ],
      "source": [
        "my_num=[1,2,3,4,5,6,7]\n",
        "my_num"
      ]
    },
    {
      "cell_type": "code",
      "execution_count": 25,
      "metadata": {
        "colab": {
          "base_uri": "https://localhost:8080/"
        },
        "id": "dRANya2Y5MKN",
        "outputId": "deecc2df-9b66-4ee8-d1fe-517bf519bff1"
      },
      "outputs": [
        {
          "data": {
            "text/plain": [
              "[1, 2, 3]"
            ]
          },
          "execution_count": 25,
          "metadata": {},
          "output_type": "execute_result"
        }
      ],
      "source": [
        "# to get first three character\n",
        "my_num[0:3]"
      ]
    },
    {
      "cell_type": "code",
      "execution_count": 26,
      "metadata": {
        "colab": {
          "base_uri": "https://localhost:8080/"
        },
        "id": "_joqNU8E5VpM",
        "outputId": "2fcf60fc-8b7c-4eb5-8e0c-017ec5145467"
      },
      "outputs": [
        {
          "data": {
            "text/plain": [
              "[3, 4, 5, 6, 7]"
            ]
          },
          "execution_count": 26,
          "metadata": {},
          "output_type": "execute_result"
        }
      ],
      "source": [
        "# to get last 4 character\n",
        "my_num[-5:]"
      ]
    },
    {
      "cell_type": "markdown",
      "metadata": {
        "id": "KHnTgJNo6W7Z"
      },
      "source": [
        "### insert()"
      ]
    },
    {
      "cell_type": "markdown",
      "metadata": {
        "id": "vLHyVR4H6aGN"
      },
      "source": [
        "To insert object before sepcific index"
      ]
    },
    {
      "cell_type": "code",
      "execution_count": 27,
      "metadata": {
        "colab": {
          "base_uri": "https://localhost:8080/"
        },
        "id": "hg_v0RXM5g8c",
        "outputId": "e009711d-662c-46c8-8278-cb0b6d5b013d"
      },
      "outputs": [
        {
          "data": {
            "text/plain": [
              "['SAM02', 'PRA78', 'ANU56', 'MAH34']"
            ]
          },
          "execution_count": 27,
          "metadata": {},
          "output_type": "execute_result"
        }
      ],
      "source": [
        "emp_id=[\"SAM02\",\"PRA78\",\"ANU56\",\"MAH34\"]\n",
        "emp_id"
      ]
    },
    {
      "cell_type": "code",
      "execution_count": 28,
      "metadata": {
        "colab": {
          "base_uri": "https://localhost:8080/"
        },
        "id": "Ql9lws1K67Rn",
        "outputId": "a16f8c2f-a802-4e97-85f3-6d0fdcd07db8"
      },
      "outputs": [
        {
          "data": {
            "text/plain": [
              "['SAM02', 'DIP21', 'PRA78', 'ANU56', 'MAH34']"
            ]
          },
          "execution_count": 28,
          "metadata": {},
          "output_type": "execute_result"
        }
      ],
      "source": [
        "emp_id.insert(1,\"DIP21\")\n",
        "emp_id"
      ]
    },
    {
      "cell_type": "code",
      "execution_count": 29,
      "metadata": {
        "id": "z-ck4hRJ7GtI"
      },
      "outputs": [],
      "source": [
        "#Use case\n",
        "bus_seat=[\"A\",\"B\",\"C\",\"D\",\"F\",\"G\",\"J\"]"
      ]
    },
    {
      "cell_type": "code",
      "execution_count": 30,
      "metadata": {
        "colab": {
          "base_uri": "https://localhost:8080/"
        },
        "id": "vIyHZFV87b-B",
        "outputId": "5e78acc8-ae18-4155-de4f-fc8ae423546e"
      },
      "outputs": [
        {
          "data": {
            "text/plain": [
              "['A', 'B', 'C', 'D', 'E', 'F', 'G', 'J']"
            ]
          },
          "execution_count": 30,
          "metadata": {},
          "output_type": "execute_result"
        }
      ],
      "source": [
        "bus_seat.insert(4,\"E\")\n",
        "bus_seat"
      ]
    },
    {
      "cell_type": "code",
      "execution_count": 31,
      "metadata": {
        "colab": {
          "base_uri": "https://localhost:8080/"
        },
        "id": "jvY_bA-R79Nq",
        "outputId": "db8334aa-5b34-43ed-bc4e-4c032903da1b"
      },
      "outputs": [
        {
          "data": {
            "text/plain": [
              "['A', 'B', 'C', 'D', 'E', 'F', 'G', 'H', 'J']"
            ]
          },
          "execution_count": 31,
          "metadata": {},
          "output_type": "execute_result"
        }
      ],
      "source": [
        "bus_seat.insert(7,\"H\")\n",
        "bus_seat"
      ]
    },
    {
      "cell_type": "code",
      "execution_count": 32,
      "metadata": {
        "colab": {
          "base_uri": "https://localhost:8080/"
        },
        "id": "sJx6hm9h8z0y",
        "outputId": "f869e8f9-92c5-4430-c2fb-44a8a1149da7"
      },
      "outputs": [
        {
          "data": {
            "text/plain": [
              "['A', 'B', 'C', 'D', 'E', 'F', 'G', 'H', 'I', 'J']"
            ]
          },
          "execution_count": 32,
          "metadata": {},
          "output_type": "execute_result"
        }
      ],
      "source": [
        "bus_seat.insert(8,\"I\")\n",
        "bus_seat"
      ]
    },
    {
      "cell_type": "markdown",
      "metadata": {
        "id": "ecUas-MM9PHO"
      },
      "source": [
        "### extend()"
      ]
    },
    {
      "cell_type": "markdown",
      "metadata": {
        "id": "wfoDiHlt9Ro1"
      },
      "source": [
        "Used to append elements from another list"
      ]
    },
    {
      "cell_type": "code",
      "execution_count": 33,
      "metadata": {
        "id": "7tBNJrj09B_Q"
      },
      "outputs": [],
      "source": [
        "my_list=[\"Singing\",\"Travelling\",\"Dancing\",\"Cooking\"]\n",
        "your_list=[\"Coding\",\"Sleeping\",\"Yapping\"]"
      ]
    },
    {
      "cell_type": "code",
      "execution_count": 34,
      "metadata": {
        "colab": {
          "base_uri": "https://localhost:8080/"
        },
        "id": "Q3eL0cPG9wQC",
        "outputId": "868bc6f6-a23d-42dc-936d-834313b9d7c2"
      },
      "outputs": [
        {
          "data": {
            "text/plain": [
              "['Singing',\n",
              " 'Travelling',\n",
              " 'Dancing',\n",
              " 'Cooking',\n",
              " 'Coding',\n",
              " 'Sleeping',\n",
              " 'Yapping']"
            ]
          },
          "execution_count": 34,
          "metadata": {},
          "output_type": "execute_result"
        }
      ],
      "source": [
        "my_list.extend(your_list)\n",
        "my_list"
      ]
    },
    {
      "cell_type": "code",
      "execution_count": 35,
      "metadata": {
        "id": "mvuwBbn2-hIu"
      },
      "outputs": [],
      "source": [
        "my_list=[\"Singing\",\"Travelling\",\"Dancing\",\"Cooking\"]\n",
        "your_list=[\"Coding\",\"Sleeping\",\"Yapping\"]"
      ]
    },
    {
      "cell_type": "code",
      "execution_count": 36,
      "metadata": {
        "colab": {
          "base_uri": "https://localhost:8080/"
        },
        "id": "N7ElPvM6-TOW",
        "outputId": "7dd1fde1-3040-4ba8-c469-f1564d396e06"
      },
      "outputs": [
        {
          "data": {
            "text/plain": [
              "['Coding',\n",
              " 'Sleeping',\n",
              " 'Yapping',\n",
              " 'Singing',\n",
              " 'Travelling',\n",
              " 'Dancing',\n",
              " 'Cooking']"
            ]
          },
          "execution_count": 36,
          "metadata": {},
          "output_type": "execute_result"
        }
      ],
      "source": [
        "your_list.extend(my_list)\n",
        "your_list"
      ]
    },
    {
      "cell_type": "markdown",
      "metadata": {
        "id": "paasIxqE-tL7"
      },
      "source": [
        "### Concatenation of List"
      ]
    },
    {
      "cell_type": "markdown",
      "metadata": {
        "id": "r7JSmd5I-4lX"
      },
      "source": [
        "Join two or more list"
      ]
    },
    {
      "cell_type": "code",
      "execution_count": 37,
      "metadata": {
        "colab": {
          "base_uri": "https://localhost:8080/"
        },
        "id": "iPtlQC_C92TN",
        "outputId": "7d294bb3-184f-498e-a0cb-4063d2b5dc54"
      },
      "outputs": [
        {
          "data": {
            "text/plain": [
              "['Singing',\n",
              " 'Travelling',\n",
              " 'Dancing',\n",
              " 'Cooking',\n",
              " 'Coding',\n",
              " 'Sleeping',\n",
              " 'Yapping']"
            ]
          },
          "execution_count": 37,
          "metadata": {},
          "output_type": "execute_result"
        }
      ],
      "source": [
        "my_list=[\"Singing\",\"Travelling\",\"Dancing\",\"Cooking\"]\n",
        "your_list=[\"Coding\",\"Sleeping\",\"Yapping\"]\n",
        "my_list+your_list"
      ]
    },
    {
      "cell_type": "code",
      "execution_count": 38,
      "metadata": {
        "colab": {
          "base_uri": "https://localhost:8080/"
        },
        "id": "0Xp2eZ4U-rnY",
        "outputId": "5119e53b-eec0-448b-d639-8267b0f6bfb5"
      },
      "outputs": [
        {
          "data": {
            "text/plain": [
              "['A', 'B', 'C', 'D', 'E', 'F']"
            ]
          },
          "execution_count": 38,
          "metadata": {},
          "output_type": "execute_result"
        }
      ],
      "source": [
        "a=[\"A\",\"B\"]\n",
        "b=[\"C\",\"D\"]\n",
        "c=[\"E\",\"F\"]\n",
        "a+b+c"
      ]
    },
    {
      "cell_type": "markdown",
      "metadata": {
        "id": "wERx1N67_P1u"
      },
      "source": [
        "### Repetition Operator"
      ]
    },
    {
      "cell_type": "code",
      "execution_count": 39,
      "metadata": {
        "colab": {
          "base_uri": "https://localhost:8080/",
          "height": 35
        },
        "id": "hXtTJgdg_Gfo",
        "outputId": "2dfd8bb4-003a-41ff-c533-c01376be2da2"
      },
      "outputs": [
        {
          "data": {
            "text/plain": [
              "'* * * * * * * * * * * * * * * '"
            ]
          },
          "execution_count": 39,
          "metadata": {},
          "output_type": "execute_result"
        }
      ],
      "source": [
        "\"* \"*15"
      ]
    },
    {
      "cell_type": "code",
      "execution_count": 40,
      "metadata": {
        "colab": {
          "base_uri": "https://localhost:8080/",
          "height": 35
        },
        "id": "V6qXFtpq_Wvl",
        "outputId": "7275fa1c-d683-4fb4-e9c3-66339b3ec431"
      },
      "outputs": [
        {
          "data": {
            "text/plain": [
              "'- _ - _ - _ - _ - _ - _ - _ - _ - _ - _ '"
            ]
          },
          "execution_count": 40,
          "metadata": {},
          "output_type": "execute_result"
        }
      ],
      "source": [
        "\"- _ \"*10"
      ]
    },
    {
      "cell_type": "code",
      "execution_count": 41,
      "metadata": {
        "colab": {
          "base_uri": "https://localhost:8080/"
        },
        "id": "16ot4Re8ABGW",
        "outputId": "5691138c-af22-454c-94c7-c5f2e1140338"
      },
      "outputs": [
        {
          "data": {
            "text/plain": [
              "[0, 0, 0, 0, 0, 0, 0, 0, 0, 0]"
            ]
          },
          "execution_count": 41,
          "metadata": {},
          "output_type": "execute_result"
        }
      ],
      "source": [
        "[0]*10"
      ]
    },
    {
      "cell_type": "code",
      "execution_count": 42,
      "metadata": {
        "colab": {
          "base_uri": "https://localhost:8080/"
        },
        "id": "ATq62Y_4AGML",
        "outputId": "91061749-2452-4c5c-9ee8-01e22659435c"
      },
      "outputs": [
        {
          "data": {
            "text/plain": [
              "[1, 2, 3, 1, 2, 3, 1, 2, 3]"
            ]
          },
          "execution_count": 42,
          "metadata": {},
          "output_type": "execute_result"
        }
      ],
      "source": [
        "[1,2,3]*3"
      ]
    },
    {
      "cell_type": "code",
      "execution_count": 43,
      "metadata": {
        "colab": {
          "base_uri": "https://localhost:8080/"
        },
        "id": "M6UxXiaUAJzZ",
        "outputId": "d8d6f78d-2648-4363-bc89-8cad5a6398c4"
      },
      "outputs": [
        {
          "data": {
            "text/plain": [
              "[0, 1, 2, 3, 4, 5, 6, 7, 8, 9]"
            ]
          },
          "execution_count": 43,
          "metadata": {},
          "output_type": "execute_result"
        }
      ],
      "source": [
        "list(range(10))"
      ]
    },
    {
      "cell_type": "code",
      "execution_count": 44,
      "metadata": {
        "colab": {
          "base_uri": "https://localhost:8080/"
        },
        "id": "Y3HdfWmUASm9",
        "outputId": "1f200728-60cd-4b65-971a-93873c71e64d"
      },
      "outputs": [
        {
          "data": {
            "text/plain": [
              "[0,\n",
              " 1,\n",
              " 2,\n",
              " 3,\n",
              " 4,\n",
              " 5,\n",
              " 6,\n",
              " 7,\n",
              " 8,\n",
              " 9,\n",
              " 0,\n",
              " 1,\n",
              " 2,\n",
              " 3,\n",
              " 4,\n",
              " 5,\n",
              " 6,\n",
              " 7,\n",
              " 8,\n",
              " 9,\n",
              " 0,\n",
              " 1,\n",
              " 2,\n",
              " 3,\n",
              " 4,\n",
              " 5,\n",
              " 6,\n",
              " 7,\n",
              " 8,\n",
              " 9]"
            ]
          },
          "execution_count": 44,
          "metadata": {},
          "output_type": "execute_result"
        }
      ],
      "source": [
        "list(range(10))*3"
      ]
    },
    {
      "cell_type": "code",
      "execution_count": 45,
      "metadata": {
        "colab": {
          "base_uri": "https://localhost:8080/"
        },
        "id": "od96_B6ZAZzC",
        "outputId": "cb8005fd-7c08-4cb2-da48-78dfc738ffdb"
      },
      "outputs": [
        {
          "name": "stdout",
          "output_type": "stream",
          "text": [
            "Hi \n",
            "Hi \n",
            "Hi \n",
            "\n"
          ]
        }
      ],
      "source": [
        "msg=\"Hi \\n\"\n",
        "print(msg*3)"
      ]
    },
    {
      "cell_type": "markdown",
      "metadata": {
        "id": "8YLh0vfVBXPO"
      },
      "source": [
        "### Membership Operator in List"
      ]
    },
    {
      "cell_type": "code",
      "execution_count": 46,
      "metadata": {
        "id": "L_TD7rwuAopT"
      },
      "outputs": [],
      "source": [
        "movies=[\"Avengers\",\"DDLJ\",\"Fault\"]"
      ]
    },
    {
      "cell_type": "code",
      "execution_count": 47,
      "metadata": {
        "colab": {
          "base_uri": "https://localhost:8080/"
        },
        "id": "bioprqmOB2E1",
        "outputId": "b0c1e5cd-b10e-41a0-b75c-2be670f5639b"
      },
      "outputs": [
        {
          "data": {
            "text/plain": [
              "True"
            ]
          },
          "execution_count": 47,
          "metadata": {},
          "output_type": "execute_result"
        }
      ],
      "source": [
        "\"DDLJ\" in movies"
      ]
    },
    {
      "cell_type": "code",
      "execution_count": 48,
      "metadata": {
        "colab": {
          "base_uri": "https://localhost:8080/"
        },
        "id": "ulnIMYn9B6D8",
        "outputId": "0c7a9769-fa31-4e02-d5c3-06cb4cd6cc9d"
      },
      "outputs": [
        {
          "data": {
            "text/plain": [
              "True"
            ]
          },
          "execution_count": 48,
          "metadata": {},
          "output_type": "execute_result"
        }
      ],
      "source": [
        "\"Intersteller\" not in movies"
      ]
    },
    {
      "cell_type": "code",
      "execution_count": 49,
      "metadata": {
        "colab": {
          "base_uri": "https://localhost:8080/"
        },
        "id": "xLmEh_geCBxW",
        "outputId": "5c63e8e5-a18a-4c37-bed5-694222da7cbb"
      },
      "outputs": [
        {
          "data": {
            "text/plain": [
              "False"
            ]
          },
          "execution_count": 49,
          "metadata": {},
          "output_type": "execute_result"
        }
      ],
      "source": [
        "\"DDLJ\" not in movies"
      ]
    },
    {
      "cell_type": "code",
      "execution_count": 50,
      "metadata": {
        "colab": {
          "base_uri": "https://localhost:8080/"
        },
        "id": "Qdb9jEAlCFUy",
        "outputId": "b575b456-a393-4c19-eb4c-e8e6b33e1675"
      },
      "outputs": [
        {
          "data": {
            "text/plain": [
              "False"
            ]
          },
          "execution_count": 50,
          "metadata": {},
          "output_type": "execute_result"
        }
      ],
      "source": [
        "\"intersteller\" in movies"
      ]
    },
    {
      "cell_type": "markdown",
      "metadata": {
        "id": "7woKz0HyEBsS"
      },
      "source": [
        "### Deep Copy & Shallow Copy"
      ]
    },
    {
      "cell_type": "markdown",
      "metadata": {
        "id": "Uv8aEUb2EHTM"
      },
      "source": [
        "- Shallow Copy :\n",
        "Value will change with change in other List ( memory block will be same for the both)"
      ]
    },
    {
      "cell_type": "code",
      "execution_count": 51,
      "metadata": {
        "colab": {
          "base_uri": "https://localhost:8080/"
        },
        "id": "sbUqD90YCIoq",
        "outputId": "80adadd4-5ea2-475e-ecfe-d2463c60b1df"
      },
      "outputs": [
        {
          "data": {
            "text/plain": [
              "['Jeans', 'Bodycon', 'Middi', 'Hoodie', 'Shirt']"
            ]
          },
          "execution_count": 51,
          "metadata": {},
          "output_type": "execute_result"
        }
      ],
      "source": [
        "outfit=[\"Jeans\",\"Bodycon\",\"Middi\",\"Hoodie\",\"Shirt\"]\n",
        "outfit"
      ]
    },
    {
      "cell_type": "code",
      "execution_count": 52,
      "metadata": {
        "colab": {
          "base_uri": "https://localhost:8080/"
        },
        "id": "3RinFoutE6Qa",
        "outputId": "3ab7b090-2c9b-4a08-9056-1acbd15c69fb"
      },
      "outputs": [
        {
          "data": {
            "text/plain": [
              "['Jeans', 'Bodycon', 'Middi', 'Hoodie', 'Shirt']"
            ]
          },
          "execution_count": 52,
          "metadata": {},
          "output_type": "execute_result"
        }
      ],
      "source": [
        "wardrobe=outfit\n",
        "wardrobe"
      ]
    },
    {
      "cell_type": "code",
      "execution_count": 53,
      "metadata": {
        "colab": {
          "base_uri": "https://localhost:8080/"
        },
        "id": "OoCJfZOtGPkE",
        "outputId": "8140f874-828d-44fd-d9fe-a5f4b413e734"
      },
      "outputs": [
        {
          "data": {
            "text/plain": [
              "['Jeans', 'Bodycon', 'Suits', 'Hoodie', 'Shirt']"
            ]
          },
          "execution_count": 53,
          "metadata": {},
          "output_type": "execute_result"
        }
      ],
      "source": [
        "outfit[2]=\"Suits\"\n",
        "outfit"
      ]
    },
    {
      "cell_type": "code",
      "execution_count": 54,
      "metadata": {
        "colab": {
          "base_uri": "https://localhost:8080/"
        },
        "id": "PqDw899uGfzB",
        "outputId": "54521870-2c0e-4961-ea61-de64b6298fd9"
      },
      "outputs": [
        {
          "data": {
            "text/plain": [
              "['Jeans', 'Bodycon', 'Suits', 'Hoodie', 'Shirt']"
            ]
          },
          "execution_count": 54,
          "metadata": {},
          "output_type": "execute_result"
        }
      ],
      "source": [
        "wardrobe"
      ]
    },
    {
      "cell_type": "markdown",
      "metadata": {
        "id": "aHzw5cS1FROQ"
      },
      "source": [
        "- Deep copy : Will not change the value in another list (Use different memory blocks)"
      ]
    },
    {
      "cell_type": "code",
      "execution_count": 55,
      "metadata": {
        "id": "lUmeZG6RDK-g"
      },
      "outputs": [],
      "source": [
        "# deep copy\n",
        "a = [\"a\",1, 2, 3]"
      ]
    },
    {
      "cell_type": "code",
      "execution_count": 56,
      "metadata": {
        "colab": {
          "base_uri": "https://localhost:8080/"
        },
        "id": "3mMnbd4VHjoU",
        "outputId": "d82f1630-3e3c-41d7-e075-d4af7cccf5f3"
      },
      "outputs": [
        {
          "data": {
            "text/plain": [
              "['a', 1, 2, 3]"
            ]
          },
          "execution_count": 56,
          "metadata": {},
          "output_type": "execute_result"
        }
      ],
      "source": [
        "import copy\n",
        "copy.deepcopy(a)"
      ]
    },
    {
      "cell_type": "code",
      "execution_count": 57,
      "metadata": {
        "id": "-paAOMJfDc7j"
      },
      "outputs": [],
      "source": [
        "b = a.copy()"
      ]
    },
    {
      "cell_type": "code",
      "execution_count": 58,
      "metadata": {
        "colab": {
          "base_uri": "https://localhost:8080/"
        },
        "id": "6MDnVIegDfCe",
        "outputId": "8fbec214-2ccb-4394-c78b-e3967be35ec1"
      },
      "outputs": [
        {
          "data": {
            "text/plain": [
              "['a', 1, 2, 3]"
            ]
          },
          "execution_count": 58,
          "metadata": {},
          "output_type": "execute_result"
        }
      ],
      "source": [
        "b"
      ]
    },
    {
      "cell_type": "code",
      "execution_count": 59,
      "metadata": {
        "colab": {
          "base_uri": "https://localhost:8080/"
        },
        "id": "w3pv2DGNFIYI",
        "outputId": "f2c78bfd-b94a-4def-d205-620b0326017d"
      },
      "outputs": [
        {
          "data": {
            "text/plain": [
              "['Jeans', 'Bodycon', 'Middi', 'Hoodie', 'Shirt']"
            ]
          },
          "execution_count": 59,
          "metadata": {},
          "output_type": "execute_result"
        }
      ],
      "source": [
        "outfit=[\"Jeans\",\"Bodycon\",\"Middi\",\"Hoodie\",\"Shirt\"]\n",
        "outfit"
      ]
    },
    {
      "cell_type": "code",
      "execution_count": 60,
      "metadata": {
        "colab": {
          "base_uri": "https://localhost:8080/"
        },
        "id": "DZOhtYvWFh6h",
        "outputId": "723c0bfa-82cd-4aaa-cbb4-ecce95b8ac8c"
      },
      "outputs": [
        {
          "data": {
            "text/plain": [
              "['Jeans', 'Bodycon', 'Middi', 'Hoodie', 'Shirt']"
            ]
          },
          "execution_count": 60,
          "metadata": {},
          "output_type": "execute_result"
        }
      ],
      "source": [
        "wardrobe=outfit.copy()\n",
        "wardrobe"
      ]
    },
    {
      "cell_type": "code",
      "execution_count": 61,
      "metadata": {
        "colab": {
          "base_uri": "https://localhost:8080/"
        },
        "id": "cMOPUE29F2H-",
        "outputId": "324fb9d9-e0f5-4729-f196-9a8d1b2cd69c"
      },
      "outputs": [
        {
          "data": {
            "text/plain": [
              "['Jeans', 'Bodycon', 'Saaree', 'Hoodie', 'Shirt']"
            ]
          },
          "execution_count": 61,
          "metadata": {},
          "output_type": "execute_result"
        }
      ],
      "source": [
        "outfit[2]=\"Saaree\"\n",
        "outfit"
      ]
    },
    {
      "cell_type": "code",
      "execution_count": 62,
      "metadata": {
        "colab": {
          "base_uri": "https://localhost:8080/"
        },
        "id": "sgCVBmoHGHi3",
        "outputId": "359999bb-26a7-4585-9755-86d7a1620a13"
      },
      "outputs": [
        {
          "data": {
            "text/plain": [
              "['Jeans', 'Bodycon', 'Middi', 'Hoodie', 'Shirt']"
            ]
          },
          "execution_count": 62,
          "metadata": {},
          "output_type": "execute_result"
        }
      ],
      "source": [
        "wardrobe"
      ]
    },
    {
      "cell_type": "markdown",
      "metadata": {
        "id": "7IP9YNzVG_4x"
      },
      "source": [
        "### Sorting List"
      ]
    },
    {
      "cell_type": "markdown",
      "metadata": {
        "id": "hB3c8WSDHHsJ"
      },
      "source": [
        "- Sort the list in alphabetical order\n",
        "- syntax : sorted(list)"
      ]
    },
    {
      "cell_type": "code",
      "execution_count": 63,
      "metadata": {
        "colab": {
          "base_uri": "https://localhost:8080/"
        },
        "id": "FzZtMp8gGJqL",
        "outputId": "ea0bc6c6-c680-473e-f513-31b18aba53e9"
      },
      "outputs": [
        {
          "data": {
            "text/plain": [
              "['Bodycon', 'Hoodie', 'Jeans', 'Middi', 'Shirt']"
            ]
          },
          "execution_count": 63,
          "metadata": {},
          "output_type": "execute_result"
        }
      ],
      "source": [
        "outfit=[\"Jeans\",\"Bodycon\",\"Middi\",\"Hoodie\",\"Shirt\"]\n",
        "sorted(outfit)"
      ]
    },
    {
      "cell_type": "markdown",
      "metadata": {
        "id": "TeluqrKvHiC5"
      },
      "source": [
        "### Index in list"
      ]
    },
    {
      "cell_type": "markdown",
      "metadata": {
        "id": "3UEDq0YOHkc_"
      },
      "source": [
        "- Return the index of 1st occurence\n",
        "- syntax : list.index(\"Item\")"
      ]
    },
    {
      "cell_type": "code",
      "execution_count": 64,
      "metadata": {
        "colab": {
          "base_uri": "https://localhost:8080/"
        },
        "id": "Kudl6mu6HZGx",
        "outputId": "ba02f0e9-7bd3-4582-d573-f0aaf16f638a"
      },
      "outputs": [
        {
          "data": {
            "text/plain": [
              "0"
            ]
          },
          "execution_count": 64,
          "metadata": {},
          "output_type": "execute_result"
        }
      ],
      "source": [
        "outfit.index(\"Jeans\")"
      ]
    },
    {
      "cell_type": "code",
      "execution_count": 65,
      "metadata": {
        "colab": {
          "base_uri": "https://localhost:8080/"
        },
        "id": "Cwyd5E5jHywA",
        "outputId": "b4fb9f6e-09bb-424d-edf3-aabc9b96b60c"
      },
      "outputs": [
        {
          "data": {
            "text/plain": [
              "3"
            ]
          },
          "execution_count": 65,
          "metadata": {},
          "output_type": "execute_result"
        }
      ],
      "source": [
        "outfit.index(\"Hoodie\")"
      ]
    },
    {
      "cell_type": "markdown",
      "metadata": {
        "id": "CS9O-BQHH5T9"
      },
      "source": [
        "### Length of list"
      ]
    },
    {
      "cell_type": "markdown",
      "metadata": {
        "id": "BNGFnSPyH8G-"
      },
      "source": [
        "- Used to determine the no. of elements present in List\n",
        "- syntax : len(list)"
      ]
    },
    {
      "cell_type": "code",
      "execution_count": 66,
      "metadata": {
        "colab": {
          "base_uri": "https://localhost:8080/"
        },
        "id": "X9M-SD28H3Qx",
        "outputId": "d7ae085a-97e4-4b70-da3a-d9c659fddaa7"
      },
      "outputs": [
        {
          "data": {
            "text/plain": [
              "5"
            ]
          },
          "execution_count": 66,
          "metadata": {},
          "output_type": "execute_result"
        }
      ],
      "source": [
        "len(outfit)"
      ]
    },
    {
      "cell_type": "markdown",
      "metadata": {
        "id": "SxyTxsNtIfuQ"
      },
      "source": [
        "### .count()"
      ]
    },
    {
      "cell_type": "markdown",
      "metadata": {
        "id": "fAdWoTuQIiE2"
      },
      "source": [
        "- gives count of specific elements"
      ]
    },
    {
      "cell_type": "code",
      "execution_count": 67,
      "metadata": {
        "colab": {
          "base_uri": "https://localhost:8080/"
        },
        "id": "NTnXeQzNIdkK",
        "outputId": "a0546bd5-c965-4673-9137-365f7c35c001"
      },
      "outputs": [
        {
          "data": {
            "text/plain": [
              "['Chocolate', 5, 8, 'Maggie', 'Chocolate', 8, 8, 'Coke', 'Chocolate', 5]"
            ]
          },
          "execution_count": 67,
          "metadata": {},
          "output_type": "execute_result"
        }
      ],
      "source": [
        "listyy=[\"Chocolate\",5,8,\"Maggie\",\"Chocolate\",8,8,\"Coke\",\"Chocolate\",5]\n",
        "listyy"
      ]
    },
    {
      "cell_type": "code",
      "execution_count": 68,
      "metadata": {
        "colab": {
          "base_uri": "https://localhost:8080/"
        },
        "id": "hWCNs76LI3Js",
        "outputId": "78b8f53a-371c-49e8-fde8-3493205b25fd"
      },
      "outputs": [
        {
          "data": {
            "text/plain": [
              "3"
            ]
          },
          "execution_count": 68,
          "metadata": {},
          "output_type": "execute_result"
        }
      ],
      "source": [
        "listyy.count(\"Chocolate\")"
      ]
    },
    {
      "cell_type": "code",
      "execution_count": 69,
      "metadata": {
        "colab": {
          "base_uri": "https://localhost:8080/"
        },
        "id": "xWTROl8sI8yc",
        "outputId": "1e00291d-f7f0-400e-e0b3-3b8d73db23f2"
      },
      "outputs": [
        {
          "data": {
            "text/plain": [
              "2"
            ]
          },
          "execution_count": 69,
          "metadata": {},
          "output_type": "execute_result"
        }
      ],
      "source": [
        "listyy.count(5)"
      ]
    },
    {
      "cell_type": "markdown",
      "metadata": {
        "id": "adq8MIWyJE2Q"
      },
      "source": [
        "### Deleting the List"
      ]
    },
    {
      "cell_type": "markdown",
      "metadata": {
        "id": "9KoHm-oDJMhb"
      },
      "source": [
        "To del tha entire list / variable defined for list"
      ]
    },
    {
      "cell_type": "code",
      "execution_count": 70,
      "metadata": {
        "id": "i_H7T6xYJA66"
      },
      "outputs": [],
      "source": [
        "del listyy"
      ]
    },
    {
      "cell_type": "code",
      "execution_count": 71,
      "metadata": {
        "id": "MBCPDl32JUwF"
      },
      "outputs": [],
      "source": [
        "#listyy #<< not defined"
      ]
    },
    {
      "cell_type": "markdown",
      "metadata": {
        "id": "9tN-YlRXLGWB"
      },
      "source": [
        "### .clear()"
      ]
    },
    {
      "cell_type": "markdown",
      "metadata": {
        "id": "-D0yI1_JLJx6"
      },
      "source": [
        "- To clear the elements inside the list\n",
        "- Syntax : list.clear()"
      ]
    },
    {
      "cell_type": "code",
      "execution_count": 72,
      "metadata": {
        "colab": {
          "base_uri": "https://localhost:8080/"
        },
        "id": "Gy3sYdBeJV0V",
        "outputId": "e448cdc9-5831-4d38-eeb8-4d13e2ef48d3"
      },
      "outputs": [
        {
          "data": {
            "text/plain": [
              "['Jeans', 'Bodycon', 'Middi', 'Hoodie', 'Shirt']"
            ]
          },
          "execution_count": 72,
          "metadata": {},
          "output_type": "execute_result"
        }
      ],
      "source": [
        "outfit"
      ]
    },
    {
      "cell_type": "code",
      "execution_count": 73,
      "metadata": {
        "id": "wKpc1-sPLTvc"
      },
      "outputs": [],
      "source": [
        "outfit.clear()"
      ]
    },
    {
      "cell_type": "code",
      "execution_count": 74,
      "metadata": {
        "colab": {
          "base_uri": "https://localhost:8080/"
        },
        "id": "mFJ0Q2-5LWM2",
        "outputId": "c51fc36a-f5cc-4e4a-dcf0-05ba418c5cce"
      },
      "outputs": [
        {
          "data": {
            "text/plain": [
              "[]"
            ]
          },
          "execution_count": 74,
          "metadata": {},
          "output_type": "execute_result"
        }
      ],
      "source": [
        "outfit"
      ]
    },
    {
      "cell_type": "markdown",
      "metadata": {
        "id": "E2hn0NE-LaG6"
      },
      "source": [
        "### .pop()"
      ]
    },
    {
      "cell_type": "markdown",
      "metadata": {
        "id": "AhcQK077LlU1"
      },
      "source": [
        "- used to pop out the elements from list\n",
        "- by default, pop out last element\n",
        "- syntax : list.pop(index)"
      ]
    },
    {
      "cell_type": "code",
      "execution_count": 75,
      "metadata": {
        "colab": {
          "base_uri": "https://localhost:8080/"
        },
        "id": "GiUgAq0jLYNQ",
        "outputId": "2c78521c-4e25-4d89-f1ad-a378b0f2b7ae"
      },
      "outputs": [
        {
          "data": {
            "text/plain": [
              "['Netflix', 'Prime', 'Hotstar', 'SonyLiv', 'Alt Balaji']"
            ]
          },
          "execution_count": 75,
          "metadata": {},
          "output_type": "execute_result"
        }
      ],
      "source": [
        "OTT=[\"Netflix\",\"Prime\",\"Hotstar\",\"SonyLiv\",\"Alt Balaji\"]\n",
        "OTT"
      ]
    },
    {
      "cell_type": "code",
      "execution_count": 76,
      "metadata": {
        "colab": {
          "base_uri": "https://localhost:8080/",
          "height": 35
        },
        "id": "1vzj5cGNMDFe",
        "outputId": "dfd7120b-6561-4351-c87e-25033b082591"
      },
      "outputs": [
        {
          "data": {
            "text/plain": [
              "'Alt Balaji'"
            ]
          },
          "execution_count": 76,
          "metadata": {},
          "output_type": "execute_result"
        }
      ],
      "source": [
        "OTT.pop()"
      ]
    },
    {
      "cell_type": "code",
      "execution_count": 77,
      "metadata": {
        "colab": {
          "base_uri": "https://localhost:8080/"
        },
        "id": "-Fnf4qNDMFEY",
        "outputId": "96284761-61a6-4856-96d1-3954125b9bfd"
      },
      "outputs": [
        {
          "data": {
            "text/plain": [
              "['Netflix', 'Prime', 'Hotstar', 'SonyLiv']"
            ]
          },
          "execution_count": 77,
          "metadata": {},
          "output_type": "execute_result"
        }
      ],
      "source": [
        "OTT"
      ]
    },
    {
      "cell_type": "code",
      "execution_count": 78,
      "metadata": {
        "colab": {
          "base_uri": "https://localhost:8080/",
          "height": 35
        },
        "id": "8aH2NBGeMNPQ",
        "outputId": "66129b58-82dd-4348-9020-087647e8b523"
      },
      "outputs": [
        {
          "data": {
            "text/plain": [
              "'Prime'"
            ]
          },
          "execution_count": 78,
          "metadata": {},
          "output_type": "execute_result"
        }
      ],
      "source": [
        "OTT.pop(1)"
      ]
    },
    {
      "cell_type": "code",
      "execution_count": 79,
      "metadata": {
        "colab": {
          "base_uri": "https://localhost:8080/"
        },
        "id": "gIf7HEdbMQDA",
        "outputId": "0b05b04f-558d-4319-d743-e933c1243d5b"
      },
      "outputs": [
        {
          "data": {
            "text/plain": [
              "['Netflix', 'Hotstar', 'SonyLiv']"
            ]
          },
          "execution_count": 79,
          "metadata": {},
          "output_type": "execute_result"
        }
      ],
      "source": [
        "OTT"
      ]
    },
    {
      "cell_type": "markdown",
      "metadata": {
        "id": "kgO7rnSZMVF8"
      },
      "source": [
        "### List Comprehension"
      ]
    },
    {
      "cell_type": "markdown",
      "metadata": {
        "id": "QUosrW5CMZu6"
      },
      "source": [
        "- A short-hand way to built a new list by applying an operation to each item or iterable --------- in a SINGLE LINE.\n",
        "- syntax : new_list=[expression 'for' item 'in' iterable 'if' condition]"
      ]
    },
    {
      "cell_type": "code",
      "execution_count": 80,
      "metadata": {
        "colab": {
          "base_uri": "https://localhost:8080/"
        },
        "id": "XDqaZfDnMRPA",
        "outputId": "c7f68d32-66f8-4a5c-a3c3-39f03bb9ebc7"
      },
      "outputs": [
        {
          "data": {
            "text/plain": [
              "[20, 40, 60, 80, 100, 120]"
            ]
          },
          "execution_count": 80,
          "metadata": {},
          "output_type": "execute_result"
        }
      ],
      "source": [
        "# example\n",
        "num=[10,20,30,40,50,60]\n",
        "doubled_num=[]\n",
        "for i in num:\n",
        "    doubled_num.append(i*2)\n",
        "doubled_num"
      ]
    },
    {
      "cell_type": "code",
      "execution_count": 81,
      "metadata": {
        "colab": {
          "base_uri": "https://localhost:8080/"
        },
        "id": "deblyDiFNis1",
        "outputId": "900ac0f3-c68c-4395-ca0c-a994d7d9a328"
      },
      "outputs": [
        {
          "data": {
            "text/plain": [
              "[20, 40, 60, 80, 100, 120]"
            ]
          },
          "execution_count": 81,
          "metadata": {},
          "output_type": "execute_result"
        }
      ],
      "source": [
        "[a*2 for a in num]"
      ]
    },
    {
      "cell_type": "code",
      "execution_count": 82,
      "metadata": {
        "colab": {
          "base_uri": "https://localhost:8080/"
        },
        "id": "WJ1jZbw7N3bd",
        "outputId": "8e13e0a1-33ad-45e1-ee52-223ac243830f"
      },
      "outputs": [
        {
          "data": {
            "text/plain": [
              "['Prag', 'Anu', 'Bubbu']"
            ]
          },
          "execution_count": 82,
          "metadata": {},
          "output_type": "execute_result"
        }
      ],
      "source": [
        "name=[\"prag\",\"anu\",\"bubbu\"]\n",
        "Name=[]\n",
        "for i in name:\n",
        "    Name.append(i.capitalize())\n",
        "Name"
      ]
    },
    {
      "cell_type": "code",
      "execution_count": 83,
      "metadata": {
        "colab": {
          "base_uri": "https://localhost:8080/"
        },
        "id": "ED5VrQYpPFIc",
        "outputId": "50c59311-e1e2-444f-8937-23eb71ee3595"
      },
      "outputs": [
        {
          "data": {
            "text/plain": [
              "['Prag', 'Anu', 'Bubbu']"
            ]
          },
          "execution_count": 83,
          "metadata": {},
          "output_type": "execute_result"
        }
      ],
      "source": [
        "[xyz.capitalize() for xyz in name]"
      ]
    },
    {
      "cell_type": "code",
      "execution_count": 84,
      "metadata": {
        "colab": {
          "base_uri": "https://localhost:8080/"
        },
        "id": "_Rzuhi6PPPNA",
        "outputId": "259a0440-7b7f-45a2-fe40-9f9ccf8b94b5"
      },
      "outputs": [
        {
          "data": {
            "text/plain": [
              "['PRAG', 'ANU', 'BUBBU']"
            ]
          },
          "execution_count": 84,
          "metadata": {},
          "output_type": "execute_result"
        }
      ],
      "source": [
        "[xyz.upper() for xyz in name]"
      ]
    },
    {
      "cell_type": "code",
      "execution_count": 85,
      "metadata": {
        "colab": {
          "base_uri": "https://localhost:8080/"
        },
        "id": "2K1N8s_uP7kS",
        "outputId": "84240a72-076f-452d-8658-36fd6dcb5a72"
      },
      "outputs": [
        {
          "data": {
            "text/plain": [
              "[4, 16, 9, 25]"
            ]
          },
          "execution_count": 85,
          "metadata": {},
          "output_type": "execute_result"
        }
      ],
      "source": [
        "num=[2,4,3,5]\n",
        "squares=[]\n",
        "for i in num:\n",
        "    squares.append(i**2)\n",
        "squares"
      ]
    },
    {
      "cell_type": "code",
      "execution_count": 86,
      "metadata": {
        "colab": {
          "base_uri": "https://localhost:8080/"
        },
        "id": "e47-92rjQP_9",
        "outputId": "64c7f733-ac71-4e81-9176-8c2af9b8f24d"
      },
      "outputs": [
        {
          "data": {
            "text/plain": [
              "[4, 16, 9, 25]"
            ]
          },
          "execution_count": 86,
          "metadata": {},
          "output_type": "execute_result"
        }
      ],
      "source": [
        "[mi**2 for mi in num]"
      ]
    },
    {
      "cell_type": "markdown",
      "metadata": {
        "id": "H6KkHcmKQjhS"
      },
      "source": [
        "#### .split()"
      ]
    },
    {
      "cell_type": "markdown",
      "metadata": {
        "id": "J9AlFueDQmiG"
      },
      "source": [
        "- used to split the word\n",
        "- Syntax : list.split(\"splitting point\")[index]"
      ]
    },
    {
      "cell_type": "code",
      "execution_count": 87,
      "metadata": {
        "colab": {
          "base_uri": "https://localhost:8080/"
        },
        "id": "tJ9WO_0xQeCL",
        "outputId": "185b0678-aa7e-4f36-ec7e-0c4f003a06ec"
      },
      "outputs": [
        {
          "data": {
            "text/plain": [
              "['doc1', 'ppt']"
            ]
          },
          "execution_count": 87,
          "metadata": {},
          "output_type": "execute_result"
        }
      ],
      "source": [
        "str1=\"doc1.ppt\"\n",
        "str1.split(\".\")"
      ]
    },
    {
      "cell_type": "code",
      "execution_count": 88,
      "metadata": {
        "colab": {
          "base_uri": "https://localhost:8080/"
        },
        "id": "ITVRZ6ZMRAhA",
        "outputId": "954fec15-e65c-44e7-c6df-dc91c3fc5058"
      },
      "outputs": [
        {
          "data": {
            "text/plain": [
              "['xyz.pdf', 'abc.ipynb', 'mno.jpg', 'pqr.mp4']"
            ]
          },
          "execution_count": 88,
          "metadata": {},
          "output_type": "execute_result"
        }
      ],
      "source": [
        "my_files=[\"xyz.pdf\",\"abc.ipynb\",\"mno.jpg\",\"pqr.mp4\"]\n",
        "my_files"
      ]
    },
    {
      "cell_type": "code",
      "execution_count": 89,
      "metadata": {
        "colab": {
          "base_uri": "https://localhost:8080/"
        },
        "id": "aF_c2MsZRUEU",
        "outputId": "34eb7bb7-5a2f-4f75-d7f1-b6d39079f8d8"
      },
      "outputs": [
        {
          "data": {
            "text/plain": [
              "[['xyz', 'pdf'], ['abc', 'ipynb'], ['mno', 'jpg'], ['pqr', 'mp4']]"
            ]
          },
          "execution_count": 89,
          "metadata": {},
          "output_type": "execute_result"
        }
      ],
      "source": [
        "[extension.split(\".\") for extension in my_files]"
      ]
    },
    {
      "cell_type": "code",
      "execution_count": 90,
      "metadata": {
        "colab": {
          "base_uri": "https://localhost:8080/",
          "height": 35
        },
        "id": "3GbHGFWcRYG2",
        "outputId": "794ec785-b15f-43be-8e04-150301d153f8"
      },
      "outputs": [
        {
          "data": {
            "text/plain": [
              "'ppt'"
            ]
          },
          "execution_count": 90,
          "metadata": {},
          "output_type": "execute_result"
        }
      ],
      "source": [
        "str1=\"doc1.ppt\"\n",
        "str1.split(\".\")[-1]"
      ]
    },
    {
      "cell_type": "markdown",
      "metadata": {
        "id": "zy3zXE9TSq3n"
      },
      "source": [
        "### Conditional List Comprehension"
      ]
    },
    {
      "cell_type": "code",
      "execution_count": 91,
      "metadata": {
        "colab": {
          "base_uri": "https://localhost:8080/"
        },
        "id": "jaCH7-iAR0aZ",
        "outputId": "efa6cd9b-64eb-4011-fdc2-e0298c536eac"
      },
      "outputs": [
        {
          "data": {
            "text/plain": [
              "['at@gmail', 'gt@yahoo', 'pd@outlook']"
            ]
          },
          "execution_count": 91,
          "metadata": {},
          "output_type": "execute_result"
        }
      ],
      "source": [
        "email=[\"at@gmail\",\"gt@yahoo\",\"pd@outlook\"]\n",
        "email"
      ]
    },
    {
      "cell_type": "code",
      "execution_count": 92,
      "metadata": {
        "colab": {
          "base_uri": "https://localhost:8080/"
        },
        "id": "LfOtwD0pTENE",
        "outputId": "bb2864b3-ed41-48ea-b254-a9d54f68dd39"
      },
      "outputs": [
        {
          "data": {
            "text/plain": [
              "[['at', 'gmail'], ['gt', 'yahoo'], ['pd', 'outlook']]"
            ]
          },
          "execution_count": 92,
          "metadata": {},
          "output_type": "execute_result"
        }
      ],
      "source": [
        "[id.split(\"@\") for id in email]"
      ]
    },
    {
      "cell_type": "code",
      "execution_count": 93,
      "metadata": {
        "colab": {
          "base_uri": "https://localhost:8080/"
        },
        "id": "dNnfdE-NTUXQ",
        "outputId": "892744c9-770d-4b20-877b-67ecf4ebc624"
      },
      "outputs": [
        {
          "data": {
            "text/plain": [
              "['gt@yahoo.com']"
            ]
          },
          "execution_count": 93,
          "metadata": {},
          "output_type": "execute_result"
        }
      ],
      "source": [
        "email_address=[\"at@gmail.com\",\"gt@yahoo.com\",\"pd@outlook.com\"]\n",
        "[email for email in email_address if email.endswith(\"@yahoo.com\")]"
      ]
    },
    {
      "cell_type": "code",
      "execution_count": 94,
      "metadata": {
        "colab": {
          "base_uri": "https://localhost:8080/"
        },
        "id": "zR9kadGcVuzX",
        "outputId": "c09bd7c9-1d0e-4581-fdf3-ed573be3a707"
      },
      "outputs": [
        {
          "data": {
            "text/plain": [
              "[24, 34, 12]"
            ]
          },
          "execution_count": 94,
          "metadata": {},
          "output_type": "execute_result"
        }
      ],
      "source": [
        "number=[24,67,34,65,12,89]\n",
        "[even for even in number if even%2==0]"
      ]
    },
    {
      "cell_type": "markdown",
      "metadata": {
        "id": "rPzD0ppqW0X-"
      },
      "source": [
        "### Nested List Comprehension"
      ]
    },
    {
      "cell_type": "code",
      "execution_count": 95,
      "metadata": {
        "colab": {
          "base_uri": "https://localhost:8080/"
        },
        "id": "Mpyan4WmWBOM",
        "outputId": "4421dd45-b249-47bd-e27a-6bb8963ac7fb"
      },
      "outputs": [
        {
          "data": {
            "text/plain": [
              "[[1, 4], [1, 5], [1, 6], [2, 4], [2, 5], [2, 6], [3, 4], [3, 5], [3, 6]]"
            ]
          },
          "execution_count": 95,
          "metadata": {},
          "output_type": "execute_result"
        }
      ],
      "source": [
        "pairs=[]\n",
        "for x in [1,2,3]:\n",
        "    for y in [4,5,6]:\n",
        "        pairs.append([x,y])\n",
        "pairs"
      ]
    },
    {
      "cell_type": "code",
      "execution_count": 96,
      "metadata": {
        "colab": {
          "base_uri": "https://localhost:8080/"
        },
        "id": "XqhqS17SXGE7",
        "outputId": "5d709ff5-8d63-4aaa-d8d1-4907e9f186ed"
      },
      "outputs": [
        {
          "data": {
            "text/plain": [
              "[[1, 4], [1, 5], [1, 6], [2, 4], [2, 5], [2, 6], [3, 4], [3, 5], [3, 6]]"
            ]
          },
          "execution_count": 96,
          "metadata": {},
          "output_type": "execute_result"
        }
      ],
      "source": [
        "[[x,y] for x in [1,2,3] for y in [4,5,6]]"
      ]
    },
    {
      "cell_type": "code",
      "execution_count": 97,
      "metadata": {
        "colab": {
          "base_uri": "https://localhost:8080/"
        },
        "id": "F95QwiwlXP8V",
        "outputId": "db8c817e-cb12-4330-e84f-37c82524e12f"
      },
      "outputs": [
        {
          "data": {
            "text/plain": [
              "[[8], [10], [12], [15]]"
            ]
          },
          "execution_count": 97,
          "metadata": {},
          "output_type": "execute_result"
        }
      ],
      "source": [
        "[[x*y] for x in [2,3] for y in [4,5]]"
      ]
    },
    {
      "cell_type": "markdown",
      "metadata": {
        "id": "WJCdenROXdZf"
      },
      "source": [
        "### Stack and Queue"
      ]
    },
    {
      "cell_type": "markdown",
      "metadata": {
        "id": "Fv4eq0JOXhUe"
      },
      "source": [
        "#### Stack"
      ]
    },
    {
      "cell_type": "markdown",
      "metadata": {
        "id": "sFan1nUHXvT9"
      },
      "source": [
        "![image.png](data:image/png;base64,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)"
      ]
    },
    {
      "cell_type": "markdown",
      "metadata": {
        "id": "PLYgZSNtXxSf"
      },
      "source": [
        "- LIFO = Last In First Out\n",
        "- The element which is added at last will come out first"
      ]
    },
    {
      "cell_type": "code",
      "execution_count": 98,
      "metadata": {
        "colab": {
          "base_uri": "https://localhost:8080/"
        },
        "id": "C-lRlLMhXZWn",
        "outputId": "4743a6a8-fb1e-4078-bae2-5854eb3c4066"
      },
      "outputs": [
        {
          "data": {
            "text/plain": [
              "['Plate 1', 'Plate 2', 'Plate 3', 'Plate 4']"
            ]
          },
          "execution_count": 98,
          "metadata": {},
          "output_type": "execute_result"
        }
      ],
      "source": [
        "stack_of_plates=[]\n",
        "stack_of_plates.append(\"Plate 1\") #added 1st\n",
        "stack_of_plates.append(\"Plate 2\") #added 2nd\n",
        "stack_of_plates.append(\"Plate 3\") #added 3rd\n",
        "stack_of_plates.append(\"Plate 4\") #added last\n",
        "stack_of_plates"
      ]
    },
    {
      "cell_type": "code",
      "execution_count": 99,
      "metadata": {
        "colab": {
          "base_uri": "https://localhost:8080/",
          "height": 35
        },
        "id": "bfKUn74iYZTP",
        "outputId": "44cbe197-6aff-435c-8a51-feaafa22fda2"
      },
      "outputs": [
        {
          "data": {
            "text/plain": [
              "'Plate 4'"
            ]
          },
          "execution_count": 99,
          "metadata": {},
          "output_type": "execute_result"
        }
      ],
      "source": [
        "stack_of_plates.pop() #added last, pop out 1st"
      ]
    },
    {
      "cell_type": "code",
      "execution_count": 100,
      "metadata": {
        "colab": {
          "base_uri": "https://localhost:8080/"
        },
        "id": "4P39-6QgYiZu",
        "outputId": "d95d7cae-9181-4d98-cc3e-ae03d60a2c85"
      },
      "outputs": [
        {
          "data": {
            "text/plain": [
              "['Home Page', 'About Us', 'Contact', 'Google Map']"
            ]
          },
          "execution_count": 100,
          "metadata": {},
          "output_type": "execute_result"
        }
      ],
      "source": [
        "#use case\n",
        "browsing_history=[]\n",
        "browsing_history.append(\"Home Page\")\n",
        "browsing_history.append(\"About Us\")\n",
        "browsing_history.append(\"Contact\")\n",
        "browsing_history.append(\"Google Map\")\n",
        "browsing_history"
      ]
    },
    {
      "cell_type": "code",
      "execution_count": 101,
      "metadata": {
        "colab": {
          "base_uri": "https://localhost:8080/",
          "height": 35
        },
        "id": "1TVTM0TzZSEo",
        "outputId": "26b0aee0-3d62-4fff-aef1-1eb0e995f5c1"
      },
      "outputs": [
        {
          "data": {
            "text/plain": [
              "'Google Map'"
            ]
          },
          "execution_count": 101,
          "metadata": {},
          "output_type": "execute_result"
        }
      ],
      "source": [
        "browsing_history.pop() #to undo last action"
      ]
    },
    {
      "cell_type": "code",
      "execution_count": 102,
      "metadata": {
        "colab": {
          "base_uri": "https://localhost:8080/"
        },
        "id": "0AniZm0dZcYE",
        "outputId": "1e5395ea-b0a8-490d-cc75-dc0cc8970175"
      },
      "outputs": [
        {
          "data": {
            "text/plain": [
              "['Home Page', 'About Us', 'Contact']"
            ]
          },
          "execution_count": 102,
          "metadata": {},
          "output_type": "execute_result"
        }
      ],
      "source": [
        "browsing_history"
      ]
    },
    {
      "cell_type": "markdown",
      "metadata": {
        "id": "BH1lnc7sZg4l"
      },
      "source": [
        "#### Queue"
      ]
    },
    {
      "cell_type": "markdown",
      "metadata": {
        "id": "Ty9HfqhAZwIt"
      },
      "source": [
        "![image.png](data:image/png;base64,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)"
      ]
    },
    {
      "cell_type": "markdown",
      "metadata": {
        "id": "BIZAn2pVZ0sf"
      },
      "source": [
        "- FIFO : First In First Out\n",
        "- Works in orderly sequential manner\n",
        "- It has Two ends : Enque & Dequeue"
      ]
    },
    {
      "cell_type": "markdown",
      "metadata": {
        "id": "Xly5ojzi9XME"
      },
      "source": [
        "#### Library"
      ]
    },
    {
      "cell_type": "markdown",
      "metadata": {
        "id": "aQqAYePp9Zol"
      },
      "source": [
        "Collection of multiple Python module or script for reusing the code."
      ]
    },
    {
      "cell_type": "code",
      "execution_count": 103,
      "metadata": {
        "id": "FHQgVqlVZe15"
      },
      "outputs": [],
      "source": [
        "from collections import deque\n",
        "# collections is library\n",
        "# deque is module"
      ]
    },
    {
      "cell_type": "code",
      "execution_count": 104,
      "metadata": {
        "colab": {
          "base_uri": "https://localhost:8080/"
        },
        "id": "LCDiUWmj9u3O",
        "outputId": "8d7d6b96-0e96-4da6-ccf3-6070e70d82e9"
      },
      "outputs": [
        {
          "data": {
            "text/plain": [
              "deque(['CLass 1', 'CLass 2', 'CLass 3', 'CLass 4', 'CLass 5'])"
            ]
          },
          "execution_count": 104,
          "metadata": {},
          "output_type": "execute_result"
        }
      ],
      "source": [
        "check_out=deque()\n",
        "check_out.append(\"CLass 1\")\n",
        "check_out.append(\"CLass 2\")\n",
        "check_out.append(\"CLass 3\")\n",
        "check_out.append(\"CLass 4\")\n",
        "check_out.append(\"CLass 5\")\n",
        "check_out"
      ]
    },
    {
      "cell_type": "code",
      "execution_count": 105,
      "metadata": {
        "id": "3BNBDIiJ-ro2"
      },
      "outputs": [],
      "source": [
        "from queue import Queue"
      ]
    },
    {
      "cell_type": "code",
      "execution_count": 106,
      "metadata": {
        "colab": {
          "base_uri": "https://localhost:8080/"
        },
        "id": "XBn8gR0j_D4t",
        "outputId": "1e78ff9f-b3f2-4c25-9f88-161a8a1d6b47"
      },
      "outputs": [
        {
          "name": "stdout",
          "output_type": "stream",
          "text": [
            "Printing Print the first copy.\n",
            "Printing Print the second copy.\n",
            "Printing Print the third copy\n"
          ]
        }
      ],
      "source": [
        "print_queue=Queue()\n",
        "print_queue.put(\"Print the first copy.\")\n",
        "print_queue.put(\"Print the second copy.\") # put is similar to push\n",
        "print_queue.put(\"Print the third copy\")\n",
        "print_queue\n",
        "\n",
        "while not print_queue.empty():\n",
        "    print_job=print_queue.get() # get is similar to pop\n",
        "    print(\"Printing\",print_job)"
      ]
    },
    {
      "cell_type": "markdown",
      "metadata": {
        "id": "hHpDt7L1AZKT"
      },
      "source": [
        "## String"
      ]
    },
    {
      "cell_type": "markdown",
      "metadata": {
        "id": "eH4f2LfMAbca"
      },
      "source": [
        "Sequences of character where each character is unit of text which represent and manipulate textual data"
      ]
    },
    {
      "cell_type": "markdown",
      "metadata": {
        "id": "IHbsN2qkApfU"
      },
      "source": [
        "- Characters are represented using numerical values as each character is assign by unique value.\n",
        "- ** ASCII ** : *American Standard Code for Information Interchange*.\n",
        " It has 7 bits only (2^7=128) characters.\n",
        "- ** UTF ** : *Unicode Transformation Format * . It is popular encoding schemes for unicode. 16 bits character"
      ]
    },
    {
      "cell_type": "code",
      "execution_count": 268,
      "metadata": {
        "colab": {
          "base_uri": "https://localhost:8080/"
        },
        "id": "lqbh9ES__cvU",
        "outputId": "6cc5f9ec-2726-468d-819c-3d5852f061b8"
      },
      "outputs": [
        {
          "data": {
            "text/plain": [
              "65"
            ]
          },
          "execution_count": 268,
          "metadata": {},
          "output_type": "execute_result"
        }
      ],
      "source": [
        "    # ASCII representation\n",
        "char=\"A\"\n",
        "ord(char) #ord=ordinal >> numerical value of characters"
      ]
    },
    {
      "cell_type": "code",
      "execution_count": 108,
      "metadata": {
        "colab": {
          "base_uri": "https://localhost:8080/"
        },
        "id": "gihgtIWZBwAv",
        "outputId": "4df7ee61-1a72-4cae-caa6-aa42aac2169d"
      },
      "outputs": [
        {
          "data": {
            "text/plain": [
              "97"
            ]
          },
          "execution_count": 108,
          "metadata": {},
          "output_type": "execute_result"
        }
      ],
      "source": [
        "ord(\"a\")"
      ]
    },
    {
      "cell_type": "code",
      "execution_count": 109,
      "metadata": {
        "colab": {
          "base_uri": "https://localhost:8080/",
          "height": 35
        },
        "id": "DR_K85zHB4Od",
        "outputId": "61a4929d-443b-42ee-ee2b-9aeaf0f5757b"
      },
      "outputs": [
        {
          "data": {
            "text/plain": [
              "'a'"
            ]
          },
          "execution_count": 109,
          "metadata": {},
          "output_type": "execute_result"
        }
      ],
      "source": [
        "chr(97)"
      ]
    },
    {
      "cell_type": "code",
      "execution_count": 110,
      "metadata": {
        "colab": {
          "base_uri": "https://localhost:8080/",
          "height": 35
        },
        "id": "2SbEQ_KNB7s3",
        "outputId": "a69b0681-6af9-45b2-a605-750b54461862"
      },
      "outputs": [
        {
          "data": {
            "text/plain": [
              "'Ω'"
            ]
          },
          "execution_count": 110,
          "metadata": {},
          "output_type": "execute_result"
        }
      ],
      "source": [
        "# UNICODE representation\n",
        "'\\u03A9'"
      ]
    },
    {
      "cell_type": "code",
      "execution_count": 111,
      "metadata": {
        "colab": {
          "base_uri": "https://localhost:8080/",
          "height": 35
        },
        "id": "5oIyhnQ_CIL8",
        "outputId": "b6c16333-7854-45cb-ce7c-452b45886c99"
      },
      "outputs": [
        {
          "data": {
            "text/plain": [
              "'Φ'"
            ]
          },
          "execution_count": 111,
          "metadata": {},
          "output_type": "execute_result"
        }
      ],
      "source": [
        "'\\u03A6'"
      ]
    },
    {
      "cell_type": "code",
      "execution_count": 112,
      "metadata": {
        "colab": {
          "base_uri": "https://localhost:8080/",
          "height": 35
        },
        "id": "Svmi0IgiCOW-",
        "outputId": "cc170a08-c36d-4ba5-be70-0d4613d3c786"
      },
      "outputs": [
        {
          "data": {
            "text/plain": [
              "'॔'"
            ]
          },
          "execution_count": 112,
          "metadata": {},
          "output_type": "execute_result"
        }
      ],
      "source": [
        "'\\u0954'"
      ]
    },
    {
      "cell_type": "code",
      "execution_count": 113,
      "metadata": {
        "colab": {
          "base_uri": "https://localhost:8080/",
          "height": 35
        },
        "id": "f1WJzGahCR3T",
        "outputId": "61b178fd-15c8-4b47-d7af-bc4078439e7b"
      },
      "outputs": [
        {
          "data": {
            "text/plain": [
              "'ॵ'"
            ]
          },
          "execution_count": 113,
          "metadata": {},
          "output_type": "execute_result"
        }
      ],
      "source": [
        "'\\u0975'"
      ]
    },
    {
      "cell_type": "markdown",
      "metadata": {
        "id": "8K1Am97aCZmn"
      },
      "source": [
        "### writing string\n"
      ]
    },
    {
      "cell_type": "markdown",
      "metadata": {
        "id": "v_io-vfhCdNF"
      },
      "source": [
        "- string must be enclosed in \"...........\".\n",
        "- anything written between double/single inverted comma is a string"
      ]
    },
    {
      "cell_type": "code",
      "execution_count": 114,
      "metadata": {
        "colab": {
          "base_uri": "https://localhost:8080/",
          "height": 35
        },
        "id": "SF0qrEcZCVyH",
        "outputId": "2647e99a-d32c-4576-8b1c-76000d27d2ca"
      },
      "outputs": [
        {
          "data": {
            "text/plain": [
              "'PWskills'"
            ]
          },
          "execution_count": 114,
          "metadata": {},
          "output_type": "execute_result"
        }
      ],
      "source": [
        "str1=\"PWskills\"\n",
        "str1"
      ]
    },
    {
      "cell_type": "code",
      "execution_count": 115,
      "metadata": {
        "colab": {
          "base_uri": "https://localhost:8080/"
        },
        "id": "T-zM75YgCt1_",
        "outputId": "df5a207f-c49b-4379-8777-2a2d9f675371"
      },
      "outputs": [
        {
          "data": {
            "text/plain": [
              "str"
            ]
          },
          "execution_count": 115,
          "metadata": {},
          "output_type": "execute_result"
        }
      ],
      "source": [
        "type(str1)"
      ]
    },
    {
      "cell_type": "code",
      "execution_count": 116,
      "metadata": {
        "colab": {
          "base_uri": "https://localhost:8080/",
          "height": 35
        },
        "id": "cGveqm8fCvLv",
        "outputId": "7d792c12-4557-4438-ed30-298fb947cb00"
      },
      "outputs": [
        {
          "data": {
            "text/plain": [
              "'PWskill'"
            ]
          },
          "execution_count": 116,
          "metadata": {},
          "output_type": "execute_result"
        }
      ],
      "source": [
        "str2='PWskill'\n",
        "str2"
      ]
    },
    {
      "cell_type": "code",
      "execution_count": 117,
      "metadata": {
        "colab": {
          "base_uri": "https://localhost:8080/"
        },
        "id": "9bHI6LIBCyQy",
        "outputId": "5df40fc6-6b35-4fc2-8b1f-934833214df3"
      },
      "outputs": [
        {
          "data": {
            "text/plain": [
              "str"
            ]
          },
          "execution_count": 117,
          "metadata": {},
          "output_type": "execute_result"
        }
      ],
      "source": [
        "type(str2)"
      ]
    },
    {
      "cell_type": "code",
      "execution_count": 118,
      "metadata": {
        "colab": {
          "base_uri": "https://localhost:8080/"
        },
        "id": "UblKSVniCzqP",
        "outputId": "2e943a7c-a96c-403d-df72-26b048154472"
      },
      "outputs": [
        {
          "name": "stdout",
          "output_type": "stream",
          "text": [
            " I am Pragati.\n",
            "I like flowers.\n",
            "Tulip is my fav.\n",
            "\n"
          ]
        }
      ],
      "source": [
        "# Multiline String\n",
        "a=''' I am Pragati.\n",
        "I like flowers.\n",
        "Tulip is my fav.\n",
        "'''\n",
        "print(a)"
      ]
    },
    {
      "cell_type": "code",
      "execution_count": 119,
      "metadata": {
        "colab": {
          "base_uri": "https://localhost:8080/",
          "height": 35
        },
        "id": "_yQTRwrYDFKV",
        "outputId": "037901f9-3857-4973-e9d2-758eee39cd60"
      },
      "outputs": [
        {
          "data": {
            "text/plain": [
              "' I am Pragati.\\nI like flowers.\\nTulip is my fav.\\n'"
            ]
          },
          "execution_count": 119,
          "metadata": {},
          "output_type": "execute_result"
        }
      ],
      "source": [
        "a # \\n is a escape character which is used to insert a new line."
      ]
    },
    {
      "cell_type": "markdown",
      "metadata": {
        "id": "VaTzvE4zDQnr"
      },
      "source": [
        "### Concatenation"
      ]
    },
    {
      "cell_type": "markdown",
      "metadata": {
        "id": "X8wtll5gDUHe"
      },
      "source": [
        "Concatenation means combining strings"
      ]
    },
    {
      "cell_type": "code",
      "execution_count": 120,
      "metadata": {
        "colab": {
          "base_uri": "https://localhost:8080/",
          "height": 35
        },
        "id": "9TZAZnFuDIQN",
        "outputId": "4c548961-9e59-4d4e-ef74-b9a9a39054e3"
      },
      "outputs": [
        {
          "data": {
            "text/plain": [
              "'PragatiDwivedi'"
            ]
          },
          "execution_count": 120,
          "metadata": {},
          "output_type": "execute_result"
        }
      ],
      "source": [
        "\"Pragati\"+\"Dwivedi\""
      ]
    },
    {
      "cell_type": "code",
      "execution_count": 121,
      "metadata": {
        "colab": {
          "base_uri": "https://localhost:8080/",
          "height": 35
        },
        "id": "HAgW_tCBDefU",
        "outputId": "3cddd351-b648-477f-c89b-025ad32d1b87"
      },
      "outputs": [
        {
          "data": {
            "text/plain": [
              "'Prag_is_Cute'"
            ]
          },
          "execution_count": 121,
          "metadata": {},
          "output_type": "execute_result"
        }
      ],
      "source": [
        "a=\"Prag\"\n",
        "b=\"is\"\n",
        "c=\"Cute\"\n",
        "a+\"_\"+b+\"_\"+c"
      ]
    },
    {
      "cell_type": "markdown",
      "metadata": {
        "id": "4EGfwkcZDuzx"
      },
      "source": [
        "### Extracting / Slicing"
      ]
    },
    {
      "cell_type": "code",
      "execution_count": 122,
      "metadata": {
        "colab": {
          "base_uri": "https://localhost:8080/"
        },
        "id": "RvimptuCDqKa",
        "outputId": "72f5730a-ee6d-4380-8546-759fc2da0f91"
      },
      "outputs": [
        {
          "data": {
            "text/plain": [
              "('P', 'r', 'a')"
            ]
          },
          "execution_count": 122,
          "metadata": {},
          "output_type": "execute_result"
        }
      ],
      "source": [
        "a=\"Pragatii\"\n",
        "a[0],a[1],a[2]"
      ]
    },
    {
      "cell_type": "code",
      "execution_count": 123,
      "metadata": {
        "colab": {
          "base_uri": "https://localhost:8080/",
          "height": 35
        },
        "id": "45_WJOlNEnbl",
        "outputId": "9f056c60-2b12-436e-e143-0eb2f4ac9f37"
      },
      "outputs": [
        {
          "data": {
            "text/plain": [
              "'Pr'"
            ]
          },
          "execution_count": 123,
          "metadata": {},
          "output_type": "execute_result"
        }
      ],
      "source": [
        "#slicing\n",
        "a[0:2] #last value excluded"
      ]
    },
    {
      "cell_type": "code",
      "execution_count": 124,
      "metadata": {
        "colab": {
          "base_uri": "https://localhost:8080/",
          "height": 35
        },
        "id": "tn9t8WLXEuvF",
        "outputId": "14ea8d4b-5e36-4ca7-cc5c-6e0737d73bf6"
      },
      "outputs": [
        {
          "data": {
            "text/plain": [
              "'I am a '"
            ]
          },
          "execution_count": 124,
          "metadata": {},
          "output_type": "execute_result"
        }
      ],
      "source": [
        "str1=\"I am a pretty little baby\"\n",
        "str1[0:7] # start from 0 index end on 6 index"
      ]
    },
    {
      "cell_type": "code",
      "execution_count": 125,
      "metadata": {
        "colab": {
          "base_uri": "https://localhost:8080/",
          "height": 35
        },
        "id": "pqzqRPiwE5dH",
        "outputId": "ceb053df-4fa8-4758-e085-179306dca0d2"
      },
      "outputs": [
        {
          "data": {
            "text/plain": [
              "'I am a pretty little baby'"
            ]
          },
          "execution_count": 125,
          "metadata": {},
          "output_type": "execute_result"
        }
      ],
      "source": [
        "str1[0:] #if end index not provided, by default it comes to an end till last index"
      ]
    },
    {
      "cell_type": "code",
      "execution_count": 126,
      "metadata": {
        "colab": {
          "base_uri": "https://localhost:8080/",
          "height": 35
        },
        "id": "y9RluXBvFLNu",
        "outputId": "db48a4b0-24a4-4ada-d745-78d4f9cbf190"
      },
      "outputs": [
        {
          "data": {
            "text/plain": [
              "'I am a pretty little '"
            ]
          },
          "execution_count": 126,
          "metadata": {},
          "output_type": "execute_result"
        }
      ],
      "source": [
        "str1[:-4] # if start index not provided, by default it begins with 1st index"
      ]
    },
    {
      "cell_type": "code",
      "execution_count": 127,
      "metadata": {
        "colab": {
          "base_uri": "https://localhost:8080/",
          "height": 35
        },
        "id": "xxU7GL60FfC0",
        "outputId": "b2be6e27-89c1-4271-ff93-d3904a623410"
      },
      "outputs": [
        {
          "data": {
            "text/plain": [
              "'I am a pretty little'"
            ]
          },
          "execution_count": 127,
          "metadata": {},
          "output_type": "execute_result"
        }
      ],
      "source": [
        "# print except last n character\n",
        "str1[:-5] #n=5"
      ]
    },
    {
      "cell_type": "code",
      "execution_count": 128,
      "metadata": {
        "colab": {
          "base_uri": "https://localhost:8080/",
          "height": 35
        },
        "id": "MijGwYOLF0Sb",
        "outputId": "11c5ef86-b6c6-4bff-9ec1-2dccdee4fc51"
      },
      "outputs": [
        {
          "data": {
            "text/plain": [
              "'baby'"
            ]
          },
          "execution_count": 128,
          "metadata": {},
          "output_type": "execute_result"
        }
      ],
      "source": [
        "# print only last n character\n",
        "str1[-4:] # n=4"
      ]
    },
    {
      "cell_type": "code",
      "execution_count": 129,
      "metadata": {
        "colab": {
          "base_uri": "https://localhost:8080/",
          "height": 35
        },
        "id": "V2IG5TF9F9vE",
        "outputId": "3b89ddbc-7ff6-4044-adc8-1629b7ecb963"
      },
      "outputs": [
        {
          "data": {
            "text/plain": [
              "'Ia  r'"
            ]
          },
          "execution_count": 129,
          "metadata": {},
          "output_type": "execute_result"
        }
      ],
      "source": [
        "str1[0:9:2] # start : end : skip"
      ]
    },
    {
      "cell_type": "code",
      "execution_count": 130,
      "metadata": {
        "colab": {
          "base_uri": "https://localhost:8080/",
          "height": 35
        },
        "id": "ZMzsSi2FGGxU",
        "outputId": "54350a88-cf3e-417b-9d86-153fa1888a0e"
      },
      "outputs": [
        {
          "data": {
            "text/plain": [
              "'hlonv'"
            ]
          },
          "execution_count": 130,
          "metadata": {},
          "output_type": "execute_result"
        }
      ],
      "source": [
        "a=\"hellouniverse\"\n",
        "a[0:10:2]"
      ]
    },
    {
      "cell_type": "markdown",
      "metadata": {
        "id": "pkoGDiLWGv1J"
      },
      "source": [
        "- reverse"
      ]
    },
    {
      "cell_type": "code",
      "execution_count": 131,
      "metadata": {
        "colab": {
          "base_uri": "https://localhost:8080/",
          "height": 35
        },
        "id": "rRK8tcllGiK8",
        "outputId": "2abb0655-771a-4142-b0a3-4ab72bb8ef26"
      },
      "outputs": [
        {
          "data": {
            "text/plain": [
              "'esrevinuolleh'"
            ]
          },
          "execution_count": 131,
          "metadata": {},
          "output_type": "execute_result"
        }
      ],
      "source": [
        "a[::-1]"
      ]
    },
    {
      "cell_type": "markdown",
      "metadata": {
        "id": "wg2AccDzG4ez"
      },
      "source": [
        "### length"
      ]
    },
    {
      "cell_type": "code",
      "execution_count": 132,
      "metadata": {
        "colab": {
          "base_uri": "https://localhost:8080/",
          "height": 35
        },
        "id": "5SsIw3uMlucu",
        "outputId": "3f00135c-59d0-42e2-cf80-fd18723e22fa"
      },
      "outputs": [
        {
          "data": {
            "text/plain": [
              "'hellouniverse'"
            ]
          },
          "execution_count": 132,
          "metadata": {},
          "output_type": "execute_result"
        }
      ],
      "source": [
        "a"
      ]
    },
    {
      "cell_type": "code",
      "execution_count": 133,
      "metadata": {
        "colab": {
          "base_uri": "https://localhost:8080/"
        },
        "id": "JhHgAHwWG0N_",
        "outputId": "56db5ea7-ce6f-4126-f373-6697a15e5100"
      },
      "outputs": [
        {
          "data": {
            "text/plain": [
              "13"
            ]
          },
          "execution_count": 133,
          "metadata": {},
          "output_type": "execute_result"
        }
      ],
      "source": [
        "len(a)"
      ]
    },
    {
      "cell_type": "code",
      "execution_count": 134,
      "metadata": {
        "colab": {
          "base_uri": "https://localhost:8080/",
          "height": 35
        },
        "id": "ueXDe1IAlwkG",
        "outputId": "95e4313a-803c-4f14-85c0-a3be105e00fc"
      },
      "outputs": [
        {
          "data": {
            "text/plain": [
              "'I am a pretty little baby'"
            ]
          },
          "execution_count": 134,
          "metadata": {},
          "output_type": "execute_result"
        }
      ],
      "source": [
        "str1"
      ]
    },
    {
      "cell_type": "code",
      "execution_count": 135,
      "metadata": {
        "colab": {
          "base_uri": "https://localhost:8080/"
        },
        "id": "u9eCkVzDG_-s",
        "outputId": "452e1e44-220c-4984-c54f-b288450ad08b"
      },
      "outputs": [
        {
          "data": {
            "text/plain": [
              "25"
            ]
          },
          "execution_count": 135,
          "metadata": {},
          "output_type": "execute_result"
        }
      ],
      "source": [
        "len(str1)"
      ]
    },
    {
      "cell_type": "markdown",
      "metadata": {
        "id": "yZHW6NL5lzE7"
      },
      "source": [
        "### Modification of str"
      ]
    },
    {
      "cell_type": "code",
      "execution_count": 136,
      "metadata": {
        "colab": {
          "base_uri": "https://localhost:8080/",
          "height": 35
        },
        "id": "Jz0eukCoHB6r",
        "outputId": "391b30a6-524f-44fe-c327-2988e5072649"
      },
      "outputs": [
        {
          "data": {
            "text/plain": [
              "'I am a pretty little baby'"
            ]
          },
          "execution_count": 136,
          "metadata": {},
          "output_type": "execute_result"
        }
      ],
      "source": [
        "str1"
      ]
    },
    {
      "cell_type": "code",
      "execution_count": 137,
      "metadata": {
        "colab": {
          "base_uri": "https://localhost:8080/",
          "height": 35
        },
        "id": "FzTkKlMmmTey",
        "outputId": "d436502b-20d3-4a26-d4fa-f2cc51ed9f08"
      },
      "outputs": [
        {
          "data": {
            "text/plain": [
              "'I am a pretty beautiful baby'"
            ]
          },
          "execution_count": 137,
          "metadata": {},
          "output_type": "execute_result"
        }
      ],
      "source": [
        "str1.replace(\"little\",\"beautiful\")"
      ]
    },
    {
      "cell_type": "markdown",
      "metadata": {
        "id": "JLAuufEjmtj4"
      },
      "source": [
        "- str.lower()"
      ]
    },
    {
      "cell_type": "code",
      "execution_count": 138,
      "metadata": {
        "colab": {
          "base_uri": "https://localhost:8080/",
          "height": 35
        },
        "id": "XERI2q9SmhGd",
        "outputId": "e735a8a2-4184-492b-f24b-9dd8935dbc55"
      },
      "outputs": [
        {
          "data": {
            "text/plain": [
              "'hello world!'"
            ]
          },
          "execution_count": 138,
          "metadata": {},
          "output_type": "execute_result"
        }
      ],
      "source": [
        "a='Hello WORLD!'\n",
        "a.lower()"
      ]
    },
    {
      "cell_type": "markdown",
      "metadata": {
        "id": "934WYur_m4HJ"
      },
      "source": [
        "- str.upper()"
      ]
    },
    {
      "cell_type": "code",
      "execution_count": 139,
      "metadata": {
        "colab": {
          "base_uri": "https://localhost:8080/",
          "height": 35
        },
        "id": "WMhm-eZLm2ug",
        "outputId": "79f87c16-fb99-42aa-fdbf-defb67f49240"
      },
      "outputs": [
        {
          "data": {
            "text/plain": [
              "'HELLO WORLD!'"
            ]
          },
          "execution_count": 139,
          "metadata": {},
          "output_type": "execute_result"
        }
      ],
      "source": [
        "a.upper()"
      ]
    },
    {
      "cell_type": "markdown",
      "metadata": {
        "id": "YGe6brIznAcQ"
      },
      "source": [
        "- To make 1st letter capital of each word\n",
        "- str.title()"
      ]
    },
    {
      "cell_type": "code",
      "execution_count": 140,
      "metadata": {
        "colab": {
          "base_uri": "https://localhost:8080/",
          "height": 35
        },
        "id": "t6fM65UYm9xc",
        "outputId": "5d5a15e3-ab6e-420c-a43c-d8d064d63e78"
      },
      "outputs": [
        {
          "data": {
            "text/plain": [
              "'I Am A Pretty Little Baby'"
            ]
          },
          "execution_count": 140,
          "metadata": {},
          "output_type": "execute_result"
        }
      ],
      "source": [
        "str1.title()"
      ]
    },
    {
      "cell_type": "markdown",
      "metadata": {
        "id": "4jUOIR8WnOyS"
      },
      "source": [
        "- To convert lower case to upper and vice versa\n",
        "- str.swapcase()\n",
        "\n"
      ]
    },
    {
      "cell_type": "code",
      "execution_count": 141,
      "metadata": {
        "colab": {
          "base_uri": "https://localhost:8080/",
          "height": 35
        },
        "id": "S9ZaCJWAnXHG",
        "outputId": "a40a2444-061e-4f52-fbad-9c38038b42ab"
      },
      "outputs": [
        {
          "data": {
            "text/plain": [
              "'i AM ok'"
            ]
          },
          "execution_count": 141,
          "metadata": {},
          "output_type": "execute_result"
        }
      ],
      "source": [
        "strr='I am OK'\n",
        "strr.swapcase()"
      ]
    },
    {
      "cell_type": "markdown",
      "metadata": {
        "id": "Ug_0QCPNnoBn"
      },
      "source": [
        "### String searching"
      ]
    },
    {
      "cell_type": "markdown",
      "metadata": {
        "id": "ZdWZqm_NnsLd"
      },
      "source": [
        "- If any string (large) is given, to search any specific word whether it is given or not we use this command."
      ]
    },
    {
      "cell_type": "code",
      "execution_count": 142,
      "metadata": {
        "id": "0yM8oAstnmYA"
      },
      "outputs": [],
      "source": [
        "sentence='My Delulu is someones solulu.'\n"
      ]
    },
    {
      "cell_type": "code",
      "execution_count": 143,
      "metadata": {
        "colab": {
          "base_uri": "https://localhost:8080/"
        },
        "id": "t2NBU2qZoIGw",
        "outputId": "13b8e52e-8900-43cd-bfbb-d24733f8fa13"
      },
      "outputs": [
        {
          "data": {
            "text/plain": [
              "True"
            ]
          },
          "execution_count": 143,
          "metadata": {},
          "output_type": "execute_result"
        }
      ],
      "source": [
        "\"Delulu\" in sentence"
      ]
    },
    {
      "cell_type": "code",
      "execution_count": 144,
      "metadata": {
        "colab": {
          "base_uri": "https://localhost:8080/"
        },
        "id": "o1Wz_emdoM0I",
        "outputId": "7a54c468-5cc2-431b-acbf-d1a87161a2c8"
      },
      "outputs": [
        {
          "name": "stdout",
          "output_type": "stream",
          "text": [
            "Present\n"
          ]
        }
      ],
      "source": [
        "search_word=\"solulu\"\n",
        "if search_word in sentence:\n",
        "    print(\"Present\")\n",
        "else:\n",
        "    print(\"Not Present\")"
      ]
    },
    {
      "cell_type": "code",
      "execution_count": 145,
      "metadata": {
        "colab": {
          "base_uri": "https://localhost:8080/"
        },
        "id": "qEVsHtSGoaYR",
        "outputId": "781744ae-8311-4563-a287-ee81e6f2d57c"
      },
      "outputs": [
        {
          "name": "stdout",
          "output_type": "stream",
          "text": [
            "Valid email\n"
          ]
        }
      ],
      "source": [
        "email=\"at12@hotmail.com\"\n",
        "if \"@\" in email:\n",
        "    print(\"Valid email\")\n",
        "else:\n",
        "    print(\"Invalid email\")"
      ]
    },
    {
      "cell_type": "markdown",
      "metadata": {
        "id": "0ptE0Lp0oz0p"
      },
      "source": [
        "### Sorting"
      ]
    },
    {
      "cell_type": "markdown",
      "metadata": {
        "id": "cxa0O1BYo3Ac"
      },
      "source": [
        "To sort the string in alphabetical order."
      ]
    },
    {
      "cell_type": "code",
      "execution_count": 146,
      "metadata": {
        "colab": {
          "base_uri": "https://localhost:8080/"
        },
        "id": "YNFDxfcQotEZ",
        "outputId": "6b3a0b74-7187-43d5-f388-7c656cb6fec7"
      },
      "outputs": [
        {
          "data": {
            "text/plain": [
              "['Apple', 'Mango', 'Pandas', 'Zebra']"
            ]
          },
          "execution_count": 146,
          "metadata": {},
          "output_type": "execute_result"
        }
      ],
      "source": [
        "noun=[\"Apple\",\"Zebra\",\"Mango\",\"Pandas\"]\n",
        "sorted(noun)"
      ]
    },
    {
      "cell_type": "markdown",
      "metadata": {
        "id": "2_TERf4SpQ52"
      },
      "source": [
        "### Removing space"
      ]
    },
    {
      "cell_type": "markdown",
      "metadata": {
        "id": "Rxl1Nc9FpVD-"
      },
      "source": [
        "- To remove if unwanted space is present"
      ]
    },
    {
      "cell_type": "code",
      "execution_count": 147,
      "metadata": {
        "colab": {
          "base_uri": "https://localhost:8080/",
          "height": 35
        },
        "id": "URQ8LohXpMbt",
        "outputId": "2417bf98-2a36-4b2e-f618-21198892dd5b"
      },
      "outputs": [
        {
          "data": {
            "text/plain": [
              "'prag    ati'"
            ]
          },
          "execution_count": 147,
          "metadata": {},
          "output_type": "execute_result"
        }
      ],
      "source": [
        "name=\"    prag    ati   \"\n",
        "name.strip()"
      ]
    },
    {
      "cell_type": "markdown",
      "metadata": {
        "id": "Jhe5hGfeplTB"
      },
      "source": [
        "### String Splitting"
      ]
    },
    {
      "cell_type": "code",
      "execution_count": 148,
      "metadata": {
        "colab": {
          "base_uri": "https://localhost:8080/",
          "height": 35
        },
        "id": "ZxhtVyoVpf6Z",
        "outputId": "3359ac8e-b1cb-431a-e823-2ea6047a17aa"
      },
      "outputs": [
        {
          "data": {
            "text/plain": [
              "'Anu,Python,Banglore'"
            ]
          },
          "execution_count": 148,
          "metadata": {},
          "output_type": "execute_result"
        }
      ],
      "source": [
        "data=\"Anu,Python,Banglore\"\n",
        "data"
      ]
    },
    {
      "cell_type": "code",
      "execution_count": 149,
      "metadata": {
        "colab": {
          "base_uri": "https://localhost:8080/"
        },
        "id": "j9x4QT60pwSa",
        "outputId": "5fe62c5c-c202-4616-ab90-ed153551db22"
      },
      "outputs": [
        {
          "data": {
            "text/plain": [
              "['Anu', 'Python', 'Banglore']"
            ]
          },
          "execution_count": 149,
          "metadata": {},
          "output_type": "execute_result"
        }
      ],
      "source": [
        "info=data.split(',')\n",
        "info"
      ]
    },
    {
      "cell_type": "code",
      "execution_count": 150,
      "metadata": {
        "colab": {
          "base_uri": "https://localhost:8080/"
        },
        "id": "slUNSNSOp2sW",
        "outputId": "112a6597-2583-40fc-b454-5304fe6f425c"
      },
      "outputs": [
        {
          "data": {
            "text/plain": [
              "('Anu', 'Banglore')"
            ]
          },
          "execution_count": 150,
          "metadata": {},
          "output_type": "execute_result"
        }
      ],
      "source": [
        "info[0],info[2]"
      ]
    },
    {
      "cell_type": "markdown",
      "metadata": {
        "id": "XUErFv5gqCZ1"
      },
      "source": [
        "### Escape sequence"
      ]
    },
    {
      "cell_type": "markdown",
      "metadata": {
        "id": "AyYXScGvqGD9"
      },
      "source": [
        "- special combination of character used within string to perform specific tasks"
      ]
    },
    {
      "cell_type": "code",
      "execution_count": 151,
      "metadata": {
        "colab": {
          "base_uri": "https://localhost:8080/",
          "height": 35
        },
        "id": "DF-QZ6Gcp7MT",
        "outputId": "3732d491-7daf-45f0-c1af-cacc74c43713"
      },
      "outputs": [
        {
          "data": {
            "text/plain": [
              "' 123, Saket Enclave\\nGodson Society\\nGomtinagar\\nLucknow'"
            ]
          },
          "execution_count": 151,
          "metadata": {},
          "output_type": "execute_result"
        }
      ],
      "source": [
        "address=''' 123, Saket Enclave\n",
        "Godson Society\n",
        "Gomtinagar\n",
        "Lucknow'''\n",
        "address # \\n is an escape character >> To insert a new line"
      ]
    },
    {
      "cell_type": "code",
      "execution_count": 152,
      "metadata": {
        "colab": {
          "base_uri": "https://localhost:8080/"
        },
        "id": "FB4RaWpqqf25",
        "outputId": "3240893f-2375-4786-b23f-36aa673ad219"
      },
      "outputs": [
        {
          "name": "stdout",
          "output_type": "stream",
          "text": [
            " 123, Saket Enclave\n",
            "Godson Society\n",
            "Gomtinagar\n",
            "Lucknow\n"
          ]
        }
      ],
      "source": [
        "print(address)"
      ]
    },
    {
      "cell_type": "code",
      "execution_count": 153,
      "metadata": {
        "colab": {
          "base_uri": "https://localhost:8080/"
        },
        "id": "5nLdsJx7qmss",
        "outputId": "19955013-4795-48c9-e774-6c860b4c1903"
      },
      "outputs": [
        {
          "name": "stdout",
          "output_type": "stream",
          "text": [
            "Name\t Subject \t Marks \n",
            " Anny \t Computer \t 78 \n",
            " Siri \t Mathematics \t 89 \n",
            " Lucy \t English \t 85\n"
          ]
        }
      ],
      "source": [
        "# \\t used for tab space\n",
        "table=\"Name\\t Subject \\t Marks \\n Anny \\t Computer \\t 78 \\n Siri \\t Mathematics \\t 89 \\n Lucy \\t English \\t 85\"\n",
        "print(table)"
      ]
    },
    {
      "cell_type": "code",
      "execution_count": 154,
      "metadata": {
        "colab": {
          "base_uri": "https://localhost:8080/",
          "height": 35
        },
        "id": "7k6QMAdrrRyH",
        "outputId": "4329e5eb-b788-4a38-e238-43c3b939bc86"
      },
      "outputs": [
        {
          "data": {
            "text/plain": [
              "\"I can't play\""
            ]
          },
          "execution_count": 154,
          "metadata": {},
          "output_type": "execute_result"
        }
      ],
      "source": [
        "# \\' Single quote escape\n",
        "str1='I can\\'t play'\n",
        "str1"
      ]
    },
    {
      "cell_type": "code",
      "execution_count": 155,
      "metadata": {
        "colab": {
          "base_uri": "https://localhost:8080/"
        },
        "id": "UeJ7loCKsMCH",
        "outputId": "a47fa4d2-ff93-4a30-b5f7-ff37e4be2a13"
      },
      "outputs": [
        {
          "name": "stdout",
          "output_type": "stream",
          "text": [
            "Hello I am Prag\n"
          ]
        }
      ],
      "source": [
        "# carriage return \\r << move the cursor to the begginning of line\n",
        "print(\"Hello I am Prag\")"
      ]
    },
    {
      "cell_type": "code",
      "execution_count": 156,
      "metadata": {
        "colab": {
          "base_uri": "https://localhost:8080/"
        },
        "id": "bqvgcl7jscO0",
        "outputId": "6370dc69-6717-45d0-c05b-bde036865199"
      },
      "outputs": [
        {
          "name": "stdout",
          "output_type": "stream",
          "text": [
            " am Prag\n"
          ]
        }
      ],
      "source": [
        "print(\"Hello I \\r am Prag\")"
      ]
    },
    {
      "cell_type": "markdown",
      "metadata": {
        "id": "7IDwpvT7sjkR"
      },
      "source": [
        "### String Formatting"
      ]
    },
    {
      "cell_type": "markdown",
      "metadata": {
        "id": "LC1w1frLsm4o"
      },
      "source": [
        "Creating string with placeholder for variable"
      ]
    },
    {
      "cell_type": "code",
      "execution_count": 157,
      "metadata": {
        "colab": {
          "base_uri": "https://localhost:8080/"
        },
        "id": "SzJpHQmOsg1J",
        "outputId": "50edd018-728e-4ef6-ea85-98a8bb8bdef9"
      },
      "outputs": [
        {
          "name": "stdout",
          "output_type": "stream",
          "text": [
            "My name is Alexa\n"
          ]
        }
      ],
      "source": [
        "print(\"My name is Alexa\")"
      ]
    },
    {
      "cell_type": "code",
      "execution_count": 158,
      "metadata": {
        "colab": {
          "base_uri": "https://localhost:8080/"
        },
        "id": "7WZ1vO8qs02N",
        "outputId": "ce3c2c5c-7a9b-417f-c8e4-683259760628"
      },
      "outputs": [
        {
          "name": "stdout",
          "output_type": "stream",
          "text": [
            "My name is Alexa\n"
          ]
        }
      ],
      "source": [
        "# using f-string\n",
        "name=\"Alexa\"\n",
        "print(f\"My name is {name}\")"
      ]
    },
    {
      "cell_type": "code",
      "execution_count": 159,
      "metadata": {
        "colab": {
          "base_uri": "https://localhost:8080/"
        },
        "id": "bOxHzytXtB7C",
        "outputId": "353e473d-e523-459d-b612-5f713dc506aa"
      },
      "outputs": [
        {
          "name": "stdout",
          "output_type": "stream",
          "text": [
            "Hey! I am Prag.\n"
          ]
        }
      ],
      "source": [
        "input=input(\"Enter your name : \")\n",
        "print(f\"Hey! I am {input}.\")"
      ]
    },
    {
      "cell_type": "code",
      "execution_count": 160,
      "metadata": {
        "colab": {
          "base_uri": "https://localhost:8080/"
        },
        "id": "2naIT8MytQyv",
        "outputId": "3b7d2de4-2041-46e6-e6ae-0f87a5bbfb48"
      },
      "outputs": [
        {
          "name": "stdout",
          "output_type": "stream",
          "text": [
            "hello Prag, How are you??\n"
          ]
        }
      ],
      "source": [
        "# string format << used earlier\n",
        "greetings=\"hello %s, How are you??\"%input\n",
        "print(greetings)"
      ]
    },
    {
      "cell_type": "code",
      "execution_count": 161,
      "metadata": {
        "colab": {
          "base_uri": "https://localhost:8080/"
        },
        "id": "804L2wJGtp40",
        "outputId": "f30c7a88-4851-4532-b307-a9c5e7d9a0c8"
      },
      "outputs": [
        {
          "name": "stdout",
          "output_type": "stream",
          "text": [
            "Hello,Annu!! Welcome to Praggy's World\n"
          ]
        }
      ],
      "source": [
        "# .format\n",
        "template= \"Hello,{}!! Welcome to {}\"\n",
        "message=template.format(\"Annu\",\"Praggy's World\")\n",
        "print(message)"
      ]
    },
    {
      "cell_type": "code",
      "execution_count": 162,
      "metadata": {
        "colab": {
          "base_uri": "https://localhost:8080/",
          "height": 35
        },
        "id": "11fYz1VsuOPV",
        "outputId": "8bac8c12-704c-4ace-bb2f-675d8e6f7f8b"
      },
      "outputs": [
        {
          "data": {
            "text/plain": [
              "'He is Annu, lives in Banglore. He want to buy PS5'"
            ]
          },
          "execution_count": 162,
          "metadata": {},
          "output_type": "execute_result"
        }
      ],
      "source": [
        "# f string (Formatted string literal)\n",
        "name=\"Annu\"\n",
        "place=\"Banglore\"\n",
        "need=\"PS5\"\n",
        "f\"He is {name}, lives in {place}. He want to buy {need}\""
      ]
    },
    {
      "cell_type": "code",
      "execution_count": 163,
      "metadata": {
        "colab": {
          "base_uri": "https://localhost:8080/",
          "height": 35
        },
        "id": "jv4Bwmg6vCOw",
        "outputId": "7c095322-1d1a-4a76-97b5-db6680add017"
      },
      "outputs": [
        {
          "data": {
            "text/plain": [
              "'30 C=86.0F'"
            ]
          },
          "execution_count": 163,
          "metadata": {},
          "output_type": "execute_result"
        }
      ],
      "source": [
        "celsius=30\n",
        "f\"{celsius} C={(celsius*9/5)+32}F\""
      ]
    },
    {
      "cell_type": "markdown",
      "metadata": {
        "id": "ygPe5FZiv6fy"
      },
      "source": [
        "- str.startswith()\n",
        "- str.endswith()"
      ]
    },
    {
      "cell_type": "code",
      "execution_count": 164,
      "metadata": {
        "colab": {
          "base_uri": "https://localhost:8080/",
          "height": 35
        },
        "id": "fHrle3fuvfmu",
        "outputId": "c41abfe8-65cd-4186-a4a3-3a01048db72b"
      },
      "outputs": [
        {
          "data": {
            "text/plain": [
              "\"Hello,Annu!! Welcome to Praggy's World\""
            ]
          },
          "execution_count": 164,
          "metadata": {},
          "output_type": "execute_result"
        }
      ],
      "source": [
        "message"
      ]
    },
    {
      "cell_type": "code",
      "execution_count": 165,
      "metadata": {
        "colab": {
          "base_uri": "https://localhost:8080/"
        },
        "id": "h_zo7eOkwDdc",
        "outputId": "59765bbd-0925-4d8f-d18e-afa0df7f4819"
      },
      "outputs": [
        {
          "data": {
            "text/plain": [
              "True"
            ]
          },
          "execution_count": 165,
          "metadata": {},
          "output_type": "execute_result"
        }
      ],
      "source": [
        "message.startswith(\"Hello\")"
      ]
    },
    {
      "cell_type": "code",
      "execution_count": 166,
      "metadata": {
        "colab": {
          "base_uri": "https://localhost:8080/"
        },
        "id": "JSB7MyZewIRY",
        "outputId": "073564a4-c4dc-4b0a-adff-1a9d0d57d811"
      },
      "outputs": [
        {
          "data": {
            "text/plain": [
              "False"
            ]
          },
          "execution_count": 166,
          "metadata": {},
          "output_type": "execute_result"
        }
      ],
      "source": [
        "message.endswith(\"Universe\")"
      ]
    },
    {
      "cell_type": "code",
      "execution_count": 167,
      "metadata": {
        "colab": {
          "base_uri": "https://localhost:8080/"
        },
        "id": "JvNZjp1vwNeo",
        "outputId": "4ea85cdd-9a78-4d2f-e7c2-a8dbc35ad171"
      },
      "outputs": [
        {
          "data": {
            "text/plain": [
              "True"
            ]
          },
          "execution_count": 167,
          "metadata": {},
          "output_type": "execute_result"
        }
      ],
      "source": [
        "a=\"abcd123\"\n",
        "a.isalnum()"
      ]
    },
    {
      "cell_type": "markdown",
      "metadata": {
        "id": "hkroV0Ag5Svq"
      },
      "source": [
        "## Tuples"
      ]
    },
    {
      "cell_type": "markdown",
      "metadata": {
        "id": "akKW_gy85daM"
      },
      "source": [
        "- Heterogenous\n",
        "- Ordered collection of elements\n",
        "- Immutable\n",
        "- syntax :  tuple()"
      ]
    },
    {
      "cell_type": "code",
      "execution_count": 168,
      "metadata": {
        "colab": {
          "base_uri": "https://localhost:8080/"
        },
        "id": "ce8B2LFkwUrA",
        "outputId": "47fbd968-b7cb-422d-e317-3039c2c16556"
      },
      "outputs": [
        {
          "data": {
            "text/plain": [
              "('Data', 'Science', 56, True)"
            ]
          },
          "execution_count": 168,
          "metadata": {},
          "output_type": "execute_result"
        }
      ],
      "source": [
        "t=(\"Data\", \"Science\",56,True)\n",
        "t"
      ]
    },
    {
      "cell_type": "code",
      "execution_count": 169,
      "metadata": {
        "colab": {
          "base_uri": "https://localhost:8080/"
        },
        "id": "e6JW--G45uDz",
        "outputId": "d8f15341-fb5b-40ea-bd52-5a4f6a536590"
      },
      "outputs": [
        {
          "data": {
            "text/plain": [
              "tuple"
            ]
          },
          "execution_count": 169,
          "metadata": {},
          "output_type": "execute_result"
        }
      ],
      "source": [
        "type(t)"
      ]
    },
    {
      "cell_type": "markdown",
      "metadata": {
        "id": "zqmkLlNf5xHe"
      },
      "source": [
        "### Indexing"
      ]
    },
    {
      "cell_type": "markdown",
      "metadata": {
        "id": "CrMHIS-75zfc"
      },
      "source": [
        "- Indexing will be same as list"
      ]
    },
    {
      "cell_type": "code",
      "execution_count": 170,
      "metadata": {
        "colab": {
          "base_uri": "https://localhost:8080/"
        },
        "id": "rTHIknCj5vRj",
        "outputId": "90f26a19-6339-4936-8fcf-bfcbd0e4fe73"
      },
      "outputs": [
        {
          "data": {
            "text/plain": [
              "('Data', 'Science', 56, True)"
            ]
          },
          "execution_count": 170,
          "metadata": {},
          "output_type": "execute_result"
        }
      ],
      "source": [
        "t"
      ]
    },
    {
      "cell_type": "code",
      "execution_count": 171,
      "metadata": {
        "colab": {
          "base_uri": "https://localhost:8080/"
        },
        "id": "WkDXAORn54in",
        "outputId": "f6434ade-a843-48e3-82b8-2a98a33764c4"
      },
      "outputs": [
        {
          "data": {
            "text/plain": [
              "('Data', 'Science', 56)"
            ]
          },
          "execution_count": 171,
          "metadata": {},
          "output_type": "execute_result"
        }
      ],
      "source": [
        "t[0],t[1],t[2]"
      ]
    },
    {
      "cell_type": "markdown",
      "metadata": {
        "id": "LdcXMCrG6Rc6"
      },
      "source": [
        "- Immutable :  Changes cannot be done"
      ]
    },
    {
      "cell_type": "code",
      "execution_count": 172,
      "metadata": {
        "colab": {
          "base_uri": "https://localhost:8080/"
        },
        "id": "WA8eoiJj570Q",
        "outputId": "12fc2e0c-1496-425d-ee48-a65a44dc5386"
      },
      "outputs": [
        {
          "data": {
            "text/plain": [
              "('Data', 'Science', 56, True)"
            ]
          },
          "execution_count": 172,
          "metadata": {},
          "output_type": "execute_result"
        }
      ],
      "source": [
        "t"
      ]
    },
    {
      "cell_type": "code",
      "execution_count": 173,
      "metadata": {
        "colab": {
          "base_uri": "https://localhost:8080/"
        },
        "id": "hUBubJ1-6Wv4",
        "outputId": "75b4919a-8eba-4108-cc37-79433de46053"
      },
      "outputs": [
        {
          "name": "stdout",
          "output_type": "stream",
          "text": [
            "Error  'tuple' object does not support item assignment\n"
          ]
        }
      ],
      "source": [
        "try:\n",
        "    t[1]=\"Analyst\"\n",
        "except TypeError as e:\n",
        "    print(\"Error \",e)"
      ]
    },
    {
      "cell_type": "markdown",
      "metadata": {
        "id": "fmxL8CkC6p8A"
      },
      "source": [
        "- Use Case\n",
        "1. We use tuple when we don't want to modify the data.\n",
        "2. Like :  Credentials, Confidential , Historical events, Transactions, Medical records, Legal documents, etc"
      ]
    },
    {
      "cell_type": "code",
      "execution_count": 174,
      "metadata": {
        "colab": {
          "base_uri": "https://localhost:8080/"
        },
        "id": "g2HFXq716mBO",
        "outputId": "eec7d1c6-b231-4fcf-a7ad-948cc4bc1c9c"
      },
      "outputs": [
        {
          "data": {
            "text/plain": [
              "tuple"
            ]
          },
          "execution_count": 174,
          "metadata": {},
          "output_type": "execute_result"
        }
      ],
      "source": [
        "login_details=(\"abc\",123)\n",
        "type(login_details)"
      ]
    },
    {
      "cell_type": "markdown",
      "metadata": {
        "id": "CDMSAO2w8IC9"
      },
      "source": [
        "- Counting the elements present in tuple"
      ]
    },
    {
      "cell_type": "code",
      "execution_count": 175,
      "metadata": {
        "colab": {
          "base_uri": "https://localhost:8080/"
        },
        "id": "RL7GPuwv8Cme",
        "outputId": "437f24a1-b3b5-478b-f8ab-bf3706696838"
      },
      "outputs": [
        {
          "data": {
            "text/plain": [
              "5"
            ]
          },
          "execution_count": 175,
          "metadata": {},
          "output_type": "execute_result"
        }
      ],
      "source": [
        "tuple1=(1,2,2,3,4,7,1,2,4,6,7,2,4,6,3,5,2,1,2,1,1,2)\n",
        "tuple1.count(1)"
      ]
    },
    {
      "cell_type": "code",
      "execution_count": 176,
      "metadata": {
        "colab": {
          "base_uri": "https://localhost:8080/"
        },
        "id": "BQmGtTOq8Xuw",
        "outputId": "c0289cdb-5fe4-4763-bf9a-499725545f6c"
      },
      "outputs": [
        {
          "data": {
            "text/plain": [
              "7"
            ]
          },
          "execution_count": 176,
          "metadata": {},
          "output_type": "execute_result"
        }
      ],
      "source": [
        "tuple1.count(2)"
      ]
    },
    {
      "cell_type": "code",
      "execution_count": 177,
      "metadata": {
        "colab": {
          "base_uri": "https://localhost:8080/"
        },
        "id": "AjDFspOW8aRP",
        "outputId": "abc24e5c-8454-427b-d902-f0179af275df"
      },
      "outputs": [
        {
          "data": {
            "text/plain": [
              "2"
            ]
          },
          "execution_count": 177,
          "metadata": {},
          "output_type": "execute_result"
        }
      ],
      "source": [
        "tuple1.count(3)"
      ]
    },
    {
      "cell_type": "code",
      "execution_count": 178,
      "metadata": {
        "colab": {
          "base_uri": "https://localhost:8080/"
        },
        "id": "cnGBIGcd8c1u",
        "outputId": "351d0bcf-8844-4ae5-a676-86bcc91534ba"
      },
      "outputs": [
        {
          "data": {
            "text/plain": [
              "3"
            ]
          },
          "execution_count": 178,
          "metadata": {},
          "output_type": "execute_result"
        }
      ],
      "source": [
        "tuple1.count(4)"
      ]
    },
    {
      "cell_type": "markdown",
      "metadata": {
        "id": "ebjxPOIg8g0d"
      },
      "source": [
        "- Finding index of tuple"
      ]
    },
    {
      "cell_type": "code",
      "execution_count": 179,
      "metadata": {
        "colab": {
          "base_uri": "https://localhost:8080/"
        },
        "id": "vl8vl60S8fJP",
        "outputId": "a0267ef5-f5f3-424c-88b4-cea03261b13e"
      },
      "outputs": [
        {
          "data": {
            "text/plain": [
              "0"
            ]
          },
          "execution_count": 179,
          "metadata": {},
          "output_type": "execute_result"
        }
      ],
      "source": [
        "tuple1.index(1) # show the index of 1st value only, if repeated then not shown"
      ]
    },
    {
      "cell_type": "code",
      "execution_count": 180,
      "metadata": {
        "colab": {
          "base_uri": "https://localhost:8080/"
        },
        "id": "KOC3sTXE8m1h",
        "outputId": "acd68fe1-d6b8-4e58-fbed-3526c612cf1d"
      },
      "outputs": [
        {
          "name": "stdout",
          "output_type": "stream",
          "text": [
            "(1, 2, 2, 3, 4, 7, 1, 2, 4, 6, 7, 2, 4, 6, 3, 5, 2, 1, 2, 1, 1, 2, 1, 2, 2, 3, 4, 7, 1, 2, 4, 6, 7, 2, 4, 6, 3, 5, 2, 1, 2, 1, 1, 2)\n"
          ]
        }
      ],
      "source": [
        "print(tuple1*2)"
      ]
    },
    {
      "cell_type": "markdown",
      "metadata": {
        "id": "J0JEV_Es89qr"
      },
      "source": [
        "### Slicing of Tuple"
      ]
    },
    {
      "cell_type": "code",
      "execution_count": 181,
      "metadata": {
        "colab": {
          "base_uri": "https://localhost:8080/"
        },
        "id": "vR6yVMf9828U",
        "outputId": "90520f07-52d3-4ec2-d779-2e839d433abe"
      },
      "outputs": [
        {
          "data": {
            "text/plain": [
              "('Anny', 'DOB-12/12/2009', 'Student', True)"
            ]
          },
          "execution_count": 181,
          "metadata": {},
          "output_type": "execute_result"
        }
      ],
      "source": [
        "tuple1=(\"Anny\",\"DOB-12/12/2009\",\"Student\",True)\n",
        "tuple1"
      ]
    },
    {
      "cell_type": "code",
      "execution_count": 182,
      "metadata": {
        "colab": {
          "base_uri": "https://localhost:8080/"
        },
        "id": "SpEKeXE19OMR",
        "outputId": "c07d8e1a-347e-453d-daab-68b0603dd58a"
      },
      "outputs": [
        {
          "data": {
            "text/plain": [
              "('Anny', 'DOB-12/12/2009')"
            ]
          },
          "execution_count": 182,
          "metadata": {},
          "output_type": "execute_result"
        }
      ],
      "source": [
        "tuple1[0:2]"
      ]
    },
    {
      "cell_type": "code",
      "execution_count": 183,
      "metadata": {
        "colab": {
          "base_uri": "https://localhost:8080/"
        },
        "id": "uPr9-6xY94iD",
        "outputId": "1353685c-a26b-4952-d52f-ea544f4663a7"
      },
      "outputs": [
        {
          "data": {
            "text/plain": [
              "(True, 'Student', 'DOB-12/12/2009', 'Anny')"
            ]
          },
          "execution_count": 183,
          "metadata": {},
          "output_type": "execute_result"
        }
      ],
      "source": [
        "# reverse\n",
        "tuple1[::-1]"
      ]
    },
    {
      "cell_type": "markdown",
      "metadata": {
        "id": "OBxMNfeN-IAH"
      },
      "source": [
        "- Iteration in Tuple"
      ]
    },
    {
      "cell_type": "code",
      "execution_count": 184,
      "metadata": {
        "colab": {
          "base_uri": "https://localhost:8080/"
        },
        "id": "bREk1mg4-BS2",
        "outputId": "7ac9cdf2-e249-4606-e5a0-3bf92f4da435"
      },
      "outputs": [
        {
          "name": "stdout",
          "output_type": "stream",
          "text": [
            "Anny <class 'str'>\n",
            "DOB-12/12/2009 <class 'str'>\n",
            "Student <class 'str'>\n",
            "True <class 'bool'>\n"
          ]
        }
      ],
      "source": [
        "for i in tuple1:\n",
        "    print(i, type(i))"
      ]
    },
    {
      "cell_type": "markdown",
      "metadata": {
        "id": "zUcS5HnD-yT-"
      },
      "source": [
        "### max & min"
      ]
    },
    {
      "cell_type": "code",
      "execution_count": 185,
      "metadata": {
        "colab": {
          "base_uri": "https://localhost:8080/"
        },
        "id": "oNFX38aF-OLS",
        "outputId": "918cd5c2-4977-4c20-9877-bc9d857cadfb"
      },
      "outputs": [
        {
          "data": {
            "text/plain": [
              "789"
            ]
          },
          "execution_count": 185,
          "metadata": {},
          "output_type": "execute_result"
        }
      ],
      "source": [
        "t1=(12,56,789,12,4,-87)\n",
        "max(t1)"
      ]
    },
    {
      "cell_type": "code",
      "execution_count": 186,
      "metadata": {
        "colab": {
          "base_uri": "https://localhost:8080/"
        },
        "id": "Ncim1jro-Xb8",
        "outputId": "93dc92ec-9310-4eb9-a670-8b4644d9c492"
      },
      "outputs": [
        {
          "data": {
            "text/plain": [
              "-87"
            ]
          },
          "execution_count": 186,
          "metadata": {},
          "output_type": "execute_result"
        }
      ],
      "source": [
        "min(t1)"
      ]
    },
    {
      "cell_type": "code",
      "execution_count": 187,
      "metadata": {
        "colab": {
          "base_uri": "https://localhost:8080/"
        },
        "id": "dbZyMSS0-ZuG",
        "outputId": "72da898b-85aa-4fea-a884-0864a3d998f7"
      },
      "outputs": [
        {
          "data": {
            "text/plain": [
              "(34, 90)"
            ]
          },
          "execution_count": 187,
          "metadata": {},
          "output_type": "execute_result"
        }
      ],
      "source": [
        "t2=(34,90)\n",
        "t2"
      ]
    },
    {
      "cell_type": "code",
      "execution_count": 188,
      "metadata": {
        "colab": {
          "base_uri": "https://localhost:8080/"
        },
        "id": "hCHDywpD-fEI",
        "outputId": "918cd84c-94ed-4143-8131-9c28d0cae089"
      },
      "outputs": [
        {
          "data": {
            "text/plain": [
              "((34, 90), (12, 56, 789, 12, 4, -87))"
            ]
          },
          "execution_count": 188,
          "metadata": {},
          "output_type": "execute_result"
        }
      ],
      "source": [
        "t3=(t2,t1)\n",
        "t3"
      ]
    },
    {
      "cell_type": "code",
      "execution_count": 189,
      "metadata": {
        "colab": {
          "base_uri": "https://localhost:8080/"
        },
        "id": "x4qKDUYm-hL9",
        "outputId": "70cb6b6d-1973-4128-e80f-ceb7201d413d"
      },
      "outputs": [
        {
          "data": {
            "text/plain": [
              "tuple"
            ]
          },
          "execution_count": 189,
          "metadata": {},
          "output_type": "execute_result"
        }
      ],
      "source": [
        "type(t3)"
      ]
    },
    {
      "cell_type": "code",
      "execution_count": 190,
      "metadata": {
        "colab": {
          "base_uri": "https://localhost:8080/"
        },
        "id": "kZcT3dYF-kze",
        "outputId": "e7cca56a-5448-48c0-ac9d-9dee604c45d0"
      },
      "outputs": [
        {
          "data": {
            "text/plain": [
              "2"
            ]
          },
          "execution_count": 190,
          "metadata": {},
          "output_type": "execute_result"
        }
      ],
      "source": [
        "len(t3)"
      ]
    },
    {
      "cell_type": "code",
      "execution_count": 191,
      "metadata": {
        "colab": {
          "base_uri": "https://localhost:8080/"
        },
        "id": "qJAKg_ZV-nFt",
        "outputId": "761023b3-f44a-4f19-cf48-731ab1448640"
      },
      "outputs": [
        {
          "data": {
            "text/plain": [
              "6"
            ]
          },
          "execution_count": 191,
          "metadata": {},
          "output_type": "execute_result"
        }
      ],
      "source": [
        "len(t1)"
      ]
    },
    {
      "cell_type": "code",
      "execution_count": 192,
      "metadata": {
        "colab": {
          "base_uri": "https://localhost:8080/"
        },
        "id": "uTuTmSNj-otJ",
        "outputId": "b84f2965-63ef-453b-9309-04e315ed01ae"
      },
      "outputs": [
        {
          "data": {
            "text/plain": [
              "(12, 56, 789, 12, 4, -87, 34, 90)"
            ]
          },
          "execution_count": 192,
          "metadata": {},
          "output_type": "execute_result"
        }
      ],
      "source": [
        "t1+t2"
      ]
    },
    {
      "cell_type": "code",
      "execution_count": 193,
      "metadata": {
        "colab": {
          "base_uri": "https://localhost:8080/"
        },
        "id": "J1IEN7A7-ruB",
        "outputId": "56e95e35-5a1b-41be-a957-019b91ff5394"
      },
      "outputs": [
        {
          "data": {
            "text/plain": [
              "8"
            ]
          },
          "execution_count": 193,
          "metadata": {},
          "output_type": "execute_result"
        }
      ],
      "source": [
        "len(t1+t2)"
      ]
    },
    {
      "cell_type": "markdown",
      "metadata": {
        "id": "T0unbYlq-656"
      },
      "source": [
        "## Sets"
      ]
    },
    {
      "cell_type": "markdown",
      "metadata": {
        "id": "ENKMT2SP-9QT"
      },
      "source": [
        "- Unordered\n",
        "- Unique collection\n",
        "- Doesn't allow duplicates\n",
        "- Not perform indexing\n",
        "- Syntax : s={element}"
      ]
    },
    {
      "cell_type": "code",
      "execution_count": 194,
      "metadata": {
        "colab": {
          "base_uri": "https://localhost:8080/"
        },
        "id": "6n1EQJzA-uge",
        "outputId": "14ad81e8-bd08-49f5-e66e-040ba18b5eb0"
      },
      "outputs": [
        {
          "data": {
            "text/plain": [
              "{1, 2, 3}"
            ]
          },
          "execution_count": 194,
          "metadata": {},
          "output_type": "execute_result"
        }
      ],
      "source": [
        "s={1,2,3,3,2}\n",
        "s"
      ]
    },
    {
      "cell_type": "code",
      "execution_count": 195,
      "metadata": {
        "colab": {
          "base_uri": "https://localhost:8080/"
        },
        "id": "zEB9ijK3_RKc",
        "outputId": "7d431938-7d59-4f80-d2cc-4e1a0cb88fd9"
      },
      "outputs": [
        {
          "data": {
            "text/plain": [
              "set"
            ]
          },
          "execution_count": 195,
          "metadata": {},
          "output_type": "execute_result"
        }
      ],
      "source": [
        "type(s)"
      ]
    },
    {
      "cell_type": "markdown",
      "metadata": {
        "id": "6utuWUuZ_U0y"
      },
      "source": [
        "### Use Case : Remove repetition of elements"
      ]
    },
    {
      "cell_type": "code",
      "execution_count": 196,
      "metadata": {
        "colab": {
          "base_uri": "https://localhost:8080/"
        },
        "id": "ZezdRd92_SMe",
        "outputId": "f087ae1a-a9d4-40ab-b8ae-0492f52b6caf"
      },
      "outputs": [
        {
          "data": {
            "text/plain": [
              "{'apple', 'avocado', 'chocolate', 'pulses'}"
            ]
          },
          "execution_count": 196,
          "metadata": {},
          "output_type": "execute_result"
        }
      ],
      "source": [
        "list1={'apple','avocado','pulses','apple','chocolate','avocado','apple'}\n",
        "list1"
      ]
    },
    {
      "cell_type": "code",
      "execution_count": 197,
      "metadata": {
        "colab": {
          "base_uri": "https://localhost:8080/"
        },
        "id": "vO1-GrYc_q9q",
        "outputId": "f95dcef2-bb37-4a33-f5fd-5c5b175c4401"
      },
      "outputs": [
        {
          "data": {
            "text/plain": [
              "{'apple', 'avocado', 'chocolate', 'pulses'}"
            ]
          },
          "execution_count": 197,
          "metadata": {},
          "output_type": "execute_result"
        }
      ],
      "source": [
        "list1=['apple','avocado','pulses','apple','chocolate','avocado','apple']\n",
        "s=set(list1)\n",
        "s"
      ]
    },
    {
      "cell_type": "code",
      "execution_count": 198,
      "metadata": {
        "colab": {
          "base_uri": "https://localhost:8080/"
        },
        "id": "G4VAQHW8_5GC",
        "outputId": "c895c6cc-e996-4167-e2ea-34f8b80c3e54"
      },
      "outputs": [
        {
          "data": {
            "text/plain": [
              "list"
            ]
          },
          "execution_count": 198,
          "metadata": {},
          "output_type": "execute_result"
        }
      ],
      "source": [
        "type(list1)"
      ]
    },
    {
      "cell_type": "code",
      "execution_count": 199,
      "metadata": {
        "colab": {
          "base_uri": "https://localhost:8080/"
        },
        "id": "9ayFWSbJ_79D",
        "outputId": "3f8c2bf6-7484-4321-f5cd-6a4216fa81f8"
      },
      "outputs": [
        {
          "data": {
            "text/plain": [
              "set"
            ]
          },
          "execution_count": 199,
          "metadata": {},
          "output_type": "execute_result"
        }
      ],
      "source": [
        "type(s)"
      ]
    },
    {
      "cell_type": "markdown",
      "metadata": {
        "id": "cDtwuSoLAGxn"
      },
      "source": [
        "### Indexing Not allowed"
      ]
    },
    {
      "cell_type": "code",
      "execution_count": 200,
      "metadata": {
        "colab": {
          "base_uri": "https://localhost:8080/"
        },
        "id": "QooYkZHA_935",
        "outputId": "7e3df8c5-e630-4b24-d1cb-94d693239881"
      },
      "outputs": [
        {
          "data": {
            "text/plain": [
              "{'apple', 'avocado', 'chocolate', 'pulses'}"
            ]
          },
          "execution_count": 200,
          "metadata": {},
          "output_type": "execute_result"
        }
      ],
      "source": [
        "s"
      ]
    },
    {
      "cell_type": "code",
      "execution_count": 201,
      "metadata": {
        "colab": {
          "base_uri": "https://localhost:8080/"
        },
        "id": "SFEqRZEZAKI4",
        "outputId": "5d94b594-4aa0-42eb-f0b8-63ca1320a182"
      },
      "outputs": [
        {
          "name": "stdout",
          "output_type": "stream",
          "text": [
            "Error 'set' object is not subscriptable\n"
          ]
        }
      ],
      "source": [
        "try:\n",
        "    s[0]\n",
        "except TypeError as e:\n",
        "    print(\"Error\",e)"
      ]
    },
    {
      "cell_type": "code",
      "execution_count": 202,
      "metadata": {
        "colab": {
          "base_uri": "https://localhost:8080/"
        },
        "id": "3of9V70lAcmi",
        "outputId": "d4037232-3410-404c-efae-9e00687ff1e3"
      },
      "outputs": [
        {
          "data": {
            "text/plain": [
              "{1, 2, 3, 4, 5}"
            ]
          },
          "execution_count": 202,
          "metadata": {},
          "output_type": "execute_result"
        }
      ],
      "source": [
        "set1={1,1,2,2,3,4,5,5}\n",
        "set1"
      ]
    },
    {
      "cell_type": "markdown",
      "metadata": {
        "id": "3ITHyC0EAvjz"
      },
      "source": [
        "### Elements of set"
      ]
    },
    {
      "cell_type": "markdown",
      "metadata": {
        "id": "n1hrQ3YOAyUw"
      },
      "source": [
        "The elements of set must be an immutable element, like tuple, string. It can never be mutable like list."
      ]
    },
    {
      "cell_type": "code",
      "execution_count": 203,
      "metadata": {
        "colab": {
          "base_uri": "https://localhost:8080/"
        },
        "id": "GK0Ie2SnBGFP",
        "outputId": "674c8198-1016-4546-aa6e-193ef6ce079e"
      },
      "outputs": [
        {
          "name": "stdout",
          "output_type": "stream",
          "text": [
            "Error  unhashable type: 'set'\n"
          ]
        }
      ],
      "source": [
        "# set in set\n",
        "s={1,2,2}\n",
        "try:\n",
        "    s={1,2,2,{3,3,4}}\n",
        "except TypeError as e:\n",
        "    print(\"Error \",e)"
      ]
    },
    {
      "cell_type": "code",
      "execution_count": 204,
      "metadata": {
        "colab": {
          "base_uri": "https://localhost:8080/"
        },
        "id": "oXHE4X4EBwOK",
        "outputId": "6aa3e8ad-e058-4528-801b-289383d05e1f"
      },
      "outputs": [
        {
          "name": "stdout",
          "output_type": "stream",
          "text": [
            "Error is :  unhashable type: 'list'\n"
          ]
        }
      ],
      "source": [
        "# list in set\n",
        "s={1,2,3}\n",
        "try:\n",
        "    s={1,2,3,[4,5,6]}\n",
        "except TypeError as p:\n",
        "    print(\"Error is : \",p)"
      ]
    },
    {
      "cell_type": "code",
      "execution_count": 205,
      "metadata": {
        "colab": {
          "base_uri": "https://localhost:8080/"
        },
        "id": "mfQ6D-IvCBkq",
        "outputId": "d7923206-95bf-43e5-ce54-32e6e2672f14"
      },
      "outputs": [
        {
          "data": {
            "text/plain": [
              "{(4, 5, 3, 2), 1, 2, 3}"
            ]
          },
          "execution_count": 205,
          "metadata": {},
          "output_type": "execute_result"
        }
      ],
      "source": [
        "# tuple in set\n",
        "s={1,2,3,(4,5,3,2)}\n",
        "s"
      ]
    },
    {
      "cell_type": "code",
      "execution_count": 206,
      "metadata": {
        "colab": {
          "base_uri": "https://localhost:8080/"
        },
        "id": "dXgc7Ey4CTOh",
        "outputId": "2bb6cf15-d0e0-4033-81b0-6ba094ed9798"
      },
      "outputs": [
        {
          "data": {
            "text/plain": [
              "set"
            ]
          },
          "execution_count": 206,
          "metadata": {},
          "output_type": "execute_result"
        }
      ],
      "source": [
        "type(s)"
      ]
    },
    {
      "cell_type": "code",
      "execution_count": 207,
      "metadata": {
        "colab": {
          "base_uri": "https://localhost:8080/"
        },
        "id": "8_-eLOFzCUvy",
        "outputId": "8513c582-66c8-4774-b6d0-d1e5cdfde88d"
      },
      "outputs": [
        {
          "name": "stdout",
          "output_type": "stream",
          "text": [
            "1\n",
            "2\n",
            "3\n",
            "(4, 5, 3, 2)\n"
          ]
        }
      ],
      "source": [
        "for i in s:\n",
        "    print(i)"
      ]
    },
    {
      "cell_type": "markdown",
      "metadata": {
        "id": "_QiiYLUrCu9-"
      },
      "source": [
        "### mutable"
      ]
    },
    {
      "cell_type": "code",
      "execution_count": 208,
      "metadata": {
        "colab": {
          "base_uri": "https://localhost:8080/"
        },
        "id": "FAm0HmO_CpVC",
        "outputId": "0fbca485-6b54-461b-9515-a2dab9dc6cd6"
      },
      "outputs": [
        {
          "data": {
            "text/plain": [
              "{12, 34, 56, 78, 90}"
            ]
          },
          "execution_count": 208,
          "metadata": {},
          "output_type": "execute_result"
        }
      ],
      "source": [
        "s1={12,34,56,78,90}\n",
        "s1"
      ]
    },
    {
      "cell_type": "code",
      "execution_count": 209,
      "metadata": {
        "colab": {
          "base_uri": "https://localhost:8080/"
        },
        "id": "2kOoUUvJC163",
        "outputId": "a56cfc54-081e-4e49-f11d-014d4f6cdacd"
      },
      "outputs": [
        {
          "data": {
            "text/plain": [
              "{12, 34, 56, 78, 90, 100}"
            ]
          },
          "execution_count": 209,
          "metadata": {},
          "output_type": "execute_result"
        }
      ],
      "source": [
        "s1.add(100)\n",
        "s1"
      ]
    },
    {
      "cell_type": "code",
      "execution_count": 210,
      "metadata": {
        "colab": {
          "base_uri": "https://localhost:8080/"
        },
        "id": "Udnb0XqJC7sy",
        "outputId": "b9758abc-ada4-447d-ccf3-4c7a9012b116"
      },
      "outputs": [
        {
          "data": {
            "text/plain": [
              "{5, 12, 34, 56, 78, 90, 100}"
            ]
          },
          "execution_count": 210,
          "metadata": {},
          "output_type": "execute_result"
        }
      ],
      "source": [
        "s1.add(5)\n",
        "s1"
      ]
    },
    {
      "cell_type": "markdown",
      "metadata": {
        "id": "DoU3Sd28DYtf"
      },
      "source": [
        "### .pop()"
      ]
    },
    {
      "cell_type": "markdown",
      "metadata": {
        "id": "UzcdUIGnDdJD"
      },
      "source": [
        "- pop() doesn't take any arguements inside() it will pop out elements randomly."
      ]
    },
    {
      "cell_type": "code",
      "execution_count": 211,
      "metadata": {
        "colab": {
          "base_uri": "https://localhost:8080/"
        },
        "id": "xzKm8Y7_DAWP",
        "outputId": "c9fd799e-261b-414f-a5b4-e19c18ac3ed6"
      },
      "outputs": [
        {
          "data": {
            "text/plain": [
              "34"
            ]
          },
          "execution_count": 211,
          "metadata": {},
          "output_type": "execute_result"
        }
      ],
      "source": [
        "s1.pop()"
      ]
    },
    {
      "cell_type": "code",
      "execution_count": 212,
      "metadata": {
        "colab": {
          "base_uri": "https://localhost:8080/"
        },
        "id": "7Fq9woBYDEi0",
        "outputId": "12a4745b-aa66-45c8-ee12-19a3456ace30"
      },
      "outputs": [
        {
          "data": {
            "text/plain": [
              "{5, 12, 56, 78, 90, 100}"
            ]
          },
          "execution_count": 212,
          "metadata": {},
          "output_type": "execute_result"
        }
      ],
      "source": [
        "s1"
      ]
    },
    {
      "cell_type": "code",
      "execution_count": 213,
      "metadata": {
        "colab": {
          "base_uri": "https://localhost:8080/"
        },
        "id": "ywtQzlvMDRuj",
        "outputId": "df3ed429-c438-44e5-e7ee-c6828e8ffc01"
      },
      "outputs": [
        {
          "data": {
            "text/plain": [
              "100"
            ]
          },
          "execution_count": 213,
          "metadata": {},
          "output_type": "execute_result"
        }
      ],
      "source": [
        "s1.pop()"
      ]
    },
    {
      "cell_type": "markdown",
      "metadata": {
        "id": "Q_g01df8DoLP"
      },
      "source": [
        "### set.remove()"
      ]
    },
    {
      "cell_type": "markdown",
      "metadata": {
        "id": "We8yJEOwDrdD"
      },
      "source": [
        "To remove any specific elements"
      ]
    },
    {
      "cell_type": "code",
      "execution_count": 214,
      "metadata": {
        "colab": {
          "base_uri": "https://localhost:8080/"
        },
        "id": "7k0lOQ5BDUGt",
        "outputId": "50f510dc-e1ee-4edf-9edb-f9b1de5cb429"
      },
      "outputs": [
        {
          "data": {
            "text/plain": [
              "{5, 12, 56, 78, 90}"
            ]
          },
          "execution_count": 214,
          "metadata": {},
          "output_type": "execute_result"
        }
      ],
      "source": [
        "s1"
      ]
    },
    {
      "cell_type": "code",
      "execution_count": 215,
      "metadata": {
        "id": "Mr1P6NsGDvoW"
      },
      "outputs": [],
      "source": [
        "s1.remove(12)"
      ]
    },
    {
      "cell_type": "code",
      "execution_count": 216,
      "metadata": {
        "colab": {
          "base_uri": "https://localhost:8080/"
        },
        "id": "Cdv1A0T3DzIU",
        "outputId": "9e77c953-fb15-43d4-e962-5ee3d88c4141"
      },
      "outputs": [
        {
          "data": {
            "text/plain": [
              "{5, 56, 78, 90}"
            ]
          },
          "execution_count": 216,
          "metadata": {},
          "output_type": "execute_result"
        }
      ],
      "source": [
        "s1"
      ]
    },
    {
      "cell_type": "markdown",
      "metadata": {
        "id": "cNRcOLTHEFCE"
      },
      "source": [
        "### set.update()"
      ]
    },
    {
      "cell_type": "code",
      "execution_count": 217,
      "metadata": {
        "colab": {
          "base_uri": "https://localhost:8080/"
        },
        "id": "E-Q4TsLrD16h",
        "outputId": "604ff9bc-600a-40d9-821e-1991c05d673a"
      },
      "outputs": [
        {
          "data": {
            "text/plain": [
              "{5, 56, 78, 90, 'P', 'a', 'g', 'r'}"
            ]
          },
          "execution_count": 217,
          "metadata": {},
          "output_type": "execute_result"
        }
      ],
      "source": [
        "s1.update(\"Prag\") #iteration happen\n",
        "s1"
      ]
    },
    {
      "cell_type": "code",
      "execution_count": 218,
      "metadata": {
        "colab": {
          "base_uri": "https://localhost:8080/"
        },
        "id": "X7q8cossECw9",
        "outputId": "d6695841-debc-447b-af2c-be7283e70b9b"
      },
      "outputs": [
        {
          "data": {
            "text/plain": [
              "{5, 56, 78, 90, 'P', 'Pragg', 'a', 'g', 'r'}"
            ]
          },
          "execution_count": 218,
          "metadata": {},
          "output_type": "execute_result"
        }
      ],
      "source": [
        "s1.update([\"Pragg\"]) # iteration not happened\n",
        "s1"
      ]
    },
    {
      "cell_type": "code",
      "execution_count": 219,
      "metadata": {
        "colab": {
          "base_uri": "https://localhost:8080/"
        },
        "id": "P1Hpcom4EPnK",
        "outputId": "548c2203-c0fa-4cf5-82fb-7b5b71d4f958"
      },
      "outputs": [
        {
          "data": {
            "text/plain": [
              "{5, 56, 78, 90, 'P', 'Pragg', 'a', 'g', 'r'}"
            ]
          },
          "execution_count": 219,
          "metadata": {},
          "output_type": "execute_result"
        }
      ],
      "source": [
        "s1.update(\"Prag\")\n",
        "s1"
      ]
    },
    {
      "cell_type": "code",
      "execution_count": 220,
      "metadata": {
        "colab": {
          "base_uri": "https://localhost:8080/"
        },
        "id": "SbQvz2S5F18n",
        "outputId": "ab09cf08-37e9-45c5-b598-0fff2b879aee"
      },
      "outputs": [
        {
          "data": {
            "text/plain": [
              "{5, 56, 78, 90, 'Pragg', 'a', 'g', 'r'}"
            ]
          },
          "execution_count": 220,
          "metadata": {},
          "output_type": "execute_result"
        }
      ],
      "source": [
        "s1.remove('P')\n",
        "s1"
      ]
    },
    {
      "cell_type": "code",
      "execution_count": 221,
      "metadata": {
        "colab": {
          "base_uri": "https://localhost:8080/"
        },
        "id": "icXXmr36GGBf",
        "outputId": "c8a244e8-f6b3-4764-f54b-8a3d9494002c"
      },
      "outputs": [
        {
          "data": {
            "text/plain": [
              "{56, 78, 90, 'Pragg', 'a', 'g', 'r'}"
            ]
          },
          "execution_count": 221,
          "metadata": {},
          "output_type": "execute_result"
        }
      ],
      "source": [
        "s1.discard(5)\n",
        "s1"
      ]
    },
    {
      "cell_type": "code",
      "execution_count": 222,
      "metadata": {
        "colab": {
          "base_uri": "https://localhost:8080/"
        },
        "id": "8ycyTR4sGL2j",
        "outputId": "96c30bfd-0656-4cd8-d037-dd3955b66fb5"
      },
      "outputs": [
        {
          "data": {
            "text/plain": [
              "set()"
            ]
          },
          "execution_count": 222,
          "metadata": {},
          "output_type": "execute_result"
        }
      ],
      "source": [
        "s1.clear()\n",
        "s1"
      ]
    },
    {
      "cell_type": "code",
      "execution_count": 223,
      "metadata": {
        "id": "ufXIyZPmGQLH"
      },
      "outputs": [],
      "source": [
        "del s1"
      ]
    },
    {
      "cell_type": "markdown",
      "metadata": {
        "id": "fQ5GmqVWGUFZ"
      },
      "source": [
        "### Operations on Set"
      ]
    },
    {
      "cell_type": "markdown",
      "metadata": {
        "id": "JRwPoMHOGYZu"
      },
      "source": [
        "We can perform some basic operations on set:\n",
        "- Union of sets\n",
        "- Intersection of sets\n",
        "- Difference of sets\n",
        "- Symmetric Difference of sets"
      ]
    },
    {
      "cell_type": "markdown",
      "metadata": {
        "id": "YOFqC8whHFAg"
      },
      "source": [
        "![image.png](data:image/png;base64,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)"
      ]
    },
    {
      "cell_type": "markdown",
      "metadata": {
        "id": "jSok6H23GyUU"
      },
      "source": [
        "### Union of sets"
      ]
    },
    {
      "cell_type": "markdown",
      "metadata": {
        "id": "2qzGb01lG1f_"
      },
      "source": [
        "Combine elements from two sets excluding duplicates"
      ]
    },
    {
      "cell_type": "code",
      "execution_count": 224,
      "metadata": {
        "colab": {
          "base_uri": "https://localhost:8080/"
        },
        "id": "rfB8F2qQGSRG",
        "outputId": "9af0ce5e-beda-4261-db4c-6695348cb640"
      },
      "outputs": [
        {
          "data": {
            "text/plain": [
              "{123, 'ABC', 'DEF', 'GHI'}"
            ]
          },
          "execution_count": 224,
          "metadata": {},
          "output_type": "execute_result"
        }
      ],
      "source": [
        "s1={\"ABC\",123,\"ABC\"}\n",
        "s2={\"DEF\",123,\"GHI\"}\n",
        "s1 | s2 # | for union"
      ]
    },
    {
      "cell_type": "markdown",
      "metadata": {
        "id": "iD6qgwmQHZWl"
      },
      "source": [
        "### Intersection of sets"
      ]
    },
    {
      "cell_type": "markdown",
      "metadata": {
        "id": "Vmjio9HkHf4j"
      },
      "source": [
        "Common elements of both sets"
      ]
    },
    {
      "cell_type": "code",
      "execution_count": 225,
      "metadata": {
        "colab": {
          "base_uri": "https://localhost:8080/"
        },
        "id": "ubT5YKU9HW2i",
        "outputId": "f9ac6d78-c511-4609-e0ba-36bfb2231662"
      },
      "outputs": [
        {
          "data": {
            "text/plain": [
              "{123}"
            ]
          },
          "execution_count": 225,
          "metadata": {},
          "output_type": "execute_result"
        }
      ],
      "source": [
        "s1={\"ABC\",123,\"ABC\"}\n",
        "s2={\"DEF\",123,\"GHI\"}\n",
        "s1 & s2 # & for intersection"
      ]
    },
    {
      "cell_type": "markdown",
      "metadata": {
        "id": "PauY1po_HwCC"
      },
      "source": [
        "### Differences of sets"
      ]
    },
    {
      "cell_type": "markdown",
      "metadata": {
        "id": "46CKh8JdHy2f"
      },
      "source": [
        "Elements present in 1st set but not in 2nd set"
      ]
    },
    {
      "cell_type": "code",
      "execution_count": 226,
      "metadata": {
        "colab": {
          "base_uri": "https://localhost:8080/"
        },
        "id": "3ufAdr_bHm_B",
        "outputId": "29efea47-8d26-4cc4-f568-5f07216463ef"
      },
      "outputs": [
        {
          "data": {
            "text/plain": [
              "{'ABC'}"
            ]
          },
          "execution_count": 226,
          "metadata": {},
          "output_type": "execute_result"
        }
      ],
      "source": [
        "s1={\"ABC\",123,\"ABC\"}\n",
        "s2={\"DEF\",123,\"GHI\"}\n",
        "s1-s2 # - for difference"
      ]
    },
    {
      "cell_type": "code",
      "execution_count": 227,
      "metadata": {
        "colab": {
          "base_uri": "https://localhost:8080/"
        },
        "id": "o97U3qI9H9dn",
        "outputId": "58f8a227-f644-414b-dcf7-3702c2a3d898"
      },
      "outputs": [
        {
          "data": {
            "text/plain": [
              "{'DEF', 'GHI'}"
            ]
          },
          "execution_count": 227,
          "metadata": {},
          "output_type": "execute_result"
        }
      ],
      "source": [
        "s2-s1"
      ]
    },
    {
      "cell_type": "markdown",
      "metadata": {
        "id": "8ZrtdX8OIFp2"
      },
      "source": [
        "### Symmetric Difference"
      ]
    },
    {
      "cell_type": "markdown",
      "metadata": {
        "id": "GAloS5OfIJD4"
      },
      "source": [
        "Present in either of the set but not in both"
      ]
    },
    {
      "cell_type": "code",
      "execution_count": 228,
      "metadata": {
        "colab": {
          "base_uri": "https://localhost:8080/"
        },
        "id": "h-2Lun8FIEY_",
        "outputId": "0ebcb8d9-75a1-4713-abe0-110ff0a90ee9"
      },
      "outputs": [
        {
          "data": {
            "text/plain": [
              "{'ABC', 'DEF', 'GHI'}"
            ]
          },
          "execution_count": 228,
          "metadata": {},
          "output_type": "execute_result"
        }
      ],
      "source": [
        "s1={\"ABC\",123,\"ABC\"}\n",
        "s2={\"DEF\",123,\"GHI\"}\n",
        "s1^s2 # ^ for symmetric difference"
      ]
    },
    {
      "cell_type": "markdown",
      "metadata": {
        "id": "TcMuGdqHIWN0"
      },
      "source": [
        "### Frozen Set"
      ]
    },
    {
      "cell_type": "markdown",
      "metadata": {
        "id": "mOE25_B9IZqE"
      },
      "source": [
        "Immutable version of sets, whose elements are frozen i.e. can not be added or removed.\n",
        "- Syntax : frozenset([list])"
      ]
    },
    {
      "cell_type": "code",
      "execution_count": 229,
      "metadata": {
        "colab": {
          "base_uri": "https://localhost:8080/"
        },
        "id": "r6JUWeOrITqT",
        "outputId": "c62a5e6e-6e31-4a9a-9346-40367c312bac"
      },
      "outputs": [
        {
          "data": {
            "text/plain": [
              "{1, 2, 3, 10}"
            ]
          },
          "execution_count": 229,
          "metadata": {},
          "output_type": "execute_result"
        }
      ],
      "source": [
        "s={1,2,3,2}\n",
        "s.add(10)\n",
        "s"
      ]
    },
    {
      "cell_type": "code",
      "execution_count": 230,
      "metadata": {
        "colab": {
          "base_uri": "https://localhost:8080/"
        },
        "id": "x9mLBgtdIpPw",
        "outputId": "cdba3b3a-76b6-460a-f56c-2c2c5ff6ba74"
      },
      "outputs": [
        {
          "data": {
            "text/plain": [
              "frozenset({1, 2, 3, 4, 5})"
            ]
          },
          "execution_count": 230,
          "metadata": {},
          "output_type": "execute_result"
        }
      ],
      "source": [
        "my_fs=frozenset([1,2,2,3,4,5])\n",
        "my_fs"
      ]
    },
    {
      "cell_type": "code",
      "execution_count": 231,
      "metadata": {
        "colab": {
          "base_uri": "https://localhost:8080/"
        },
        "id": "IeNw4BMgIwqE",
        "outputId": "c55ecc04-1219-4975-aad5-c484b3da7f5f"
      },
      "outputs": [
        {
          "data": {
            "text/plain": [
              "frozenset"
            ]
          },
          "execution_count": 231,
          "metadata": {},
          "output_type": "execute_result"
        }
      ],
      "source": [
        "type(my_fs)"
      ]
    },
    {
      "cell_type": "markdown",
      "metadata": {
        "id": "fmWzCtSgJuhv"
      },
      "source": [
        "## Dictionary"
      ]
    },
    {
      "cell_type": "markdown",
      "metadata": {
        "id": "ozga2MfxzSmI"
      },
      "source": [
        "Data structure of ordered collection of unique value that stores data as key-value pair.\n",
        "- Keys are unique and immutable\n",
        "- They are unordered, but from python 3.7 version retain the order of insertion.\n",
        "- Item will be returned in the order they were added."
      ]
    },
    {
      "cell_type": "markdown",
      "metadata": {
        "id": "kH6-XupuzxWl"
      },
      "source": [
        "- Syntax\n",
        "d= {}"
      ]
    },
    {
      "cell_type": "code",
      "execution_count": 232,
      "metadata": {
        "colab": {
          "base_uri": "https://localhost:8080/"
        },
        "id": "87REA9GJJWsB",
        "outputId": "29b1b8e4-7437-4631-fec6-950f21cc9e94"
      },
      "outputs": [
        {
          "data": {
            "text/plain": [
              "dict"
            ]
          },
          "execution_count": 232,
          "metadata": {},
          "output_type": "execute_result"
        }
      ],
      "source": [
        "d={}\n",
        "type(d)"
      ]
    },
    {
      "cell_type": "code",
      "execution_count": 233,
      "metadata": {
        "colab": {
          "base_uri": "https://localhost:8080/"
        },
        "id": "GBlSoVY-z2j3",
        "outputId": "2cc5584e-0ae1-4f8b-9dd5-6ea47f1081ac"
      },
      "outputs": [
        {
          "data": {
            "text/plain": [
              "{'name': 'Prag', 'email': 'abc@gmail', 'age': 24}"
            ]
          },
          "execution_count": 233,
          "metadata": {},
          "output_type": "execute_result"
        }
      ],
      "source": [
        "d={\"name\":\"Prag\",\"email\":\"abc@gmail\",\"age\":24}\n",
        "d"
      ]
    },
    {
      "cell_type": "code",
      "execution_count": 234,
      "metadata": {
        "colab": {
          "base_uri": "https://localhost:8080/"
        },
        "id": "fbQ_ycerhj23",
        "outputId": "8f28ab97-1397-4b02-863d-3e19750044cd"
      },
      "outputs": [
        {
          "name": "stdout",
          "output_type": "stream",
          "text": [
            "name\n",
            "email\n",
            "age\n"
          ]
        }
      ],
      "source": [
        "for i in d:\n",
        "    print(i)"
      ]
    },
    {
      "cell_type": "code",
      "execution_count": 235,
      "metadata": {
        "colab": {
          "base_uri": "https://localhost:8080/"
        },
        "id": "5m_zUwsUh8Gu",
        "outputId": "d3132108-ec5e-4529-a53f-f66ef3fe492e"
      },
      "outputs": [
        {
          "name": "stdout",
          "output_type": "stream",
          "text": [
            "name Prag\n",
            "email abc@gmail\n",
            "age 24\n"
          ]
        }
      ],
      "source": [
        "for key, value in d.items():\n",
        "    print(key, value)"
      ]
    },
    {
      "cell_type": "markdown",
      "metadata": {
        "id": "u4wpzg5J0Mfn"
      },
      "source": [
        "### Accessing item"
      ]
    },
    {
      "cell_type": "markdown",
      "metadata": {
        "id": "el3sFVAF0UID"
      },
      "source": [
        "d['keys']"
      ]
    },
    {
      "cell_type": "markdown",
      "metadata": {
        "id": "cUWPNW_j0crm"
      },
      "source": [
        "In dictionaries the keys act like index of lists.\n",
        "It means that, when we access anything in list we use index, in the same way when we access anything in dictionary, we use keys to find the values."
      ]
    },
    {
      "cell_type": "code",
      "execution_count": 236,
      "metadata": {
        "colab": {
          "base_uri": "https://localhost:8080/",
          "height": 35
        },
        "id": "vSSBF9_50HwE",
        "outputId": "1b072160-00ef-4bcf-88b2-6645b0462743"
      },
      "outputs": [
        {
          "data": {
            "text/plain": [
              "'Prag'"
            ]
          },
          "execution_count": 236,
          "metadata": {},
          "output_type": "execute_result"
        }
      ],
      "source": [
        "d['name']"
      ]
    },
    {
      "cell_type": "code",
      "execution_count": 237,
      "metadata": {
        "colab": {
          "base_uri": "https://localhost:8080/"
        },
        "id": "l0TFgA-o0Yoj",
        "outputId": "034ce889-d68e-4a7e-c970-65ab15375a88"
      },
      "outputs": [
        {
          "data": {
            "text/plain": [
              "24"
            ]
          },
          "execution_count": 237,
          "metadata": {},
          "output_type": "execute_result"
        }
      ],
      "source": [
        "d['age']"
      ]
    },
    {
      "cell_type": "markdown",
      "metadata": {
        "id": "tHdz2cGP04md"
      },
      "source": [
        "### Accessing key\n"
      ]
    },
    {
      "cell_type": "markdown",
      "metadata": {
        "id": "TozOBU-s070a"
      },
      "source": [
        "We cannot accessed keys by calling values. because keys are unique so iit can be called for values, as every value must have some well defined unique keys. But every keys does not have unique value so it can't be called."
      ]
    },
    {
      "cell_type": "markdown",
      "metadata": {
        "id": "aVW9XvKP1Utw"
      },
      "source": [
        "### Rule of defining Key"
      ]
    },
    {
      "cell_type": "markdown",
      "metadata": {
        "id": "RHCm9wB81bb5"
      },
      "source": [
        "- Keys can be int, float, boolean, str, tuple. (As they are immutable, which means once they are created, their value cannot be changed).\n",
        "- Keys cannot be list, set, dict.(As they are mutable, and they can be changed even after their creation. So the uniqueness of keys can be eloped)"
      ]
    },
    {
      "cell_type": "markdown",
      "metadata": {
        "id": "eLwZmGrT1-Pg"
      },
      "source": [
        "### Considering Key Value"
      ]
    },
    {
      "cell_type": "code",
      "execution_count": 238,
      "metadata": {
        "colab": {
          "base_uri": "https://localhost:8080/",
          "height": 35
        },
        "id": "-0Nx0R9U03Qn",
        "outputId": "c4718ee1-44fd-495a-f1cb-55fd3d4db722"
      },
      "outputs": [
        {
          "data": {
            "text/plain": [
              "'XYZ'"
            ]
          },
          "execution_count": 238,
          "metadata": {},
          "output_type": "execute_result"
        }
      ],
      "source": [
        "d={\"name\":\"ABCD\",\"age\":19,\"address\":\"Noida\",\"name\":\"XYZ\"}\n",
        "d['name'] # Always last key value will be considered"
      ]
    },
    {
      "cell_type": "code",
      "execution_count": 239,
      "metadata": {
        "colab": {
          "base_uri": "https://localhost:8080/"
        },
        "id": "3DMPuuo_2ORe",
        "outputId": "87845c86-f7a2-4adc-faef-b573cc548269"
      },
      "outputs": [
        {
          "data": {
            "text/plain": [
              "{'name': 'XYZ', 'age': 19, 'address': 'Noida'}"
            ]
          },
          "execution_count": 239,
          "metadata": {},
          "output_type": "execute_result"
        }
      ],
      "source": [
        "d"
      ]
    },
    {
      "cell_type": "markdown",
      "metadata": {
        "id": "V29SpGjr3lQG"
      },
      "source": [
        "### Modification of Dict"
      ]
    },
    {
      "cell_type": "markdown",
      "metadata": {
        "id": "lowh5hH336YP"
      },
      "source": [
        "Since dict is immutable, its value can be modified."
      ]
    },
    {
      "cell_type": "code",
      "execution_count": 240,
      "metadata": {
        "colab": {
          "base_uri": "https://localhost:8080/"
        },
        "id": "mO3kqXte2say",
        "outputId": "88680824-ce1f-4999-dfb9-ed69e10b9b3e"
      },
      "outputs": [
        {
          "data": {
            "text/plain": [
              "{'name': 'XYZ', 'age': 19, 'address': 'Banglore'}"
            ]
          },
          "execution_count": 240,
          "metadata": {},
          "output_type": "execute_result"
        }
      ],
      "source": [
        "d[\"address\"]=\"Banglore\"\n",
        "d"
      ]
    },
    {
      "cell_type": "code",
      "execution_count": 241,
      "metadata": {
        "colab": {
          "base_uri": "https://localhost:8080/"
        },
        "id": "_yYPqyLv4G3K",
        "outputId": "08526232-0441-4d45-c0c7-8d3b50e4d131"
      },
      "outputs": [
        {
          "data": {
            "text/plain": [
              "{'name': ['Anne', 'Lucy', 'Rizz']}"
            ]
          },
          "execution_count": 241,
          "metadata": {},
          "output_type": "execute_result"
        }
      ],
      "source": [
        "# if key-value in list form\n",
        "dic={'name':[\"Anne\",\"Lucy\",\"Rizz\"]}\n",
        "# Values will be listed\n",
        "# indexing like list\n",
        "dic"
      ]
    },
    {
      "cell_type": "code",
      "execution_count": 242,
      "metadata": {
        "colab": {
          "base_uri": "https://localhost:8080/"
        },
        "id": "O4CveuL74eCe",
        "outputId": "bfd9bc6b-4b1c-483c-f3c9-2f222e9cb644"
      },
      "outputs": [
        {
          "data": {
            "text/plain": [
              "('Lucy', 'Anne')"
            ]
          },
          "execution_count": 242,
          "metadata": {},
          "output_type": "execute_result"
        }
      ],
      "source": [
        "dic['name'][1],dic['name'][0]"
      ]
    },
    {
      "cell_type": "markdown",
      "metadata": {
        "id": "UT9XgyKf4sCz"
      },
      "source": [
        "### Adding Key value"
      ]
    },
    {
      "cell_type": "code",
      "execution_count": 243,
      "metadata": {
        "colab": {
          "base_uri": "https://localhost:8080/"
        },
        "id": "fLyCuSzt4low",
        "outputId": "efcff0fa-b127-4f9a-ec2a-e47f1393e86e"
      },
      "outputs": [
        {
          "data": {
            "text/plain": [
              "{'name': ['Anne', 'Lucy', 'Rizz'], 'address': ['USA', 'California', 'Seoul']}"
            ]
          },
          "execution_count": 243,
          "metadata": {},
          "output_type": "execute_result"
        }
      ],
      "source": [
        "dic[\"address\"]=[\"USA\",\"California\",\"Seoul\"]\n",
        "dic"
      ]
    },
    {
      "cell_type": "markdown",
      "metadata": {
        "id": "zDQYS7_L47wB"
      },
      "source": [
        "### Deleting Key Value"
      ]
    },
    {
      "cell_type": "code",
      "execution_count": 244,
      "metadata": {
        "colab": {
          "base_uri": "https://localhost:8080/"
        },
        "id": "ULalN1oX45Qa",
        "outputId": "5dc1fdf1-1603-4bbc-b673-0099211f6a0e"
      },
      "outputs": [
        {
          "data": {
            "text/plain": [
              "{'name': ['Anne', 'Lucy', 'Rizz']}"
            ]
          },
          "execution_count": 244,
          "metadata": {},
          "output_type": "execute_result"
        }
      ],
      "source": [
        "del dic['address']\n",
        "dic"
      ]
    },
    {
      "cell_type": "markdown",
      "metadata": {
        "id": "c4Brh3Fy5GTQ"
      },
      "source": [
        "### Deleting whole dict"
      ]
    },
    {
      "cell_type": "code",
      "execution_count": 245,
      "metadata": {
        "id": "F012y36u5UEV"
      },
      "outputs": [],
      "source": [
        "del dic"
      ]
    },
    {
      "cell_type": "code",
      "execution_count": 246,
      "metadata": {
        "colab": {
          "base_uri": "https://localhost:8080/"
        },
        "id": "cqgqcRq15lFv",
        "outputId": "64600cce-46b5-4762-8436-ea2d5e4df451"
      },
      "outputs": [
        {
          "data": {
            "text/plain": [
              "{'name': 'XYZ', 'age': 19, 'address': 'Banglore'}"
            ]
          },
          "execution_count": 246,
          "metadata": {},
          "output_type": "execute_result"
        }
      ],
      "source": [
        "# clearing dict\n",
        "d"
      ]
    },
    {
      "cell_type": "code",
      "execution_count": 247,
      "metadata": {
        "colab": {
          "base_uri": "https://localhost:8080/"
        },
        "id": "MOZIQqyH5qlg",
        "outputId": "8aec2f61-be1b-4c10-daca-1850fadba9b8"
      },
      "outputs": [
        {
          "data": {
            "text/plain": [
              "{}"
            ]
          },
          "execution_count": 247,
          "metadata": {},
          "output_type": "execute_result"
        }
      ],
      "source": [
        "d.clear()\n",
        "d"
      ]
    },
    {
      "cell_type": "code",
      "execution_count": 248,
      "metadata": {
        "colab": {
          "base_uri": "https://localhost:8080/"
        },
        "id": "9C46lVtF5spA",
        "outputId": "60769edb-c875-4d1f-eac6-10f14016bddd"
      },
      "outputs": [
        {
          "data": {
            "text/plain": [
              "3"
            ]
          },
          "execution_count": 248,
          "metadata": {},
          "output_type": "execute_result"
        }
      ],
      "source": [
        "# Length of dict\n",
        "d={\"name\":\"ABCD\",\"age\":19,\"address\":\"Noida\",\"name\":\"XYZ\"}\n",
        "len(d) #last name key will only be considered"
      ]
    },
    {
      "cell_type": "markdown",
      "metadata": {
        "id": "XeMbp1D375pj"
      },
      "source": [
        "### Copying the dict"
      ]
    },
    {
      "cell_type": "code",
      "execution_count": 249,
      "metadata": {
        "colab": {
          "base_uri": "https://localhost:8080/"
        },
        "id": "DRoQLa1B56fR",
        "outputId": "e770b912-6a98-4460-fe40-8fb16044714d"
      },
      "outputs": [
        {
          "data": {
            "text/plain": [
              "{'name': 'XYZ', 'age': 19, 'address': 'Noida'}"
            ]
          },
          "execution_count": 249,
          "metadata": {},
          "output_type": "execute_result"
        }
      ],
      "source": [
        "d1=d.copy()\n",
        "d1"
      ]
    },
    {
      "cell_type": "code",
      "execution_count": 250,
      "metadata": {
        "id": "uXd1dlQ07_q0"
      },
      "outputs": [],
      "source": [
        "del d1"
      ]
    },
    {
      "cell_type": "code",
      "execution_count": 251,
      "metadata": {
        "colab": {
          "base_uri": "https://localhost:8080/"
        },
        "id": "8kdfff448CAx",
        "outputId": "8346af4b-99a7-408f-e37a-f96e711b2cfa"
      },
      "outputs": [
        {
          "data": {
            "text/plain": [
              "{'name': 'XYZ', 'age': 19, 'address': 'Noida'}"
            ]
          },
          "execution_count": 251,
          "metadata": {},
          "output_type": "execute_result"
        }
      ],
      "source": [
        "d #still give output << only copy data deleted"
      ]
    },
    {
      "cell_type": "markdown",
      "metadata": {
        "id": "-wf_38358K_O"
      },
      "source": [
        "### Removing key value"
      ]
    },
    {
      "cell_type": "code",
      "execution_count": 252,
      "metadata": {
        "colab": {
          "base_uri": "https://localhost:8080/"
        },
        "id": "eESfHXCc8C4O",
        "outputId": "624da186-c5f4-4065-ce66-e3ef9d029d47"
      },
      "outputs": [
        {
          "data": {
            "text/plain": [
              "19"
            ]
          },
          "execution_count": 252,
          "metadata": {},
          "output_type": "execute_result"
        }
      ],
      "source": [
        "#d.pop(\"key\")\n",
        "d.pop(\"age\")"
      ]
    },
    {
      "cell_type": "code",
      "execution_count": 253,
      "metadata": {
        "colab": {
          "base_uri": "https://localhost:8080/"
        },
        "id": "lTNjOMlQ8QuK",
        "outputId": "2cd159f0-0613-46b9-a446-8b44bfff8af1"
      },
      "outputs": [
        {
          "data": {
            "text/plain": [
              "{'name': 'XYZ', 'address': 'Noida'}"
            ]
          },
          "execution_count": 253,
          "metadata": {},
          "output_type": "execute_result"
        }
      ],
      "source": [
        "d"
      ]
    },
    {
      "cell_type": "markdown",
      "metadata": {
        "id": "2EXsA53S8azu"
      },
      "source": [
        "### Adding dict to another dict"
      ]
    },
    {
      "cell_type": "code",
      "execution_count": 254,
      "metadata": {
        "colab": {
          "base_uri": "https://localhost:8080/"
        },
        "id": "c_R8NOvg8YUe",
        "outputId": "57903345-d97c-4a6b-de21-54bda2acca31"
      },
      "outputs": [
        {
          "data": {
            "text/plain": [
              "{'abc': 12, 'def': 45, 2.3: 'zxc', True: 34, 'asd': 56}"
            ]
          },
          "execution_count": 254,
          "metadata": {},
          "output_type": "execute_result"
        }
      ],
      "source": [
        "d1={\"abc\":12,\"def\":45,2.3:\"zxc\"}\n",
        "d2={True:34,\"asd\":56}\n",
        "d1.update(d2)\n",
        "d1"
      ]
    },
    {
      "cell_type": "code",
      "execution_count": 255,
      "metadata": {
        "colab": {
          "base_uri": "https://localhost:8080/"
        },
        "id": "-rnTT0Oz-e3q",
        "outputId": "cfba48ba-3c3a-45b0-aa30-e9094f2db206"
      },
      "outputs": [
        {
          "data": {
            "text/plain": [
              "45"
            ]
          },
          "execution_count": 255,
          "metadata": {},
          "output_type": "execute_result"
        }
      ],
      "source": [
        "d1.get(\"def\")"
      ]
    },
    {
      "cell_type": "markdown",
      "metadata": {
        "id": "N0udTncQ_kSe"
      },
      "source": [
        "### fromkeys"
      ]
    },
    {
      "cell_type": "code",
      "execution_count": 256,
      "metadata": {
        "colab": {
          "base_uri": "https://localhost:8080/"
        },
        "id": "VLqaRXae_e1M",
        "outputId": "d38aaba1-25e2-4ff2-f6a9-55c0215037b9"
      },
      "outputs": [
        {
          "data": {
            "text/plain": [
              "{1: ('a', 'b', 'c'), 2: ('a', 'b', 'c'), 3: ('a', 'b', 'c')}"
            ]
          },
          "execution_count": 256,
          "metadata": {},
          "output_type": "execute_result"
        }
      ],
      "source": [
        "d1.fromkeys((1,2,3),(\"a\",\"b\",\"c\"))"
      ]
    },
    {
      "cell_type": "markdown",
      "metadata": {
        "id": "mQHdn24nzJ4v"
      },
      "source": [
        "### Dictionary Comprehension"
      ]
    },
    {
      "cell_type": "code",
      "execution_count": 257,
      "metadata": {
        "id": "xw19vkNBA67h"
      },
      "outputs": [],
      "source": [
        "# ZIP Function\n",
        "students=['Anne','Ken','Marie']\n",
        "marks=['7.8','6.9','8.9']"
      ]
    },
    {
      "cell_type": "code",
      "execution_count": 258,
      "metadata": {
        "colab": {
          "base_uri": "https://localhost:8080/"
        },
        "id": "LFpqChX6zo8W",
        "outputId": "1c394856-0914-47d4-8f4b-01bf98cf6886"
      },
      "outputs": [
        {
          "name": "stdout",
          "output_type": "stream",
          "text": [
            "('Anne', '7.8')\n",
            "('Ken', '6.9')\n",
            "('Marie', '8.9')\n"
          ]
        }
      ],
      "source": [
        "for i in zip(students, marks):\n",
        "    print(i)"
      ]
    },
    {
      "cell_type": "code",
      "execution_count": 259,
      "metadata": {
        "colab": {
          "base_uri": "https://localhost:8080/"
        },
        "id": "EY-PiW70z1mw",
        "outputId": "9fff1b32-5527-4478-cdff-2ed247deebb5"
      },
      "outputs": [
        {
          "data": {
            "text/plain": [
              "{'Anne': '7.8', 'Ken': '6.9', 'Marie': '8.9'}"
            ]
          },
          "execution_count": 259,
          "metadata": {},
          "output_type": "execute_result"
        }
      ],
      "source": [
        "#Storing in Key value\n",
        "students=['Anne','Ken','Marie']\n",
        "marks=['7.8','6.9','8.9']\n",
        "\n",
        "students_marks={}\n",
        "for students, marks in zip(students, marks):\n",
        "    students_marks[students]=marks\n",
        "students_marks"
      ]
    },
    {
      "cell_type": "code",
      "execution_count": 260,
      "metadata": {
        "colab": {
          "base_uri": "https://localhost:8080/"
        },
        "id": "QmbzKSub0dUv",
        "outputId": "4154c94f-31aa-4669-da10-0bb2e08da28a"
      },
      "outputs": [
        {
          "data": {
            "text/plain": [
              "{'Anne': '7.8', 'Ken': '6.9', 'Marie': '8.9'}"
            ]
          },
          "execution_count": 260,
          "metadata": {},
          "output_type": "execute_result"
        }
      ],
      "source": [
        "#using dictionary comprehension\n",
        "students=['Anne','Ken','Marie']\n",
        "marks=['7.8','6.9','8.9']\n",
        "\n",
        "{student : mark for student, mark in zip(students, marks)}"
      ]
    },
    {
      "cell_type": "code",
      "execution_count": 261,
      "metadata": {
        "colab": {
          "base_uri": "https://localhost:8080/"
        },
        "id": "jx1O3eF_2GNa",
        "outputId": "423b913d-66d3-4687-ccfc-ed5491de353a"
      },
      "outputs": [
        {
          "data": {
            "text/plain": [
              "{'BHU90': 'lkolko', 'AKJ09': 'bhubhu', 'YTF54': 'ytfytf', 'LKO77': 'akjakj'}"
            ]
          },
          "execution_count": 261,
          "metadata": {},
          "output_type": "execute_result"
        }
      ],
      "source": [
        "# use_case\n",
        "user_id={'AKJ09','BHU90','LKO77','YTF54'}\n",
        "user_password={'akjakj','bhubhu','lkolko','ytfytf'}\n",
        "\n",
        "{user_id : user_password for user_id, user_password in zip(user_id, user_password)}"
      ]
    },
    {
      "cell_type": "code",
      "execution_count": 262,
      "metadata": {
        "colab": {
          "base_uri": "https://localhost:8080/"
        },
        "id": "HnRiBlEW3dSi",
        "outputId": "f2debaad-9426-4b18-d86f-0da917707268"
      },
      "outputs": [
        {
          "data": {
            "text/plain": [
              "dict_items([('abc', 12), ('def', 45), (2.3, 'zxc'), (True, 34), ('asd', 56)])"
            ]
          },
          "execution_count": 262,
          "metadata": {},
          "output_type": "execute_result"
        }
      ],
      "source": [
        "a={'abc': 12, 'def': 45, 2.3: 'zxc', True: 34, 'asd': 56}\n",
        "a.items()"
      ]
    },
    {
      "cell_type": "code",
      "execution_count": 263,
      "metadata": {
        "colab": {
          "base_uri": "https://localhost:8080/"
        },
        "id": "6sagSWXZ5Wra",
        "outputId": "36564e52-e1fe-42fc-941d-040b75009fff"
      },
      "outputs": [
        {
          "data": {
            "text/plain": [
              "dict_keys(['abc', 'def', 2.3, True, 'asd'])"
            ]
          },
          "execution_count": 263,
          "metadata": {},
          "output_type": "execute_result"
        }
      ],
      "source": [
        "a.keys()"
      ]
    },
    {
      "cell_type": "code",
      "execution_count": 264,
      "metadata": {
        "colab": {
          "base_uri": "https://localhost:8080/"
        },
        "id": "sCg_VKZ75bNk",
        "outputId": "3bc274e6-57e0-418a-ca27-c4b009b607b5"
      },
      "outputs": [
        {
          "data": {
            "text/plain": [
              "dict_values([12, 45, 'zxc', 34, 56])"
            ]
          },
          "execution_count": 264,
          "metadata": {},
          "output_type": "execute_result"
        }
      ],
      "source": [
        "a.values()"
      ]
    },
    {
      "cell_type": "markdown",
      "metadata": {
        "id": "58neXxnh4nMV"
      },
      "source": [
        "### Iteration"
      ]
    },
    {
      "cell_type": "code",
      "execution_count": 265,
      "metadata": {
        "colab": {
          "base_uri": "https://localhost:8080/"
        },
        "id": "H1bvOdgI4bEt",
        "outputId": "9df9bef6-7724-4d74-bd0b-ece27e66fb56"
      },
      "outputs": [
        {
          "name": "stdout",
          "output_type": "stream",
          "text": [
            "abc\n",
            "def\n",
            "2.3\n",
            "True\n",
            "asd\n"
          ]
        }
      ],
      "source": [
        "# For iteration on keys only\n",
        "a={'abc': 12, 'def': 45, 2.3: 'zxc', True: 34, 'asd': 56}\n",
        "for key in a.keys():\n",
        "    print(key)"
      ]
    },
    {
      "cell_type": "code",
      "execution_count": 266,
      "metadata": {
        "colab": {
          "base_uri": "https://localhost:8080/"
        },
        "id": "VnSU7Fjk4uwc",
        "outputId": "5853e440-41f7-4973-bea7-08029c2e1940"
      },
      "outputs": [
        {
          "name": "stdout",
          "output_type": "stream",
          "text": [
            "12\n",
            "45\n",
            "zxc\n",
            "34\n",
            "56\n"
          ]
        }
      ],
      "source": [
        "# for iteration on Value\n",
        "for value in a.values():\n",
        "    print(value)"
      ]
    },
    {
      "cell_type": "code",
      "execution_count": 267,
      "metadata": {
        "colab": {
          "base_uri": "https://localhost:8080/"
        },
        "id": "p355v3dI5Tm2",
        "outputId": "d27bb06b-b9a8-434b-d212-b0918db6bea4"
      },
      "outputs": [
        {
          "name": "stdout",
          "output_type": "stream",
          "text": [
            "abc 12\n",
            "def 45\n",
            "2.3 zxc\n",
            "True 34\n",
            "asd 56\n"
          ]
        }
      ],
      "source": [
        "# For iteration on keys and values both\n",
        "for key, value in a.items():\n",
        "    print(key, value)"
      ]
    },
    {
      "cell_type": "markdown",
      "metadata": {
        "id": "9jCMxTMq_jws"
      },
      "source": [
        "# Function"
      ]
    },
    {
      "cell_type": "markdown",
      "metadata": {
        "id": "ysU_aUF8_pdv"
      },
      "source": [
        "A block of reusable code which is used to perform some specific tasks."
      ]
    },
    {
      "cell_type": "markdown",
      "metadata": {
        "id": "b9ZRRXNX_0IL"
      },
      "source": [
        "There are two types of functions:\n",
        "1. in-built function\n",
        "2. user-defined function"
      ]
    },
    {
      "cell_type": "markdown",
      "metadata": {
        "id": "rFGTQulY_87o"
      },
      "source": [
        "## In-built function"
      ]
    },
    {
      "cell_type": "code",
      "execution_count": null,
      "metadata": {
        "colab": {
          "base_uri": "https://localhost:8080/"
        },
        "id": "OUBur4Lhnepq",
        "outputId": "967003e6-c51f-4f48-b577-bea7478567f0"
      },
      "outputs": [
        {
          "data": {
            "text/plain": [
              "15"
            ]
          },
          "execution_count": 11,
          "metadata": {},
          "output_type": "execute_result"
        }
      ],
      "source": [
        "l=[1,2,3,4,5]\n",
        "sum(l)  # sum is built in"
      ]
    },
    {
      "cell_type": "code",
      "execution_count": null,
      "metadata": {
        "id": "9yemhzbu_mWr"
      },
      "outputs": [],
      "source": [
        "# Ceiling function << roof << Nearest highest value\n",
        "# Floor function << ground << Nearest lowest value"
      ]
    },
    {
      "cell_type": "markdown",
      "metadata": {
        "id": "9IFdqEtEAhiY"
      },
      "source": [
        "- To call some in-built function we import python library.\n",
        "- For ceiling and floor function we import math library"
      ]
    },
    {
      "cell_type": "code",
      "execution_count": null,
      "metadata": {
        "id": "31pP8bbsAZyw"
      },
      "outputs": [],
      "source": [
        "import math as p"
      ]
    },
    {
      "cell_type": "code",
      "execution_count": null,
      "metadata": {
        "colab": {
          "base_uri": "https://localhost:8080/"
        },
        "id": "AmMQA0IAA1aB",
        "outputId": "e926e765-edd3-44ca-d5da-5c29c6bd590f"
      },
      "outputs": [
        {
          "data": {
            "text/plain": [
              "7"
            ]
          },
          "execution_count": 411,
          "metadata": {},
          "output_type": "execute_result"
        }
      ],
      "source": [
        "p.ceil(6.5)"
      ]
    },
    {
      "cell_type": "code",
      "execution_count": null,
      "metadata": {
        "colab": {
          "base_uri": "https://localhost:8080/"
        },
        "id": "3rs96kSiA5Yd",
        "outputId": "99a5cb2e-fbe2-4bf6-b391-d268dec78f9b"
      },
      "outputs": [
        {
          "data": {
            "text/plain": [
              "6"
            ]
          },
          "execution_count": 412,
          "metadata": {},
          "output_type": "execute_result"
        }
      ],
      "source": [
        "p.floor(6.5)"
      ]
    },
    {
      "cell_type": "markdown",
      "metadata": {
        "id": "-7BAFMoaBFyA"
      },
      "source": [
        "## User-defined function"
      ]
    },
    {
      "cell_type": "code",
      "execution_count": null,
      "metadata": {
        "id": "jfzA2h1wBDcG"
      },
      "outputs": [],
      "source": [
        "# syntax\n",
        "# def func():\n",
        "#      do something - body of function\n",
        "# return value"
      ]
    },
    {
      "cell_type": "markdown",
      "metadata": {
        "id": "v5qUrfw9BXty"
      },
      "source": [
        "- Why function needed?\n",
        "1. reusable\n",
        "2. make the code cluster free\n",
        "3. neat, clean and organise code\n",
        "4. saves time"
      ]
    },
    {
      "cell_type": "markdown",
      "metadata": {
        "id": "-kgj7TXtBkQi"
      },
      "source": [
        "- Examples"
      ]
    },
    {
      "cell_type": "code",
      "execution_count": null,
      "metadata": {
        "colab": {
          "base_uri": "https://localhost:8080/"
        },
        "id": "I7Hwbh7DBVDw",
        "outputId": "c06e33b5-e4c6-45ac-d179-fcfc478f0b38"
      },
      "outputs": [
        {
          "name": "stdout",
          "output_type": "stream",
          "text": [
            "Welcome to prag's Universe! Anne\n",
            "Welcome to Prag's Universe! John\n",
            "Welcome to Prag's Universe! Marie\n"
          ]
        }
      ],
      "source": [
        "print(\"Welcome to prag's Universe! Anne\")\n",
        "print(\"Welcome to Prag's Universe! John\")\n",
        "print(\"Welcome to Prag's Universe! Marie\")"
      ]
    },
    {
      "cell_type": "code",
      "execution_count": null,
      "metadata": {
        "colab": {
          "base_uri": "https://localhost:8080/"
        },
        "id": "wLm1BT2yB_LB",
        "outputId": "ba61b47b-5e63-413e-ef9b-284f1a9d95c1"
      },
      "outputs": [
        {
          "name": "stdout",
          "output_type": "stream",
          "text": [
            "Welcome to Prag's Universe ! \n"
          ]
        }
      ],
      "source": [
        "def welcome():\n",
        "    print(\"Welcome to Prag's Universe ! \")\n",
        "welcome()"
      ]
    },
    {
      "cell_type": "code",
      "execution_count": null,
      "metadata": {
        "colab": {
          "base_uri": "https://localhost:8080/"
        },
        "id": "1tdM9Y_KCLBl",
        "outputId": "545d8f80-f8b7-4056-a817-f99736b1b360"
      },
      "outputs": [
        {
          "name": "stdout",
          "output_type": "stream",
          "text": [
            "Welcome to Prag's Universe !  Anne\n"
          ]
        }
      ],
      "source": [
        "def welcome(name): # name << variable << positional arguements << fixed position\n",
        "    print(\"Welcome to Prag's Universe ! \",name)\n",
        "welcome(\"Anne\")"
      ]
    },
    {
      "cell_type": "code",
      "execution_count": null,
      "metadata": {
        "colab": {
          "base_uri": "https://localhost:8080/"
        },
        "id": "FAvTDjGGCYDJ",
        "outputId": "3f92790e-b053-4194-e4f0-12e09476659c"
      },
      "outputs": [
        {
          "name": "stdout",
          "output_type": "stream",
          "text": [
            "Welcome to Prag's Universe !  John\n"
          ]
        }
      ],
      "source": [
        "welcome(\"John\")"
      ]
    },
    {
      "cell_type": "code",
      "execution_count": null,
      "metadata": {
        "id": "4QoFs6T_omfZ"
      },
      "outputs": [],
      "source": [
        "def add():\n",
        "    x =1\n",
        "    y =4\n",
        "    result = x+y\n",
        "    return result"
      ]
    },
    {
      "cell_type": "code",
      "execution_count": null,
      "metadata": {
        "colab": {
          "base_uri": "https://localhost:8080/"
        },
        "id": "-FgCZsRxov_0",
        "outputId": "5be60a24-45d8-4ee1-a8b8-7cd39d68a71b"
      },
      "outputs": [
        {
          "data": {
            "text/plain": [
              "5"
            ]
          },
          "execution_count": 14,
          "metadata": {},
          "output_type": "execute_result"
        }
      ],
      "source": [
        "add()"
      ]
    },
    {
      "cell_type": "code",
      "execution_count": null,
      "metadata": {
        "id": "4g7CyM80pIdm"
      },
      "outputs": [],
      "source": [
        "x = \"hi\""
      ]
    },
    {
      "cell_type": "code",
      "execution_count": null,
      "metadata": {
        "colab": {
          "base_uri": "https://localhost:8080/"
        },
        "id": "WtFdjaPEpDAZ",
        "outputId": "3d8856ca-6ac0-4558-d60a-1f9f163fa385"
      },
      "outputs": [
        {
          "data": {
            "text/plain": [
              "['__add__',\n",
              " '__class__',\n",
              " '__contains__',\n",
              " '__delattr__',\n",
              " '__dir__',\n",
              " '__doc__',\n",
              " '__eq__',\n",
              " '__format__',\n",
              " '__ge__',\n",
              " '__getattribute__',\n",
              " '__getitem__',\n",
              " '__getnewargs__',\n",
              " '__getstate__',\n",
              " '__gt__',\n",
              " '__hash__',\n",
              " '__init__',\n",
              " '__init_subclass__',\n",
              " '__iter__',\n",
              " '__le__',\n",
              " '__len__',\n",
              " '__lt__',\n",
              " '__mod__',\n",
              " '__mul__',\n",
              " '__ne__',\n",
              " '__new__',\n",
              " '__reduce__',\n",
              " '__reduce_ex__',\n",
              " '__repr__',\n",
              " '__rmod__',\n",
              " '__rmul__',\n",
              " '__setattr__',\n",
              " '__sizeof__',\n",
              " '__str__',\n",
              " '__subclasshook__',\n",
              " 'capitalize',\n",
              " 'casefold',\n",
              " 'center',\n",
              " 'count',\n",
              " 'encode',\n",
              " 'endswith',\n",
              " 'expandtabs',\n",
              " 'find',\n",
              " 'format',\n",
              " 'format_map',\n",
              " 'index',\n",
              " 'isalnum',\n",
              " 'isalpha',\n",
              " 'isascii',\n",
              " 'isdecimal',\n",
              " 'isdigit',\n",
              " 'isidentifier',\n",
              " 'islower',\n",
              " 'isnumeric',\n",
              " 'isprintable',\n",
              " 'isspace',\n",
              " 'istitle',\n",
              " 'isupper',\n",
              " 'join',\n",
              " 'ljust',\n",
              " 'lower',\n",
              " 'lstrip',\n",
              " 'maketrans',\n",
              " 'partition',\n",
              " 'removeprefix',\n",
              " 'removesuffix',\n",
              " 'replace',\n",
              " 'rfind',\n",
              " 'rindex',\n",
              " 'rjust',\n",
              " 'rpartition',\n",
              " 'rsplit',\n",
              " 'rstrip',\n",
              " 'split',\n",
              " 'splitlines',\n",
              " 'startswith',\n",
              " 'strip',\n",
              " 'swapcase',\n",
              " 'title',\n",
              " 'translate',\n",
              " 'upper',\n",
              " 'zfill']"
            ]
          },
          "execution_count": 17,
          "metadata": {},
          "output_type": "execute_result"
        }
      ],
      "source": [
        "dir(x)"
      ]
    },
    {
      "cell_type": "code",
      "execution_count": null,
      "metadata": {
        "id": "A3oqprzYpQBW"
      },
      "outputs": [],
      "source": [
        "def add():\n",
        "    x = int(input(\"enter 1st number : \"))\n",
        "    y = int(input(\"enter 2nd number : \"))\n",
        "    result=x+y\n",
        "    return result"
      ]
    },
    {
      "cell_type": "code",
      "execution_count": null,
      "metadata": {
        "colab": {
          "base_uri": "https://localhost:8080/"
        },
        "id": "eGP09VO3pdcv",
        "outputId": "e5ca01a3-0ba9-47df-cbaf-f4aaef8ab646"
      },
      "outputs": [
        {
          "name": "stdout",
          "output_type": "stream",
          "text": [
            "enter 1st number : 10\n",
            "enter 2nd number : 5\n"
          ]
        },
        {
          "data": {
            "text/plain": [
              "15"
            ]
          },
          "execution_count": 19,
          "metadata": {},
          "output_type": "execute_result"
        }
      ],
      "source": [
        "add()"
      ]
    },
    {
      "cell_type": "code",
      "execution_count": null,
      "metadata": {
        "colab": {
          "base_uri": "https://localhost:8080/"
        },
        "id": "dDk4bJ5zDTL0",
        "outputId": "b2822322-acf8-4526-8c42-1c40b7d41c9c"
      },
      "outputs": [
        {
          "name": "stdout",
          "output_type": "stream",
          "text": [
            "This is my first function \n"
          ]
        }
      ],
      "source": [
        "def func():\n",
        "    print(\"This is my first function \")\n",
        "func()"
      ]
    },
    {
      "cell_type": "code",
      "execution_count": null,
      "metadata": {
        "colab": {
          "base_uri": "https://localhost:8080/",
          "height": 35
        },
        "id": "KgmScvrwDfO3",
        "outputId": "348ed7fc-0440-40e2-e962-0ea38ed7a06a"
      },
      "outputs": [
        {
          "data": {
            "application/vnd.google.colaboratory.intrinsic+json": {
              "type": "string"
            },
            "text/plain": [
              "'This is my first function in Python'"
            ]
          },
          "execution_count": 425,
          "metadata": {},
          "output_type": "execute_result"
        }
      ],
      "source": [
        "\"This is my first function \" + \"in Python\""
      ]
    },
    {
      "cell_type": "code",
      "execution_count": null,
      "metadata": {
        "id": "gQ91vDXPDljZ"
      },
      "outputs": [],
      "source": [
        "# func() + \"in python \" will throw error of unsupported operand"
      ]
    },
    {
      "cell_type": "code",
      "execution_count": null,
      "metadata": {
        "id": "_5DS58YrDxqZ"
      },
      "outputs": [],
      "source": [
        "# return function"
      ]
    },
    {
      "cell_type": "code",
      "execution_count": null,
      "metadata": {
        "colab": {
          "base_uri": "https://localhost:8080/",
          "height": 35
        },
        "id": "0F4EusZcD6OP",
        "outputId": "05580209-12d9-4ab1-fb60-46f45d9cc223"
      },
      "outputs": [
        {
          "data": {
            "application/vnd.google.colaboratory.intrinsic+json": {
              "type": "string"
            },
            "text/plain": [
              "'This is my first function '"
            ]
          },
          "execution_count": 430,
          "metadata": {},
          "output_type": "execute_result"
        }
      ],
      "source": [
        "def func():\n",
        "    return \"This is my first function \" # return the vale as it is\n",
        "func()"
      ]
    },
    {
      "cell_type": "code",
      "execution_count": null,
      "metadata": {
        "colab": {
          "base_uri": "https://localhost:8080/",
          "height": 35
        },
        "id": "1CYXOv0uEANA",
        "outputId": "0dfbdd7a-8398-43c0-fc52-002ac13efee2"
      },
      "outputs": [
        {
          "data": {
            "application/vnd.google.colaboratory.intrinsic+json": {
              "type": "string"
            },
            "text/plain": [
              "'This is my first function in Python'"
            ]
          },
          "execution_count": 431,
          "metadata": {},
          "output_type": "execute_result"
        }
      ],
      "source": [
        "func() + \"in Python\""
      ]
    },
    {
      "cell_type": "markdown",
      "metadata": {
        "id": "5D2z10mSEMvD"
      },
      "source": [
        "- Example"
      ]
    },
    {
      "cell_type": "code",
      "execution_count": null,
      "metadata": {
        "colab": {
          "base_uri": "https://localhost:8080/"
        },
        "id": "xQw7V9FHEEzr",
        "outputId": "1a76e337-a897-491b-f25e-32cb708d4d40"
      },
      "outputs": [
        {
          "data": {
            "text/plain": [
              "('This is my first function', 23, True, (9+7j))"
            ]
          },
          "execution_count": 432,
          "metadata": {},
          "output_type": "execute_result"
        }
      ],
      "source": [
        "def func():\n",
        "    return \"This is my first function\",23,True,9+7j\n",
        "func()"
      ]
    },
    {
      "cell_type": "code",
      "execution_count": null,
      "metadata": {
        "colab": {
          "base_uri": "https://localhost:8080/"
        },
        "id": "tuo7GqrtEZF8",
        "outputId": "08da7352-ff00-4c11-c7b4-33a494881c33"
      },
      "outputs": [
        {
          "data": {
            "text/plain": [
              "tuple"
            ]
          },
          "execution_count": 433,
          "metadata": {},
          "output_type": "execute_result"
        }
      ],
      "source": [
        "a=func()\n",
        "type(a)"
      ]
    },
    {
      "cell_type": "code",
      "execution_count": null,
      "metadata": {
        "id": "5rwZWNgqEi-x"
      },
      "outputs": [],
      "source": [
        "a, b, c, d=func()"
      ]
    },
    {
      "cell_type": "code",
      "execution_count": null,
      "metadata": {
        "colab": {
          "base_uri": "https://localhost:8080/",
          "height": 35
        },
        "id": "1qTIggFaEnx9",
        "outputId": "5ecbd47a-abb8-4a7d-eead-39eed57393ac"
      },
      "outputs": [
        {
          "data": {
            "application/vnd.google.colaboratory.intrinsic+json": {
              "type": "string"
            },
            "text/plain": [
              "'This is my first function'"
            ]
          },
          "execution_count": 437,
          "metadata": {},
          "output_type": "execute_result"
        }
      ],
      "source": [
        "a"
      ]
    },
    {
      "cell_type": "code",
      "execution_count": null,
      "metadata": {
        "colab": {
          "base_uri": "https://localhost:8080/"
        },
        "id": "Rf1l-DqBEvZP",
        "outputId": "dfe7e92c-8018-48e9-857e-2f0806282166"
      },
      "outputs": [
        {
          "data": {
            "text/plain": [
              "(9+7j)"
            ]
          },
          "execution_count": 438,
          "metadata": {},
          "output_type": "execute_result"
        }
      ],
      "source": [
        "d"
      ]
    },
    {
      "cell_type": "code",
      "execution_count": null,
      "metadata": {
        "colab": {
          "base_uri": "https://localhost:8080/"
        },
        "id": "Hpi5pF_zEwr0",
        "outputId": "ee7dfd8c-cdd7-48db-ed17-daa0930932f2"
      },
      "outputs": [
        {
          "data": {
            "text/plain": [
              "23"
            ]
          },
          "execution_count": 440,
          "metadata": {},
          "output_type": "execute_result"
        }
      ],
      "source": [
        "b"
      ]
    },
    {
      "cell_type": "code",
      "execution_count": null,
      "metadata": {
        "id": "tZlkQ1EvExuD"
      },
      "outputs": [],
      "source": [
        "def func():\n",
        "    return \"This is my first function\",23,True,9+7j\n",
        "func()\n"
      ]
    },
    {
      "cell_type": "code",
      "execution_count": null,
      "metadata": {
        "id": "XmS5CEDeE3cO"
      },
      "outputs": [],
      "source": []
    },
    {
      "cell_type": "markdown",
      "metadata": {
        "id": "ScPjc_AIXN8g"
      },
      "source": [
        "# Iterators and Generators"
      ]
    },
    {
      "cell_type": "markdown",
      "metadata": {
        "id": "oTaqnTJiXSt1"
      },
      "source": [
        "An iterable is any python object/ sequential str that is capable of returning its member one at a time."
      ]
    },
    {
      "cell_type": "code",
      "execution_count": null,
      "metadata": {
        "id": "WBDIrYQQXSEb"
      },
      "outputs": [],
      "source": [
        "# permitting it to be iterated over in a for loop\n",
        "# examples >> List, tuples"
      ]
    },
    {
      "cell_type": "code",
      "execution_count": null,
      "metadata": {
        "colab": {
          "base_uri": "https://localhost:8080/"
        },
        "id": "WNhJrhTlXs5W",
        "outputId": "a6ef4c98-77f8-433e-81e2-62167c79a442"
      },
      "outputs": [
        {
          "name": "stdout",
          "output_type": "stream",
          "text": [
            "1\n",
            "2\n",
            "Ajay\n"
          ]
        }
      ],
      "source": [
        "lis = [1,2,\"Ajay\"] #list is an iterable object\n",
        "for i in lis:\n",
        "    print(i)"
      ]
    },
    {
      "cell_type": "markdown",
      "metadata": {
        "id": "C-ogv3iEYCma"
      },
      "source": [
        "**Iteration **\n",
        "- A process of looping through the elements for an iterable using a loop\n",
        "- Process of returning the elements one by one"
      ]
    },
    {
      "cell_type": "code",
      "execution_count": null,
      "metadata": {
        "colab": {
          "base_uri": "https://localhost:8080/"
        },
        "id": "KMbaOjnyXxwL",
        "outputId": "c3c8ce83-5b8e-4c70-bfaa-4b26e5634ac0"
      },
      "outputs": [
        {
          "name": "stdout",
          "output_type": "stream",
          "text": [
            "p\n",
            "w\n",
            "s\n",
            "k\n",
            "i\n",
            "l\n",
            "l\n",
            "s\n"
          ]
        }
      ],
      "source": [
        "for i in \"pwskills\":\n",
        "    print(i)"
      ]
    },
    {
      "cell_type": "markdown",
      "metadata": {
        "id": "B8vdfzNmYfPF"
      },
      "source": [
        "**Iterator**\n",
        "- An iterator is an object representing a stream of data  and return the data one by one.\n",
        "- Analogy :\n",
        "- potato (iterable) can not be cooked in original form. Chop and wash to make it ready for cooking. >> Iterator.\n",
        "- The processing of cooking is iteration"
      ]
    },
    {
      "cell_type": "code",
      "execution_count": null,
      "metadata": {
        "colab": {
          "base_uri": "https://localhost:8080/"
        },
        "id": "jpvJWPXPYZ44",
        "outputId": "8b06a9df-6262-4992-c268-e18a3715a714"
      },
      "outputs": [
        {
          "name": "stdout",
          "output_type": "stream",
          "text": [
            "P\n",
            "r\n",
            "a\n",
            "g\n",
            "a\n",
            "t\n",
            "i\n"
          ]
        }
      ],
      "source": [
        "s=\"Pragati\" # string is iterable\n",
        "for i in s:\n",
        "    print(i)"
      ]
    },
    {
      "cell_type": "code",
      "execution_count": null,
      "metadata": {
        "colab": {
          "base_uri": "https://localhost:8080/"
        },
        "id": "YAswfzmUx_YI",
        "outputId": "2aa674fe-49be-4fc8-ebf7-f3819a69de45"
      },
      "outputs": [
        {
          "data": {
            "text/plain": [
              "<str_ascii_iterator at 0x7b445be8c730>"
            ]
          },
          "execution_count": 4,
          "metadata": {},
          "output_type": "execute_result"
        }
      ],
      "source": [
        "# python >> can i prepare s for iteration\n",
        "\n",
        "iter(s) # ready to be iterated"
      ]
    },
    {
      "cell_type": "code",
      "execution_count": null,
      "metadata": {
        "colab": {
          "base_uri": "https://localhost:8080/"
        },
        "id": "STbp3jFCynHV",
        "outputId": "e7e5da11-9c54-4133-8077-f3bf97c81e04"
      },
      "outputs": [
        {
          "data": {
            "text/plain": [
              "<str_ascii_iterator at 0x7b445be8e6b0>"
            ]
          },
          "execution_count": 6,
          "metadata": {},
          "output_type": "execute_result"
        }
      ],
      "source": [
        "a=iter(s)\n",
        "a"
      ]
    },
    {
      "cell_type": "code",
      "execution_count": null,
      "metadata": {
        "colab": {
          "base_uri": "https://localhost:8080/",
          "height": 35
        },
        "id": "qVWWH7cFyxYw",
        "outputId": "545d8dea-27a3-4f0b-94cf-08237c62fc56"
      },
      "outputs": [
        {
          "data": {
            "application/vnd.google.colaboratory.intrinsic+json": {
              "type": "string"
            },
            "text/plain": [
              "'P'"
            ]
          },
          "execution_count": 7,
          "metadata": {},
          "output_type": "execute_result"
        }
      ],
      "source": [
        "next(a)"
      ]
    },
    {
      "cell_type": "code",
      "execution_count": null,
      "metadata": {
        "colab": {
          "base_uri": "https://localhost:8080/",
          "height": 35
        },
        "id": "UqGzI-GryzAW",
        "outputId": "db0f67c4-e181-420c-d785-fd15be4bf370"
      },
      "outputs": [
        {
          "data": {
            "application/vnd.google.colaboratory.intrinsic+json": {
              "type": "string"
            },
            "text/plain": [
              "'r'"
            ]
          },
          "execution_count": 9,
          "metadata": {},
          "output_type": "execute_result"
        }
      ],
      "source": [
        "next(a)"
      ]
    },
    {
      "cell_type": "code",
      "execution_count": null,
      "metadata": {
        "colab": {
          "base_uri": "https://localhost:8080/",
          "height": 35
        },
        "id": "azVIuXily0EV",
        "outputId": "acf39886-f89f-433b-c877-0c86ce19e4e5"
      },
      "outputs": [
        {
          "data": {
            "application/vnd.google.colaboratory.intrinsic+json": {
              "type": "string"
            },
            "text/plain": [
              "'a'"
            ]
          },
          "execution_count": 10,
          "metadata": {},
          "output_type": "execute_result"
        }
      ],
      "source": [
        "next(a)"
      ]
    },
    {
      "cell_type": "code",
      "execution_count": null,
      "metadata": {
        "colab": {
          "base_uri": "https://localhost:8080/",
          "height": 35
        },
        "id": "wZ2iZ20ty2gS",
        "outputId": "970eb9b8-f4e1-44b6-d2ff-5878a9f0f704"
      },
      "outputs": [
        {
          "data": {
            "application/vnd.google.colaboratory.intrinsic+json": {
              "type": "string"
            },
            "text/plain": [
              "'g'"
            ]
          },
          "execution_count": 11,
          "metadata": {},
          "output_type": "execute_result"
        }
      ],
      "source": [
        "next(a)"
      ]
    },
    {
      "cell_type": "markdown",
      "metadata": {
        "id": "zP-589WTzEoO"
      },
      "source": [
        "- first converting the iterable string to iterator object (using iter) and then access uisng next"
      ]
    },
    {
      "cell_type": "code",
      "execution_count": null,
      "metadata": {
        "colab": {
          "base_uri": "https://localhost:8080/"
        },
        "id": "cxBdPGHVy7eb",
        "outputId": "3d1319c6-5bf7-431d-fa1c-e5636f5aa335"
      },
      "outputs": [
        {
          "data": {
            "text/plain": [
              "<list_iterator at 0x7b445be8dea0>"
            ]
          },
          "execution_count": 12,
          "metadata": {},
          "output_type": "execute_result"
        }
      ],
      "source": [
        "a=iter([1,2,3,4,5])\n",
        "a"
      ]
    },
    {
      "cell_type": "code",
      "execution_count": null,
      "metadata": {
        "colab": {
          "base_uri": "https://localhost:8080/"
        },
        "id": "OYX9PaFezkFH",
        "outputId": "a49995c2-087c-4e30-9523-f6fc299ca2cf"
      },
      "outputs": [
        {
          "data": {
            "text/plain": [
              "1"
            ]
          },
          "execution_count": 13,
          "metadata": {},
          "output_type": "execute_result"
        }
      ],
      "source": [
        "next(a)"
      ]
    },
    {
      "cell_type": "code",
      "execution_count": null,
      "metadata": {
        "colab": {
          "base_uri": "https://localhost:8080/"
        },
        "id": "r2li7B50zlxJ",
        "outputId": "e7ba6b22-21f5-4349-d231-3b39d8c8e280"
      },
      "outputs": [
        {
          "data": {
            "text/plain": [
              "2"
            ]
          },
          "execution_count": 14,
          "metadata": {},
          "output_type": "execute_result"
        }
      ],
      "source": [
        "next(a)"
      ]
    },
    {
      "cell_type": "code",
      "execution_count": null,
      "metadata": {
        "colab": {
          "base_uri": "https://localhost:8080/"
        },
        "id": "uDSaXewDzm4v",
        "outputId": "429ff07d-207e-42b6-d6c2-4b45fafa037a"
      },
      "outputs": [
        {
          "data": {
            "text/plain": [
              "<tuple_iterator at 0x7b445be8e770>"
            ]
          },
          "execution_count": 15,
          "metadata": {},
          "output_type": "execute_result"
        }
      ],
      "source": [
        "t=iter((5,6,7,8))\n",
        "t"
      ]
    },
    {
      "cell_type": "code",
      "execution_count": null,
      "metadata": {
        "colab": {
          "base_uri": "https://localhost:8080/"
        },
        "id": "Lk7cFY7hz3hf",
        "outputId": "2381c3c6-efc5-4d59-ad96-f9353425dad2"
      },
      "outputs": [
        {
          "data": {
            "text/plain": [
              "5"
            ]
          },
          "execution_count": 16,
          "metadata": {},
          "output_type": "execute_result"
        }
      ],
      "source": [
        "next(t)"
      ]
    },
    {
      "cell_type": "code",
      "execution_count": null,
      "metadata": {
        "colab": {
          "base_uri": "https://localhost:8080/"
        },
        "id": "okjo4d1Cz60z",
        "outputId": "b2fd857c-c861-41df-db4f-4bb2e36dcda9"
      },
      "outputs": [
        {
          "data": {
            "text/plain": [
              "6"
            ]
          },
          "execution_count": 17,
          "metadata": {},
          "output_type": "execute_result"
        }
      ],
      "source": [
        "next(t)"
      ]
    },
    {
      "cell_type": "code",
      "execution_count": null,
      "metadata": {
        "colab": {
          "base_uri": "https://localhost:8080/"
        },
        "id": "Ht1oJ_Fqz78B",
        "outputId": "9a71f79d-f17e-4ad7-9d3f-fcb802949156"
      },
      "outputs": [
        {
          "data": {
            "text/plain": [
              "7"
            ]
          },
          "execution_count": 18,
          "metadata": {},
          "output_type": "execute_result"
        }
      ],
      "source": [
        "next(t)"
      ]
    },
    {
      "cell_type": "code",
      "execution_count": null,
      "metadata": {
        "colab": {
          "base_uri": "https://localhost:8080/"
        },
        "id": "5PvCsKk9z8_T",
        "outputId": "e1d4a09d-ca8e-4ea7-d8a8-e39c6fbdbd29"
      },
      "outputs": [
        {
          "data": {
            "text/plain": [
              "8"
            ]
          },
          "execution_count": 19,
          "metadata": {},
          "output_type": "execute_result"
        }
      ],
      "source": [
        "next(t)"
      ]
    },
    {
      "cell_type": "code",
      "execution_count": null,
      "metadata": {
        "colab": {
          "base_uri": "https://localhost:8080/"
        },
        "id": "HDPPVfwEz-7y",
        "outputId": "a9706196-e6e3-4e5b-d192-772ed9afeddf"
      },
      "outputs": [
        {
          "data": {
            "text/plain": [
              "<set_iterator at 0x7b445b5b16c0>"
            ]
          },
          "execution_count": 21,
          "metadata": {},
          "output_type": "execute_result"
        }
      ],
      "source": [
        "r=iter({1,2,3,4,5})\n",
        "r"
      ]
    },
    {
      "cell_type": "code",
      "execution_count": null,
      "metadata": {
        "colab": {
          "base_uri": "https://localhost:8080/"
        },
        "id": "esdLmlRu0DSX",
        "outputId": "a4eabece-994c-4a33-c314-f8e2496b51ce"
      },
      "outputs": [
        {
          "data": {
            "text/plain": [
              "1"
            ]
          },
          "execution_count": 22,
          "metadata": {},
          "output_type": "execute_result"
        }
      ],
      "source": [
        "next(r)"
      ]
    },
    {
      "cell_type": "code",
      "execution_count": null,
      "metadata": {
        "colab": {
          "base_uri": "https://localhost:8080/"
        },
        "id": "ZUUjlMmf0GF8",
        "outputId": "1e7812b0-608f-482f-abae-732a50f71b9d"
      },
      "outputs": [
        {
          "data": {
            "text/plain": [
              "2"
            ]
          },
          "execution_count": 23,
          "metadata": {},
          "output_type": "execute_result"
        }
      ],
      "source": [
        "next(r)"
      ]
    },
    {
      "cell_type": "code",
      "execution_count": null,
      "metadata": {
        "colab": {
          "base_uri": "https://localhost:8080/"
        },
        "id": "evNAWY8P0G_W",
        "outputId": "5a110ba6-0d5a-4c73-bb3d-7a12d2966cc7"
      },
      "outputs": [
        {
          "data": {
            "text/plain": [
              "<dict_keyiterator at 0x7b445b5bf510>"
            ]
          },
          "execution_count": 24,
          "metadata": {},
          "output_type": "execute_result"
        }
      ],
      "source": [
        "d=iter({\"name\":\"Prag\"})\n",
        "d"
      ]
    },
    {
      "cell_type": "code",
      "execution_count": null,
      "metadata": {
        "colab": {
          "base_uri": "https://localhost:8080/",
          "height": 35
        },
        "id": "2YVk0Rsl0NHy",
        "outputId": "937a6d10-e4fb-4a78-9d6f-20d114d45e4b"
      },
      "outputs": [
        {
          "data": {
            "application/vnd.google.colaboratory.intrinsic+json": {
              "type": "string"
            },
            "text/plain": [
              "'name'"
            ]
          },
          "execution_count": 25,
          "metadata": {},
          "output_type": "execute_result"
        }
      ],
      "source": [
        "next(d)"
      ]
    },
    {
      "cell_type": "markdown",
      "metadata": {
        "id": "gMI3i5qG0V46"
      },
      "source": [
        "## Generator function"
      ]
    },
    {
      "cell_type": "code",
      "execution_count": null,
      "metadata": {
        "colab": {
          "base_uri": "https://localhost:8080/"
        },
        "id": "KXeireSy0ON1",
        "outputId": "aacb19d1-d839-4809-a0dd-985819fdb3d7"
      },
      "outputs": [
        {
          "data": {
            "text/plain": [
              "[25, 100, 225]"
            ]
          },
          "execution_count": 27,
          "metadata": {},
          "output_type": "execute_result"
        }
      ],
      "source": [
        "# regular function >> takes a list and gives square of each of the list\n",
        "def square_number(n):\n",
        "    result = []\n",
        "    for i in n:\n",
        "        result.append(i**2)\n",
        "    return result\n",
        "square_number([5,10,15])"
      ]
    },
    {
      "cell_type": "code",
      "execution_count": null,
      "metadata": {
        "colab": {
          "base_uri": "https://localhost:8080/"
        },
        "id": "b0Xt2SJ60zad",
        "outputId": "edb8df5e-1cd2-4ea8-f603-88b4ecf41808"
      },
      "outputs": [
        {
          "data": {
            "text/plain": [
              "[0,\n",
              " 1,\n",
              " 4,\n",
              " 9,\n",
              " 16,\n",
              " 25,\n",
              " 36,\n",
              " 49,\n",
              " 64,\n",
              " 81,\n",
              " 100,\n",
              " 121,\n",
              " 144,\n",
              " 169,\n",
              " 196,\n",
              " 225,\n",
              " 256,\n",
              " 289,\n",
              " 324,\n",
              " 361]"
            ]
          },
          "execution_count": 32,
          "metadata": {},
          "output_type": "execute_result"
        }
      ],
      "source": [
        "# regular function calculates the square of the values and return it in one go\n",
        "# since its returning in one go >> memory usage will be more\n",
        "# it will take a lot of execution time if there is lot of computation\n",
        "# as all the computation will be done first and then the calculator will return in one go\n",
        "def square_number(n):\n",
        "    result = []\n",
        "    for i in range(n):\n",
        "        result.append(i**2)\n",
        "    return result\n",
        "square_number(20)"
      ]
    },
    {
      "cell_type": "markdown",
      "metadata": {
        "id": "Yh_tw94y2gqE"
      },
      "source": [
        "- To generate result one by one instead of one go"
      ]
    },
    {
      "cell_type": "markdown",
      "metadata": {
        "id": "bptIJayU2ol1"
      },
      "source": [
        "- using keyword yield >> general function uses return staement but a generator function uses yield"
      ]
    },
    {
      "cell_type": "code",
      "execution_count": null,
      "metadata": {
        "colab": {
          "base_uri": "https://localhost:8080/"
        },
        "id": "FGKcq73s1Qau",
        "outputId": "c9a5df38-b6e1-4eac-90ae-dc79cfd4d08e"
      },
      "outputs": [
        {
          "data": {
            "text/plain": [
              "<generator object square_number at 0x7b445b52b440>"
            ]
          },
          "execution_count": 35,
          "metadata": {},
          "output_type": "execute_result"
        }
      ],
      "source": [
        "# using generator\n",
        "def square_number(n):\n",
        "    for i in range(n):\n",
        "        yield i**2\n",
        "square_number(5) # iterator object"
      ]
    },
    {
      "cell_type": "code",
      "execution_count": null,
      "metadata": {
        "colab": {
          "base_uri": "https://localhost:8080/"
        },
        "id": "xZoGDKSS3C0h",
        "outputId": "ca589d76-5227-41a3-b68e-6bfb2383cdf7"
      },
      "outputs": [
        {
          "data": {
            "text/plain": [
              "<generator object square_number at 0x7b445b52bb90>"
            ]
          },
          "execution_count": 36,
          "metadata": {},
          "output_type": "execute_result"
        }
      ],
      "source": [
        "gen= square_number(5)\n",
        "gen"
      ]
    },
    {
      "cell_type": "code",
      "execution_count": null,
      "metadata": {
        "colab": {
          "base_uri": "https://localhost:8080/"
        },
        "id": "BWPLB-v93ghe",
        "outputId": "4d502e77-ba91-4653-9348-7d0fff2de5e1"
      },
      "outputs": [
        {
          "data": {
            "text/plain": [
              "0"
            ]
          },
          "execution_count": 37,
          "metadata": {},
          "output_type": "execute_result"
        }
      ],
      "source": [
        "next(gen)"
      ]
    },
    {
      "cell_type": "code",
      "execution_count": null,
      "metadata": {
        "colab": {
          "base_uri": "https://localhost:8080/"
        },
        "id": "2n-pbqI63h-1",
        "outputId": "48778174-e904-44cc-e9b0-6e8be9820588"
      },
      "outputs": [
        {
          "data": {
            "text/plain": [
              "1"
            ]
          },
          "execution_count": 38,
          "metadata": {},
          "output_type": "execute_result"
        }
      ],
      "source": [
        "next(gen)"
      ]
    },
    {
      "cell_type": "code",
      "execution_count": null,
      "metadata": {
        "colab": {
          "base_uri": "https://localhost:8080/"
        },
        "id": "gJkeeA3Y3mSC",
        "outputId": "1aca04f4-ed6e-46d1-c7f1-8625a64d3a20"
      },
      "outputs": [
        {
          "data": {
            "text/plain": [
              "4"
            ]
          },
          "execution_count": 39,
          "metadata": {},
          "output_type": "execute_result"
        }
      ],
      "source": [
        "next(gen)"
      ]
    },
    {
      "cell_type": "code",
      "execution_count": null,
      "metadata": {
        "colab": {
          "base_uri": "https://localhost:8080/"
        },
        "id": "FRioamYG3ns1",
        "outputId": "8e32e201-2c92-4fee-8a0d-be3e51f11d3c"
      },
      "outputs": [
        {
          "data": {
            "text/plain": [
              "9"
            ]
          },
          "execution_count": 40,
          "metadata": {},
          "output_type": "execute_result"
        }
      ],
      "source": [
        "next(gen)"
      ]
    },
    {
      "cell_type": "code",
      "execution_count": null,
      "metadata": {
        "colab": {
          "base_uri": "https://localhost:8080/"
        },
        "id": "nmJDcOae3pBc",
        "outputId": "79e0746b-d8f0-413a-fae0-f96e4254cdf8"
      },
      "outputs": [
        {
          "data": {
            "text/plain": [
              "16"
            ]
          },
          "execution_count": 41,
          "metadata": {},
          "output_type": "execute_result"
        }
      ],
      "source": [
        "next(gen)"
      ]
    },
    {
      "cell_type": "code",
      "execution_count": null,
      "metadata": {
        "colab": {
          "base_uri": "https://localhost:8080/"
        },
        "id": "RLRr1wkQ3qSZ",
        "outputId": "62b95741-a1fc-4d01-e659-62c396f70c75"
      },
      "outputs": [
        {
          "data": {
            "text/plain": [
              "range"
            ]
          },
          "execution_count": 42,
          "metadata": {},
          "output_type": "execute_result"
        }
      ],
      "source": [
        "range(1,10)\n",
        "range"
      ]
    },
    {
      "cell_type": "code",
      "execution_count": null,
      "metadata": {
        "colab": {
          "base_uri": "https://localhost:8080/"
        },
        "id": "Ls0VUOXV3ulK",
        "outputId": "062374e1-c7a9-43da-c7ae-d0b3115aec75"
      },
      "outputs": [
        {
          "name": "stdout",
          "output_type": "stream",
          "text": [
            "1\n",
            "2\n",
            "3\n",
            "4\n",
            "5\n",
            "6\n",
            "7\n",
            "8\n",
            "9\n"
          ]
        }
      ],
      "source": [
        "for i in range(1,10):\n",
        "    print(i)"
      ]
    },
    {
      "cell_type": "markdown",
      "metadata": {
        "id": "Z7OIpL_65FA0"
      },
      "source": [
        "## fibonacci series"
      ]
    },
    {
      "cell_type": "markdown",
      "metadata": {
        "id": "FiwXb15S5KOr"
      },
      "source": [
        "0,1,1,2,3,5,8,13,21..... sum of last two is calculated and going on"
      ]
    },
    {
      "cell_type": "code",
      "execution_count": null,
      "metadata": {
        "id": "bXd51xBz3ynh"
      },
      "outputs": [],
      "source": [
        "# fibonacci series\n",
        "\n",
        "def fib(n):\n",
        "    a = 0\n",
        "    b = 1\n",
        "    for i in range(n): # n=5 >> 0,1,2,3,4\n",
        "        yield a\n",
        "        a, b = b , a+b"
      ]
    },
    {
      "cell_type": "code",
      "execution_count": null,
      "metadata": {
        "id": "i33LcoIU57V-"
      },
      "outputs": [],
      "source": [
        "f=fib(10)"
      ]
    },
    {
      "cell_type": "code",
      "execution_count": null,
      "metadata": {
        "colab": {
          "base_uri": "https://localhost:8080/"
        },
        "id": "NUoN-rTd6mxd",
        "outputId": "f66cf8cd-8423-4c38-9992-eaaa483e0c4a"
      },
      "outputs": [
        {
          "data": {
            "text/plain": [
              "<generator object fib at 0x7b445bfd86d0>"
            ]
          },
          "execution_count": 48,
          "metadata": {},
          "output_type": "execute_result"
        }
      ],
      "source": [
        "f"
      ]
    },
    {
      "cell_type": "code",
      "execution_count": null,
      "metadata": {
        "colab": {
          "base_uri": "https://localhost:8080/"
        },
        "id": "19T7GHuL6yeF",
        "outputId": "8739f4a5-114b-4cd1-be88-e3848fed679f"
      },
      "outputs": [
        {
          "data": {
            "text/plain": [
              "0"
            ]
          },
          "execution_count": 49,
          "metadata": {},
          "output_type": "execute_result"
        }
      ],
      "source": [
        "next(f)"
      ]
    },
    {
      "cell_type": "code",
      "execution_count": null,
      "metadata": {
        "colab": {
          "base_uri": "https://localhost:8080/"
        },
        "id": "yVZXOoCe6z2g",
        "outputId": "c2ccc495-292c-4bb1-e769-2c6f245fa060"
      },
      "outputs": [
        {
          "data": {
            "text/plain": [
              "1"
            ]
          },
          "execution_count": 50,
          "metadata": {},
          "output_type": "execute_result"
        }
      ],
      "source": [
        "next(f)"
      ]
    },
    {
      "cell_type": "code",
      "execution_count": null,
      "metadata": {
        "colab": {
          "base_uri": "https://localhost:8080/"
        },
        "id": "JsHD8-MP609U",
        "outputId": "fded0c58-a1e1-4be7-e030-f626ee5d82f2"
      },
      "outputs": [
        {
          "data": {
            "text/plain": [
              "1"
            ]
          },
          "execution_count": 51,
          "metadata": {},
          "output_type": "execute_result"
        }
      ],
      "source": [
        "next(f)"
      ]
    },
    {
      "cell_type": "code",
      "execution_count": null,
      "metadata": {
        "colab": {
          "base_uri": "https://localhost:8080/"
        },
        "id": "ngrY5N8c62FA",
        "outputId": "06fccc9f-392a-4c05-f0a0-0dd4bde08e14"
      },
      "outputs": [
        {
          "data": {
            "text/plain": [
              "2"
            ]
          },
          "execution_count": 52,
          "metadata": {},
          "output_type": "execute_result"
        }
      ],
      "source": [
        "next(f)"
      ]
    },
    {
      "cell_type": "code",
      "execution_count": null,
      "metadata": {
        "colab": {
          "base_uri": "https://localhost:8080/"
        },
        "id": "MSOdBsI363J5",
        "outputId": "caccacce-9300-4b8c-e9eb-7a49918604a5"
      },
      "outputs": [
        {
          "data": {
            "text/plain": [
              "3"
            ]
          },
          "execution_count": 53,
          "metadata": {},
          "output_type": "execute_result"
        }
      ],
      "source": [
        "next(f)"
      ]
    },
    {
      "cell_type": "code",
      "execution_count": null,
      "metadata": {
        "colab": {
          "base_uri": "https://localhost:8080/"
        },
        "id": "ZCr-RQuM64SC",
        "outputId": "647fa36f-867c-4c79-8e97-2aff7c93131c"
      },
      "outputs": [
        {
          "name": "stdout",
          "output_type": "stream",
          "text": [
            "1\n",
            "1\n",
            "2\n",
            "3\n",
            "5\n",
            "8\n",
            "13\n",
            "21\n",
            "34\n",
            "55\n"
          ]
        }
      ],
      "source": [
        "a=0\n",
        "b=1\n",
        "for i in range(10):\n",
        "    a, b= b, a+b\n",
        "    i+=1\n",
        "    print(a)\n"
      ]
    },
    {
      "cell_type": "markdown",
      "metadata": {
        "id": "Zn7hW93T8-Vx"
      },
      "source": [
        "# Lambda function"
      ]
    },
    {
      "cell_type": "markdown",
      "metadata": {
        "id": "-qI3XUAd9Ent"
      },
      "source": [
        "- Anonymous function\n",
        "- syntax\n",
        "- lambda arguements : expressions"
      ]
    },
    {
      "cell_type": "code",
      "execution_count": null,
      "metadata": {
        "colab": {
          "base_uri": "https://localhost:8080/"
        },
        "id": "8ABkGdrq9CjX",
        "outputId": "a2775f84-9496-448f-9d62-78671ddd6a7b"
      },
      "outputs": [
        {
          "data": {
            "text/plain": [
              "4"
            ]
          },
          "execution_count": 56,
          "metadata": {},
          "output_type": "execute_result"
        }
      ],
      "source": [
        "def sq(x):\n",
        "    return x**2\n",
        "sq(2)"
      ]
    },
    {
      "cell_type": "code",
      "execution_count": null,
      "metadata": {
        "colab": {
          "base_uri": "https://localhost:8080/"
        },
        "id": "DfnlOgpG7Y6F",
        "outputId": "2913df4d-d827-44c9-c2e9-71166b3b320b"
      },
      "outputs": [
        {
          "data": {
            "text/plain": [
              "4"
            ]
          },
          "execution_count": 57,
          "metadata": {},
          "output_type": "execute_result"
        }
      ],
      "source": [
        "sqr=lambda x: x**2\n",
        "sqr(2)"
      ]
    },
    {
      "cell_type": "code",
      "execution_count": null,
      "metadata": {
        "colab": {
          "base_uri": "https://localhost:8080/"
        },
        "id": "MUnetTs2BRhl",
        "outputId": "8c239e24-067b-430b-e8db-9fbb2c2f7d46"
      },
      "outputs": [
        {
          "data": {
            "text/plain": [
              "7"
            ]
          },
          "execution_count": 58,
          "metadata": {},
          "output_type": "execute_result"
        }
      ],
      "source": [
        "add=lambda a, b : a+b\n",
        "add(2,5)"
      ]
    },
    {
      "cell_type": "code",
      "execution_count": null,
      "metadata": {
        "colab": {
          "base_uri": "https://localhost:8080/"
        },
        "id": "DqEbwttGBhGm",
        "outputId": "7b98ec3a-e951-452f-b7c4-f842dd4f612c"
      },
      "outputs": [
        {
          "data": {
            "text/plain": [
              "True"
            ]
          },
          "execution_count": 59,
          "metadata": {},
          "output_type": "execute_result"
        }
      ],
      "source": [
        "even=lambda x : x%2==0\n",
        "even(90)"
      ]
    },
    {
      "cell_type": "code",
      "execution_count": null,
      "metadata": {
        "colab": {
          "base_uri": "https://localhost:8080/"
        },
        "id": "ittIE1waBn6q",
        "outputId": "620892d9-27e6-4c87-ac5f-a91348fbb8ab"
      },
      "outputs": [
        {
          "data": {
            "text/plain": [
              "['Python', 'Data', 'Science']"
            ]
          },
          "execution_count": 60,
          "metadata": {},
          "output_type": "execute_result"
        }
      ],
      "source": [
        "x=[\"Python\",\"Data\",\"Science\"]\n",
        "x"
      ]
    },
    {
      "cell_type": "code",
      "execution_count": null,
      "metadata": {
        "colab": {
          "base_uri": "https://localhost:8080/"
        },
        "id": "__BGguqhBuKs",
        "outputId": "9e1a080b-1f6d-4751-ea4b-e01349b3255f"
      },
      "outputs": [
        {
          "data": {
            "text/plain": [
              "['Data', 'Python', 'Science']"
            ]
          },
          "execution_count": 62,
          "metadata": {},
          "output_type": "execute_result"
        }
      ],
      "source": [
        "sorted(x)"
      ]
    },
    {
      "cell_type": "code",
      "execution_count": null,
      "metadata": {
        "colab": {
          "base_uri": "https://localhost:8080/"
        },
        "id": "G26B-3w6BvYx",
        "outputId": "e5c2bdb0-38bf-47ec-c452-7cd0a947b5a3"
      },
      "outputs": [
        {
          "data": {
            "text/plain": [
              "4"
            ]
          },
          "execution_count": 63,
          "metadata": {},
          "output_type": "execute_result"
        }
      ],
      "source": [
        "# sort the list based on length of element of list\n",
        "le=lambda x: len(x)\n",
        "le(\"Data\")"
      ]
    },
    {
      "cell_type": "code",
      "execution_count": null,
      "metadata": {
        "colab": {
          "base_uri": "https://localhost:8080/"
        },
        "id": "iHhc2OfLCHFo",
        "outputId": "c8ba8251-5b5f-4a8a-9d72-9ba5961e9536"
      },
      "outputs": [
        {
          "data": {
            "text/plain": [
              "['Data', 'Python', 'Science']"
            ]
          },
          "execution_count": 64,
          "metadata": {},
          "output_type": "execute_result"
        }
      ],
      "source": [
        "sorted(x, key= lambda x:len(x))"
      ]
    },
    {
      "cell_type": "code",
      "execution_count": null,
      "metadata": {
        "colab": {
          "base_uri": "https://localhost:8080/"
        },
        "id": "6TMRidk9_-lK",
        "outputId": "b9f30165-0713-4c59-c456-a02b99d47736"
      },
      "outputs": [
        {
          "name": "stdout",
          "output_type": "stream",
          "text": [
            "20\n"
          ]
        }
      ],
      "source": [
        "def add_(*args):\n",
        "    return sum(args)\n",
        "\n",
        "print(add_(2,4,6,8))"
      ]
    },
    {
      "cell_type": "code",
      "execution_count": null,
      "metadata": {
        "colab": {
          "base_uri": "https://localhost:8080/"
        },
        "id": "woT9s-aUAyuR",
        "outputId": "bcd145d2-f4ba-4322-8511-81d72555d4a2"
      },
      "outputs": [
        {
          "data": {
            "text/plain": [
              "11"
            ]
          },
          "execution_count": 4,
          "metadata": {},
          "output_type": "execute_result"
        }
      ],
      "source": [
        "5+2*3"
      ]
    },
    {
      "cell_type": "code",
      "execution_count": null,
      "metadata": {
        "colab": {
          "base_uri": "https://localhost:8080/"
        },
        "id": "zpkDLIteCP2g",
        "outputId": "2729ff02-0d23-49f7-db5e-239d5efafe58"
      },
      "outputs": [
        {
          "data": {
            "text/plain": [
              "[0, 1, 1, 2, 3, 5, 8, 13, 21, 34]"
            ]
          },
          "execution_count": 65,
          "metadata": {},
          "output_type": "execute_result"
        }
      ],
      "source": [
        "fib= lambda n: n if n<=1 else fib(n-1) + fib(n-2)\n",
        "[fib(i) for i in range(10)]\n"
      ]
    },
    {
      "cell_type": "code",
      "execution_count": null,
      "metadata": {
        "colab": {
          "base_uri": "https://localhost:8080/"
        },
        "id": "SX3zJlNpC7vg",
        "outputId": "603d49cb-8111-49fe-e495-00dfb126f2b5"
      },
      "outputs": [
        {
          "data": {
            "text/plain": [
              "120"
            ]
          },
          "execution_count": 71,
          "metadata": {},
          "output_type": "execute_result"
        }
      ],
      "source": [
        "# factorial of 5\n",
        "def fact(n):\n",
        "    if n==0:\n",
        "        return 1\n",
        "    else:\n",
        "        return n*fact(n-1)\n",
        "fact(5)"
      ]
    },
    {
      "cell_type": "code",
      "execution_count": null,
      "metadata": {
        "id": "uiNA5zvAG4Wc"
      },
      "outputs": [],
      "source": [
        "fact= lambda n: 1 if n==0 else n*fac(n-1)"
      ]
    },
    {
      "cell_type": "code",
      "execution_count": null,
      "metadata": {
        "colab": {
          "base_uri": "https://localhost:8080/"
        },
        "id": "sF9-Kk9WIZ6d",
        "outputId": "c8c5b5a3-fdc1-4f54-feae-2dfaa8b13b0c"
      },
      "outputs": [
        {
          "data": {
            "text/plain": [
              "120"
            ]
          },
          "execution_count": 75,
          "metadata": {},
          "output_type": "execute_result"
        }
      ],
      "source": [
        "fact(5)"
      ]
    },
    {
      "cell_type": "markdown",
      "metadata": {
        "id": "0iGT23bjIj7-"
      },
      "source": [
        "# map function"
      ]
    },
    {
      "cell_type": "markdown",
      "metadata": {
        "id": "04B6t9fEImhD"
      },
      "source": [
        "Executes the specified function for each of items of the iterable"
      ]
    },
    {
      "cell_type": "code",
      "execution_count": null,
      "metadata": {
        "id": "XMf79W84IedL"
      },
      "outputs": [],
      "source": [
        "# syntax\n",
        "# map(func, *iterables)"
      ]
    },
    {
      "cell_type": "code",
      "execution_count": null,
      "metadata": {
        "colab": {
          "base_uri": "https://localhost:8080/"
        },
        "id": "i3nMSSLLJMqW",
        "outputId": "b5e64371-afab-4da3-f4db-4d2460cd91da"
      },
      "outputs": [
        {
          "name": "stdout",
          "output_type": "stream",
          "text": [
            "Help on class map in module builtins:\n",
            "\n",
            "class map(object)\n",
            " |  map(func, *iterables) --> map object\n",
            " |  \n",
            " |  Make an iterator that computes the function using arguments from\n",
            " |  each of the iterables.  Stops when the shortest iterable is exhausted.\n",
            " |  \n",
            " |  Methods defined here:\n",
            " |  \n",
            " |  __getattribute__(self, name, /)\n",
            " |      Return getattr(self, name).\n",
            " |  \n",
            " |  __iter__(self, /)\n",
            " |      Implement iter(self).\n",
            " |  \n",
            " |  __next__(self, /)\n",
            " |      Implement next(self).\n",
            " |  \n",
            " |  __reduce__(...)\n",
            " |      Return state information for pickling.\n",
            " |  \n",
            " |  ----------------------------------------------------------------------\n",
            " |  Static methods defined here:\n",
            " |  \n",
            " |  __new__(*args, **kwargs)\n",
            " |      Create and return a new object.  See help(type) for accurate signature.\n",
            "\n"
          ]
        }
      ],
      "source": [
        "help(map)"
      ]
    },
    {
      "cell_type": "code",
      "execution_count": null,
      "metadata": {
        "id": "Sbfcu0XoJOWh"
      },
      "outputs": [],
      "source": [
        "l=[1,2,3,4,5]\n",
        "def sqr(l):\n",
        "    sq=[]\n",
        "    for i in l:\n",
        "        sq.append(i**2)\n",
        "    return sq"
      ]
    },
    {
      "cell_type": "code",
      "execution_count": null,
      "metadata": {
        "colab": {
          "base_uri": "https://localhost:8080/"
        },
        "id": "QbFCA_BQJfSz",
        "outputId": "0effd8f4-ae99-448a-b1da-11dbb1546442"
      },
      "outputs": [
        {
          "data": {
            "text/plain": [
              "[1, 4, 9, 16, 25]"
            ]
          },
          "execution_count": 103,
          "metadata": {},
          "output_type": "execute_result"
        }
      ],
      "source": [
        "sqr(l)"
      ]
    },
    {
      "cell_type": "code",
      "execution_count": null,
      "metadata": {
        "id": "MzLubEoLJiB0"
      },
      "outputs": [],
      "source": [
        "def sq(x):\n",
        "    return x**2"
      ]
    },
    {
      "cell_type": "code",
      "execution_count": null,
      "metadata": {
        "colab": {
          "base_uri": "https://localhost:8080/"
        },
        "id": "CUtIi9p_JmJd",
        "outputId": "539547be-0f0f-4eff-cae7-0ada38be8b5c"
      },
      "outputs": [
        {
          "data": {
            "text/plain": [
              "100"
            ]
          },
          "execution_count": 105,
          "metadata": {},
          "output_type": "execute_result"
        }
      ],
      "source": [
        "sq(10)"
      ]
    },
    {
      "cell_type": "code",
      "execution_count": null,
      "metadata": {
        "colab": {
          "base_uri": "https://localhost:8080/"
        },
        "id": "pRgTYDDzJndX",
        "outputId": "4bcc3fda-cfe1-4ed7-e2a6-a7864666bbef"
      },
      "outputs": [
        {
          "data": {
            "text/plain": [
              "<map at 0x7b445be8f310>"
            ]
          },
          "execution_count": 119,
          "metadata": {},
          "output_type": "execute_result"
        }
      ],
      "source": [
        "# map(func, iterables)\n",
        "map(sq,l)"
      ]
    },
    {
      "cell_type": "markdown",
      "metadata": {
        "id": "q1_JxgCGlrqK"
      },
      "source": [
        "# OOPS"
      ]
    },
    {
      "cell_type": "markdown",
      "metadata": {
        "id": "tCLRUcqWptDE"
      },
      "source": [
        "Object Oriented Programming System << A way to programming python"
      ]
    },
    {
      "cell_type": "code",
      "execution_count": 1,
      "metadata": {
        "colab": {
          "base_uri": "https://localhost:8080/"
        },
        "id": "GYxqIIxBmGW2",
        "outputId": "4e036bce-7d0e-493f-86c9-4e1cdc7aa00b"
      },
      "outputs": [
        {
          "data": {
            "text/plain": [
              "5"
            ]
          },
          "execution_count": 1,
          "metadata": {},
          "output_type": "execute_result"
        }
      ],
      "source": [
        "a = 5\n",
        "a"
      ]
    },
    {
      "cell_type": "code",
      "execution_count": 2,
      "metadata": {
        "colab": {
          "base_uri": "https://localhost:8080/"
        },
        "id": "r60T7n3sp2Uk",
        "outputId": "4cd30096-492d-4a71-b877-e95a70702399"
      },
      "outputs": [
        {
          "data": {
            "text/plain": [
              "int"
            ]
          },
          "execution_count": 2,
          "metadata": {},
          "output_type": "execute_result"
        }
      ],
      "source": [
        "type(a)"
      ]
    },
    {
      "cell_type": "code",
      "execution_count": 3,
      "metadata": {
        "colab": {
          "base_uri": "https://localhost:8080/"
        },
        "id": "bRPZCqfgp8ex",
        "outputId": "9df1dbbf-6314-4c1b-de52-bb342491cf3a"
      },
      "outputs": [
        {
          "name": "stdout",
          "output_type": "stream",
          "text": [
            "<class 'int'>\n"
          ]
        }
      ],
      "source": [
        "print(type(a))"
      ]
    },
    {
      "cell_type": "code",
      "execution_count": null,
      "metadata": {
        "id": "k93qSldgu4rl"
      },
      "outputs": [],
      "source": []
    },
    {
      "cell_type": "code",
      "execution_count": 4,
      "metadata": {
        "colab": {
          "base_uri": "https://localhost:8080/"
        },
        "id": "YyvYJ21ap_Nq",
        "outputId": "095cee27-49a8-4e65-f341-91a139c58197"
      },
      "outputs": [
        {
          "name": "stdout",
          "output_type": "stream",
          "text": [
            "<class 'str'>\n"
          ]
        }
      ],
      "source": [
        "s = \"abc\"\n",
        "print(type(s))"
      ]
    },
    {
      "cell_type": "markdown",
      "metadata": {
        "id": "zvC6WCOIuvpE"
      },
      "source": [
        "## Class"
      ]
    },
    {
      "cell_type": "markdown",
      "metadata": {
        "id": "m4p4c2Hyuxu-"
      },
      "source": [
        "- Blueprint of template of creating objects"
      ]
    },
    {
      "cell_type": "markdown",
      "metadata": {},
      "source": [
        "Examples\n",
        "- We are different objects of class human being\n",
        "- Gujhiya maker / Thekua maker/ "
      ]
    },
    {
      "cell_type": "code",
      "execution_count": 3,
      "metadata": {
        "id": "L6ttMf65qFQn"
      },
      "outputs": [],
      "source": [
        "class Car:  # naming convention >> upperCamelCase\n",
        "    pass "
      ]
    },
    {
      "cell_type": "code",
      "execution_count": 4,
      "metadata": {},
      "outputs": [],
      "source": [
        "c1 = Car() # instance / object"
      ]
    },
    {
      "cell_type": "code",
      "execution_count": 5,
      "metadata": {},
      "outputs": [
        {
          "name": "stdout",
          "output_type": "stream",
          "text": [
            "<class '__main__.Car'>\n"
          ]
        }
      ],
      "source": [
        "print(type(c1))"
      ]
    },
    {
      "cell_type": "markdown",
      "metadata": {},
      "source": [
        "# Why OOPS ?\n",
        "- We already had functions but still need OOPS----\n",
        "- A project can have many components, say backend(f1, f2), frontend(f3, f4), data pipe-line(f5, f6)\n",
        "\n"
      ]
    },
    {
      "cell_type": "markdown",
      "metadata": {},
      "source": [
        "def f1():\n",
        "    pass\n",
        "\n",
        "def f6():\n",
        "    pass\n",
        "\n",
        "def f4():\n",
        "    pass\n",
        "\n",
        "def f2():\n",
        "    pass\n",
        "\n",
        "def f5():\n",
        "    pass\n",
        "\n",
        "def f3():\n",
        "    pass\n",
        "\n",
        "Here all the functions are mixed and not arranged\n",
        "- OOPS helps you to arrange the required in functions in respective classes"
      ]
    },
    {
      "cell_type": "code",
      "execution_count": 6,
      "metadata": {},
      "outputs": [],
      "source": [
        "class Car:\n",
        "    pass"
      ]
    },
    {
      "cell_type": "code",
      "execution_count": 7,
      "metadata": {},
      "outputs": [
        {
          "name": "stdout",
          "output_type": "stream",
          "text": [
            "<class '__main__.Car'>\n"
          ]
        }
      ],
      "source": [
        "c1 = Car()\n",
        "print(type(c1))"
      ]
    },
    {
      "cell_type": "code",
      "execution_count": null,
      "metadata": {},
      "outputs": [],
      "source": [
        "class Car:  \n",
        "    def accelerate(self):   # function / method of a Car\n",
        "        print(\"Car is accelerating..\")\n",
        "\n",
        "    # in OOPS function are called method\n",
        "    "
      ]
    },
    {
      "cell_type": "markdown",
      "metadata": {},
      "source": [
        "- self variable that represent instance of the class using which you can access method/ function of class, also attribute property data of the class.\n",
        "- self makes sure that each objects knows that the method is associated with it.\n",
        "- In other words methods is refernced to that particular object"
      ]
    },
    {
      "cell_type": "code",
      "execution_count": 23,
      "metadata": {},
      "outputs": [],
      "source": [
        "c1 = Car()"
      ]
    },
    {
      "cell_type": "code",
      "execution_count": 24,
      "metadata": {},
      "outputs": [
        {
          "name": "stdout",
          "output_type": "stream",
          "text": [
            "Car is accelerating..\n"
          ]
        }
      ],
      "source": [
        "c1.accelerate()   #Throw an error"
      ]
    },
    {
      "cell_type": "code",
      "execution_count": 25,
      "metadata": {},
      "outputs": [
        {
          "data": {
            "text/plain": [
              "<bound method Car.accelerate of <__main__.Car object at 0x00000280AE282E40>>"
            ]
          },
          "execution_count": 25,
          "metadata": {},
          "output_type": "execute_result"
        }
      ],
      "source": [
        "c1.accelerate  # c1 is object / instance like c1 / c2 / c3 all will have common function accelerate"
      ]
    },
    {
      "cell_type": "code",
      "execution_count": 26,
      "metadata": {},
      "outputs": [
        {
          "name": "stdout",
          "output_type": "stream",
          "text": [
            "Car is accelerating..\n"
          ]
        }
      ],
      "source": [
        "c1 = Car()\n",
        "c1.accelerate()"
      ]
    },
    {
      "cell_type": "code",
      "execution_count": 27,
      "metadata": {},
      "outputs": [
        {
          "name": "stdout",
          "output_type": "stream",
          "text": [
            "Car is accelerating..\n"
          ]
        }
      ],
      "source": [
        "c2 = Car()\n",
        "c2.accelerate()"
      ]
    },
    {
      "cell_type": "code",
      "execution_count": 29,
      "metadata": {},
      "outputs": [
        {
          "name": "stdout",
          "output_type": "stream",
          "text": [
            "Car is accelerating..\n"
          ]
        }
      ],
      "source": [
        "momo = Car()\n",
        "momo.accelerate()"
      ]
    },
    {
      "cell_type": "code",
      "execution_count": 30,
      "metadata": {},
      "outputs": [],
      "source": [
        "class Car:\n",
        "    def accelerate(self):\n",
        "        print(\"car is accelerating...\")\n",
        "    def brake(self):\n",
        "        print(\"car is stopping...\")\n"
      ]
    },
    {
      "cell_type": "code",
      "execution_count": 31,
      "metadata": {},
      "outputs": [
        {
          "name": "stdout",
          "output_type": "stream",
          "text": [
            "car is stopping...\n"
          ]
        }
      ],
      "source": [
        "c1 = Car()\n",
        "c1.brake()"
      ]
    },
    {
      "cell_type": "code",
      "execution_count": 32,
      "metadata": {},
      "outputs": [
        {
          "name": "stdout",
          "output_type": "stream",
          "text": [
            "car is accelerating...\n",
            "car is stopping...\n"
          ]
        }
      ],
      "source": [
        "c = Car()\n",
        "c.accelerate()\n",
        "c.brake()"
      ]
    },
    {
      "cell_type": "code",
      "execution_count": 36,
      "metadata": {},
      "outputs": [],
      "source": [
        "class Bank:\n",
        "    def deposit(momo): # self is a variablbe... self = anything.. best practice is using self\n",
        "        print(\"I am depositing the money...\")\n",
        "    def withdraw(momo):\n",
        "        print(\"I am withdrawing the money..\")"
      ]
    },
    {
      "cell_type": "code",
      "execution_count": 37,
      "metadata": {},
      "outputs": [
        {
          "name": "stdout",
          "output_type": "stream",
          "text": [
            "I am depositing the money...\n",
            "I am withdrawing the money..\n"
          ]
        }
      ],
      "source": [
        "c1 = Bank()\n",
        "c1.deposit()\n",
        "c1.withdraw()"
      ]
    },
    {
      "cell_type": "code",
      "execution_count": 38,
      "metadata": {},
      "outputs": [
        {
          "name": "stdout",
          "output_type": "stream",
          "text": [
            "I am depositing the money...\n"
          ]
        }
      ],
      "source": [
        "c2 = Bank()\n",
        "c2.deposit()"
      ]
    },
    {
      "cell_type": "code",
      "execution_count": 39,
      "metadata": {},
      "outputs": [],
      "source": [
        "# Passing data input in the class:\n",
        "class Bank:\n",
        "    def deposit(self, amount_deposit): # self is a variablbe... self = anything.. best practice is using self\n",
        "        print(\"I am depositing the money...\")\n",
        "    def withdraw(self, amount_withdraw):\n",
        "        print(\"I am withdrawing the money..\")"
      ]
    },
    {
      "cell_type": "code",
      "execution_count": 44,
      "metadata": {},
      "outputs": [
        {
          "name": "stdout",
          "output_type": "stream",
          "text": [
            "I am depositing the money...\n"
          ]
        }
      ],
      "source": [
        "ajay = Bank()\n",
        "ajay.deposit(50)"
      ]
    },
    {
      "cell_type": "code",
      "execution_count": 45,
      "metadata": {},
      "outputs": [
        {
          "name": "stdout",
          "output_type": "stream",
          "text": [
            "I am withdrawing the money..\n"
          ]
        }
      ],
      "source": [
        "prag = Bank()\n",
        "prag.withdraw(1000)"
      ]
    },
    {
      "cell_type": "code",
      "execution_count": 48,
      "metadata": {},
      "outputs": [],
      "source": [
        "# Default amount: Here amount is attribute, property, data of class bank\n",
        "class Bank:\n",
        "    amount = 1000\n",
        "    def deposit(self, amount_deposit): # self is a variablbe... self = anything.. best practice is using self\n",
        "        print(\"I am depositing the money...\")\n",
        "    def withdraw(self, amount_withdraw):\n",
        "        print(\"I am withdrawing the money..\")"
      ]
    },
    {
      "cell_type": "code",
      "execution_count": 49,
      "metadata": {},
      "outputs": [
        {
          "name": "stdout",
          "output_type": "stream",
          "text": [
            "I am depositing the money...\n"
          ]
        }
      ],
      "source": [
        "prag = Bank()\n",
        "prag.deposit(1000)"
      ]
    },
    {
      "cell_type": "code",
      "execution_count": 50,
      "metadata": {},
      "outputs": [
        {
          "data": {
            "text/plain": [
              "1000"
            ]
          },
          "execution_count": 50,
          "metadata": {},
          "output_type": "execute_result"
        }
      ],
      "source": [
        "# Attribute / Property can also accessed in the same way method and functions are accessed\n",
        "prag.amount"
      ]
    },
    {
      "cell_type": "code",
      "execution_count": 1,
      "metadata": {},
      "outputs": [],
      "source": [
        "# Extract odd and even numbers from the list\n",
        "class ListOperations:\n",
        "    l = [1, 2, 3, 4, 5, 6, 7, 8]\n",
        "    def extract_even(self, l):\n",
        "        l1 =[]\n",
        "        for i in l:\n",
        "            if i % 2 ==0:\n",
        "                l1.append(i)\n",
        "        return l1\n",
        "    def extract_odd(self, l):\n",
        "        l1 =[]\n",
        "        for i in l:\n",
        "            if i % 2 !=0:\n",
        "                l1.append(i)\n",
        "        return l1\n",
        "        "
      ]
    },
    {
      "cell_type": "code",
      "execution_count": 2,
      "metadata": {},
      "outputs": [],
      "source": [
        "ops = ListOperations()"
      ]
    },
    {
      "cell_type": "code",
      "execution_count": 3,
      "metadata": {},
      "outputs": [
        {
          "data": {
            "text/plain": [
              "[1, 2, 3, 4, 5, 6, 7, 8]"
            ]
          },
          "execution_count": 3,
          "metadata": {},
          "output_type": "execute_result"
        }
      ],
      "source": [
        "ops.l"
      ]
    },
    {
      "cell_type": "code",
      "execution_count": 4,
      "metadata": {},
      "outputs": [
        {
          "data": {
            "text/plain": [
              "[2, 4, 6, 8]"
            ]
          },
          "execution_count": 4,
          "metadata": {},
          "output_type": "execute_result"
        }
      ],
      "source": [
        "ops.extract_even(ops.l)\n"
      ]
    },
    {
      "cell_type": "code",
      "execution_count": 5,
      "metadata": {},
      "outputs": [
        {
          "data": {
            "text/plain": [
              "[1, 3, 5, 7]"
            ]
          },
          "execution_count": 5,
          "metadata": {},
          "output_type": "execute_result"
        }
      ],
      "source": [
        "ops.extract_odd(ops.l)"
      ]
    },
    {
      "cell_type": "code",
      "execution_count": 6,
      "metadata": {},
      "outputs": [
        {
          "data": {
            "text/plain": [
              "[1, 3, 9, 35, 89]"
            ]
          },
          "execution_count": 6,
          "metadata": {},
          "output_type": "execute_result"
        }
      ],
      "source": [
        "ops.extract_odd([1,2,3,4,9,12,35,89])"
      ]
    },
    {
      "cell_type": "markdown",
      "metadata": {},
      "source": [
        "- If you make any object the atttribute i is fixed\n",
        "- inspite of passing a differnt list above you are still getting the fixed list. l([1,2,3,4,5,90,23,59])\n",
        "- You want to take the attribute value of the class for each object differently"
      ]
    },
    {
      "cell_type": "code",
      "execution_count": 9,
      "metadata": {},
      "outputs": [],
      "source": [
        "class ListOperations:\n",
        "    def __init__(self, l):  # magic method / dunder method << __init__ means initialization of variable\n",
        "        self.l = l\n",
        "\n",
        "    def extract_even(self, l):\n",
        "        l1 = []\n",
        "        for i in l:\n",
        "            if i % 2 ==0:\n",
        "                l1.append(i)\n",
        "        return l1\n",
        "    def extract_odd(self, l):\n",
        "        l1 =[]\n",
        "        for i in l:\n",
        "            if i % 2 !=0:\n",
        "                l1.append(i)\n",
        "        return l1"
      ]
    },
    {
      "cell_type": "markdown",
      "metadata": {},
      "source": [
        "- throw an error, while making object/ instance of the class, the first method that is executed is __init__\n",
        "- and __init__ needs an arguement like l"
      ]
    },
    {
      "cell_type": "code",
      "execution_count": null,
      "metadata": {},
      "outputs": [
        {
          "ename": "NameError",
          "evalue": "name 'l' is not defined",
          "output_type": "error",
          "traceback": [
            "\u001b[31m---------------------------------------------------------------------------\u001b[39m",
            "\u001b[31mNameError\u001b[39m                                 Traceback (most recent call last)",
            "\u001b[36mCell\u001b[39m\u001b[36m \u001b[39m\u001b[32mIn[10]\u001b[39m\u001b[32m, line 1\u001b[39m\n\u001b[32m----> \u001b[39m\u001b[32m1\u001b[39m ops1 = ListOperations(\u001b[43ml\u001b[49m)\n",
            "\u001b[31mNameError\u001b[39m: name 'l' is not defined"
          ]
        }
      ],
      "source": [
        "ops1 = ListOperations()  "
      ]
    },
    {
      "cell_type": "code",
      "execution_count": 11,
      "metadata": {},
      "outputs": [
        {
          "data": {
            "text/plain": [
              "[1, 2, 3, 4, 5, 6, 7]"
            ]
          },
          "execution_count": 11,
          "metadata": {},
          "output_type": "execute_result"
        }
      ],
      "source": [
        "ops1 = ListOperations([1,2,3,4,5,6,7]) \n",
        "ops1.l "
      ]
    },
    {
      "cell_type": "code",
      "execution_count": 12,
      "metadata": {},
      "outputs": [
        {
          "data": {
            "text/plain": [
              "[1, 20, 35, 74, 65, 96, 7]"
            ]
          },
          "execution_count": 12,
          "metadata": {},
          "output_type": "execute_result"
        }
      ],
      "source": [
        "ops1 = ListOperations([1,20,35,74,65,96,7]) \n",
        "ops1.l "
      ]
    },
    {
      "cell_type": "markdown",
      "metadata": {},
      "source": [
        "- hence in this way each time l initialise with new value"
      ]
    },
    {
      "cell_type": "code",
      "execution_count": 13,
      "metadata": {},
      "outputs": [],
      "source": [
        "class ListOperations:\n",
        "    def __init__(self, l):  # magic method / dunder method << __init__ means initialization of variable\n",
        "        self.l = l\n",
        "\n",
        "    def extract_even(self): # be careful as init has been used only pass self in the method \n",
        "        l = self.l\n",
        "        l1 = []\n",
        "        for i in l:\n",
        "            if i % 2 ==0:\n",
        "                l1.append(i)\n",
        "        return l1\n",
        "    def extract_odd(self):\n",
        "        l = self.l\n",
        "        l1 =[]\n",
        "        for i in l:\n",
        "            if i % 2 !=0:\n",
        "                l1.append(i)\n",
        "        return l1"
      ]
    },
    {
      "cell_type": "code",
      "execution_count": 16,
      "metadata": {},
      "outputs": [
        {
          "data": {
            "text/plain": [
              "[8, 12]"
            ]
          },
          "execution_count": 16,
          "metadata": {},
          "output_type": "execute_result"
        }
      ],
      "source": [
        "ops1 = ListOperations([1, 8, 9, 11, 12])\n",
        "ops1.extract_even() # no need to pass any list here"
      ]
    },
    {
      "cell_type": "code",
      "execution_count": 17,
      "metadata": {},
      "outputs": [
        {
          "data": {
            "text/plain": [
              "[1, 9, 11]"
            ]
          },
          "execution_count": 17,
          "metadata": {},
          "output_type": "execute_result"
        }
      ],
      "source": [
        "ops1 = ListOperations([1, 8, 9, 11, 12])\n",
        "ops1.extract_odd()"
      ]
    },
    {
      "cell_type": "code",
      "execution_count": 21,
      "metadata": {},
      "outputs": [],
      "source": [
        "class ListOperations:\n",
        "    def __init__(self, l):  # magic method / dunder method << __init__ means initialization of variable\n",
        "        self.l2 = l # everywhere you will be able to access l using aelf.l2 \n",
        "\n",
        "    def extract_even(self): # be careful as init has been used only pass self in the method \n",
        "        l = self.l2\n",
        "        l1 = []\n",
        "        for i in l:\n",
        "            if i % 2 ==0:\n",
        "                l1.append(i)\n",
        "        return l1\n",
        "    def extract_odd(self):\n",
        "        l = self.l2\n",
        "        l1 =[]\n",
        "        for i in l:\n",
        "            if i % 2 !=0:\n",
        "                l1.append(i)\n",
        "        return l1"
      ]
    },
    {
      "cell_type": "code",
      "execution_count": 22,
      "metadata": {},
      "outputs": [
        {
          "data": {
            "text/plain": [
              "[8, 12]"
            ]
          },
          "execution_count": 22,
          "metadata": {},
          "output_type": "execute_result"
        }
      ],
      "source": [
        "ops1 = ListOperations([1, 8, 9, 11, 12])\n",
        "ops1.extract_even() # no need to pass any list here"
      ]
    },
    {
      "cell_type": "markdown",
      "metadata": {},
      "source": [
        "## Multiple attributes"
      ]
    },
    {
      "cell_type": "code",
      "execution_count": 23,
      "metadata": {},
      "outputs": [],
      "source": [
        "class Book:\n",
        "    def __init__(self, name, author, title):\n",
        "        self.name_of_book = name\n",
        "        self.author_name = author\n",
        "        self.title_name = title\n",
        "    \n",
        "    def extract_details_name_title(self):\n",
        "        print(self.name_of_book, self.title_name)\n",
        "\n",
        "    def extract_details_name_author(self):\n",
        "        print(self.name_of_book, self.author_name)\n"
      ]
    },
    {
      "cell_type": "code",
      "execution_count": 24,
      "metadata": {},
      "outputs": [],
      "source": [
        "student1 = Book(\"DS\", \"Anne\", \"Data structure\")"
      ]
    },
    {
      "cell_type": "code",
      "execution_count": 26,
      "metadata": {},
      "outputs": [
        {
          "name": "stdout",
          "output_type": "stream",
          "text": [
            "DS Anne\n"
          ]
        }
      ],
      "source": [
        "student1.extract_details_name_author()"
      ]
    },
    {
      "cell_type": "code",
      "execution_count": 27,
      "metadata": {},
      "outputs": [
        {
          "name": "stdout",
          "output_type": "stream",
          "text": [
            "DS Data structure\n"
          ]
        }
      ],
      "source": [
        "student1.extract_details_name_title()"
      ]
    },
    {
      "cell_type": "code",
      "execution_count": 28,
      "metadata": {},
      "outputs": [],
      "source": [
        "student2 = Book(\"Fairy tales\", \"Disney\", \"Cindrella\")"
      ]
    },
    {
      "cell_type": "code",
      "execution_count": 29,
      "metadata": {},
      "outputs": [
        {
          "name": "stdout",
          "output_type": "stream",
          "text": [
            "Fairy tales Cindrella\n"
          ]
        }
      ],
      "source": [
        "student2.extract_details_name_title()"
      ]
    },
    {
      "cell_type": "code",
      "execution_count": 30,
      "metadata": {},
      "outputs": [
        {
          "name": "stdout",
          "output_type": "stream",
          "text": [
            "Fairy tales Disney\n"
          ]
        }
      ],
      "source": [
        "student2.extract_details_name_author()"
      ]
    },
    {
      "cell_type": "code",
      "execution_count": 32,
      "metadata": {},
      "outputs": [],
      "source": [
        "class Book:\n",
        "    def __init__(self):\n",
        "        self.name_of_book = \"The art of being alone\"\n",
        "        self.author_name = \"Renuka Gauvrani\"\n",
        "        self.title_name = \"Love yourself\"\n",
        "    \n",
        "    def extract_details_name_title(self):\n",
        "        print(self.name_of_book, self.title_name)\n",
        "\n",
        "    def extract_details_name_author(self):\n",
        "        print(self.name_of_book, self.author_name)"
      ]
    },
    {
      "cell_type": "code",
      "execution_count": 33,
      "metadata": {},
      "outputs": [
        {
          "name": "stdout",
          "output_type": "stream",
          "text": [
            "The art of being alone Renuka Gauvrani\n"
          ]
        }
      ],
      "source": [
        "student1 = Book()\n",
        "student1.extract_details_name_author()"
      ]
    },
    {
      "cell_type": "markdown",
      "metadata": {},
      "source": [
        "## Inheritance"
      ]
    },
    {
      "cell_type": "markdown",
      "metadata": {},
      "source": [
        "- It refers to process of child receiving the properties of parent class\n",
        "- child class inherit the properties of parents class"
      ]
    },
    {
      "cell_type": "code",
      "execution_count": 1,
      "metadata": {},
      "outputs": [],
      "source": [
        "# Syntax\n",
        "# class BaseClass:\n",
        "#     # body of base class\n",
        "# class DerivedClass(BaseClass):\n",
        "#     # body of derived class"
      ]
    },
    {
      "cell_type": "markdown",
      "metadata": {},
      "source": [
        "### Single Inheritence"
      ]
    },
    {
      "attachments": {
        "image.png": {
          "image/png": "[encoded data removed]"
        }
      },
      "cell_type": "markdown",
      "metadata": {},
      "source": [
        "- When a derived class has only one parent class\n",
        "\n",
        "\n",
        "![image.png](attachment:image.png)"
      ]
    },
    {
      "cell_type": "code",
      "execution_count": 2,
      "metadata": {},
      "outputs": [],
      "source": [
        "# example\n",
        "class Father:\n",
        "    def father_property(self):\n",
        "        print(\"This the father property..\")"
      ]
    },
    {
      "cell_type": "code",
      "execution_count": 3,
      "metadata": {},
      "outputs": [],
      "source": [
        "class Son(Father):\n",
        "    def job(Self):\n",
        "        print(\"Son has property from job..\")"
      ]
    },
    {
      "cell_type": "code",
      "execution_count": 4,
      "metadata": {},
      "outputs": [],
      "source": [
        "child_obj = Son()  #object/instance of Son class"
      ]
    },
    {
      "cell_type": "code",
      "execution_count": 6,
      "metadata": {},
      "outputs": [
        {
          "name": "stdout",
          "output_type": "stream",
          "text": [
            "This the father property..\n"
          ]
        }
      ],
      "source": [
        "# A child can have his property and also his father property\n",
        "child_obj.father_property()"
      ]
    },
    {
      "cell_type": "code",
      "execution_count": 7,
      "metadata": {},
      "outputs": [
        {
          "name": "stdout",
          "output_type": "stream",
          "text": [
            "Son has property from job..\n"
          ]
        }
      ],
      "source": [
        "child_obj.job()"
      ]
    },
    {
      "cell_type": "code",
      "execution_count": 8,
      "metadata": {},
      "outputs": [
        {
          "name": "stdout",
          "output_type": "stream",
          "text": [
            "This the father property..\n"
          ]
        }
      ],
      "source": [
        "# A father will have only his property\n",
        "father_obj = Father()\n",
        "father_obj.father_property()"
      ]
    },
    {
      "cell_type": "code",
      "execution_count": 9,
      "metadata": {},
      "outputs": [
        {
          "ename": "AttributeError",
          "evalue": "'Father' object has no attribute 'job'",
          "output_type": "error",
          "traceback": [
            "\u001b[31m---------------------------------------------------------------------------\u001b[39m",
            "\u001b[31mAttributeError\u001b[39m                            Traceback (most recent call last)",
            "\u001b[36mCell\u001b[39m\u001b[36m \u001b[39m\u001b[32mIn[9]\u001b[39m\u001b[32m, line 1\u001b[39m\n\u001b[32m----> \u001b[39m\u001b[32m1\u001b[39m \u001b[43mfather_obj\u001b[49m\u001b[43m.\u001b[49m\u001b[43mjob\u001b[49m()\n",
            "\u001b[31mAttributeError\u001b[39m: 'Father' object has no attribute 'job'"
          ]
        }
      ],
      "source": [
        "father_obj.job()"
      ]
    },
    {
      "cell_type": "markdown",
      "metadata": {},
      "source": [
        "- Parent class will not have access to the property (method/ attribute) of child class but child class will have access to both."
      ]
    },
    {
      "cell_type": "code",
      "execution_count": 11,
      "metadata": {},
      "outputs": [],
      "source": [
        "class Fruit:\n",
        "    def fruit_info(self):\n",
        "        print(\"Inside parent class\")\n",
        "class Apple(Fruit):\n",
        "    def apple_info(self):\n",
        "        print(\"Inside the child class..\")"
      ]
    },
    {
      "cell_type": "code",
      "execution_count": 12,
      "metadata": {},
      "outputs": [
        {
          "name": "stdout",
          "output_type": "stream",
          "text": [
            "Inside the child class..\n"
          ]
        }
      ],
      "source": [
        "obj = Apple()\n",
        "obj.apple_info()"
      ]
    },
    {
      "cell_type": "code",
      "execution_count": 13,
      "metadata": {},
      "outputs": [
        {
          "name": "stdout",
          "output_type": "stream",
          "text": [
            "Inside parent class\n"
          ]
        }
      ],
      "source": [
        "obj.fruit_info()"
      ]
    },
    {
      "cell_type": "code",
      "execution_count": 14,
      "metadata": {},
      "outputs": [
        {
          "name": "stdout",
          "output_type": "stream",
          "text": [
            "Inside parent class\n"
          ]
        }
      ],
      "source": [
        "par = Fruit()\n",
        "par.fruit_info()"
      ]
    },
    {
      "cell_type": "markdown",
      "metadata": {},
      "source": [
        "- Method overinding\n",
        "- re-writing / re-defining methods of parent class in derived /child class\n",
        "- child class is very powerfull\n",
        "- child class have all the power to override the method of his parent class\n",
        "- method overriding happens between two classes"
      ]
    },
    {
      "cell_type": "code",
      "execution_count": 15,
      "metadata": {},
      "outputs": [],
      "source": [
        "# Method overriding\n",
        "class Fruit:\n",
        "    def fruit_info(self):\n",
        "        print(\"Inside parent class\")\n",
        "class Apple(Fruit):\n",
        "    def fruit_info(self):\n",
        "        print(\"Inside the child class.\")\n",
        "    def apple_info(self):\n",
        "        print(\"Inside the child class..\")"
      ]
    },
    {
      "cell_type": "code",
      "execution_count": 17,
      "metadata": {},
      "outputs": [
        {
          "name": "stdout",
          "output_type": "stream",
          "text": [
            "Inside the child class.\n"
          ]
        }
      ],
      "source": [
        "obj = Apple()\n",
        "obj.fruit_info()"
      ]
    },
    {
      "cell_type": "markdown",
      "metadata": {},
      "source": [
        "### Multilevel Inhertience"
      ]
    },
    {
      "attachments": {
        "image.png": {
          "image/png": "[encoded data removed]"
        }
      },
      "cell_type": "markdown",
      "metadata": {},
      "source": [
        "![image.png](attachment:image.png)"
      ]
    },
    {
      "cell_type": "markdown",
      "metadata": {},
      "source": [
        "- One child class may inherit the property of parent class and that parent class may inherit the property of grand parent class"
      ]
    },
    {
      "cell_type": "code",
      "execution_count": 35,
      "metadata": {},
      "outputs": [],
      "source": [
        "class GrandFather:\n",
        "    def prop_grand_father(self):\n",
        "       print(\"I am your grandfather... This is my property...\")\n",
        "\n",
        "class Father(GrandFather):\n",
        "    def prop_father(self):\n",
        "       print(\"I am your father... I am having my and your grand father's property...\") \n",
        "\n",
        "class Son(Father):\n",
        "    def prop_son(self):\n",
        "       print(\"I am the king.. I am having all the properties...\") "
      ]
    },
    {
      "cell_type": "code",
      "execution_count": 36,
      "metadata": {},
      "outputs": [
        {
          "name": "stdout",
          "output_type": "stream",
          "text": [
            "I am your father... I am having my and your grand father's property...\n"
          ]
        }
      ],
      "source": [
        "son = Son()\n",
        "son.prop_father()"
      ]
    },
    {
      "cell_type": "code",
      "execution_count": 22,
      "metadata": {},
      "outputs": [
        {
          "name": "stdout",
          "output_type": "stream",
          "text": [
            "I am your grandfather... This is my property...\n"
          ]
        }
      ],
      "source": [
        "son.prop_grand_father()"
      ]
    },
    {
      "cell_type": "code",
      "execution_count": 23,
      "metadata": {},
      "outputs": [
        {
          "name": "stdout",
          "output_type": "stream",
          "text": [
            "I am the king.. I am having all the properties...\n"
          ]
        }
      ],
      "source": [
        "son.prop_son()"
      ]
    },
    {
      "cell_type": "code",
      "execution_count": 24,
      "metadata": {},
      "outputs": [
        {
          "name": "stdout",
          "output_type": "stream",
          "text": [
            "I am your father... I am having my and your grand father's property...\n"
          ]
        }
      ],
      "source": [
        "fath = Father()\n",
        "fath.prop_father()"
      ]
    },
    {
      "cell_type": "code",
      "execution_count": 25,
      "metadata": {},
      "outputs": [
        {
          "name": "stdout",
          "output_type": "stream",
          "text": [
            "I am your grandfather... This is my property...\n"
          ]
        }
      ],
      "source": [
        "fath.prop_grand_father()"
      ]
    },
    {
      "cell_type": "code",
      "execution_count": 26,
      "metadata": {},
      "outputs": [
        {
          "name": "stdout",
          "output_type": "stream",
          "text": [
            "I am your grandfather... This is my property...\n"
          ]
        }
      ],
      "source": [
        "gran = GrandFather()\n",
        "gran.prop_grand_father()"
      ]
    },
    {
      "cell_type": "code",
      "execution_count": 28,
      "metadata": {},
      "outputs": [],
      "source": [
        "# Use Case\n",
        "class Vehicle:\n",
        "    def vehicle_info(self):\n",
        "        print(\"Inside vehicle class\")\n",
        "class Car(Vehicle):\n",
        "    def car_info(self):\n",
        "        print(\"Inside the car class\")\n",
        "class SportCar(Car):\n",
        "    def sports_car_info(self):\n",
        "        print(\"Inside the sports car.\")"
      ]
    },
    {
      "cell_type": "code",
      "execution_count": 29,
      "metadata": {},
      "outputs": [],
      "source": [
        "s1 = SportCar()"
      ]
    },
    {
      "cell_type": "code",
      "execution_count": 30,
      "metadata": {},
      "outputs": [
        {
          "name": "stdout",
          "output_type": "stream",
          "text": [
            "Inside vehicle class\n"
          ]
        }
      ],
      "source": [
        "s1.vehicle_info()"
      ]
    },
    {
      "cell_type": "code",
      "execution_count": 31,
      "metadata": {},
      "outputs": [
        {
          "name": "stdout",
          "output_type": "stream",
          "text": [
            "Inside the car class\n"
          ]
        }
      ],
      "source": [
        "s1.car_info()"
      ]
    },
    {
      "cell_type": "code",
      "execution_count": 32,
      "metadata": {},
      "outputs": [
        {
          "name": "stdout",
          "output_type": "stream",
          "text": [
            "Inside the sports car.\n"
          ]
        }
      ],
      "source": [
        "s1.sports_car_info()"
      ]
    },
    {
      "cell_type": "code",
      "execution_count": 33,
      "metadata": {},
      "outputs": [],
      "source": [
        "# Method overriding\n",
        "class Vehicle:\n",
        "    def vehicle_info(self):\n",
        "        print(\"Inside vehicle class\")\n",
        "class Car(Vehicle):\n",
        "    def car_info(self):\n",
        "        print(\"Inside the car class\")\n",
        "class SportCar(Car):\n",
        "    def vehicle_info(self):\n",
        "        print(\"Inside the sports car.\")"
      ]
    },
    {
      "cell_type": "code",
      "execution_count": 34,
      "metadata": {},
      "outputs": [
        {
          "name": "stdout",
          "output_type": "stream",
          "text": [
            "Inside the sports car.\n"
          ]
        }
      ],
      "source": [
        "s2= SportCar()\n",
        "s2.vehicle_info()"
      ]
    },
    {
      "cell_type": "markdown",
      "metadata": {},
      "source": [
        "### Multiple Inheritence"
      ]
    },
    {
      "attachments": {
        "image.png": {
          "image/png": "[encoded data removed]"
        }
      },
      "cell_type": "markdown",
      "metadata": {},
      "source": [
        "![image.png](attachment:image.png)"
      ]
    },
    {
      "cell_type": "markdown",
      "metadata": {},
      "source": [
        "- One child can inherit property of multiple parent class"
      ]
    },
    {
      "cell_type": "code",
      "execution_count": 37,
      "metadata": {},
      "outputs": [],
      "source": [
        "class ParentClass1:\n",
        "    def method1(self):\n",
        "        print(\"Method 1 of parent class 1\")\n",
        "class ParentClass2:\n",
        "    def method2(self):\n",
        "        print(\"Method 2 of parent class 2 \")"
      ]
    },
    {
      "cell_type": "code",
      "execution_count": 38,
      "metadata": {},
      "outputs": [],
      "source": [
        "class ChildClass(ParentClass1, ParentClass2):\n",
        "    def method3(self):\n",
        "        print(\"method of child class\")"
      ]
    },
    {
      "cell_type": "code",
      "execution_count": 39,
      "metadata": {},
      "outputs": [
        {
          "name": "stdout",
          "output_type": "stream",
          "text": [
            "Method 1 of parent class 1\n"
          ]
        }
      ],
      "source": [
        "obj = ChildClass()\n",
        "obj.method1()"
      ]
    },
    {
      "cell_type": "code",
      "execution_count": 40,
      "metadata": {},
      "outputs": [
        {
          "name": "stdout",
          "output_type": "stream",
          "text": [
            "Method 2 of parent class 2 \n"
          ]
        }
      ],
      "source": [
        "obj.method2()"
      ]
    },
    {
      "cell_type": "code",
      "execution_count": 41,
      "metadata": {},
      "outputs": [
        {
          "name": "stdout",
          "output_type": "stream",
          "text": [
            "method of child class\n"
          ]
        }
      ],
      "source": [
        "obj.method3()"
      ]
    },
    {
      "cell_type": "markdown",
      "metadata": {},
      "source": [
        "- Diamond problems:\n",
        "- It occurs when a class inherit ffrom 2 or more class\n",
        "- will lead to ambiguity in calling the method\n",
        "\n",
        "- to remove diamond problem python uses METHOD RESOLUTION ORDER MRO algorith called C3 linearisation\n",
        "- It means the class that is inherited first in the derived class , that method will be called"
      ]
    },
    {
      "cell_type": "code",
      "execution_count": 42,
      "metadata": {},
      "outputs": [],
      "source": [
        "class ParentClass1:\n",
        "    def method_par(self):\n",
        "        print(\"Method 1 of parent class 1\")\n",
        "class ParentClass2:\n",
        "    def method_par(self):\n",
        "        print(\"Method 2 of parent class 2 \")\n",
        "class ChildClass(ParentClass1, ParentClass2):\n",
        "    def method3(self):\n",
        "        print(\"method of child class\")"
      ]
    },
    {
      "cell_type": "code",
      "execution_count": 43,
      "metadata": {},
      "outputs": [],
      "source": [
        "obj2 = ChildClass()"
      ]
    },
    {
      "cell_type": "code",
      "execution_count": 44,
      "metadata": {},
      "outputs": [
        {
          "name": "stdout",
          "output_type": "stream",
          "text": [
            "Method 1 of parent class 1\n"
          ]
        }
      ],
      "source": [
        "obj2.method_par()"
      ]
    },
    {
      "cell_type": "code",
      "execution_count": 45,
      "metadata": {},
      "outputs": [],
      "source": [
        "class A:\n",
        "    def method(self):\n",
        "        print(\"Method of class A\")\n",
        "class B(A):\n",
        "    def method(self):\n",
        "        print(\"Method of class B\")\n",
        "class C(A):\n",
        "    def method(self):\n",
        "        print(\"Method of class C\")\n",
        "class D(C, B):\n",
        "    pass\n",
        "    "
      ]
    },
    {
      "cell_type": "code",
      "execution_count": 46,
      "metadata": {},
      "outputs": [
        {
          "name": "stdout",
          "output_type": "stream",
          "text": [
            "Method of class C\n"
          ]
        }
      ],
      "source": [
        "d = D()\n",
        "d.method()"
      ]
    },
    {
      "cell_type": "code",
      "execution_count": 47,
      "metadata": {},
      "outputs": [],
      "source": [
        "class A:\n",
        "    def method(self):\n",
        "        print(\"Method of class A\")\n",
        "class B(A):\n",
        "    def method(self):\n",
        "        print(\"Method of class B\")\n",
        "class C(A):\n",
        "    def method(self):\n",
        "        print(\"Method of class C\")\n",
        "class D(B, C):\n",
        "    pass"
      ]
    },
    {
      "cell_type": "code",
      "execution_count": 48,
      "metadata": {},
      "outputs": [
        {
          "name": "stdout",
          "output_type": "stream",
          "text": [
            "Method of class B\n"
          ]
        }
      ],
      "source": [
        "d = D()\n",
        "d.method()"
      ]
    },
    {
      "cell_type": "code",
      "execution_count": 49,
      "metadata": {},
      "outputs": [
        {
          "ename": "TypeError",
          "evalue": "Cannot create a consistent method resolution order (MRO) for bases A, C",
          "output_type": "error",
          "traceback": [
            "\u001b[31m---------------------------------------------------------------------------\u001b[39m",
            "\u001b[31mTypeError\u001b[39m                                 Traceback (most recent call last)",
            "\u001b[36mCell\u001b[39m\u001b[36m \u001b[39m\u001b[32mIn[49]\u001b[39m\u001b[32m, line 10\u001b[39m\n\u001b[32m      8\u001b[39m     \u001b[38;5;28;01mdef\u001b[39;00m\u001b[38;5;250m \u001b[39m\u001b[34mmethod\u001b[39m(\u001b[38;5;28mself\u001b[39m):\n\u001b[32m      9\u001b[39m         \u001b[38;5;28mprint\u001b[39m(\u001b[33m\"\u001b[39m\u001b[33mMethod of class C\u001b[39m\u001b[33m\"\u001b[39m)\n\u001b[32m---> \u001b[39m\u001b[32m10\u001b[39m \u001b[38;5;28;43;01mclass\u001b[39;49;00m\u001b[38;5;250;43m \u001b[39;49m\u001b[34;43;01mD\u001b[39;49;00m\u001b[43m(\u001b[49m\u001b[43mA\u001b[49m\u001b[43m,\u001b[49m\u001b[43m \u001b[49m\u001b[43mC\u001b[49m\u001b[43m)\u001b[49m\u001b[43m:\u001b[49m\n\u001b[32m     11\u001b[39m \u001b[43m    \u001b[49m\u001b[38;5;28;43;01mpass\u001b[39;49;00m\n",
            "\u001b[31mTypeError\u001b[39m: Cannot create a consistent method resolution order (MRO) for bases A, C"
          ]
        }
      ],
      "source": [
        "class A:\n",
        "    def method(self):\n",
        "        print(\"Method of class A\")\n",
        "class B(A):\n",
        "    def method(self):\n",
        "        print(\"Method of class B\")\n",
        "class C(A):\n",
        "    def method(self):\n",
        "        print(\"Method of class C\")\n",
        "class D(A, C):\n",
        "    pass"
      ]
    },
    {
      "cell_type": "markdown",
      "metadata": {},
      "source": [
        "### Hierarchical Inheritence"
      ]
    },
    {
      "cell_type": "markdown",
      "metadata": {},
      "source": [
        "- One parent class and more than two child class"
      ]
    },
    {
      "attachments": {
        "image.png": {
          "image/png": "[encoded data removed]"
        }
      },
      "cell_type": "markdown",
      "metadata": {},
      "source": [
        "![image.png](attachment:image.png)"
      ]
    },
    {
      "cell_type": "code",
      "execution_count": 50,
      "metadata": {},
      "outputs": [],
      "source": [
        "class Vehicle:\n",
        "    def info(self):\n",
        "        print(\"This is vehicle..\")\n",
        "class Car(Vehicle):\n",
        "    def car_info(self, name):\n",
        "        print(\"this is car info\", name)\n",
        "class Truck(Vehicle):\n",
        "    def truck_info(self, name):\n",
        "        print(\"Truck info \", name)"
      ]
    },
    {
      "cell_type": "code",
      "execution_count": 51,
      "metadata": {},
      "outputs": [
        {
          "name": "stdout",
          "output_type": "stream",
          "text": [
            "This is vehicle..\n"
          ]
        }
      ],
      "source": [
        "c1 = Car()\n",
        "c1.info()"
      ]
    },
    {
      "cell_type": "code",
      "execution_count": 53,
      "metadata": {},
      "outputs": [
        {
          "name": "stdout",
          "output_type": "stream",
          "text": [
            "this is car info BMW\n"
          ]
        }
      ],
      "source": [
        "c1.car_info(\"BMW\")"
      ]
    },
    {
      "cell_type": "code",
      "execution_count": 54,
      "metadata": {},
      "outputs": [
        {
          "name": "stdout",
          "output_type": "stream",
          "text": [
            "This is vehicle..\n"
          ]
        }
      ],
      "source": [
        "t1 = Truck()\n",
        "t1.info()"
      ]
    },
    {
      "cell_type": "code",
      "execution_count": 55,
      "metadata": {},
      "outputs": [
        {
          "name": "stdout",
          "output_type": "stream",
          "text": [
            "Truck info  Safari\n"
          ]
        }
      ],
      "source": [
        "t1.truck_info(\"Safari\")"
      ]
    },
    {
      "cell_type": "markdown",
      "metadata": {},
      "source": [
        "### Hybrid Inheritence "
      ]
    },
    {
      "cell_type": "markdown",
      "metadata": {},
      "source": [
        "Multiple types or combination of different inheritence"
      ]
    },
    {
      "attachments": {
        "image.png": {
          "image/png": "[encoded data removed]"
        }
      },
      "cell_type": "markdown",
      "metadata": {},
      "source": [
        "![image.png](attachment:image.png)"
      ]
    },
    {
      "cell_type": "code",
      "execution_count": 56,
      "metadata": {},
      "outputs": [],
      "source": [
        "class Vehicle:\n",
        "    def vehicle_info(self):\n",
        "        print(\"Inside vehicle class\")\n",
        "    \n",
        "class Car(Vehicle):\n",
        "    def car_info(self):\n",
        "        print(\"Inside the car class\")\n",
        "\n",
        "class Truck(Vehicle):\n",
        "    def truck_info(self):\n",
        "        print(\"Inside Truck info \", name)\n",
        "\n",
        "class SportCar(Car, Vehicle):\n",
        "    def sports_info(self):\n",
        "        print(\"Inside sports car class\")"
      ]
    },
    {
      "cell_type": "code",
      "execution_count": 57,
      "metadata": {},
      "outputs": [
        {
          "name": "stdout",
          "output_type": "stream",
          "text": [
            "Inside the car class\n"
          ]
        }
      ],
      "source": [
        "obj1 = SportCar()\n",
        "obj1.car_info()"
      ]
    },
    {
      "cell_type": "code",
      "execution_count": 58,
      "metadata": {},
      "outputs": [
        {
          "name": "stdout",
          "output_type": "stream",
          "text": [
            "Inside sports car class\n"
          ]
        }
      ],
      "source": [
        "obj1.sports_info()"
      ]
    },
    {
      "cell_type": "code",
      "execution_count": 59,
      "metadata": {},
      "outputs": [
        {
          "name": "stdout",
          "output_type": "stream",
          "text": [
            "Inside vehicle class\n"
          ]
        }
      ],
      "source": [
        "obj1.vehicle_info()"
      ]
    },
    {
      "cell_type": "markdown",
      "metadata": {},
      "source": [
        "## Abstraction"
      ]
    },
    {
      "cell_type": "markdown",
      "metadata": {},
      "source": [
        "- To hide the complex implementation"
      ]
    },
    {
      "cell_type": "markdown",
      "metadata": {},
      "source": [
        "- Hiding uneeded details and exposing the require one\n",
        "- An abstract class can not be instantiated, it means we can not make object of it.\n",
        "- It always be subclassed\n",
        "- Always may contain methods that are just declared and not implemented in the abstract class itself.\n",
        "- Subclass are responsible for implementing these abstract methods"
      ]
    },
    {
      "cell_type": "markdown",
      "metadata": {},
      "source": [
        "- Example :\n",
        "- if you use an PW SKill website , do you see the backend code or just see the interface to attend the class"
      ]
    },
    {
      "cell_type": "markdown",
      "metadata": {},
      "source": [
        "** Abstraction can be achieved using Abstract Class **"
      ]
    },
    {
      "cell_type": "code",
      "execution_count": 60,
      "metadata": {},
      "outputs": [],
      "source": [
        "import abc # collection of multiple function in a module"
      ]
    },
    {
      "cell_type": "code",
      "execution_count": 63,
      "metadata": {},
      "outputs": [],
      "source": [
        "# In any class in PW SKill (DS, frontend, Backend) The following three methods will be common\n",
        "class PwSkills:\n",
        "\n",
        "    @abc.abstractmethod\n",
        "    def student_details(self):\n",
        "        pass\n",
        "\n",
        "    @abc.abstractmethod\n",
        "    def student_assignment(self):\n",
        "        pass\n",
        "    \n",
        "    @abc.abstractmethod\n",
        "    def student_marks(self):\n",
        "        pass"
      ]
    },
    {
      "cell_type": "code",
      "execution_count": 64,
      "metadata": {},
      "outputs": [],
      "source": [
        "class DataScience(PwSkills):\n",
        "    def student_details(self):\n",
        "        return \"Data Science course details\"\n",
        "    def student_marks(self):\n",
        "        return \"Give ds student marks\""
      ]
    },
    {
      "cell_type": "code",
      "execution_count": 66,
      "metadata": {},
      "outputs": [],
      "source": [
        "class WebDev(PwSkills):\n",
        "    def student_assignment(self):\n",
        "        return \"This will give Wev Dev student assignemnts\"\n",
        "    \n",
        "    def student_marks(self):\n",
        "        return \"Web Dev students marks\""
      ]
    },
    {
      "cell_type": "code",
      "execution_count": 67,
      "metadata": {},
      "outputs": [
        {
          "data": {
            "text/plain": [
              "'Data Science course details'"
            ]
          },
          "execution_count": 67,
          "metadata": {},
          "output_type": "execute_result"
        }
      ],
      "source": [
        "ds = DataScience()\n",
        "ds.student_details()"
      ]
    },
    {
      "cell_type": "code",
      "execution_count": 68,
      "metadata": {},
      "outputs": [
        {
          "data": {
            "text/plain": [
              "'Give ds student marks'"
            ]
          },
          "execution_count": 68,
          "metadata": {},
          "output_type": "execute_result"
        }
      ],
      "source": [
        "ds.student_marks()"
      ]
    },
    {
      "cell_type": "code",
      "execution_count": 70,
      "metadata": {},
      "outputs": [],
      "source": [
        "ds.student_assignment()"
      ]
    },
    {
      "cell_type": "code",
      "execution_count": 71,
      "metadata": {},
      "outputs": [
        {
          "data": {
            "text/plain": [
              "'This will give Wev Dev student assignemnts'"
            ]
          },
          "execution_count": 71,
          "metadata": {},
          "output_type": "execute_result"
        }
      ],
      "source": [
        "w = WebDev()\n",
        "w.student_assignment()"
      ]
    },
    {
      "cell_type": "code",
      "execution_count": 72,
      "metadata": {},
      "outputs": [],
      "source": [
        "class Python(PwSkills):\n",
        "    def student_assignment(self):\n",
        "        return super().student_assignment()\n"
      ]
    },
    {
      "cell_type": "code",
      "execution_count": 73,
      "metadata": {},
      "outputs": [],
      "source": [
        "a = Python()\n",
        "a.student_assignment()"
      ]
    },
    {
      "cell_type": "code",
      "execution_count": 74,
      "metadata": {},
      "outputs": [],
      "source": [
        "# use case\n",
        "\n",
        "class Shape:\n",
        "\n",
        "    @abc.abstractmethod\n",
        "    def calculate_area(self):\n",
        "        pass\n",
        "\n",
        "\n",
        "class Rectancgle(Shape):\n",
        "    def calculate_area(self):\n",
        "        return \"Area of rectangle is l * b \"\n",
        "class Circle(Shape):\n",
        "    def calculate_area(self):\n",
        "        return \"Area of circle is pi*r^2 \"\n"
      ]
    },
    {
      "cell_type": "code",
      "execution_count": 75,
      "metadata": {},
      "outputs": [
        {
          "data": {
            "text/plain": [
              "'Area of rectangle is l * b '"
            ]
          },
          "execution_count": 75,
          "metadata": {},
          "output_type": "execute_result"
        }
      ],
      "source": [
        "rect = Rectancgle()\n",
        "rect.calculate_area()"
      ]
    },
    {
      "cell_type": "markdown",
      "metadata": {},
      "source": [
        "## Polymorphism"
      ]
    },
    {
      "cell_type": "markdown",
      "metadata": {},
      "source": [
        "Poly means many and morphism means forms / states"
      ]
    },
    {
      "cell_type": "markdown",
      "metadata": {},
      "source": [
        "It refers to an object taling several forms depending on methods / data"
      ]
    },
    {
      "cell_type": "code",
      "execution_count": null,
      "metadata": {},
      "outputs": [
        {
          "data": {
            "text/plain": [
              "4"
            ]
          },
          "execution_count": 1,
          "metadata": {},
          "output_type": "execute_result"
        }
      ],
      "source": [
        "len(\"Momo\") # same len function is used with string"
      ]
    },
    {
      "cell_type": "code",
      "execution_count": 4,
      "metadata": {},
      "outputs": [
        {
          "data": {
            "text/plain": [
              "5"
            ]
          },
          "execution_count": 4,
          "metadata": {},
          "output_type": "execute_result"
        }
      ],
      "source": [
        "len([1, 2, 3, 4, 5])  # same len function is used with list"
      ]
    },
    {
      "cell_type": "code",
      "execution_count": 5,
      "metadata": {},
      "outputs": [
        {
          "data": {
            "text/plain": [
              "2"
            ]
          },
          "execution_count": 5,
          "metadata": {},
          "output_type": "execute_result"
        }
      ],
      "source": [
        "len((1, 2))  # same len function is used with tuple"
      ]
    },
    {
      "cell_type": "code",
      "execution_count": 6,
      "metadata": {},
      "outputs": [],
      "source": [
        "def func(a, b):\n",
        "    return a+b"
      ]
    },
    {
      "cell_type": "code",
      "execution_count": 9,
      "metadata": {},
      "outputs": [
        {
          "data": {
            "text/plain": [
              "5"
            ]
          },
          "execution_count": 9,
          "metadata": {},
          "output_type": "execute_result"
        }
      ],
      "source": [
        "func(2,3)  # same + is used to add two number"
      ]
    },
    {
      "cell_type": "code",
      "execution_count": 10,
      "metadata": {},
      "outputs": [
        {
          "data": {
            "text/plain": [
              "'Momo Chutney'"
            ]
          },
          "execution_count": 10,
          "metadata": {},
          "output_type": "execute_result"
        }
      ],
      "source": [
        "func(\"Momo \", \"Chutney\")   # same + is used to conncatenate two string"
      ]
    },
    {
      "cell_type": "code",
      "execution_count": 12,
      "metadata": {},
      "outputs": [
        {
          "data": {
            "text/plain": [
              "[1, 2, 3, 4, 5, 6]"
            ]
          },
          "execution_count": 12,
          "metadata": {},
          "output_type": "execute_result"
        }
      ],
      "source": [
        "func([1, 2, 3], [4, 5, 6])  # same + is used to combining two list"
      ]
    },
    {
      "cell_type": "code",
      "execution_count": 13,
      "metadata": {},
      "outputs": [],
      "source": [
        "# Observation << func is taking different forms wrt different data pass"
      ]
    },
    {
      "cell_type": "code",
      "execution_count": 14,
      "metadata": {},
      "outputs": [],
      "source": [
        "class Teacher_lecture:\n",
        "    def lec_info(self):\n",
        "        print(\"This is the 1st lecture of teacher.\")\n",
        "class Student_Lecture:\n",
        "    def lec_info(self):\n",
        "        print(\"This is student lecture .\")"
      ]
    },
    {
      "cell_type": "code",
      "execution_count": 16,
      "metadata": {},
      "outputs": [],
      "source": [
        "t1 = Teacher_lecture()\n",
        "s1 = Student_Lecture()\n",
        "class_obj = [t1, s1]"
      ]
    },
    {
      "cell_type": "code",
      "execution_count": 21,
      "metadata": {},
      "outputs": [],
      "source": [
        "def prag(class_obj):\n",
        "    for i in class_obj:\n",
        "        i.lec_info() \n",
        "    # at this point, lec_info is taking two forms wrt teacher and student lecture"
      ]
    },
    {
      "cell_type": "code",
      "execution_count": 20,
      "metadata": {},
      "outputs": [
        {
          "name": "stdout",
          "output_type": "stream",
          "text": [
            "This is the 1st lecture of teacher.\n",
            "This is student lecture .\n"
          ]
        }
      ],
      "source": [
        "prag(class_obj)"
      ]
    },
    {
      "cell_type": "markdown",
      "metadata": {},
      "source": [
        "- Polymorphism in OOPS takes places in two ways:\n",
        "1. Method overloading >> Python doesn't support true method overloading\n",
        "2. Method overriding"
      ]
    },
    {
      "cell_type": "markdown",
      "metadata": {},
      "source": [
        "### Method Overloading"
      ]
    },
    {
      "cell_type": "code",
      "execution_count": 23,
      "metadata": {},
      "outputs": [],
      "source": [
        "class Student:\n",
        "    def student(self):\n",
        "        print(\"Welcome to PW skill\")\n",
        "    def student(self, name = \"\"):\n",
        "        print(\"Welcome to PW SKill class \", name)\n",
        "    def student(self, name = \"\", course = \"\"):\n",
        "        print(f\"Welcome {name} to the {course} course in PW skill.\")"
      ]
    },
    {
      "cell_type": "code",
      "execution_count": 24,
      "metadata": {},
      "outputs": [],
      "source": [
        "stud = Student()"
      ]
    },
    {
      "cell_type": "code",
      "execution_count": 25,
      "metadata": {},
      "outputs": [
        {
          "name": "stdout",
          "output_type": "stream",
          "text": [
            "Welcome  to the  course in PW skill.\n"
          ]
        }
      ],
      "source": [
        "stud.student()"
      ]
    },
    {
      "cell_type": "code",
      "execution_count": 26,
      "metadata": {},
      "outputs": [
        {
          "name": "stdout",
          "output_type": "stream",
          "text": [
            "Welcome Anne to the  course in PW skill.\n"
          ]
        }
      ],
      "source": [
        "stud.student(\"Anne\")"
      ]
    },
    {
      "cell_type": "code",
      "execution_count": 27,
      "metadata": {},
      "outputs": [
        {
          "name": "stdout",
          "output_type": "stream",
          "text": [
            "Welcome Mani to the Data Science course in PW skill.\n"
          ]
        }
      ],
      "source": [
        "stud.student(\"Mani\", \"Data Science\")"
      ]
    },
    {
      "cell_type": "code",
      "execution_count": 29,
      "metadata": {},
      "outputs": [],
      "source": [
        "# Method Overloading >> Student method is taking different forms, the last methods overloads the previous ones in the same class\n",
        "class Student:\n",
        "    def student(self, name = \"\", course = \"\"):\n",
        "        print(f\"Welcome {name} to the {course} course in PW skill.\")"
      ]
    },
    {
      "cell_type": "code",
      "execution_count": 30,
      "metadata": {},
      "outputs": [
        {
          "name": "stdout",
          "output_type": "stream",
          "text": [
            "Welcome  to the  course in PW skill.\n"
          ]
        }
      ],
      "source": [
        "s2 = Student()\n",
        "s2.student()"
      ]
    },
    {
      "cell_type": "code",
      "execution_count": 31,
      "metadata": {},
      "outputs": [
        {
          "name": "stdout",
          "output_type": "stream",
          "text": [
            "Welcome Mani to the  course in PW skill.\n"
          ]
        }
      ],
      "source": [
        "s2.student(\"Mani\")"
      ]
    },
    {
      "cell_type": "code",
      "execution_count": 32,
      "metadata": {},
      "outputs": [
        {
          "name": "stdout",
          "output_type": "stream",
          "text": [
            "Welcome Mani to the Python course in PW skill.\n"
          ]
        }
      ],
      "source": [
        "s2.student(\"Mani\", \"Python\")"
      ]
    },
    {
      "cell_type": "markdown",
      "metadata": {},
      "source": [
        "- Method overloading happens in the same class \n",
        "- Python doesnot support method overloading as it always call last methods"
      ]
    },
    {
      "cell_type": "markdown",
      "metadata": {},
      "source": [
        "### Method Overriding"
      ]
    },
    {
      "cell_type": "markdown",
      "metadata": {},
      "source": [
        "- Method in parent class and child class with same method (signature) and then child class method will be executed"
      ]
    },
    {
      "cell_type": "code",
      "execution_count": 1,
      "metadata": {},
      "outputs": [],
      "source": [
        "class Animal:\n",
        "    def sound(self):\n",
        "        print(\"Animal Sound \")\n",
        "class Cat(Animal):\n",
        "    def sound(self):\n",
        "        print(\"Cat : Meows\")"
      ]
    },
    {
      "cell_type": "code",
      "execution_count": 2,
      "metadata": {},
      "outputs": [
        {
          "name": "stdout",
          "output_type": "stream",
          "text": [
            "Animal Sound \n"
          ]
        }
      ],
      "source": [
        "anm = Animal()\n",
        "anm.sound()"
      ]
    },
    {
      "cell_type": "code",
      "execution_count": 3,
      "metadata": {},
      "outputs": [
        {
          "name": "stdout",
          "output_type": "stream",
          "text": [
            "Cat : Meows\n"
          ]
        }
      ],
      "source": [
        "cat = Cat()\n",
        "cat.sound()"
      ]
    },
    {
      "cell_type": "markdown",
      "metadata": {},
      "source": [
        "## Encapsulation"
      ]
    },
    {
      "cell_type": "markdown",
      "metadata": {},
      "source": [
        "- Hiding something << To encapsulate something\n",
        "- Bundling of data and methods of a class"
      ]
    },
    {
      "cell_type": "markdown",
      "metadata": {},
      "source": [
        "- access modifier >> 1. Public 2. protected 3. private"
      ]
    },
    {
      "cell_type": "markdown",
      "metadata": {},
      "source": [
        "- Public modifier << Accessible from everywhere << Outside or Inside from class"
      ]
    },
    {
      "cell_type": "code",
      "execution_count": 4,
      "metadata": {},
      "outputs": [],
      "source": [
        "class Student:\n",
        "    def __init__(self, name, degree):\n",
        "        self.name = name\n",
        "        self.degree = degree"
      ]
    },
    {
      "cell_type": "code",
      "execution_count": 5,
      "metadata": {},
      "outputs": [],
      "source": [
        "std = Student(\"Anu\", \"BTech in CS\")"
      ]
    },
    {
      "cell_type": "code",
      "execution_count": 6,
      "metadata": {},
      "outputs": [
        {
          "data": {
            "text/plain": [
              "'BTech in CS'"
            ]
          },
          "execution_count": 6,
          "metadata": {},
          "output_type": "execute_result"
        }
      ],
      "source": [
        "std.degree"
      ]
    },
    {
      "cell_type": "code",
      "execution_count": 7,
      "metadata": {},
      "outputs": [
        {
          "data": {
            "text/plain": [
              "'Anu'"
            ]
          },
          "execution_count": 7,
          "metadata": {},
          "output_type": "execute_result"
        }
      ],
      "source": [
        "std.name"
      ]
    },
    {
      "cell_type": "code",
      "execution_count": 11,
      "metadata": {},
      "outputs": [],
      "source": [
        "std1 = Student(\"Prag\", \"M.SC. in Maths\")"
      ]
    },
    {
      "cell_type": "code",
      "execution_count": 12,
      "metadata": {},
      "outputs": [
        {
          "data": {
            "text/plain": [
              "'M.SC. in Maths'"
            ]
          },
          "execution_count": 12,
          "metadata": {},
          "output_type": "execute_result"
        }
      ],
      "source": [
        "std1.degree"
      ]
    },
    {
      "cell_type": "code",
      "execution_count": 13,
      "metadata": {},
      "outputs": [
        {
          "data": {
            "text/plain": [
              "'Prag'"
            ]
          },
          "execution_count": 13,
          "metadata": {},
          "output_type": "execute_result"
        }
      ],
      "source": [
        "std1.name"
      ]
    },
    {
      "cell_type": "code",
      "execution_count": 14,
      "metadata": {},
      "outputs": [],
      "source": [
        "std1.degree = \"Data Science\""
      ]
    },
    {
      "cell_type": "code",
      "execution_count": 15,
      "metadata": {},
      "outputs": [
        {
          "data": {
            "text/plain": [
              "'Data Science'"
            ]
          },
          "execution_count": 15,
          "metadata": {},
          "output_type": "execute_result"
        }
      ],
      "source": [
        "std1.degree"
      ]
    },
    {
      "cell_type": "markdown",
      "metadata": {},
      "source": [
        "- Earlier in student data 1 degree is mentioned as M.Sc Maths but later it is changed to Data SCience because it is public data and can be accessed by everyone very easily"
      ]
    },
    {
      "cell_type": "markdown",
      "metadata": {},
      "source": [
        "- Private >> The data and method is only accessible within its class.\n",
        "- Use __ to make private"
      ]
    },
    {
      "cell_type": "code",
      "execution_count": 22,
      "metadata": {},
      "outputs": [],
      "source": [
        "# Accessing the public Data member inside the other method same class\n",
        "\n",
        "class Student:\n",
        "    def __init__(self, name, degree):\n",
        "        self.name = name\n",
        "        self.degree = degree\n",
        "    def show(self):\n",
        "        # accessing the private and public data member\n",
        "        print(f\"Name : {self.name} & Degree : {self.degree}\")\n",
        "\n"
      ]
    },
    {
      "cell_type": "code",
      "execution_count": 23,
      "metadata": {},
      "outputs": [],
      "source": [
        "a1 = Student(\"Anu\", \"B.Tech\")"
      ]
    },
    {
      "cell_type": "code",
      "execution_count": 24,
      "metadata": {},
      "outputs": [
        {
          "name": "stdout",
          "output_type": "stream",
          "text": [
            "Name : Anu & Degree : B.Tech\n"
          ]
        }
      ],
      "source": [
        "a1.show()"
      ]
    },
    {
      "cell_type": "code",
      "execution_count": 34,
      "metadata": {},
      "outputs": [],
      "source": [
        "# Lets make name as public and degree as private\n",
        "class Student:\n",
        "    def __init__(self, name, degree):\n",
        "        self.name = name\n",
        "        self.__degree = degree  # to make it private\n",
        "    def show(self):\n",
        "        # accessing the private  data member\n",
        "        print(f\"Name : {self.name} & Degree : {self.__degree}\")"
      ]
    },
    {
      "cell_type": "code",
      "execution_count": 35,
      "metadata": {},
      "outputs": [],
      "source": [
        "a2 = Student(\"Prag\", \"DS\")"
      ]
    },
    {
      "cell_type": "code",
      "execution_count": 36,
      "metadata": {},
      "outputs": [
        {
          "data": {
            "text/plain": [
              "'Prag'"
            ]
          },
          "execution_count": 36,
          "metadata": {},
          "output_type": "execute_result"
        }
      ],
      "source": [
        "a2.name"
      ]
    },
    {
      "cell_type": "code",
      "execution_count": 37,
      "metadata": {},
      "outputs": [
        {
          "ename": "AttributeError",
          "evalue": "'Student' object has no attribute '__degree'",
          "output_type": "error",
          "traceback": [
            "\u001b[31m---------------------------------------------------------------------------\u001b[39m",
            "\u001b[31mAttributeError\u001b[39m                            Traceback (most recent call last)",
            "\u001b[36mCell\u001b[39m\u001b[36m \u001b[39m\u001b[32mIn[37]\u001b[39m\u001b[32m, line 1\u001b[39m\n\u001b[32m----> \u001b[39m\u001b[32m1\u001b[39m \u001b[43ma2\u001b[49m\u001b[43m.\u001b[49m\u001b[43m__degree\u001b[49m \u001b[38;5;66;03m# because now degree become private\u001b[39;00m\n",
            "\u001b[31mAttributeError\u001b[39m: 'Student' object has no attribute '__degree'"
          ]
        }
      ],
      "source": [
        "a2.__degree # because now degree become private"
      ]
    },
    {
      "cell_type": "code",
      "execution_count": 38,
      "metadata": {},
      "outputs": [
        {
          "name": "stdout",
          "output_type": "stream",
          "text": [
            "Name : Prag & Degree : DS\n"
          ]
        }
      ],
      "source": [
        "a2.show()"
      ]
    },
    {
      "cell_type": "code",
      "execution_count": 42,
      "metadata": {},
      "outputs": [
        {
          "data": {
            "text/plain": [
              "'DS'"
            ]
          },
          "execution_count": 42,
          "metadata": {},
          "output_type": "execute_result"
        }
      ],
      "source": [
        "# In order to access private variable if you only know the class name\n",
        "a2._Student__degree"
      ]
    },
    {
      "cell_type": "code",
      "execution_count": 43,
      "metadata": {},
      "outputs": [],
      "source": [
        "# method private\n",
        "class Student:\n",
        "    def __init__(self, name, degree):\n",
        "        self.name = name\n",
        "        self.__degree = degree  # to make it private\n",
        "    def show(self):\n",
        "        # accessing the private  data member\n",
        "        print(f\"Name : {self.name} & Degree : {self.__degree}\")\n",
        "    def __private(self):\n",
        "        print(\"Keep the password safe..\")"
      ]
    },
    {
      "cell_type": "code",
      "execution_count": 44,
      "metadata": {},
      "outputs": [],
      "source": [
        "st = Student(\"ABC\", \"XYZ\")"
      ]
    },
    {
      "cell_type": "code",
      "execution_count": 45,
      "metadata": {},
      "outputs": [
        {
          "data": {
            "text/plain": [
              "'ABC'"
            ]
          },
          "execution_count": 45,
          "metadata": {},
          "output_type": "execute_result"
        }
      ],
      "source": [
        "st.name"
      ]
    },
    {
      "cell_type": "code",
      "execution_count": 47,
      "metadata": {},
      "outputs": [
        {
          "name": "stdout",
          "output_type": "stream",
          "text": [
            "Name : ABC & Degree : XYZ\n"
          ]
        }
      ],
      "source": [
        "st.show()"
      ]
    },
    {
      "cell_type": "code",
      "execution_count": 49,
      "metadata": {},
      "outputs": [
        {
          "ename": "AttributeError",
          "evalue": "'Student' object has no attribute '__private'",
          "output_type": "error",
          "traceback": [
            "\u001b[31m---------------------------------------------------------------------------\u001b[39m",
            "\u001b[31mAttributeError\u001b[39m                            Traceback (most recent call last)",
            "\u001b[36mCell\u001b[39m\u001b[36m \u001b[39m\u001b[32mIn[49]\u001b[39m\u001b[32m, line 1\u001b[39m\n\u001b[32m----> \u001b[39m\u001b[32m1\u001b[39m \u001b[43mst\u001b[49m\u001b[43m.\u001b[49m\u001b[43m__private\u001b[49m() \u001b[38;5;66;03m# because this method is kept in private\u001b[39;00m\n",
            "\u001b[31mAttributeError\u001b[39m: 'Student' object has no attribute '__private'"
          ]
        }
      ],
      "source": [
        "st.__private() # because this method is kept in private"
      ]
    },
    {
      "cell_type": "code",
      "execution_count": 51,
      "metadata": {},
      "outputs": [
        {
          "name": "stdout",
          "output_type": "stream",
          "text": [
            "Keep the password safe..\n"
          ]
        }
      ],
      "source": [
        "st._Student__private() # Accessing private method using class name"
      ]
    },
    {
      "cell_type": "markdown",
      "metadata": {},
      "source": [
        "- Way to provide an option to see the private method >> A wrapper"
      ]
    },
    {
      "cell_type": "code",
      "execution_count": 52,
      "metadata": {},
      "outputs": [],
      "source": [
        "class Student:\n",
        "    def __init__(self, name, degree):\n",
        "        self.name = name\n",
        "        self.__degree = degree  # to make it private\n",
        "    def show(self):\n",
        "        # accessing the private  data member\n",
        "        print(f\"Name : {self.name} & Degree : {self.__degree}\")\n",
        "    def __private(self):\n",
        "        print(\"Keep the password safe..\")\n",
        "    def access_private(self):\n",
        "        self.__private()"
      ]
    },
    {
      "cell_type": "code",
      "execution_count": 53,
      "metadata": {},
      "outputs": [
        {
          "name": "stdout",
          "output_type": "stream",
          "text": [
            "Keep the password safe..\n"
          ]
        }
      ],
      "source": [
        "obj1 = Student(\"Anne\", \"DS\")\n",
        "obj1.access_private()"
      ]
    },
    {
      "cell_type": "code",
      "execution_count": 60,
      "metadata": {},
      "outputs": [],
      "source": [
        "# Another usecase\n",
        "class Car:\n",
        "    def __init__(self, year, make, speed, model):\n",
        "        self.year = year\n",
        "        self.make = make\n",
        "        self.speed = speed\n",
        "        self.model = model\n"
      ]
    },
    {
      "cell_type": "code",
      "execution_count": 61,
      "metadata": {},
      "outputs": [],
      "source": [
        "c1 = Car(\"1995\", \"Maruti\", \"80\", \"Suzuki\")"
      ]
    },
    {
      "cell_type": "code",
      "execution_count": 62,
      "metadata": {},
      "outputs": [
        {
          "data": {
            "text/plain": [
              "'1995'"
            ]
          },
          "execution_count": 62,
          "metadata": {},
          "output_type": "execute_result"
        }
      ],
      "source": [
        "c1.year"
      ]
    },
    {
      "cell_type": "code",
      "execution_count": 66,
      "metadata": {},
      "outputs": [],
      "source": [
        "class Car:\n",
        "    def __init__(self, year, make, speed, model):\n",
        "        self.__year = year  # making all private\n",
        "        self.__make = make\n",
        "        self.__speed = speed\n",
        "        self.__model = model"
      ]
    },
    {
      "cell_type": "code",
      "execution_count": 67,
      "metadata": {},
      "outputs": [],
      "source": [
        "c1 = Car(\"1995\", \"Maruti\", \"80\", \"Suzuki\")"
      ]
    },
    {
      "cell_type": "code",
      "execution_count": 68,
      "metadata": {},
      "outputs": [
        {
          "ename": "AttributeError",
          "evalue": "'Car' object has no attribute '__year'",
          "output_type": "error",
          "traceback": [
            "\u001b[31m---------------------------------------------------------------------------\u001b[39m",
            "\u001b[31mAttributeError\u001b[39m                            Traceback (most recent call last)",
            "\u001b[36mCell\u001b[39m\u001b[36m \u001b[39m\u001b[32mIn[68]\u001b[39m\u001b[32m, line 1\u001b[39m\n\u001b[32m----> \u001b[39m\u001b[32m1\u001b[39m \u001b[43mc1\u001b[49m\u001b[43m.\u001b[49m\u001b[43m__year\u001b[49m\n",
            "\u001b[31mAttributeError\u001b[39m: 'Car' object has no attribute '__year'"
          ]
        }
      ],
      "source": [
        "c1.__year"
      ]
    },
    {
      "cell_type": "code",
      "execution_count": 70,
      "metadata": {},
      "outputs": [],
      "source": [
        "class Car:\n",
        "    def __init__(self, year, make, speed, model):\n",
        "        self.__year = year  # making all private\n",
        "        self.__make = make\n",
        "        self.__speed = speed\n",
        "        self.__model = model\n",
        "    def set_speed(self, speed):\n",
        "        self.__speed = 0 if speed < 0 else speed\n",
        "    def get_speed(self):\n",
        "        return self.__speed"
      ]
    },
    {
      "cell_type": "code",
      "execution_count": 71,
      "metadata": {},
      "outputs": [
        {
          "data": {
            "text/plain": [
              "'80'"
            ]
          },
          "execution_count": 71,
          "metadata": {},
          "output_type": "execute_result"
        }
      ],
      "source": [
        "c1 = Car(\"1995\", \"Maruti\", \"80\", \"Suzuki\")\n",
        "c1.get_speed()"
      ]
    },
    {
      "cell_type": "code",
      "execution_count": 74,
      "metadata": {},
      "outputs": [],
      "source": [
        "c1.set_speed(-1000) # here speed less than 0"
      ]
    },
    {
      "cell_type": "code",
      "execution_count": 73,
      "metadata": {},
      "outputs": [
        {
          "data": {
            "text/plain": [
              "0"
            ]
          },
          "execution_count": 73,
          "metadata": {},
          "output_type": "execute_result"
        }
      ],
      "source": [
        "c1.get_speed()"
      ]
    },
    {
      "cell_type": "code",
      "execution_count": 4,
      "metadata": {},
      "outputs": [],
      "source": [
        "# Use case\n",
        "class Bank:\n",
        "    def __init__(self, balance):\n",
        "        self.__balance = balance\n",
        "\n",
        "    def deposit(self, amount):\n",
        "        self.__balance = self.__balance + amount\n",
        "\n",
        "    def withdraw(self, amount):\n",
        "        if self.__balance >= amount:\n",
        "            self.__balance = self.__balance - amount\n",
        "            return True\n",
        "        else :\n",
        "            return False\n",
        "        \n",
        "    def get_balance(self):\n",
        "        return self.__balance\n"
      ]
    },
    {
      "cell_type": "code",
      "execution_count": 5,
      "metadata": {},
      "outputs": [],
      "source": [
        "ac1 = Bank(1000)"
      ]
    },
    {
      "cell_type": "code",
      "execution_count": 6,
      "metadata": {},
      "outputs": [
        {
          "data": {
            "text/plain": [
              "1000"
            ]
          },
          "execution_count": 6,
          "metadata": {},
          "output_type": "execute_result"
        }
      ],
      "source": [
        "ac1.get_balance()"
      ]
    },
    {
      "cell_type": "code",
      "execution_count": 7,
      "metadata": {},
      "outputs": [],
      "source": [
        "ac1.deposit(500)"
      ]
    },
    {
      "cell_type": "code",
      "execution_count": 8,
      "metadata": {},
      "outputs": [
        {
          "data": {
            "text/plain": [
              "1500"
            ]
          },
          "execution_count": 8,
          "metadata": {},
          "output_type": "execute_result"
        }
      ],
      "source": [
        "ac1.get_balance()"
      ]
    },
    {
      "cell_type": "code",
      "execution_count": 9,
      "metadata": {},
      "outputs": [
        {
          "data": {
            "text/plain": [
              "True"
            ]
          },
          "execution_count": 9,
          "metadata": {},
          "output_type": "execute_result"
        }
      ],
      "source": [
        "ac1.withdraw(800)"
      ]
    },
    {
      "cell_type": "code",
      "execution_count": 10,
      "metadata": {},
      "outputs": [
        {
          "data": {
            "text/plain": [
              "700"
            ]
          },
          "execution_count": 10,
          "metadata": {},
          "output_type": "execute_result"
        }
      ],
      "source": [
        "ac1.get_balance()"
      ]
    },
    {
      "cell_type": "code",
      "execution_count": 11,
      "metadata": {},
      "outputs": [
        {
          "data": {
            "text/plain": [
              "False"
            ]
          },
          "execution_count": 11,
          "metadata": {},
          "output_type": "execute_result"
        }
      ],
      "source": [
        "ac1.withdraw(900)"
      ]
    },
    {
      "cell_type": "markdown",
      "metadata": {},
      "source": [
        "### Protected method "
      ]
    },
    {
      "cell_type": "markdown",
      "metadata": {},
      "source": [
        "- Protected member Can be accessed within the class and its subclass\n",
        "- can be used by _ (single underscore)"
      ]
    },
    {
      "cell_type": "code",
      "execution_count": 23,
      "metadata": {},
      "outputs": [],
      "source": [
        "class College:\n",
        "    def __init__(self):\n",
        "        self._college_name = \"PW Skill\"\n",
        "\n",
        "class Student(College):\n",
        "    def __init__(self, name):\n",
        "        self.name = name\n",
        "        College.__init__(self) # accessing variable of base class  << classname__int__(self)\n",
        "\n",
        "    def show(self):\n",
        "        print(\"Name\", self.name, \"College\", self._college_name) #deirectaly call the base class\n",
        "        "
      ]
    },
    {
      "cell_type": "code",
      "execution_count": 24,
      "metadata": {},
      "outputs": [],
      "source": [
        "stud = Student(\"Prag\")"
      ]
    },
    {
      "cell_type": "code",
      "execution_count": 25,
      "metadata": {},
      "outputs": [
        {
          "data": {
            "text/plain": [
              "'Prag'"
            ]
          },
          "execution_count": 25,
          "metadata": {},
          "output_type": "execute_result"
        }
      ],
      "source": [
        "stud.name"
      ]
    },
    {
      "cell_type": "code",
      "execution_count": 26,
      "metadata": {},
      "outputs": [
        {
          "name": "stdout",
          "output_type": "stream",
          "text": [
            "Name Prag College PW Skill\n"
          ]
        }
      ],
      "source": [
        "stud.show()"
      ]
    },
    {
      "cell_type": "code",
      "execution_count": 28,
      "metadata": {},
      "outputs": [
        {
          "data": {
            "text/plain": [
              "'PW Skill'"
            ]
          },
          "execution_count": 28,
          "metadata": {},
          "output_type": "execute_result"
        }
      ],
      "source": [
        "coll = College()\n",
        "coll._college_name # accessing the protected variable"
      ]
    },
    {
      "cell_type": "markdown",
      "metadata": {},
      "source": [
        "- Another way to access the data of base class using Super Class"
      ]
    },
    {
      "cell_type": "code",
      "execution_count": 4,
      "metadata": {},
      "outputs": [],
      "source": [
        "class College:\n",
        "    def __init__(self):\n",
        "        self._college_name = \"PW Skill\"\n",
        "\n",
        "class Student(College):\n",
        "    def __init__(self, name):\n",
        "        self.name = name\n",
        "        super().__init__() # accessing variable of base class using Super class << super()__init__()\n",
        "\n",
        "    def show(self):\n",
        "        print(\"Name\", self.name, \"College\", self._college_name) #deirectaly call the base class\n"
      ]
    },
    {
      "cell_type": "code",
      "execution_count": 5,
      "metadata": {},
      "outputs": [],
      "source": [
        "stud = Student(\"Prag\")"
      ]
    },
    {
      "cell_type": "code",
      "execution_count": 6,
      "metadata": {},
      "outputs": [
        {
          "name": "stdout",
          "output_type": "stream",
          "text": [
            "Name Prag College PW Skill\n"
          ]
        }
      ],
      "source": [
        "stud.show()"
      ]
    },
    {
      "cell_type": "markdown",
      "metadata": {},
      "source": [
        "### Class and Static Method"
      ]
    },
    {
      "cell_type": "markdown",
      "metadata": {},
      "source": [
        "*Class Method*"
      ]
    },
    {
      "cell_type": "markdown",
      "metadata": {},
      "source": [
        "- Bound to the class (and not to particular instance of the class), access/ modify methods and attributes associated to the class across all the instances\n",
        "- Class method defined using classmethod decorator\n",
        "- instead of self, cls\n",
        "- Alternative  of init method to pass the data"
      ]
    },
    {
      "cell_type": "code",
      "execution_count": 7,
      "metadata": {},
      "outputs": [],
      "source": [
        "class Student:\n",
        "    # constructor >> constructing class wiht initialization of variable\n",
        "    def __init__(self, name):\n",
        "        self.name = name"
      ]
    },
    {
      "cell_type": "code",
      "execution_count": 8,
      "metadata": {},
      "outputs": [],
      "source": [
        "obj = Student(\"Anu\")"
      ]
    },
    {
      "cell_type": "code",
      "execution_count": 9,
      "metadata": {},
      "outputs": [
        {
          "data": {
            "text/plain": [
              "'Anu'"
            ]
          },
          "execution_count": 9,
          "metadata": {},
          "output_type": "execute_result"
        }
      ],
      "source": [
        "obj.name"
      ]
    },
    {
      "cell_type": "code",
      "execution_count": 11,
      "metadata": {},
      "outputs": [],
      "source": [
        "class Student:\n",
        "    def __init__(self, name):\n",
        "        self.name = name # self means this variable/ method is refering to current instance of class\n",
        "    @classmethod #bounds to the class\n",
        "    def student_details(cls, name): # instead of self as first parameter, use cls >> refering to the class student details\n",
        "        return cls(name)"
      ]
    },
    {
      "cell_type": "markdown",
      "metadata": {},
      "source": [
        "- *What is meaning that it is refering to the class?*\n",
        "- Earlier to access any methods/ attributes >> first make instances / object of class\n",
        "- Then we use object.attributes\n",
        "- But if it is class method you can directly access it"
      ]
    },
    {
      "cell_type": "code",
      "execution_count": 15,
      "metadata": {},
      "outputs": [],
      "source": [
        "obj1 = Student.student_details(\"Anu\")\n",
        "# since student details directly binds to class making any object"
      ]
    },
    {
      "cell_type": "code",
      "execution_count": 16,
      "metadata": {},
      "outputs": [
        {
          "data": {
            "text/plain": [
              "'Anu'"
            ]
          },
          "execution_count": 16,
          "metadata": {},
          "output_type": "execute_result"
        }
      ],
      "source": [
        "obj1.name"
      ]
    },
    {
      "cell_type": "markdown",
      "metadata": {},
      "source": [
        "- seeing class method as alternative of init method\n",
        "- Actually class method is overloading the init method"
      ]
    },
    {
      "cell_type": "code",
      "execution_count": 19,
      "metadata": {},
      "outputs": [],
      "source": [
        "# How class method is overloading init method\n",
        "# Modifying the class method /  instance method\n",
        "class Student:\n",
        "    def __init__(self, name): # init method is instance method\n",
        "        self.name = name\n",
        "   \n",
        "    @classmethod\n",
        "    def student_details(cls, name1):\n",
        "        return cls(name1)"
      ]
    },
    {
      "cell_type": "code",
      "execution_count": 20,
      "metadata": {},
      "outputs": [],
      "source": [
        "stud1 = Student.student_details(\"Anu\")"
      ]
    },
    {
      "cell_type": "code",
      "execution_count": 22,
      "metadata": {},
      "outputs": [
        {
          "data": {
            "text/plain": [
              "'Anu'"
            ]
          },
          "execution_count": 22,
          "metadata": {},
          "output_type": "execute_result"
        }
      ],
      "source": [
        "stud1.name # name inspite variable name1 << Basically overloading init method"
      ]
    },
    {
      "cell_type": "markdown",
      "metadata": {},
      "source": [
        "- Class method can modify class state applicable to all the instances of the class"
      ]
    },
    {
      "cell_type": "code",
      "execution_count": 25,
      "metadata": {},
      "outputs": [],
      "source": [
        "class Student:\n",
        "\n",
        "    total_students = 0 #class variable\n",
        "    def __init__(self, name): #instance method\n",
        "        self.name = name  # instance variable\n",
        "        Student.total_students = Student.total_students+1 # total student is class variable associated with all instances\n",
        "\n",
        "    @classmethod\n",
        "    def get_total_students(cls):\n",
        "        return cls.total_students"
      ]
    },
    {
      "cell_type": "code",
      "execution_count": 26,
      "metadata": {},
      "outputs": [
        {
          "data": {
            "text/plain": [
              "0"
            ]
          },
          "execution_count": 26,
          "metadata": {},
          "output_type": "execute_result"
        }
      ],
      "source": [
        "Student.total_students"
      ]
    },
    {
      "cell_type": "code",
      "execution_count": 27,
      "metadata": {},
      "outputs": [],
      "source": [
        "std1 = Student(\"Anu\")\n",
        "std2 = Student(\"Prag\")"
      ]
    },
    {
      "cell_type": "code",
      "execution_count": 28,
      "metadata": {},
      "outputs": [
        {
          "data": {
            "text/plain": [
              "('Anu', 'Prag')"
            ]
          },
          "execution_count": 28,
          "metadata": {},
          "output_type": "execute_result"
        }
      ],
      "source": [
        "std1.name , std2.name"
      ]
    },
    {
      "cell_type": "code",
      "execution_count": 29,
      "metadata": {},
      "outputs": [
        {
          "data": {
            "text/plain": [
              "2"
            ]
          },
          "execution_count": 29,
          "metadata": {},
          "output_type": "execute_result"
        }
      ],
      "source": [
        "Student.total_students"
      ]
    },
    {
      "cell_type": "code",
      "execution_count": 30,
      "metadata": {},
      "outputs": [
        {
          "data": {
            "text/plain": [
              "2"
            ]
          },
          "execution_count": 30,
          "metadata": {},
          "output_type": "execute_result"
        }
      ],
      "source": [
        "Student.get_total_students()"
      ]
    },
    {
      "cell_type": "code",
      "execution_count": 31,
      "metadata": {},
      "outputs": [],
      "source": [
        "std3 = Student(\"Deep\")\n",
        "std4 = Student(\"Mahi\")"
      ]
    },
    {
      "cell_type": "code",
      "execution_count": 32,
      "metadata": {},
      "outputs": [
        {
          "data": {
            "text/plain": [
              "('Deep', 'Mahi')"
            ]
          },
          "execution_count": 32,
          "metadata": {},
          "output_type": "execute_result"
        }
      ],
      "source": [
        "std3.name , std4.name"
      ]
    },
    {
      "cell_type": "code",
      "execution_count": 33,
      "metadata": {},
      "outputs": [
        {
          "data": {
            "text/plain": [
              "4"
            ]
          },
          "execution_count": 33,
          "metadata": {},
          "output_type": "execute_result"
        }
      ],
      "source": [
        "Student.total_students"
      ]
    },
    {
      "cell_type": "markdown",
      "metadata": {},
      "source": [
        "- To make external function as class method"
      ]
    },
    {
      "cell_type": "code",
      "execution_count": 34,
      "metadata": {},
      "outputs": [],
      "source": [
        "class Student:\n",
        "\n",
        "    total_students = 0 #class variable\n",
        "    def __init__(self, name): #instance method\n",
        "        self.name = name  # instance variable\n",
        "        Student.total_students = Student.total_students+1 # total student is class variable associated with all instances\n",
        "\n",
        "    @classmethod\n",
        "    def get_total_students(cls):\n",
        "        return cls.total_students"
      ]
    },
    {
      "cell_type": "code",
      "execution_count": 35,
      "metadata": {},
      "outputs": [],
      "source": [
        "def course_details(cls, course_name):\n",
        "    print(\"The details of the course are : \", course_name)"
      ]
    },
    {
      "cell_type": "code",
      "execution_count": 36,
      "metadata": {},
      "outputs": [],
      "source": [
        "Student.course_details =  classmethod(course_details) # adding external fnct as class method"
      ]
    },
    {
      "cell_type": "code",
      "execution_count": 37,
      "metadata": {},
      "outputs": [
        {
          "name": "stdout",
          "output_type": "stream",
          "text": [
            "The details of the course are :  Data Science\n"
          ]
        }
      ],
      "source": [
        "Student.course_details(\"Data Science\")"
      ]
    },
    {
      "cell_type": "markdown",
      "metadata": {},
      "source": [
        "- To delete any class method"
      ]
    },
    {
      "cell_type": "code",
      "execution_count": 38,
      "metadata": {},
      "outputs": [],
      "source": [
        "del Student.course_details"
      ]
    },
    {
      "cell_type": "code",
      "execution_count": 40,
      "metadata": {},
      "outputs": [
        {
          "ename": "AttributeError",
          "evalue": "type object 'Student' has no attribute 'course_details'",
          "output_type": "error",
          "traceback": [
            "\u001b[31m---------------------------------------------------------------------------\u001b[39m",
            "\u001b[31mAttributeError\u001b[39m                            Traceback (most recent call last)",
            "\u001b[36mCell\u001b[39m\u001b[36m \u001b[39m\u001b[32mIn[40]\u001b[39m\u001b[32m, line 1\u001b[39m\n\u001b[32m----> \u001b[39m\u001b[32m1\u001b[39m \u001b[43mStudent\u001b[49m\u001b[43m.\u001b[49m\u001b[43mcourse_details\u001b[49m(\u001b[33m\"\u001b[39m\u001b[33mData Science\u001b[39m\u001b[33m\"\u001b[39m) \u001b[38;5;66;03m# error as method is deleted\u001b[39;00m\n",
            "\u001b[31mAttributeError\u001b[39m: type object 'Student' has no attribute 'course_details'"
          ]
        }
      ],
      "source": [
        "Student.course_details(\"Data Science\") # error as method is deleted"
      ]
    },
    {
      "cell_type": "code",
      "execution_count": 41,
      "metadata": {},
      "outputs": [
        {
          "data": {
            "text/plain": [
              "0"
            ]
          },
          "execution_count": 41,
          "metadata": {},
          "output_type": "execute_result"
        }
      ],
      "source": [
        "Student.get_total_students()"
      ]
    },
    {
      "cell_type": "markdown",
      "metadata": {},
      "source": [
        "- Another way to delete"
      ]
    },
    {
      "cell_type": "code",
      "execution_count": 42,
      "metadata": {},
      "outputs": [],
      "source": [
        "delattr(Student, \"get_total_students\")"
      ]
    },
    {
      "cell_type": "code",
      "execution_count": 44,
      "metadata": {},
      "outputs": [
        {
          "ename": "AttributeError",
          "evalue": "type object 'Student' has no attribute 'get_total_students'",
          "output_type": "error",
          "traceback": [
            "\u001b[31m---------------------------------------------------------------------------\u001b[39m",
            "\u001b[31mAttributeError\u001b[39m                            Traceback (most recent call last)",
            "\u001b[36mCell\u001b[39m\u001b[36m \u001b[39m\u001b[32mIn[44]\u001b[39m\u001b[32m, line 1\u001b[39m\n\u001b[32m----> \u001b[39m\u001b[32m1\u001b[39m \u001b[43mStudent\u001b[49m\u001b[43m.\u001b[49m\u001b[43mget_total_students\u001b[49m() \u001b[38;5;66;03m# deleted attributes give an error\u001b[39;00m\n",
            "\u001b[31mAttributeError\u001b[39m: type object 'Student' has no attribute 'get_total_students'"
          ]
        }
      ],
      "source": [
        "Student.get_total_students() # deleted attributes give an error"
      ]
    },
    {
      "cell_type": "markdown",
      "metadata": {},
      "source": [
        "*Static Method*"
      ]
    },
    {
      "cell_type": "markdown",
      "metadata": {},
      "source": [
        "- Does not modify the class or instance state\n",
        "- Does not access instance or class state\n",
        "- Doesnot depend on class/ instance\n",
        "- It behaves like a plain function that belongs to class\n",
        "- It does not take either self or cls\n",
        "- @staticmethod is used\n",
        "- works with parameter pass"
      ]
    },
    {
      "cell_type": "code",
      "execution_count": 45,
      "metadata": {},
      "outputs": [],
      "source": [
        "class Calculator:\n",
        "\n",
        "    @staticmethod\n",
        "    def add(x, y):\n",
        "        return x+y\n",
        "    @staticmethod\n",
        "    def sub(x, y):\n",
        "        return x-y"
      ]
    },
    {
      "cell_type": "code",
      "execution_count": 46,
      "metadata": {},
      "outputs": [
        {
          "data": {
            "text/plain": [
              "9"
            ]
          },
          "execution_count": 46,
          "metadata": {},
          "output_type": "execute_result"
        }
      ],
      "source": [
        "Calculator.add(5,4)"
      ]
    },
    {
      "cell_type": "code",
      "execution_count": 47,
      "metadata": {},
      "outputs": [
        {
          "data": {
            "text/plain": [
              "5"
            ]
          },
          "execution_count": 47,
          "metadata": {},
          "output_type": "execute_result"
        }
      ],
      "source": [
        "Calculator.sub(9,4)"
      ]
    },
    {
      "cell_type": "markdown",
      "metadata": {},
      "source": [
        "## Dunder Method / Magic Method / Special Method"
      ]
    },
    {
      "cell_type": "markdown",
      "metadata": {},
      "source": [
        "- These are the methods defined by built-in classes in python\n",
        "- Classes define these type of methods for creating custom objects\n",
        "- Implementing operator overloading in Python\n",
        "- dunder = d + under , d == double , under == underscore"
      ]
    },
    {
      "cell_type": "code",
      "execution_count": null,
      "metadata": {},
      "outputs": [
        {
          "name": "stdout",
          "output_type": "stream",
          "text": [
            "hello Universe!\n"
          ]
        }
      ],
      "source": [
        "print(\"hello Universe!\") # print is a keyword / in-built function"
      ]
    },
    {
      "cell_type": "code",
      "execution_count": 1,
      "metadata": {},
      "outputs": [
        {
          "data": {
            "text/plain": [
              "'PWSkills'"
            ]
          },
          "execution_count": 1,
          "metadata": {},
          "output_type": "execute_result"
        }
      ],
      "source": [
        "a = \"PW\"\n",
        "b = \"Skills\"\n",
        "a+b"
      ]
    },
    {
      "cell_type": "code",
      "execution_count": 4,
      "metadata": {},
      "outputs": [
        {
          "data": {
            "text/plain": [
              "'PWSkills'"
            ]
          },
          "execution_count": 4,
          "metadata": {},
          "output_type": "execute_result"
        }
      ],
      "source": [
        "a.__add__(b) # dunder method associated with string"
      ]
    },
    {
      "cell_type": "markdown",
      "metadata": {},
      "source": [
        "- All dunder methods associated with strings"
      ]
    },
    {
      "cell_type": "code",
      "execution_count": 5,
      "metadata": {},
      "outputs": [
        {
          "data": {
            "text/plain": [
              "['__add__',\n",
              " '__class__',\n",
              " '__contains__',\n",
              " '__delattr__',\n",
              " '__dir__',\n",
              " '__doc__',\n",
              " '__eq__',\n",
              " '__format__',\n",
              " '__ge__',\n",
              " '__getattribute__',\n",
              " '__getitem__',\n",
              " '__getnewargs__',\n",
              " '__getstate__',\n",
              " '__gt__',\n",
              " '__hash__',\n",
              " '__init__',\n",
              " '__init_subclass__',\n",
              " '__iter__',\n",
              " '__le__',\n",
              " '__len__',\n",
              " '__lt__',\n",
              " '__mod__',\n",
              " '__mul__',\n",
              " '__ne__',\n",
              " '__new__',\n",
              " '__reduce__',\n",
              " '__reduce_ex__',\n",
              " '__repr__',\n",
              " '__rmod__',\n",
              " '__rmul__',\n",
              " '__setattr__',\n",
              " '__sizeof__',\n",
              " '__str__',\n",
              " '__subclasshook__',\n",
              " 'capitalize',\n",
              " 'casefold',\n",
              " 'center',\n",
              " 'count',\n",
              " 'encode',\n",
              " 'endswith',\n",
              " 'expandtabs',\n",
              " 'find',\n",
              " 'format',\n",
              " 'format_map',\n",
              " 'index',\n",
              " 'isalnum',\n",
              " 'isalpha',\n",
              " 'isascii',\n",
              " 'isdecimal',\n",
              " 'isdigit',\n",
              " 'isidentifier',\n",
              " 'islower',\n",
              " 'isnumeric',\n",
              " 'isprintable',\n",
              " 'isspace',\n",
              " 'istitle',\n",
              " 'isupper',\n",
              " 'join',\n",
              " 'ljust',\n",
              " 'lower',\n",
              " 'lstrip',\n",
              " 'maketrans',\n",
              " 'partition',\n",
              " 'removeprefix',\n",
              " 'removesuffix',\n",
              " 'replace',\n",
              " 'rfind',\n",
              " 'rindex',\n",
              " 'rjust',\n",
              " 'rpartition',\n",
              " 'rsplit',\n",
              " 'rstrip',\n",
              " 'split',\n",
              " 'splitlines',\n",
              " 'startswith',\n",
              " 'strip',\n",
              " 'swapcase',\n",
              " 'title',\n",
              " 'translate',\n",
              " 'upper',\n",
              " 'zfill']"
            ]
          },
          "execution_count": 5,
          "metadata": {},
          "output_type": "execute_result"
        }
      ],
      "source": [
        "dir(str)"
      ]
    },
    {
      "cell_type": "code",
      "execution_count": 6,
      "metadata": {},
      "outputs": [
        {
          "data": {
            "text/plain": [
              "8"
            ]
          },
          "execution_count": 6,
          "metadata": {},
          "output_type": "execute_result"
        }
      ],
      "source": [
        "3+5"
      ]
    },
    {
      "cell_type": "code",
      "execution_count": 7,
      "metadata": {},
      "outputs": [
        {
          "data": {
            "text/plain": [
              "8"
            ]
          },
          "execution_count": 7,
          "metadata": {},
          "output_type": "execute_result"
        }
      ],
      "source": [
        "a = 3\n",
        "b = 5\n",
        "a.__add__(b)"
      ]
    },
    {
      "cell_type": "code",
      "execution_count": 8,
      "metadata": {},
      "outputs": [
        {
          "data": {
            "text/plain": [
              "['__abs__',\n",
              " '__add__',\n",
              " '__and__',\n",
              " '__bool__',\n",
              " '__ceil__',\n",
              " '__class__',\n",
              " '__delattr__',\n",
              " '__dir__',\n",
              " '__divmod__',\n",
              " '__doc__',\n",
              " '__eq__',\n",
              " '__float__',\n",
              " '__floor__',\n",
              " '__floordiv__',\n",
              " '__format__',\n",
              " '__ge__',\n",
              " '__getattribute__',\n",
              " '__getnewargs__',\n",
              " '__getstate__',\n",
              " '__gt__',\n",
              " '__hash__',\n",
              " '__index__',\n",
              " '__init__',\n",
              " '__init_subclass__',\n",
              " '__int__',\n",
              " '__invert__',\n",
              " '__le__',\n",
              " '__lshift__',\n",
              " '__lt__',\n",
              " '__mod__',\n",
              " '__mul__',\n",
              " '__ne__',\n",
              " '__neg__',\n",
              " '__new__',\n",
              " '__or__',\n",
              " '__pos__',\n",
              " '__pow__',\n",
              " '__radd__',\n",
              " '__rand__',\n",
              " '__rdivmod__',\n",
              " '__reduce__',\n",
              " '__reduce_ex__',\n",
              " '__repr__',\n",
              " '__rfloordiv__',\n",
              " '__rlshift__',\n",
              " '__rmod__',\n",
              " '__rmul__',\n",
              " '__ror__',\n",
              " '__round__',\n",
              " '__rpow__',\n",
              " '__rrshift__',\n",
              " '__rshift__',\n",
              " '__rsub__',\n",
              " '__rtruediv__',\n",
              " '__rxor__',\n",
              " '__setattr__',\n",
              " '__sizeof__',\n",
              " '__str__',\n",
              " '__sub__',\n",
              " '__subclasshook__',\n",
              " '__truediv__',\n",
              " '__trunc__',\n",
              " '__xor__',\n",
              " 'as_integer_ratio',\n",
              " 'bit_count',\n",
              " 'bit_length',\n",
              " 'conjugate',\n",
              " 'denominator',\n",
              " 'from_bytes',\n",
              " 'imag',\n",
              " 'is_integer',\n",
              " 'numerator',\n",
              " 'real',\n",
              " 'to_bytes']"
            ]
          },
          "execution_count": 8,
          "metadata": {},
          "output_type": "execute_result"
        }
      ],
      "source": [
        "dir(int)"
      ]
    },
    {
      "cell_type": "markdown",
      "metadata": {},
      "source": [
        "- Useful dunder methods"
      ]
    },
    {
      "cell_type": "code",
      "execution_count": 13,
      "metadata": {},
      "outputs": [],
      "source": [
        "#__int__ >> to take data as object\n",
        "class Student:\n",
        "    def __init__(self, name):\n",
        "        print(f\"{name} This is the first thing that will be executeed when you make instance/object of class\")"
      ]
    },
    {
      "cell_type": "code",
      "execution_count": 15,
      "metadata": {},
      "outputs": [
        {
          "name": "stdout",
          "output_type": "stream",
          "text": [
            "Prag This is the first thing that will be executeed when you make instance/object of class\n"
          ]
        }
      ],
      "source": [
        "obj1 = Student(\"Prag\")"
      ]
    },
    {
      "cell_type": "code",
      "execution_count": 16,
      "metadata": {},
      "outputs": [
        {
          "name": "stdout",
          "output_type": "stream",
          "text": [
            "Dev This is the first thing that will be executeed when you make instance/object of class\n"
          ]
        }
      ],
      "source": [
        "obj2 = Student(\"Dev\")"
      ]
    },
    {
      "cell_type": "code",
      "execution_count": 20,
      "metadata": {},
      "outputs": [],
      "source": [
        "# Another Magic Method >> __new__\n",
        "class Student:\n",
        "    # __new__ is responsible for creating a new instance of class\n",
        "    def __new__(cls): # since cls >> it will refer to class directly\n",
        "        print(f\"This will be executed even before init.\")\n",
        "    # to intialise the newly created instance / object >> it sets up any initial state/ properties of state\n",
        "    def __init__(self, name):\n",
        "        print(f\"{name} This is the first thing that will be executeed when you make instance/object of class\")\n"
      ]
    },
    {
      "cell_type": "code",
      "execution_count": 18,
      "metadata": {},
      "outputs": [
        {
          "name": "stdout",
          "output_type": "stream",
          "text": [
            "This will be executed even before init.\n"
          ]
        }
      ],
      "source": [
        "obj = Student()"
      ]
    },
    {
      "cell_type": "code",
      "execution_count": 21,
      "metadata": {},
      "outputs": [],
      "source": [
        "# Another dunder methods >> __str__\n",
        "class Student:\n",
        "    def __init__(self):\n",
        "        self.phone = 12345\n",
        "        "
      ]
    },
    {
      "cell_type": "code",
      "execution_count": 23,
      "metadata": {},
      "outputs": [
        {
          "data": {
            "text/plain": [
              "<__main__.Student at 0x196399011d0>"
            ]
          },
          "execution_count": 23,
          "metadata": {},
          "output_type": "execute_result"
        }
      ],
      "source": [
        "Student()  # hexadscimal  representation of student object"
      ]
    },
    {
      "cell_type": "code",
      "execution_count": 24,
      "metadata": {},
      "outputs": [
        {
          "name": "stdout",
          "output_type": "stream",
          "text": [
            "<__main__.Student object at 0x00000196399007D0>\n"
          ]
        }
      ],
      "source": [
        "print(Student())"
      ]
    },
    {
      "cell_type": "code",
      "execution_count": 29,
      "metadata": {},
      "outputs": [],
      "source": [
        "class Student:\n",
        "    def __init__(self):\n",
        "        self.phone = 12345\n",
        "    def __str__(self): #__str__ will return string representation of objects\n",
        "        return \"This method overloads the print statement of object method\""
      ]
    },
    {
      "cell_type": "code",
      "execution_count": 30,
      "metadata": {},
      "outputs": [
        {
          "data": {
            "text/plain": [
              "<__main__.Student at 0x196396ca660>"
            ]
          },
          "execution_count": 30,
          "metadata": {},
          "output_type": "execute_result"
        }
      ],
      "source": [
        "Student()"
      ]
    },
    {
      "cell_type": "code",
      "execution_count": 31,
      "metadata": {},
      "outputs": [
        {
          "name": "stdout",
          "output_type": "stream",
          "text": [
            "This method overloads the print statement of object method\n"
          ]
        }
      ],
      "source": [
        "print(Student())"
      ]
    },
    {
      "cell_type": "code",
      "execution_count": 32,
      "metadata": {},
      "outputs": [],
      "source": [
        "# Another dunder method __repr__ >> means representation\n",
        "# It returns unambiguous string representation of the objects as it is that can be used to recreate the objects\n"
      ]
    },
    {
      "cell_type": "code",
      "execution_count": 33,
      "metadata": {},
      "outputs": [],
      "source": [
        "class MyClass:\n",
        "    def __init__(self, x):\n",
        "        self.x = x\n",
        "    def __repr__(self):\n",
        "        return f\"MyClass({self.x})\""
      ]
    },
    {
      "cell_type": "code",
      "execution_count": 35,
      "metadata": {},
      "outputs": [],
      "source": [
        "Obj = MyClass(5)"
      ]
    },
    {
      "cell_type": "code",
      "execution_count": 37,
      "metadata": {},
      "outputs": [
        {
          "name": "stdout",
          "output_type": "stream",
          "text": [
            "MyClass(5)\n"
          ]
        }
      ],
      "source": [
        "print(repr(Obj)) # it give similar representation of objects"
      ]
    },
    {
      "cell_type": "code",
      "execution_count": 38,
      "metadata": {},
      "outputs": [
        {
          "data": {
            "text/plain": [
              "True"
            ]
          },
          "execution_count": 38,
          "metadata": {},
          "output_type": "execute_result"
        }
      ],
      "source": [
        "# __eq__\n",
        "True == True"
      ]
    },
    {
      "cell_type": "code",
      "execution_count": 39,
      "metadata": {},
      "outputs": [
        {
          "data": {
            "text/plain": [
              "True"
            ]
          },
          "execution_count": 39,
          "metadata": {},
          "output_type": "execute_result"
        }
      ],
      "source": [
        "3 == 3"
      ]
    },
    {
      "cell_type": "code",
      "execution_count": 40,
      "metadata": {},
      "outputs": [
        {
          "data": {
            "text/plain": [
              "True"
            ]
          },
          "execution_count": 40,
          "metadata": {},
          "output_type": "execute_result"
        }
      ],
      "source": [
        "a = 3\n",
        "b = 3\n",
        "a.__eq__(b)"
      ]
    },
    {
      "cell_type": "code",
      "execution_count": 41,
      "metadata": {},
      "outputs": [
        {
          "data": {
            "text/plain": [
              "False"
            ]
          },
          "execution_count": 41,
          "metadata": {},
          "output_type": "execute_result"
        }
      ],
      "source": [
        "a = 3\n",
        "b = 4\n",
        "a.__eq__(b)"
      ]
    },
    {
      "cell_type": "markdown",
      "metadata": {},
      "source": [
        "*Use Case*\n",
        "- To compare two coordinates"
      ]
    },
    {
      "cell_type": "code",
      "execution_count": 42,
      "metadata": {},
      "outputs": [],
      "source": [
        "class Points:\n",
        "    def __init__(self, x, y):\n",
        "        self.x = x\n",
        "        self.y = y\n",
        "    def __eq__(self, other):\n",
        "        return self.x == other.x and self.y == other.y"
      ]
    },
    {
      "cell_type": "code",
      "execution_count": 44,
      "metadata": {},
      "outputs": [
        {
          "name": "stdout",
          "output_type": "stream",
          "text": [
            "True\n"
          ]
        }
      ],
      "source": [
        "p1 = Points(1,2)\n",
        "p2 = Points(1,2)\n",
        "print(p1 == p2)"
      ]
    },
    {
      "cell_type": "code",
      "execution_count": 45,
      "metadata": {},
      "outputs": [
        {
          "name": "stdout",
          "output_type": "stream",
          "text": [
            "False\n"
          ]
        }
      ],
      "source": [
        "p1 = Points(1,2)\n",
        "p2 = Points(-1, 2)\n",
        "print(p1 == p2)"
      ]
    },
    {
      "cell_type": "code",
      "execution_count": 46,
      "metadata": {},
      "outputs": [
        {
          "data": {
            "text/plain": [
              "8"
            ]
          },
          "execution_count": 46,
          "metadata": {},
          "output_type": "execute_result"
        }
      ],
      "source": [
        "#__add__\n",
        "a = 3\n",
        "b = 5\n",
        "a+b"
      ]
    },
    {
      "cell_type": "code",
      "execution_count": 51,
      "metadata": {},
      "outputs": [],
      "source": [
        "class Points:\n",
        "    def __init__(self, x, y):\n",
        "        self.x = x\n",
        "        self.y = y\n",
        "    def __add__(self, other):\n",
        "        return Points(self.x + other.x, self.y +other.y)"
      ]
    },
    {
      "cell_type": "code",
      "execution_count": 54,
      "metadata": {},
      "outputs": [
        {
          "name": "stdout",
          "output_type": "stream",
          "text": [
            "2 4\n"
          ]
        }
      ],
      "source": [
        "p1 = Points(1,2)\n",
        "p2 = Points(1,2)\n",
        "p3 = p1+p2 # when we use + operator with points object, python internally call __add__ >> method overloading\n",
        "print(p3.x , p3.y)"
      ]
    },
    {
      "cell_type": "code",
      "execution_count": 55,
      "metadata": {},
      "outputs": [
        {
          "name": "stdout",
          "output_type": "stream",
          "text": [
            "4 6\n"
          ]
        }
      ],
      "source": [
        "p1 = Points(3,2)\n",
        "p2 = Points(1,4)\n",
        "p3 = p1+p2\n",
        "print(p3.x , p3.y)"
      ]
    },
    {
      "cell_type": "markdown",
      "metadata": {},
      "source": [
        "## Decorators"
      ]
    },
    {
      "cell_type": "markdown",
      "metadata": {},
      "source": [
        "*Decorators*\n",
        "- It allows to modify or extend the behaviour of functions / class without directly modifying their code.\n",
        "- Similar to decorating your room (putting different lights, stickers, posters) \n",
        "- To enhance / extends / decorate the basic behaviour of room."
      ]
    },
    {
      "cell_type": "markdown",
      "metadata": {},
      "source": [
        "### Function decorators"
      ]
    },
    {
      "cell_type": "code",
      "execution_count": 1,
      "metadata": {},
      "outputs": [],
      "source": [
        "def my_decorator_func():\n",
        "    print(\"The line before computation.\")\n",
        "    print(11*12)\n",
        "    print(\"The line after computation.\")"
      ]
    },
    {
      "cell_type": "code",
      "execution_count": 2,
      "metadata": {},
      "outputs": [
        {
          "name": "stdout",
          "output_type": "stream",
          "text": [
            "The line before computation.\n",
            "132\n",
            "The line after computation.\n"
          ]
        }
      ],
      "source": [
        "my_decorator_func()"
      ]
    },
    {
      "cell_type": "markdown",
      "metadata": {},
      "source": [
        "- Suppose you want to use line before computation and after computation after each time you create a function/ call function.\n",
        "- So it will take a lots of time to type the lines repeatedly.\n",
        "- And that's why the concept of decorator comes to the pictures."
      ]
    },
    {
      "cell_type": "code",
      "execution_count": 5,
      "metadata": {},
      "outputs": [],
      "source": [
        "def my_decorator_func():\n",
        "    print(\"*_*_*_*_*_*\")\n",
        "    print(11*12)\n",
        "    print(\"*_*_*_*_*_*_*\")\n",
        "# In the above approach you have to write the lines as many times as you are creating the functions"
      ]
    },
    {
      "cell_type": "code",
      "execution_count": 4,
      "metadata": {},
      "outputs": [
        {
          "name": "stdout",
          "output_type": "stream",
          "text": [
            "*_*_*_*_*_*\n",
            "132\n",
            "*_*_*_*_*_*_*\n"
          ]
        }
      ],
      "source": [
        "my_decorator_func()"
      ]
    },
    {
      "cell_type": "code",
      "execution_count": 24,
      "metadata": {},
      "outputs": [],
      "source": [
        "# Decorator Approach\n",
        "# Use case\n",
        "def my_decorator(func): # func as paramater\n",
        "    def wrapper(): # add functionality before and after calling function\n",
        "        print(\"-------------\")\n",
        "        func() # say_hello which is the func here will be executed\n",
        "        print(\"*____________*\")\n",
        "    return wrapper"
      ]
    },
    {
      "cell_type": "code",
      "execution_count": 25,
      "metadata": {},
      "outputs": [],
      "source": [
        "def say_hello():\n",
        "    print(\"HELLOOO\")"
      ]
    },
    {
      "cell_type": "code",
      "execution_count": 26,
      "metadata": {},
      "outputs": [
        {
          "name": "stdout",
          "output_type": "stream",
          "text": [
            "HELLOOO\n"
          ]
        }
      ],
      "source": [
        "say_hello()\n",
        "# when say_hello is called , it is actually first calling the decorator functions\n",
        "# which in return is calling wrapper function and then wrapper function is printing the line and calling say_hello func"
      ]
    },
    {
      "cell_type": "code",
      "execution_count": 29,
      "metadata": {},
      "outputs": [],
      "source": [
        "@my_decorator  #Syntax\n",
        "def say_hello():\n",
        "    print(\"HELLOOO\")\n"
      ]
    },
    {
      "cell_type": "code",
      "execution_count": 30,
      "metadata": {},
      "outputs": [
        {
          "name": "stdout",
          "output_type": "stream",
          "text": [
            "-------------\n",
            "HELLOOO\n",
            "*____________*\n"
          ]
        }
      ],
      "source": [
        "say_hello()"
      ]
    },
    {
      "cell_type": "code",
      "execution_count": 31,
      "metadata": {},
      "outputs": [],
      "source": [
        "# Another use case of function decorator\n",
        "# run time of a code\n",
        "\n",
        "import time\n",
        "def timer_decorator(func):\n",
        "    def timer():\n",
        "        start = time.time()\n",
        "        func()\n",
        "        end = time.time()\n",
        "        print(\"The time for executing the code is \", end-start)\n",
        "    return timer"
      ]
    },
    {
      "cell_type": "code",
      "execution_count": 32,
      "metadata": {},
      "outputs": [],
      "source": [
        "@timer_decorator\n",
        "def func_test():\n",
        "    print(11*1000)"
      ]
    },
    {
      "cell_type": "code",
      "execution_count": 33,
      "metadata": {},
      "outputs": [
        {
          "name": "stdout",
          "output_type": "stream",
          "text": [
            "11000\n",
            "The time for executing the code is  0.00043582916259765625\n"
          ]
        }
      ],
      "source": [
        "func_test()"
      ]
    },
    {
      "cell_type": "code",
      "execution_count": 34,
      "metadata": {},
      "outputs": [],
      "source": [
        "@timer_decorator\n",
        "def func_test():\n",
        "    print(11*924809278462)"
      ]
    },
    {
      "cell_type": "code",
      "execution_count": 35,
      "metadata": {},
      "outputs": [
        {
          "name": "stdout",
          "output_type": "stream",
          "text": [
            "10172902063082\n",
            "The time for executing the code is  0.000385284423828125\n"
          ]
        }
      ],
      "source": [
        "func_test()"
      ]
    },
    {
      "cell_type": "code",
      "execution_count": 36,
      "metadata": {},
      "outputs": [],
      "source": [
        "@timer_decorator\n",
        "def func_test1():\n",
        "    print(11*92480927+8462**2+767857)"
      ]
    },
    {
      "cell_type": "code",
      "execution_count": 37,
      "metadata": {},
      "outputs": [
        {
          "name": "stdout",
          "output_type": "stream",
          "text": [
            "1089663498\n",
            "The time for executing the code is  0.0009768009185791016\n"
          ]
        }
      ],
      "source": [
        "func_test1()"
      ]
    },
    {
      "cell_type": "markdown",
      "metadata": {},
      "source": [
        "*Why do we need decorator?*\n",
        "- Reusability of code\n",
        "- Enhancing the function without modifying the org func\n"
      ]
    },
    {
      "cell_type": "markdown",
      "metadata": {},
      "source": [
        "*Use Case*\n",
        "- Execution time of code\n",
        "- Logging\n",
        "- Caching\n",
        "- Validation"
      ]
    },
    {
      "cell_type": "markdown",
      "metadata": {},
      "source": [
        "### Class decorators"
      ]
    },
    {
      "cell_type": "code",
      "execution_count": 43,
      "metadata": {},
      "outputs": [],
      "source": [
        "class MyDecorator():\n",
        "    def __init__(self, func):\n",
        "        self.func = func\n",
        "    def __call__(self):  #__call__ is a special method inside the class used to call object/instance of the class as a function\n",
        "        print(\"Before function.\")\n",
        "        self.func()\n",
        "        print(\"After function.\")"
      ]
    },
    {
      "cell_type": "code",
      "execution_count": 44,
      "metadata": {},
      "outputs": [],
      "source": [
        "def say_hello():\n",
        "    print(\"Helloo\")"
      ]
    },
    {
      "cell_type": "code",
      "execution_count": 45,
      "metadata": {},
      "outputs": [
        {
          "name": "stdout",
          "output_type": "stream",
          "text": [
            "Helloo\n"
          ]
        }
      ],
      "source": [
        "say_hello()"
      ]
    },
    {
      "cell_type": "code",
      "execution_count": 46,
      "metadata": {},
      "outputs": [],
      "source": [
        "@MyDecorator\n",
        "def say_hello():\n",
        "    print(\"Helloo\")"
      ]
    },
    {
      "cell_type": "code",
      "execution_count": 47,
      "metadata": {},
      "outputs": [
        {
          "name": "stdout",
          "output_type": "stream",
          "text": [
            "Before function.\n",
            "Helloo\n",
            "After function.\n"
          ]
        }
      ],
      "source": [
        "say_hello()"
      ]
    },
    {
      "cell_type": "code",
      "execution_count": 62,
      "metadata": {},
      "outputs": [],
      "source": [
        "class MyDecorator():\n",
        "    def __init__(self, func):\n",
        "        self.func = func\n",
        "        print(\"Inside init function.\")\n",
        "    def __call__(self):  #__call__ is a special method inside the class used to call object/instance of the class as a function\n",
        "        print(\"Before function.\")\n",
        "        self.func()\n",
        "        print(\"After function.\")"
      ]
    },
    {
      "cell_type": "code",
      "execution_count": 63,
      "metadata": {},
      "outputs": [
        {
          "name": "stdout",
          "output_type": "stream",
          "text": [
            "Inside init function.\n",
            "Before function.\n",
            "Helloo\n",
            "After function.\n"
          ]
        }
      ],
      "source": [
        "@MyDecorator  # class __call__ will be executed\n",
        "def say_hello():\n",
        "    print(\"Helloo\")\n",
        "say_hello()"
      ]
    },
    {
      "cell_type": "code",
      "execution_count": 64,
      "metadata": {},
      "outputs": [
        {
          "name": "stdout",
          "output_type": "stream",
          "text": [
            "Before function.\n",
            "Helloo\n",
            "After function.\n"
          ]
        }
      ],
      "source": [
        "say_hello()"
      ]
    },
    {
      "cell_type": "code",
      "execution_count": 65,
      "metadata": {},
      "outputs": [],
      "source": [
        "class MyDecorator():\n",
        "    def __init__(self):\n",
        "        # self.func = func\n",
        "        print(\"Inside init function.\")\n",
        "    def __call__(self):  #__call__ is a special method inside the class used to call object/instance of the class as a function\n",
        "        print(\"Before function.\")\n",
        "        # self.func()\n",
        "        print(\"After function.\")"
      ]
    },
    {
      "cell_type": "markdown",
      "metadata": {},
      "source": [
        "- when you make an object of the class, init is executed first."
      ]
    },
    {
      "cell_type": "code",
      "execution_count": 66,
      "metadata": {},
      "outputs": [
        {
          "name": "stdout",
          "output_type": "stream",
          "text": [
            "Inside init function.\n"
          ]
        }
      ],
      "source": [
        "obj1 = MyDecorator() "
      ]
    },
    {
      "cell_type": "markdown",
      "metadata": {},
      "source": [
        "- when you call an object of the class as function __call__ method will be invoked"
      ]
    },
    {
      "cell_type": "code",
      "execution_count": 67,
      "metadata": {},
      "outputs": [
        {
          "name": "stdout",
          "output_type": "stream",
          "text": [
            "Before function.\n",
            "After function.\n"
          ]
        }
      ],
      "source": [
        "obj1()"
      ]
    },
    {
      "cell_type": "markdown",
      "metadata": {},
      "source": [
        "- Some in-built decorators"
      ]
    },
    {
      "cell_type": "markdown",
      "metadata": {},
      "source": [
        "#### Class Method : @classmethod"
      ]
    },
    {
      "cell_type": "markdown",
      "metadata": {},
      "source": [
        "- @classmethod : it takes the class itself as the first arguements"
      ]
    },
    {
      "cell_type": "code",
      "execution_count": 3,
      "metadata": {},
      "outputs": [],
      "source": [
        "class Math:\n",
        "    @classmethod # takes reference to the class itself to modify and access class leveln attributes\n",
        "    def add(cls, x, y):\n",
        "        return cls.__name__, x, y  # refering to class math\n"
      ]
    },
    {
      "cell_type": "code",
      "execution_count": 4,
      "metadata": {},
      "outputs": [
        {
          "data": {
            "text/plain": [
              "('Math', 3, 5)"
            ]
          },
          "execution_count": 4,
          "metadata": {},
          "output_type": "execute_result"
        }
      ],
      "source": [
        "# no need of __init__\n",
        "Math.add(3,5)"
      ]
    },
    {
      "cell_type": "code",
      "execution_count": 5,
      "metadata": {},
      "outputs": [],
      "source": [
        "class Math:\n",
        "    @classmethod \n",
        "    def add(cls, x, y):\n",
        "        return cls.__name__, x+y"
      ]
    },
    {
      "cell_type": "code",
      "execution_count": 6,
      "metadata": {},
      "outputs": [
        {
          "data": {
            "text/plain": [
              "('Math', 8)"
            ]
          },
          "execution_count": 6,
          "metadata": {},
          "output_type": "execute_result"
        }
      ],
      "source": [
        "Math.add(3,5)"
      ]
    },
    {
      "cell_type": "markdown",
      "metadata": {},
      "source": [
        "- Class methods are the methods which are bound to class and not bound to instance of the class.\n",
        "- CLass itself is the first arguements\n",
        "- Conventionally cls"
      ]
    },
    {
      "cell_type": "markdown",
      "metadata": {},
      "source": [
        "#### Static Method : @staticmethod"
      ]
    },
    {
      "cell_type": "markdown",
      "metadata": {},
      "source": [
        "- The method which can be called without creating any instance of the class and without using any self or cls."
      ]
    },
    {
      "cell_type": "code",
      "execution_count": 8,
      "metadata": {},
      "outputs": [],
      "source": [
        "class Math:\n",
        "    def add(self,x , y):\n",
        "        return x+y"
      ]
    },
    {
      "cell_type": "code",
      "execution_count": 11,
      "metadata": {},
      "outputs": [],
      "source": [
        "a = Math() # make object/ instance"
      ]
    },
    {
      "cell_type": "code",
      "execution_count": 12,
      "metadata": {},
      "outputs": [
        {
          "data": {
            "text/plain": [
              "5"
            ]
          },
          "execution_count": 12,
          "metadata": {},
          "output_type": "execute_result"
        }
      ],
      "source": [
        "a.add(2,3) # in this way we call regular class method"
      ]
    },
    {
      "cell_type": "code",
      "execution_count": 14,
      "metadata": {},
      "outputs": [],
      "source": [
        "# Use of static method\n",
        "class Math:\n",
        "    @staticmethod\n",
        "    def add(x, y): # no need of self or cls\n",
        "        return x+y"
      ]
    },
    {
      "cell_type": "code",
      "execution_count": 15,
      "metadata": {},
      "outputs": [
        {
          "data": {
            "text/plain": [
              "5"
            ]
          },
          "execution_count": 15,
          "metadata": {},
          "output_type": "execute_result"
        }
      ],
      "source": [
        "Math.add(2,3)"
      ]
    },
    {
      "cell_type": "markdown",
      "metadata": {},
      "source": [
        "- *_ClassMethod_*\n",
        "- cls as first arguements\n",
        "- access and modify class level attributes\n",
        "\n",
        "\n",
        "- *_StaticMethod_*\n",
        "- No first arguements\n",
        "- Cannot access"
      ]
    },
    {
      "cell_type": "markdown",
      "metadata": {},
      "source": [
        "### Property Decorator"
      ]
    },
    {
      "cell_type": "markdown",
      "metadata": {},
      "source": [
        "- It allows method to be accessed as attributes\n",
        "- Allowed to use class method as attributes"
      ]
    },
    {
      "cell_type": "code",
      "execution_count": 16,
      "metadata": {},
      "outputs": [],
      "source": [
        "class Circle:\n",
        "    def __init__(self, radius):\n",
        "        self.radius = radius\n",
        "        "
      ]
    },
    {
      "cell_type": "code",
      "execution_count": 17,
      "metadata": {},
      "outputs": [],
      "source": [
        "obj = Circle(5)"
      ]
    },
    {
      "cell_type": "code",
      "execution_count": 19,
      "metadata": {},
      "outputs": [
        {
          "data": {
            "text/plain": [
              "5"
            ]
          },
          "execution_count": 19,
          "metadata": {},
          "output_type": "execute_result"
        }
      ],
      "source": [
        "obj.radius # accessing data/ attributes"
      ]
    },
    {
      "cell_type": "code",
      "execution_count": 24,
      "metadata": {},
      "outputs": [],
      "source": [
        "class Circle:\n",
        "    def __init__(self, radius):\n",
        "        self.radius = radius\n",
        "    def area(self):\n",
        "        radius = self.radius\n",
        "        return 3.14*radius*radius"
      ]
    },
    {
      "cell_type": "code",
      "execution_count": 27,
      "metadata": {},
      "outputs": [
        {
          "data": {
            "text/plain": [
              "5"
            ]
          },
          "execution_count": 27,
          "metadata": {},
          "output_type": "execute_result"
        }
      ],
      "source": [
        "obj = Circle(5)\n",
        "obj.radius"
      ]
    },
    {
      "cell_type": "code",
      "execution_count": 30,
      "metadata": {},
      "outputs": [
        {
          "data": {
            "text/plain": [
              "78.5"
            ]
          },
          "execution_count": 30,
          "metadata": {},
          "output_type": "execute_result"
        }
      ],
      "source": [
        "obj.area() #general method using paranthesis"
      ]
    },
    {
      "cell_type": "code",
      "execution_count": 31,
      "metadata": {},
      "outputs": [],
      "source": [
        "# Using property decorator\n",
        "class Circle:\n",
        "    def __init__(self, radius):\n",
        "        self.radius = radius\n",
        "    @property\n",
        "    def area(self):\n",
        "        radius = self.radius\n",
        "        return 3.14*radius*radius"
      ]
    },
    {
      "cell_type": "code",
      "execution_count": 32,
      "metadata": {},
      "outputs": [
        {
          "data": {
            "text/plain": [
              "5"
            ]
          },
          "execution_count": 32,
          "metadata": {},
          "output_type": "execute_result"
        }
      ],
      "source": [
        "obj1 = Circle(5)\n",
        "obj1.radius"
      ]
    },
    {
      "cell_type": "code",
      "execution_count": 34,
      "metadata": {},
      "outputs": [
        {
          "data": {
            "text/plain": [
              "78.5"
            ]
          },
          "execution_count": 34,
          "metadata": {},
          "output_type": "execute_result"
        }
      ],
      "source": [
        "obj1.area # no paranthesis"
      ]
    },
    {
      "cell_type": "markdown",
      "metadata": {},
      "source": [
        "- Example"
      ]
    },
    {
      "cell_type": "code",
      "execution_count": 35,
      "metadata": {},
      "outputs": [],
      "source": [
        "class Student:\n",
        "    def __init__(self, name, price):\n",
        "        self.__name = name\n",
        "        self.__price = price\n",
        "        "
      ]
    },
    {
      "cell_type": "code",
      "execution_count": 36,
      "metadata": {},
      "outputs": [],
      "source": [
        "stud = Student(\"Anu\",3000)"
      ]
    },
    {
      "cell_type": "code",
      "execution_count": 38,
      "metadata": {},
      "outputs": [
        {
          "ename": "AttributeError",
          "evalue": "'Student' object has no attribute '__name'",
          "output_type": "error",
          "traceback": [
            "\u001b[31m---------------------------------------------------------------------------\u001b[39m",
            "\u001b[31mAttributeError\u001b[39m                            Traceback (most recent call last)",
            "\u001b[36mCell\u001b[39m\u001b[36m \u001b[39m\u001b[32mIn[38]\u001b[39m\u001b[32m, line 1\u001b[39m\n\u001b[32m----> \u001b[39m\u001b[32m1\u001b[39m \u001b[43mstud\u001b[49m\u001b[43m.\u001b[49m\u001b[43m__name\u001b[49m \u001b[38;5;66;03m# as __name is private variable\u001b[39;00m\n",
            "\u001b[31mAttributeError\u001b[39m: 'Student' object has no attribute '__name'"
          ]
        }
      ],
      "source": [
        "stud.__name # as __name is private variable"
      ]
    },
    {
      "cell_type": "code",
      "execution_count": 39,
      "metadata": {},
      "outputs": [
        {
          "data": {
            "text/plain": [
              "'Anu'"
            ]
          },
          "execution_count": 39,
          "metadata": {},
          "output_type": "execute_result"
        }
      ],
      "source": [
        "# we can access the private variable if we know structure of class\n",
        "stud._Student__name"
      ]
    },
    {
      "cell_type": "code",
      "execution_count": 40,
      "metadata": {},
      "outputs": [
        {
          "data": {
            "text/plain": [
              "3000"
            ]
          },
          "execution_count": 40,
          "metadata": {},
          "output_type": "execute_result"
        }
      ],
      "source": [
        "stud._Student__price"
      ]
    },
    {
      "cell_type": "code",
      "execution_count": 42,
      "metadata": {},
      "outputs": [],
      "source": [
        "\n",
        "# Another way to expose private variables using property decorators\n",
        "class Student:\n",
        "    def __init__(self, name, price):\n",
        "        self.__name = name\n",
        "        self.__price = price\n",
        "    @property\n",
        "    def access_price(self):\n",
        "        return self.__price"
      ]
    },
    {
      "cell_type": "code",
      "execution_count": 43,
      "metadata": {},
      "outputs": [],
      "source": [
        "stud = Student(\"Anu\", 4500)"
      ]
    },
    {
      "cell_type": "code",
      "execution_count": 44,
      "metadata": {},
      "outputs": [
        {
          "data": {
            "text/plain": [
              "4500"
            ]
          },
          "execution_count": 44,
          "metadata": {},
          "output_type": "execute_result"
        }
      ],
      "source": [
        "stud.access_price"
      ]
    },
    {
      "cell_type": "code",
      "execution_count": 45,
      "metadata": {},
      "outputs": [],
      "source": [
        "# You want to modify the price\n",
        "class Student:\n",
        "    def __init__(self, name, price):\n",
        "        self.__name = name\n",
        "        self.__price = price\n",
        "    @property\n",
        "    def access_price(self):\n",
        "        return self.__price\n",
        "    \n",
        "    @access_price.setter\n",
        "    def price_set(self, price_new):\n",
        "        self.__price = price_new"
      ]
    },
    {
      "cell_type": "code",
      "execution_count": 46,
      "metadata": {},
      "outputs": [],
      "source": [
        "stud = Student(\"Anu\", 5000)"
      ]
    },
    {
      "cell_type": "code",
      "execution_count": 47,
      "metadata": {},
      "outputs": [
        {
          "data": {
            "text/plain": [
              "5000"
            ]
          },
          "execution_count": 47,
          "metadata": {},
          "output_type": "execute_result"
        }
      ],
      "source": [
        "stud.access_price"
      ]
    },
    {
      "cell_type": "code",
      "execution_count": 48,
      "metadata": {},
      "outputs": [],
      "source": [
        "stud.price_set = 6000"
      ]
    },
    {
      "cell_type": "code",
      "execution_count": 49,
      "metadata": {},
      "outputs": [
        {
          "data": {
            "text/plain": [
              "6000"
            ]
          },
          "execution_count": 49,
          "metadata": {},
          "output_type": "execute_result"
        }
      ],
      "source": [
        "stud.access_price"
      ]
    },
    {
      "cell_type": "code",
      "execution_count": 57,
      "metadata": {},
      "outputs": [],
      "source": [
        "# You want to delete the variable price\n",
        "class Student:\n",
        "    def __init__(self, name, price):\n",
        "        self.__name = name\n",
        "        self.__price = price\n",
        "    @property\n",
        "    def access_price(self):\n",
        "        return self.__price\n",
        "    \n",
        "    @access_price.setter\n",
        "    def access_set(self, price_new):\n",
        "        self.__price = price_new\n",
        "\n",
        "    @access_price.deleter\n",
        "    def access_price(self):\n",
        "        del self.__price"
      ]
    },
    {
      "cell_type": "code",
      "execution_count": 58,
      "metadata": {},
      "outputs": [],
      "source": [
        "stud = Student('Anu', 15000)"
      ]
    },
    {
      "cell_type": "code",
      "execution_count": 59,
      "metadata": {},
      "outputs": [
        {
          "data": {
            "text/plain": [
              "15000"
            ]
          },
          "execution_count": 59,
          "metadata": {},
          "output_type": "execute_result"
        }
      ],
      "source": [
        "stud.access_price"
      ]
    },
    {
      "cell_type": "code",
      "execution_count": 60,
      "metadata": {},
      "outputs": [],
      "source": [
        "stud.price_set = 20000"
      ]
    },
    {
      "cell_type": "code",
      "execution_count": 61,
      "metadata": {},
      "outputs": [
        {
          "data": {
            "text/plain": [
              "15000"
            ]
          },
          "execution_count": 61,
          "metadata": {},
          "output_type": "execute_result"
        }
      ],
      "source": [
        "stud.access_price"
      ]
    },
    {
      "cell_type": "code",
      "execution_count": 65,
      "metadata": {},
      "outputs": [],
      "source": [
        "del stud.access_price"
      ]
    },
    {
      "cell_type": "code",
      "execution_count": 67,
      "metadata": {},
      "outputs": [
        {
          "ename": "AttributeError",
          "evalue": "'Student' object has no attribute '_Student__price'",
          "output_type": "error",
          "traceback": [
            "\u001b[31m---------------------------------------------------------------------------\u001b[39m",
            "\u001b[31mAttributeError\u001b[39m                            Traceback (most recent call last)",
            "\u001b[36mCell\u001b[39m\u001b[36m \u001b[39m\u001b[32mIn[67]\u001b[39m\u001b[32m, line 1\u001b[39m\n\u001b[32m----> \u001b[39m\u001b[32m1\u001b[39m \u001b[43mstud\u001b[49m\u001b[43m.\u001b[49m\u001b[43maccess_price\u001b[49m \u001b[38;5;66;03m# access price deleted\u001b[39;00m\n",
            "\u001b[36mCell\u001b[39m\u001b[36m \u001b[39m\u001b[32mIn[57]\u001b[39m\u001b[32m, line 8\u001b[39m, in \u001b[36mStudent.access_price\u001b[39m\u001b[34m(self)\u001b[39m\n\u001b[32m      6\u001b[39m \u001b[38;5;129m@property\u001b[39m\n\u001b[32m      7\u001b[39m \u001b[38;5;28;01mdef\u001b[39;00m\u001b[38;5;250m \u001b[39m\u001b[34maccess_price\u001b[39m(\u001b[38;5;28mself\u001b[39m):\n\u001b[32m----> \u001b[39m\u001b[32m8\u001b[39m     \u001b[38;5;28;01mreturn\u001b[39;00m \u001b[38;5;28;43mself\u001b[39;49m\u001b[43m.\u001b[49m\u001b[43m__price\u001b[49m\n",
            "\u001b[31mAttributeError\u001b[39m: 'Student' object has no attribute '_Student__price'"
          ]
        }
      ],
      "source": [
        "stud.access_price # access price deleted"
      ]
    },
    {
      "cell_type": "code",
      "execution_count": 68,
      "metadata": {},
      "outputs": [],
      "source": [
        "# Use Case\n",
        "class Circle:\n",
        "    def __init__(self, radius):\n",
        "        self.__radius = radius\n",
        "\n",
        "    @property\n",
        "    def radius(self):\n",
        "        return self.__radius"
      ]
    },
    {
      "cell_type": "code",
      "execution_count": 69,
      "metadata": {},
      "outputs": [],
      "source": [
        "c= Circle(5)"
      ]
    },
    {
      "cell_type": "code",
      "execution_count": 70,
      "metadata": {},
      "outputs": [
        {
          "data": {
            "text/plain": [
              "5"
            ]
          },
          "execution_count": 70,
          "metadata": {},
          "output_type": "execute_result"
        }
      ],
      "source": [
        "c.radius"
      ]
    },
    {
      "cell_type": "code",
      "execution_count": 94,
      "metadata": {},
      "outputs": [],
      "source": [
        "class Circle:\n",
        "    def __init__(self, radius):\n",
        "        self.__radius = radius\n",
        "\n",
        "    @property\n",
        "    def radius(self):\n",
        "        return self.__radius\n",
        "    @radius.setter\n",
        "    def radius(self, value):\n",
        "        if value <= 0:\n",
        "            raise ValueError(\"Radius must not negative\")\n",
        "        self.__radius = value\n",
        "    def area(self):\n",
        "        return 3.14*self.__radius**2"
      ]
    },
    {
      "cell_type": "code",
      "execution_count": 95,
      "metadata": {},
      "outputs": [],
      "source": [
        "c1 = Circle(5)"
      ]
    },
    {
      "cell_type": "code",
      "execution_count": 96,
      "metadata": {},
      "outputs": [
        {
          "data": {
            "text/plain": [
              "5"
            ]
          },
          "execution_count": 96,
          "metadata": {},
          "output_type": "execute_result"
        }
      ],
      "source": [
        "c1.radius"
      ]
    },
    {
      "cell_type": "code",
      "execution_count": 97,
      "metadata": {},
      "outputs": [],
      "source": [
        "c1.radius = 10"
      ]
    },
    {
      "cell_type": "code",
      "execution_count": 98,
      "metadata": {},
      "outputs": [
        {
          "data": {
            "text/plain": [
              "10"
            ]
          },
          "execution_count": 98,
          "metadata": {},
          "output_type": "execute_result"
        }
      ],
      "source": [
        "c1.radius"
      ]
    },
    {
      "cell_type": "code",
      "execution_count": 109,
      "metadata": {},
      "outputs": [
        {
          "ename": "ValueError",
          "evalue": "Radius must not negative",
          "output_type": "error",
          "traceback": [
            "\u001b[31m---------------------------------------------------------------------------\u001b[39m",
            "\u001b[31mValueError\u001b[39m                                Traceback (most recent call last)",
            "\u001b[36mCell\u001b[39m\u001b[36m \u001b[39m\u001b[32mIn[109]\u001b[39m\u001b[32m, line 1\u001b[39m\n\u001b[32m----> \u001b[39m\u001b[32m1\u001b[39m \u001b[43mc1\u001b[49m\u001b[43m.\u001b[49m\u001b[43mradius\u001b[49m = -\u001b[32m2\u001b[39m\n",
            "\u001b[36mCell\u001b[39m\u001b[36m \u001b[39m\u001b[32mIn[94]\u001b[39m\u001b[32m, line 11\u001b[39m, in \u001b[36mCircle.radius\u001b[39m\u001b[34m(self, value)\u001b[39m\n\u001b[32m      8\u001b[39m \u001b[38;5;129m@radius\u001b[39m.setter\n\u001b[32m      9\u001b[39m \u001b[38;5;28;01mdef\u001b[39;00m\u001b[38;5;250m \u001b[39m\u001b[34mradius\u001b[39m(\u001b[38;5;28mself\u001b[39m, value):\n\u001b[32m     10\u001b[39m     \u001b[38;5;28;01mif\u001b[39;00m value <= \u001b[32m0\u001b[39m:\n\u001b[32m---> \u001b[39m\u001b[32m11\u001b[39m         \u001b[38;5;28;01mraise\u001b[39;00m \u001b[38;5;167;01mValueError\u001b[39;00m(\u001b[33m\"\u001b[39m\u001b[33mRadius must not negative\u001b[39m\u001b[33m\"\u001b[39m)\n\u001b[32m     12\u001b[39m     \u001b[38;5;28mself\u001b[39m.__radius = value\n",
            "\u001b[31mValueError\u001b[39m: Radius must not negative"
          ]
        }
      ],
      "source": [
        "c1.radius = -2"
      ]
    },
    {
      "cell_type": "code",
      "execution_count": 100,
      "metadata": {},
      "outputs": [
        {
          "data": {
            "text/plain": [
              "314.0"
            ]
          },
          "execution_count": 100,
          "metadata": {},
          "output_type": "execute_result"
        }
      ],
      "source": [
        "c1.area()"
      ]
    },
    {
      "cell_type": "code",
      "execution_count": 101,
      "metadata": {},
      "outputs": [],
      "source": [
        "class Circle:\n",
        "    def __init__(self, radius):\n",
        "        self.__radius = radius\n",
        "\n",
        "    @property\n",
        "    def radius(self):\n",
        "        return self.__radius\n",
        "    @radius.setter\n",
        "    def radius(self, value):\n",
        "        if value <= 0:\n",
        "            raise ValueError(\"Radius must not negative\")\n",
        "        self.__radius = value\n",
        "    @radius.deleter\n",
        "    def radius(self):\n",
        "        del self.__radius\n",
        "    def area(self):\n",
        "        return 3.14*self.__radius**2"
      ]
    },
    {
      "cell_type": "code",
      "execution_count": 102,
      "metadata": {},
      "outputs": [],
      "source": [
        "c = Circle(10)"
      ]
    },
    {
      "cell_type": "code",
      "execution_count": 104,
      "metadata": {},
      "outputs": [
        {
          "data": {
            "text/plain": [
              "314.0"
            ]
          },
          "execution_count": 104,
          "metadata": {},
          "output_type": "execute_result"
        }
      ],
      "source": [
        "c.area()"
      ]
    },
    {
      "cell_type": "code",
      "execution_count": 105,
      "metadata": {},
      "outputs": [
        {
          "data": {
            "text/plain": [
              "10"
            ]
          },
          "execution_count": 105,
          "metadata": {},
          "output_type": "execute_result"
        }
      ],
      "source": [
        "c.radius"
      ]
    },
    {
      "cell_type": "code",
      "execution_count": 106,
      "metadata": {},
      "outputs": [],
      "source": [
        "del c.radius"
      ]
    },
    {
      "cell_type": "code",
      "execution_count": 108,
      "metadata": {},
      "outputs": [
        {
          "ename": "AttributeError",
          "evalue": "'Circle' object has no attribute '_Circle__radius'",
          "output_type": "error",
          "traceback": [
            "\u001b[31m---------------------------------------------------------------------------\u001b[39m",
            "\u001b[31mAttributeError\u001b[39m                            Traceback (most recent call last)",
            "\u001b[36mCell\u001b[39m\u001b[36m \u001b[39m\u001b[32mIn[108]\u001b[39m\u001b[32m, line 1\u001b[39m\n\u001b[32m----> \u001b[39m\u001b[32m1\u001b[39m \u001b[43mc\u001b[49m\u001b[43m.\u001b[49m\u001b[43mradius\u001b[49m\n",
            "\u001b[36mCell\u001b[39m\u001b[36m \u001b[39m\u001b[32mIn[101]\u001b[39m\u001b[32m, line 7\u001b[39m, in \u001b[36mCircle.radius\u001b[39m\u001b[34m(self)\u001b[39m\n\u001b[32m      5\u001b[39m \u001b[38;5;129m@property\u001b[39m\n\u001b[32m      6\u001b[39m \u001b[38;5;28;01mdef\u001b[39;00m\u001b[38;5;250m \u001b[39m\u001b[34mradius\u001b[39m(\u001b[38;5;28mself\u001b[39m):\n\u001b[32m----> \u001b[39m\u001b[32m7\u001b[39m     \u001b[38;5;28;01mreturn\u001b[39;00m \u001b[38;5;28;43mself\u001b[39;49m\u001b[43m.\u001b[49m\u001b[43m__radius\u001b[49m\n",
            "\u001b[31mAttributeError\u001b[39m: 'Circle' object has no attribute '_Circle__radius'"
          ]
        }
      ],
      "source": [
        "c.radius"
      ]
    },
    {
      "cell_type": "code",
      "execution_count": 110,
      "metadata": {},
      "outputs": [],
      "source": [
        "class A:\n",
        "    def __init__(self, x):\n",
        "        self.x = x\n",
        "class B(A):\n",
        "    def __init__(self, x, y):\n",
        "        super().__init__(x)\n",
        "        self.y = y\n",
        "        "
      ]
    },
    {
      "cell_type": "code",
      "execution_count": 111,
      "metadata": {},
      "outputs": [],
      "source": [
        "obj = B(3,4)"
      ]
    },
    {
      "cell_type": "code",
      "execution_count": 112,
      "metadata": {},
      "outputs": [
        {
          "name": "stdout",
          "output_type": "stream",
          "text": [
            "3 4\n"
          ]
        }
      ],
      "source": [
        "print(obj.x, obj.y)"
      ]
    },
    {
      "cell_type": "code",
      "execution_count": 113,
      "metadata": {},
      "outputs": [],
      "source": [
        "class MyClass:\n",
        "    def __init__(self, x):\n",
        "        self.x = x\n",
        "    def __str__(self):\n",
        "        return str(self.x)"
      ]
    },
    {
      "cell_type": "code",
      "execution_count": 114,
      "metadata": {},
      "outputs": [],
      "source": [
        "obj = MyClass(10)"
      ]
    },
    {
      "cell_type": "code",
      "execution_count": 115,
      "metadata": {},
      "outputs": [
        {
          "name": "stdout",
          "output_type": "stream",
          "text": [
            "10\n"
          ]
        }
      ],
      "source": [
        "print(obj)"
      ]
    },
    {
      "cell_type": "code",
      "execution_count": 116,
      "metadata": {},
      "outputs": [],
      "source": [
        "class Counter:\n",
        "    count = 0\n",
        "    def __init__(self):\n",
        "        Counter.count +=1"
      ]
    },
    {
      "cell_type": "code",
      "execution_count": 117,
      "metadata": {},
      "outputs": [],
      "source": [
        "a = Counter()\n",
        "b = Counter()\n",
        "c = Counter()\n"
      ]
    },
    {
      "cell_type": "code",
      "execution_count": 118,
      "metadata": {},
      "outputs": [
        {
          "name": "stdout",
          "output_type": "stream",
          "text": [
            "3\n"
          ]
        }
      ],
      "source": [
        "print(Counter.count)"
      ]
    },
    {
      "cell_type": "code",
      "execution_count": 121,
      "metadata": {},
      "outputs": [],
      "source": [
        "class MyClass:\n",
        "    def __init__(self, value=0):\n",
        "        self.value = value\n"
      ]
    },
    {
      "cell_type": "code",
      "execution_count": 122,
      "metadata": {},
      "outputs": [],
      "source": [
        "obj1 = MyClass(5)\n",
        "obj2 = MyClass()"
      ]
    },
    {
      "cell_type": "code",
      "execution_count": 123,
      "metadata": {},
      "outputs": [
        {
          "name": "stdout",
          "output_type": "stream",
          "text": [
            "5 0\n"
          ]
        }
      ],
      "source": [
        "print(obj1.value, obj2.value)"
      ]
    },
    {
      "cell_type": "code",
      "execution_count": 124,
      "metadata": {},
      "outputs": [],
      "source": [
        "class A:\n",
        "    def __init__(self):\n",
        "        self.value = 5\n",
        "    def get_value(self):\n",
        "        return self.value\n",
        "    \n",
        "class B(A):\n",
        "    def get_value(self):\n",
        "        return self.value + 10"
      ]
    },
    {
      "cell_type": "code",
      "execution_count": 125,
      "metadata": {},
      "outputs": [],
      "source": [
        "obj = B()"
      ]
    },
    {
      "cell_type": "code",
      "execution_count": 126,
      "metadata": {},
      "outputs": [
        {
          "name": "stdout",
          "output_type": "stream",
          "text": [
            "15\n"
          ]
        }
      ],
      "source": [
        "print(obj.get_value())"
      ]
    },
    {
      "cell_type": "code",
      "execution_count": 127,
      "metadata": {},
      "outputs": [],
      "source": [
        "class MyClass:\n",
        "    def __init__(self, val):\n",
        "        self.val = val\n",
        "    def increment(self):\n",
        "        self.val +=1\n",
        "        return self"
      ]
    },
    {
      "cell_type": "code",
      "execution_count": 128,
      "metadata": {},
      "outputs": [],
      "source": [
        "obj = MyClass(5)"
      ]
    },
    {
      "cell_type": "code",
      "execution_count": 129,
      "metadata": {},
      "outputs": [
        {
          "data": {
            "text/plain": [
              "<__main__.MyClass at 0x1f0690e6900>"
            ]
          },
          "execution_count": 129,
          "metadata": {},
          "output_type": "execute_result"
        }
      ],
      "source": [
        "obj.increment().increment().increment()"
      ]
    },
    {
      "cell_type": "code",
      "execution_count": 130,
      "metadata": {},
      "outputs": [
        {
          "name": "stdout",
          "output_type": "stream",
          "text": [
            "8\n"
          ]
        }
      ],
      "source": [
        "print(obj.val)"
      ]
    },
    {
      "cell_type": "markdown",
      "metadata": {},
      "source": [
        "# Files Handling"
      ]
    },
    {
      "cell_type": "markdown",
      "metadata": {},
      "source": [
        "## Mode"
      ]
    },
    {
      "cell_type": "markdown",
      "metadata": {},
      "source": [
        "- r : read mode\n",
        "- w : write mode\n",
        "- a : append mode\n",
        "- t : text mode\n",
        "- r+ : both reading and writing"
      ]
    },
    {
      "cell_type": "markdown",
      "metadata": {},
      "source": [
        "Lets create a file and then read it"
      ]
    },
    {
      "cell_type": "code",
      "execution_count": 2,
      "metadata": {},
      "outputs": [
        {
          "ename": "FileNotFoundError",
          "evalue": "[Errno 2] No such file or directory: 'files.txt'",
          "output_type": "error",
          "traceback": [
            "\u001b[1;31m---------------------------------------------------------------------------\u001b[0m",
            "\u001b[1;31mFileNotFoundError\u001b[0m                         Traceback (most recent call last)",
            "Cell \u001b[1;32mIn[2], line 1\u001b[0m\n\u001b[1;32m----> 1\u001b[0m file \u001b[38;5;241m=\u001b[39m \u001b[38;5;28mopen\u001b[39m(\u001b[38;5;124m\"\u001b[39m\u001b[38;5;124mfiles.txt\u001b[39m\u001b[38;5;124m\"\u001b[39m, \u001b[38;5;124m\"\u001b[39m\u001b[38;5;124mr\u001b[39m\u001b[38;5;124m\"\u001b[39m)\n",
            "File \u001b[1;32mc:\\Users\\DAV BABA\\anaconda3\\Lib\\site-packages\\IPython\\core\\interactiveshell.py:324\u001b[0m, in \u001b[0;36m_modified_open\u001b[1;34m(file, *args, **kwargs)\u001b[0m\n\u001b[0;32m    317\u001b[0m \u001b[38;5;28;01mif\u001b[39;00m file \u001b[38;5;129;01min\u001b[39;00m {\u001b[38;5;241m0\u001b[39m, \u001b[38;5;241m1\u001b[39m, \u001b[38;5;241m2\u001b[39m}:\n\u001b[0;32m    318\u001b[0m     \u001b[38;5;28;01mraise\u001b[39;00m \u001b[38;5;167;01mValueError\u001b[39;00m(\n\u001b[0;32m    319\u001b[0m         \u001b[38;5;124mf\u001b[39m\u001b[38;5;124m\"\u001b[39m\u001b[38;5;124mIPython won\u001b[39m\u001b[38;5;124m'\u001b[39m\u001b[38;5;124mt let you open fd=\u001b[39m\u001b[38;5;132;01m{\u001b[39;00mfile\u001b[38;5;132;01m}\u001b[39;00m\u001b[38;5;124m by default \u001b[39m\u001b[38;5;124m\"\u001b[39m\n\u001b[0;32m    320\u001b[0m         \u001b[38;5;124m\"\u001b[39m\u001b[38;5;124mas it is likely to crash IPython. If you know what you are doing, \u001b[39m\u001b[38;5;124m\"\u001b[39m\n\u001b[0;32m    321\u001b[0m         \u001b[38;5;124m\"\u001b[39m\u001b[38;5;124myou can use builtins\u001b[39m\u001b[38;5;124m'\u001b[39m\u001b[38;5;124m open.\u001b[39m\u001b[38;5;124m\"\u001b[39m\n\u001b[0;32m    322\u001b[0m     )\n\u001b[1;32m--> 324\u001b[0m \u001b[38;5;28;01mreturn\u001b[39;00m io_open(file, \u001b[38;5;241m*\u001b[39margs, \u001b[38;5;241m*\u001b[39m\u001b[38;5;241m*\u001b[39mkwargs)\n",
            "\u001b[1;31mFileNotFoundError\u001b[0m: [Errno 2] No such file or directory: 'files.txt'"
          ]
        }
      ],
      "source": [
        "file = open(\"files.txt\", \"r\") # throw an error because no files.txt file found"
      ]
    },
    {
      "cell_type": "code",
      "execution_count": 3,
      "metadata": {},
      "outputs": [],
      "source": [
        "file = open(\"file.txt\", \"w\") # if a file is not there it will create a file and then read it"
      ]
    },
    {
      "cell_type": "code",
      "execution_count": 4,
      "metadata": {},
      "outputs": [
        {
          "data": {
            "text/plain": [
              "44"
            ]
          },
          "execution_count": 4,
          "metadata": {},
          "output_type": "execute_result"
        }
      ],
      "source": [
        "file.write(\"Hello... This is my first line in text file.\") # output = No. of bytes we written"
      ]
    },
    {
      "cell_type": "markdown",
      "metadata": {},
      "source": [
        "As of now if we open written file we will not able to see above text in file.txt because whatever we written is in th right mode.\n",
        "- To see we have to close the file by file.close()"
      ]
    },
    {
      "cell_type": "code",
      "execution_count": 5,
      "metadata": {},
      "outputs": [],
      "source": [
        "file.close()"
      ]
    },
    {
      "cell_type": "code",
      "execution_count": 6,
      "metadata": {},
      "outputs": [
        {
          "data": {
            "text/plain": [
              "<_io.TextIOWrapper name='file.txt' mode='w' encoding='utf-8'>"
            ]
          },
          "execution_count": 6,
          "metadata": {},
          "output_type": "execute_result"
        }
      ],
      "source": [
        "file"
      ]
    },
    {
      "cell_type": "markdown",
      "metadata": {},
      "source": [
        "here file is object and we have some attributes associated wiith object"
      ]
    },
    {
      "cell_type": "code",
      "execution_count": 7,
      "metadata": {},
      "outputs": [
        {
          "data": {
            "text/plain": [
              "True"
            ]
          },
          "execution_count": 7,
          "metadata": {},
          "output_type": "execute_result"
        }
      ],
      "source": [
        "file.closed # if file is closed it will return True otherwise False"
      ]
    },
    {
      "cell_type": "code",
      "execution_count": 8,
      "metadata": {},
      "outputs": [],
      "source": [
        "file = open(\"file.txt\",\"r\")"
      ]
    },
    {
      "cell_type": "code",
      "execution_count": 9,
      "metadata": {},
      "outputs": [
        {
          "data": {
            "text/plain": [
              "False"
            ]
          },
          "execution_count": 9,
          "metadata": {},
          "output_type": "execute_result"
        }
      ],
      "source": [
        "file.closed"
      ]
    },
    {
      "cell_type": "code",
      "execution_count": 10,
      "metadata": {},
      "outputs": [],
      "source": [
        "file.close()"
      ]
    },
    {
      "cell_type": "code",
      "execution_count": 11,
      "metadata": {},
      "outputs": [
        {
          "data": {
            "text/plain": [
              "True"
            ]
          },
          "execution_count": 11,
          "metadata": {},
          "output_type": "execute_result"
        }
      ],
      "source": [
        "file.closed"
      ]
    },
    {
      "cell_type": "code",
      "execution_count": 12,
      "metadata": {},
      "outputs": [
        {
          "data": {
            "text/plain": [
              "'file.txt'"
            ]
          },
          "execution_count": 12,
          "metadata": {},
          "output_type": "execute_result"
        }
      ],
      "source": [
        "file.name"
      ]
    },
    {
      "cell_type": "code",
      "execution_count": 13,
      "metadata": {},
      "outputs": [
        {
          "data": {
            "text/plain": [
              "'r'"
            ]
          },
          "execution_count": 13,
          "metadata": {},
          "output_type": "execute_result"
        }
      ],
      "source": [
        "file.mode"
      ]
    },
    {
      "cell_type": "code",
      "execution_count": 14,
      "metadata": {},
      "outputs": [
        {
          "ename": "ValueError",
          "evalue": "I/O operation on closed file.",
          "output_type": "error",
          "traceback": [
            "\u001b[1;31m---------------------------------------------------------------------------\u001b[0m",
            "\u001b[1;31mValueError\u001b[0m                                Traceback (most recent call last)",
            "Cell \u001b[1;32mIn[14], line 1\u001b[0m\n\u001b[1;32m----> 1\u001b[0m file\u001b[38;5;241m.\u001b[39mwrite(\u001b[38;5;124m\"\u001b[39m\u001b[38;5;124mThis is my second line\u001b[39m\u001b[38;5;124m\"\u001b[39m)\n",
            "\u001b[1;31mValueError\u001b[0m: I/O operation on closed file."
          ]
        }
      ],
      "source": [
        "file.write(\"This is my second line\") # throw an error ... not executed.. as file is closed"
      ]
    },
    {
      "cell_type": "code",
      "execution_count": 15,
      "metadata": {},
      "outputs": [],
      "source": [
        "file = open(\"file.txt\", \"w\") # it will truncate (delete) all earlier file and make a new file of it"
      ]
    },
    {
      "cell_type": "markdown",
      "metadata": {},
      "source": [
        "- Earlier lines we add to the file is removed and fresh file.txt is created"
      ]
    },
    {
      "cell_type": "code",
      "execution_count": 16,
      "metadata": {},
      "outputs": [],
      "source": [
        "file.close()"
      ]
    },
    {
      "cell_type": "code",
      "execution_count": 17,
      "metadata": {},
      "outputs": [],
      "source": [
        "file = open(\"file.txt\", \"w\")\n",
        "file.write(\"This is my 1st line...\\n\")\n",
        "file.write(\"This is my 2nd line...\\n\")\n",
        "file.write(\"This is my 3rd line...\\n\")\n",
        "file.write(\"This is my 4th line...\\n\")\n",
        "file.close()"
      ]
    },
    {
      "cell_type": "markdown",
      "metadata": {},
      "source": [
        "- In order to add some more lines and if we use mode \"w\" it will deleted all earlier lines so have to open the file in append mode i.e. \"a\""
      ]
    },
    {
      "cell_type": "code",
      "execution_count": 18,
      "metadata": {},
      "outputs": [],
      "source": [
        "file = open(\"file.txt\", \"a\")\n",
        "file.write(\"This is my 5th line...\\n\")\n",
        "file.write(\"This is my 6th line...\\n\")\n",
        "file.write(\"This is my 7th line...\\n\")\n",
        "file.close()"
      ]
    },
    {
      "cell_type": "code",
      "execution_count": 19,
      "metadata": {},
      "outputs": [],
      "source": [
        "file = open(\"file.txt\", 'r')"
      ]
    },
    {
      "cell_type": "code",
      "execution_count": 20,
      "metadata": {},
      "outputs": [
        {
          "data": {
            "text/plain": [
              "<_io.TextIOWrapper name='file.txt' mode='r' encoding='utf-8'>"
            ]
          },
          "execution_count": 20,
          "metadata": {},
          "output_type": "execute_result"
        }
      ],
      "source": [
        "file"
      ]
    },
    {
      "cell_type": "code",
      "execution_count": 21,
      "metadata": {},
      "outputs": [
        {
          "name": "stdout",
          "output_type": "stream",
          "text": [
            "This is my 1st line...\n",
            "\n",
            "This is my 2nd line...\n",
            "\n",
            "This is my 3rd line...\n",
            "\n",
            "This is my 4th line...\n",
            "\n",
            "This is my 5th line...\n",
            "\n",
            "This is my 6th line...\n",
            "\n",
            "This is my 7th line...\n",
            "\n"
          ]
        }
      ],
      "source": [
        "# To read the content in file \n",
        "for i in file:\n",
        "    print(i)"
      ]
    },
    {
      "cell_type": "code",
      "execution_count": 22,
      "metadata": {},
      "outputs": [
        {
          "data": {
            "text/plain": [
              "''"
            ]
          },
          "execution_count": 22,
          "metadata": {},
          "output_type": "execute_result"
        }
      ],
      "source": [
        "file.read()"
      ]
    },
    {
      "cell_type": "code",
      "execution_count": 23,
      "metadata": {},
      "outputs": [
        {
          "name": "stdout",
          "output_type": "stream",
          "text": [
            "\n"
          ]
        }
      ],
      "source": [
        "print(file.read()) # empty as the cursor is at last position"
      ]
    },
    {
      "cell_type": "code",
      "execution_count": 24,
      "metadata": {},
      "outputs": [
        {
          "data": {
            "text/plain": [
              "168"
            ]
          },
          "execution_count": 24,
          "metadata": {},
          "output_type": "execute_result"
        }
      ],
      "source": [
        "file.tell() # it tells the current position of cursor"
      ]
    },
    {
      "cell_type": "code",
      "execution_count": 25,
      "metadata": {},
      "outputs": [
        {
          "data": {
            "text/plain": [
              "0"
            ]
          },
          "execution_count": 25,
          "metadata": {},
          "output_type": "execute_result"
        }
      ],
      "source": [
        "file.seek(0)"
      ]
    },
    {
      "cell_type": "code",
      "execution_count": 26,
      "metadata": {},
      "outputs": [],
      "source": [
        "f = open(\"file.txt\", 'r')"
      ]
    },
    {
      "cell_type": "code",
      "execution_count": 27,
      "metadata": {},
      "outputs": [
        {
          "name": "stdout",
          "output_type": "stream",
          "text": [
            "This is my 1st line...\n",
            "\n"
          ]
        }
      ],
      "source": [
        "print(f.readline()) # it will only read 1st line\n",
        "f.close()"
      ]
    },
    {
      "cell_type": "code",
      "execution_count": 28,
      "metadata": {},
      "outputs": [
        {
          "name": "stdout",
          "output_type": "stream",
          "text": [
            "This is my 1st line...\n",
            "This is my 2nd line...\n",
            "This is my 3rd line...\n",
            "This is my 4th line...\n",
            "This is my 5th line...\n",
            "This is my 6th line...\n",
            "This is my 7th line...\n",
            "\n"
          ]
        }
      ],
      "source": [
        "f = open(\"file.txt\", 'r')\n",
        "f.seek(0)\n",
        "print(f.read()) \n",
        "f.close()"
      ]
    },
    {
      "cell_type": "code",
      "execution_count": 29,
      "metadata": {},
      "outputs": [
        {
          "name": "stdout",
          "output_type": "stream",
          "text": [
            "['This is my 1st line...\\n', 'This is my 2nd line...\\n', 'This is my 3rd line...\\n', 'This is my 4th line...\\n', 'This is my 5th line...\\n', 'This is my 6th line...\\n', 'This is my 7th line...\\n']\n"
          ]
        }
      ],
      "source": [
        "f = open(\"file.txt\", 'r')\n",
        "print(f.readlines())  # all the lines will be an element of list\n",
        "f.close()"
      ]
    },
    {
      "cell_type": "markdown",
      "metadata": {},
      "source": [
        "- To know present working directory"
      ]
    },
    {
      "cell_type": "code",
      "execution_count": 30,
      "metadata": {},
      "outputs": [
        {
          "name": "stderr",
          "output_type": "stream",
          "text": [
            "'pwd' is not recognized as an internal or external command,\n",
            "operable program or batch file.\n"
          ]
        }
      ],
      "source": [
        "#present working directory\n",
        "!pwd"
      ]
    },
    {
      "cell_type": "code",
      "execution_count": 31,
      "metadata": {},
      "outputs": [],
      "source": [
        "import os #interacting with the OS"
      ]
    },
    {
      "cell_type": "code",
      "execution_count": 32,
      "metadata": {},
      "outputs": [
        {
          "data": {
            "text/plain": [
              "'c:\\\\Users\\\\DAV BABA\\\\Downloads'"
            ]
          },
          "execution_count": 32,
          "metadata": {},
          "output_type": "execute_result"
        }
      ],
      "source": [
        "os.getcwd()"
      ]
    },
    {
      "cell_type": "markdown",
      "metadata": {},
      "source": [
        "- To know how many files are there?"
      ]
    },
    {
      "cell_type": "markdown",
      "metadata": {},
      "source": [
        "- To know size of file"
      ]
    },
    {
      "cell_type": "code",
      "execution_count": 34,
      "metadata": {},
      "outputs": [
        {
          "data": {
            "text/plain": [
              "168"
            ]
          },
          "execution_count": 34,
          "metadata": {},
          "output_type": "execute_result"
        }
      ],
      "source": [
        "os.path.getsize(\"file.txt\")"
      ]
    },
    {
      "cell_type": "markdown",
      "metadata": {},
      "source": [
        "- To make directory"
      ]
    },
    {
      "cell_type": "code",
      "execution_count": 36,
      "metadata": {},
      "outputs": [],
      "source": [
        "os.mkdir(\"tests\")"
      ]
    },
    {
      "cell_type": "code",
      "execution_count": 38,
      "metadata": {},
      "outputs": [],
      "source": [
        "os.mkdir(\"tests/test1\")"
      ]
    },
    {
      "cell_type": "code",
      "execution_count": 40,
      "metadata": {},
      "outputs": [
        {
          "ename": "FileNotFoundError",
          "evalue": "[WinError 3] The system cannot find the path specified: 'Abc/def'",
          "output_type": "error",
          "traceback": [
            "\u001b[1;31m---------------------------------------------------------------------------\u001b[0m",
            "\u001b[1;31mFileNotFoundError\u001b[0m                         Traceback (most recent call last)",
            "Cell \u001b[1;32mIn[40], line 1\u001b[0m\n\u001b[1;32m----> 1\u001b[0m os\u001b[38;5;241m.\u001b[39mmkdir(\u001b[38;5;124m\"\u001b[39m\u001b[38;5;124mAbc/def\u001b[39m\u001b[38;5;124m\"\u001b[39m)\n",
            "\u001b[1;31mFileNotFoundError\u001b[0m: [WinError 3] The system cannot find the path specified: 'Abc/def'"
          ]
        }
      ],
      "source": [
        "os.mkdir(\"Abc/def\") # to make directory parent directaory should be there"
      ]
    },
    {
      "cell_type": "code",
      "execution_count": 41,
      "metadata": {},
      "outputs": [
        {
          "ename": "FileExistsError",
          "evalue": "[WinError 183] Cannot create a file when that file already exists: '1/2/3/4'",
          "output_type": "error",
          "traceback": [
            "\u001b[1;31m---------------------------------------------------------------------------\u001b[0m",
            "\u001b[1;31mFileExistsError\u001b[0m                           Traceback (most recent call last)",
            "Cell \u001b[1;32mIn[41], line 1\u001b[0m\n\u001b[1;32m----> 1\u001b[0m os\u001b[38;5;241m.\u001b[39mmakedirs(\u001b[38;5;124m\"\u001b[39m\u001b[38;5;124m1/2/3/4\u001b[39m\u001b[38;5;124m\"\u001b[39m)\n",
            "File \u001b[1;32m<frozen os>:228\u001b[0m, in \u001b[0;36mmakedirs\u001b[1;34m(name, mode, exist_ok)\u001b[0m\n",
            "\u001b[1;31mFileExistsError\u001b[0m: [WinError 183] Cannot create a file when that file already exists: '1/2/3/4'"
          ]
        }
      ],
      "source": [
        "os.makedirs(\"1/2/3/4\")"
      ]
    },
    {
      "cell_type": "markdown",
      "metadata": {},
      "source": [
        "- To delete directory"
      ]
    },
    {
      "cell_type": "code",
      "execution_count": 47,
      "metadata": {},
      "outputs": [],
      "source": [
        "os.mkdir('Fest')"
      ]
    },
    {
      "cell_type": "code",
      "execution_count": 48,
      "metadata": {},
      "outputs": [],
      "source": [
        "os.rmdir(\"Fest\") # to delete directory without any content inside it"
      ]
    },
    {
      "cell_type": "code",
      "execution_count": null,
      "metadata": {},
      "outputs": [
        {
          "ename": "OSError",
          "evalue": "[WinError 145] The directory is not empty: 'tests'",
          "output_type": "error",
          "traceback": [
            "\u001b[1;31m---------------------------------------------------------------------------\u001b[0m",
            "\u001b[1;31mOSError\u001b[0m                                   Traceback (most recent call last)",
            "Cell \u001b[1;32mIn[49], line 1\u001b[0m\n\u001b[1;32m----> 1\u001b[0m os\u001b[38;5;241m.\u001b[39mrmdir(\u001b[38;5;124m\"\u001b[39m\u001b[38;5;124mtests\u001b[39m\u001b[38;5;124m\"\u001b[39m)\n",
            "\u001b[1;31mOSError\u001b[0m: [WinError 145] The directory is not empty: 'tests'"
          ]
        }
      ],
      "source": [
        "os.rmdir(\"tests\") # error >> tests is not empty"
      ]
    },
    {
      "cell_type": "markdown",
      "metadata": {},
      "source": [
        "- To delete non empty directory"
      ]
    },
    {
      "cell_type": "code",
      "execution_count": 53,
      "metadata": {},
      "outputs": [],
      "source": [
        "import shutil"
      ]
    },
    {
      "cell_type": "code",
      "execution_count": 55,
      "metadata": {},
      "outputs": [],
      "source": [
        "shutil.rmtree(\"1\") # it will remove the folder hierarchy"
      ]
    },
    {
      "cell_type": "code",
      "execution_count": 56,
      "metadata": {},
      "outputs": [
        {
          "data": {
            "text/plain": [
              "'c:\\\\Users\\\\DAV BABA\\\\Downloads'"
            ]
          },
          "execution_count": 56,
          "metadata": {},
          "output_type": "execute_result"
        }
      ],
      "source": [
        "os.getcwd()"
      ]
    },
    {
      "cell_type": "code",
      "execution_count": 60,
      "metadata": {},
      "outputs": [],
      "source": [
        "shutil.rmtree(\"test/test1\")"
      ]
    },
    {
      "cell_type": "code",
      "execution_count": 61,
      "metadata": {},
      "outputs": [],
      "source": [
        "os.makedirs(\"test/test1\")"
      ]
    },
    {
      "cell_type": "code",
      "execution_count": 62,
      "metadata": {},
      "outputs": [],
      "source": [
        "f = open(\"c:\\\\Users\\\\DAV BABA\\\\Downloads\\\\test\\\\test1\\\\file.txt\",\"w\")"
      ]
    },
    {
      "cell_type": "markdown",
      "metadata": {},
      "source": [
        "- Copying the above file in another location"
      ]
    },
    {
      "cell_type": "code",
      "execution_count": 64,
      "metadata": {},
      "outputs": [],
      "source": [
        "# Syntax\n",
        "# shutil.copy(\"source\",\"destination\")"
      ]
    },
    {
      "cell_type": "code",
      "execution_count": 63,
      "metadata": {},
      "outputs": [
        {
          "data": {
            "text/plain": [
              "'c:\\\\Users\\\\DAV BABA\\\\Downloads\\\\file.txt'"
            ]
          },
          "execution_count": 63,
          "metadata": {},
          "output_type": "execute_result"
        }
      ],
      "source": [
        "shutil.copy(\"c:\\\\Users\\\\DAV BABA\\\\Downloads\\\\test\\\\test1\\\\file.txt\", \"c:\\\\Users\\\\DAV BABA\\\\Downloads\")"
      ]
    },
    {
      "cell_type": "markdown",
      "metadata": {},
      "source": [
        "- To move the file in another location"
      ]
    },
    {
      "cell_type": "code",
      "execution_count": 65,
      "metadata": {},
      "outputs": [],
      "source": [
        "os.mkdir(\"file_test\")"
      ]
    },
    {
      "cell_type": "code",
      "execution_count": 66,
      "metadata": {},
      "outputs": [
        {
          "data": {
            "text/plain": [
              "'c:\\\\Users\\\\DAV BABA\\\\Downloads\\\\file_test\\\\file.txt'"
            ]
          },
          "execution_count": 66,
          "metadata": {},
          "output_type": "execute_result"
        }
      ],
      "source": [
        "shutil.copy(\"c:\\\\Users\\\\DAV BABA\\\\Downloads\\\\test\\\\test1\\\\file.txt\", \"c:\\\\Users\\\\DAV BABA\\\\Downloads\\\\file_test\")"
      ]
    },
    {
      "cell_type": "markdown",
      "metadata": {},
      "source": [
        "- To read the file without closing"
      ]
    },
    {
      "cell_type": "markdown",
      "metadata": {},
      "source": [
        "- with statement ensure that the file is closed properly after the block of code is executed\n",
        "- it is important because it is free up system resources and avoid data corruption and file locking"
      ]
    },
    {
      "cell_type": "code",
      "execution_count": 68,
      "metadata": {},
      "outputs": [],
      "source": [
        "with open('file.txt', 'w') as f:\n",
        "    f.write(\"This is my first line..\")"
      ]
    },
    {
      "cell_type": "markdown",
      "metadata": {},
      "source": [
        "- To read the text"
      ]
    },
    {
      "cell_type": "code",
      "execution_count": 69,
      "metadata": {},
      "outputs": [
        {
          "name": "stdout",
          "output_type": "stream",
          "text": [
            "This is my first line..\n"
          ]
        }
      ],
      "source": [
        "with open('file.txt', 'r') as f:\n",
        "    line = f.readline()\n",
        "    print(line)"
      ]
    },
    {
      "cell_type": "markdown",
      "metadata": {},
      "source": [
        "## File Reading and writing"
      ]
    },
    {
      "cell_type": "markdown",
      "metadata": {},
      "source": [
        "- How to read and write various types of file like csv, jason etc."
      ]
    },
    {
      "cell_type": "code",
      "execution_count": 1,
      "metadata": {},
      "outputs": [],
      "source": [
        "text_content = \"\"\"\n",
        "example1\n",
        "example2\n",
        "example3\n",
        "\"\"\""
      ]
    },
    {
      "cell_type": "code",
      "execution_count": 2,
      "metadata": {},
      "outputs": [],
      "source": [
        "with open(\"example.txt\", \"w\") as file:\n",
        "    file.write(text_content)"
      ]
    },
    {
      "cell_type": "markdown",
      "metadata": {},
      "source": [
        "- to read this text file"
      ]
    },
    {
      "cell_type": "code",
      "execution_count": 3,
      "metadata": {},
      "outputs": [
        {
          "name": "stdout",
          "output_type": "stream",
          "text": [
            "\n",
            "example1\n",
            "example2\n",
            "example3\n",
            "\n"
          ]
        }
      ],
      "source": [
        "with open(\"example.txt\", \"r\") as file:\n",
        "    data = file.read()\n",
        "print(data)"
      ]
    },
    {
      "cell_type": "markdown",
      "metadata": {},
      "source": [
        "### CSV File"
      ]
    },
    {
      "cell_type": "markdown",
      "metadata": {},
      "source": [
        "- CSV = Comma Seperated Files\n",
        "- Intity are seperated by comma\n",
        "- In tabular form"
      ]
    },
    {
      "cell_type": "code",
      "execution_count": 4,
      "metadata": {},
      "outputs": [],
      "source": [
        "data = [[\"Name \",\"Course \",\"Fee \"],\n",
        "        [\"Anu \",\"Python \",\"20000\"],\n",
        "        [\"Prag \",\"ML \",\"15000\"]]"
      ]
    },
    {
      "cell_type": "code",
      "execution_count": 5,
      "metadata": {},
      "outputs": [
        {
          "name": "stdout",
          "output_type": "stream",
          "text": [
            "['Name ', 'Course ', 'Fee ']\n",
            "['Anu ', 'Python ', '20000']\n",
            "['Prag ', 'ML ', '15000']\n"
          ]
        }
      ],
      "source": [
        "for i in data:\n",
        "    print(i)"
      ]
    },
    {
      "cell_type": "code",
      "execution_count": 6,
      "metadata": {},
      "outputs": [],
      "source": [
        "import csv\n",
        "with open(\"example_csv.csv\", \"w\") as f:\n",
        "    w = csv.writer(f)\n",
        "    for i in data:\n",
        "        w.writerow(i)"
      ]
    },
    {
      "cell_type": "code",
      "execution_count": 8,
      "metadata": {},
      "outputs": [
        {
          "name": "stdout",
          "output_type": "stream",
          "text": [
            "['Name ', 'Course ', 'Fee ']\n",
            "[]\n",
            "['Anu ', 'Python ', '20000']\n",
            "[]\n",
            "['Prag ', 'ML ', '15000']\n",
            "[]\n"
          ]
        }
      ],
      "source": [
        "with open(\"example_csv.csv\", \"r\") as f:\n",
        "    r = csv.reader(f)\n",
        "    for i in r:\n",
        "        print(i)"
      ]
    },
    {
      "cell_type": "markdown",
      "metadata": {},
      "source": [
        "### Jason file"
      ]
    },
    {
      "cell_type": "markdown",
      "metadata": {},
      "source": [
        "- Jason = JavaScript Object Notation"
      ]
    },
    {
      "cell_type": "code",
      "execution_count": 9,
      "metadata": {},
      "outputs": [
        {
          "data": {
            "text/plain": [
              "{'Name ': 'Anu', 'Course': 'DS', 'Fee': 20000}"
            ]
          },
          "execution_count": 9,
          "metadata": {},
          "output_type": "execute_result"
        }
      ],
      "source": [
        "data = {\"Name \": \"Anu\",\n",
        "        \"Course\": \"DS\",\n",
        "        \"Fee\": 20000}\n",
        "data"
      ]
    },
    {
      "cell_type": "code",
      "execution_count": 10,
      "metadata": {},
      "outputs": [
        {
          "data": {
            "text/plain": [
              "dict"
            ]
          },
          "execution_count": 10,
          "metadata": {},
          "output_type": "execute_result"
        }
      ],
      "source": [
        "type(data)"
      ]
    },
    {
      "cell_type": "code",
      "execution_count": 11,
      "metadata": {},
      "outputs": [],
      "source": [
        "import json\n",
        "with open(\"file_json.json\", \"w\") as f:\n",
        "    json.dump(data, f)"
      ]
    },
    {
      "cell_type": "code",
      "execution_count": 13,
      "metadata": {},
      "outputs": [
        {
          "name": "stdout",
          "output_type": "stream",
          "text": [
            "{'Name ': 'Anu', 'Course': 'DS', 'Fee': 20000}\n"
          ]
        }
      ],
      "source": [
        "with open(\"file_json.json\",\"r\") as f:\n",
        "    p = json.load(f)\n",
        "print(p)"
      ]
    },
    {
      "cell_type": "markdown",
      "metadata": {},
      "source": [
        "- To write binary data in file"
      ]
    },
    {
      "cell_type": "code",
      "execution_count": 14,
      "metadata": {},
      "outputs": [],
      "source": [
        "with open(\"test_bin.bin\", \"wb\") as f:\n",
        "    f.write(b\"\\x48\\x65\\x6c\\x6c\\x6f\\x2c\\x20\\x57\\x6f\\x72\\x6c\\x64\\x21\")"
      ]
    },
    {
      "cell_type": "code",
      "execution_count": 15,
      "metadata": {},
      "outputs": [
        {
          "name": "stdout",
          "output_type": "stream",
          "text": [
            "b'Hello, World!'\n"
          ]
        }
      ],
      "source": [
        "with open(\"test_bin.bin\", \"rb\") as f:\n",
        "    print(f.read())"
      ]
    },
    {
      "cell_type": "markdown",
      "metadata": {},
      "source": [
        "## Buffered Reading and Writing"
      ]
    },
    {
      "cell_type": "markdown",
      "metadata": {},
      "source": [
        "- It allows the program to read and write data in chunks"
      ]
    },
    {
      "cell_type": "markdown",
      "metadata": {},
      "source": [
        "- To avoid crashing of very very large files (if you want to read data of 10 MB from 200 GB files)"
      ]
    },
    {
      "cell_type": "code",
      "execution_count": 10,
      "metadata": {},
      "outputs": [],
      "source": [
        "import io\n",
        "with open('test_buf.txt', 'wb') as f:\n",
        "    file = io.BufferedWriter(f)\n",
        "    file.write(b\"Data Science is the art and science of extracting meaningful insights from raw data. It blends mathematics, statistics, computer science, and domain knowledge to analyze complex datasets and solve real-world problems. At its core, data science revolves around the data lifecycle from collecting, cleaning, and processing data to building models and interpreting results. Tools like Python, R, SQL, and libraries such as Pandas, NumPy, and Scikit learn are widely used. Machine Learning and Artificial Intelligence play a crucial role in making predictive and prescriptive models that drive decision making across industries from healthcare and finance to ecommerce and entertainment. Visualization tools like Tableau, Power BI, and Matplotlib help present insights in a digestible format. Beyond technical skills, a data scientist must possess strong critical thinking and communication abilities to translate data into strategies. As the digital world generates massive amounts of data daily, the demand for skilled data scientists is rapidly increasing. Whether its personalizing user experiences, detecting fraud, optimizing supply chains, or predicting market trends, data science sits at the center of innovation and business intelligence. It is not just a technical field, but a bridge between data and decisions, turning information overload into actionable knowledge.\")\n",
        "    file.write(b\"Hello World!..\")\n",
        "    file.write(b\"I am studying Data Science\")\n",
        "    file.flush()"
      ]
    },
    {
      "cell_type": "code",
      "execution_count": 12,
      "metadata": {},
      "outputs": [
        {
          "name": "stdout",
          "output_type": "stream",
          "text": [
            "b'Data Science is the art and science of extracting meaningful insights from raw data. It blends mathematics, statistics, computer science, and domain k'\n"
          ]
        }
      ],
      "source": [
        "with open('test_buf.txt', 'rb') as f:\n",
        "    file = io.BufferedReader(f)\n",
        "    data = file.read(150) # read the first chunks of 100 bytes\n",
        "    print(data)"
      ]
    },
    {
      "cell_type": "markdown",
      "metadata": {},
      "source": [
        "## Exceptions Handling"
      ]
    },
    {
      "cell_type": "markdown",
      "metadata": {},
      "source": [
        "- Generally something that disrupts the normal event is exceptions\n",
        "- In python an exception is an event that occurs during program executions that disrupts the regular flow."
      ]
    },
    {
      "cell_type": "code",
      "execution_count": 13,
      "metadata": {},
      "outputs": [
        {
          "data": {
            "text/plain": [
              "0.5555555555555556"
            ]
          },
          "execution_count": 13,
          "metadata": {},
          "output_type": "execute_result"
        }
      ],
      "source": [
        "5/9"
      ]
    },
    {
      "cell_type": "code",
      "execution_count": 14,
      "metadata": {},
      "outputs": [
        {
          "data": {
            "text/plain": [
              "5.0"
            ]
          },
          "execution_count": 14,
          "metadata": {},
          "output_type": "execute_result"
        }
      ],
      "source": [
        "10/2"
      ]
    },
    {
      "cell_type": "code",
      "execution_count": 23,
      "metadata": {},
      "outputs": [
        {
          "name": "stdout",
          "output_type": "stream",
          "text": [
            "2.0\n",
            "0.6\n",
            "The code is running fine..\n"
          ]
        },
        {
          "ename": "ZeroDivisionError",
          "evalue": "division by zero",
          "output_type": "error",
          "traceback": [
            "\u001b[1;31m---------------------------------------------------------------------------\u001b[0m",
            "\u001b[1;31mZeroDivisionError\u001b[0m                         Traceback (most recent call last)",
            "Cell \u001b[1;32mIn[23], line 5\u001b[0m\n\u001b[0;32m      3\u001b[0m \u001b[38;5;28mprint\u001b[39m(\u001b[38;5;241m3\u001b[39m\u001b[38;5;241m/\u001b[39m\u001b[38;5;241m5\u001b[39m)\n\u001b[0;32m      4\u001b[0m \u001b[38;5;28mprint\u001b[39m(\u001b[38;5;124m\"\u001b[39m\u001b[38;5;124mThe code is running fine..\u001b[39m\u001b[38;5;124m\"\u001b[39m)\n\u001b[1;32m----> 5\u001b[0m \u001b[38;5;28mprint\u001b[39m(\u001b[38;5;241m6\u001b[39m\u001b[38;5;241m/\u001b[39m\u001b[38;5;241m0\u001b[39m)  \u001b[38;5;66;03m# code will break here << Suspicious Code << Need to handle\u001b[39;00m\n\u001b[0;32m      6\u001b[0m \u001b[38;5;28mprint\u001b[39m(\u001b[38;5;124m\"\u001b[39m\u001b[38;5;124mName is visible\u001b[39m\u001b[38;5;124m\"\u001b[39m)\n\u001b[0;32m      7\u001b[0m \u001b[38;5;28mprint\u001b[39m(\u001b[38;5;241m2\u001b[39m\u001b[38;5;241m+\u001b[39m\u001b[38;5;241m3\u001b[39m)\n",
            "\u001b[1;31mZeroDivisionError\u001b[0m: division by zero"
          ]
        }
      ],
      "source": [
        "# Zero division error\n",
        "print(4/2)\n",
        "print(3/5)\n",
        "print(\"The code is running fine..\")\n",
        "print(6/0)  # code will break here << Suspicious Code << Need to handle\n",
        "print(\"Name is visible\")\n",
        "print(2+3)\n",
        "print(\"The code ends here.\")"
      ]
    },
    {
      "cell_type": "code",
      "execution_count": 24,
      "metadata": {},
      "outputs": [
        {
          "name": "stdout",
          "output_type": "stream",
          "text": [
            "This is my first line of code..\n",
            "60\n",
            "<class 'dict'>\n"
          ]
        },
        {
          "ename": "KeyError",
          "evalue": "'age'",
          "output_type": "error",
          "traceback": [
            "\u001b[1;31m---------------------------------------------------------------------------\u001b[0m",
            "\u001b[1;31mKeyError\u001b[0m                                  Traceback (most recent call last)",
            "Cell \u001b[1;32mIn[24], line 6\u001b[0m\n\u001b[0;32m      4\u001b[0m d \u001b[38;5;241m=\u001b[39m{\u001b[38;5;124m\"\u001b[39m\u001b[38;5;124mName \u001b[39m\u001b[38;5;124m\"\u001b[39m:\u001b[38;5;124m\"\u001b[39m\u001b[38;5;124mAnu\u001b[39m\u001b[38;5;124m\"\u001b[39m}\n\u001b[0;32m      5\u001b[0m \u001b[38;5;28mprint\u001b[39m(\u001b[38;5;28mtype\u001b[39m(d))\n\u001b[1;32m----> 6\u001b[0m \u001b[38;5;28mprint\u001b[39m(d[\u001b[38;5;124m\"\u001b[39m\u001b[38;5;124mage\u001b[39m\u001b[38;5;124m\"\u001b[39m])  \u001b[38;5;66;03m# Suspicious code << need to handle  << Key Error\u001b[39;00m\n\u001b[0;32m      7\u001b[0m \u001b[38;5;28mprint\u001b[39m(\u001b[38;5;124m\"\u001b[39m\u001b[38;5;124mThis is last line\u001b[39m\u001b[38;5;124m\"\u001b[39m)\n",
            "\u001b[1;31mKeyError\u001b[0m: 'age'"
          ]
        }
      ],
      "source": [
        "# Key error\n",
        "print(\"This is my first line of code..\")\n",
        "print(3*4*5)\n",
        "d ={\"Name \":\"Anu\"}\n",
        "print(type(d))\n",
        "print(d[\"age\"])  # Suspicious code << need to handle  << Key Error\n",
        "print(\"This is last line\")"
      ]
    },
    {
      "cell_type": "code",
      "execution_count": 25,
      "metadata": {},
      "outputs": [
        {
          "ename": "FileNotFoundError",
          "evalue": "[Errno 2] No such file or directory: 'exampless.txt'",
          "output_type": "error",
          "traceback": [
            "\u001b[1;31m---------------------------------------------------------------------------\u001b[0m",
            "\u001b[1;31mFileNotFoundError\u001b[0m                         Traceback (most recent call last)",
            "Cell \u001b[1;32mIn[25], line 2\u001b[0m\n\u001b[0;32m      1\u001b[0m \u001b[38;5;66;03m# file not found error\u001b[39;00m\n\u001b[1;32m----> 2\u001b[0m f \u001b[38;5;241m=\u001b[39m \u001b[38;5;28mopen\u001b[39m(\u001b[38;5;124m\"\u001b[39m\u001b[38;5;124mexampless.txt\u001b[39m\u001b[38;5;124m\"\u001b[39m, \u001b[38;5;124m\"\u001b[39m\u001b[38;5;124mr\u001b[39m\u001b[38;5;124m\"\u001b[39m)\n\u001b[0;32m      3\u001b[0m \u001b[38;5;28mprint\u001b[39m(\u001b[38;5;241m6\u001b[39m\u001b[38;5;241m+\u001b[39m\u001b[38;5;241m3\u001b[39m)\n\u001b[0;32m      4\u001b[0m \u001b[38;5;28mprint\u001b[39m(\u001b[38;5;124m\"\u001b[39m\u001b[38;5;124mHere we gooo......\u001b[39m\u001b[38;5;124m\"\u001b[39m)\n",
            "File \u001b[1;32mc:\\Users\\DAV BABA\\anaconda3\\Lib\\site-packages\\IPython\\core\\interactiveshell.py:324\u001b[0m, in \u001b[0;36m_modified_open\u001b[1;34m(file, *args, **kwargs)\u001b[0m\n\u001b[0;32m    317\u001b[0m \u001b[38;5;28;01mif\u001b[39;00m file \u001b[38;5;129;01min\u001b[39;00m {\u001b[38;5;241m0\u001b[39m, \u001b[38;5;241m1\u001b[39m, \u001b[38;5;241m2\u001b[39m}:\n\u001b[0;32m    318\u001b[0m     \u001b[38;5;28;01mraise\u001b[39;00m \u001b[38;5;167;01mValueError\u001b[39;00m(\n\u001b[0;32m    319\u001b[0m         \u001b[38;5;124mf\u001b[39m\u001b[38;5;124m\"\u001b[39m\u001b[38;5;124mIPython won\u001b[39m\u001b[38;5;124m'\u001b[39m\u001b[38;5;124mt let you open fd=\u001b[39m\u001b[38;5;132;01m{\u001b[39;00mfile\u001b[38;5;132;01m}\u001b[39;00m\u001b[38;5;124m by default \u001b[39m\u001b[38;5;124m\"\u001b[39m\n\u001b[0;32m    320\u001b[0m         \u001b[38;5;124m\"\u001b[39m\u001b[38;5;124mas it is likely to crash IPython. If you know what you are doing, \u001b[39m\u001b[38;5;124m\"\u001b[39m\n\u001b[0;32m    321\u001b[0m         \u001b[38;5;124m\"\u001b[39m\u001b[38;5;124myou can use builtins\u001b[39m\u001b[38;5;124m'\u001b[39m\u001b[38;5;124m open.\u001b[39m\u001b[38;5;124m\"\u001b[39m\n\u001b[0;32m    322\u001b[0m     )\n\u001b[1;32m--> 324\u001b[0m \u001b[38;5;28;01mreturn\u001b[39;00m io_open(file, \u001b[38;5;241m*\u001b[39margs, \u001b[38;5;241m*\u001b[39m\u001b[38;5;241m*\u001b[39mkwargs)\n",
            "\u001b[1;31mFileNotFoundError\u001b[0m: [Errno 2] No such file or directory: 'exampless.txt'"
          ]
        }
      ],
      "source": [
        "# file not found error\n",
        "f = open(\"exampless.txt\", \"r\")\n",
        "print(6+3)\n",
        "print(\"Here we gooo......\")"
      ]
    },
    {
      "cell_type": "markdown",
      "metadata": {},
      "source": [
        "- When you expect something but didn't happen due to which a suspicious line threw an error and the next lines of code didn't get executed."
      ]
    },
    {
      "cell_type": "markdown",
      "metadata": {},
      "source": [
        "- *Types of exceptions*\n",
        "- Zero division Error\n",
        "- Key error\n",
        "- File not found error\n",
        "- Run time error\n",
        "- Import error\n",
        "- Name Error\n",
        "- Value error\n",
        "\n",
        "\n",
        "list of exceptions : https://docs.python.org/3/library/exceptions.html"
      ]
    },
    {
      "cell_type": "markdown",
      "metadata": {},
      "source": [
        " *Why do we need to handle suspicious code or exceptions??*\n",
        "- Code need not to break any where << Robust Application\n",
        "- Fellow developer understands the corner case << Code Cleaner"
      ]
    },
    {
      "cell_type": "markdown",
      "metadata": {},
      "source": [
        "*How to handle exceptions?*\n",
        "- to handle exception we use try catch block\n",
        "- whenever exception occurs Python stops the program and generate exceptions or error\n",
        "- Handling this exception is advised\n",
        "- Every code that is risky or suspicious, you should do exception handling."
      ]
    },
    {
      "cell_type": "code",
      "execution_count": null,
      "metadata": {},
      "outputs": [],
      "source": [
        "# Syntax of try except\n",
        "\n",
        "#try:\n",
        "    #suspicious code\n",
        "#except:\n",
        "    # executed when execution occurs in try block\n"
      ]
    },
    {
      "cell_type": "code",
      "execution_count": 26,
      "metadata": {},
      "outputs": [
        {
          "name": "stdout",
          "output_type": "stream",
          "text": [
            "There is an issue with the code like :  [Errno 2] No such file or directory: 'exampless.txt'\n",
            "9\n",
            "Here we gooo......\n"
          ]
        }
      ],
      "source": [
        "try:\n",
        "    f = open(\"exampless.txt\", \"r\")\n",
        "except Exception as e:\n",
        "    print(\"There is an issue with the code like : \",e)\n",
        "print(6+3)\n",
        "print(\"Here we gooo......\")"
      ]
    },
    {
      "cell_type": "code",
      "execution_count": 27,
      "metadata": {},
      "outputs": [
        {
          "name": "stdout",
          "output_type": "stream",
          "text": [
            "This is my first line of code..\n",
            "60\n",
            "<class 'dict'>\n",
            "There is an issue :  'age'\n",
            "This is last line\n"
          ]
        }
      ],
      "source": [
        "print(\"This is my first line of code..\")\n",
        "print(3*4*5)\n",
        "d ={\"Name \":\"Anu\"}\n",
        "print(type(d))\n",
        "try:\n",
        "    print(d[\"age\"])\n",
        "except Exception as e:\n",
        "    print(\"There is an issue : \",e)\n",
        "print(\"This is last line\")"
      ]
    },
    {
      "cell_type": "code",
      "execution_count": 28,
      "metadata": {},
      "outputs": [
        {
          "name": "stdout",
          "output_type": "stream",
          "text": [
            "2.0\n",
            "0.6\n",
            "The code is running fine..\n",
            "Error is  division by zero\n",
            "Name is visible\n",
            "5\n",
            "The code ends here.\n"
          ]
        }
      ],
      "source": [
        "print(4/2)\n",
        "print(3/5)\n",
        "print(\"The code is running fine..\")\n",
        "try:\n",
        "    print(6/0)\n",
        "except Exception as e:\n",
        "    print(\"Error is \",e)\n",
        "print(\"Name is visible\")\n",
        "print(2+3)\n",
        "print(\"The code ends here.\")"
      ]
    },
    {
      "cell_type": "code",
      "execution_count": 29,
      "metadata": {},
      "outputs": [
        {
          "name": "stdout",
          "output_type": "stream",
          "text": [
            "There is an issue with the code like :  [Errno 2] No such file or directory: 'exampless.txt'\n"
          ]
        }
      ],
      "source": [
        "try:\n",
        "    f = open(\"exampless.txt\", \"r\")\n",
        "except Exception as e:\n",
        "    print(\"There is an issue with the code like : \",e)\n",
        "else:\n",
        "    print(\"We have the file\")"
      ]
    },
    {
      "cell_type": "code",
      "execution_count": 30,
      "metadata": {},
      "outputs": [
        {
          "name": "stdout",
          "output_type": "stream",
          "text": [
            "There is an issue with the code like :  division by zero\n"
          ]
        }
      ],
      "source": [
        "try:\n",
        "    6/0\n",
        "except Exception as e:\n",
        "    print(\"There is an issue with the code like : \",e)\n",
        "else:\n",
        "    print(\"We have the file\")"
      ]
    },
    {
      "cell_type": "code",
      "execution_count": 31,
      "metadata": {},
      "outputs": [
        {
          "name": "stdout",
          "output_type": "stream",
          "text": [
            "We have the file\n"
          ]
        }
      ],
      "source": [
        "try:\n",
        "    6/3\n",
        "except Exception as e:\n",
        "    print(\"There is an issue with the code like : \",e)\n",
        "else:\n",
        "    print(\"We have the file\")"
      ]
    },
    {
      "cell_type": "markdown",
      "metadata": {},
      "source": [
        "*Use case of Else:*\n",
        "- You want to execute some code only if the try statement is successful and code doesn't enter into exception block."
      ]
    },
    {
      "cell_type": "code",
      "execution_count": 32,
      "metadata": {},
      "outputs": [
        {
          "name": "stdout",
          "output_type": "stream",
          "text": [
            "14\n",
            "We have the file\n"
          ]
        }
      ],
      "source": [
        "#Use case 1\n",
        "try:\n",
        "    f = open(\"exampless.txt\", \"w\")\n",
        "except Exception as e:\n",
        "    print(\"There is an issue with the code like : \",e)\n",
        "else:\n",
        "    print(5+9)\n",
        "    print(\"We have the file\")"
      ]
    },
    {
      "cell_type": "code",
      "execution_count": 33,
      "metadata": {},
      "outputs": [
        {
          "name": "stdout",
          "output_type": "stream",
          "text": [
            "14\n",
            "We have the file\n"
          ]
        }
      ],
      "source": [
        "#Use case 2\n",
        "try:\n",
        "    f = open(\"exampless.txt\", \"w\")\n",
        "    f.write(\"Hellooooooo\")\n",
        "except Exception as e:\n",
        "    print(\"There is an issue with the code like : \",e)\n",
        "else:\n",
        "    print(5+9)\n",
        "    print(\"We have the file\")"
      ]
    },
    {
      "cell_type": "code",
      "execution_count": 34,
      "metadata": {},
      "outputs": [
        {
          "name": "stdout",
          "output_type": "stream",
          "text": [
            "14\n",
            "We have the file\n"
          ]
        }
      ],
      "source": [
        "#Use case 2\n",
        "try:\n",
        "    f = open(\"exampless.txt\", \"w\")\n",
        "    f.write(\"Hellooooooo\")\n",
        "except Exception as e:\n",
        "    print(\"There is an issue with the code like : \",e)\n",
        "else:\n",
        "    f.close()\n",
        "    print(5+9)\n",
        "    print(\"We have the file\")"
      ]
    },
    {
      "cell_type": "markdown",
      "metadata": {},
      "source": [
        "- else block is very helpful when your code didn't enter the exception block\n",
        "- for exmaple if you wanted to close the file after it was opened in try block"
      ]
    },
    {
      "cell_type": "markdown",
      "metadata": {},
      "source": [
        "### Finally block"
      ]
    },
    {
      "cell_type": "code",
      "execution_count": 35,
      "metadata": {},
      "outputs": [
        {
          "name": "stdout",
          "output_type": "stream",
          "text": [
            "14\n",
            "We have the file\n",
            "This will be executed always\n"
          ]
        }
      ],
      "source": [
        "try:\n",
        "    f = open(\"exampless.txt\", \"w\")\n",
        "    f.write(\"Hellooooooo\")\n",
        "except Exception as e:\n",
        "    print(\"There is an issue with the code like : \",e)\n",
        "else:\n",
        "    f.close()\n",
        "    print(5+9)\n",
        "    print(\"We have the file\")\n",
        "finally:\n",
        "    print(\"This will be executed always\")"
      ]
    },
    {
      "cell_type": "markdown",
      "metadata": {},
      "source": [
        "- finally block will always executed even the execptions is there or not"
      ]
    },
    {
      "cell_type": "code",
      "execution_count": 36,
      "metadata": {},
      "outputs": [
        {
          "name": "stdout",
          "output_type": "stream",
          "text": [
            "14\n",
            "We have the file\n",
            "This will be executed always\n"
          ]
        }
      ],
      "source": [
        "try:\n",
        "    f = open(\"exampless123.txt\", \"w\")\n",
        "    f.write(\"Hellooooooo\")\n",
        "except Exception as e:\n",
        "    print(\"There is an issue with the code like : \",e)\n",
        "else:\n",
        "    f.close()\n",
        "    print(5+9)\n",
        "    print(\"We have the file\")\n",
        "finally:\n",
        "    print(\"This will be executed always\")"
      ]
    },
    {
      "cell_type": "code",
      "execution_count": 37,
      "metadata": {},
      "outputs": [
        {
          "name": "stdout",
          "output_type": "stream",
          "text": [
            "division by zero\n",
            "This will be printed always\n"
          ]
        }
      ],
      "source": [
        "try:\n",
        "    5/0\n",
        "except Exception as e:\n",
        "    print(e)\n",
        "finally:\n",
        "    print(\"This will be printed always\")"
      ]
    },
    {
      "cell_type": "markdown",
      "metadata": {},
      "source": [
        "### Custom Exception"
      ]
    },
    {
      "cell_type": "code",
      "execution_count": 42,
      "metadata": {},
      "outputs": [
        {
          "name": "stdout",
          "output_type": "stream",
          "text": [
            "10000\n"
          ]
        }
      ],
      "source": [
        "income = int(input(\"Enter your salary : \"))\n",
        "print(income)"
      ]
    },
    {
      "cell_type": "code",
      "execution_count": 43,
      "metadata": {},
      "outputs": [],
      "source": [
        "def validate_salary(salary):\n",
        "    if salary <= 0:\n",
        "        print(\"Salary should not be negative.\")\n",
        "    elif salary >= 20000000:\n",
        "        print(\"Salary limit is unexpected.\")\n",
        "    else:\n",
        "        print(\"salary is valid.\")"
      ]
    },
    {
      "cell_type": "code",
      "execution_count": 44,
      "metadata": {},
      "outputs": [
        {
          "name": "stdout",
          "output_type": "stream",
          "text": [
            "Salary limit is unexpected.\n"
          ]
        }
      ],
      "source": [
        "validate_salary(5090090203029)"
      ]
    },
    {
      "cell_type": "code",
      "execution_count": 45,
      "metadata": {},
      "outputs": [
        {
          "name": "stdout",
          "output_type": "stream",
          "text": [
            "Salary should not be negative.\n"
          ]
        }
      ],
      "source": [
        "validate_salary(-374638764)"
      ]
    },
    {
      "cell_type": "code",
      "execution_count": 46,
      "metadata": {},
      "outputs": [
        {
          "name": "stdout",
          "output_type": "stream",
          "text": [
            "salary is valid.\n"
          ]
        }
      ],
      "source": [
        "validate_salary(632638)"
      ]
    },
    {
      "cell_type": "code",
      "execution_count": 2,
      "metadata": {},
      "outputs": [],
      "source": [
        "class ValidateSalary(Exception):  # Exception is the parent class\n",
        "    def __init__(self, msg):\n",
        "        self.msg = msg"
      ]
    },
    {
      "cell_type": "code",
      "execution_count": 3,
      "metadata": {},
      "outputs": [],
      "source": [
        "def validate_salary(salary):\n",
        "    if salary <= 0:\n",
        "        raise ValidateSalary(\"Salary should not be negative.\")\n",
        "    elif salary >= 20000000:\n",
        "        raise ValidateSalary(\"Salary limit is unexpected.\")\n",
        "    else:\n",
        "        print(\"salary is valid.\")"
      ]
    },
    {
      "cell_type": "code",
      "execution_count": 4,
      "metadata": {},
      "outputs": [
        {
          "name": "stdout",
          "output_type": "stream",
          "text": [
            "Salary :  287482749\n",
            "Salary limit is unexpected.\n"
          ]
        }
      ],
      "source": [
        "try:\n",
        "    salary = int(input(\"Enter salary : \"))\n",
        "    print(\"Salary : \",salary)\n",
        "    validate_salary(salary)\n",
        "except ValidateSalary as e:\n",
        "    print(e)"
      ]
    },
    {
      "cell_type": "code",
      "execution_count": null,
      "metadata": {},
      "outputs": [],
      "source": []
    }
  ],
  "metadata": {
    "colab": {
      "provenance": []
    },
    "kernelspec": {
      "display_name": "base",
      "language": "python",
      "name": "python3"
    },
    "language_info": {
      "codemirror_mode": {
        "name": "ipython",
        "version": 3
      },
      "file_extension": ".py",
      "mimetype": "text/x-python",
      "name": "python",
      "nbconvert_exporter": "python",
      "pygments_lexer": "ipython3",
      "version": "3.13.5"
    }
  },
  "nbformat": 4,
  "nbformat_minor": 0
}
