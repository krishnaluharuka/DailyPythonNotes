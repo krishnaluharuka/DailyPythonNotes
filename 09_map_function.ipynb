{
 "cells": [
  {
   "cell_type": "markdown",
   "id": "1e2037f1",
   "metadata": {
    "id": "0iGT23bjIj7-"
   },
   "source": [
    "# map function"
   ]
  },
  {
   "cell_type": "markdown",
   "id": "9c646887",
   "metadata": {
    "id": "04B6t9fEImhD"
   },
   "source": [
    "Executes the specified function for each of items of the iterable"
   ]
  },
  {
   "cell_type": "code",
   "execution_count": null,
   "id": "d1ac2ac1",
   "metadata": {
    "id": "XMf79W84IedL"
   },
   "outputs": [],
   "source": [
    "# syntax\n",
    "# map(func, *iterables)"
   ]
  },
  {
   "cell_type": "code",
   "execution_count": null,
   "id": "96bbcc22",
   "metadata": {
    "colab": {
     "base_uri": "https://localhost:8080/"
    },
    "id": "i3nMSSLLJMqW",
    "outputId": "b5e64371-afab-4da3-f4db-4d2460cd91da"
   },
   "outputs": [
    {
     "name": "stdout",
     "output_type": "stream",
     "text": [
      "Help on class map in module builtins:\n",
      "\n",
      "class map(object)\n",
      " |  map(func, *iterables) --> map object\n",
      " |  \n",
      " |  Make an iterator that computes the function using arguments from\n",
      " |  each of the iterables.  Stops when the shortest iterable is exhausted.\n",
      " |  \n",
      " |  Methods defined here:\n",
      " |  \n",
      " |  __getattribute__(self, name, /)\n",
      " |      Return getattr(self, name).\n",
      " |  \n",
      " |  __iter__(self, /)\n",
      " |      Implement iter(self).\n",
      " |  \n",
      " |  __next__(self, /)\n",
      " |      Implement next(self).\n",
      " |  \n",
      " |  __reduce__(...)\n",
      " |      Return state information for pickling.\n",
      " |  \n",
      " |  ----------------------------------------------------------------------\n",
      " |  Static methods defined here:\n",
      " |  \n",
      " |  __new__(*args, **kwargs)\n",
      " |      Create and return a new object.  See help(type) for accurate signature.\n",
      "\n"
     ]
    }
   ],
   "source": [
    "help(map)"
   ]
  },
  {
   "cell_type": "code",
   "execution_count": null,
   "id": "29147fb3",
   "metadata": {
    "id": "Sbfcu0XoJOWh"
   },
   "outputs": [],
   "source": [
    "l=[1,2,3,4,5]\n",
    "def sqr(l):\n",
    "    sq=[]\n",
    "    for i in l:\n",
    "        sq.append(i**2)\n",
    "    return sq"
   ]
  },
  {
   "cell_type": "code",
   "execution_count": null,
   "id": "9579ab5f",
   "metadata": {
    "colab": {
     "base_uri": "https://localhost:8080/"
    },
    "id": "QbFCA_BQJfSz",
    "outputId": "0effd8f4-ae99-448a-b1da-11dbb1546442"
   },
   "outputs": [
    {
     "data": {
      "text/plain": [
       "[1, 4, 9, 16, 25]"
      ]
     },
     "execution_count": 103,
     "metadata": {},
     "output_type": "execute_result"
    }
   ],
   "source": [
    "sqr(l)"
   ]
  },
  {
   "cell_type": "code",
   "execution_count": null,
   "id": "67c9db44",
   "metadata": {
    "id": "MzLubEoLJiB0"
   },
   "outputs": [],
   "source": [
    "def sq(x):\n",
    "    return x**2"
   ]
  },
  {
   "cell_type": "code",
   "execution_count": null,
   "id": "418596ce",
   "metadata": {
    "colab": {
     "base_uri": "https://localhost:8080/"
    },
    "id": "CUtIi9p_JmJd",
    "outputId": "539547be-0f0f-4eff-cae7-0ada38be8b5c"
   },
   "outputs": [
    {
     "data": {
      "text/plain": [
       "100"
      ]
     },
     "execution_count": 105,
     "metadata": {},
     "output_type": "execute_result"
    }
   ],
   "source": [
    "sq(10)"
   ]
  },
  {
   "cell_type": "code",
   "execution_count": null,
   "id": "34e9eaaf",
   "metadata": {
    "colab": {
     "base_uri": "https://localhost:8080/"
    },
    "id": "pRgTYDDzJndX",
    "outputId": "4bcc3fda-cfe1-4ed7-e2a6-a7864666bbef"
   },
   "outputs": [
    {
     "data": {
      "text/plain": [
       "<map at 0x7b445be8f310>"
      ]
     },
     "execution_count": 119,
     "metadata": {},
     "output_type": "execute_result"
    }
   ],
   "source": [
    "# map(func, iterables)\n",
    "map(sq,l)"
   ]
  }
 ],
 "metadata": {},
 "nbformat": 4,
 "nbformat_minor": 5
}
